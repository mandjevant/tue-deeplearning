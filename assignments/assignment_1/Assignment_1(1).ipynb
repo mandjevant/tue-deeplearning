{
 "cells": [
  {
   "cell_type": "markdown",
   "id": "06ab2292",
   "metadata": {
    "id": "06ab2292"
   },
   "source": [
    "<a href=\"https://colab.research.google.com/github/vlamen/tue-deeplearning/blob/main/assignments/assignment_1/Assignment_1.ipynb\" target=\"_parent\"><img src=\"https://colab.research.google.com/assets/colab-badge.svg\" alt=\"Open In Colab\"/></a>    "
   ]
  },
  {
   "cell_type": "markdown",
   "id": "b9b20982",
   "metadata": {
    "id": "b9b20982"
   },
   "source": [
    "# Group Number:37\n",
    "# Student 1: Jiong Li | 1533312\n",
    "# Student 2: Peter Elmers | 1734350\n",
    "# Student 3: P.T.C.M. Tholhuijsen | 1237447"
   ]
  },
  {
   "cell_type": "code",
   "execution_count": 1,
   "id": "b49fc2e3",
   "metadata": {
    "colab": {
     "base_uri": "https://localhost:8080/"
    },
    "executionInfo": {
     "elapsed": 3278,
     "status": "ok",
     "timestamp": 1652032698029,
     "user": {
      "displayName": "jiong li",
      "userId": "13989285017847251059"
     },
     "user_tz": -120
    },
    "id": "b49fc2e3",
    "outputId": "bcfe06b8-f81e-4297-f327-8f45bab97d51"
   },
   "outputs": [
    {
     "name": "stdout",
     "output_type": "stream",
     "text": [
      "%pylab is deprecated, use %matplotlib inline and import the required libraries.\n",
      "Populating the interactive namespace from numpy and matplotlib\n"
     ]
    }
   ],
   "source": [
    "import requests\n",
    "import io\n",
    "import torch\n",
    "import torch.nn as nn\n",
    "import torch.nn.functional as F\n",
    "import numpy as np\n",
    "%pylab inline"
   ]
  },
  {
   "cell_type": "markdown",
   "id": "25cfb295",
   "metadata": {
    "id": "25cfb295"
   },
   "source": [
    "### Training data set\n",
    "\n",
    "\n",
    "For Assignment 1 you need to use a specific data set prepared using images from the [Omniglot dataset](https://github.com/brendenlake/omniglot). The provided training data set contains images of handwritten characters of size (28,28). \n",
    "\n",
    "\n",
    "\n",
    "For training data, the dataset contains 10000 sets of 6 images each. Each set consists of 5 support images and 1 query image. In each set, the first five columns are support images and the last one is a query image.\n",
    "\n",
    "For training labels, the dataset contains 10000 sets of 5 binary flags for support images. 1 indicates the same character is given in the query image and 0 means not. For example, a label [1,0,0,1,1] means the support images with index 0,3,4 are the same character of query image.\n",
    "\n",
    " \n",
    " \n",
    "The following cell provides code that loads the data from hardcoded URLs.You can use the code in this cell to load the dataset or download the data set from the given URLs to your local drive (or your Google drive) and modify the code to load the data from another location. \n",
    "\n",
    "\n"
   ]
  },
  {
   "cell_type": "code",
   "execution_count": 2,
   "id": "f19f0a40",
   "metadata": {
    "colab": {
     "base_uri": "https://localhost:8080/"
    },
    "executionInfo": {
     "elapsed": 51480,
     "status": "ok",
     "timestamp": 1652032750828,
     "user": {
      "displayName": "jiong li",
      "userId": "13989285017847251059"
     },
     "user_tz": -120
    },
    "id": "f19f0a40",
    "outputId": "6f7d226d-784f-4f10-efa9-fb64d8dd8801"
   },
   "outputs": [
    {
     "name": "stdout",
     "output_type": "stream",
     "text": [
      "train_data shape: (10000, 6, 28, 28)\n",
      "train_label shape: (10000, 5)\n",
      "\n"
     ]
    }
   ],
   "source": [
    "def load_numpy_arr_from_url(url):\n",
    "    \"\"\"\n",
    "    Loads a numpy array from surfdrive. \n",
    "    \n",
    "    Input:\n",
    "    url: Download link of dataset \n",
    "    \n",
    "    Outputs:\n",
    "    dataset: numpy array with input features or labels\n",
    "    \"\"\"\n",
    "    \n",
    "    response = requests.get(url)\n",
    "    response.raise_for_status()\n",
    "\n",
    "    return np.load(io.BytesIO(response.content)) \n",
    "    \n",
    "    \n",
    "    \n",
    "#Downloading may take a while..\n",
    "train_data = load_numpy_arr_from_url('https://surfdrive.surf.nl/files/index.php/s/4OXkVie05NPjRKK/download')\n",
    "train_label = load_numpy_arr_from_url('https://surfdrive.surf.nl/files/index.php/s/oMLFw60zpFX82ua/download')\n",
    "\n",
    "print(f\"train_data shape: {train_data.shape}\")\n",
    "print(f\"train_label shape: {train_label.shape}\\n\")"
   ]
  },
  {
   "cell_type": "markdown",
   "id": "cb937392",
   "metadata": {
    "id": "cb937392"
   },
   "source": [
    "Now, we plot the first 5 cases in the training dataset. The last column corresponds with the query images of each task. All other images are support images. The image enclosed in a red box denotes the target image that your model should be able to recognize as the same class as the query image. "
   ]
  },
  {
   "cell_type": "code",
   "execution_count": 3,
   "id": "b1b4bd29",
   "metadata": {
    "executionInfo": {
     "elapsed": 24,
     "status": "ok",
     "timestamp": 1652032750830,
     "user": {
      "displayName": "jiong li",
      "userId": "13989285017847251059"
     },
     "user_tz": -120
    },
    "id": "b1b4bd29"
   },
   "outputs": [],
   "source": [
    "def plot_case(caseID,train_data,labels):\n",
    "    \"\"\"\n",
    "    Plots a single sample of the query dataset\n",
    "    \n",
    "    Inputs\n",
    "    caseID: Integer between 0 and 99, each corresponding to a single sample in the query dataset \n",
    "    \"\"\"\n",
    "    \n",
    "\n",
    "    support_set,queries = np.split(train_data, [5], axis=1)\n",
    "    \n",
    "    f, axes = plt.subplots(1, 6, figsize=(20,5))\n",
    "\n",
    "    # plot anchor image\n",
    "    axes[5].imshow(queries[caseID, 0])\n",
    "    axes[5].set_title(f\"Query image case {caseID}\", fontsize=15)\n",
    "\n",
    "    # show all test images images \n",
    "    [ax.imshow(support_set[caseID, i]) for i, ax in enumerate(axes[0:-1])]\n",
    "\n",
    "\n",
    "    # Add the patch to the Axes\n",
    "    for ind in np.where(labels[caseID]==True)[0]:\n",
    "        axes[ind].add_patch(Rectangle((0,0),27,27,linewidth=2, edgecolor='r',facecolor='none'))\n"
   ]
  },
  {
   "cell_type": "code",
   "execution_count": 4,
   "id": "03538ffb",
   "metadata": {
    "colab": {
     "base_uri": "https://localhost:8080/",
     "height": 586
    },
    "executionInfo": {
     "elapsed": 4759,
     "status": "ok",
     "timestamp": 1652032917289,
     "user": {
      "displayName": "jiong li",
      "userId": "13989285017847251059"
     },
     "user_tz": -120
    },
    "id": "03538ffb",
    "outputId": "d682cafb-20cf-471a-b2f8-b0937efa18b1"
   },
   "outputs": [
    {
     "data": {
      "image/png": "[encoded data removed]",
      "text/plain": [
       "<Figure size 1440x360 with 6 Axes>"
      ]
     },
     "metadata": {
      "needs_background": "light"
     },
     "output_type": "display_data"
    },
    {
     "data": {
      "image/png": "[encoded data removed]",
      "text/plain": [
       "<Figure size 1440x360 with 6 Axes>"
      ]
     },
     "metadata": {
      "needs_background": "light"
     },
     "output_type": "display_data"
    },
    {
     "data": {
      "image/png": "[encoded data removed]",
      "text/plain": [
       "<Figure size 1440x360 with 6 Axes>"
      ]
     },
     "metadata": {
      "needs_background": "light"
     },
     "output_type": "display_data"
    },
    {
     "data": {
      "image/png": "[encoded data removed]",
      "text/plain": [
       "<Figure size 1440x360 with 6 Axes>"
      ]
     },
     "metadata": {
      "needs_background": "light"
     },
     "output_type": "display_data"
    },
    {
     "data": {
      "image/png": "[encoded data removed]",
      "text/plain": [
       "<Figure size 1440x360 with 6 Axes>"
      ]
     },
     "metadata": {
      "needs_background": "light"
     },
     "output_type": "display_data"
    }
   ],
   "source": [
    "[plot_case(caseID,train_data,train_label) for caseID in range(5)] ;"
   ]
  },
  {
   "cell_type": "markdown",
   "id": "931f2383",
   "metadata": {
    "id": "931f2383"
   },
   "source": [
    "### Query data set\n",
    "\n",
    "For this task you need to use the following query data set. The dataset contains 1000 sets of 6 images each. The images are also of hand written characters, however these characters are not present in the training data set. The characters in the query data set all come from the Greek alphabet that is not part of the set of alphabets in the training data. \n"
   ]
  },
  {
   "cell_type": "code",
   "execution_count": 5,
   "id": "c9ba78dc",
   "metadata": {
    "colab": {
     "base_uri": "https://localhost:8080/"
    },
    "executionInfo": {
     "elapsed": 7825,
     "status": "ok",
     "timestamp": 1652032927948,
     "user": {
      "displayName": "jiong li",
      "userId": "13989285017847251059"
     },
     "user_tz": -120
    },
    "id": "c9ba78dc",
    "outputId": "11f8b709-0e5b-4a53-9ee4-41819c02e9c8"
   },
   "outputs": [
    {
     "name": "stdout",
     "output_type": "stream",
     "text": [
      "test_data shape: (1000, 6, 28, 28)\n",
      "test_label shape: (1000, 5)\n",
      "\n"
     ]
    }
   ],
   "source": [
    "    \n",
    "#Downloading may take a while..\n",
    "test_data = load_numpy_arr_from_url('https://surfdrive.surf.nl/files/index.php/s/06c34QVUr69CxWY/download')\n",
    "test_label = load_numpy_arr_from_url('https://surfdrive.surf.nl/files/index.php/s/LQIH1CW7lfDXevk/download')\n",
    "\n",
    "print(f\"test_data shape: {test_data.shape}\")\n",
    "print(f\"test_label shape: {test_label.shape}\\n\")"
   ]
  },
  {
   "cell_type": "code",
   "execution_count": 6,
   "id": "03fb3580",
   "metadata": {
    "colab": {
     "base_uri": "https://localhost:8080/",
     "height": 586
    },
    "executionInfo": {
     "elapsed": 4047,
     "status": "ok",
     "timestamp": 1652032931977,
     "user": {
      "displayName": "jiong li",
      "userId": "13989285017847251059"
     },
     "user_tz": -120
    },
    "id": "03fb3580",
    "outputId": "3351c25e-5f79-42d4-a440-5322e33d135b",
    "scrolled": false
   },
   "outputs": [
    {
     "data": {
      "image/png": "[encoded data removed]",
      "text/plain": [
       "<Figure size 1440x360 with 6 Axes>"
      ]
     },
     "metadata": {
      "needs_background": "light"
     },
     "output_type": "display_data"
    },
    {
     "data": {
      "image/png": "[encoded data removed]",
      "text/plain": [
       "<Figure size 1440x360 with 6 Axes>"
      ]
     },
     "metadata": {
      "needs_background": "light"
     },
     "output_type": "display_data"
    },
    {
     "data": {
      "image/png": "[encoded data removed]",
      "text/plain": [
       "<Figure size 1440x360 with 6 Axes>"
      ]
     },
     "metadata": {
      "needs_background": "light"
     },
     "output_type": "display_data"
    },
    {
     "data": {
      "image/png": "[encoded data removed]",
      "text/plain": [
       "<Figure size 1440x360 with 6 Axes>"
      ]
     },
     "metadata": {
      "needs_background": "light"
     },
     "output_type": "display_data"
    },
    {
     "data": {
      "image/png": "[encoded data removed]",
      "text/plain": [
       "<Figure size 1440x360 with 6 Axes>"
      ]
     },
     "metadata": {
      "needs_background": "light"
     },
     "output_type": "display_data"
    }
   ],
   "source": [
    "[plot_case(caseID,test_data,test_label) for caseID in range(5)] ;"
   ]
  },
  {
   "cell_type": "markdown",
   "id": "fcc32db2",
   "metadata": {
    "id": "fcc32db2"
   },
   "source": [
    "### Build pytorch dataset and dataload"
   ]
  },
  {
   "cell_type": "code",
   "execution_count": 7,
   "id": "fcf31f45",
   "metadata": {
    "executionInfo": {
     "elapsed": 364,
     "status": "ok",
     "timestamp": 1652032932312,
     "user": {
      "displayName": "jiong li",
      "userId": "13989285017847251059"
     },
     "user_tz": -120
    },
    "id": "fcf31f45"
   },
   "outputs": [],
   "source": [
    "import torch\n",
    "from torchvision import transforms\n",
    "from torch.utils.data import Dataset, DataLoader,TensorDataset\n",
    "import numpy as np\n",
    "from PIL import Image\n",
    "import random\n",
    "\n",
    "\n",
    "class MyDataset(Dataset):\n",
    "    def __init__(self, data, targets,transform = None):\n",
    "        self.data = torch.FloatTensor(data)\n",
    "        self.targets = torch.LongTensor(targets)\n",
    "        self.support_set,self.queries = np.split(self.data, [5], axis=1)\n",
    "        self.transform = transform\n",
    "\n",
    "        \n",
    "    def __getitem__(self, index):\n",
    "        idx = random.randint(0, len(self.data)-1)\n",
    "        img1 = self.queries[idx, 0]\n",
    "        img2 = None\n",
    "\n",
    "        # make sure that 50% for two same classes\n",
    "        if index % 2 == 1:\n",
    "            #get img from same class\n",
    "            label = 1.0\n",
    "            idx_true = np.where(self.targets[idx]==True)[0]\n",
    "            img2_idx = random.choice(idx_true)\n",
    "            img2 = self.data[idx][img2_idx]\n",
    "        else:\n",
    "            label = 0.0\n",
    "            idx_false = np.where(self.targets[idx]==False)[0]\n",
    "            img2_idx = random.choice(idx_false)\n",
    "            img2 = self.data[idx][img2_idx]\n",
    "        if self.transform:\n",
    "            img1 = self.transform(img1)\n",
    "            img2 = self.transform(img2)\n",
    "\n",
    "        return img1,img2,torch.from_numpy(np.array([label], dtype=np.float32))\n",
    "\n",
    "    def __len__(self):\n",
    "        return len(self.data)"
   ]
  },
  {
   "cell_type": "code",
   "execution_count": 8,
   "id": "FTWz5GrkxYni",
   "metadata": {
    "executionInfo": {
     "elapsed": 1346,
     "status": "ok",
     "timestamp": 1652032933652,
     "user": {
      "displayName": "jiong li",
      "userId": "13989285017847251059"
     },
     "user_tz": -120
    },
    "id": "FTWz5GrkxYni"
   },
   "outputs": [],
   "source": [
    "from sklearn.model_selection import train_test_split\n",
    "train_data, validation_data, train_label, validation_label = train_test_split(train_data, train_label, test_size=0.2)"
   ]
  },
  {
   "cell_type": "code",
   "execution_count": 9,
   "id": "d3d75da8",
   "metadata": {
    "executionInfo": {
     "elapsed": 368,
     "status": "ok",
     "timestamp": 1652032945581,
     "user": {
      "displayName": "jiong li",
      "userId": "13989285017847251059"
     },
     "user_tz": -120
    },
    "id": "d3d75da8"
   },
   "outputs": [],
   "source": [
    "# transform = transforms.Compose([transforms.ToTensor()])\n",
    "# Omniglot_transform = transforms.Compose([\n",
    "#         transforms.Resize((105, 105)),\n",
    "#         #transforms.Grayscale(3),\n",
    "#         #transforms.ToTensor(),\n",
    "#     ])\n",
    "train_dataset=MyDataset(train_data,train_label)\n",
    "validation_dataset=MyDataset(validation_data,validation_label)\n",
    "test_dataset=MyDataset(test_data,test_label)"
   ]
  },
  {
   "cell_type": "code",
   "execution_count": 13,
   "id": "d4c1bd77",
   "metadata": {
    "executionInfo": {
     "elapsed": 333,
     "status": "ok",
     "timestamp": 1652045784485,
     "user": {
      "displayName": "jiong li",
      "userId": "13989285017847251059"
     },
     "user_tz": -120
    },
    "id": "d4c1bd77"
   },
   "outputs": [],
   "source": [
    "train_loader = torch.utils.data.DataLoader(train_dataset,batch_size=10)\n",
    "validation_loader = torch.utils.data.DataLoader(validation_dataset, batch_size=10)\n",
    "test_loader = torch.utils.data.DataLoader(test_dataset, batch_size=10)"
   ]
  },
  {
   "cell_type": "code",
   "execution_count": 14,
   "id": "NtWFrFAynkgC",
   "metadata": {
    "colab": {
     "base_uri": "https://localhost:8080/",
     "height": 200
    },
    "executionInfo": {
     "elapsed": 30797,
     "status": "ok",
     "timestamp": 1652019437485,
     "user": {
      "displayName": "jiong li",
      "userId": "13989285017847251059"
     },
     "user_tz": -120
    },
    "id": "NtWFrFAynkgC",
    "outputId": "ca26357d-a444-4bea-c6b5-835e84a8bbef"
   },
   "outputs": [
    {
     "name": "stdout",
     "output_type": "stream",
     "text": [
      "torch.Size([28, 28])\n"
     ]
    },
    {
     "data": {
      "text/plain": [
       "Text(0.5, 1.0, 'True case')"
      ]
     },
     "execution_count": 14,
     "metadata": {},
     "output_type": "execute_result"
    },
    {
     "data": {
      "image/png": "[encoded data removed]",
      "text/plain": [
       "<Figure size 432x144 with 3 Axes>"
      ]
     },
     "metadata": {
      "needs_background": "light"
     },
     "output_type": "display_data"
    }
   ],
   "source": [
    "\"\"\" \n",
    "Test block\n",
    "This block is to test the preparation for the dataset\n",
    "\"\"\"\n",
    "\n",
    "support_set,queries = np.split(train_data, [5], axis=1)\n",
    "# queries[0,0].shape\n",
    "# train_data.shape[0]\n",
    "targets = train_dataset.targets\n",
    "data = train_dataset.data\n",
    "\n",
    "f, axes = plt.subplots(1, 3, figsize=(6,2))\n",
    "# plot anchor image\n",
    "axes[2].imshow(queries[1, 0])\n",
    "axes[2].set_title(f\"Query image case 1\", fontsize=15)\n",
    "\n",
    "idx_false = np.where(targets[1]==False)[0]\n",
    "img2_idx = random.choice(idx_false)\n",
    "img2 = data[1][img2_idx]\n",
    "print(img2.shape)\n",
    "\n",
    "idx_true = np.where(targets[1]==True)[0]\n",
    "img3_idx = random.choice(idx_true)\n",
    "img3 = data[1][img3_idx]\n",
    "\n",
    "axes[0].imshow(img2)\n",
    "axes[0].set_title(f\"False case\", fontsize=15)\n",
    "axes[1].imshow(img3)\n",
    "axes[1].set_title(f\"True case\", fontsize=15)"
   ]
  },
  {
   "cell_type": "code",
   "execution_count": 15,
   "id": "LDtA1vYe1m-_",
   "metadata": {
    "id": "LDtA1vYe1m-_"
   },
   "outputs": [
    {
     "data": {
      "text/plain": [
       "[tensor([[[1., 1., 1.,  ..., 1., 1., 1.],\n",
       "          [1., 1., 1.,  ..., 1., 1., 1.],\n",
       "          [1., 1., 1.,  ..., 1., 1., 1.],\n",
       "          ...,\n",
       "          [1., 1., 1.,  ..., 1., 1., 1.],\n",
       "          [1., 1., 1.,  ..., 1., 1., 1.],\n",
       "          [1., 1., 1.,  ..., 1., 1., 1.]],\n",
       " \n",
       "         [[1., 1., 1.,  ..., 1., 1., 1.],\n",
       "          [1., 1., 1.,  ..., 1., 1., 1.],\n",
       "          [1., 1., 1.,  ..., 1., 1., 1.],\n",
       "          ...,\n",
       "          [1., 1., 1.,  ..., 1., 1., 1.],\n",
       "          [1., 1., 1.,  ..., 1., 1., 1.],\n",
       "          [1., 1., 1.,  ..., 1., 1., 1.]],\n",
       " \n",
       "         [[1., 1., 1.,  ..., 1., 1., 1.],\n",
       "          [1., 1., 1.,  ..., 1., 1., 1.],\n",
       "          [1., 1., 1.,  ..., 1., 1., 1.],\n",
       "          ...,\n",
       "          [1., 1., 1.,  ..., 1., 1., 1.],\n",
       "          [1., 1., 1.,  ..., 1., 1., 1.],\n",
       "          [1., 1., 1.,  ..., 1., 1., 1.]],\n",
       " \n",
       "         ...,\n",
       " \n",
       "         [[1., 1., 1.,  ..., 1., 1., 1.],\n",
       "          [1., 1., 1.,  ..., 1., 1., 1.],\n",
       "          [1., 1., 1.,  ..., 1., 1., 1.],\n",
       "          ...,\n",
       "          [1., 1., 1.,  ..., 1., 1., 1.],\n",
       "          [1., 1., 1.,  ..., 1., 1., 1.],\n",
       "          [1., 1., 1.,  ..., 1., 1., 1.]],\n",
       " \n",
       "         [[1., 1., 1.,  ..., 1., 1., 1.],\n",
       "          [1., 1., 1.,  ..., 1., 1., 1.],\n",
       "          [1., 1., 1.,  ..., 1., 1., 1.],\n",
       "          ...,\n",
       "          [1., 1., 1.,  ..., 1., 1., 1.],\n",
       "          [1., 1., 1.,  ..., 1., 1., 1.],\n",
       "          [1., 1., 1.,  ..., 1., 1., 1.]],\n",
       " \n",
       "         [[1., 1., 1.,  ..., 1., 1., 1.],\n",
       "          [1., 1., 1.,  ..., 1., 1., 1.],\n",
       "          [1., 1., 1.,  ..., 1., 1., 1.],\n",
       "          ...,\n",
       "          [1., 1., 1.,  ..., 1., 1., 1.],\n",
       "          [1., 1., 1.,  ..., 1., 1., 1.],\n",
       "          [1., 1., 1.,  ..., 1., 1., 1.]]]),\n",
       " tensor([[[1., 1., 1.,  ..., 1., 1., 1.],\n",
       "          [1., 1., 1.,  ..., 1., 1., 1.],\n",
       "          [1., 1., 1.,  ..., 1., 1., 1.],\n",
       "          ...,\n",
       "          [1., 1., 1.,  ..., 1., 1., 1.],\n",
       "          [1., 1., 1.,  ..., 1., 1., 1.],\n",
       "          [1., 1., 1.,  ..., 1., 1., 1.]],\n",
       " \n",
       "         [[1., 1., 1.,  ..., 1., 1., 1.],\n",
       "          [1., 1., 1.,  ..., 1., 1., 1.],\n",
       "          [1., 1., 1.,  ..., 1., 1., 1.],\n",
       "          ...,\n",
       "          [1., 1., 1.,  ..., 1., 1., 1.],\n",
       "          [1., 1., 1.,  ..., 1., 1., 1.],\n",
       "          [1., 1., 1.,  ..., 1., 1., 1.]],\n",
       " \n",
       "         [[1., 1., 1.,  ..., 1., 1., 1.],\n",
       "          [1., 1., 1.,  ..., 1., 1., 1.],\n",
       "          [1., 1., 1.,  ..., 1., 1., 1.],\n",
       "          ...,\n",
       "          [1., 1., 1.,  ..., 1., 1., 1.],\n",
       "          [1., 1., 1.,  ..., 1., 1., 1.],\n",
       "          [1., 1., 1.,  ..., 1., 1., 1.]],\n",
       " \n",
       "         ...,\n",
       " \n",
       "         [[1., 1., 1.,  ..., 1., 1., 1.],\n",
       "          [1., 1., 1.,  ..., 1., 1., 1.],\n",
       "          [1., 1., 1.,  ..., 1., 1., 1.],\n",
       "          ...,\n",
       "          [1., 1., 1.,  ..., 1., 1., 1.],\n",
       "          [1., 1., 1.,  ..., 1., 1., 1.],\n",
       "          [1., 1., 1.,  ..., 1., 1., 1.]],\n",
       " \n",
       "         [[1., 1., 1.,  ..., 1., 1., 1.],\n",
       "          [1., 1., 1.,  ..., 1., 1., 1.],\n",
       "          [1., 1., 1.,  ..., 1., 1., 1.],\n",
       "          ...,\n",
       "          [1., 1., 1.,  ..., 1., 1., 1.],\n",
       "          [1., 1., 1.,  ..., 1., 1., 1.],\n",
       "          [1., 1., 1.,  ..., 1., 1., 1.]],\n",
       " \n",
       "         [[1., 1., 1.,  ..., 1., 1., 1.],\n",
       "          [1., 1., 1.,  ..., 1., 1., 1.],\n",
       "          [1., 1., 1.,  ..., 1., 1., 1.],\n",
       "          ...,\n",
       "          [1., 1., 1.,  ..., 1., 1., 1.],\n",
       "          [1., 1., 1.,  ..., 1., 1., 1.],\n",
       "          [1., 1., 1.,  ..., 1., 1., 1.]]]),\n",
       " tensor([[0.],\n",
       "         [1.],\n",
       "         [0.],\n",
       "         [1.],\n",
       "         [0.],\n",
       "         [1.],\n",
       "         [0.],\n",
       "         [1.],\n",
       "         [0.],\n",
       "         [1.]])]"
      ]
     },
     "execution_count": 15,
     "metadata": {},
     "output_type": "execute_result"
    }
   ],
   "source": [
    "next(iter(train_loader))"
   ]
  },
  {
   "cell_type": "code",
   "execution_count": 16,
   "id": "tturP1DK0Ddx",
   "metadata": {
    "colab": {
     "base_uri": "https://localhost:8080/",
     "height": 382
    },
    "executionInfo": {
     "elapsed": 1019,
     "status": "ok",
     "timestamp": 1651969321776,
     "user": {
      "displayName": "jiong li",
      "userId": "13989285017847251059"
     },
     "user_tz": -120
    },
    "id": "tturP1DK0Ddx",
    "outputId": "eb096cc5-1a9a-4e05-c2e1-2ecd81d6cf97"
   },
   "outputs": [
    {
     "name": "stdout",
     "output_type": "stream",
     "text": [
      "tensor([[0.],\n",
      "        [1.],\n",
      "        [0.],\n",
      "        [1.],\n",
      "        [0.],\n",
      "        [1.],\n",
      "        [0.],\n",
      "        [1.],\n",
      "        [0.],\n",
      "        [1.]])\n"
     ]
    },
    {
     "data": {
      "image/png": "[encoded data removed]",
      "text/plain": [
       "<Figure size 432x288 with 2 Axes>"
      ]
     },
     "metadata": {
      "needs_background": "light"
     },
     "output_type": "display_data"
    }
   ],
   "source": [
    "# showing a sample input of a training set\n",
    "count0 = 0\n",
    "count1 = 0\n",
    "for img1, img2, label in train_loader:\n",
    "    if label[1] == 1:\n",
    "        plt.subplot(1,2,1)\n",
    "        plt.imshow(img1[0])\n",
    "        plt.subplot(1,2,2)\n",
    "        plt.imshow(img2[0])\n",
    "        print(label)\n",
    "        break"
   ]
  },
  {
   "cell_type": "code",
   "execution_count": 17,
   "id": "a8ddcb05",
   "metadata": {
    "executionInfo": {
     "elapsed": 509,
     "status": "ok",
     "timestamp": 1652032693382,
     "user": {
      "displayName": "jiong li",
      "userId": "13989285017847251059"
     },
     "user_tz": -120
    },
    "id": "a8ddcb05"
   },
   "outputs": [],
   "source": [
    "from tqdm import tqdm"
   ]
  },
  {
   "cell_type": "code",
   "execution_count": 18,
   "id": "bhCEIxtgXfVQ",
   "metadata": {
    "colab": {
     "base_uri": "https://localhost:8080/"
    },
    "executionInfo": {
     "elapsed": 348,
     "status": "ok",
     "timestamp": 1652047492960,
     "user": {
      "displayName": "jiong li",
      "userId": "13989285017847251059"
     },
     "user_tz": -120
    },
    "id": "bhCEIxtgXfVQ",
    "outputId": "48cd0bc0-8d94-4331-f1c1-e978a2ce7f39"
   },
   "outputs": [
    {
     "name": "stdout",
     "output_type": "stream",
     "text": [
      "The model architecture:\n",
      "\n",
      " Model(\n",
      "  (conv1): Conv2d(10, 64, kernel_size=(10, 10), stride=(1, 1))\n",
      "  (conv2): Conv2d(64, 128, kernel_size=(7, 7), stride=(1, 1))\n",
      "  (conv3): Conv2d(128, 128, kernel_size=(4, 4), stride=(1, 1))\n",
      "  (conv4): Conv2d(128, 256, kernel_size=(4, 4), stride=(1, 1))\n",
      "  (bn1): BatchNorm2d(64, eps=1e-05, momentum=0.1, affine=True, track_running_stats=True)\n",
      "  (bn2): BatchNorm2d(128, eps=1e-05, momentum=0.1, affine=True, track_running_stats=True)\n",
      "  (fc1): Linear(in_features=128, out_features=4096, bias=True)\n",
      "  (fcOut): Linear(in_features=4096, out_features=10, bias=True)\n",
      "  (sigmoid): Sigmoid()\n",
      ")\n",
      "\n",
      "The model has 1,822,154 trainable parameters\n"
     ]
    },
    {
     "name": "stderr",
     "output_type": "stream",
     "text": [
      "C:\\Users\\Pim\\AppData\\Local\\Temp\\ipykernel_27384\\3244265536.py:76: DeprecationWarning: Calling np.sum(generator) is deprecated, and in the future will give a different result. Use np.sum(np.fromiter(generator)) or the python sum builtin instead.\n",
      "  temp = sum(p.numel() for p in model.parameters() if p.requires_grad)\n"
     ]
    }
   ],
   "source": [
    "# The model\n",
    "import torch.nn as nn\n",
    "import torch.nn.functional as F\n",
    "\n",
    "class Model(nn.Module):\n",
    "    def __init__(self):\n",
    "        super(Model, self).__init__()\n",
    "\n",
    "        self.conv1 = nn.Conv2d(10, 64, 10) \n",
    "        self.conv2 = nn.Conv2d(64, 128, 7)  \n",
    "        self.conv3 = nn.Conv2d(128, 128, 4)\n",
    "        self.conv4 = nn.Conv2d(128, 256, 4)\n",
    "        self.bn1 = nn.BatchNorm2d(64)\n",
    "        self.bn2 = nn.BatchNorm2d(128)\n",
    "        # self.bn3 = nn.BatchNorm2d(128)\n",
    "        # self.bn4 = nn.BatchNorm2d(256)\n",
    "        # self.dropout1 = nn.Dropout(0.1)\n",
    "        # self.dropout2 = nn.Dropout(0.5)\n",
    "        self.fc1 = nn.Linear(128, 4096)\n",
    "        self.fcOut = nn.Linear(4096, 10)\n",
    "        self.sigmoid = nn.Sigmoid()\n",
    "        \n",
    "\n",
    "    def convs(self, x):\n",
    "\n",
    "        # Koch et al.\n",
    "        # out_dim = in_dim - kernel_size + 1  \n",
    "        #1, 105, 105\n",
    "        x = F.relu(self.bn1(self.conv1(x)))\n",
    "        # 64, 96, 96\n",
    "        x = F.max_pool2d(x, (2,2))\n",
    "        # 64, 48, 48\n",
    "        x = F.relu(self.bn2(self.conv2(x)))\n",
    "        # 128, 42, 42\n",
    "        x = F.max_pool2d(x, (2,2))\n",
    "        # 128, 21, 21\n",
    "        # x = F.relu(self.bn3(self.conv3(x)))\n",
    "        # 128, 18, 18\n",
    "        # x = F.max_pool2d(x, (2,2))\n",
    "        # 128, 9, 9\n",
    "        # x = F.relu(self.bn4(self.conv4(x)))\n",
    "        # 256, 6, 6\n",
    "        return x\n",
    "\n",
    "    def forward(self, x1, x2):\n",
    "        x1 = torch.unsqueeze(x1, dim=0)\n",
    "        x2 = torch.unsqueeze(x2, dim=0)\n",
    "        x1 = self.convs(x1)\n",
    "\n",
    "        # Koch et al.\n",
    "        x1 = x1.view(x1.size()[0],-1)\n",
    "        x1 = self.sigmoid(self.fc1(x1))\n",
    "\n",
    "        # VGG16\n",
    "        # x1 = x1.view(-1, 256 * 8 * 8)\n",
    "        # x1 = self.fc1(x1)\n",
    "        # x1 = self.sigmoid(self.fc2(x1))\n",
    "        \n",
    "        x2 = self.convs(x2)\n",
    "\n",
    "        # Koch et al.\n",
    "        x2 = x2.view(x2.size()[0],-1)\n",
    "        x2 = self.sigmoid(self.fc1(x2))\n",
    "\n",
    "        # VGG16\n",
    "        # x2 = x2.view(-1, 256 * 8 * 8)\n",
    "        # x2 = self.fc1(x2)\n",
    "        # x2 = self.sigmoid(self.fc2(x2))\n",
    "\n",
    "        x = torch.abs(x1 - x2)\n",
    "        x = self.fcOut(x)\n",
    "        return x\n",
    "\n",
    "model = Model()\n",
    "def count_parameters(model):\n",
    "    temp = sum(p.numel() for p in model.parameters() if p.requires_grad)\n",
    "    print(f'The model architecture:\\n\\n', model)\n",
    "    print(f'\\nThe model has {temp:,} trainable parameters')\n",
    "    \n",
    "count_parameters(model)"
   ]
  },
  {
   "cell_type": "code",
   "execution_count": 98,
   "id": "50TqzjocvvFT",
   "metadata": {
    "executionInfo": {
     "elapsed": 368,
     "status": "ok",
     "timestamp": 1652049485761,
     "user": {
      "displayName": "jiong li",
      "userId": "13989285017847251059"
     },
     "user_tz": -120
    },
    "id": "50TqzjocvvFT"
   },
   "outputs": [],
   "source": [
    "class Model_v2(nn.Module):\n",
    "    def __init__(self):\n",
    "        super(Model_v2, self).__init__()\n",
    "\n",
    "        self.conv = nn.Sequential(\n",
    "            nn.Conv2d(10, 64, kernel_size=5),\n",
    "            nn.BatchNorm2d(64),\n",
    "            nn.ReLU(inplace=True),\n",
    "            nn.MaxPool2d(2,2),  # 64@48*48\n",
    "            nn.Conv2d(64, 128, 5),\n",
    "            nn.BatchNorm2d(128),\n",
    "            nn.ReLU(),    # 128@42*42\n",
    "            nn.MaxPool2d(2,2),   # 128@21*21\n",
    "            \n",
    "            # nn.Conv2d(320,50),\n",
    "            # nn.ReLU(), # 128@18*18\n",
    "            # nn.MaxPool2d(2), # 128@9*9\n",
    "            # nn.Conv2d(128, 256, 4),\n",
    "            # nn.ReLU(),   # 256@6*6\n",
    "        )\n",
    "        self.liner = nn.Sequential(nn.Linear(2048, 2096), nn.Sigmoid())\n",
    "        self.out = nn.Linear(2096, 10)\n",
    "        \n",
    "\n",
    "    def forward_once(self, x):\n",
    "        x = self.conv(x)\n",
    "        x = x.view(x.size()[0], -1)\n",
    "        x = self.liner(x)\n",
    "        return x\n",
    "\n",
    "    def forward(self, input1, input2):\n",
    "        input1 = torch.unsqueeze(input1, dim=0)\n",
    "        input2 = torch.unsqueeze(input2, dim=0)\n",
    "        \n",
    "        out1 = self.forward_once(input1)\n",
    "        out2 = self.forward_once(input2)\n",
    "        dis = torch.abs(out1 - out2)\n",
    "        out = self.out(dis)\n",
    "        #  return self.sigmoid(out)\n",
    "        return out\n",
    "model_v2 = Model_v2()"
   ]
  },
  {
   "cell_type": "code",
   "execution_count": 99,
   "id": "NjH87NWZbRkt",
   "metadata": {
    "executionInfo": {
     "elapsed": 402,
     "status": "ok",
     "timestamp": 1652047619104,
     "user": {
      "displayName": "jiong li",
      "userId": "13989285017847251059"
     },
     "user_tz": -120
    },
    "id": "NjH87NWZbRkt"
   },
   "outputs": [],
   "source": [
    "# The optimizer\n",
    "from torch.optim import Adam\n",
    "\n",
    "optimizer = Adam(model_v2.parameters(), lr=0.000005)"
   ]
  },
  {
   "cell_type": "code",
   "execution_count": 21,
   "id": "grnhMtg9bT1k",
   "metadata": {
    "executionInfo": {
     "elapsed": 429,
     "status": "ok",
     "timestamp": 1652041417226,
     "user": {
      "displayName": "jiong li",
      "userId": "13989285017847251059"
     },
     "user_tz": -120
    },
    "id": "grnhMtg9bT1k"
   },
   "outputs": [],
   "source": [
    "# The loss function\n",
    "loss_func = nn.BCEWithLogitsLoss()"
   ]
  },
  {
   "cell_type": "code",
   "execution_count": 75,
   "id": "OEVqZ53FbVO0",
   "metadata": {
    "executionInfo": {
     "elapsed": 8,
     "status": "ok",
     "timestamp": 1652041418478,
     "user": {
      "displayName": "jiong li",
      "userId": "13989285017847251059"
     },
     "user_tz": -120
    },
    "id": "OEVqZ53FbVO0"
   },
   "outputs": [],
   "source": [
    "# Check if the GPU is available\n",
    "if torch.cuda.is_available():\n",
    "    model = model.cuda()\n",
    "    loss_func = loss_func.cuda()"
   ]
  },
  {
   "cell_type": "code",
   "execution_count": 68,
   "id": "CnulVuM5bXYo",
   "metadata": {
    "executionInfo": {
     "elapsed": 7,
     "status": "ok",
     "timestamp": 1652041420951,
     "user": {
      "displayName": "jiong li",
      "userId": "13989285017847251059"
     },
     "user_tz": -120
    },
    "id": "CnulVuM5bXYo"
   },
   "outputs": [],
   "source": [
    "def loss_batch(outputs, yb,loss_func, opt=None):\n",
    "    # outputs = torch.squeeze(outputs)# x.view(x.size(0), -1)\n",
    "    # outputs = torch.unsqueeze(outputs, dim=1)\n",
    "    loss = loss_func(outputs,yb)\n",
    "    loss = torch.autograd.Variable(loss, requires_grad=True)\n",
    "    \n",
    "    if opt is not None:\n",
    "        loss.backward()\n",
    "        opt.step()\n",
    "        opt.zero_grad()\n",
    "        \n",
    "    return loss.item(),len(yb)"
   ]
  },
  {
   "cell_type": "code",
   "execution_count": 76,
   "id": "CorNFRmEbc2Z",
   "metadata": {
    "executionInfo": {
     "elapsed": 426,
     "status": "ok",
     "timestamp": 1652047713198,
     "user": {
      "displayName": "jiong li",
      "userId": "13989285017847251059"
     },
     "user_tz": -120
    },
    "id": "CorNFRmEbc2Z"
   },
   "outputs": [],
   "source": [
    "# Fitting/Training the model\n",
    "train_loss_list, val_loss_list = list(), list()\n",
    "\n",
    "def fit(epochs, model, loss_func, train_loader, val_loader, opt):\n",
    "    for epoch in tqdm(range(epochs)):\n",
    "        opt.zero_grad()\n",
    "        model.train()\n",
    "        \n",
    "        running_loss = 0.0\n",
    "        sample_num=0\n",
    "        for img1,img2, yb in train_loader:\n",
    "            if torch.cuda.is_available():\n",
    "                img1 = img1.cuda()\n",
    "                img2 = img2.cuda()\n",
    "                yb = yb.cuda()\n",
    "            \n",
    "            outputs = model(img1,img2)\n",
    "            # losses, nums = loss_batch(outputs, yb, opt)\n",
    "            # running_loss += losses\n",
    "            # sample_num += nums\n",
    "            \n",
    "            # print(outputs, yb)\n",
    "            loss = loss_func(outputs.T,yb)\n",
    "\n",
    "            # Backward and optimize\n",
    "            optimizer.zero_grad()\n",
    "            loss.backward()\n",
    "            optimizer.step()\n",
    "            running_loss += loss.item()\n",
    "            \n",
    "            \n",
    "        train_loss = running_loss / len(train_loader)\n",
    "        train_loss_list.append(train_loss)\n",
    "            \n",
    "        model.eval()\n",
    "        with torch.no_grad():\n",
    "            running_loss = 0.0\n",
    "            sample_num=0\n",
    "            for img1,img2, yb in val_loader:\n",
    "                if torch.cuda.is_available():\n",
    "                    img1 = img1.cuda()\n",
    "                    img2 = img2.cuda()\n",
    "                    yb = yb.cuda()\n",
    "                outputs = model(img1,img2)\n",
    "                # losses, nums = loss_batch(outputs, yb)\n",
    "                # running_loss += losses\n",
    "                # sample_num += nums\n",
    "                loss = loss_func(outputs.T, yb)\n",
    "                running_loss += loss.item()\n",
    "                                \n",
    "            val_loss = running_loss / len(val_loader)\n",
    "            val_loss_list.append(val_loss)\n",
    "                \n",
    "        print(f'EPOCH: {epoch+1:0>{len(str(epochs))}}/{epochs}', end=' ')\n",
    "        print(f\"Train loss: {train_loss:.4f}, Val loss: {val_loss:.4f}\", end=\"\\n\")"
   ]
  },
  {
   "cell_type": "code",
   "execution_count": 101,
   "id": "HDt5V1KGcfLA",
   "metadata": {
    "colab": {
     "base_uri": "https://localhost:8080/"
    },
    "executionInfo": {
     "elapsed": 263631,
     "status": "ok",
     "timestamp": 1652047979585,
     "user": {
      "displayName": "jiong li",
      "userId": "13989285017847251059"
     },
     "user_tz": -120
    },
    "id": "HDt5V1KGcfLA",
    "outputId": "760eb836-8715-422e-ba7c-2ab7c6783dfb"
   },
   "outputs": [],
   "source": [
    "# epochs = 10\n",
    "# fit(epochs, model, loss_func, train_loader, validation_loader, optimizer)"
   ]
  },
  {
   "cell_type": "code",
   "execution_count": 102,
   "id": "uhOIctrPwBSr",
   "metadata": {
    "colab": {
     "base_uri": "https://localhost:8080/"
    },
    "executionInfo": {
     "elapsed": 521519,
     "status": "ok",
     "timestamp": 1652050013159,
     "user": {
      "displayName": "jiong li",
      "userId": "13989285017847251059"
     },
     "user_tz": -120
    },
    "id": "uhOIctrPwBSr",
    "outputId": "7b011a7e-2598-4cce-ad11-60ab18855040"
   },
   "outputs": [
    {
     "name": "stderr",
     "output_type": "stream",
     "text": [
      " 10%|████████▎                                                                          | 1/10 [00:05<00:47,  5.32s/it]"
     ]
    },
    {
     "name": "stdout",
     "output_type": "stream",
     "text": [
      "EPOCH: 01/10 Train loss: 0.5460, Val loss: 0.4103\n"
     ]
    },
    {
     "name": "stderr",
     "output_type": "stream",
     "text": [
      "\r",
      " 20%|████████████████▌                                                                  | 2/10 [00:10<00:41,  5.19s/it]"
     ]
    },
    {
     "name": "stdout",
     "output_type": "stream",
     "text": [
      "EPOCH: 02/10 Train loss: 0.3262, Val loss: 0.2449\n"
     ]
    },
    {
     "name": "stderr",
     "output_type": "stream",
     "text": [
      "\r",
      " 30%|████████████████████████▉                                                          | 3/10 [00:15<00:35,  5.14s/it]"
     ]
    },
    {
     "name": "stdout",
     "output_type": "stream",
     "text": [
      "EPOCH: 03/10 Train loss: 0.1999, Val loss: 0.1512\n"
     ]
    },
    {
     "name": "stderr",
     "output_type": "stream",
     "text": [
      "\r",
      " 40%|█████████████████████████████████▏                                                 | 4/10 [00:20<00:31,  5.17s/it]"
     ]
    },
    {
     "name": "stdout",
     "output_type": "stream",
     "text": [
      "EPOCH: 04/10 Train loss: 0.1236, Val loss: 0.0923\n"
     ]
    },
    {
     "name": "stderr",
     "output_type": "stream",
     "text": [
      "\r",
      " 50%|█████████████████████████████████████████▌                                         | 5/10 [00:26<00:26,  5.21s/it]"
     ]
    },
    {
     "name": "stdout",
     "output_type": "stream",
     "text": [
      "EPOCH: 05/10 Train loss: 0.0774, Val loss: 0.0594\n"
     ]
    },
    {
     "name": "stderr",
     "output_type": "stream",
     "text": [
      "\r",
      " 60%|█████████████████████████████████████████████████▊                                 | 6/10 [00:31<00:20,  5.18s/it]"
     ]
    },
    {
     "name": "stdout",
     "output_type": "stream",
     "text": [
      "EPOCH: 06/10 Train loss: 0.0485, Val loss: 0.0340\n"
     ]
    },
    {
     "name": "stderr",
     "output_type": "stream",
     "text": [
      "\r",
      " 70%|██████████████████████████████████████████████████████████                         | 7/10 [00:36<00:15,  5.16s/it]"
     ]
    },
    {
     "name": "stdout",
     "output_type": "stream",
     "text": [
      "EPOCH: 07/10 Train loss: 0.0306, Val loss: 0.0218\n"
     ]
    },
    {
     "name": "stderr",
     "output_type": "stream",
     "text": [
      "\r",
      " 80%|██████████████████████████████████████████████████████████████████▍                | 8/10 [00:41<00:10,  5.17s/it]"
     ]
    },
    {
     "name": "stdout",
     "output_type": "stream",
     "text": [
      "EPOCH: 08/10 Train loss: 0.0192, Val loss: 0.0155\n"
     ]
    },
    {
     "name": "stderr",
     "output_type": "stream",
     "text": [
      "\r",
      " 90%|██████████████████████████████████████████████████████████████████████████▋        | 9/10 [00:46<00:05,  5.22s/it]"
     ]
    },
    {
     "name": "stdout",
     "output_type": "stream",
     "text": [
      "EPOCH: 09/10 Train loss: 0.0122, Val loss: 0.0097\n"
     ]
    },
    {
     "name": "stderr",
     "output_type": "stream",
     "text": [
      "100%|██████████████████████████████████████████████████████████████████████████████████| 10/10 [00:51<00:00,  5.19s/it]"
     ]
    },
    {
     "name": "stdout",
     "output_type": "stream",
     "text": [
      "EPOCH: 10/10 Train loss: 0.0077, Val loss: 0.0056\n"
     ]
    },
    {
     "name": "stderr",
     "output_type": "stream",
     "text": [
      "\n"
     ]
    }
   ],
   "source": [
    "model_v2 = model_v2.cuda()\n",
    "epochs = 10\n",
    "fit(epochs, model_v2, loss_func, train_loader, validation_loader, optimizer)"
   ]
  },
  {
   "cell_type": "code",
   "execution_count": 59,
   "id": "f6c650bf",
   "metadata": {},
   "outputs": [],
   "source": [
    "# Fitting/Training the model\n",
    "test_loss_list = list()\n",
    "\n",
    "def test(model, loss_func, test_loader):\n",
    "    model.train()\n",
    "\n",
    "    running_loss = 0.0\n",
    "    for img1, img2, yb in test_loader:\n",
    "        if torch.cuda.is_available():\n",
    "            img1 = img1.cuda()\n",
    "            img2 = img2.cuda()\n",
    "            yb = yb.cuda()\n",
    "\n",
    "        outputs = model(img1, img2)\n",
    "        # losses, nums = loss_batch(outputs, yb, opt)\n",
    "        # running_loss += losses\n",
    "        # sample_num += nums\n",
    "        loss = loss_func(outputs.T,yb)\n",
    "\n",
    "        running_loss += loss.item()\n",
    "        test_loss_list.append(loss.item())\n",
    "        \n",
    "    print(f\"running_loss: {running_loss}, len(test_loader): {len(test_loader)}\")\n",
    "    test_loss = running_loss / len(test_loader)\n",
    "    \n",
    "    print(f\"Test loss: {test_loss:.4f}\", end=\"\\n\")\n",
    "    \n",
    "    return test_loss_list\n",
    "            "
   ]
  },
  {
   "cell_type": "code",
   "execution_count": 60,
   "id": "53aad2ef",
   "metadata": {},
   "outputs": [
    {
     "name": "stdout",
     "output_type": "stream",
     "text": [
      "running_loss: 0.0, len(test_loader): 100\n",
      "Test loss: 0.0000\n"
     ]
    }
   ],
   "source": [
    "test_losses = test(model, loss_func, test_loader)"
   ]
  },
  {
   "cell_type": "code",
   "execution_count": 61,
   "id": "e5646da1",
   "metadata": {},
   "outputs": [
    {
     "data": {
      "image/png": "[encoded data removed]",
      "text/plain": [
       "<Figure size 432x288 with 1 Axes>"
      ]
     },
     "metadata": {
      "needs_background": "light"
     },
     "output_type": "display_data"
    }
   ],
   "source": [
    "import matplotlib.pyplot as plt\n",
    "plt.plot([i for i in range(len(train_loss_list))], train_loss_list)\n",
    "plt.show()"
   ]
  },
  {
   "cell_type": "code",
   "execution_count": 103,
   "id": "445754f7",
   "metadata": {},
   "outputs": [
    {
     "name": "stdout",
     "output_type": "stream",
     "text": [
      "running_loss: 0.538065864588134, len(test_loader): 100\n",
      "Test loss: 0.0054\n"
     ]
    }
   ],
   "source": [
    "test_losses_v2 = test(model_v2, loss_func, test_loader)"
   ]
  },
  {
   "cell_type": "code",
   "execution_count": 104,
   "id": "d345d515",
   "metadata": {},
   "outputs": [
    {
     "data": {
      "image/png": "[encoded data removed]",
      "text/plain": [
       "<Figure size 432x288 with 1 Axes>"
      ]
     },
     "metadata": {
      "needs_background": "light"
     },
     "output_type": "display_data"
    }
   ],
   "source": [
    "import matplotlib.pyplot as abc\n",
    "abc.plot([i for i in range(len(test_losses_v2))], test_losses_v2)\n",
    "abc.show()"
   ]
  },
  {
   "cell_type": "code",
   "execution_count": 105,
   "id": "912c2187",
   "metadata": {},
   "outputs": [
    {
     "data": {
      "image/png": "[encoded data removed]",
      "text/plain": [
       "<Figure size 432x288 with 1 Axes>"
      ]
     },
     "metadata": {
      "needs_background": "light"
     },
     "output_type": "display_data"
    }
   ],
   "source": [
    "import matplotlib.pyplot as abc\n",
    "abc.plot([i for i in range(len(train_loss_list))], train_loss_list, label=\"train_loss\")\n",
    "# abc.plot([i for i in range(len(val_loss_list))], val_loss_list, label=\"val_loss\")\n",
    "abc.show()"
   ]
  },
  {
   "cell_type": "code",
   "execution_count": 106,
   "id": "8fea6e14",
   "metadata": {},
   "outputs": [
    {
     "data": {
      "image/png": "[encoded data removed]",
      "text/plain": [
       "<Figure size 432x288 with 1 Axes>"
      ]
     },
     "metadata": {
      "needs_background": "light"
     },
     "output_type": "display_data"
    }
   ],
   "source": [
    "import matplotlib.pyplot as abc\n",
    "abc.plot([i for i in range(len(val_loss_list))], val_loss_list, label=\"val_loss\")\n",
    "abc.show()"
   ]
  },
  {
   "cell_type": "code",
   "execution_count": null,
   "id": "1f38e519",
   "metadata": {
    "id": "1f38e519"
   },
   "outputs": [],
   "source": [
    "## Task  ##"
   ]
  },
  {
   "cell_type": "code",
   "execution_count": null,
   "id": "0b6fdfee",
   "metadata": {
    "id": "0b6fdfee"
   },
   "outputs": [],
   "source": [
    "## Model Definition ##"
   ]
  },
  {
   "cell_type": "code",
   "execution_count": null,
   "id": "93e6f3fb",
   "metadata": {
    "id": "93e6f3fb"
   },
   "outputs": [],
   "source": [
    "## LOSS Definition ##"
   ]
  },
  {
   "cell_type": "code",
   "execution_count": null,
   "id": "5f1a9501",
   "metadata": {
    "id": "5f1a9501"
   },
   "outputs": [],
   "source": [
    "## Build Sample Selector ##"
   ]
  },
  {
   "cell_type": "code",
   "execution_count": null,
   "id": "d2c8f9a6",
   "metadata": {
    "id": "d2c8f9a6"
   },
   "outputs": [],
   "source": [
    "## Training ##"
   ]
  },
  {
   "cell_type": "code",
   "execution_count": null,
   "id": "64252d3e",
   "metadata": {
    "id": "64252d3e"
   },
   "outputs": [],
   "source": [
    "## Evaluation ##"
   ]
  }
 ],
 "metadata": {
  "colab": {
   "collapsed_sections": [],
   "name": "Assignment_1.ipynb",
   "provenance": []
  },
  "kernelspec": {
   "display_name": "Python 3 (ipykernel)",
   "language": "python",
   "name": "python3"
  },
  "language_info": {
   "codemirror_mode": {
    "name": "ipython",
    "version": 3
   },
   "file_extension": ".py",
   "mimetype": "text/x-python",
   "name": "python",
   "nbconvert_exporter": "python",
   "pygments_lexer": "ipython3",
   "version": "3.9.12"
  }
 },
 "nbformat": 4,
 "nbformat_minor": 5
}

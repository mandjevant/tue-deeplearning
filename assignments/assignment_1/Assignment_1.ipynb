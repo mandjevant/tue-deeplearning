{
 "cells": [
  {
   "cell_type": "markdown",
   "id": "06ab2292",
   "metadata": {},
   "source": [
    "<a href=\"https://colab.research.google.com/github/vlamen/tue-deeplearning/blob/main/assignments/assignment_1/Assignment_1.ipynb\" target=\"_parent\"><img src=\"https://colab.research.google.com/assets/colab-badge.svg\" alt=\"Open In Colab\"/></a>    "
   ]
  },
  {
   "cell_type": "markdown",
   "id": "b9b20982",
   "metadata": {},
   "source": [
    "# Group Number: 37\n",
    "# Student 1: Jiong Li | 1533312\n",
    "# Student 2: Peter Elmers | 1734350\n",
    "# Student 3: P.T.C.M. Tholhuijsen | 1237447"
   ]
  },
  {
   "cell_type": "code",
   "execution_count": 1,
   "id": "b49fc2e3",
   "metadata": {},
   "outputs": [
    {
     "name": "stdout",
     "output_type": "stream",
     "text": [
      "%pylab is deprecated, use %matplotlib inline and import the required libraries.\n",
      "Populating the interactive namespace from numpy and matplotlib\n"
     ]
    }
   ],
   "source": [
    "import requests\n",
    "import io\n",
    "import torch\n",
    "import torch.nn as nn\n",
    "import torch.nn.functional as F\n",
    "import numpy as np\n",
    "%pylab inline"
   ]
  },
  {
   "cell_type": "markdown",
   "id": "25cfb295",
   "metadata": {},
   "source": [
    "### Training data set\n",
    "\n",
    "\n",
    "For Assignment 1 you need to use a specific data set prepared using images from the [Omniglot dataset](https://github.com/brendenlake/omniglot). The provided training data set contains images of handwritten characters of size (28,28). \n",
    "\n",
    "\n",
    "\n",
    "For training data, the dataset contains 10000 sets of 6 images each. Each set consists of 5 support images and 1 query image. In each set, the first five columns are support images and the last one is a query image.\n",
    "\n",
    "For training labels, the dataset contains 10000 sets of 5 binary flags for support images. 1 indicates the same character is given in the query image and 0 means not. For example, a label [1,0,0,1,1] means the support images with index 0,3,4 are the same character of query image.\n",
    "\n",
    " \n",
    " \n",
    "The following cell provides code that loads the data from hardcoded URLs.You can use the code in this cell to load the dataset or download the data set from the given URLs to your local drive (or your Google drive) and modify the code to load the data from another location. \n",
    "\n",
    "\n"
   ]
  },
  {
   "cell_type": "code",
   "execution_count": 2,
   "id": "f19f0a40",
   "metadata": {},
   "outputs": [
    {
     "name": "stdout",
     "output_type": "stream",
     "text": [
      "train_data shape: (10000, 6, 28, 28)\n",
      "train_label shape: (10000, 5)\n",
      "\n"
     ]
    }
   ],
   "source": [
    "def load_numpy_arr_from_url(url):\n",
    "    \"\"\"\n",
    "    Loads a numpy array from surfdrive. \n",
    "    \n",
    "    Input:\n",
    "    url: Download link of dataset \n",
    "    \n",
    "    Outputs:\n",
    "    dataset: numpy array with input features or labels\n",
    "    \"\"\"\n",
    "    \n",
    "    response = requests.get(url)\n",
    "    response.raise_for_status()\n",
    "\n",
    "    return np.load(io.BytesIO(response.content)) \n",
    "    \n",
    "    \n",
    "    \n",
    "#Downloading may take a while..\n",
    "train_data = load_numpy_arr_from_url('https://surfdrive.surf.nl/files/index.php/s/4OXkVie05NPjRKK/download')\n",
    "train_label = load_numpy_arr_from_url('https://surfdrive.surf.nl/files/index.php/s/oMLFw60zpFX82ua/download')\n",
    "\n",
    "print(f\"train_data shape: {train_data.shape}\")\n",
    "print(f\"train_label shape: {train_label.shape}\\n\")"
   ]
  },
  {
   "cell_type": "markdown",
   "id": "cb937392",
   "metadata": {},
   "source": [
    "Now, we plot the first 5 cases in the training dataset. The last column corresponds with the query images of each task. All other images are support images. The image enclosed in a red box denotes the target image that your model should be able to recognize as the same class as the query image. "
   ]
  },
  {
   "cell_type": "code",
   "execution_count": 3,
   "id": "b1b4bd29",
   "metadata": {},
   "outputs": [],
   "source": [
    "def plot_case(caseID,train_data,labels):\n",
    "    \"\"\"\n",
    "    Plots a single sample of the query dataset\n",
    "    \n",
    "    Inputs\n",
    "    caseID: Integer between 0 and 99, each corresponding to a single sample in the query dataset \n",
    "    \"\"\"\n",
    "    \n",
    "\n",
    "    support_set,queries = np.split(train_data, [5], axis=1)\n",
    "    \n",
    "    f, axes = plt.subplots(1, 6, figsize=(20,5))\n",
    "\n",
    "    # plot anchor image\n",
    "    axes[5].imshow(queries[caseID, 0])\n",
    "    axes[5].set_title(f\"Query image case {caseID}\", fontsize=15)\n",
    "\n",
    "    # show all test images images \n",
    "    [ax.imshow(support_set[caseID, i]) for i, ax in enumerate(axes[0:-1])]\n",
    "\n",
    "\n",
    "    # Add the patch to the Axes\n",
    "    for ind in np.where(labels[caseID]==True)[0]:\n",
    "        axes[ind].add_patch(Rectangle((0,0),27,27,linewidth=2, edgecolor='r',facecolor='none'))\n"
   ]
  },
  {
   "cell_type": "code",
   "execution_count": 4,
   "id": "03538ffb",
   "metadata": {},
   "outputs": [
    {
     "data": {
      "image/png": "[encoded data removed]",
      "text/plain": [
       "<Figure size 1440x360 with 6 Axes>"
      ]
     },
     "metadata": {
      "needs_background": "light"
     },
     "output_type": "display_data"
    },
    {
     "data": {
      "image/png": "[encoded data removed]",
      "text/plain": [
       "<Figure size 1440x360 with 6 Axes>"
      ]
     },
     "metadata": {
      "needs_background": "light"
     },
     "output_type": "display_data"
    },
    {
     "data": {
      "image/png": "[encoded data removed]",
      "text/plain": [
       "<Figure size 1440x360 with 6 Axes>"
      ]
     },
     "metadata": {
      "needs_background": "light"
     },
     "output_type": "display_data"
    },
    {
     "data": {
      "image/png": "[encoded data removed]",
      "text/plain": [
       "<Figure size 1440x360 with 6 Axes>"
      ]
     },
     "metadata": {
      "needs_background": "light"
     },
     "output_type": "display_data"
    },
    {
     "data": {
      "image/png": "[encoded data removed]",
      "text/plain": [
       "<Figure size 1440x360 with 6 Axes>"
      ]
     },
     "metadata": {
      "needs_background": "light"
     },
     "output_type": "display_data"
    }
   ],
   "source": [
    "[plot_case(caseID,train_data,train_label) for caseID in range(5)] ;"
   ]
  },
  {
   "cell_type": "markdown",
   "id": "931f2383",
   "metadata": {},
   "source": [
    "### Query data set\n",
    "\n",
    "For this task you need to use the following query data set. The dataset contains 1000 sets of 6 images each. The images are also of hand written characters, however these characters are not present in the training data set. The characters in the query data set all come from the Greek alphabet that is not part of the set of alphabets in the training data. \n"
   ]
  },
  {
   "cell_type": "code",
   "execution_count": 4,
   "id": "c9ba78dc",
   "metadata": {},
   "outputs": [
    {
     "name": "stdout",
     "output_type": "stream",
     "text": [
      "test_data shape: (1000, 6, 28, 28)\n",
      "test_label shape: (1000, 5)\n",
      "\n"
     ]
    }
   ],
   "source": [
    "    \n",
    "#Downloading may take a while..\n",
    "test_data = load_numpy_arr_from_url('https://surfdrive.surf.nl/files/index.php/s/06c34QVUr69CxWY/download')\n",
    "test_label = load_numpy_arr_from_url('https://surfdrive.surf.nl/files/index.php/s/LQIH1CW7lfDXevk/download')\n",
    "\n",
    "print(f\"test_data shape: {test_data.shape}\")\n",
    "print(f\"test_label shape: {test_label.shape}\\n\")"
   ]
  },
  {
   "cell_type": "code",
   "execution_count": 5,
   "id": "03fb3580",
   "metadata": {
    "scrolled": false
   },
   "outputs": [
    {
     "data": {
      "image/png": "[encoded data removed]",
      "text/plain": [
       "<Figure size 1440x360 with 6 Axes>"
      ]
     },
     "metadata": {
      "needs_background": "light"
     },
     "output_type": "display_data"
    },
    {
     "data": {
      "image/png": "[encoded data removed]",
      "text/plain": [
       "<Figure size 1440x360 with 6 Axes>"
      ]
     },
     "metadata": {
      "needs_background": "light"
     },
     "output_type": "display_data"
    },
    {
     "data": {
      "image/png": "[encoded data removed]",
      "text/plain": [
       "<Figure size 1440x360 with 6 Axes>"
      ]
     },
     "metadata": {
      "needs_background": "light"
     },
     "output_type": "display_data"
    },
    {
     "data": {
      "image/png": "[encoded data removed]",
      "text/plain": [
       "<Figure size 1440x360 with 6 Axes>"
      ]
     },
     "metadata": {
      "needs_background": "light"
     },
     "output_type": "display_data"
    },
    {
     "data": {
      "image/png": "[encoded data removed]",
      "text/plain": [
       "<Figure size 1440x360 with 6 Axes>"
      ]
     },
     "metadata": {
      "needs_background": "light"
     },
     "output_type": "display_data"
    }
   ],
   "source": [
    "[plot_case(caseID,test_data,test_label) for caseID in range(5)] ;"
   ]
  },
  {
   "cell_type": "markdown",
   "id": "fcc32db2",
   "metadata": {},
   "source": [
    "### Build pytorch dataset and dataload"
   ]
  },
  {
   "cell_type": "code",
   "execution_count": 6,
   "id": "fcf31f45",
   "metadata": {},
   "outputs": [],
   "source": [
    "import torch\n",
    "from torchvision import transforms\n",
    "from torch.utils.data import Dataset, DataLoader,TensorDataset\n",
    "import numpy as np\n",
    "from PIL import Image\n",
    "\n",
    "\n",
    "class MyDataset(Dataset):\n",
    "    def __init__(self, data, targets):\n",
    "        self.data = torch.FloatTensor(data)\n",
    "        self.targets = torch.LongTensor(targets)\n",
    "\n",
    "        \n",
    "    def __getitem__(self, index):\n",
    "        x = self.data[index]\n",
    "        y = self.targets[index]\n",
    "        \n",
    "\n",
    "        return x, y\n",
    "    \n",
    "    def __len__(self):\n",
    "        return len(self.data)"
   ]
  },
  {
   "cell_type": "code",
   "execution_count": 7,
   "id": "d3d75da8",
   "metadata": {},
   "outputs": [],
   "source": [
    "# transform = transforms.ToTensor()\n",
    "train_dataset=MyDataset(train_data,train_label)\n",
    "test_dataset=MyDataset(test_data,test_label)"
   ]
  },
  {
   "cell_type": "code",
   "execution_count": 8,
   "id": "d4c1bd77",
   "metadata": {},
   "outputs": [],
   "source": [
    "train_loader = torch.utils.data.DataLoader(train_dataset, batch_size=10)"
   ]
  },
  {
   "cell_type": "code",
   "execution_count": 9,
   "id": "2b747c92",
   "metadata": {},
   "outputs": [],
   "source": [
    "test_loader = torch.utils.data.DataLoader(test_dataset, batch_size=10)"
   ]
  },
  {
   "cell_type": "code",
   "execution_count": 10,
   "id": "a8ddcb05",
   "metadata": {},
   "outputs": [],
   "source": [
    "from tqdm import tqdm"
   ]
  },
  {
   "cell_type": "code",
   "execution_count": 49,
   "id": "e7e4188f",
   "metadata": {},
   "outputs": [],
   "source": [
    "# The model\n",
    "import torch.nn as nn\n",
    "\n",
    "class Model(nn.Module):\n",
    "    def __init__(self):\n",
    "        super(Model, self).__init__()\n",
    "        self.conv2d = nn.Conv2d(6, 5, 3, 1)\n",
    "        self.relu = nn.ReLU(inplace=True)\n",
    "        self.maxpool = nn.MaxPool2d(26, 26)\n",
    "        self.sigmoid = nn.Sigmoid()\n",
    "        \n",
    "    def forward(self, x):\n",
    "        x = self.conv2d(x)\n",
    "        x = self.relu(x)\n",
    "        x = self.maxpool(x)\n",
    "        x = self.sigmoid(x)\n",
    "        return torch.squeeze(x)\n",
    "        \n",
    "model = Model()"
   ]
  },
  {
   "cell_type": "code",
   "execution_count": 50,
   "id": "0d38df62",
   "metadata": {},
   "outputs": [],
   "source": [
    "# The optimizer\n",
    "from torch.optim import Adam\n",
    "\n",
    "optimizer = Adam(model.parameters(), lr=0.1)"
   ]
  },
  {
   "cell_type": "code",
   "execution_count": 51,
   "id": "7556312d",
   "metadata": {},
   "outputs": [],
   "source": [
    "# The loss function\n",
    "loss_func = nn.CrossEntropyLoss()"
   ]
  },
  {
   "cell_type": "code",
   "execution_count": 52,
   "id": "c6c05118",
   "metadata": {},
   "outputs": [],
   "source": [
    "# Check if the GPU is available\n",
    "if torch.cuda.is_available():\n",
    "    model = model.cuda()\n",
    "    loss_func = loss_func.cuda()"
   ]
  },
  {
   "cell_type": "code",
   "execution_count": 53,
   "id": "5be9b0fb",
   "metadata": {},
   "outputs": [],
   "source": [
    "def loss_batch(model, loss_func, xb, yb, opt=None):\n",
    "    y_pred = model(xb)\n",
    "    yb = yb.to(torch.float32)\n",
    "    \n",
    "    loss = loss_func(y_pred, yb)\n",
    "    loss = torch.autograd.Variable(loss, requires_grad=True)\n",
    "    \n",
    "    if opt is not None:\n",
    "        loss.backward()\n",
    "        opt.step()\n",
    "        opt.zero_grad()\n",
    "        \n",
    "    return loss.item(), len(xb)"
   ]
  },
  {
   "cell_type": "code",
   "execution_count": 58,
   "id": "99254e97",
   "metadata": {},
   "outputs": [],
   "source": [
    "# Fitting/Training the model\n",
    "train_loss_list, val_loss_list = list(), list()\n",
    "\n",
    "def fit(epochs, model, loss_func, train_loader, test_loader, opt):\n",
    "    for epoch in tqdm(range(epochs)):\n",
    "        opt.zero_grad()\n",
    "        model.train()\n",
    "        \n",
    "        running_loss = 0.0\n",
    "        sample_num=0\n",
    "        for xb, yb in train_loader:\n",
    "            if torch.cuda.is_available():\n",
    "                xb = xb.cuda()\n",
    "                yb = yb.cuda()\n",
    "                \n",
    "            losses, nums = loss_batch(model, loss_func, xb, yb, opt)\n",
    "            running_loss += losses * xb.size(0)\n",
    "            sample_num += nums\n",
    "            \n",
    "        train_loss = running_loss / sample_num\n",
    "        train_loss_list.append(train_loss)\n",
    "            \n",
    "        model.eval()\n",
    "        with torch.no_grad():\n",
    "            running_loss = 0.0\n",
    "            sample_num=0\n",
    "            for xb, yb in test_loader:\n",
    "                if torch.cuda.is_available():\n",
    "                    xb = xb.cuda()\n",
    "                    yb = yb.cuda()\n",
    "                \n",
    "                losses, nums = loss_batch(model, loss_func, xb, yb)\n",
    "                running_loss += losses * xb.size(0)\n",
    "                sample_num += nums\n",
    "                                \n",
    "            val_loss = running_loss / sample_num\n",
    "            val_loss_list.append(val_loss)\n",
    "                \n",
    "        print(f'EPOCH: {epoch+1:0>{len(str(epochs))}}/{epochs}', end=' ')\n",
    "        print(f\"Train loss: {train_loss:.4f}, Val loss: {val_loss:.4f}\", end=\"\\n\")\n",
    "                "
   ]
  },
  {
   "cell_type": "code",
   "execution_count": 60,
   "id": "328dae07",
   "metadata": {},
   "outputs": [
    {
     "name": "stderr",
     "output_type": "stream",
     "text": [
      " 10%|████████▎                                                                          | 1/10 [00:00<00:08,  1.01it/s]"
     ]
    },
    {
     "name": "stdout",
     "output_type": "stream",
     "text": [
      "EPOCH: 01/10 Train loss: 3.2306, Val loss: 3.1440\n"
     ]
    },
    {
     "name": "stderr",
     "output_type": "stream",
     "text": [
      "\r",
      " 20%|████████████████▌                                                                  | 2/10 [00:01<00:07,  1.02it/s]"
     ]
    },
    {
     "name": "stdout",
     "output_type": "stream",
     "text": [
      "EPOCH: 02/10 Train loss: 3.2306, Val loss: 3.1440\n"
     ]
    },
    {
     "name": "stderr",
     "output_type": "stream",
     "text": [
      "\r",
      " 30%|████████████████████████▉                                                          | 3/10 [00:02<00:06,  1.01it/s]"
     ]
    },
    {
     "name": "stdout",
     "output_type": "stream",
     "text": [
      "EPOCH: 03/10 Train loss: 3.2306, Val loss: 3.1440\n"
     ]
    },
    {
     "name": "stderr",
     "output_type": "stream",
     "text": [
      "\r",
      " 40%|█████████████████████████████████▏                                                 | 4/10 [00:03<00:05,  1.02it/s]"
     ]
    },
    {
     "name": "stdout",
     "output_type": "stream",
     "text": [
      "EPOCH: 04/10 Train loss: 3.2306, Val loss: 3.1440\n"
     ]
    },
    {
     "name": "stderr",
     "output_type": "stream",
     "text": [
      "\r",
      " 50%|█████████████████████████████████████████▌                                         | 5/10 [00:04<00:04,  1.01it/s]"
     ]
    },
    {
     "name": "stdout",
     "output_type": "stream",
     "text": [
      "EPOCH: 05/10 Train loss: 3.2306, Val loss: 3.1440\n"
     ]
    },
    {
     "name": "stderr",
     "output_type": "stream",
     "text": [
      "\r",
      " 60%|█████████████████████████████████████████████████▊                                 | 6/10 [00:05<00:03,  1.01it/s]"
     ]
    },
    {
     "name": "stdout",
     "output_type": "stream",
     "text": [
      "EPOCH: 06/10 Train loss: 3.2306, Val loss: 3.1440\n"
     ]
    },
    {
     "name": "stderr",
     "output_type": "stream",
     "text": [
      "\r",
      " 70%|██████████████████████████████████████████████████████████                         | 7/10 [00:06<00:02,  1.02it/s]"
     ]
    },
    {
     "name": "stdout",
     "output_type": "stream",
     "text": [
      "EPOCH: 07/10 Train loss: 3.2306, Val loss: 3.1440\n"
     ]
    },
    {
     "name": "stderr",
     "output_type": "stream",
     "text": [
      "\r",
      " 80%|██████████████████████████████████████████████████████████████████▍                | 8/10 [00:07<00:01,  1.01it/s]"
     ]
    },
    {
     "name": "stdout",
     "output_type": "stream",
     "text": [
      "EPOCH: 08/10 Train loss: 3.2306, Val loss: 3.1440\n"
     ]
    },
    {
     "name": "stderr",
     "output_type": "stream",
     "text": [
      "\r",
      " 90%|██████████████████████████████████████████████████████████████████████████▋        | 9/10 [00:08<00:00,  1.01it/s]"
     ]
    },
    {
     "name": "stdout",
     "output_type": "stream",
     "text": [
      "EPOCH: 09/10 Train loss: 3.2306, Val loss: 3.1440\n"
     ]
    },
    {
     "name": "stderr",
     "output_type": "stream",
     "text": [
      "100%|██████████████████████████████████████████████████████████████████████████████████| 10/10 [00:09<00:00,  1.01it/s]"
     ]
    },
    {
     "name": "stdout",
     "output_type": "stream",
     "text": [
      "EPOCH: 10/10 Train loss: 3.2306, Val loss: 3.1440\n"
     ]
    },
    {
     "name": "stderr",
     "output_type": "stream",
     "text": [
      "\n"
     ]
    }
   ],
   "source": [
    "epochs = 10\n",
    "fit(epochs, model, loss_func, train_loader, test_loader, optimizer)"
   ]
  },
  {
   "cell_type": "code",
   "execution_count": 57,
   "id": "ddfd8528",
   "metadata": {},
   "outputs": [
    {
     "data": {
      "image/png": "[encoded data removed]",
      "text/plain": [
       "<Figure size 432x288 with 1 Axes>"
      ]
     },
     "metadata": {
      "needs_background": "light"
     },
     "output_type": "display_data"
    }
   ],
   "source": [
    "import matplotlib.pyplot as plt\n",
    "  \n",
    "plt.plot([i for i in range(epochs)], train_loss_list, label = \"Train loss\")\n",
    "plt.plot([i for i in range(epochs)], val_loss_list, label = \"Val loss\")\n",
    "plt.legend()\n",
    "plt.show()"
   ]
  },
  {
   "cell_type": "code",
   "execution_count": null,
   "id": "1f38e519",
   "metadata": {},
   "outputs": [],
   "source": [
    "## Task  ##"
   ]
  },
  {
   "cell_type": "code",
   "execution_count": 11,
   "id": "0b6fdfee",
   "metadata": {},
   "outputs": [],
   "source": [
    "## Model Definition ##"
   ]
  },
  {
   "cell_type": "code",
   "execution_count": 12,
   "id": "93e6f3fb",
   "metadata": {},
   "outputs": [],
   "source": [
    "## LOSS Definition ##"
   ]
  },
  {
   "cell_type": "code",
   "execution_count": 13,
   "id": "5f1a9501",
   "metadata": {},
   "outputs": [],
   "source": [
    "## Build Sample Selector ##"
   ]
  },
  {
   "cell_type": "code",
   "execution_count": 14,
   "id": "d2c8f9a6",
   "metadata": {},
   "outputs": [],
   "source": [
    "## Training ##"
   ]
  },
  {
   "cell_type": "code",
   "execution_count": 15,
   "id": "64252d3e",
   "metadata": {},
   "outputs": [],
   "source": [
    "## Evaluation ##"
   ]
  }
 ],
 "metadata": {
  "kernelspec": {
   "display_name": "Python 3 (ipykernel)",
   "language": "python",
   "name": "python3"
  },
  "language_info": {
   "codemirror_mode": {
    "name": "ipython",
    "version": 3
   },
   "file_extension": ".py",
   "mimetype": "text/x-python",
   "name": "python",
   "nbconvert_exporter": "python",
   "pygments_lexer": "ipython3",
   "version": "3.9.12"
  }
 },
 "nbformat": 4,
 "nbformat_minor": 5
}

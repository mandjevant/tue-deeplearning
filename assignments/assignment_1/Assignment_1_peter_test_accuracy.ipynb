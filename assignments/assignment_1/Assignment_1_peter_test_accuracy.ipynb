{
  "cells": [
    {
      "cell_type": "markdown",
      "id": "06ab2292",
      "metadata": {
        "id": "06ab2292"
      },
      "source": [
        "<a href=\"https://colab.research.google.com/github/vlamen/tue-deeplearning/blob/main/assignments/assignment_1/Assignment_1.ipynb\" target=\"_parent\"><img src=\"https://colab.research.google.com/assets/colab-badge.svg\" alt=\"Open In Colab\"/></a>    "
      ]
    },
    {
      "cell_type": "markdown",
      "id": "b9b20982",
      "metadata": {
        "id": "b9b20982"
      },
      "source": [
        "# Group Number:37\n",
        "# Student 1: Jiong Li | 1533312\n",
        "# Student 2: Peter Elmers | 1734350\n",
        "# Student 3: P.T.C.M. Tholhuijsen | 1237447"
      ]
    },
    {
      "cell_type": "code",
      "execution_count": 1,
      "id": "b49fc2e3",
      "metadata": {
        "colab": {
          "base_uri": "https://localhost:8080/"
        },
        "id": "b49fc2e3",
        "outputId": "5704b8cf-6ade-43c4-c3dc-0d1714715537"
      },
      "outputs": [
        {
          "name": "stdout",
          "output_type": "stream",
          "text": [
            "%pylab is deprecated, use %matplotlib inline and import the required libraries.\n",
            "Populating the interactive namespace from numpy and matplotlib\n"
          ]
        }
      ],
      "source": [
        "import requests\n",
        "import io\n",
        "import torch\n",
        "import torch.nn as nn\n",
        "import torch.nn.functional as F\n",
        "import numpy as np\n",
        "%pylab inline"
      ]
    },
    {
      "cell_type": "markdown",
      "id": "25cfb295",
      "metadata": {
        "id": "25cfb295"
      },
      "source": [
        "### Training data set\n",
        "\n",
        "\n",
        "For Assignment 1 you need to use a specific data set prepared using images from the [Omniglot dataset](https://github.com/brendenlake/omniglot). The provided training data set contains images of handwritten characters of size (28,28). \n",
        "\n",
        "\n",
        "\n",
        "For training data, the dataset contains 10000 sets of 6 images each. Each set consists of 5 support images and 1 query image. In each set, the first five columns are support images and the last one is a query image.\n",
        "\n",
        "For training labels, the dataset contains 10000 sets of 5 binary flags for support images. 1 indicates the same character is given in the query image and 0 means not. For example, a label [1,0,0,1,1] means the support images with index 0,3,4 are the same character of query image.\n",
        "\n",
        " \n",
        " \n",
        "The following cell provides code that loads the data from hardcoded URLs.You can use the code in this cell to load the dataset or download the data set from the given URLs to your local drive (or your Google drive) and modify the code to load the data from another location. \n",
        "\n",
        "\n"
      ]
    },
    {
      "cell_type": "code",
      "execution_count": 2,
      "id": "f19f0a40",
      "metadata": {
        "colab": {
          "base_uri": "https://localhost:8080/"
        },
        "id": "f19f0a40",
        "outputId": "c5731aca-3092-4f36-dcdd-bb8245fce2cc"
      },
      "outputs": [
        {
          "name": "stdout",
          "output_type": "stream",
          "text": [
            "train_data shape: (10000, 6, 28, 28)\n",
            "train_label shape: (10000, 5)\n",
            "\n"
          ]
        }
      ],
      "source": [
        "def load_numpy_arr_from_url(url):\n",
        "    \"\"\"\n",
        "    Loads a numpy array from surfdrive. \n",
        "    \n",
        "    Input:\n",
        "    url: Download link of dataset \n",
        "    \n",
        "    Outputs:\n",
        "    dataset: numpy array with input features or labels\n",
        "    \"\"\"\n",
        "    \n",
        "    response = requests.get(url)\n",
        "    response.raise_for_status()\n",
        "\n",
        "    return np.load(io.BytesIO(response.content)) \n",
        "    \n",
        "    \n",
        "    \n",
        "#Downloading may take a while..\n",
        "train_data = load_numpy_arr_from_url('https://surfdrive.surf.nl/files/index.php/s/4OXkVie05NPjRKK/download')\n",
        "train_label = load_numpy_arr_from_url('https://surfdrive.surf.nl/files/index.php/s/oMLFw60zpFX82ua/download')\n",
        "\n",
        "print(f\"train_data shape: {train_data.shape}\")\n",
        "print(f\"train_label shape: {train_label.shape}\\n\")"
      ]
    },
    {
      "cell_type": "markdown",
      "id": "cb937392",
      "metadata": {
        "id": "cb937392"
      },
      "source": [
        "Now, we plot the first 5 cases in the training dataset. The last column corresponds with the query images of each task. All other images are support images. The image enclosed in a red box denotes the target image that your model should be able to recognize as the same class as the query image. "
      ]
    },
    {
      "cell_type": "code",
      "execution_count": 3,
      "id": "b1b4bd29",
      "metadata": {
        "id": "b1b4bd29"
      },
      "outputs": [],
      "source": [
        "def plot_case(caseID,train_data,labels):\n",
        "    \"\"\"\n",
        "    Plots a single sample of the query dataset\n",
        "    \n",
        "    Inputs\n",
        "    caseID: Integer between 0 and 99, each corresponding to a single sample in the query dataset \n",
        "    \"\"\"\n",
        "    \n",
        "\n",
        "    support_set,queries = np.split(train_data, [5], axis=1)\n",
        "    \n",
        "    f, axes = plt.subplots(1, 6, figsize=(20,5))\n",
        "\n",
        "    # plot anchor image\n",
        "    axes[5].imshow(queries[caseID, 0])\n",
        "    axes[5].set_title(f\"Query image case {caseID}\", fontsize=15)\n",
        "\n",
        "    # show all test images images \n",
        "    [ax.imshow(support_set[caseID, i]) for i, ax in enumerate(axes[0:-1])]\n",
        "\n",
        "\n",
        "    # Add the patch to the Axes\n",
        "    for ind in np.where(labels[caseID]==True)[0]:\n",
        "        axes[ind].add_patch(Rectangle((0,0),27,27,linewidth=2, edgecolor='r',facecolor='none'))\n"
      ]
    },
    {
      "cell_type": "code",
      "execution_count": 4,
      "id": "03538ffb",
      "metadata": {
        "colab": {
          "base_uri": "https://localhost:8080/",
          "height": 693
        },
        "id": "03538ffb",
        "outputId": "7e6ff003-b3f6-477a-8c55-c00592eec71f"
      },
      "outputs": [
        {
          "data": {
            "image/png": "[encoded data removed]",
            "text/plain": [
              "<Figure size 1440x360 with 6 Axes>"
            ]
          },
          "metadata": {
            "needs_background": "light"
          },
          "output_type": "display_data"
        },
        {
          "data": {
            "image/png": "[encoded data removed]",
            "text/plain": [
              "<Figure size 1440x360 with 6 Axes>"
            ]
          },
          "metadata": {
            "needs_background": "light"
          },
          "output_type": "display_data"
        },
        {
          "data": {
            "image/png": "[encoded data removed]",
            "text/plain": [
              "<Figure size 1440x360 with 6 Axes>"
            ]
          },
          "metadata": {
            "needs_background": "light"
          },
          "output_type": "display_data"
        },
        {
          "data": {
            "image/png": "[encoded data removed]",
            "text/plain": [
              "<Figure size 1440x360 with 6 Axes>"
            ]
          },
          "metadata": {
            "needs_background": "light"
          },
          "output_type": "display_data"
        },
        {
          "data": {
            "image/png": "[encoded data removed]",
            "text/plain": [
              "<Figure size 1440x360 with 6 Axes>"
            ]
          },
          "metadata": {
            "needs_background": "light"
          },
          "output_type": "display_data"
        }
      ],
      "source": [
        "[plot_case(caseID,train_data,train_label) for caseID in range(5)] ;"
      ]
    },
    {
      "cell_type": "markdown",
      "id": "931f2383",
      "metadata": {
        "id": "931f2383"
      },
      "source": [
        "### Query data set\n",
        "\n",
        "For this task you need to use the following query data set. The dataset contains 1000 sets of 6 images each. The images are also of hand written characters, however these characters are not present in the training data set. The characters in the query data set all come from the Greek alphabet that is not part of the set of alphabets in the training data. \n"
      ]
    },
    {
      "cell_type": "code",
      "execution_count": 5,
      "id": "c9ba78dc",
      "metadata": {
        "colab": {
          "base_uri": "https://localhost:8080/"
        },
        "id": "c9ba78dc",
        "outputId": "6f89a0a8-42a5-4374-8f3d-ddb4ebc8ec9d"
      },
      "outputs": [
        {
          "name": "stdout",
          "output_type": "stream",
          "text": [
            "test_data shape: (1000, 6, 28, 28)\n",
            "test_label shape: (1000, 5)\n",
            "\n"
          ]
        }
      ],
      "source": [
        "    \n",
        "#Downloading may take a while..\n",
        "test_data = load_numpy_arr_from_url('https://surfdrive.surf.nl/files/index.php/s/06c34QVUr69CxWY/download')\n",
        "test_label = load_numpy_arr_from_url('https://surfdrive.surf.nl/files/index.php/s/LQIH1CW7lfDXevk/download')\n",
        "\n",
        "print(f\"test_data shape: {test_data.shape}\")\n",
        "print(f\"test_label shape: {test_label.shape}\\n\")"
      ]
    },
    {
      "cell_type": "code",
      "execution_count": 6,
      "id": "03fb3580",
      "metadata": {
        "colab": {
          "base_uri": "https://localhost:8080/",
          "height": 693
        },
        "id": "03fb3580",
        "outputId": "ca846111-f0e8-4826-ff7b-9b9aa9f89165",
        "scrolled": false
      },
      "outputs": [
        {
          "data": {
            "image/png": "[encoded data removed]",
            "text/plain": [
              "<Figure size 1440x360 with 6 Axes>"
            ]
          },
          "metadata": {
            "needs_background": "light"
          },
          "output_type": "display_data"
        },
        {
          "data": {
            "image/png": "[encoded data removed]",
            "text/plain": [
              "<Figure size 1440x360 with 6 Axes>"
            ]
          },
          "metadata": {
            "needs_background": "light"
          },
          "output_type": "display_data"
        },
        {
          "data": {
            "image/png": "[encoded data removed]",
            "text/plain": [
              "<Figure size 1440x360 with 6 Axes>"
            ]
          },
          "metadata": {
            "needs_background": "light"
          },
          "output_type": "display_data"
        },
        {
          "data": {
            "image/png": "[encoded data removed]",
            "text/plain": [
              "<Figure size 1440x360 with 6 Axes>"
            ]
          },
          "metadata": {
            "needs_background": "light"
          },
          "output_type": "display_data"
        },
        {
          "data": {
            "image/png": "[encoded data removed]",
            "text/plain": [
              "<Figure size 1440x360 with 6 Axes>"
            ]
          },
          "metadata": {
            "needs_background": "light"
          },
          "output_type": "display_data"
        }
      ],
      "source": [
        "[plot_case(caseID,test_data,test_label) for caseID in range(5)] ;"
      ]
    },
    {
      "cell_type": "markdown",
      "id": "fcc32db2",
      "metadata": {
        "id": "fcc32db2"
      },
      "source": [
        "### Build pytorch dataset and dataload"
      ]
    },
    {
      "cell_type": "code",
      "execution_count": 7,
      "id": "fcf31f45",
      "metadata": {
        "id": "fcf31f45"
      },
      "outputs": [],
      "source": [
        "import torch\n",
        "from torchvision import transforms\n",
        "from torch.utils.data import Dataset, DataLoader,TensorDataset\n",
        "import numpy as np\n",
        "from PIL import Image\n",
        "import random\n",
        "\n",
        "\n",
        "class MyDataset(Dataset):\n",
        "    def __init__(self, data, targets,transform = None):\n",
        "        self.data = torch.FloatTensor(data)\n",
        "        self.targets = torch.LongTensor(targets)\n",
        "        self.support_set,self.queries = np.split(self.data, [5], axis=1)\n",
        "        self.transform = transform\n",
        "\n",
        "        \n",
        "    def __getitem__(self, index):\n",
        "        idx = random.randint(0, len(self.data)-1)\n",
        "        img1 = self.queries[idx, 0]\n",
        "        img2 = None\n",
        "\n",
        "        # make sure that 50% for two same classes\n",
        "        if index % 2 == 1:\n",
        "            #get img from same class\n",
        "            label = 1.0\n",
        "            idx_true = np.where(self.targets[idx]==True)[0]\n",
        "            img2_idx = random.choice(idx_true)\n",
        "            img2 = self.data[idx][img2_idx]\n",
        "        else:\n",
        "            label = 0.0\n",
        "            idx_false = np.where(self.targets[idx]==False)[0]\n",
        "            img2_idx = random.choice(idx_false)\n",
        "            img2 = self.data[idx][img2_idx]\n",
        "        if self.transform:\n",
        "            img1 = self.transform(img1)\n",
        "            img2 = self.transform(img2)\n",
        "\n",
        "        return img1,img2,torch.from_numpy(np.array([label], dtype=np.float32))\n",
        "\n",
        "    def __len__(self):\n",
        "        return len(self.data)"
      ]
    },
    {
      "cell_type": "code",
      "execution_count": 8,
      "id": "FTWz5GrkxYni",
      "metadata": {
        "id": "FTWz5GrkxYni"
      },
      "outputs": [],
      "source": [
        "from sklearn.model_selection import train_test_split\n",
        "train_data, validation_data, train_label, validation_label = train_test_split(train_data, train_label, test_size=0.2)"
      ]
    },
    {
      "cell_type": "code",
      "execution_count": 9,
      "id": "d3d75da8",
      "metadata": {
        "id": "d3d75da8"
      },
      "outputs": [],
      "source": [
        "# transform = transforms.Compose([transforms.ToTensor()])\n",
        "# Omniglot_transform = transforms.Compose([\n",
        "#         transforms.Resize((105, 105)),\n",
        "#         #transforms.Grayscale(3),\n",
        "#         #transforms.ToTensor(),\n",
        "#     ])\n",
        "train_dataset=MyDataset(train_data,train_label)\n",
        "validation_dataset=MyDataset(validation_data,validation_label)\n",
        "test_dataset=MyDataset(test_data,test_label)"
      ]
    },
    {
      "cell_type": "code",
      "execution_count": 10,
      "id": "d4c1bd77",
      "metadata": {
        "id": "d4c1bd77"
      },
      "outputs": [],
      "source": [
        "train_loader = torch.utils.data.DataLoader(train_dataset,batch_size=20)\n",
        "validation_loader = torch.utils.data.DataLoader(validation_dataset, batch_size=20)\n",
        "test_loader = torch.utils.data.DataLoader(test_dataset, batch_size=20)"
      ]
    },
    {
      "cell_type": "code",
      "execution_count": 11,
      "id": "NtWFrFAynkgC",
      "metadata": {
        "colab": {
          "base_uri": "https://localhost:8080/",
          "height": 200
        },
        "id": "NtWFrFAynkgC",
        "outputId": "ca26357d-a444-4bea-c6b5-835e84a8bbef"
      },
      "outputs": [
        {
          "name": "stdout",
          "output_type": "stream",
          "text": [
            "torch.Size([28, 28])\n"
          ]
        },
        {
          "data": {
            "text/plain": [
              "Text(0.5, 1.0, 'True case')"
            ]
          },
          "execution_count": 11,
          "metadata": {},
          "output_type": "execute_result"
        },
        {
          "data": {
            "image/png": "[encoded data removed]",
            "text/plain": [
              "<Figure size 432x144 with 3 Axes>"
            ]
          },
          "metadata": {
            "needs_background": "light"
          },
          "output_type": "display_data"
        }
      ],
      "source": [
        "\"\"\" \n",
        "Test block\n",
        "This block is to test the preparation for the dataset\n",
        "\"\"\"\n",
        "\n",
        "support_set,queries = np.split(train_data, [5], axis=1)\n",
        "# queries[0,0].shape\n",
        "# train_data.shape[0]\n",
        "targets = train_dataset.targets\n",
        "data = train_dataset.data\n",
        "\n",
        "f, axes = plt.subplots(1, 3, figsize=(6,2))\n",
        "# plot anchor image\n",
        "axes[2].imshow(queries[1, 0])\n",
        "axes[2].set_title(f\"Query image case 1\", fontsize=15)\n",
        "\n",
        "idx_false = np.where(targets[1]==False)[0]\n",
        "img2_idx = random.choice(idx_false)\n",
        "img2 = data[1][img2_idx]\n",
        "print(img2.shape)\n",
        "\n",
        "idx_true = np.where(targets[1]==True)[0]\n",
        "img3_idx = random.choice(idx_true)\n",
        "img3 = data[1][img3_idx]\n",
        "\n",
        "axes[0].imshow(img2)\n",
        "axes[0].set_title(f\"False case\", fontsize=15)\n",
        "axes[1].imshow(img3)\n",
        "axes[1].set_title(f\"True case\", fontsize=15)"
      ]
    },
    {
      "cell_type": "code",
      "execution_count": 12,
      "id": "LDtA1vYe1m-_",
      "metadata": {
        "colab": {
          "base_uri": "https://localhost:8080/"
        },
        "id": "LDtA1vYe1m-_",
        "outputId": "bda94d9a-55be-4c61-fe92-ebabebf9e201"
      },
      "outputs": [
        {
          "data": {
            "text/plain": [
              "torch.Size([20, 28, 28])"
            ]
          },
          "execution_count": 12,
          "metadata": {},
          "output_type": "execute_result"
        }
      ],
      "source": [
        "next(iter(train_loader))[0].size()"
      ]
    },
    {
      "cell_type": "code",
      "execution_count": 13,
      "id": "tturP1DK0Ddx",
      "metadata": {
        "id": "tturP1DK0Ddx"
      },
      "outputs": [
        {
          "name": "stdout",
          "output_type": "stream",
          "text": [
            "tensor([[0.],\n",
            "        [1.],\n",
            "        [0.],\n",
            "        [1.],\n",
            "        [0.],\n",
            "        [1.],\n",
            "        [0.],\n",
            "        [1.],\n",
            "        [0.],\n",
            "        [1.],\n",
            "        [0.],\n",
            "        [1.],\n",
            "        [0.],\n",
            "        [1.],\n",
            "        [0.],\n",
            "        [1.],\n",
            "        [0.],\n",
            "        [1.],\n",
            "        [0.],\n",
            "        [1.]])\n"
          ]
        },
        {
          "data": {
            "image/png": "[encoded data removed]",
            "text/plain": [
              "<Figure size 432x288 with 2 Axes>"
            ]
          },
          "metadata": {
            "needs_background": "light"
          },
          "output_type": "display_data"
        }
      ],
      "source": [
        "# showing a sample input of a training set\n",
        "count0 = 0\n",
        "count1 = 0\n",
        "for img1, img2, label in train_loader:\n",
        "    if label[1] == 1:\n",
        "        plt.subplot(1,2,1)\n",
        "        plt.imshow(img1[0])\n",
        "        plt.subplot(1,2,2)\n",
        "        plt.imshow(img2[0])\n",
        "        print(label)\n",
        "        break"
      ]
    },
    {
      "cell_type": "code",
      "execution_count": 14,
      "id": "a8ddcb05",
      "metadata": {
        "id": "a8ddcb05"
      },
      "outputs": [],
      "source": [
        "from tqdm import tqdm"
      ]
    },
    {
      "cell_type": "code",
      "execution_count": 15,
      "id": "bhCEIxtgXfVQ",
      "metadata": {
        "colab": {
          "base_uri": "https://localhost:8080/"
        },
        "id": "bhCEIxtgXfVQ",
        "outputId": "a5d5f273-7ca0-4984-861a-f353591f0585"
      },
      "outputs": [
        {
          "name": "stdout",
          "output_type": "stream",
          "text": [
            "The model architecture:\n",
            "\n",
            " Model(\n",
            "  (conv1): Conv2d(20, 64, kernel_size=(3, 3), stride=(1, 1))\n",
            "  (conv2): Conv2d(64, 64, kernel_size=(3, 3), stride=(1, 1))\n",
            "  (bn1): BatchNorm2d(64, eps=1e-05, momentum=0.1, affine=True, track_running_stats=True)\n",
            "  (bn2): BatchNorm2d(128, eps=1e-05, momentum=0.1, affine=True, track_running_stats=True)\n",
            "  (fc1): Linear(in_features=1600, out_features=512, bias=True)\n",
            "  (fcOut): Linear(in_features=512, out_features=20, bias=True)\n",
            "  (sigmoid): Sigmoid()\n",
            ")\n",
            "\n",
            "The model has 878,868 trainable parameters\n"
          ]
        },
        {
          "name": "stderr",
          "output_type": "stream",
          "text": [
            "/var/folders/bj/xq0r65c15zscywj6dg01l4rr0000gn/T/ipykernel_39948/3628552865.py:63: DeprecationWarning: Calling np.sum(generator) is deprecated, and in the future will give a different result. Use np.sum(np.fromiter(generator)) or the python sum builtin instead.\n",
            "  temp = sum(p.numel() for p in model.parameters() if p.requires_grad)\n"
          ]
        }
      ],
      "source": [
        "# The model\n",
        "import torch.nn as nn\n",
        "import torch.nn.functional as F\n",
        "\n",
        "class Model(nn.Module):\n",
        "    def __init__(self):\n",
        "        super(Model, self).__init__()\n",
        "\n",
        "        self.conv1 = nn.Conv2d(20, 64, 3) \n",
        "        self.conv2 = nn.Conv2d(64, 64, 3)  \n",
        "        # self.conv3 = nn.Conv2d(64, 64, 3, padding=1)\n",
        "        # self.conv4 = nn.Conv2d(8, 128, 3, padding=1)\n",
        "        self.bn1 = nn.BatchNorm2d(64)\n",
        "        self.bn2 = nn.BatchNorm2d(128)\n",
        "        # self.bn3 = nn.BatchNorm2d(64)\n",
        "        # self.bn4 = nn.BatchNorm2d(128)\n",
        "        # self.dropout1 = nn.Dropout(0.1)\n",
        "        # self.dropout2 = nn.Dropout(0.5)\n",
        "        self.fc1 = nn.Linear(64*5*5, 512)\n",
        "        self.fcOut = nn.Linear(512, 20) \n",
        "\n",
        "        self.sigmoid = nn.Sigmoid()\n",
        "        \n",
        "\n",
        "    def convs(self, x):\n",
        "        # input:10*28*28\n",
        "        # (28-3+2*0)/1+1=26, conv1:64*13*13\n",
        "        x = F.relu(self.bn1(self.conv1(x)))\n",
        "        # (26-2+2*0)/2+1=13, max_pool: 32*13*13\n",
        "        x = F.max_pool2d(x, (2,2))\n",
        "\n",
        "        # (13-3+2*0)/1+1=11, conv1:64*11*11\n",
        "        x = F.relu(self.conv2(x))\n",
        "        # (11-2+2*0)/2+1=5, max_pool: 64*5*5\n",
        "        x = F.max_pool2d(x, (2,2))\n",
        "\n",
        "        # # (8-3+2*1)/1+1=8, conv1:64*8*8\n",
        "        # x = F.relu(self.bn3(self.conv3(x)))\n",
        "        # # (8-2+2*0)/2+1=4, max_pool: 64*4*4\n",
        "        # x = F.max_pool2d(x, (2,2))\n",
        "\n",
        "        return x\n",
        "\n",
        "    def forward(self, x1, x2):\n",
        "        x1 = torch.unsqueeze(x1, dim=0)\n",
        "        x2 = torch.unsqueeze(x2, dim=0)\n",
        "\n",
        "        x1 = self.convs(x1)\n",
        "        x1 = x1.view(x1.size()[0],-1)\n",
        "        # full-connect: 64*4*4=1024\n",
        "        x1 = self.sigmoid(self.fc1(x1))\n",
        "        \n",
        "        x2 = self.convs(x2)\n",
        "        x2 = x2.view(x2.size()[0],-1)\n",
        "        x2 = self.sigmoid(self.fc1(x2))\n",
        "\n",
        "        x = torch.abs(x1 - x2)\n",
        "        x = self.fcOut(x)\n",
        "        return x\n",
        "\n",
        "model = Model()\n",
        "def count_parameters(model):\n",
        "    temp = sum(p.numel() for p in model.parameters() if p.requires_grad)\n",
        "    print(f'The model architecture:\\n\\n', model)\n",
        "    print(f'\\nThe model has {temp:,} trainable parameters')\n",
        "    \n",
        "count_parameters(model)"
      ]
    },
    {
      "cell_type": "code",
      "execution_count": 16,
      "id": "50TqzjocvvFT",
      "metadata": {
        "id": "50TqzjocvvFT"
      },
      "outputs": [],
      "source": [
        "class Model_v2(nn.Module):\n",
        "    def __init__(self):\n",
        "        super(Model_v2, self).__init__()\n",
        "\n",
        "        self.conv = nn.Sequential(\n",
        "            nn.Conv2d(20, 64, kernel_size=5),\n",
        "            nn.BatchNorm2d(64),\n",
        "            nn.ReLU(inplace=True),\n",
        "            nn.MaxPool2d(2,2),  # 64@48*48\n",
        "            nn.Conv2d(64, 128, 5),\n",
        "            nn.BatchNorm2d(128),\n",
        "            nn.ReLU(),    # 128@42*42\n",
        "            nn.MaxPool2d(2,2),   # 128@21*21\n",
        "            \n",
        "            # nn.Conv2d(320,50),\n",
        "            # nn.ReLU(), # 128@18*18\n",
        "            # nn.MaxPool2d(2), # 128@9*9\n",
        "            # nn.Conv2d(128, 256, 4),\n",
        "            # nn.ReLU(),   # 256@6*6\n",
        "        )\n",
        "        self.liner = nn.Sequential(nn.Linear(2048, 2096), nn.Sigmoid())\n",
        "        self.out = nn.Linear(2096, 20)\n",
        "        \n",
        "\n",
        "    def forward_once(self, x):\n",
        "        x = self.conv(x)\n",
        "        x = x.view(x.size()[0], -1)\n",
        "        x = self.liner(x)\n",
        "        return x\n",
        "\n",
        "    def forward(self, input1, input2):\n",
        "        input1 = torch.unsqueeze(input1, dim=0)\n",
        "        input2 = torch.unsqueeze(input2, dim=0)\n",
        "        \n",
        "        out1 = self.forward_once(input1)\n",
        "        out2 = self.forward_once(input2)\n",
        "        dis = torch.abs(out1 - out2)\n",
        "        out = self.out(dis)\n",
        "        #  return self.sigmoid(out)\n",
        "        return out\n",
        "model_v2 = Model_v2()"
      ]
    },
    {
      "cell_type": "code",
      "execution_count": 17,
      "id": "NjH87NWZbRkt",
      "metadata": {
        "id": "NjH87NWZbRkt"
      },
      "outputs": [],
      "source": [
        "# The optimizer\n",
        "from torch.optim import Adam\n",
        "from torch.optim import SGD\n",
        "optimizer = SGD(model.parameters(), lr=0.005)"
      ]
    },
    {
      "cell_type": "code",
      "execution_count": 18,
      "id": "grnhMtg9bT1k",
      "metadata": {
        "id": "grnhMtg9bT1k"
      },
      "outputs": [],
      "source": [
        "# The loss function\n",
        "loss_func = nn.BCEWithLogitsLoss()"
      ]
    },
    {
      "cell_type": "code",
      "execution_count": 19,
      "id": "OEVqZ53FbVO0",
      "metadata": {
        "id": "OEVqZ53FbVO0"
      },
      "outputs": [],
      "source": [
        "# Check if the GPU is available\n",
        "if torch.cuda.is_available():\n",
        "    model = model.cuda()\n",
        "    loss_func = loss_func.cuda()"
      ]
    },
    {
      "cell_type": "code",
      "execution_count": 20,
      "id": "CnulVuM5bXYo",
      "metadata": {
        "id": "CnulVuM5bXYo"
      },
      "outputs": [],
      "source": [
        "def loss_batch(outputs, yb,loss_func, opt=None):\n",
        "    # outputs = torch.squeeze(outputs)# x.view(x.size(0), -1)\n",
        "    # outputs = torch.unsqueeze(outputs, dim=1)    \n",
        "    loss = loss_func(outputs,yb)\n",
        "    loss = torch.autograd.Variable(loss, requires_grad=True)\n",
        "    \n",
        "    if opt is not None:\n",
        "        loss.backward()\n",
        "        opt.step()\n",
        "        opt.zero_grad()\n",
        "        \n",
        "    return loss.item(),len(yb)"
      ]
    },
    {
      "cell_type": "code",
      "execution_count": 21,
      "id": "CorNFRmEbc2Z",
      "metadata": {
        "id": "CorNFRmEbc2Z"
      },
      "outputs": [],
      "source": [
        "# Fitting/Training the model\n",
        "import matplotlib.pyplot as plt\n",
        "\n",
        "def fit(epochs, model, loss_func, train_loader, val_loader, opt):\n",
        "    train_loss_list, val_loss_list = list(), list()\n",
        "    epoch_train_loss, epoch_val_loss = list(),list()\n",
        "\n",
        "    for epoch in tqdm(range(epochs)):\n",
        "        opt.zero_grad()\n",
        "        model.train()\n",
        "        \n",
        "        running_loss = 0.0\n",
        "        sample_num=0\n",
        "        for img1,img2, yb in train_loader:\n",
        "            if torch.cuda.is_available():\n",
        "                img1 = img1.cuda()\n",
        "                img2 = img2.cuda()\n",
        "                yb = yb.cuda()\n",
        "            \n",
        "            outputs = model(img1,img2)\n",
        "            # losses, nums = loss_batch(outputs, yb, opt)\n",
        "            # running_loss += losses\n",
        "            # sample_num += nums\n",
        "            loss = loss_func(outputs.T,yb)\n",
        "\n",
        "            # Backward and optimize\n",
        "            optimizer.zero_grad()\n",
        "            loss.backward()\n",
        "            optimizer.step()\n",
        "            running_loss += loss.item()\n",
        "            \n",
        "            \n",
        "        train_loss = running_loss / len(train_loader)\n",
        "        train_loss_list.append(train_loss)\n",
        "            \n",
        "        model.eval()\n",
        "        with torch.no_grad():\n",
        "            running_loss = 0.0\n",
        "            sample_num=0\n",
        "            for img1,img2, yb in val_loader:\n",
        "                if torch.cuda.is_available():\n",
        "                    img1 = img1.cuda()\n",
        "                    img2 = img2.cuda()\n",
        "                    yb = yb.cuda()\n",
        "                outputs = model(img1,img2)\n",
        "                # losses, nums = loss_batch(outputs, yb)\n",
        "                # running_loss += losses\n",
        "                # sample_num += nums\n",
        "                loss = loss_func(outputs.T, yb)\n",
        "                running_loss += loss.item()\n",
        "                                \n",
        "            val_loss = running_loss / len(val_loader)\n",
        "            val_loss_list.append(val_loss)\n",
        "                \n",
        "        # print(f'EPOCH: {epoch+1:0>{len(str(epochs))}}/{epochs}', end=' ')\n",
        "        # print(f\"Train loss: {train_loss:.4f}, Val loss: {val_loss:.4f}\", end=\"\\n\")\n",
        "        epoch_train_loss.append(train_loss)\n",
        "        epoch_val_loss.append(val_loss)\n",
        "    plt.plot([i for i in range(len(epoch_train_loss))], epoch_train_loss)\n",
        "    plt.plot([i for i in range(len(epoch_val_loss))], epoch_val_loss)\n",
        "    plt.show()\n"
      ]
    },
    {
      "cell_type": "code",
      "execution_count": 22,
      "id": "HDt5V1KGcfLA",
      "metadata": {
        "colab": {
          "base_uri": "https://localhost:8080/",
          "height": 283
        },
        "id": "HDt5V1KGcfLA",
        "outputId": "10d486ad-be3b-4611-8b58-6f12231dfd08"
      },
      "outputs": [
        {
          "name": "stderr",
          "output_type": "stream",
          "text": [
            "100%|██████████| 100/100 [04:42<00:00,  2.83s/it]\n"
          ]
        },
        {
          "data": {
            "image/png": "[encoded data removed]",
            "text/plain": [
              "<Figure size 432x288 with 1 Axes>"
            ]
          },
          "metadata": {
            "needs_background": "light"
          },
          "output_type": "display_data"
        }
      ],
      "source": [
        "epochs = 100\n",
        "fit(epochs, model, loss_func, train_loader, validation_loader, optimizer)"
      ]
    },
    {
      "cell_type": "code",
      "execution_count": 23,
      "id": "uhOIctrPwBSr",
      "metadata": {
        "colab": {
          "base_uri": "https://localhost:8080/"
        },
        "id": "uhOIctrPwBSr",
        "outputId": "7b011a7e-2598-4cce-ad11-60ab18855040"
      },
      "outputs": [
        {
          "name": "stderr",
          "output_type": "stream",
          "text": [
            "100%|██████████| 10/10 [01:14<00:00,  7.49s/it]\n"
          ]
        },
        {
          "data": {
            "image/png": "[encoded data removed]",
            "text/plain": [
              "<Figure size 432x288 with 1 Axes>"
            ]
          },
          "metadata": {
            "needs_background": "light"
          },
          "output_type": "display_data"
        }
      ],
      "source": [
        "epochs = 10\n",
        "fit(epochs, model_v2, loss_func, train_loader, validation_loader, optimizer)"
      ]
    },
    {
      "cell_type": "code",
      "execution_count": 24,
      "id": "1f38e519",
      "metadata": {
        "id": "1f38e519"
      },
      "outputs": [],
      "source": [
        "## Task  ##"
      ]
    },
    {
      "cell_type": "code",
      "execution_count": 25,
      "id": "0b6fdfee",
      "metadata": {
        "id": "0b6fdfee"
      },
      "outputs": [],
      "source": [
        "## Model Definition ##"
      ]
    },
    {
      "cell_type": "code",
      "execution_count": 26,
      "id": "93e6f3fb",
      "metadata": {
        "id": "93e6f3fb"
      },
      "outputs": [],
      "source": [
        "## LOSS Definition ##"
      ]
    },
    {
      "cell_type": "code",
      "execution_count": 27,
      "id": "5f1a9501",
      "metadata": {
        "id": "5f1a9501"
      },
      "outputs": [],
      "source": [
        "## Build Sample Selector ##"
      ]
    },
    {
      "cell_type": "code",
      "execution_count": 28,
      "id": "d2c8f9a6",
      "metadata": {
        "id": "d2c8f9a6"
      },
      "outputs": [],
      "source": [
        "## Training ##"
      ]
    },
    {
      "cell_type": "code",
      "execution_count": 29,
      "id": "64252d3e",
      "metadata": {
        "id": "64252d3e"
      },
      "outputs": [],
      "source": [
        "## Evaluation ##\n",
        "test_loss_list = list()\n",
        "\n",
        "def test(model, loss_func, test_loader):\n",
        "    model.train()\n",
        "\n",
        "    running_loss = 0.0\n",
        "    for img1, img2, yb in test_loader:\n",
        "        if torch.cuda.is_available():\n",
        "            img1 = img1.cuda()\n",
        "            img2 = img2.cuda()\n",
        "            yb = yb.cuda()\n",
        "\n",
        "        outputs = model(img1, img2)\n",
        "        # losses, nums = loss_batch(outputs, yb, opt)\n",
        "        # running_loss += losses\n",
        "        # sample_num += nums\n",
        "        loss = loss_func(outputs.T,yb)\n",
        "\n",
        "        running_loss += loss.item()\n",
        "        test_loss_list.append(loss.item())\n",
        "        \n",
        "    print(f\"running_loss: {running_loss}, len(test_loader): {len(test_loader)}\")\n",
        "    test_loss = running_loss / len(test_loader)\n",
        "    \n",
        "    print(f\"Test loss: {test_loss:.4f}\", end=\"\\n\")\n",
        "    \n",
        "    return test_loss_list"
      ]
    },
    {
      "cell_type": "code",
      "execution_count": 30,
      "id": "uc0rITE3ZopT",
      "metadata": {
        "colab": {
          "base_uri": "https://localhost:8080/"
        },
        "id": "uc0rITE3ZopT",
        "outputId": "513830c7-876d-4a7e-cc35-44a9951550e0"
      },
      "outputs": [
        {
          "name": "stdout",
          "output_type": "stream",
          "text": [
            "running_loss: 0.07532405122947239, len(test_loader): 50\n",
            "Test loss: 0.0015\n"
          ]
        }
      ],
      "source": [
        "test_losses = test(model, loss_func, test_loader)"
      ]
    },
    {
      "cell_type": "code",
      "execution_count": 31,
      "id": "3340d7ca",
      "metadata": {},
      "outputs": [],
      "source": [
        "class MyDatasetOriginal(Dataset):\n",
        "    def __init__(self, data, targets):\n",
        "        self.data = torch.FloatTensor(data)\n",
        "        self.targets = torch.LongTensor(targets)\n",
        "\n",
        "        \n",
        "    def __getitem__(self, index):\n",
        "        x = self.data[index]\n",
        "        y = self.targets[index]\n",
        "        return x, y\n",
        "    \n",
        "    def __len__(self):\n",
        "        return len(self.data)\n",
        "\n",
        "\n",
        "def test_accuracy(model, test_loader, threshold=0.5):\n",
        "    model = model.eval()\n",
        "    running_acc = 0.\n",
        "    with torch.no_grad():\n",
        "        for imgs, yb in test_loader:\n",
        "            query = imgs[:, 0]\n",
        "            n_support = yb.shape[1]\n",
        "            outputs = torch.stack([model(query, imgs[:, i + 1]) for i in range(n_support)]).squeeze()\n",
        "            preds = (torch.sigmoid(outputs) > threshold).long().T\n",
        "            # Accuracy = percentage of correctly classified support images\n",
        "            running_acc += ((preds == yb).sum() / yb.shape[0] / yb.shape[1]).item()\n",
        "    return running_acc / len(test_loader)\n",
        "\n",
        "test_dataset_original=MyDatasetOriginal(test_data,test_label)\n",
        "test_loader_original = torch.utils.data.DataLoader(test_dataset_original, batch_size=20)\n"
      ]
    },
    {
      "cell_type": "code",
      "execution_count": 65,
      "id": "fdb1ddf0",
      "metadata": {},
      "outputs": [
        {
          "name": "stdout",
          "output_type": "stream",
          "text": [
            "zero model accuracy is 0.6114000070095063\n",
            "random model accuracy is 0.5076000022888184\n"
          ]
        }
      ],
      "source": [
        "class ZeroModel(nn.Module):\n",
        "    def __init__(self):\n",
        "        super(ZeroModel, self).__init__()\n",
        "\n",
        "    def forward(self, image1, _):\n",
        "        return torch.zeros((image1.shape[0], 1))\n",
        "\n",
        "acc = test_accuracy(ZeroModel(), test_loader_original)\n",
        "print(f'zero model accuracy is {acc}')\n",
        "\n",
        "class RandomModel(nn.Module):\n",
        "    def __init__(self):\n",
        "        super(RandomModel, self).__init__()\n",
        "\n",
        "    def forward(self, image1, _):\n",
        "        return torch.randn((image1.shape[0], 1)) * 10\n",
        "\n",
        "acc = test_accuracy(RandomModel(), test_loader_original)\n",
        "print(f'random model accuracy is {acc}')"
      ]
    },
    {
      "cell_type": "code",
      "execution_count": 66,
      "id": "f8d5ee16",
      "metadata": {},
      "outputs": [
        {
          "name": "stderr",
          "output_type": "stream",
          "text": [
            "100%|██████████| 25/25 [00:06<00:00,  3.64it/s]\n"
          ]
        },
        {
          "name": "stdout",
          "output_type": "stream",
          "text": [
            "model accuracy is 0.6114000070095063\n"
          ]
        },
        {
          "name": "stderr",
          "output_type": "stream",
          "text": [
            "100%|██████████| 25/25 [00:18<00:00,  1.35it/s]"
          ]
        },
        {
          "name": "stdout",
          "output_type": "stream",
          "text": [
            "model_v2 accuracy is 0.6114000070095063\n"
          ]
        },
        {
          "name": "stderr",
          "output_type": "stream",
          "text": [
            "\n"
          ]
        },
        {
          "data": {
            "image/png": "[encoded data removed]",
            "text/plain": [
              "<Figure size 432x288 with 1 Axes>"
            ]
          },
          "metadata": {
            "needs_background": "light"
          },
          "output_type": "display_data"
        },
        {
          "data": {
            "image/png": "[encoded data removed]",
            "text/plain": [
              "<Figure size 432x288 with 1 Axes>"
            ]
          },
          "metadata": {
            "needs_background": "light"
          },
          "output_type": "display_data"
        },
        {
          "data": {
            "text/plain": [
              "<Figure size 432x288 with 0 Axes>"
            ]
          },
          "metadata": {},
          "output_type": "display_data"
        }
      ],
      "source": [
        "def search_threshold(model, loader, start = 0, end = 1, count = 25):\n",
        "    threshold_range = list(torch.linspace(start, end, count))\n",
        "    acc_graph = [test_accuracy(model, loader, t) for t in tqdm(threshold_range)]\n",
        "    plt.plot(threshold_range, acc_graph)\n",
        "    plt.xlabel(\"threshold\")\n",
        "    plt.ylabel(\"validation accuracy\")\n",
        "    plt.figure()\n",
        "    return max(acc_graph)\n",
        "\n",
        "acc = search_threshold(model, test_loader_original)\n",
        "print(f'model accuracy is {acc}')\n",
        "\n",
        "acc = search_threshold(model_v2, test_loader_original)\n",
        "print(f'model_v2 accuracy is {acc}')"
      ]
    }
  ],
  "metadata": {
    "colab": {
      "collapsed_sections": [],
      "name": "Assignment_1.ipynb",
      "provenance": []
    },
    "kernelspec": {
      "display_name": "cnn-course",
      "language": "python",
      "name": "cnn-course"
    },
    "language_info": {
      "codemirror_mode": {
        "name": "ipython",
        "version": 3
      },
      "file_extension": ".py",
      "mimetype": "text/x-python",
      "name": "python",
      "nbconvert_exporter": "python",
      "pygments_lexer": "ipython3",
      "version": "3.9.12"
    }
  },
  "nbformat": 4,
  "nbformat_minor": 5
}

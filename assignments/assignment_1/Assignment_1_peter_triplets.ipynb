{
 "cells": [
  {
   "cell_type": "markdown",
   "id": "06ab2292",
   "metadata": {
    "id": "06ab2292"
   },
   "source": [
    "<a href=\"https://colab.research.google.com/github/vlamen/tue-deeplearning/blob/main/assignments/assignment_1/Assignment_1.ipynb\" target=\"_parent\"><img src=\"https://colab.research.google.com/assets/colab-badge.svg\" alt=\"Open In Colab\"/></a>    "
   ]
  },
  {
   "cell_type": "markdown",
   "id": "b9b20982",
   "metadata": {
    "id": "b9b20982"
   },
   "source": [
    "# Group Number:37\n",
    "# Student 1: Jiong Li | 1533312\n",
    "# Student 2: Peter Elmers | 1734350\n",
    "# Student 3: P.T.C.M. Tholhuijsen | 1237447"
   ]
  },
  {
   "cell_type": "code",
   "execution_count": 1,
   "id": "b49fc2e3",
   "metadata": {
    "colab": {
     "base_uri": "https://localhost:8080/"
    },
    "executionInfo": {
     "elapsed": 3278,
     "status": "ok",
     "timestamp": 1652032698029,
     "user": {
      "displayName": "jiong li",
      "userId": "13989285017847251059"
     },
     "user_tz": -120
    },
    "id": "b49fc2e3",
    "outputId": "bcfe06b8-f81e-4297-f327-8f45bab97d51"
   },
   "outputs": [
    {
     "name": "stdout",
     "output_type": "stream",
     "text": [
      "%pylab is deprecated, use %matplotlib inline and import the required libraries.\n",
      "Populating the interactive namespace from numpy and matplotlib\n"
     ]
    }
   ],
   "source": [
    "import requests\n",
    "import io\n",
    "import torch\n",
    "import torch.nn as nn\n",
    "import torch.nn.functional as F\n",
    "import numpy as np\n",
    "%pylab inline"
   ]
  },
  {
   "cell_type": "markdown",
   "id": "25cfb295",
   "metadata": {
    "id": "25cfb295"
   },
   "source": [
    "### Training data set\n",
    "\n",
    "\n",
    "For Assignment 1 you need to use a specific data set prepared using images from the [Omniglot dataset](https://github.com/brendenlake/omniglot). The provided training data set contains images of handwritten characters of size (28,28). \n",
    "\n",
    "\n",
    "\n",
    "For training data, the dataset contains 10000 sets of 6 images each. Each set consists of 5 support images and 1 query image. In each set, the first five columns are support images and the last one is a query image.\n",
    "\n",
    "For training labels, the dataset contains 10000 sets of 5 binary flags for support images. 1 indicates the same character is given in the query image and 0 means not. For example, a label [1,0,0,1,1] means the support images with index 0,3,4 are the same character of query image.\n",
    "\n",
    " \n",
    " \n",
    "The following cell provides code that loads the data from hardcoded URLs.You can use the code in this cell to load the dataset or download the data set from the given URLs to your local drive (or your Google drive) and modify the code to load the data from another location. \n",
    "\n",
    "\n"
   ]
  },
  {
   "cell_type": "code",
   "execution_count": 2,
   "id": "f19f0a40",
   "metadata": {
    "colab": {
     "base_uri": "https://localhost:8080/"
    },
    "executionInfo": {
     "elapsed": 51480,
     "status": "ok",
     "timestamp": 1652032750828,
     "user": {
      "displayName": "jiong li",
      "userId": "13989285017847251059"
     },
     "user_tz": -120
    },
    "id": "f19f0a40",
    "outputId": "6f7d226d-784f-4f10-efa9-fb64d8dd8801"
   },
   "outputs": [
    {
     "name": "stdout",
     "output_type": "stream",
     "text": [
      "train_data shape: (10000, 6, 28, 28)\n",
      "train_label shape: (10000, 5)\n",
      "\n"
     ]
    }
   ],
   "source": [
    "def load_numpy_arr_from_url(url):\n",
    "    \"\"\"\n",
    "    Loads a numpy array from surfdrive. \n",
    "    \n",
    "    Input:\n",
    "    url: Download link of dataset \n",
    "    \n",
    "    Outputs:\n",
    "    dataset: numpy array with input features or labels\n",
    "    \"\"\"\n",
    "    \n",
    "    response = requests.get(url)\n",
    "    response.raise_for_status()\n",
    "\n",
    "    return np.load(io.BytesIO(response.content)) \n",
    "    \n",
    "    \n",
    "    \n",
    "#Downloading may take a while..\n",
    "train_data = load_numpy_arr_from_url('https://surfdrive.surf.nl/files/index.php/s/4OXkVie05NPjRKK/download')\n",
    "train_label = load_numpy_arr_from_url('https://surfdrive.surf.nl/files/index.php/s/oMLFw60zpFX82ua/download')\n",
    "\n",
    "print(f\"train_data shape: {train_data.shape}\")\n",
    "print(f\"train_label shape: {train_label.shape}\\n\")"
   ]
  },
  {
   "cell_type": "markdown",
   "id": "cb937392",
   "metadata": {
    "id": "cb937392"
   },
   "source": [
    "Now, we plot the first 5 cases in the training dataset. The last column corresponds with the query images of each task. All other images are support images. The image enclosed in a red box denotes the target image that your model should be able to recognize as the same class as the query image. "
   ]
  },
  {
   "cell_type": "code",
   "execution_count": 3,
   "id": "b1b4bd29",
   "metadata": {
    "executionInfo": {
     "elapsed": 24,
     "status": "ok",
     "timestamp": 1652032750830,
     "user": {
      "displayName": "jiong li",
      "userId": "13989285017847251059"
     },
     "user_tz": -120
    },
    "id": "b1b4bd29"
   },
   "outputs": [],
   "source": [
    "def plot_case(caseID,train_data,labels):\n",
    "    \"\"\"\n",
    "    Plots a single sample of the query dataset\n",
    "    \n",
    "    Inputs\n",
    "    caseID: Integer between 0 and 99, each corresponding to a single sample in the query dataset \n",
    "    \"\"\"\n",
    "    \n",
    "\n",
    "    support_set,queries = np.split(train_data, [5], axis=1)\n",
    "    \n",
    "    f, axes = plt.subplots(1, 6, figsize=(20,5))\n",
    "\n",
    "    # plot anchor image\n",
    "    axes[5].imshow(queries[caseID, 0])\n",
    "    axes[5].set_title(f\"Query image case {caseID}\", fontsize=15)\n",
    "\n",
    "    # show all test images images \n",
    "    [ax.imshow(support_set[caseID, i]) for i, ax in enumerate(axes[0:-1])]\n",
    "\n",
    "\n",
    "    # Add the patch to the Axes\n",
    "    for ind in np.where(labels[caseID]==True)[0]:\n",
    "        axes[ind].add_patch(Rectangle((0,0),27,27,linewidth=2, edgecolor='r',facecolor='none'))\n"
   ]
  },
  {
   "cell_type": "code",
   "execution_count": 4,
   "id": "03538ffb",
   "metadata": {
    "colab": {
     "base_uri": "https://localhost:8080/",
     "height": 586
    },
    "executionInfo": {
     "elapsed": 4759,
     "status": "ok",
     "timestamp": 1652032917289,
     "user": {
      "displayName": "jiong li",
      "userId": "13989285017847251059"
     },
     "user_tz": -120
    },
    "id": "03538ffb",
    "outputId": "d682cafb-20cf-471a-b2f8-b0937efa18b1"
   },
   "outputs": [
    {
     "data": {
      "image/png": "[encoded data removed]",
      "text/plain": [
       "<Figure size 1440x360 with 6 Axes>"
      ]
     },
     "metadata": {
      "needs_background": "light"
     },
     "output_type": "display_data"
    },
    {
     "data": {
      "image/png": "[encoded data removed]",
      "text/plain": [
       "<Figure size 1440x360 with 6 Axes>"
      ]
     },
     "metadata": {
      "needs_background": "light"
     },
     "output_type": "display_data"
    },
    {
     "data": {
      "image/png": "[encoded data removed]",
      "text/plain": [
       "<Figure size 1440x360 with 6 Axes>"
      ]
     },
     "metadata": {
      "needs_background": "light"
     },
     "output_type": "display_data"
    },
    {
     "data": {
      "image/png": "[encoded data removed]",
      "text/plain": [
       "<Figure size 1440x360 with 6 Axes>"
      ]
     },
     "metadata": {
      "needs_background": "light"
     },
     "output_type": "display_data"
    },
    {
     "data": {
      "image/png": "[encoded data removed]",
      "text/plain": [
       "<Figure size 1440x360 with 6 Axes>"
      ]
     },
     "metadata": {
      "needs_background": "light"
     },
     "output_type": "display_data"
    }
   ],
   "source": [
    "[plot_case(caseID,train_data,train_label) for caseID in range(5)] ;"
   ]
  },
  {
   "cell_type": "markdown",
   "id": "931f2383",
   "metadata": {
    "id": "931f2383"
   },
   "source": [
    "### Query data set\n",
    "\n",
    "For this task you need to use the following query data set. The dataset contains 1000 sets of 6 images each. The images are also of hand written characters, however these characters are not present in the training data set. The characters in the query data set all come from the Greek alphabet that is not part of the set of alphabets in the training data. \n"
   ]
  },
  {
   "cell_type": "code",
   "execution_count": 5,
   "id": "c9ba78dc",
   "metadata": {
    "colab": {
     "base_uri": "https://localhost:8080/"
    },
    "executionInfo": {
     "elapsed": 7825,
     "status": "ok",
     "timestamp": 1652032927948,
     "user": {
      "displayName": "jiong li",
      "userId": "13989285017847251059"
     },
     "user_tz": -120
    },
    "id": "c9ba78dc",
    "outputId": "11f8b709-0e5b-4a53-9ee4-41819c02e9c8"
   },
   "outputs": [
    {
     "name": "stdout",
     "output_type": "stream",
     "text": [
      "test_data shape: (1000, 6, 28, 28)\n",
      "test_label shape: (1000, 5)\n",
      "\n"
     ]
    }
   ],
   "source": [
    "    \n",
    "#Downloading may take a while..\n",
    "test_data = load_numpy_arr_from_url('https://surfdrive.surf.nl/files/index.php/s/06c34QVUr69CxWY/download')\n",
    "test_label = load_numpy_arr_from_url('https://surfdrive.surf.nl/files/index.php/s/LQIH1CW7lfDXevk/download')\n",
    "\n",
    "print(f\"test_data shape: {test_data.shape}\")\n",
    "print(f\"test_label shape: {test_label.shape}\\n\")"
   ]
  },
  {
   "cell_type": "code",
   "execution_count": 6,
   "id": "03fb3580",
   "metadata": {
    "colab": {
     "base_uri": "https://localhost:8080/",
     "height": 586
    },
    "executionInfo": {
     "elapsed": 4047,
     "status": "ok",
     "timestamp": 1652032931977,
     "user": {
      "displayName": "jiong li",
      "userId": "13989285017847251059"
     },
     "user_tz": -120
    },
    "id": "03fb3580",
    "outputId": "3351c25e-5f79-42d4-a440-5322e33d135b",
    "scrolled": false
   },
   "outputs": [
    {
     "data": {
      "image/png": "[encoded data removed]",
      "text/plain": [
       "<Figure size 1440x360 with 6 Axes>"
      ]
     },
     "metadata": {
      "needs_background": "light"
     },
     "output_type": "display_data"
    },
    {
     "data": {
      "image/png": "[encoded data removed]",
      "text/plain": [
       "<Figure size 1440x360 with 6 Axes>"
      ]
     },
     "metadata": {
      "needs_background": "light"
     },
     "output_type": "display_data"
    },
    {
     "data": {
      "image/png": "[encoded data removed]",
      "text/plain": [
       "<Figure size 1440x360 with 6 Axes>"
      ]
     },
     "metadata": {
      "needs_background": "light"
     },
     "output_type": "display_data"
    },
    {
     "data": {
      "image/png": "[encoded data removed]",
      "text/plain": [
       "<Figure size 1440x360 with 6 Axes>"
      ]
     },
     "metadata": {
      "needs_background": "light"
     },
     "output_type": "display_data"
    },
    {
     "data": {
      "image/png": "[encoded data removed]",
      "text/plain": [
       "<Figure size 1440x360 with 6 Axes>"
      ]
     },
     "metadata": {
      "needs_background": "light"
     },
     "output_type": "display_data"
    }
   ],
   "source": [
    "[plot_case(caseID,test_data,test_label) for caseID in range(5)] ;"
   ]
  },
  {
   "cell_type": "markdown",
   "id": "fcc32db2",
   "metadata": {
    "id": "fcc32db2"
   },
   "source": [
    "### Build pytorch dataset and dataload"
   ]
  },
  {
   "cell_type": "code",
   "execution_count": 7,
   "id": "fcf31f45",
   "metadata": {
    "executionInfo": {
     "elapsed": 364,
     "status": "ok",
     "timestamp": 1652032932312,
     "user": {
      "displayName": "jiong li",
      "userId": "13989285017847251059"
     },
     "user_tz": -120
    },
    "id": "fcf31f45"
   },
   "outputs": [],
   "source": [
    "import torch\n",
    "from torchvision import transforms\n",
    "from torch.utils.data import Dataset, DataLoader,TensorDataset\n",
    "import numpy as np\n",
    "from PIL import Image\n",
    "\n",
    "class MyDataset(Dataset):\n",
    "    def __init__(self, data, targets, transform=None):\n",
    "        self.data = torch.FloatTensor(data)\n",
    "        self.targets = torch.LongTensor(targets)\n",
    "        self.transform = transform\n",
    "\n",
    "        \n",
    "    def __getitem__(self, index):\n",
    "        x = self.data[index]\n",
    "        y = self.targets[index]\n",
    "        return x, y\n",
    "    \n",
    "    def __len__(self):\n",
    "        return len(self.data)"
   ]
  },
  {
   "cell_type": "code",
   "execution_count": 8,
   "id": "FTWz5GrkxYni",
   "metadata": {
    "executionInfo": {
     "elapsed": 1346,
     "status": "ok",
     "timestamp": 1652032933652,
     "user": {
      "displayName": "jiong li",
      "userId": "13989285017847251059"
     },
     "user_tz": -120
    },
    "id": "FTWz5GrkxYni"
   },
   "outputs": [],
   "source": [
    "from sklearn.model_selection import train_test_split\n",
    "train_data, validation_data, train_label, validation_label = train_test_split(train_data, train_label, test_size=0.2)"
   ]
  },
  {
   "cell_type": "code",
   "execution_count": 9,
   "id": "d3d75da8",
   "metadata": {
    "executionInfo": {
     "elapsed": 368,
     "status": "ok",
     "timestamp": 1652032945581,
     "user": {
      "displayName": "jiong li",
      "userId": "13989285017847251059"
     },
     "user_tz": -120
    },
    "id": "d3d75da8"
   },
   "outputs": [],
   "source": [
    "transform = transforms.Compose([transforms.ToTensor(), transforms.Normalize(0, 1)])\n",
    "train_dataset=MyDataset(train_data,train_label, transform)\n",
    "validation_dataset=MyDataset(validation_data,validation_label, transform)\n",
    "test_dataset=MyDataset(test_data,test_label, transform)"
   ]
  },
  {
   "cell_type": "code",
   "execution_count": 10,
   "id": "d4c1bd77",
   "metadata": {
    "executionInfo": {
     "elapsed": 333,
     "status": "ok",
     "timestamp": 1652045784485,
     "user": {
      "displayName": "jiong li",
      "userId": "13989285017847251059"
     },
     "user_tz": -120
    },
    "id": "d4c1bd77"
   },
   "outputs": [],
   "source": [
    "train_loader = torch.utils.data.DataLoader(train_dataset,batch_size=10)\n",
    "validation_loader = torch.utils.data.DataLoader(validation_dataset, batch_size=10)\n",
    "test_loader = torch.utils.data.DataLoader(test_dataset, batch_size=10)"
   ]
  },
  {
   "cell_type": "code",
   "execution_count": 11,
   "id": "c3f49a0f",
   "metadata": {},
   "outputs": [
    {
     "data": {
      "text/plain": [
       "(torch.Size([10, 6, 28, 28]), torch.Size([10, 5]))"
      ]
     },
     "execution_count": 11,
     "metadata": {},
     "output_type": "execute_result"
    }
   ],
   "source": [
    "# What is the data loader output shape?\n",
    "x_example, y_example = next(iter(torch.utils.data.DataLoader(train_dataset, batch_size=10)))\n",
    "x_example.shape, y_example.shape"
   ]
  },
  {
   "cell_type": "code",
   "execution_count": 28,
   "id": "CorNFRmEbc2Z",
   "metadata": {
    "executionInfo": {
     "elapsed": 426,
     "status": "ok",
     "timestamp": 1652047713198,
     "user": {
      "displayName": "jiong li",
      "userId": "13989285017847251059"
     },
     "user_tz": -120
    },
    "id": "CorNFRmEbc2Z"
   },
   "outputs": [],
   "source": [
    "import random\n",
    "import matplotlib.pyplot as plt\n",
    "import torchvision.transforms.functional as TF\n",
    "\n",
    "# Fitting/Training the model\n",
    "def random_rotate(img):\n",
    "    angle = random.choice([0, 90, 180, 270])\n",
    "    return TF.rotate(img, angle)\n",
    "\n",
    "def make_triplets(imgs, yb):\n",
    "    '''\n",
    "    For each tuple of imgs, create triples of (anchor, positive, negative).\n",
    "    One triple for each positive, negatives are chosen randomly.\n",
    "    '''\n",
    "    # N = batch size\n",
    "    N = imgs.shape[0]\n",
    "    anchors = []\n",
    "    positives = []\n",
    "    negatives = []\n",
    "    # for each batch, get pos_yb and neg_yb. then for each positive, take a random negative\n",
    "    for n in range(N):\n",
    "        pos_yb = (yb[n, :] == 1).nonzero()\n",
    "        neg_yb = (yb[n, :] == 0).nonzero()\n",
    "        for pos_idx in pos_yb:\n",
    "            # TODO: add data augmentation? by rotation\n",
    "            anchors.append(imgs[n, -1].unsqueeze(0))\n",
    "            # add 1 to the index because query is the first one\n",
    "            positives.append(imgs[n, pos_idx])\n",
    "            negatives.append(imgs[n, random.choice(neg_yb)])\n",
    "            \n",
    "    # Return N*r anchors, positives, negatives\n",
    "    return [torch.cat(imgs) for imgs in [anchors, positives, negatives]]\n",
    "\n",
    "def fit(epochs, loss_func, model, train_loader, val_loader, opt):\n",
    "    threshold = 0.5\n",
    "    loss_graph = []\n",
    "    for epoch in range(epochs):\n",
    "        model = model.train()\n",
    "        print(f'Epoch {epoch + 1}')\n",
    "        \n",
    "        losses = []\n",
    "        for imgs, yb in tqdm(train_loader, desc=\"Training\"):\n",
    "            opt.zero_grad()\n",
    "\n",
    "            anchor, positive, negative = make_triplets(imgs, yb)\n",
    "            # Then apply model to each of the three and use triplet loss: https://pytorch.org/docs/stable/generated/torch.nn.TripletMarginLoss.html(a, p, n)\n",
    "            # http://www.bmva.org/bmvc/2016/papers/paper119/paper119.pdf\n",
    "            if torch.cuda.is_available():\n",
    "                anchor, positive, negative = [v.cuda() for v in [anchor, positive, negative]]\n",
    "            \n",
    "            anchor, positive, negative = [model(v) for v in [anchor, positive, negative]]\n",
    "            \n",
    "            loss = loss_func(anchor, positive, negative)\n",
    "\n",
    "            # Backward and optimize\n",
    "            loss.backward()\n",
    "            opt.step()\n",
    "\n",
    "            # Record data\n",
    "            losses.append(loss.item() / anchor.shape[0])\n",
    "\n",
    "        loss_graph.append(sum(losses) / len(train_loader))\n",
    "        print(f'Average loss: {loss_graph[-1]}')\n",
    "\n",
    "        print('Train accuracy:' f'{(threshold, test(model, train_loader, threshold))}')\n",
    "        print('Validation accuracy:' f'{(threshold, test(model, val_loader, threshold))}')\n",
    "        # threshold_range = list(torch.linspace(0, 1, 5))\n",
    "        # print(\n",
    "            # 'Validation accuracy by threshold:'\n",
    "            # f'{[(t.item(), test(model, val_loader, t)) for t in tqdm(threshold_range, desc=\"Validating\")]}')\n",
    "\n",
    "    plt.plot(loss_graph)\n",
    "    plt.title(\"training loss\")\n",
    "    plt.xlabel(\"epoch number\")\n",
    "    plt.ylabel(\"loss value\")\n",
    "\n",
    "\n",
    "# TODO: show a couple examples of make_triplets"
   ]
  },
  {
   "cell_type": "code",
   "execution_count": 27,
   "id": "a048581a",
   "metadata": {},
   "outputs": [],
   "source": [
    "def test(model, test_loader, threshold=0.5):\n",
    "    '''\n",
    "    Test given model using data from given loader with given threshold.\n",
    "    Return scores: (FP, TP, accuracy)\n",
    "    '''\n",
    "    model = model.eval()\n",
    "    running_tp = 0.0\n",
    "    running_fp = 0.0\n",
    "    running_acc = 0.0\n",
    "    with torch.no_grad():\n",
    "        for imgs, yb in test_loader:\n",
    "            if torch.cuda.is_available():\n",
    "                imgs = imgs.cuda()\n",
    "                yb = yb.cuda()\n",
    "\n",
    "            # Embed each img\n",
    "            query = model(imgs[:, -1])\n",
    "            supports = []\n",
    "            for col in range(imgs.shape[1] - 1):\n",
    "                embed = model(imgs[:, col])\n",
    "                supports.append(embed)\n",
    "\n",
    "            # Calculate euclidean/cosine distance from query to each support\n",
    "            cos = nn.CosineSimilarity()\n",
    "            # distances = torch.stack([((query - sup)**2).sum(axis=1).sqrt() for sup in supports]).T\n",
    "            distances = torch.stack([0.5 - (cos(query, sup) / 2.) for sup in supports]).T\n",
    "            # Classify based on given threshold: if support is closer than threshold, it is the same\n",
    "            # softmax of euclidean distances: https://arxiv.org/pdf/1703.05175.pdf\n",
    "            # ratio measure via softmax: https://arxiv.org/pdf/1412.6622.pdf\n",
    "            preds = (distances < threshold).float()\n",
    "            # Receiver operating characteristic plots the true and false positives\n",
    "            running_tp += (((preds == 1) & (yb == 1)).sum() / (yb == 1).sum()).item()\n",
    "            running_fp += (((preds == 1) & (yb == 0)).sum() / (yb == 0).sum()).item()\n",
    "            running_acc += ((preds == yb).sum() / yb.shape[0] / yb.shape[1]).item()\n",
    "            \n",
    "        n = len(test_loader)\n",
    "        return (running_fp / n, running_tp / n, running_acc / n)\n",
    "\n",
    "def plot_roc(model, loader, thresholds, desc=\"Validation\"):\n",
    "    rocs = [test(model, loader, t) for t in thresholds]\n",
    "    # Split tuples into x and y, x = FP and y = TP\n",
    "    x = [roc[0] for roc in rocs]\n",
    "    y = [roc[1] for roc in rocs]\n",
    "    # z = accuracy, is not plotted\n",
    "    z = [roc[2] for roc in rocs]\n",
    "    plt.plot(x, y)\n",
    "    plt.title(f\"{desc} ROC\")\n",
    "    plt.xlabel(\"false positive rate\")\n",
    "    plt.ylabel(\"true positive rate\")\n",
    "    return x, y, z"
   ]
  },
  {
   "cell_type": "code",
   "execution_count": 14,
   "id": "83b7103e",
   "metadata": {},
   "outputs": [],
   "source": [
    "from tqdm import tqdm\n",
    "import torch.nn as nn\n",
    "import torch.nn.functional as F\n",
    "\n",
    "class OneModel(nn.Module):\n",
    "    def __init__(self):\n",
    "        super(OneModel, self).__init__()\n",
    "\n",
    "    def forward(self, images):\n",
    "        return torch.ones((images.shape[0], images.shape[1]))\n",
    "\n",
    "class RandomModel(nn.Module):\n",
    "    def __init__(self):\n",
    "        super(RandomModel, self).__init__()\n",
    "\n",
    "    def forward(self, images):\n",
    "        return torch.randn((images.shape[0], images.shape[1]))"
   ]
  },
  {
   "cell_type": "code",
   "execution_count": 15,
   "id": "bhCEIxtgXfVQ",
   "metadata": {
    "colab": {
     "base_uri": "https://localhost:8080/"
    },
    "executionInfo": {
     "elapsed": 348,
     "status": "ok",
     "timestamp": 1652047492960,
     "user": {
      "displayName": "jiong li",
      "userId": "13989285017847251059"
     },
     "user_tz": -120
    },
    "id": "bhCEIxtgXfVQ",
    "outputId": "48cd0bc0-8d94-4331-f1c1-e978a2ce7f39"
   },
   "outputs": [
    {
     "name": "stdout",
     "output_type": "stream",
     "text": [
      "The model architecture:\n",
      "\n",
      " Model(\n",
      "  (embed): Sequential(\n",
      "    (0): Conv2d(1, 16, kernel_size=(7, 7), stride=(1, 1), padding=(3, 3))\n",
      "    (1): BatchNorm2d(16, eps=1e-05, momentum=0.1, affine=True, track_running_stats=True)\n",
      "    (2): ReLU()\n",
      "    (3): MaxPool2d(kernel_size=2, stride=2, padding=0, dilation=1, ceil_mode=False)\n",
      "    (4): Conv2d(16, 64, kernel_size=(3, 3), stride=(1, 1), padding=(1, 1))\n",
      "    (5): BatchNorm2d(64, eps=1e-05, momentum=0.1, affine=True, track_running_stats=True)\n",
      "    (6): MaxPool2d(kernel_size=2, stride=2, padding=0, dilation=1, ceil_mode=False)\n",
      "    (7): ReLU()\n",
      "    (8): Conv2d(64, 128, kernel_size=(3, 3), stride=(1, 1), padding=(1, 1))\n",
      "    (9): BatchNorm2d(128, eps=1e-05, momentum=0.1, affine=True, track_running_stats=True)\n",
      "    (10): ReLU()\n",
      "    (11): Flatten()\n",
      "    (12): Linear(in_features=6272, out_features=32, bias=True)\n",
      "  )\n",
      ")\n",
      "\n",
      "The model has 285,088 trainable parameters\n"
     ]
    },
    {
     "name": "stderr",
     "output_type": "stream",
     "text": [
      "/var/folders/bj/xq0r65c15zscywj6dg01l4rr0000gn/T/ipykernel_93925/1979104940.py:40: DeprecationWarning: Calling np.sum(generator) is deprecated, and in the future will give a different result. Use np.sum(np.fromiter(generator)) or the python sum builtin instead.\n",
      "  temp = sum(p.numel() for p in model.parameters() if p.requires_grad)\n"
     ]
    }
   ],
   "source": [
    "# The model\n",
    "\n",
    "class Flatten(nn.Module):\n",
    "    def forward(self, x):\n",
    "        N = x.shape[0]\n",
    "        return x.view(N, -1)\n",
    "\n",
    "class Model(nn.Module):\n",
    "    # Examples: https://github.com/MSiam/Few-Shot-Learning\n",
    "    def __init__(self):\n",
    "        super(Model, self).__init__()\n",
    "        channels = [1, 16, 64, 128]\n",
    "        embedding_length = 32\n",
    "\n",
    "        # Image is N x 28 x 28, N = batch size\n",
    "        self.embed = nn.Sequential(\n",
    "            nn.Conv2d(channels[0], channels[1], 7, padding=3),\n",
    "            nn.BatchNorm2d(channels[1]),\n",
    "            nn.ReLU(),\n",
    "            nn.MaxPool2d(2),\n",
    "            nn.Conv2d(channels[1], channels[2], 3, padding=1),\n",
    "            nn.BatchNorm2d(channels[2]),\n",
    "            nn.MaxPool2d(2),\n",
    "            nn.ReLU(),\n",
    "            nn.Conv2d(channels[2], channels[3], 3, padding=1),\n",
    "            nn.BatchNorm2d(channels[3]),\n",
    "            nn.ReLU(),\n",
    "            Flatten(),\n",
    "            nn.Linear(7 * 7 * channels[3], embedding_length)\n",
    "        )\n",
    "\n",
    "    def forward(self, x):\n",
    "        if len(x.shape) == 3:\n",
    "            x = x.unsqueeze(1)\n",
    "        x = self.embed(x)\n",
    "        return x\n",
    "\n",
    "model = Model()\n",
    "def count_parameters(model):\n",
    "    temp = sum(p.numel() for p in model.parameters() if p.requires_grad)\n",
    "    print(f'The model architecture:\\n\\n', model)\n",
    "    print(f'\\nThe model has {temp:,} trainable parameters')\n",
    "    \n",
    "count_parameters(model)"
   ]
  },
  {
   "cell_type": "code",
   "execution_count": 16,
   "id": "705e15ec",
   "metadata": {},
   "outputs": [
    {
     "name": "stdout",
     "output_type": "stream",
     "text": [
      "OneModel stats\n",
      "Train accuracy: (1.0, 1.0, 0.3999999951571226)\n",
      "Validation accuracy: (1.0, 1.0, 0.39939999505877494)\n",
      "Test accuracy: (1.0, 1.0, 0.38859999418258667)\n"
     ]
    },
    {
     "data": {
      "image/png": "[encoded data removed]",
      "text/plain": [
       "<Figure size 432x288 with 1 Axes>"
      ]
     },
     "metadata": {
      "needs_background": "light"
     },
     "output_type": "display_data"
    }
   ],
   "source": [
    "# Baseline: a model that always predicts 1 (same category for all support images)\n",
    "print('OneModel stats')\n",
    "print(f\"Train accuracy: {test(OneModel(), train_loader, 0.5)}\")\n",
    "print(f\"Validation accuracy: {test(OneModel(), validation_loader, 0.5)}\")\n",
    "print(f\"Test accuracy: {test(OneModel(), test_loader, 0.5)}\")\n",
    "\n",
    "_ = plot_roc(OneModel(), validation_loader, torch.linspace(0, 1, 10))"
   ]
  },
  {
   "cell_type": "code",
   "execution_count": 17,
   "id": "6851d04d",
   "metadata": {},
   "outputs": [
    {
     "name": "stdout",
     "output_type": "stream",
     "text": [
      "Random model stats\n",
      "Train accuracy: (0.49869715709239243, 0.5044097792357206, 0.5023000022768974)\n",
      "Validation accuracy: (0.495447219312191, 0.501043611317873, 0.5035000009834767)\n",
      "Test accuracy: (0.49347581297159193, 0.4886303597688675, 0.5000000014901161)\n"
     ]
    },
    {
     "data": {
      "image/png": "[encoded data removed]",
      "text/plain": [
       "<Figure size 432x288 with 1 Axes>"
      ]
     },
     "metadata": {
      "needs_background": "light"
     },
     "output_type": "display_data"
    }
   ],
   "source": [
    "print('Random model stats')\n",
    "print(f\"Train accuracy: {test(RandomModel(), train_loader, 0.5)}\")\n",
    "print(f\"Validation accuracy: {test(RandomModel(), validation_loader, 0.5)}\")\n",
    "print(f\"Test accuracy: {test(RandomModel(), test_loader, 0.5)}\")\n",
    "\n",
    "_ = plot_roc(RandomModel(), validation_loader, torch.linspace(0, 1, 10))"
   ]
  },
  {
   "cell_type": "code",
   "execution_count": 29,
   "id": "53aad2ef",
   "metadata": {},
   "outputs": [
    {
     "name": "stdout",
     "output_type": "stream",
     "text": [
      "Epoch 1\n"
     ]
    },
    {
     "name": "stderr",
     "output_type": "stream",
     "text": [
      "Training: 100%|██████████| 800/800 [00:25<00:00, 31.10it/s]\n"
     ]
    },
    {
     "name": "stdout",
     "output_type": "stream",
     "text": [
      "Average loss: 0.023021469084472446\n",
      "Train accuracy:(0.5, (0.5082390772365034, 0.9807507777959108, 0.6874999940395355))\n",
      "Validation accuracy:(0.5, (0.5255603611469268, 0.9816895380616188, 0.6766999965906143))\n",
      "Epoch 2\n"
     ]
    },
    {
     "name": "stderr",
     "output_type": "stream",
     "text": [
      "Training: 100%|██████████| 800/800 [00:25<00:00, 31.74it/s]\n"
     ]
    },
    {
     "name": "stdout",
     "output_type": "stream",
     "text": [
      "Average loss: 0.016903140047597246\n",
      "Train accuracy:(0.5, (0.5228265996463597, 0.994005729034543, 0.6839999967068434))\n",
      "Validation accuracy:(0.5, (0.5367699778825045, 0.9950536099076271, 0.6748999974131584))\n",
      "Epoch 3\n"
     ]
    },
    {
     "name": "stderr",
     "output_type": "stream",
     "text": [
      "Training: 100%|██████████| 800/800 [00:26<00:00, 30.65it/s]\n"
     ]
    },
    {
     "name": "stdout",
     "output_type": "stream",
     "text": [
      "Average loss: 0.014808536593310846\n",
      "Train accuracy:(0.5, (0.4774983564205468, 0.9964256121963263, 0.7120499956607819))\n",
      "Validation accuracy:(0.5, (0.4971639237180352, 0.996331870853901, 0.6996999964118004))\n",
      "Epoch 4\n"
     ]
    },
    {
     "name": "stderr",
     "output_type": "stream",
     "text": [
      "Training: 100%|██████████| 800/800 [00:26<00:00, 30.00it/s]\n"
     ]
    },
    {
     "name": "stdout",
     "output_type": "stream",
     "text": [
      "Average loss: 0.013508503574918207\n",
      "Train accuracy:(0.5, (0.47611403338611125, 0.9977358278632164, 0.7134499944746494))\n",
      "Validation accuracy:(0.5, (0.5042264295369386, 0.9978101179003716, 0.6959999963641167))\n",
      "Epoch 5\n"
     ]
    },
    {
     "name": "stderr",
     "output_type": "stream",
     "text": [
      "Training: 100%|██████████| 800/800 [00:26<00:00, 29.95it/s]\n"
     ]
    },
    {
     "name": "stdout",
     "output_type": "stream",
     "text": [
      "Average loss: 0.012727947800849779\n",
      "Train accuracy:(0.5, (0.4850036318786442, 0.9985227036476135, 0.7081999955326319))\n",
      "Validation accuracy:(0.5, (0.5174692771583795, 0.9975022959709168, 0.6877999979257584))\n",
      "Epoch 6\n"
     ]
    },
    {
     "name": "stderr",
     "output_type": "stream",
     "text": [
      "Training: 100%|██████████| 800/800 [00:30<00:00, 26.53it/s]\n"
     ]
    },
    {
     "name": "stdout",
     "output_type": "stream",
     "text": [
      "Average loss: 0.01167278253185361\n",
      "Train accuracy:(0.5, (0.475431843418628, 0.9988525208085776, 0.7140999948978424))\n",
      "Validation accuracy:(0.5, (0.5239719408750534, 0.9974466982483864, 0.6838999971747398))\n",
      "Epoch 7\n"
     ]
    },
    {
     "name": "stderr",
     "output_type": "stream",
     "text": [
      "Training: 100%|██████████| 800/800 [00:30<00:00, 25.96it/s]\n"
     ]
    },
    {
     "name": "stdout",
     "output_type": "stream",
     "text": [
      "Average loss: 0.01113237780398109\n",
      "Train accuracy:(0.5, (0.4676110507082194, 0.9993960002809763, 0.7190749955922365))\n",
      "Validation accuracy:(0.5, (0.5169831675291061, 0.9984932318329811, 0.6882999968528748))\n",
      "Epoch 8\n"
     ]
    },
    {
     "name": "stderr",
     "output_type": "stream",
     "text": [
      "Training: 100%|██████████| 800/800 [00:47<00:00, 16.79it/s]\n"
     ]
    },
    {
     "name": "stdout",
     "output_type": "stream",
     "text": [
      "Average loss: 0.010609391855646147\n",
      "Train accuracy:(0.5, (0.44385704919695856, 0.9994789696484804, 0.7332249949127436))\n",
      "Validation accuracy:(0.5, (0.49902824707329274, 0.9984670063853264, 0.6992999961972237))\n",
      "Epoch 9\n"
     ]
    },
    {
     "name": "stderr",
     "output_type": "stream",
     "text": [
      "Training: 100%|██████████| 800/800 [00:42<00:00, 18.65it/s]\n"
     ]
    },
    {
     "name": "stdout",
     "output_type": "stream",
     "text": [
      "Average loss: 0.010027319531087521\n",
      "Train accuracy:(0.5, (0.42813703153282406, 0.99958247423172, 0.7425749957561493))\n",
      "Validation accuracy:(0.5, (0.4982943447679281, 0.9987491428852081, 0.6996999952197075))\n",
      "Epoch 10\n"
     ]
    },
    {
     "name": "stderr",
     "output_type": "stream",
     "text": [
      "Training: 100%|██████████| 800/800 [00:45<00:00, 17.74it/s]\n"
     ]
    },
    {
     "name": "stdout",
     "output_type": "stream",
     "text": [
      "Average loss: 0.009686815442646702\n",
      "Train accuracy:(0.5, (0.42218074142932893, 0.999509244337678, 0.7460499966144561))\n",
      "Validation accuracy:(0.5, (0.49982340149581433, 0.9981676641106606, 0.6987999969720841))\n"
     ]
    },
    {
     "data": {
      "image/png": "[encoded data removed]",
      "text/plain": [
       "<Figure size 432x288 with 1 Axes>"
      ]
     },
     "metadata": {
      "needs_background": "light"
     },
     "output_type": "display_data"
    }
   ],
   "source": [
    "model = Model()\n",
    "\n",
    "threshold = 1\n",
    "loss_func = nn.TripletMarginWithDistanceLoss(\n",
    "    distance_function=lambda x,y: 1. - F.cosine_similarity(x, y), margin=threshold)\n",
    "\n",
    "if torch.cuda.is_available():\n",
    "    model = model.cuda()\n",
    "    loss_func = loss_func.cuda()\n",
    "\n",
    "# The optimizer\n",
    "from torch.optim import AdamW, SGD\n",
    "\n",
    "# optimizer = AdamW(model.parameters(), lr=1e-3, weight_decay=0.005)\n",
    "optimizer = SGD(model.parameters(), lr=1e-3, momentum=0.9)\n",
    "\n",
    "epochs = 10\n",
    "fit(epochs, loss_func, model, train_loader, validation_loader, optimizer)"
   ]
  },
  {
   "cell_type": "code",
   "execution_count": 23,
   "id": "uhOIctrPwBSr",
   "metadata": {
    "colab": {
     "base_uri": "https://localhost:8080/"
    },
    "executionInfo": {
     "elapsed": 521519,
     "status": "ok",
     "timestamp": 1652050013159,
     "user": {
      "displayName": "jiong li",
      "userId": "13989285017847251059"
     },
     "user_tz": -120
    },
    "id": "uhOIctrPwBSr",
    "outputId": "7b011a7e-2598-4cce-ad11-60ab18855040"
   },
   "outputs": [
    {
     "name": "stdout",
     "output_type": "stream",
     "text": [
      "Max accuracy: 0.6832999970018864\n"
     ]
    },
    {
     "data": {
      "image/png": "[encoded data removed]",
      "text/plain": [
       "<Figure size 432x288 with 1 Axes>"
      ]
     },
     "metadata": {
      "needs_background": "light"
     },
     "output_type": "display_data"
    }
   ],
   "source": [
    "results = plot_roc(model, train_loader, torch.linspace(0, 1, 10), desc=\"Train\")\n",
    "print(f'Max accuracy: {max(results[2])}')"
   ]
  },
  {
   "cell_type": "code",
   "execution_count": 30,
   "id": "e64c7f67",
   "metadata": {},
   "outputs": [
    {
     "name": "stdout",
     "output_type": "stream",
     "text": [
      "Max accuracy: 0.9242999827861786\n"
     ]
    },
    {
     "data": {
      "image/png": "[encoded data removed]",
      "text/plain": [
       "<Figure size 432x288 with 1 Axes>"
      ]
     },
     "metadata": {
      "needs_background": "light"
     },
     "output_type": "display_data"
    }
   ],
   "source": [
    "# Search for a good threshold on the validation set\n",
    "threshold_search = list(torch.linspace(0, 1, 20))\n",
    "fps, tps, accs = plot_roc(model, validation_loader, threshold_search, desc=\"Validation\")\n",
    "print(f'Max accuracy: {max(accs)}')"
   ]
  },
  {
   "cell_type": "code",
   "execution_count": 31,
   "id": "c76cdc9b",
   "metadata": {},
   "outputs": [
    {
     "name": "stdout",
     "output_type": "stream",
     "text": [
      "Best threshold is 0.21052631735801697\n",
      "FP/TP/acc is (0.0652375015616417, 0.881723638176918, 0.913599978685379)\n"
     ]
    }
   ],
   "source": [
    "# The best point is the one closest to (0, 1) on the fp/tp curve\n",
    "qualities = [1 - (fp ** 2 + (1 - tp) ** 2) for fp, tp in zip(fps, tps)]\n",
    "best_threshold = threshold_search[max(range(len(qualities)), key=lambda i: qualities[i])]\n",
    "print(f'Best threshold is {best_threshold}')\n",
    "res = test(model, test_loader, best_threshold)\n",
    "print(f'FP/TP/acc is {res}')"
   ]
  }
 ],
 "metadata": {
  "colab": {
   "collapsed_sections": [],
   "name": "Assignment_1.ipynb",
   "provenance": []
  },
  "kernelspec": {
   "display_name": "cnn-course",
   "language": "python",
   "name": "cnn-course"
  },
  "language_info": {
   "codemirror_mode": {
    "name": "ipython",
    "version": 3
   },
   "file_extension": ".py",
   "mimetype": "text/x-python",
   "name": "python",
   "nbconvert_exporter": "python",
   "pygments_lexer": "ipython3",
   "version": "3.9.12"
  }
 },
 "nbformat": 4,
 "nbformat_minor": 5
}

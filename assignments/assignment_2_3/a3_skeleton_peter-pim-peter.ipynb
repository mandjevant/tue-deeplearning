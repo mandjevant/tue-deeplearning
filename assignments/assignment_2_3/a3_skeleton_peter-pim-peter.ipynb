{
 "cells": [
  {
   "cell_type": "markdown",
   "id": "963690b2",
   "metadata": {},
   "source": [
    "<a href=\"https://colab.research.google.com/github/vlamen/tue-deeplearning/blob/main/assignments/assignment_2_3/a3_skeleton.ipynb\" target=\"_parent\"><img src=\"https://colab.research.google.com/assets/colab-badge.svg\" alt=\"Open In Colab\"/></a>"
   ]
  },
  {
   "cell_type": "markdown",
   "id": "bd8459f1",
   "metadata": {},
   "source": [
    "# Group Number:\n",
    "\n",
    "# Student 1:\n",
    "\n",
    "# Student 2:\n",
    "\n",
    "# Student 3:"
   ]
  },
  {
   "cell_type": "markdown",
   "id": "dde28458",
   "metadata": {},
   "source": [
    "# Downloading Data and Preliminaries"
   ]
  },
  {
   "cell_type": "code",
   "execution_count": 1,
   "id": "7d0580a5",
   "metadata": {},
   "outputs": [],
   "source": [
    "import pickle\n",
    "import matplotlib.pyplot as plt\n",
    "import matplotlib\n",
    "import numpy as np\n",
    "\n",
    "from zipfile import ZipFile\n",
    "import requests\n",
    "import io"
   ]
  },
  {
   "cell_type": "code",
   "execution_count": 2,
   "id": "8ce00edc",
   "metadata": {},
   "outputs": [],
   "source": [
    "def load_zip(url):\n",
    "    response = requests.get(url)\n",
    "    response.raise_for_status()\n",
    "    zipf = ZipFile(io.BytesIO(response.content))\n",
    "    return {name: zipf.read(name) for name in zipf.namelist()}\n",
    "\n",
    "def load_pickle(zipfile, fn):\n",
    "    return pickle.load(io.BytesIO(zipfile[fn]))"
   ]
  },
  {
   "cell_type": "code",
   "execution_count": 3,
   "id": "bb77a4be",
   "metadata": {},
   "outputs": [],
   "source": [
    "data = load_zip('https://surfdrive.surf.nl/files/index.php/s/cwqGaS22KXgnXtg/download')\n",
    "\n",
    "    \n",
    "\"\"\"\n",
    "simulation_{train, valid, test} is stored as a list of simulations. \n",
    "Each simulation is a numpy array of size (t, 2): For t timesteps an x and y coordinate of our particle.\n",
    "\"\"\"\n",
    "simulation_train = load_pickle(data, 'data/train/simulation.pickle')  # 3.1 + 3.2\n",
    "simulation_valid = load_pickle(data, 'data/valid/simulation.pickle')  # 3.1 + 3.2\n",
    "simulation_test = load_pickle(data, 'data/test/simulation.pickle')  # 3.1 + 3.2\n",
    "\n",
    "\"\"\"\n",
    "charges_{train, valid, test} is stored as a list of simulation-charges. \n",
    "These charges are stored as numpy arrays of size (3,): One value for each charge.\n",
    "\"\"\"\n",
    "charges_train = load_pickle(data, 'data/train/charges.pickle')  # 3.1\n",
    "charges_valid = load_pickle(data, 'data/valid/charges.pickle')  # 3.1\n",
    "charges_test = load_pickle(data, 'data/test/charges.pickle')  # 3.1\n",
    "\n",
    "\"\"\"\n",
    "simulation_continued_{train, valid, test} is stored as a list of simulations. \n",
    "Each simulation is a numpy array of size (t, 2): For t timesteps an x and y coordinate of our particle.\n",
    "\"\"\"\n",
    "simulation_continued_train = load_pickle(data, 'data/train/simulation_continued.pickle')  # 3.2\n",
    "simulation_continued_valid = load_pickle(data, 'data/valid/simulation_continued.pickle')  # 3.2\n",
    "simulation_continued_test = load_pickle(data, 'data/test/simulation_continued.pickle')  # 3.2\n",
    "\n",
    "\"\"\"\n",
    "Note that the indices are shared throughout the different lists, e.g., for the 4th training simulation:\n",
    "simulation_train[3] contains its initial simulation\n",
    "charges_train[3] contains the charges associated with the simulation\n",
    "simulation_continued_train[3] contains the continuation of the simulation \n",
    "                --> simulation_continued_train[3][0] is the state after simulation_train[3][-1]\n",
    "\"\"\"\n",
    "pass"
   ]
  },
  {
   "cell_type": "code",
   "execution_count": 4,
   "id": "10a3438a",
   "metadata": {},
   "outputs": [
    {
     "name": "stdout",
     "output_type": "stream",
     "text": [
      "Overview of no. datapoints:\n",
      "\n",
      "Task 3.1:\n",
      "800 train, 100 validation, 100 test simulations\n",
      "800 train, 100 validation, 100 test charge pairs\n",
      "\n",
      "Task 3.2:\n",
      "Since len(simulation_continued_train) < len(simulation_train), we can only use a subset of initial simulations\n",
      "We cut simulation_train down to the first 150 samples in simulation_train_task32\n",
      "150 train, 100 validation, 100 test simulations\n",
      "150 train, 100 validation, 100 test continuations\n",
      "\n",
      "For task 3.1, use:\n",
      "simulation_train + charges_train\n",
      "simulation_valid + charges_valid\n",
      "simulation_test + charges_test\n",
      "\n",
      "For task 3.2, use:\n",
      "simulation_train_task32 + simulation_continued_train\n",
      "simulation_valid + simulation_continued_valid\n",
      "simulation_test + simulation_continued_test\n",
      "\n"
     ]
    }
   ],
   "source": [
    "print('Overview of no. datapoints:\\n')\n",
    "\n",
    "print('Task 3.1:')\n",
    "print(f'{len(simulation_train)} train, {len(simulation_valid)} validation, {len(simulation_test)} test simulations')\n",
    "print(f'{len(charges_train)} train, {len(charges_valid)} validation, {len(charges_test)} test charge pairs')\n",
    "print()\n",
    "\n",
    "print('Task 3.2:')\n",
    "print('Since len(simulation_continued_train) < len(simulation_train), we can only use a subset of initial simulations')\n",
    "print('We cut simulation_train down to the first 150 samples in simulation_train_task32')\n",
    "simulation_train_task32 = simulation_train[:150]\n",
    "print(f'{len(simulation_train_task32)} train, {len(simulation_valid)} validation, {len(simulation_test)} test simulations')\n",
    "print(f'{len(simulation_continued_train)} train, {len(simulation_continued_valid)} validation, {len(simulation_continued_test)} test continuations')\n",
    "\n",
    "print(f\"\"\"\n",
    "For task 3.1, use:\n",
    "{chr(10).join([\"simulation_{} + charges_{}\".format(t, t) for t in [\"train\", \"valid\", \"test\"]])}\n",
    "\n",
    "For task 3.2, use:\n",
    "{chr(10).join([\"simulation_{} + simulation_continued_{}\".format(*((t[0], t[1]) if isinstance(t, tuple) else (t, t))) for t in [(\"train_task32\", \"train\"), \"valid\", \"test\"]])}\n",
    "\"\"\")\n"
   ]
  },
  {
   "cell_type": "code",
   "execution_count": 5,
   "id": "3cfafdb3",
   "metadata": {},
   "outputs": [
    {
     "name": "stdout",
     "output_type": "stream",
     "text": [
      "Print some shapes:\n",
      "\n",
      "simulation_train[0].shape: (103, 2) -> (t, 2), (x, y) at every t)\n",
      "charges_train[0].shape: (3,) -> charges for the simulation\n",
      "simulation_continued_train[0].shape: (54, 2) -> (t, 2), (x, y) at every t)\n",
      "----\n",
      "\n",
      "simulation_train[1].shape: (97, 2) -> (t, 2), (x, y) at every t)\n",
      "charges_train[1].shape: (3,) -> charges for the simulation\n",
      "simulation_continued_train[1].shape: (45, 2) -> (t, 2), (x, y) at every t)\n",
      "----\n",
      "\n",
      "simulation_train[2].shape: (99, 2) -> (t, 2), (x, y) at every t)\n",
      "charges_train[2].shape: (3,) -> charges for the simulation\n",
      "simulation_continued_train[2].shape: (47, 2) -> (t, 2), (x, y) at every t)\n",
      "----\n",
      "\n"
     ]
    }
   ],
   "source": [
    "print('Print some shapes:\\n')\n",
    "for i in range(3):\n",
    "    print('simulation_train[{}].shape:'.format(i), simulation_train[i].shape, '-> (t, 2), (x, y) at every t)')\n",
    "    print('charges_train[{}].shape:'.format(i), charges_train[i].shape, '-> charges for the simulation')\n",
    "    print('simulation_continued_train[{}].shape:'.format(i), simulation_continued_train[i].shape, '-> (t, 2), (x, y) at every t)')\n",
    "    print('----\\n')"
   ]
  },
  {
   "cell_type": "code",
   "execution_count": 6,
   "id": "f9106543",
   "metadata": {},
   "outputs": [],
   "source": [
    "def plot_example(x, x_gt=None, x_pred=None, fn=None):\n",
    "    charge_locations = np.array([[-1.53846154, -1.53846154],\n",
    "                                 [ 1.53846154, -1.53846154],\n",
    "                                 [ 0.        ,  1.53846154]])  # charge locations are fixed\n",
    "    fig = plt.figure()\n",
    "    axes = plt.gca()\n",
    "    axes.set_xlim([-5., 5.])\n",
    "    axes.set_ylim([-5., 5.])\n",
    "    cmap = matplotlib.cm.get_cmap('tab20')\n",
    "    plt.plot(x[:, 0], x[:, 1], color=cmap(0))\n",
    "    plt.plot(x[0, 0], x[0, 1], 'd', color=cmap(1))\n",
    "    fig.set_size_inches(5, 5)\n",
    "    for charge in charge_locations:\n",
    "        plt.plot(charge[0], charge[1], 'd', color='black')\n",
    "    if x_gt is not None:\n",
    "        plt.plot(x_gt[:, 0], x_gt[:, 1], color='red', linewidth=.5)\n",
    "    if x_pred is not None:\n",
    "        plt.plot(x_pred[:, 0], x_pred[:, 1], color='green', linestyle='--')\n",
    "    if fn is None:\n",
    "        plt.show()\n",
    "    else:\n",
    "        plt.savefig(fn)"
   ]
  },
  {
   "cell_type": "code",
   "execution_count": 7,
   "id": "d28681a6",
   "metadata": {},
   "outputs": [
    {
     "data": {
      "image/png": "[encoded data removed]",
      "text/plain": [
       "<Figure size 360x360 with 1 Axes>"
      ]
     },
     "metadata": {
      "needs_background": "light"
     },
     "output_type": "display_data"
    },
    {
     "name": "stdout",
     "output_type": "stream",
     "text": [
      "Charges are [-0.52714657 -0.93753794 -0.78466797]\n"
     ]
    }
   ],
   "source": [
    "test_idx = np.random.randint(150)\n",
    "plot_example(simulation_train[test_idx], simulation_continued_train[test_idx])\n",
    "print(f'Charges are {charges_train[test_idx]}')"
   ]
  },
  {
   "cell_type": "markdown",
   "id": "883762b1",
   "metadata": {},
   "source": [
    "# Task 3.1"
   ]
  },
  {
   "cell_type": "markdown",
   "id": "4c1ddabe",
   "metadata": {},
   "source": [
    "## Data Handling and Preprocessing"
   ]
  },
  {
   "cell_type": "code",
   "execution_count": 8,
   "id": "bd9df856",
   "metadata": {},
   "outputs": [
    {
     "name": "stdout",
     "output_type": "stream",
     "text": [
      "Device is set to cpu\n"
     ]
    }
   ],
   "source": [
    "# Pick the best device\n",
    "import torch\n",
    "\n",
    "def try_device(device):\n",
    "    # Try to put an array on given device. If successful, return device. Else, 'cpu'.\n",
    "    x = torch.ones((1,))\n",
    "    try:\n",
    "        x.to(device)\n",
    "        return device\n",
    "    except:\n",
    "        return 'cpu'\n",
    "\n",
    "device = try_device('cuda')\n",
    "if device == 'cpu':\n",
    "    # mps doesn't support our model (yet?)\n",
    "    # device = try_device('mps')\n",
    "    pass\n",
    "\n",
    "\n",
    "print(f'Device is set to {device}')"
   ]
  },
  {
   "cell_type": "code",
   "execution_count": 9,
   "id": "7dd9b7c1",
   "metadata": {},
   "outputs": [],
   "source": [
    "# Task 3.1: Using the positions of positively charged particle p1 during a simulation, predict the\n",
    "# values of negative charges c2, c3, c4\n",
    "# input = t locations (x, y) of p1 particle, value of t is not fixed\n",
    "\n",
    "from torch.utils.data import DataLoader, Dataset\n",
    "from torch.nn.utils.rnn import pack_sequence, pad_sequence\n",
    "\n",
    "class SimulationData(Dataset):\n",
    "    def __init__(self, sim, charges):\n",
    "        self.sim = sim\n",
    "        self.charges = charges\n",
    "\n",
    "    def __len__(self):\n",
    "        return len(self.sim)\n",
    "\n",
    "    def __getitem__(self, idx):\n",
    "        return self.sim[idx], self.charges[idx]\n",
    "\n",
    "# Create data loader\n",
    "def cpu_collate(data):\n",
    "    # Sort data in order of decreasing sequence length\n",
    "    data = list(reversed(sorted(data, key=lambda d: len(d[0]))))\n",
    "    xs = pad_sequence([torch.tensor(x).float() for x, _ in data], batch_first=True)\n",
    "    ys = torch.stack([torch.tensor(y).float() for _, y in data])\n",
    "    return xs, ys\n",
    "\n",
    "\n",
    "# Create data loader\n",
    "def gpu_collate(data):\n",
    "    # Sort data in order of decreasing sequence length\n",
    "    data = list(reversed(sorted(data, key=lambda d: len(d[0]))))\n",
    "    xs = pad_sequence([torch.tensor(x).float() for x, _ in data], batch_first=True)\n",
    "    ys = torch.stack([torch.tensor(y).float() for _, y in data])\n",
    "    return xs.to(device), ys.to(device)\n",
    "\n",
    "\n",
    "# Batch size needs to evenly divide all train, valid, test sizes (800, 100, 100)\n",
    "batch_size = 5\n",
    "cpu_train_dl = DataLoader(SimulationData(simulation_train, charges_train), batch_size=batch_size, shuffle=True, collate_fn=cpu_collate)\n",
    "cpu_valid_dl = DataLoader(SimulationData(simulation_valid, charges_valid), batch_size=batch_size, shuffle=True, collate_fn=cpu_collate)\n",
    "\n",
    "gpu_train_dl = DataLoader(SimulationData(simulation_train, charges_train), batch_size=batch_size, shuffle=True, collate_fn=gpu_collate)\n",
    "gpu_valid_dl = DataLoader(SimulationData(simulation_valid, charges_valid), batch_size=batch_size, shuffle=True, collate_fn=gpu_collate)\n"
   ]
  },
  {
   "cell_type": "code",
   "execution_count": 10,
   "id": "4ec1e03a",
   "metadata": {},
   "outputs": [
    {
     "name": "stdout",
     "output_type": "stream",
     "text": [
      "(103, 2)\n",
      "5\n",
      "torch.Size([110, 2]) torch.Size([3])\n"
     ]
    }
   ],
   "source": [
    "print(simulation_train[0].shape)\n",
    "# Test data loader\n",
    "xs, ys = next(iter(cpu_train_dl))\n",
    "print(len(xs))\n",
    "print(xs[0].shape, ys[0].shape)"
   ]
  },
  {
   "cell_type": "code",
   "execution_count": 11,
   "id": "d48b8fb1",
   "metadata": {},
   "outputs": [
    {
     "name": "stdout",
     "output_type": "stream",
     "text": [
      "Baseline L1 train error: 0.7429320812225342\n",
      "Baseline L1 validation error: 0.7968491911888123\n"
     ]
    }
   ],
   "source": [
    "# Baseline model: predict the mean value of each charge in the training set\n",
    "baseline_values = torch.tensor(np.array(charges_train).mean(axis=0))\n",
    "def baseline_predict(xs):\n",
    "    batch = xs.shape[0]\n",
    "    return baseline_values.expand(batch, 3)\n",
    "\n",
    "loss_fn = lambda y, y_pred: (y - y_pred).abs().sum()\n",
    "\n",
    "# Baseline error?\n",
    "\n",
    "def avg_err(model, dl, loss_fn=torch.nn.L1Loss(reduction='sum')):\n",
    "    loss = 0\n",
    "    n_samples = 0\n",
    "    for x, y in dl:\n",
    "        y_pred = model(x)\n",
    "        loss += loss_fn(y, y_pred)\n",
    "        n_samples += x.shape[0]\n",
    "    return loss / n_samples\n",
    "\n",
    "\n",
    "print(f'Baseline L1 train error: {avg_err(baseline_predict, cpu_train_dl)}')\n",
    "print(f'Baseline L1 validation error: {avg_err(baseline_predict, cpu_valid_dl)}')"
   ]
  },
  {
   "cell_type": "markdown",
   "id": "cc8853f6",
   "metadata": {},
   "source": [
    "## Model Implementation"
   ]
  },
  {
   "cell_type": "code",
   "execution_count": 12,
   "id": "8794a0cf",
   "metadata": {},
   "outputs": [
    {
     "name": "stdout",
     "output_type": "stream",
     "text": [
      "torch.Size([5, 3])\n"
     ]
    }
   ],
   "source": [
    "class Model_3_1(torch.nn.Module):\n",
    "    def __init__(self, hidden_dim, n_layers, batch_size):\n",
    "        super(Model_3_1, self).__init__()\n",
    "        # input/output size are fixed based on the task description\n",
    "        input_dim = 2\n",
    "        output_dim = 3\n",
    "\n",
    "        self.hidden_dim = hidden_dim\n",
    "        self.n_layers = n_layers\n",
    "        self.batch_size = batch_size\n",
    "        \n",
    "        self.gru = torch.nn.GRU(input_dim, hidden_dim, n_layers, batch_first=True)\n",
    "        self.relu = torch.nn.ReLU()\n",
    "        self.fc = torch.nn.Linear(hidden_dim, output_dim)\n",
    "        \n",
    "    def forward(self, x):\n",
    "        h = self.init_hidden()\n",
    "        x = x.to(device)\n",
    "        out, h = self.gru(x, h)\n",
    "        out = self.fc(self.relu(out[:,-1]))\n",
    "        return out\n",
    "    \n",
    "    def init_hidden(self):\n",
    "        # from example of https://pytorch.org/docs/stable/generated/torch.nn.GRU.html\n",
    "        h0 = torch.randn(self.n_layers, self.batch_size, self.hidden_dim).to(device)\n",
    "        return h0\n",
    "\n",
    "xs = xs.to(device)\n",
    "model_3_1 = Model_3_1(30, 5, batch_size).to(device)\n",
    "print(model_3_1(xs).shape)"
   ]
  },
  {
   "cell_type": "markdown",
   "id": "0e443b7f",
   "metadata": {},
   "source": [
    "## Model Training"
   ]
  },
  {
   "cell_type": "code",
   "execution_count": 13,
   "id": "5a5b0aca",
   "metadata": {},
   "outputs": [],
   "source": [
    "from tqdm import tqdm\n",
    "\n",
    "train_loss_graph, val_loss_graph = list(), list()\n",
    "\n",
    "def fit_3_1(model, train_dl, valid_dl, n_epochs):\n",
    "    optimizer = torch.optim.AdamW(model.parameters(), lr=1e-3)\n",
    "    loss_func = torch.nn.L1Loss()\n",
    "    loss_func = loss_func.to(device)\n",
    "\n",
    "    for i in range(n_epochs):\n",
    "        print(f'Begin epoch {i + 1}/{n_epochs}')\n",
    "        for x, y in tqdm(train_dl):\n",
    "            x = x.to(device)\n",
    "            y = y.to(device).float()\n",
    "            y_pred = model(x)\n",
    "            loss = loss_func(y, y_pred)\n",
    "            loss.backward()\n",
    "            optimizer.step()\n",
    "            optimizer.zero_grad()\n",
    "        \n",
    "        with torch.no_grad():\n",
    "            train_err = avg_err(model, train_dl)\n",
    "            val_err = avg_err(model, valid_dl)\n",
    "            print(f'L1 train error: {train_err}')\n",
    "            print(f'L1 validation error: {val_err}')\n",
    "            train_loss_graph.append(train_err)\n",
    "            val_loss_graph.append(val_err)"
   ]
  },
  {
   "cell_type": "code",
   "execution_count": 14,
   "id": "a3181fdc",
   "metadata": {},
   "outputs": [
    {
     "name": "stdout",
     "output_type": "stream",
     "text": [
      "Model has 25473 parameters\n",
      "Begin epoch 1/1\n"
     ]
    },
    {
     "name": "stderr",
     "output_type": "stream",
     "text": [
      "100%|██████████| 160/160 [00:08<00:00, 17.95it/s]\n"
     ]
    },
    {
     "name": "stdout",
     "output_type": "stream",
     "text": [
      "L1 train error: 0.7119362354278564\n",
      "L1 validation error: 0.7714419364929199\n"
     ]
    }
   ],
   "source": [
    "def count_parameters(model):\n",
    "    return sum(p.numel() for p in model.parameters() if p.requires_grad)\n",
    "\n",
    "hidden_size = 30\n",
    "n_layers = 5\n",
    "model_3_1 = Model_3_1(hidden_size, n_layers, batch_size).to(device)\n",
    "print(f'Model has {count_parameters(model_3_1)} parameters')\n",
    "epochs = 1\n",
    "fit_3_1(model_3_1, gpu_train_dl, gpu_valid_dl, epochs)"
   ]
  },
  {
   "cell_type": "code",
   "execution_count": 15,
   "id": "cd0abda7",
   "metadata": {},
   "outputs": [
    {
     "data": {
      "text/plain": [
       "Text(0, 0.5, 'loss value')"
      ]
     },
     "execution_count": 15,
     "metadata": {},
     "output_type": "execute_result"
    },
    {
     "data": {
      "image/png": "[encoded data removed]",
      "text/plain": [
       "<Figure size 432x288 with 1 Axes>"
      ]
     },
     "metadata": {
      "needs_background": "light"
     },
     "output_type": "display_data"
    }
   ],
   "source": [
    "import matplotlib.pyplot as plt\n",
    "\n",
    "train_loss_graph_cpu = [i.to(device='cpu') for i in train_loss_graph]\n",
    "\n",
    "plt.plot(train_loss_graph_cpu)\n",
    "plt.title(\"training loss\")\n",
    "plt.xlabel(\"epoch number\")\n",
    "plt.ylabel(\"loss value\")"
   ]
  },
  {
   "cell_type": "code",
   "execution_count": 16,
   "id": "5af330cd",
   "metadata": {},
   "outputs": [
    {
     "data": {
      "text/plain": [
       "Text(0, 0.5, 'loss value')"
      ]
     },
     "execution_count": 16,
     "metadata": {},
     "output_type": "execute_result"
    },
    {
     "data": {
      "image/png": "[encoded data removed]",
      "text/plain": [
       "<Figure size 432x288 with 1 Axes>"
      ]
     },
     "metadata": {
      "needs_background": "light"
     },
     "output_type": "display_data"
    }
   ],
   "source": [
    "val_loss_graph_cpu = [i.to(device='cpu') for i in val_loss_graph]\n",
    "\n",
    "plt.plot(val_loss_graph_cpu)\n",
    "plt.title(\"validation loss\")\n",
    "plt.xlabel(\"epoch number\")\n",
    "plt.ylabel(\"loss value\")"
   ]
  },
  {
   "cell_type": "markdown",
   "id": "da139d5b",
   "metadata": {},
   "source": [
    "## Evaluation"
   ]
  },
  {
   "cell_type": "code",
   "execution_count": 17,
   "id": "ebed03ba",
   "metadata": {},
   "outputs": [],
   "source": [
    "#todo"
   ]
  },
  {
   "cell_type": "code",
   "execution_count": null,
   "id": "17af7ec3",
   "metadata": {},
   "outputs": [],
   "source": []
  },
  {
   "cell_type": "code",
   "execution_count": null,
   "id": "43a3422e",
   "metadata": {},
   "outputs": [],
   "source": []
  },
  {
   "cell_type": "markdown",
   "id": "9a59808b",
   "metadata": {},
   "source": [
    "# Task 3.2"
   ]
  },
  {
   "cell_type": "markdown",
   "id": "f64a855d",
   "metadata": {},
   "source": [
    "## Data Handling and Preprocessing"
   ]
  },
  {
   "cell_type": "code",
   "execution_count": 18,
   "id": "5b935865",
   "metadata": {},
   "outputs": [],
   "source": [
    "#todo"
   ]
  },
  {
   "cell_type": "code",
   "execution_count": null,
   "id": "0ec19a8d",
   "metadata": {},
   "outputs": [],
   "source": []
  },
  {
   "cell_type": "code",
   "execution_count": null,
   "id": "8f189d19",
   "metadata": {},
   "outputs": [],
   "source": []
  },
  {
   "cell_type": "markdown",
   "id": "867aabb3",
   "metadata": {},
   "source": [
    "## Model Implementation"
   ]
  },
  {
   "cell_type": "code",
   "execution_count": 19,
   "id": "fb3f2e03",
   "metadata": {},
   "outputs": [],
   "source": [
    "x_train_shapes = [np.array(simulation_train_task32, dtype=object)[i].shape[0] for i in range(len(simulation_train_task32))]\n",
    "y_train_shapes = [np.array(simulation_continued_train, dtype=object)[i].shape[0] for i in range(len(simulation_continued_train))]"
   ]
  },
  {
   "cell_type": "code",
   "execution_count": 20,
   "id": "d536e656",
   "metadata": {},
   "outputs": [
    {
     "name": "stdout",
     "output_type": "stream",
     "text": [
      "Training x | Mean: 99.49333333333334, Std: 6.2841034010871875, Min: 90, Max: 110\n",
      "Training y | Mean: 41.026666666666664, Std: 12.265913020326789, Min: 20, Max: 60\n"
     ]
    }
   ],
   "source": [
    "print(f\"Training x | Mean: {np.array(x_train_shapes).mean()}, Std: {np.array(x_train_shapes).std()}, Min: {np.array(x_train_shapes).min()}, Max: {np.array(x_train_shapes).max()}\")\n",
    "print(f\"Training y | Mean: {np.array(y_train_shapes).mean()}, Std: {np.array(y_train_shapes).std()}, Min: {np.array(y_train_shapes).min()}, Max: {np.array(y_train_shapes).max()}\")"
   ]
  },
  {
   "cell_type": "code",
   "execution_count": 21,
   "id": "ebd6f052",
   "metadata": {},
   "outputs": [],
   "source": [
    "# Task 3.2: Using the positions of positively charged particle p1 during a simulation up to t=10 +- 1,\n",
    "# continue its trajectory for an additional 4 +- 2 seconds.\n",
    "# input = t locations (x, y) of p1 particle, value of t is not fixed\n",
    "from torch.utils.data import DataLoader, Dataset\n",
    "from torch.nn.utils.rnn import pack_sequence, pad_sequence\n",
    "\n",
    "\n",
    "global zero_x\n",
    "zero_x = torch.zeros((110, 2))\n",
    "global zero_y\n",
    "zero_y = torch.zeros((60, 2))\n",
    "\n",
    "\n",
    "class loadContinued(Dataset):\n",
    "    def __init__(self, sim, cont_positions):\n",
    "        self.sim = sim\n",
    "        self.cont_positions = cont_positions\n",
    "    \n",
    "    def __len__(self):\n",
    "        return len(self.sim)\n",
    "    \n",
    "    def __getitem__(self, index):\n",
    "        return self.sim[index], self.cont_positions[index]\n",
    "\n",
    "# Create data loader\n",
    "def gpu_collate(data):\n",
    "    # Sort data in order of decreasing sequence length\n",
    "    data = list(reversed(sorted(data, key=lambda d: len(d[0]))))\n",
    "    \n",
    "    data_x = [torch.tensor(x).float() for x, _ in data][0]\n",
    "    xs = pad_sequence([data_x, zero_x])\n",
    "    xs = xs[:,0,:]\n",
    "    \n",
    "    ys = pad_sequence([[torch.tensor(y).float() for _, y in data][0], zero_y])\n",
    "    ys = ys[:, 0, :]\n",
    "    \n",
    "    xs = torch.unsqueeze(xs, 1)\n",
    "    ys = torch.unsqueeze(ys, 1)\n",
    "    \n",
    "    return xs.to(device), ys.to(device)\n",
    "\n",
    "\n",
    "# No batch size since the length of y differs for each simulation.\n",
    "gpu_cont_train_dl = DataLoader(loadContinued(simulation_train_task32, simulation_continued_train), shuffle=True, collate_fn=gpu_collate)\n",
    "gpu_cont_valid_dl = DataLoader(loadContinued(simulation_valid, simulation_continued_valid), shuffle=True, collate_fn=gpu_collate)\n"
   ]
  },
  {
   "cell_type": "code",
   "execution_count": 22,
   "id": "bfb20065",
   "metadata": {},
   "outputs": [],
   "source": [
    "from torch import nn"
   ]
  },
  {
   "cell_type": "code",
   "execution_count": 23,
   "id": "fec35415",
   "metadata": {},
   "outputs": [],
   "source": [
    "class Encoder(nn.Module):\n",
    "    def __init__(self, input_size, hidden_size, n_layers, dropout):\n",
    "        super(Encoder, self).__init__()\n",
    "        self.hidden_size = hidden_size\n",
    "        self.input_size = input_size\n",
    "        self.n_layers = n_layers\n",
    "        \n",
    "        self.gru = torch.nn.GRU(input_size, hidden_size, n_layers)\n",
    "        \n",
    "    def forward(self, x):\n",
    "        hidden = self.init_hidden()\n",
    "        output, hidden = self.gru(x, hidden)\n",
    "        \n",
    "        return output, hidden\n",
    "    \n",
    "    def init_hidden(self):\n",
    "        h0 = torch.zeros(self.n_layers, self.hidden_size).to(device)\n",
    "        return h0\n",
    "        "
   ]
  },
  {
   "cell_type": "code",
   "execution_count": 24,
   "id": "165034ab",
   "metadata": {},
   "outputs": [],
   "source": [
    "class Decoder(nn.Module):\n",
    "    def __init__(self, input_size, output_size, hidden_size, n_layers, dropout):\n",
    "        super(Decoder, self).__init__()\n",
    "        self.hidden_size = hidden_size\n",
    "        self.n_layers = n_layers\n",
    "        \n",
    "        self.gru = nn.GRU(input_size, hidden_size, n_layers)\n",
    "        self.out = nn.Linear(hidden_size, output_size)\n",
    "        \n",
    "    def forward(self, x, hidden):\n",
    "        output, hidden = self.gru(x, hidden)\n",
    "        output = self.out(output)\n",
    "        \n",
    "        return output, hidden\n",
    "    "
   ]
  },
  {
   "cell_type": "code",
   "execution_count": 25,
   "id": "5d6041e8",
   "metadata": {},
   "outputs": [],
   "source": [
    "from tqdm import tqdm\n",
    "import random\n",
    "\n",
    "train_loss_graph, val_loss_graph = list(), list()\n",
    "criterion = torch.nn.L1Loss()\n",
    "\n",
    "\n",
    "def fit_seq(encoder_model, decoder_model, train_dl, valid_dl, n_epochs, teacher_forcing_ratio):\n",
    "    lr = 1e-4\n",
    "    encoder_optimizer = torch.optim.AdamW(encoder_model.parameters(), lr=lr)\n",
    "    decoder_optimizer = torch.optim.AdamW(decoder_model.parameters(), lr=lr)\n",
    "    loss_func = torch.nn.L1Loss()\n",
    "    loss_func = loss_func.to(device)\n",
    "\n",
    "    for i in range(epochs):\n",
    "        print(f'Begin epoch {i + 1}/{n_epochs}')\n",
    "        train_loss, val_loss = list(), list()\n",
    "        \n",
    "        encoder_model = encoder_model.train()\n",
    "        decoder_model = decoder_model.train()\n",
    "        for x, y in tqdm(train_dl):\n",
    "            encoder_optimizer.zero_grad()\n",
    "            decoder_optimizer.zero_grad()\n",
    "            \n",
    "            encoder_output, hidden = encoder_model(x.squeeze(1))\n",
    "            outputs = torch.zeros(y.shape[0], 2).to(device)\n",
    "            \n",
    "            # The initial input to the decoder is the last input position\n",
    "            input_decoder = x[-1]\n",
    "            for inx, y_i in enumerate(y):\n",
    "                output, hidden = decoder_model(input_decoder, hidden)\n",
    "                \n",
    "                outputs[inx] = output\n",
    "                \n",
    "                teacher_force = random.random() < teacher_forcing_ratio\n",
    "                input_decoder = y_i if teacher_force else output\n",
    "            \n",
    "            y = y.squeeze(1)\n",
    "            loss = loss_func(outputs, y)\n",
    "            loss.backward()\n",
    "            \n",
    "            encoder_optimizer.step()\n",
    "            decoder_optimizer.step()\n",
    "            \n",
    "            train_loss.append(loss.item())            \n",
    "            torch.cuda.empty_cache()\n",
    "        \n",
    "        train_loss_graph.append(sum(train_loss) / len(train_dl))\n",
    "        \n",
    "        encoder_model = encoder_model.eval()\n",
    "        decoder_model = decoder_model.eval()\n",
    "        with torch.no_grad():\n",
    "            for x_val, y_val in valid_dl:\n",
    "                encoder_output, hidden = encoder_model(x_val.squeeze(1))\n",
    "                outputs_val = torch.zeros(y_val.shape[0], 2).to(device)\n",
    "                \n",
    "                input_decoder = x_val[-1]\n",
    "                for inx, y_i in enumerate(y_val):\n",
    "                    output, hidden = decoder_model(input_decoder, hidden)\n",
    "                    \n",
    "                    outputs_val[inx] = output\n",
    "                    \n",
    "                    input_decoder = output\n",
    "                \n",
    "                y_val = y_val.squeeze(1)\n",
    "                loss_val = loss_func(outputs_val, y_val)\n",
    "                \n",
    "                val_loss.append(loss_val.item())\n",
    "                torch.cuda.empty_cache()\n",
    "            \n",
    "        val_loss_graph.append(sum(val_loss) / len(valid_dl))\n",
    "        \n",
    "        print(f'Average loss: {round(train_loss_graph[-1],5)}')\n",
    "        print(f'val loss: {round(val_loss_graph[-1],5)}')\n",
    "    \n"
   ]
  },
  {
   "cell_type": "code",
   "execution_count": 26,
   "id": "5a455c3e",
   "metadata": {},
   "outputs": [
    {
     "name": "stdout",
     "output_type": "stream",
     "text": [
      "Encoder Model has 199680 parameters\n",
      "Decoder Model has 200194 parameters\n",
      "Begin epoch 1/30\n"
     ]
    },
    {
     "name": "stderr",
     "output_type": "stream",
     "text": [
      "100%|██████████| 150/150 [00:07<00:00, 19.50it/s]\n"
     ]
    },
    {
     "name": "stdout",
     "output_type": "stream",
     "text": [
      "Average loss: 0.87601\n",
      "val loss: 1.06966\n",
      "Begin epoch 2/30\n"
     ]
    },
    {
     "name": "stderr",
     "output_type": "stream",
     "text": [
      "100%|██████████| 150/150 [00:07<00:00, 21.09it/s]\n"
     ]
    },
    {
     "name": "stdout",
     "output_type": "stream",
     "text": [
      "Average loss: 0.57227\n",
      "val loss: 1.01828\n",
      "Begin epoch 3/30\n"
     ]
    },
    {
     "name": "stderr",
     "output_type": "stream",
     "text": [
      "100%|██████████| 150/150 [00:07<00:00, 20.93it/s]\n"
     ]
    },
    {
     "name": "stdout",
     "output_type": "stream",
     "text": [
      "Average loss: 0.38905\n",
      "val loss: 1.53805\n",
      "Begin epoch 4/30\n"
     ]
    },
    {
     "name": "stderr",
     "output_type": "stream",
     "text": [
      "100%|██████████| 150/150 [00:07<00:00, 21.06it/s]\n"
     ]
    },
    {
     "name": "stdout",
     "output_type": "stream",
     "text": [
      "Average loss: 0.32217\n",
      "val loss: 0.99942\n",
      "Begin epoch 5/30\n"
     ]
    },
    {
     "name": "stderr",
     "output_type": "stream",
     "text": [
      "100%|██████████| 150/150 [00:07<00:00, 21.37it/s]\n"
     ]
    },
    {
     "name": "stdout",
     "output_type": "stream",
     "text": [
      "Average loss: 0.29472\n",
      "val loss: 1.22082\n",
      "Begin epoch 6/30\n"
     ]
    },
    {
     "name": "stderr",
     "output_type": "stream",
     "text": [
      "100%|██████████| 150/150 [00:07<00:00, 20.58it/s]\n"
     ]
    },
    {
     "name": "stdout",
     "output_type": "stream",
     "text": [
      "Average loss: 0.26694\n",
      "val loss: 1.63606\n",
      "Begin epoch 7/30\n"
     ]
    },
    {
     "name": "stderr",
     "output_type": "stream",
     "text": [
      "100%|██████████| 150/150 [00:07<00:00, 20.11it/s]\n"
     ]
    },
    {
     "name": "stdout",
     "output_type": "stream",
     "text": [
      "Average loss: 0.262\n",
      "val loss: 1.07398\n",
      "Begin epoch 8/30\n"
     ]
    },
    {
     "name": "stderr",
     "output_type": "stream",
     "text": [
      "100%|██████████| 150/150 [00:07<00:00, 20.93it/s]\n"
     ]
    },
    {
     "name": "stdout",
     "output_type": "stream",
     "text": [
      "Average loss: 0.25672\n",
      "val loss: 1.0606\n",
      "Begin epoch 9/30\n"
     ]
    },
    {
     "name": "stderr",
     "output_type": "stream",
     "text": [
      "100%|██████████| 150/150 [00:07<00:00, 20.12it/s]\n"
     ]
    },
    {
     "name": "stdout",
     "output_type": "stream",
     "text": [
      "Average loss: 0.24446\n",
      "val loss: 1.44592\n",
      "Begin epoch 10/30\n"
     ]
    },
    {
     "name": "stderr",
     "output_type": "stream",
     "text": [
      "100%|██████████| 150/150 [00:07<00:00, 21.08it/s]\n"
     ]
    },
    {
     "name": "stdout",
     "output_type": "stream",
     "text": [
      "Average loss: 0.2366\n",
      "val loss: 1.33565\n",
      "Begin epoch 11/30\n"
     ]
    },
    {
     "name": "stderr",
     "output_type": "stream",
     "text": [
      "100%|██████████| 150/150 [00:07<00:00, 20.77it/s]\n"
     ]
    },
    {
     "name": "stdout",
     "output_type": "stream",
     "text": [
      "Average loss: 0.22828\n",
      "val loss: 1.156\n",
      "Begin epoch 12/30\n"
     ]
    },
    {
     "name": "stderr",
     "output_type": "stream",
     "text": [
      "100%|██████████| 150/150 [00:07<00:00, 21.43it/s]\n"
     ]
    },
    {
     "name": "stdout",
     "output_type": "stream",
     "text": [
      "Average loss: 0.22109\n",
      "val loss: 1.12094\n",
      "Begin epoch 13/30\n"
     ]
    },
    {
     "name": "stderr",
     "output_type": "stream",
     "text": [
      "100%|██████████| 150/150 [00:07<00:00, 20.92it/s]\n"
     ]
    },
    {
     "name": "stdout",
     "output_type": "stream",
     "text": [
      "Average loss: 0.21642\n",
      "val loss: 1.36959\n",
      "Begin epoch 14/30\n"
     ]
    },
    {
     "name": "stderr",
     "output_type": "stream",
     "text": [
      "100%|██████████| 150/150 [00:07<00:00, 21.31it/s]\n"
     ]
    },
    {
     "name": "stdout",
     "output_type": "stream",
     "text": [
      "Average loss: 0.21256\n",
      "val loss: 1.5458\n",
      "Begin epoch 15/30\n"
     ]
    },
    {
     "name": "stderr",
     "output_type": "stream",
     "text": [
      "100%|██████████| 150/150 [00:07<00:00, 19.19it/s]\n"
     ]
    },
    {
     "name": "stdout",
     "output_type": "stream",
     "text": [
      "Average loss: 0.2042\n",
      "val loss: 1.36351\n",
      "Begin epoch 16/30\n"
     ]
    },
    {
     "name": "stderr",
     "output_type": "stream",
     "text": [
      "100%|██████████| 150/150 [00:08<00:00, 17.30it/s]\n"
     ]
    },
    {
     "name": "stdout",
     "output_type": "stream",
     "text": [
      "Average loss: 0.1962\n",
      "val loss: 1.45221\n",
      "Begin epoch 17/30\n"
     ]
    },
    {
     "name": "stderr",
     "output_type": "stream",
     "text": [
      "100%|██████████| 150/150 [00:07<00:00, 20.69it/s]\n"
     ]
    },
    {
     "name": "stdout",
     "output_type": "stream",
     "text": [
      "Average loss: 0.19863\n",
      "val loss: 1.39081\n",
      "Begin epoch 18/30\n"
     ]
    },
    {
     "name": "stderr",
     "output_type": "stream",
     "text": [
      "100%|██████████| 150/150 [00:06<00:00, 21.46it/s]\n"
     ]
    },
    {
     "name": "stdout",
     "output_type": "stream",
     "text": [
      "Average loss: 0.19656\n",
      "val loss: 1.20785\n",
      "Begin epoch 19/30\n"
     ]
    },
    {
     "name": "stderr",
     "output_type": "stream",
     "text": [
      "100%|██████████| 150/150 [00:07<00:00, 21.09it/s]\n"
     ]
    },
    {
     "name": "stdout",
     "output_type": "stream",
     "text": [
      "Average loss: 0.18206\n",
      "val loss: 1.37072\n",
      "Begin epoch 20/30\n"
     ]
    },
    {
     "name": "stderr",
     "output_type": "stream",
     "text": [
      "100%|██████████| 150/150 [00:06<00:00, 21.53it/s]\n"
     ]
    },
    {
     "name": "stdout",
     "output_type": "stream",
     "text": [
      "Average loss: 0.18134\n",
      "val loss: 1.18346\n",
      "Begin epoch 21/30\n"
     ]
    },
    {
     "name": "stderr",
     "output_type": "stream",
     "text": [
      "100%|██████████| 150/150 [00:07<00:00, 21.35it/s]\n"
     ]
    },
    {
     "name": "stdout",
     "output_type": "stream",
     "text": [
      "Average loss: 0.18502\n",
      "val loss: 1.02341\n",
      "Begin epoch 22/30\n"
     ]
    },
    {
     "name": "stderr",
     "output_type": "stream",
     "text": [
      "100%|██████████| 150/150 [00:06<00:00, 21.45it/s]\n"
     ]
    },
    {
     "name": "stdout",
     "output_type": "stream",
     "text": [
      "Average loss: 0.19096\n",
      "val loss: 1.60231\n",
      "Begin epoch 23/30\n"
     ]
    },
    {
     "name": "stderr",
     "output_type": "stream",
     "text": [
      "100%|██████████| 150/150 [00:07<00:00, 21.39it/s]\n"
     ]
    },
    {
     "name": "stdout",
     "output_type": "stream",
     "text": [
      "Average loss: 0.17506\n",
      "val loss: 1.13273\n",
      "Begin epoch 24/30\n"
     ]
    },
    {
     "name": "stderr",
     "output_type": "stream",
     "text": [
      "100%|██████████| 150/150 [00:07<00:00, 21.33it/s]\n"
     ]
    },
    {
     "name": "stdout",
     "output_type": "stream",
     "text": [
      "Average loss: 0.16848\n",
      "val loss: 1.5037\n",
      "Begin epoch 25/30\n"
     ]
    },
    {
     "name": "stderr",
     "output_type": "stream",
     "text": [
      "100%|██████████| 150/150 [00:07<00:00, 20.81it/s]\n"
     ]
    },
    {
     "name": "stdout",
     "output_type": "stream",
     "text": [
      "Average loss: 0.16974\n",
      "val loss: 1.32684\n",
      "Begin epoch 26/30\n"
     ]
    },
    {
     "name": "stderr",
     "output_type": "stream",
     "text": [
      "100%|██████████| 150/150 [00:07<00:00, 20.71it/s]\n"
     ]
    },
    {
     "name": "stdout",
     "output_type": "stream",
     "text": [
      "Average loss: 0.16067\n",
      "val loss: 1.5397\n",
      "Begin epoch 27/30\n"
     ]
    },
    {
     "name": "stderr",
     "output_type": "stream",
     "text": [
      "100%|██████████| 150/150 [00:07<00:00, 20.57it/s]\n"
     ]
    },
    {
     "name": "stdout",
     "output_type": "stream",
     "text": [
      "Average loss: 0.16402\n",
      "val loss: 1.32265\n",
      "Begin epoch 28/30\n"
     ]
    },
    {
     "name": "stderr",
     "output_type": "stream",
     "text": [
      "100%|██████████| 150/150 [00:07<00:00, 21.24it/s]\n"
     ]
    },
    {
     "name": "stdout",
     "output_type": "stream",
     "text": [
      "Average loss: 0.1653\n",
      "val loss: 1.1635\n",
      "Begin epoch 29/30\n"
     ]
    },
    {
     "name": "stderr",
     "output_type": "stream",
     "text": [
      "100%|██████████| 150/150 [00:07<00:00, 21.29it/s]\n"
     ]
    },
    {
     "name": "stdout",
     "output_type": "stream",
     "text": [
      "Average loss: 0.15924\n",
      "val loss: 1.17294\n",
      "Begin epoch 30/30\n"
     ]
    },
    {
     "name": "stderr",
     "output_type": "stream",
     "text": [
      "100%|██████████| 150/150 [00:07<00:00, 21.19it/s]\n"
     ]
    },
    {
     "name": "stdout",
     "output_type": "stream",
     "text": [
      "Average loss: 0.16678\n",
      "val loss: 1.4549\n"
     ]
    }
   ],
   "source": [
    "n_layers = 1\n",
    "dropout = 0.5\n",
    "input_size = 2\n",
    "output_size = 2\n",
    "hidden_size = 256\n",
    "\n",
    "encoder_model = Encoder(input_size, hidden_size, n_layers, dropout).to(device)\n",
    "decoder_model = Decoder(input_size, output_size, hidden_size, n_layers, dropout).to(device)\n",
    "\n",
    "def count_parameters(model):\n",
    "    return sum(p.numel() for p in model.parameters() if p.requires_grad)\n",
    "\n",
    "print(f'Encoder Model has {count_parameters(encoder_model)} parameters')\n",
    "print(f'Decoder Model has {count_parameters(decoder_model)} parameters')\n",
    "epochs = 30\n",
    "fit_seq(encoder_model=encoder_model,\n",
    "        decoder_model=decoder_model,\n",
    "        train_dl=gpu_cont_train_dl, \n",
    "        valid_dl=gpu_cont_valid_dl, \n",
    "        n_epochs=epochs, \n",
    "        teacher_forcing_ratio=0.5)\n",
    "encoder_model = encoder_model.eval()\n",
    "decoder_model = decoder_model.eval()"
   ]
  },
  {
   "cell_type": "code",
   "execution_count": 65,
   "id": "75b49452",
   "metadata": {},
   "outputs": [
    {
     "name": "stdout",
     "output_type": "stream",
     "text": [
      "(110, 2) torch.Size([60, 1, 2]) torch.Size([60, 2])\n",
      "loss value: 1.1463611125946045\n"
     ]
    },
    {
     "data": {
      "image/png": "[encoded data removed]",
      "text/plain": [
       "<Figure size 360x360 with 1 Axes>"
      ]
     },
     "metadata": {
      "needs_background": "light"
     },
     "output_type": "display_data"
    }
   ],
   "source": [
    "x, y = next(iter(gpu_cont_train_dl))\n",
    "\n",
    "encoder_output, hidden = encoder_model(x.squeeze(1))\n",
    "outputs = torch.zeros(y.shape[0], 2).to(device)\n",
    "\n",
    "input_decoder = x[-1]\n",
    "for inx, y_i in enumerate(y):\n",
    "    output, hidden = decoder_model(input_decoder, hidden)\n",
    "\n",
    "    outputs[inx] = output\n",
    "\n",
    "    input_decoder = output\n",
    "\n",
    "x = x.squeeze(1)\n",
    "x = x.to(device='cpu').detach().numpy()\n",
    "new_y_pred = outputs.to(device='cpu').detach().numpy()\n",
    "    \n",
    "print(x.shape, y.shape, outputs.shape)\n",
    "print(f'loss value: {criterion(y.squeeze(1), outputs).item()}')\n",
    "plot_example(x, x_gt=y.squeeze(1), x_pred=np.array(new_y_pred))"
   ]
  },
  {
   "cell_type": "code",
   "execution_count": null,
   "id": "33986c2e",
   "metadata": {},
   "outputs": [],
   "source": []
  },
  {
   "cell_type": "code",
   "execution_count": null,
   "id": "d29b6790",
   "metadata": {},
   "outputs": [],
   "source": []
  },
  {
   "cell_type": "code",
   "execution_count": null,
   "id": "4bf231ea",
   "metadata": {},
   "outputs": [],
   "source": []
  },
  {
   "cell_type": "code",
   "execution_count": null,
   "id": "f458b614",
   "metadata": {},
   "outputs": [],
   "source": []
  }
 ],
 "metadata": {
  "interpreter": {
   "hash": "27c164e33ceb3372f7d05cab3554d1b7111f26924d32637c2cc5dd0d753ab5f1"
  },
  "kernelspec": {
   "display_name": "Python 3 (ipykernel)",
   "language": "python",
   "name": "python3"
  },
  "language_info": {
   "codemirror_mode": {
    "name": "ipython",
    "version": 3
   },
   "file_extension": ".py",
   "mimetype": "text/x-python",
   "name": "python",
   "nbconvert_exporter": "python",
   "pygments_lexer": "ipython3",
   "version": "3.9.13"
  }
 },
 "nbformat": 4,
 "nbformat_minor": 5
}

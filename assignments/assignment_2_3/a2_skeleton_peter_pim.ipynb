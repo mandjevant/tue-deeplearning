{
 "cells": [
  {
   "cell_type": "markdown",
   "id": "730fd591",
   "metadata": {
    "id": "730fd591"
   },
   "source": [
    "<a href=\"https://colab.research.google.com/github/vlamen/tue-deeplearning/blob/main/assignments/assignment_2_3/a2_skeleton.ipynb\" target=\"_parent\"><img src=\"https://colab.research.google.com/assets/colab-badge.svg\" alt=\"Open In Colab\"/></a>"
   ]
  },
  {
   "cell_type": "markdown",
   "id": "d32f8d18",
   "metadata": {
    "id": "d32f8d18"
   },
   "source": [
    "# Group Number: 37\n",
    "# Student 1: Jiong Li | 1533312\n",
    "# Student 2: Peter Elmers | 1734350\n",
    "# Student 3: P.T.C.M. Tholhuijsen | 1237447"
   ]
  },
  {
   "cell_type": "markdown",
   "id": "faec2056",
   "metadata": {
    "id": "faec2056"
   },
   "source": [
    "# Downloading Data and Preliminaries"
   ]
  },
  {
   "cell_type": "code",
   "execution_count": 1,
   "id": "7d0580a5",
   "metadata": {
    "id": "7d0580a5"
   },
   "outputs": [],
   "source": [
    "import pickle\n",
    "import matplotlib.pyplot as plt\n",
    "import matplotlib\n",
    "import numpy as np\n",
    "\n",
    "from zipfile import ZipFile\n",
    "import requests\n",
    "import io"
   ]
  },
  {
   "cell_type": "code",
   "execution_count": 2,
   "id": "b0756591",
   "metadata": {
    "id": "b0756591"
   },
   "outputs": [],
   "source": [
    "def load_zip(url):\n",
    "    response = requests.get(url)\n",
    "    response.raise_for_status()\n",
    "    zipf = ZipFile(io.BytesIO(response.content))\n",
    "    return {name: zipf.read(name) for name in zipf.namelist()}\n",
    "\n",
    "def load_array(zipfile, fn):\n",
    "    return np.load(io.BytesIO(zipfile[fn]))"
   ]
  },
  {
   "cell_type": "code",
   "execution_count": 3,
   "id": "bb77a4be",
   "metadata": {
    "colab": {
     "base_uri": "https://localhost:8080/"
    },
    "id": "bb77a4be",
    "outputId": "e74493aa-d245-4312-fd8b-fd87366b291f"
   },
   "outputs": [
    {
     "name": "stdout",
     "output_type": "stream",
     "text": [
      "Shapes of the training data:\n",
      "\n",
      "positions: (10000, 4, 2, 5)\n",
      "velocities: (10000, 1, 2, 5)\n",
      "charges: (10000, 5, 1)\n"
     ]
    }
   ],
   "source": [
    "\"\"\"\n",
    "This cell loads the training, validation or test data as numpy arrays,\n",
    "with the positions, initial velocities and charge data of the particles.\n",
    "\n",
    "The position arrays are shaped as\n",
    "[simulation id, time point (corresponding to t = 0, 0.5, 1 or 1.5), x/y spatial dimension, particle id].\n",
    "\n",
    "The initial velocity arrays are shaped as\n",
    "[simulation id, 1 (corresponding to t=0), x/y spatial dimension, particle id].\n",
    "\n",
    "The charge arrays are shaped as [simulation id, particle id, 1]\n",
    "\n",
    "\"\"\"\n",
    "\n",
    "data = load_zip('https://surfdrive.surf.nl/files/index.php/s/OIgda2ZRG8v0eqB/download')\n",
    "\n",
    "features = ['positions', 'velocities', 'charges']\n",
    "    \n",
    "positions_train, velocities_train, charges_train = (load_array(data, f'data/train/{f}.npy') for f in features)\n",
    "positions_valid, velocities_valid, charges_valid = (load_array(data, f'data/valid/{f}.npy') for f in features)\n",
    "positions_test, velocities_test, charges_test = (load_array(data, f'data/test/{f}.npy') for f in features)\n",
    "\n",
    "print('Shapes of the training data:\\n')\n",
    "print(f'positions: {positions_train.shape}')\n",
    "print(f'velocities: {velocities_train.shape}')\n",
    "print(f'charges: {charges_train.shape}')"
   ]
  },
  {
   "cell_type": "code",
   "execution_count": 4,
   "id": "1c3ea4cb",
   "metadata": {
    "colab": {
     "base_uri": "https://localhost:8080/"
    },
    "id": "1c3ea4cb",
    "outputId": "4d48cb4d-103d-470b-928a-595553808d2b"
   },
   "outputs": [
    {
     "name": "stdout",
     "output_type": "stream",
     "text": [
      "An example of retrieving data from the arrays:\n",
      "\n",
      "\n",
      "In simulation 42 of the training set, particle 3 with charge -1.0 had coordinates [ 2.05159559 -1.46130851].\n",
      "The initial velocity of this particle was [ 0.28402364 -0.24784824].\n"
     ]
    }
   ],
   "source": [
    "print('An example of retrieving data from the arrays:\\n\\n')\n",
    "\n",
    "sim_idx = 42\n",
    "t_idx = 2  # t_idx 0, 1, 2, 3 corresponds to t=0, 0.5, 1 and 1.5 respectively\n",
    "spatial_idx = (0,1)  # corresponds to both x and y dimension\n",
    "particle_idx = 3  # corresponds to particle with index 3\n",
    "\n",
    "p = positions_train[sim_idx, t_idx, spatial_idx, particle_idx]\n",
    "v = velocities_train[sim_idx, 0, spatial_idx, particle_idx]  # note: this array contains only the inital velocity -> hence the 0\n",
    "c = charges_train[sim_idx, particle_idx, 0] \n",
    "\n",
    "print(\n",
    "    f'In simulation {sim_idx} of the training set, particle {particle_idx} with charge {c} had coordinates {p}.\\nThe initial velocity of this particle was {v}.'\n",
    ")"
   ]
  },
  {
   "cell_type": "code",
   "execution_count": 5,
   "id": "10a3438a",
   "metadata": {
    "colab": {
     "base_uri": "https://localhost:8080/"
    },
    "id": "10a3438a",
    "outputId": "2df70260-13a3-480c-ab78-60902c5cefd4"
   },
   "outputs": [
    {
     "name": "stdout",
     "output_type": "stream",
     "text": [
      "Overview of no. datapoints:\n",
      "\n",
      "10000 train, 2000 validation, 2000 test simulations\n"
     ]
    }
   ],
   "source": [
    "print('Overview of no. datapoints:\\n')\n",
    "\n",
    "print(f'{len(positions_train)} train, {len(positions_valid)} validation, {len(positions_test)} test simulations')"
   ]
  },
  {
   "cell_type": "code",
   "execution_count": 6,
   "id": "f9106543",
   "metadata": {
    "id": "f9106543"
   },
   "outputs": [],
   "source": [
    "def plot_example(pos, vel):\n",
    "\n",
    "    fig = plt.figure()\n",
    "    axes = plt.gca()\n",
    "    axes.set_xlim([-5., 5.])\n",
    "    axes.set_ylim([-5., 5.])\n",
    "    colors = ['red', 'blue', 'green', 'orange', 'brown']\n",
    "    for i in range(pos.shape[-1]):\n",
    "        plt.plot(pos[0, 0, i], pos[0, 1, i], 'd', color=colors[i])\n",
    "        plt.plot(pos[-1, 0, i], pos[-1, 1, i], 'x', color=colors[i])\n",
    "        plt.plot([pos[0, 0, i], pos[0, 0, i] + vel[0, 0, i]], [pos[0, 1, i], pos[0, 1, i] + vel[0, 1, i]], '--', color=colors[i])\n",
    "    fig.set_size_inches(7, 7)\n",
    "    plt.xlim(np.min(pos)-1, np.max(pos) +1)\n",
    "    plt.ylim(np.min(pos)-1, np.max(pos) +1)\n",
    "    plt.plot([], [], 'd', color='black', label='initial position')\n",
    "    plt.plot([], [], 'x', color='black', label='final position')\n",
    "    plt.plot([], [], '--', color='black', label='initial velocity \\ndirection and magnitude')\n",
    "    plt.legend()\n",
    "    \n",
    "    plt.show()\n",
    "    return"
   ]
  },
  {
   "cell_type": "code",
   "execution_count": 7,
   "id": "d28681a6",
   "metadata": {
    "colab": {
     "base_uri": "https://localhost:8080/",
     "height": 428
    },
    "id": "d28681a6",
    "outputId": "42f65e33-35a4-4ab7-a908-5579930927b7"
   },
   "outputs": [
    {
     "data": {
      "image/png": "[encoded data removed]",
      "text/plain": [
       "<Figure size 504x504 with 1 Axes>"
      ]
     },
     "metadata": {
      "needs_background": "light"
     },
     "output_type": "display_data"
    }
   ],
   "source": [
    "random_idx = np.random.randint(0, 10000)\n",
    "plot_example(positions_train[random_idx], velocities_train[random_idx])"
   ]
  },
  {
   "cell_type": "markdown",
   "id": "059b633c",
   "metadata": {
    "id": "059b633c"
   },
   "source": [
    "# Data Handling and Preprocessing"
   ]
  },
  {
   "cell_type": "code",
   "execution_count": 8,
   "id": "e6ecb529",
   "metadata": {
    "colab": {
     "base_uri": "https://localhost:8080/"
    },
    "id": "e6ecb529",
    "outputId": "f8656fb4-2d13-4472-ca72-6e21dfeb7fb7"
   },
   "outputs": [
    {
     "name": "stdout",
     "output_type": "stream",
     "text": [
      "Device is set to cuda\n"
     ]
    }
   ],
   "source": [
    "# Pick the best device\n",
    "import torch\n",
    "\n",
    "def try_device(device):\n",
    "    # Try to put an array on given device. If successful, return device. Else, 'cpu'.\n",
    "    x = torch.ones((1,))\n",
    "    try:\n",
    "        x.to(device)\n",
    "        return device\n",
    "    except:\n",
    "        return 'cpu'\n",
    "\n",
    "device = try_device('cuda')\n",
    "if device == 'cpu':\n",
    "    device = try_device('mps')\n",
    "\n",
    "print(f'Device is set to {device}')\n",
    "\n",
    "# Move all the little craps into torch things on the device\n",
    "p_train, v_train, c_train = [torch.Tensor(vec).to(device=device) for vec in [positions_train, velocities_train, charges_train]]\n",
    "p_valid, v_valid, c_valid = [torch.Tensor(vec).to(device=device) for vec in [positions_valid, velocities_valid, charges_valid]]\n",
    "p_test, v_test, c_test = [torch.Tensor(vec).to(device=device) for vec in [positions_test, velocities_test, charges_test]]"
   ]
  },
  {
   "cell_type": "code",
   "execution_count": 9,
   "id": "89f90431",
   "metadata": {
    "id": "89f90431"
   },
   "outputs": [],
   "source": [
    "p_train, v_train, c_train = p_train[:2000], v_train[:2000], c_train[:2000]\n",
    "p_valid, v_valid, c_valid = p_valid[:400], v_valid[:400], c_valid[:400]"
   ]
  },
  {
   "cell_type": "code",
   "execution_count": 10,
   "id": "f8633eb8",
   "metadata": {
    "id": "f8633eb8"
   },
   "outputs": [],
   "source": [
    "# Create a baseline: particle position = velocity * time + initial\n",
    "def baseline_predict(p0, v0, time):\n",
    "    '''\n",
    "    Return a numpy array of predicted x, y position of each particle in p0.\n",
    "    Given p0 starting locations, v0 starting velocities, and time to predict.\n",
    "    Result is computed via linear projection: v0 * time + p0.\n",
    "    Where p0 and v0 are both (N x 1 x 2 x P) tensors, for N simulations, P particles/sim\n",
    "    '''\n",
    "    return p0 + v0 * time\n"
   ]
  },
  {
   "cell_type": "code",
   "execution_count": 11,
   "id": "b9d84863",
   "metadata": {
    "id": "b9d84863"
   },
   "outputs": [],
   "source": [
    "from torch.utils.data import Dataset, DataLoader\n",
    "\n",
    "\n",
    "class myDataset(Dataset):\n",
    "    def __init__(self, posi, velo, charge):\n",
    "        self.posi = posi\n",
    "        self.velo = velo\n",
    "        self.charge = charge\n",
    "    \n",
    "    def __len__(self):\n",
    "        return len(self.posi)\n",
    "    \n",
    "    def __getitem__(self, index):\n",
    "        i = list(zip(self.posi, self.velo, self.charge))[index]\n",
    "        \n",
    "        p = torch.transpose(i[0][0], 0, 1)\n",
    "        v = torch.transpose(i[1][0], 0, 1)\n",
    "        c = i[2]\n",
    "        \n",
    "        # x_p, y_p, x_v, y_v, c at t=0\n",
    "        x = torch.hstack((p, v, c))\n",
    "        # x.shape = [10, 5, 5]\n",
    "        \n",
    "        # (x_p, y_p), (x_p, y_p), (x_p, y_p) at t = 0.5, 1.0, 1.5\n",
    "        y = torch.hstack((torch.transpose(i[0][1], 0, 1), \n",
    "                          torch.transpose(i[0][2], 0, 1), \n",
    "                          torch.transpose(i[0][3], 0, 1)))\n",
    "        # y.shape = [10, 5, 6]\n",
    "        \n",
    "        return x, y\n"
   ]
  },
  {
   "cell_type": "code",
   "execution_count": 12,
   "id": "3R3Oid3Fr043",
   "metadata": {
    "colab": {
     "base_uri": "https://localhost:8080/"
    },
    "id": "3R3Oid3Fr043",
    "outputId": "2a922792-d6cf-4a08-e81c-9b213f267f27"
   },
   "outputs": [
    {
     "data": {
      "text/plain": [
       "torch.Size([5, 6])"
      ]
     },
     "execution_count": 12,
     "metadata": {},
     "output_type": "execute_result"
    }
   ],
   "source": [
    "tmp = myDataset(p_train, v_train, c_train)\n",
    "x,y = tmp.__getitem__(0)\n",
    "y.shape"
   ]
  },
  {
   "cell_type": "code",
   "execution_count": 54,
   "id": "d070e561",
   "metadata": {
    "id": "d070e561"
   },
   "outputs": [],
   "source": [
    "trainLoader = DataLoader(myDataset(p_train, v_train, c_train), batch_size=10, shuffle=True)\n",
    "validationLoader = DataLoader(myDataset(p_valid, v_valid, c_valid), batch_size=10, shuffle=True)\n",
    "testLoader = DataLoader(myDataset(p_test, v_test, c_test), batch_size=10, shuffle=True)"
   ]
  },
  {
   "cell_type": "markdown",
   "id": "18b2874d",
   "metadata": {
    "id": "18b2874d"
   },
   "source": [
    "# Model Implementation"
   ]
  },
  {
   "cell_type": "code",
   "execution_count": 13,
   "id": "3aa472dc",
   "metadata": {
    "id": "3aa472dc"
   },
   "outputs": [],
   "source": [
    "import torch.nn as nn\n",
    "from tqdm import tqdm"
   ]
  },
  {
   "cell_type": "markdown",
   "id": "b33b0e1c",
   "metadata": {
    "id": "b33b0e1c"
   },
   "source": [
    "Implementation like https://github.com/higgsfield/interaction_network_pytorch/blob/master/Interaction%20Network.ipynb"
   ]
  },
  {
   "cell_type": "code",
   "execution_count": 45,
   "id": "e79124e4",
   "metadata": {
    "colab": {
     "base_uri": "https://localhost:8080/"
    },
    "id": "e79124e4",
    "outputId": "5b66cba2-8c46-4686-af0e-195eb444685a"
   },
   "outputs": [
    {
     "name": "stdout",
     "output_type": "stream",
     "text": [
      "tensor(-1.9361, device='cuda:0')\n",
      "tensor([[-1.9361, -0.2276, -0.7878,  0.0267, -1.0000],\n",
      "        [ 3.6532, -2.7631,  1.5892, -0.4211,  1.0000],\n",
      "        [-4.5496,  8.2998, -1.2906,  2.3834,  1.0000],\n",
      "        [-3.0958, -3.0921, -1.9173, -0.5785,  1.0000],\n",
      "        [ 0.1073, -2.8976,  0.6539, -0.5676, -1.0000]], device='cuda:0')\n",
      "tensor([[-1.9361, -0.2276],\n",
      "        [ 3.6532, -2.7631],\n",
      "        [-4.5496,  8.2998],\n",
      "        [-3.0958, -3.0921],\n",
      "        [ 0.1073, -2.8976]], device='cuda:0')\n",
      "tensor([[-0.7878,  0.0267],\n",
      "        [ 1.5892, -0.4211],\n",
      "        [-1.2906,  2.3834],\n",
      "        [-1.9173, -0.5785],\n",
      "        [ 0.6539, -0.5676]], device='cuda:0')\n"
     ]
    }
   ],
   "source": [
    "for i in zip(p_train, v_train, c_train):\n",
    "    p = torch.transpose(i[0][0], 0, 1)\n",
    "    v = torch.transpose(i[1][0], 0, 1)\n",
    "    c = i[2]\n",
    "   \n",
    "    data = torch.hstack((p, v, c))\n",
    "    print(data)\n",
    "    print(data[:, 0:2])\n",
    "    print(data[:, 2:4])\n",
    "    # x_p, y_p, x_v, y_v, c\n",
    "    break"
   ]
  },
  {
   "cell_type": "code",
   "execution_count": 18,
   "id": "MFsf3WwfDN-s",
   "metadata": {
    "colab": {
     "base_uri": "https://localhost:8080/"
    },
    "id": "MFsf3WwfDN-s",
    "outputId": "027d2d85-dd16-421e-f594-53d70e0e45d2"
   },
   "outputs": [
    {
     "data": {
      "text/plain": [
       "2"
      ]
     },
     "execution_count": 18,
     "metadata": {},
     "output_type": "execute_result"
    }
   ],
   "source": [
    "len(next(iter(trainLoader)))"
   ]
  },
  {
   "cell_type": "code",
   "execution_count": 55,
   "id": "587da524",
   "metadata": {
    "id": "587da524"
   },
   "outputs": [],
   "source": [
    "# object-centric acceleration neural network\n",
    "class AccelerationModel(nn.Module):\n",
    "    def __init__(self):\n",
    "        super(AccelerationModel, self).__init__()\n",
    "        \n",
    "        self.layers = nn.Sequential(\n",
    "            nn.Linear(5, 25),\n",
    "            nn.ReLU(),\n",
    "            nn.Dropout(p=0.2),\n",
    "            nn.Linear(25, 2),\n",
    "        )\n",
    "        \n",
    "    def forward(self, x):\n",
    "        x = x.view(-1, 5)\n",
    "        x = self.layers(x)\n",
    "        return x.view(10, 5, 2)"
   ]
  },
  {
   "cell_type": "code",
   "execution_count": 56,
   "id": "8bca2f0d",
   "metadata": {
    "id": "8bca2f0d"
   },
   "outputs": [],
   "source": [
    "# object-centric velocity neural network\n",
    "class VelocityModel(nn.Module):\n",
    "    def __init__(self):\n",
    "        super(VelocityModel, self).__init__()\n",
    "        \n",
    "        self.layers = nn.Sequential(\n",
    "            nn.Linear(4, 16),\n",
    "            # nn.Dropout(p=0.2),\n",
    "            nn.ReLU(),\n",
    "            nn.Linear(16, 2),\n",
    "        )\n",
    "        \n",
    "    def forward(self, x):\n",
    "        x = x.view(-1, 4)\n",
    "        x = self.layers(x)\n",
    "        return x.view(10, 5, 2)"
   ]
  },
  {
   "cell_type": "code",
   "execution_count": 57,
   "id": "3535d8b4",
   "metadata": {
    "id": "3535d8b4"
   },
   "outputs": [],
   "source": [
    "# object-centric position neural network\n",
    "class PositionModel(nn.Module):\n",
    "    def __init__(self):\n",
    "        super(PositionModel, self).__init__()\n",
    "        \n",
    "        self.layers = nn.Sequential(\n",
    "            nn.Linear(4, 16),\n",
    "            nn.ReLU(),\n",
    "            #nn.Dropout(p=0.2),\n",
    "            nn.Linear(16, 2),\n",
    "        )\n",
    "        \n",
    "    def forward(self, x):\n",
    "        x = x.view(-1, 4)\n",
    "        x = self.layers(x)\n",
    "        return x.view(10, 5, 2)"
   ]
  },
  {
   "cell_type": "code",
   "execution_count": 58,
   "id": "1e9bdf5e",
   "metadata": {
    "colab": {
     "base_uri": "https://localhost:8080/"
    },
    "id": "1e9bdf5e",
    "outputId": "dfb49188-c0c5-4dc1-8926-fc3abba94f07"
   },
   "outputs": [
    {
     "data": {
      "text/plain": [
       "InteractionNetwork(\n",
       "  (acceleration_model): AccelerationModel(\n",
       "    (layers): Sequential(\n",
       "      (0): Linear(in_features=5, out_features=25, bias=True)\n",
       "      (1): ReLU()\n",
       "      (2): Dropout(p=0.2, inplace=False)\n",
       "      (3): Linear(in_features=25, out_features=2, bias=True)\n",
       "    )\n",
       "  )\n",
       "  (velocity_model): VelocityModel(\n",
       "    (layers): Sequential(\n",
       "      (0): Linear(in_features=4, out_features=16, bias=True)\n",
       "      (1): ReLU()\n",
       "      (2): Linear(in_features=16, out_features=2, bias=True)\n",
       "    )\n",
       "  )\n",
       "  (position_model): PositionModel(\n",
       "    (layers): Sequential(\n",
       "      (0): Linear(in_features=4, out_features=16, bias=True)\n",
       "      (1): ReLU()\n",
       "      (2): Linear(in_features=16, out_features=2, bias=True)\n",
       "    )\n",
       "  )\n",
       ")"
      ]
     },
     "execution_count": 58,
     "metadata": {},
     "output_type": "execute_result"
    }
   ],
   "source": [
    "# interaction network\n",
    "class InteractionNetwork(nn.Module):\n",
    "    def __init__(self):\n",
    "        super(InteractionNetwork, self).__init__()\n",
    "        \n",
    "        self.acceleration_model = AccelerationModel()\n",
    "        self.velocity_model = VelocityModel()\n",
    "        self.position_model = PositionModel()\n",
    "        \n",
    "    def forward(self, x, delta_t):\n",
    "        pred_accelleration = self.acceleration_model(x)\n",
    "        pred_velocity = self.velocity_model(torch.dstack((x[:, :, 2:4], torch.mul(pred_accelleration, delta_t))))\n",
    "        pred_position = self.position_model(torch.dstack((x[:, :, 0:2], pred_velocity)))\n",
    "        return pred_position, pred_velocity\n",
    "    \n",
    "interaction_network = InteractionNetwork()\n",
    "interaction_network.to(device=device)"
   ]
  },
  {
   "cell_type": "code",
   "execution_count": 59,
   "id": "aJfvjDr1j551",
   "metadata": {
    "id": "aJfvjDr1j551"
   },
   "outputs": [],
   "source": [
    "def evaluation(model, test_loader, klass):\n",
    "    model = model.eval()\n",
    "    loss_t1, loss_t2, loss_t3, loss_tot = list(), list(), list(), list()\n",
    "\n",
    "    with torch.no_grad():\n",
    "        for x, y in test_loader:\n",
    "            pred_p_t1, pred_v_t1 = model(x, 0.5)\n",
    "            pred_p_t2, pred_v_t2 = model(x, 1.0)\n",
    "            pred_p_t3, _ = model(x, 1.5)\n",
    "            \n",
    "#             pred_p_t2, pred_v_t2 = model(torch.dstack((pred_p_t1, pred_v_t1, x[:, :, -1])), 0.5)\n",
    "#             pred_p_t3, _ = model(torch.dstack((pred_p_t2, pred_v_t2, x[:, :, -1])), 0.5)\n",
    "\n",
    "            loss1 = criterion(pred_p_t1,y[:,:,0:2])\n",
    "            loss2 = criterion(pred_p_t2,y[:,:,2:4])\n",
    "            loss3 = criterion(pred_p_t3,y[:,:,4:6])\n",
    "\n",
    "            loss_t1.append(loss1.item() / 10)\n",
    "            loss_t2.append(loss2.item() / 10)\n",
    "            loss_t3.append(loss3.item() / 10)\n",
    "\n",
    "            y_pred = torch.dstack((pred_p_t1, pred_p_t2, pred_p_t3))\n",
    "            loss = criterion(y_pred, y)\n",
    "            loss_tot.append(loss.item() / 10)\n",
    "\n",
    "    print(f'Average loss in totall: {round(sum(loss_tot)/len(test_loader),5)}')\n",
    "    print(f'Average loss in {klass} at time= 0.5: {round(sum(loss_t1)/len(test_loader),5)}')\n",
    "    print(f'Average loss in {klass} at time= 1: {round(sum(loss_t2)/len(test_loader),5)}')\n",
    "    print(f'Average loss in {klass} at time= 1.5: {round(sum(loss_t3)/len(test_loader),5)}\\n')"
   ]
  },
  {
   "cell_type": "code",
   "execution_count": 60,
   "id": "cbd80a9d",
   "metadata": {
    "colab": {
     "base_uri": "https://localhost:8080/"
    },
    "id": "cbd80a9d",
    "outputId": "cbbe3aec-472b-49f9-9cdc-f4ca3d359194"
   },
   "outputs": [
    {
     "name": "stderr",
     "output_type": "stream",
     "text": [
      "Training: 100%|██████████████████████████████████████████████████████████████████████| 200/200 [00:17<00:00, 11.28it/s]\n"
     ]
    },
    {
     "name": "stdout",
     "output_type": "stream",
     "text": [
      "Average loss: 0.23285\n",
      "val loss: 0.22249\n",
      "\n"
     ]
    },
    {
     "name": "stderr",
     "output_type": "stream",
     "text": [
      "Training: 100%|██████████████████████████████████████████████████████████████████████| 200/200 [00:17<00:00, 11.62it/s]\n"
     ]
    },
    {
     "name": "stdout",
     "output_type": "stream",
     "text": [
      "Average loss: 0.21933\n",
      "val loss: 0.20904\n",
      "\n"
     ]
    },
    {
     "name": "stderr",
     "output_type": "stream",
     "text": [
      "Training: 100%|██████████████████████████████████████████████████████████████████████| 200/200 [00:17<00:00, 11.40it/s]\n"
     ]
    },
    {
     "name": "stdout",
     "output_type": "stream",
     "text": [
      "Average loss: 0.20538\n",
      "val loss: 0.19487\n",
      "\n"
     ]
    },
    {
     "name": "stderr",
     "output_type": "stream",
     "text": [
      "Training: 100%|██████████████████████████████████████████████████████████████████████| 200/200 [00:17<00:00, 11.46it/s]\n"
     ]
    },
    {
     "name": "stdout",
     "output_type": "stream",
     "text": [
      "Average loss: 0.19044\n",
      "val loss: 0.17946\n",
      "\n"
     ]
    },
    {
     "name": "stderr",
     "output_type": "stream",
     "text": [
      "Training: 100%|██████████████████████████████████████████████████████████████████████| 200/200 [00:17<00:00, 11.67it/s]\n"
     ]
    },
    {
     "name": "stdout",
     "output_type": "stream",
     "text": [
      "Average loss: 0.17401\n",
      "val loss: 0.16235\n",
      "\n"
     ]
    },
    {
     "name": "stderr",
     "output_type": "stream",
     "text": [
      "Training: 100%|██████████████████████████████████████████████████████████████████████| 200/200 [00:17<00:00, 11.61it/s]\n"
     ]
    },
    {
     "name": "stdout",
     "output_type": "stream",
     "text": [
      "Average loss: 0.15564\n",
      "val loss: 0.14319\n",
      "\n"
     ]
    },
    {
     "name": "stderr",
     "output_type": "stream",
     "text": [
      "Training: 100%|██████████████████████████████████████████████████████████████████████| 200/200 [00:17<00:00, 11.45it/s]\n"
     ]
    },
    {
     "name": "stdout",
     "output_type": "stream",
     "text": [
      "Average loss: 0.13524\n",
      "val loss: 0.12214\n",
      "\n"
     ]
    },
    {
     "name": "stderr",
     "output_type": "stream",
     "text": [
      "Training: 100%|██████████████████████████████████████████████████████████████████████| 200/200 [00:17<00:00, 11.67it/s]\n"
     ]
    },
    {
     "name": "stdout",
     "output_type": "stream",
     "text": [
      "Average loss: 0.11325\n",
      "val loss: 0.10005\n",
      "\n"
     ]
    },
    {
     "name": "stderr",
     "output_type": "stream",
     "text": [
      "Training: 100%|██████████████████████████████████████████████████████████████████████| 200/200 [00:17<00:00, 11.44it/s]\n"
     ]
    },
    {
     "name": "stdout",
     "output_type": "stream",
     "text": [
      "Average loss: 0.09114\n",
      "val loss: 0.0793\n",
      "\n"
     ]
    },
    {
     "name": "stderr",
     "output_type": "stream",
     "text": [
      "Training: 100%|██████████████████████████████████████████████████████████████████████| 200/200 [00:17<00:00, 11.57it/s]\n"
     ]
    },
    {
     "name": "stdout",
     "output_type": "stream",
     "text": [
      "Average loss: 0.07234\n",
      "val loss: 0.06361\n",
      "\n",
      "test loss:0.06617\n"
     ]
    }
   ],
   "source": [
    "optimizer = torch.optim.SGD(interaction_network.parameters(), lr=0.001, weight_decay=1e-4)\n",
    "criterion = nn.L1Loss()\n",
    "criterion.to(device=device)\n",
    "\n",
    "train_loss_graph, val_loss_graph = list(), list()\n",
    "for epoch in range(10):\n",
    "    train_loss, val_loss = list(), list()\n",
    "    \n",
    "    interaction_network = interaction_network.train()\n",
    "    for x_train, y_train in tqdm(trainLoader, desc=\"Training\"):\n",
    "        optimizer.zero_grad()\n",
    "        pred_p_t1, _ = interaction_network(x_train, 0.5)\n",
    "        pred_p_t2, _ = interaction_network(x_train, 1.0)\n",
    "        pred_p_t3, _ = interaction_network(x_train, 1.5)\n",
    "        \n",
    "#         pred_p_t2, pred_v_t2 = interaction_network(torch.dstack((pred_p_t1, pred_v_t1, x_train[:, :, -1])), 0.5)\n",
    "#         pred_p_t3, _ = interaction_network(torch.dstack((pred_p_t2, pred_v_t2, x_train[:, :, -1])), 0.5)\n",
    "        \n",
    "        y_pred = torch.dstack((pred_p_t1, pred_p_t2, pred_p_t3))\n",
    "        loss = criterion(y_pred, y_train)\n",
    "\n",
    "        loss.backward()\n",
    "        optimizer.step()\n",
    "        \n",
    "        train_loss.append(loss.item() / 10)\n",
    "\n",
    "    train_loss_graph.append(sum(train_loss) / len(trainLoader))\n",
    "    \n",
    "    interaction_network = interaction_network.eval()\n",
    "    for x_val, y_val in validationLoader:\n",
    "        optimizer.zero_grad()\n",
    "        pred_p_t1, pred_v_t1 = interaction_network(x_val, 0.5)\n",
    "        pred_p_t2, pred_v_t2 = interaction_network(x_val, 1.0)\n",
    "        pred_p_t3, _ = interaction_network(x_val, 1.5)\n",
    "        \n",
    "#         pred_p_t2, pred_v_t2 = interaction_network(torch.dstack((pred_p_t1, pred_v_t1, x_val[:, :, -1])), 0.5)\n",
    "#         pred_p_t3, _ = interaction_network(torch.dstack((pred_p_t2, pred_v_t2, x_val[:, :, -1])), 0.5)\n",
    "        \n",
    "        y_pred = torch.dstack((pred_p_t1, pred_p_t2, pred_p_t3))\n",
    "        loss = criterion(y_pred, y_val)\n",
    "        \n",
    "        val_loss.append(loss.item() / 10)\n",
    "    \n",
    "    val_loss_graph.append(sum(val_loss) / len(validationLoader))\n",
    "    \n",
    "    #evaluation(interaction_network,validationLoader,\"validation\")\n",
    "        \n",
    "    print(f'Average loss: {round(train_loss_graph[-1],5)}')\n",
    "    print(f'val loss: {round(val_loss_graph[-1],5)}\\n')\n",
    "\n",
    "test_loss = list()\n",
    "interaction_network = interaction_network.eval()\n",
    "for x_test, y_test in testLoader:\n",
    "    optimizer.zero_grad()\n",
    "    pred_p_t1, pred_v_t1 = interaction_network(x_test, 0.5)\n",
    "    pred_p_t2, pred_v_t2 = interaction_network(x_test, 1.0)\n",
    "    pred_p_t3, _ = interaction_network(x_test, 1.5)\n",
    "    \n",
    "    \n",
    "#     pred_p_t2, pred_v_t2 = interaction_network(torch.dstack((pred_p_t1, pred_v_t1, x_test[:, :, -1])), 0.5)\n",
    "#     pred_p_t3, _ = interaction_network(torch.dstack((pred_p_t2, pred_v_t2, x_test[:, :, -1])), 0.5)\n",
    "        \n",
    "    y_pred = torch.dstack((pred_p_t1, pred_p_t2, pred_p_t3))\n",
    "    loss = criterion(y_pred, y_test)\n",
    "        \n",
    "    test_loss.append(loss.item() / 10)\n",
    "    \n",
    "print(f\"test loss:{round(sum(test_loss) / len(testLoader),5)}\")"
   ]
  },
  {
   "cell_type": "code",
   "execution_count": 61,
   "id": "rnAe3_nXllE2",
   "metadata": {
    "colab": {
     "base_uri": "https://localhost:8080/"
    },
    "id": "rnAe3_nXllE2",
    "outputId": "c0b3f96c-32af-4fb0-f66d-26d454d7ed07"
   },
   "outputs": [
    {
     "name": "stdout",
     "output_type": "stream",
     "text": [
      "Average loss in totall: 0.06487\n",
      "Average loss in training at time= 0.5: 0.04071\n",
      "Average loss in training at time= 1: 0.06353\n",
      "Average loss in training at time= 1.5: 0.09038\n",
      "\n",
      "Average loss in totall: 0.06361\n",
      "Average loss in validation at time= 0.5: 0.04028\n",
      "Average loss in validation at time= 1: 0.06216\n",
      "Average loss in validation at time= 1.5: 0.08837\n",
      "\n",
      "Average loss in totall: 0.06617\n",
      "Average loss in testing at time= 0.5: 0.04162\n",
      "Average loss in testing at time= 1: 0.0648\n",
      "Average loss in testing at time= 1.5: 0.09208\n",
      "\n"
     ]
    }
   ],
   "source": [
    "evaluation(interaction_network,trainLoader,\"training\")\n",
    "evaluation(interaction_network,validationLoader,\"validation\")\n",
    "evaluation(interaction_network,testLoader,\"testing\")"
   ]
  },
  {
   "cell_type": "code",
   "execution_count": 62,
   "id": "f6f960c7",
   "metadata": {},
   "outputs": [],
   "source": [
    "def experiment(model, test_loader, klass):\n",
    "    model = model.eval()\n",
    "    loss_t1, loss_t2, loss_t3, loss_tot = list(), list(), list(), list()\n",
    "    pred_positions = list()\n",
    "\n",
    "    with torch.no_grad():\n",
    "        x, y = next(iter(test_loader))\n",
    "        \n",
    "#         pred_p, pred_v = model(x, 0.01)\n",
    "#         pred_positions.append(pred_p)\n",
    "\n",
    "        for i in range(1, 151):\n",
    "            pred_p, pred_v = model(x, i/100)\n",
    "#             pred_p, pred_v = model(torch.dstack((pred_p, pred_v, x[:, :, -1])), 0.01)\n",
    "            pred_positions.append(pred_p)\n",
    "\n",
    "        loss1 = criterion(pred_positions[49], y[:,:,0:2])\n",
    "        loss2 = criterion(pred_positions[99], y[:,:,2:4])\n",
    "        loss3 = criterion(pred_positions[-1], y[:,:,4:6])\n",
    "\n",
    "        loss_t1.append(loss1.item() / 10)\n",
    "        loss_t2.append(loss2.item() / 10)\n",
    "        loss_t3.append(loss3.item() / 10)\n",
    "\n",
    "        y_pred = torch.dstack((pred_positions[49], pred_positions[99], pred_positions[-1]))\n",
    "        loss = criterion(y_pred, y)\n",
    "        loss_tot.append(loss.item() / 10)\n",
    "\n",
    "    print(f'Average loss in totall: {round(sum(loss_tot)/len(test_loader),5)}')\n",
    "    print(f'Average loss in {klass} at time= 0.5: {round(sum(loss_t1)/len(test_loader),5)}')\n",
    "    print(f'Average loss in {klass} at time= 1: {round(sum(loss_t2)/len(test_loader),5)}')\n",
    "    print(f'Average loss in {klass} at time= 1.5: {round(sum(loss_t3)/len(test_loader),5)}\\n')\n",
    "    \n",
    "    return pred_positions, x, y"
   ]
  },
  {
   "cell_type": "code",
   "execution_count": 71,
   "id": "7d445d33",
   "metadata": {},
   "outputs": [
    {
     "data": {
      "text/plain": [
       "tensor([[-2.0429,  1.8824, -0.8474,  0.4597, -1.0000],\n",
       "        [-1.5188, -2.5175, -0.9766, -0.1444, -1.0000],\n",
       "        [ 0.8628, -0.2182, -1.5761,  0.1074, -1.0000],\n",
       "        [ 0.9027, -0.2283,  1.8907, -0.8605,  1.0000],\n",
       "        [-1.3500, -1.5913,  0.6751, -0.8434,  1.0000]])"
      ]
     },
     "execution_count": 71,
     "metadata": {},
     "output_type": "execute_result"
    }
   ],
   "source": [
    "data"
   ]
  },
  {
   "cell_type": "code",
   "execution_count": 63,
   "id": "60e60d72",
   "metadata": {},
   "outputs": [
    {
     "name": "stdout",
     "output_type": "stream",
     "text": [
      "Average loss in totall: 0.0003\n",
      "Average loss in testing at time= 0.5: 0.00018\n",
      "Average loss in testing at time= 1: 0.00029\n",
      "Average loss in testing at time= 1.5: 0.00043\n",
      "\n"
     ]
    }
   ],
   "source": [
    "positions, data, y = experiment(interaction_network, testLoader, \"testing\")"
   ]
  },
  {
   "cell_type": "code",
   "execution_count": 64,
   "id": "6f84ce08",
   "metadata": {},
   "outputs": [],
   "source": [
    "unique_pos = list()\n",
    "for stamp in positions:\n",
    "    unique_pos.append(stamp[0].to(device=\"cpu\"))\n",
    "    \n",
    "positions = unique_pos\n",
    "\n",
    "exp_x, exp_y = list(), list()\n",
    "\n",
    "for frame in positions:\n",
    "    exp_x.append(frame[:, 0])\n",
    "    exp_y.append(frame[:, 1])"
   ]
  },
  {
   "cell_type": "code",
   "execution_count": 65,
   "id": "fd6a9fb9",
   "metadata": {},
   "outputs": [
    {
     "name": "stdout",
     "output_type": "stream",
     "text": [
      "tensor([-2.5029, -1.6310,  0.6652,  0.6818, -1.3845]) tensor([ 2.2854, -3.1020, -0.5660, -0.5085, -2.1492])\n",
      "tensor([-2.5042, -1.6303,  0.6652,  0.6819, -1.3849]) tensor([ 2.2852, -3.1008, -0.5664, -0.5086, -2.1495])\n",
      "tensor([-2.5053, -1.6303,  0.6652,  0.6821, -1.3849]) tensor([ 2.2852, -3.1007, -0.5664, -0.5086, -2.1495])\n",
      "tensor([-2.5059, -1.6303,  0.6651,  0.6821, -1.3854]) tensor([ 2.2853, -3.1012, -0.5667, -0.5085, -2.1500])\n",
      "tensor([-2.5063, -1.6301,  0.6652,  0.6821, -1.3854]) tensor([ 2.2857, -3.1011, -0.5669, -0.5083, -2.1501])\n",
      "tensor([-2.5073, -1.6302,  0.6652,  0.6822, -1.3854]) tensor([ 2.2853, -3.1010, -0.5670, -0.5085, -2.1501])\n",
      "tensor([-2.5081, -1.6306,  0.6651,  0.6824, -1.3855]) tensor([ 2.2858, -3.1009, -0.5673, -0.5085, -2.1501])\n",
      "tensor([-2.5087, -1.6305,  0.6650,  0.6825, -1.3855]) tensor([ 2.2859, -3.1015, -0.5675, -0.5084, -2.1501])\n",
      "tensor([-2.5090, -1.6305,  0.6650,  0.6824, -1.3856]) tensor([ 2.2853, -3.1013, -0.5677, -0.5085, -2.1500])\n",
      "tensor([-2.5101, -1.6303,  0.6650,  0.6826, -1.3859]) tensor([ 2.2858, -3.1015, -0.5679, -0.5085, -2.1498])\n",
      "tensor([-2.5104, -1.6301,  0.6650,  0.6828, -1.3859]) tensor([ 2.2857, -3.1016, -0.5680, -0.5084, -2.1498])\n",
      "tensor([-2.5115, -1.6299,  0.6650,  0.6828, -1.3859]) tensor([ 2.2863, -3.1021, -0.5683, -0.5083, -2.1500])\n",
      "tensor([-2.5117, -1.6291,  0.6650,  0.6830, -1.3860]) tensor([ 2.2857, -3.1005, -0.5684, -0.5085, -2.1500])\n",
      "tensor([-2.5129, -1.6289,  0.6650,  0.6830, -1.3860]) tensor([ 2.2863, -3.1005, -0.5687, -0.5084, -2.1500])\n",
      "tensor([-2.5130, -1.6289,  0.6648,  0.6830, -1.3861]) tensor([ 2.2863, -3.1009, -0.5688, -0.5083, -2.1499])\n",
      "tensor([-2.5143, -1.6287,  0.6648,  0.6833, -1.3867]) tensor([ 2.2862, -3.1009, -0.5691, -0.5083, -2.1501])\n",
      "tensor([-2.5149, -1.6291,  0.6648,  0.6832, -1.3867]) tensor([ 2.2861, -3.1008, -0.5693, -0.5085, -2.1501])\n",
      "tensor([-2.5156, -1.6289,  0.6648,  0.6833, -1.3867]) tensor([ 2.2861, -3.1008, -0.5693, -0.5082, -2.1501])\n",
      "tensor([-2.5163, -1.6290,  0.6649,  0.6835, -1.3868]) tensor([ 2.2861, -3.1012, -0.5697, -0.5083, -2.1501])\n",
      "tensor([-2.5170, -1.6286,  0.6648,  0.6836, -1.3867]) tensor([ 2.2861, -3.1013, -0.5698, -0.5082, -2.1502])\n",
      "tensor([-2.5177, -1.6287,  0.6648,  0.6837, -1.3868]) tensor([ 2.2867, -3.1011, -0.5701, -0.5083, -2.1502])\n",
      "tensor([-2.5184, -1.6286,  0.6648,  0.6837, -1.3871]) tensor([ 2.2867, -3.1011, -0.5702, -0.5084, -2.1501])\n",
      "tensor([-2.5191, -1.6281,  0.6647,  0.6838, -1.3871]) tensor([ 2.2867, -3.1004, -0.5704, -0.5082, -2.1501])\n",
      "tensor([-2.5198, -1.6281,  0.6646,  0.6839, -1.3872]) tensor([ 2.2866, -3.1003, -0.5706, -0.5083, -2.1500])\n",
      "tensor([-2.5203, -1.6281,  0.6646,  0.6841, -1.3872]) tensor([ 2.2867, -3.1002, -0.5707, -0.5083, -2.1500])\n",
      "tensor([-2.5211, -1.6281,  0.6646,  0.6840, -1.3873]) tensor([ 2.2866, -3.1001, -0.5710, -0.5083, -2.1500])\n",
      "tensor([-2.5217, -1.6279,  0.6646,  0.6841, -1.3873]) tensor([ 2.2867, -3.1002, -0.5712, -0.5081, -2.1501])\n",
      "tensor([-2.5224, -1.6284,  0.6646,  0.6843, -1.3877]) tensor([ 2.2871, -3.1006, -0.5712, -0.5084, -2.1506])\n",
      "tensor([-2.5231, -1.6284,  0.6646,  0.6844, -1.3878]) tensor([ 2.2873, -3.1005, -0.5716, -0.5083, -2.1506])\n",
      "tensor([-2.5243, -1.6282,  0.6646,  0.6845, -1.3882]) tensor([ 2.2870, -3.1005, -0.5716, -0.5082, -2.1508])\n",
      "tensor([-2.5250, -1.6282,  0.6645,  0.6845, -1.3881]) tensor([ 2.2871, -3.1004, -0.5721, -0.5081, -2.1503])\n",
      "tensor([-2.5255, -1.6283,  0.6643,  0.6846, -1.3882]) tensor([ 2.2871, -3.1003, -0.5721, -0.5083, -2.1503])\n",
      "tensor([-2.5264, -1.6281,  0.6643,  0.6847, -1.3884]) tensor([ 2.2871, -3.1009, -0.5723, -0.5082, -2.1502])\n",
      "tensor([-2.5269, -1.6282,  0.6644,  0.6847, -1.3885]) tensor([ 2.2871, -3.1007, -0.5725, -0.5082, -2.1501])\n",
      "tensor([-2.5278, -1.6281,  0.6643,  0.6848, -1.3885]) tensor([ 2.2877, -3.1007, -0.5727, -0.5082, -2.1502])\n",
      "tensor([-2.5283, -1.6279,  0.6644,  0.6849, -1.3885]) tensor([ 2.2877, -3.1007, -0.5729, -0.5082, -2.1502])\n",
      "tensor([-2.5288, -1.6280,  0.6643,  0.6851, -1.3886]) tensor([ 2.2873, -3.1011, -0.5731, -0.5080, -2.1502])\n",
      "tensor([-2.5299, -1.6275,  0.6644,  0.6851, -1.3886]) tensor([ 2.2874, -3.0999, -0.5733, -0.5080, -2.1502])\n",
      "tensor([-2.5303, -1.6275,  0.6643,  0.6852, -1.3889]) tensor([ 2.2878, -3.0998, -0.5736, -0.5081, -2.1501])\n",
      "tensor([-2.5312, -1.6276,  0.6641,  0.6853, -1.3890]) tensor([ 2.2874, -3.1001, -0.5737, -0.5082, -2.1501])\n",
      "tensor([-2.5315, -1.6276,  0.6642,  0.6855, -1.3890]) tensor([ 2.2873, -3.1000, -0.5738, -0.5081, -2.1501])\n",
      "tensor([-2.5326, -1.6277,  0.6641,  0.6856, -1.3890]) tensor([ 2.2880, -3.1004, -0.5741, -0.5079, -2.1502])\n",
      "tensor([-2.5328, -1.6275,  0.6642,  0.6855, -1.3893]) tensor([ 2.2873, -3.1004, -0.5743, -0.5081, -2.1505])\n",
      "tensor([-2.5345, -1.6274,  0.6641,  0.6857, -1.3893]) tensor([ 2.2878, -3.1004, -0.5745, -0.5081, -2.1505])\n",
      "tensor([-2.5347, -1.6275,  0.6642,  0.6858, -1.3897]) tensor([ 2.2878, -3.1003, -0.5748, -0.5080, -2.1503])\n",
      "tensor([-2.5359, -1.6272,  0.6641,  0.6859, -1.3897]) tensor([ 2.2884, -3.1003, -0.5749, -0.5078, -2.1503])\n",
      "tensor([-2.5361, -1.6274,  0.6639,  0.6859, -1.3897]) tensor([ 2.2878, -3.1007, -0.5750, -0.5082, -2.1503])\n",
      "tensor([-2.5371, -1.6273,  0.6640,  0.6860, -1.3898]) tensor([ 2.2879, -3.1007, -0.5753, -0.5080, -2.1503])\n",
      "tensor([-2.5374, -1.6272,  0.6639,  0.6861, -1.3898]) tensor([ 2.2883, -3.1006, -0.5754, -0.5078, -2.1503])\n",
      "tensor([-2.5386, -1.6271,  0.6639,  0.6863, -1.3898]) tensor([ 2.2878, -3.1006, -0.5758, -0.5081, -2.1504])\n",
      "tensor([-2.5388, -1.6271,  0.6640,  0.6862, -1.3901]) tensor([ 2.2882, -3.1005, -0.5758, -0.5080, -2.1503])\n",
      "tensor([-2.5399, -1.6270,  0.6639,  0.6863, -1.3901]) tensor([ 2.2884, -3.0998, -0.5760, -0.5078, -2.1503])\n",
      "tensor([-2.5402, -1.6270,  0.6639,  0.6866, -1.3905]) tensor([ 2.2888, -3.0998, -0.5763, -0.5079, -2.1509])\n",
      "tensor([-2.5413, -1.6270,  0.6639,  0.6867, -1.3905]) tensor([ 2.2884, -3.0997, -0.5765, -0.5080, -2.1508])\n",
      "tensor([-2.5415, -1.6270,  0.6639,  0.6867, -1.3906]) tensor([ 2.2883, -3.0996, -0.5766, -0.5079, -2.1508])\n",
      "tensor([-2.5426, -1.6268,  0.6637,  0.6868, -1.3906]) tensor([ 2.2890, -3.0996, -0.5769, -0.5079, -2.1508])\n",
      "tensor([-2.5428, -1.6269,  0.6638,  0.6868, -1.3910]) tensor([ 2.2883, -3.1000, -0.5771, -0.5078, -2.1511])\n",
      "tensor([-2.5445, -1.6269,  0.6637,  0.6870, -1.3911]) tensor([ 2.2888, -3.0999, -0.5772, -0.5079, -2.1511])\n",
      "tensor([-2.5447, -1.6264,  0.6637,  0.6871, -1.3912]) tensor([ 2.2887, -3.0997, -0.5774, -0.5079, -2.1510])\n",
      "tensor([-2.5454, -1.6267,  0.6638,  0.6871, -1.3912]) tensor([ 2.2892, -3.0999, -0.5776, -0.5079, -2.1505])\n",
      "tensor([-2.5461, -1.6267,  0.6636,  0.6872, -1.3912]) tensor([ 2.2887, -3.0998, -0.5778, -0.5079, -2.1505])\n",
      "tensor([-2.5467, -1.6261,  0.6638,  0.6873, -1.3915]) tensor([ 2.2887, -3.1003, -0.5780, -0.5079, -2.1504])\n",
      "tensor([-2.5475, -1.6261,  0.6637,  0.6875, -1.3915]) tensor([ 2.2893, -3.1003, -0.5782, -0.5078, -2.1504])\n",
      "tensor([-2.5481, -1.6266,  0.6635,  0.6874, -1.3917]) tensor([ 2.2886, -3.1001, -0.5785, -0.5077, -2.1503])\n",
      "tensor([-2.5489, -1.6264,  0.6635,  0.6876, -1.3916]) tensor([ 2.2892, -3.1001, -0.5786, -0.5080, -2.1505])\n",
      "tensor([-2.5495, -1.6260,  0.6635,  0.6877, -1.3916]) tensor([ 2.2892, -3.0994, -0.5787, -0.5079, -2.1504])\n",
      "tensor([-2.5499, -1.6261,  0.6635,  0.6878, -1.3916]) tensor([ 2.2895, -3.0993, -0.5791, -0.5077, -2.1504])\n",
      "tensor([-2.5513, -1.6261,  0.6635,  0.6877, -1.3919]) tensor([ 2.2894, -3.0992, -0.5791, -0.5076, -2.1503])\n",
      "tensor([-2.5516, -1.6258,  0.6636,  0.6880, -1.3921]) tensor([ 2.2893, -3.0993, -0.5795, -0.5079, -2.1503])\n",
      "tensor([-2.5522, -1.6258,  0.6635,  0.6880, -1.3923]) tensor([ 2.2897, -3.0992, -0.5796, -0.5077, -2.1506])\n",
      "tensor([-2.5528, -1.6259,  0.6635,  0.6882, -1.3924]) tensor([ 2.2891, -3.0996, -0.5799, -0.5077, -2.1506])\n",
      "tensor([-2.5546, -1.6256,  0.6634,  0.6882, -1.3923]) tensor([ 2.2898, -3.0996, -0.5800, -0.5076, -2.1507])\n",
      "tensor([-2.5547, -1.6257,  0.6633,  0.6882, -1.3923]) tensor([ 2.2897, -3.0995, -0.5802, -0.5077, -2.1507])\n",
      "tensor([-2.5555, -1.6257,  0.6633,  0.6884, -1.3927]) tensor([ 2.2896, -3.0994, -0.5804, -0.5077, -2.1506])\n",
      "tensor([-2.5557, -1.6255,  0.6633,  0.6886, -1.3927]) tensor([ 2.2895, -3.0994, -0.5805, -0.5076, -2.1506])\n",
      "tensor([-2.5572, -1.6260,  0.6633,  0.6884, -1.3928]) tensor([ 2.2899, -3.0999, -0.5806, -0.5077, -2.1505])\n",
      "tensor([-2.5576, -1.6260,  0.6632,  0.6887, -1.3931]) tensor([ 2.2900, -3.0998, -0.5809, -0.5078, -2.1511])\n",
      "tensor([-2.5583, -1.6258,  0.6632,  0.6888, -1.3931]) tensor([ 2.2896, -3.0999, -0.5810, -0.5076, -2.1511])\n",
      "tensor([-2.5586, -1.6258,  0.6632,  0.6889, -1.3932]) tensor([ 2.2900, -3.0997, -0.5812, -0.5075, -2.1511])\n",
      "tensor([-2.5592, -1.6254,  0.6633,  0.6889, -1.3934]) tensor([ 2.2894, -3.0985, -0.5814, -0.5076, -2.1511])\n",
      "tensor([-2.5603, -1.6254,  0.6632,  0.6889, -1.3934]) tensor([ 2.2897, -3.0989, -0.5816, -0.5077, -2.1511])\n",
      "tensor([-2.5611, -1.6252,  0.6631,  0.6891, -1.3935]) tensor([ 2.2902, -3.0989, -0.5816, -0.5076, -2.1511])\n",
      "tensor([-2.5616, -1.6252,  0.6631,  0.6892, -1.3935]) tensor([ 2.2897, -3.0988, -0.5820, -0.5074, -2.1511])\n",
      "tensor([-2.5621, -1.6251,  0.6631,  0.6894, -1.3938]) tensor([ 2.2897, -3.0990, -0.5820, -0.5077, -2.1513])\n",
      "tensor([-2.5634, -1.6248,  0.6631,  0.6893, -1.3939]) tensor([ 2.2905, -3.0990, -0.5822, -0.5076, -2.1513])\n",
      "tensor([-2.5639, -1.6249,  0.6630,  0.6894, -1.3942]) tensor([ 2.2899, -3.0995, -0.5824, -0.5075, -2.1511])\n",
      "tensor([-2.5644, -1.6250,  0.6630,  0.6896, -1.3941]) tensor([ 2.2903, -3.0994, -0.5826, -0.5074, -2.1513])\n",
      "tensor([-2.5649, -1.6252,  0.6630,  0.6897, -1.3941]) tensor([ 2.2904, -3.0994, -0.5827, -0.5076, -2.1513])\n",
      "tensor([-2.5660, -1.6252,  0.6630,  0.6898, -1.3941]) tensor([ 2.2902, -3.0993, -0.5829, -0.5074, -2.1508])\n",
      "tensor([-2.5661, -1.6252,  0.6629,  0.6898, -1.3942]) tensor([ 2.2903, -3.0993, -0.5831, -0.5075, -2.1507])\n",
      "tensor([-2.5666, -1.6253,  0.6628,  0.6899, -1.3945]) tensor([ 2.2899, -3.0997, -0.5831, -0.5076, -2.1506])\n",
      "tensor([-2.5667, -1.6251,  0.6629,  0.6900, -1.3946]) tensor([ 2.2900, -3.0996, -0.5833, -0.5074, -2.1506])\n",
      "tensor([-2.5671, -1.6251,  0.6629,  0.6902, -1.3946]) tensor([ 2.2902, -3.0996, -0.5835, -0.5075, -2.1506])\n",
      "tensor([-2.5676, -1.6251,  0.6629,  0.6902, -1.3946]) tensor([ 2.2898, -3.0995, -0.5837, -0.5073, -2.1506])\n",
      "tensor([-2.5680, -1.6245,  0.6628,  0.6903, -1.3946]) tensor([ 2.2902, -3.0988, -0.5837, -0.5074, -2.1507])\n",
      "tensor([-2.5680, -1.6244,  0.6628,  0.6905, -1.3947]) tensor([ 2.2899, -3.0988, -0.5841, -0.5075, -2.1507])\n",
      "tensor([-2.5694, -1.6245,  0.6628,  0.6906, -1.3950]) tensor([ 2.2904, -3.0987, -0.5843, -0.5074, -2.1506])\n",
      "tensor([-2.5695, -1.6243,  0.6627,  0.6905, -1.3952]) tensor([ 2.2905, -3.0987, -0.5846, -0.5072, -2.1509])\n",
      "tensor([-2.5696, -1.6243,  0.6626,  0.6906, -1.3953]) tensor([ 2.2900, -3.0986, -0.5849, -0.5075, -2.1508])\n",
      "tensor([-2.5701, -1.6249,  0.6626,  0.6908, -1.3954]) tensor([ 2.2903, -3.0990, -0.5852, -0.5074, -2.1516])\n",
      "tensor([-2.5702, -1.6246,  0.6626,  0.6909, -1.3956]) tensor([ 2.2898, -3.0990, -0.5856, -0.5073, -2.1515])\n",
      "tensor([-2.5707, -1.6246,  0.6626,  0.6908, -1.3956]) tensor([ 2.2899, -3.0990, -0.5857, -0.5075, -2.1515])\n",
      "tensor([-2.5712, -1.6246,  0.6624,  0.6910, -1.3958]) tensor([ 2.2895, -3.0989, -0.5859, -0.5074, -2.1515])\n",
      "tensor([-2.5712, -1.6247,  0.6625,  0.6911, -1.3958]) tensor([ 2.2897, -3.0988, -0.5862, -0.5073, -2.1515])\n",
      "tensor([-2.5723, -1.6245,  0.6624,  0.6913, -1.3959]) tensor([ 2.2901, -3.0993, -0.5866, -0.5073, -2.1514])\n",
      "tensor([-2.5728, -1.6243,  0.6624,  0.6912, -1.3959]) tensor([ 2.2896, -3.0995, -0.5868, -0.5074, -2.1514])\n",
      "tensor([-2.5728, -1.6243,  0.6624,  0.6914, -1.3960]) tensor([ 2.2896, -3.0994, -0.5872, -0.5073, -2.1514])\n",
      "tensor([-2.5728, -1.6241,  0.6623,  0.6915, -1.3960]) tensor([ 2.2892, -3.0995, -0.5873, -0.5073, -2.1514])\n",
      "tensor([-2.5732, -1.6237,  0.6623,  0.6916, -1.3961]) tensor([ 2.2893, -3.0982, -0.5876, -0.5071, -2.1510])\n",
      "tensor([-2.5734, -1.6238,  0.6623,  0.6917, -1.3961]) tensor([ 2.2893, -3.0986, -0.5878, -0.5073, -2.1511])\n",
      "tensor([-2.5740, -1.6236,  0.6623,  0.6918, -1.3961]) tensor([ 2.2887, -3.0987, -0.5881, -0.5074, -2.1511])\n",
      "tensor([-2.5743, -1.6240,  0.6621,  0.6918, -1.3962]) tensor([ 2.2889, -3.0986, -0.5884, -0.5073, -2.1510])\n",
      "tensor([-2.5752, -1.6240,  0.6621,  0.6918, -1.3962]) tensor([ 2.2887, -3.0985, -0.5887, -0.5073, -2.1510])\n",
      "tensor([-2.5755, -1.6238,  0.6620,  0.6921, -1.3962]) tensor([ 2.2890, -3.0985, -0.5889, -0.5073, -2.1510])\n",
      "tensor([-2.5761, -1.6239,  0.6621,  0.6921, -1.3961]) tensor([ 2.2891, -3.0989, -0.5893, -0.5072, -2.1509])\n",
      "tensor([-2.5761, -1.6239,  0.6620,  0.6922, -1.3961]) tensor([ 2.2886, -3.0988, -0.5895, -0.5071, -2.1509])\n",
      "tensor([-2.5762, -1.6239,  0.6620,  0.6923, -1.3961]) tensor([ 2.2886, -3.0987, -0.5897, -0.5072, -2.1509])\n",
      "tensor([-2.5766, -1.6236,  0.6620,  0.6924, -1.3962]) tensor([ 2.2881, -3.0988, -0.5899, -0.5072, -2.1509])\n",
      "tensor([-2.5767, -1.6237,  0.6619,  0.6923, -1.3967]) tensor([ 2.2881, -3.0987, -0.5902, -0.5071, -2.1518])\n",
      "tensor([-2.5772, -1.6238,  0.6619,  0.6925, -1.3968]) tensor([ 2.2877, -3.0991, -0.5904, -0.5070, -2.1518])\n",
      "tensor([-2.5786, -1.6235,  0.6618,  0.6927, -1.3970]) tensor([ 2.2881, -3.0991, -0.5908, -0.5072, -2.1518])\n",
      "tensor([-2.5786, -1.6236,  0.6617,  0.6928, -1.3970]) tensor([ 2.2881, -3.0990, -0.5910, -0.5071, -2.1517])\n",
      "tensor([-2.5787, -1.6231,  0.6618,  0.6927, -1.3970]) tensor([ 2.2875, -3.0978, -0.5914, -0.5070, -2.1518])\n",
      "tensor([-2.5791, -1.6229,  0.6616,  0.6929, -1.3970]) tensor([ 2.2878, -3.0978, -0.5916, -0.5070, -2.1519])\n",
      "tensor([-2.5792, -1.6233,  0.6616,  0.6930, -1.3970]) tensor([ 2.2872, -3.0983, -0.5919, -0.5072, -2.1519])\n",
      "tensor([-2.5794, -1.6233,  0.6615,  0.6930, -1.3970]) tensor([ 2.2872, -3.0983, -0.5921, -0.5070, -2.1514])\n",
      "tensor([-2.5798, -1.6228,  0.6616,  0.6933, -1.3970]) tensor([ 2.2873, -3.0980, -0.5924, -0.5071, -2.1514])\n",
      "tensor([-2.5797, -1.6226,  0.6614,  0.6932, -1.3972]) tensor([ 2.2868, -3.0981, -0.5926, -0.5069, -2.1513])\n",
      "tensor([-2.5812, -1.6227,  0.6615,  0.6933, -1.3972]) tensor([ 2.2872, -3.0980, -0.5930, -0.5070, -2.1513])\n",
      "tensor([-2.5818, -1.6224,  0.6615,  0.6935, -1.3974]) tensor([ 2.2866, -3.0981, -0.5934, -0.5071, -2.1513])\n",
      "tensor([-2.5819, -1.6223,  0.6613,  0.6936, -1.3974]) tensor([ 2.2867, -3.0980, -0.5935, -0.5069, -2.1513])\n",
      "tensor([-2.5818, -1.6223,  0.6614,  0.6935, -1.3974]) tensor([ 2.2868, -3.0986, -0.5939, -0.5071, -2.1513])\n",
      "tensor([-2.5823, -1.6220,  0.6614,  0.6938, -1.3974]) tensor([ 2.2862, -3.0987, -0.5940, -0.5071, -2.1514])\n",
      "tensor([-2.5824, -1.6220,  0.6613,  0.6939, -1.3976]) tensor([ 2.2862, -3.0986, -0.5944, -0.5070, -2.1513])\n",
      "tensor([-2.5825, -1.6219,  0.6613,  0.6939, -1.3976]) tensor([ 2.2856, -3.0986, -0.5946, -0.5068, -2.1513])\n",
      "tensor([-2.5831, -1.6217,  0.6611,  0.6940, -1.3977]) tensor([ 2.2863, -3.0987, -0.5949, -0.5071, -2.1513])\n",
      "tensor([-2.5840, -1.6217,  0.6612,  0.6941, -1.3978]) tensor([ 2.2866, -3.0986, -0.5951, -0.5070, -2.1513])\n",
      "tensor([-2.5846, -1.6216,  0.6612,  0.6942, -1.3978]) tensor([ 2.2860, -3.0985, -0.5954, -0.5068, -2.1513])\n",
      "tensor([-2.5850, -1.6212,  0.6610,  0.6944, -1.3983]) tensor([ 2.2861, -3.0989, -0.5956, -0.5071, -2.1517])\n",
      "tensor([-2.5849, -1.6210,  0.6611,  0.6943, -1.3986]) tensor([ 2.2857, -3.0989, -0.5960, -0.5070, -2.1520])\n",
      "tensor([-2.5852, -1.6205,  0.6609,  0.6944, -1.3986]) tensor([ 2.2857, -3.0977, -0.5961, -0.5069, -2.1522])\n",
      "tensor([-2.5856, -1.6203,  0.6610,  0.6945, -1.3985]) tensor([ 2.2852, -3.0977, -0.5964, -0.5069, -2.1516])\n",
      "tensor([-2.5857, -1.6205,  0.6610,  0.6947, -1.3985]) tensor([ 2.2852, -3.0974, -0.5966, -0.5070, -2.1517])\n",
      "tensor([-2.5856, -1.6203,  0.6608,  0.6946, -1.3985]) tensor([ 2.2853, -3.0974, -0.5970, -0.5069, -2.1517])\n",
      "tensor([-2.5866, -1.6202,  0.6608,  0.6947, -1.3986]) tensor([ 2.2851, -3.0974, -0.5972, -0.5069, -2.1517])\n",
      "tensor([-2.5872, -1.6202,  0.6609,  0.6949, -1.3988]) tensor([ 2.2852, -3.0979, -0.5976, -0.5067, -2.1517])\n",
      "tensor([-2.5877, -1.6201,  0.6607,  0.6950, -1.3989]) tensor([ 2.2846, -3.0979, -0.5977, -0.5069, -2.1516])\n",
      "tensor([-2.5877, -1.6198,  0.6608,  0.6949, -1.3988]) tensor([ 2.2847, -3.0980, -0.5981, -0.5068, -2.1516])\n",
      "tensor([-2.5881, -1.6202,  0.6606,  0.6952, -1.3989]) tensor([ 2.2848, -3.0979, -0.5983, -0.5068, -2.1516])\n",
      "tensor([-2.5882, -1.6202,  0.6607,  0.6953, -1.3990]) tensor([ 2.2842, -3.0979, -0.5986, -0.5067, -2.1516])\n"
     ]
    }
   ],
   "source": [
    "for x_x, y_y in zip(exp_x, exp_y):\n",
    "    print(x_x, y_y)\n",
    "    "
   ]
  },
  {
   "cell_type": "code",
   "execution_count": 66,
   "id": "a524cd95",
   "metadata": {},
   "outputs": [
    {
     "data": {
      "image/png": "[encoded data removed]",
      "text/plain": [
       "<Figure size 864x864 with 1 Axes>"
      ]
     },
     "metadata": {
      "needs_background": "light"
     },
     "output_type": "display_data"
    }
   ],
   "source": [
    "data = data[0].to(device=\"cpu\")\n",
    "y = y[0].to(device=\"cpu\")\n",
    "\n",
    "fig = plt.figure()\n",
    "axes = plt.gca()\n",
    "axes.set_xlim([-5., 5.])\n",
    "axes.set_ylim([-5., 5.])\n",
    "colors = ['red', 'blue', 'green', 'orange', 'brown']\n",
    "all_x, all_y = list(), list()\n",
    "\n",
    "for i in range(len(data)):\n",
    "    plt.plot(data[i][0], data[i][1], 'd', color=colors[i])\n",
    "    plt.plot(y[i][0], y[i][1], '*', color=colors[i])\n",
    "    plt.plot(y[i][2], y[i][3], 'p', color=colors[i])\n",
    "    plt.plot(y[i][4], y[i][5], 'x', color=colors[i])\n",
    "    plt.plot([data[i][0], data[i][0] + data[i][2]], [data[i][1], data[i][1] + data[i][3]], '--', color=colors[i])\n",
    "    \n",
    "    x_pos, y_pos = list(), list()\n",
    "    for x_x, y_y in zip(exp_x, exp_y):\n",
    "        x_pos.append(x_x[i])\n",
    "        y_pos.append(y_y[i])\n",
    "                    \n",
    "    all_x.append(x_pos)\n",
    "    all_y.append(y_pos)\n",
    "    plt.plot(x_pos, y_pos, color=colors[i])\n",
    "\n",
    "fig.set_size_inches(12, 12)\n",
    "plt.xlim(np.min(all_x)-1, np.max(all_x) +1)\n",
    "plt.ylim(np.min(all_y)-1, np.max(all_y) +1)\n",
    "plt.plot([], [], 'd', color='black', label='position at 0.0')\n",
    "plt.plot([], [], '*', color='black', label='position at 0.5')\n",
    "plt.plot([], [], 'p', color='black', label='position at 1.0')\n",
    "plt.plot([], [], 'x', color='black', label='position at 1.5')\n",
    "plt.plot([], [], '--', color='black', label='initial velocity \\ndirection and magnitude')\n",
    "plt.plot([], [], '2', color='black', label='prediction')\n",
    "plt.legend()\n",
    "\n",
    "plt.show()\n"
   ]
  },
  {
   "cell_type": "code",
   "execution_count": null,
   "id": "438c955a",
   "metadata": {},
   "outputs": [],
   "source": []
  },
  {
   "cell_type": "code",
   "execution_count": 26,
   "id": "0a99a32b",
   "metadata": {
    "colab": {
     "base_uri": "https://localhost:8080/"
    },
    "id": "0a99a32b",
    "outputId": "db65dbb4-6097-4e57-c1d1-2dfa260da235"
   },
   "outputs": [
    {
     "name": "stdout",
     "output_type": "stream",
     "text": [
      "Baseline error should be 0: {'rms': 0.0}\n",
      "Error over time should increase (train).\n",
      "t = 0.5 {'rms': 0.24874936044216156}\n",
      "t = 1 {'rms': 0.5171805024147034}\n",
      "t = 1.5 {'rms': 0.7905893325805664}\n",
      "Error over time should increase (valid).\n",
      "t = 0.5 {'rms': 0.24874936044216156}\n",
      "t = 1 {'rms': 0.5171805024147034}\n",
      "t = 1.5 {'rms': 0.7905893325805664}\n",
      "Error over time should increase (test).\n",
      "t = 0.5 {'rms': 0.24874936044216156}\n",
      "t = 1 {'rms': 0.5171805024147034}\n",
      "t = 1.5 {'rms': 0.7905893325805664}\n"
     ]
    }
   ],
   "source": [
    "import torch.nn as nn\n",
    "\n",
    "# Evaluate the baseline model (what metrics? r2? rms?)\n",
    "def rms(p_pred, p_actual):\n",
    "    '''\n",
    "    Return the root mean squared distance between predicted locations and actual locations.\n",
    "    Where p_pred and p_actual are both (N x T x 2 x P) tensors.\n",
    "    '''\n",
    "    mse = nn.MSELoss()\n",
    "    return mse(p_pred, p_actual).sqrt().item()\n",
    "\n",
    "def baseline_evaluate(p, v, time):\n",
    "    '''\n",
    "    Evaluate the baseline \"model\" at given time in {0, 0.5, 1, 1.5}.\n",
    "    '''\n",
    "    p_pred = baseline_predict(p[:, :1, :, :], v, time)\n",
    "    idx = int(time / 0.5)\n",
    "    p_actual = p[:, idx:idx+1, :, :]\n",
    "    # Currently just rms, but we could add more evaluations\n",
    "    return {'rms': rms(p_pred, p_actual)}\n",
    "\n",
    "print('Baseline error should be 0:', baseline_evaluate(p_train, v_train, 0))\n",
    "\n",
    "# Print some more metrics\n",
    "for klass in ['train', 'valid', 'test']:\n",
    "    p_klass, v_klass = locals()[f'p_{klass}'], locals()[f'v_{klass}']\n",
    "    print(f'Error over time should increase ({klass}).')\n",
    "    for t in [0.5, 1, 1.5]:\n",
    "        print(f't = {t}', baseline_evaluate(p_train, v_train, t))"
   ]
  },
  {
   "cell_type": "code",
   "execution_count": 27,
   "id": "f02d1d3b",
   "metadata": {
    "colab": {
     "base_uri": "https://localhost:8080/",
     "height": 313
    },
    "id": "f02d1d3b",
    "outputId": "f9e027cb-3b5b-4a77-d9c0-c8ae3b2241db"
   },
   "outputs": [
    {
     "data": {
      "text/plain": [
       "Text(0, 0.5, 'loss value')"
      ]
     },
     "execution_count": 27,
     "metadata": {},
     "output_type": "execute_result"
    },
    {
     "data": {
      "image/png": "[encoded data removed]",
      "text/plain": [
       "<Figure size 432x288 with 1 Axes>"
      ]
     },
     "metadata": {
      "needs_background": "light"
     },
     "output_type": "display_data"
    }
   ],
   "source": [
    "import matplotlib.pyplot as plt\n",
    "\n",
    "plt.plot(train_loss_graph)\n",
    "plt.title(\"training loss\")\n",
    "plt.xlabel(\"epoch number\")\n",
    "plt.ylabel(\"loss value\")"
   ]
  },
  {
   "cell_type": "code",
   "execution_count": 28,
   "id": "73f2a2fb",
   "metadata": {
    "colab": {
     "base_uri": "https://localhost:8080/",
     "height": 313
    },
    "id": "73f2a2fb",
    "outputId": "b063d287-c484-48a0-f5fa-d39a0221143b"
   },
   "outputs": [
    {
     "data": {
      "text/plain": [
       "Text(0, 0.5, 'loss value')"
      ]
     },
     "execution_count": 28,
     "metadata": {},
     "output_type": "execute_result"
    },
    {
     "data": {
      "image/png": "[encoded data removed]",
      "text/plain": [
       "<Figure size 432x288 with 1 Axes>"
      ]
     },
     "metadata": {
      "needs_background": "light"
     },
     "output_type": "display_data"
    }
   ],
   "source": [
    "plt.plot(val_loss_graph)\n",
    "plt.title(\"validation loss\")\n",
    "plt.xlabel(\"epoch number\")\n",
    "plt.ylabel(\"loss value\")"
   ]
  },
  {
   "cell_type": "markdown",
   "id": "0ETuisK94rXp",
   "metadata": {
    "id": "0ETuisK94rXp"
   },
   "source": [
    "# RNN doesn't work below"
   ]
  },
  {
   "cell_type": "code",
   "execution_count": null,
   "id": "43x78wwXeekg",
   "metadata": {
    "id": "43x78wwXeekg"
   },
   "outputs": [],
   "source": [
    "# For sample i at time t:\n",
    "# p = p' + delta_t * (v' + a * delta_t)\n",
    "# trainLoader = DataLoader(myDataset(p_train, v_train, c_train), batch_size=10)\n",
    "# validationLoader = DataLoader(myDataset(p_valid, v_valid, c_valid), batch_size=10)\n",
    "# testLoader = DataLoader(myDataset(p_test, v_test, c_test), batch_size=10)\n",
    "# x = (p,v,c), y = (p_1,p_2,p_3)"
   ]
  },
  {
   "cell_type": "code",
   "execution_count": 70,
   "id": "Zr3PRSw4B0ao",
   "metadata": {
    "colab": {
     "base_uri": "https://localhost:8080/"
    },
    "id": "Zr3PRSw4B0ao",
    "outputId": "d122651d-d5b2-4361-cb4e-a909506e77ed"
   },
   "outputs": [
    {
     "data": {
      "text/plain": [
       "RNN(\n",
       "  (rnn): RNN(5, 10, num_layers=3, batch_first=True)\n",
       "  (out): Linear(in_features=10, out_features=1, bias=True)\n",
       ")"
      ]
     },
     "execution_count": 70,
     "metadata": {},
     "output_type": "execute_result"
    }
   ],
   "source": [
    "# RNN model\n",
    "\n",
    "input_size = 5\n",
    "hidden_size = 10\n",
    "num_layers = 3\n",
    "\n",
    "class RNN(nn.Module):\n",
    "    def __init__(self):\n",
    "        super(RNN, self).__init__()\n",
    "        # self.hidden_size = hidden_size\n",
    "        # self.num_layers = num_layers\n",
    "        # self.lstm = nn.LSTM(input_size, hidden_size, num_layers, batch_first=True)\n",
    "        # self.fc = nn.Linear(hidden_size, 1)\n",
    "        self.rnn = nn.RNN(\n",
    "            input_size = input_size,\n",
    "            hidden_size = hidden_size,\n",
    "            num_layers = num_layers,\n",
    "            batch_first = True,\n",
    "        )\n",
    "        self.out = nn.Linear(hidden_size,1)\n",
    "    \n",
    "    def forward(self, x, h_state):\n",
    "        # # Set initial hidden and cell states \n",
    "        # h0 = torch.zeros(self.num_layers, x.size(0), self.hidden_size).to(device) \n",
    "        # c0 = torch.zeros(self.num_layers, x.size(0), self.hidden_size).to(device)\n",
    "        \n",
    "        # # Forward propagate LSTM\n",
    "        # out, _ = self.lstm(x, (h0, c0))  # out: tensor of shape (batch_size, seq_length, hidden_size)\n",
    "        \n",
    "        # # Decode the hidden state of the last time step\n",
    "        # out = self.fc(out[:, -1, :])\n",
    "        # return out\n",
    "        r_out, h_state = self.rnn(x, h_state)\n",
    "        outs = []\n",
    "        for time_step in range(r_out.size(1)):\n",
    "            outs.append(self.out(r_out[:,time_step,:]))\n",
    "        return torch.stack(outs,dim=1), h_state\n",
    "\n",
    "\n",
    "rnn_model = RNN()\n",
    "rnn_model.to(device=device)\n",
    "# interaction_network = InteractionNetwork()\n",
    "# interaction_network.to(device=device)"
   ]
  },
  {
   "cell_type": "code",
   "execution_count": 74,
   "id": "5ryJx5ZrDxnc",
   "metadata": {
    "colab": {
     "base_uri": "https://localhost:8080/",
     "height": 1000
    },
    "id": "5ryJx5ZrDxnc",
    "outputId": "d194d133-baf4-4bb1-cc2a-f590f66a0d3f"
   },
   "outputs": [
    {
     "name": "stderr",
     "output_type": "stream",
     "text": [
      "Training:   0%|          | 0/500 [00:00<?, ?it/s]/usr/local/lib/python3.7/dist-packages/torch/nn/modules/loss.py:529: UserWarning: Using a target size (torch.Size([5, 6])) that is different to the input size (torch.Size([10, 5, 1])). This will likely lead to incorrect results due to broadcasting. Please ensure they have the same size.\n",
      "  return F.mse_loss(input, target, reduction=self.reduction)\n",
      "Training:   0%|          | 1/500 [00:00<02:27,  3.39it/s]"
     ]
    },
    {
     "name": "stdout",
     "output_type": "stream",
     "text": [
      "tensor([[[0.2245],\n",
      "         [0.1380],\n",
      "         [0.2244],\n",
      "         [0.1521],\n",
      "         [0.1764]],\n",
      "\n",
      "        [[0.2028],\n",
      "         [0.2078],\n",
      "         [0.1442],\n",
      "         [0.2459],\n",
      "         [0.1237]],\n",
      "\n",
      "        [[0.1766],\n",
      "         [0.2410],\n",
      "         [0.0589],\n",
      "         [0.1601],\n",
      "         [0.1898]],\n",
      "\n",
      "        [[0.2259],\n",
      "         [0.1859],\n",
      "         [0.1699],\n",
      "         [0.1980],\n",
      "         [0.0413]],\n",
      "\n",
      "        [[0.1915],\n",
      "         [0.2649],\n",
      "         [0.0968],\n",
      "         [0.0943],\n",
      "         [0.0569]],\n",
      "\n",
      "        [[0.1669],\n",
      "         [0.2089],\n",
      "         [0.1863],\n",
      "         [0.1574],\n",
      "         [0.0657]],\n",
      "\n",
      "        [[0.1859],\n",
      "         [0.2439],\n",
      "         [0.1176],\n",
      "         [0.2839],\n",
      "         [0.1267]],\n",
      "\n",
      "        [[0.1887],\n",
      "         [0.1651],\n",
      "         [0.1909],\n",
      "         [0.1738],\n",
      "         [0.0090]],\n",
      "\n",
      "        [[0.1780],\n",
      "         [0.2110],\n",
      "         [0.1684],\n",
      "         [0.1032],\n",
      "         [0.1723]],\n",
      "\n",
      "        [[0.1596],\n",
      "         [0.3078],\n",
      "         [0.1245],\n",
      "         [0.2128],\n",
      "         [0.0881]]], device='cuda:0', grad_fn=<StackBackward0>)\n"
     ]
    },
    {
     "name": "stderr",
     "output_type": "stream",
     "text": [
      "\r",
      "Training:   0%|          | 1/500 [00:00<05:12,  1.60it/s]"
     ]
    },
    {
     "name": "stdout",
     "output_type": "stream",
     "text": [
      "tensor([[[0.2003],\n",
      "         [0.0468],\n",
      "         [0.0720],\n",
      "         [0.1034],\n",
      "         [0.2423]],\n",
      "\n",
      "        [[0.2312],\n",
      "         [0.0855],\n",
      "         [0.1166],\n",
      "         [0.0960],\n",
      "         [0.0334]],\n",
      "\n",
      "        [[0.0152],\n",
      "         [0.2180],\n",
      "         [0.1581],\n",
      "         [0.1402],\n",
      "         [0.1178]],\n",
      "\n",
      "        [[0.1772],\n",
      "         [0.1448],\n",
      "         [0.2327],\n",
      "         [0.1435],\n",
      "         [0.1573]],\n",
      "\n",
      "        [[0.2719],\n",
      "         [0.1764],\n",
      "         [0.1352],\n",
      "         [0.0734],\n",
      "         [0.1444]],\n",
      "\n",
      "        [[0.1418],\n",
      "         [0.1951],\n",
      "         [0.1899],\n",
      "         [0.2486],\n",
      "         [0.2245]],\n",
      "\n",
      "        [[0.2151],\n",
      "         [0.1248],\n",
      "         [0.1524],\n",
      "         [0.1868],\n",
      "         [0.2214]],\n",
      "\n",
      "        [[0.1722],\n",
      "         [0.0677],\n",
      "         [0.0671],\n",
      "         [0.0940],\n",
      "         [0.2920]],\n",
      "\n",
      "        [[0.0817],\n",
      "         [0.2116],\n",
      "         [0.0759],\n",
      "         [0.0730],\n",
      "         [0.1216]],\n",
      "\n",
      "        [[0.1273],\n",
      "         [0.1176],\n",
      "         [0.1059],\n",
      "         [0.0835],\n",
      "         [0.2536]]], device='cuda:0', grad_fn=<StackBackward0>)\n"
     ]
    },
    {
     "name": "stderr",
     "output_type": "stream",
     "text": [
      "\n"
     ]
    },
    {
     "ename": "RuntimeError",
     "evalue": "ignored",
     "output_type": "error",
     "traceback": [
      "\u001b[0;31m---------------------------------------------------------------------------\u001b[0m",
      "\u001b[0;31mRuntimeError\u001b[0m                              Traceback (most recent call last)",
      "\u001b[0;32m<ipython-input-74-c12671ccfe28>\u001b[0m in \u001b[0;36m<module>\u001b[0;34m()\u001b[0m\n\u001b[1;32m     25\u001b[0m         \u001b[0mloss\u001b[0m \u001b[0;34m=\u001b[0m \u001b[0mcriterion\u001b[0m\u001b[0;34m(\u001b[0m\u001b[0my_pred\u001b[0m\u001b[0;34m,\u001b[0m \u001b[0my_train\u001b[0m\u001b[0;34m[\u001b[0m\u001b[0;36m2\u001b[0m\u001b[0;34m]\u001b[0m\u001b[0;34m)\u001b[0m\u001b[0;34m\u001b[0m\u001b[0;34m\u001b[0m\u001b[0m\n\u001b[1;32m     26\u001b[0m         \u001b[0moptimizer\u001b[0m\u001b[0;34m.\u001b[0m\u001b[0mzero_grad\u001b[0m\u001b[0;34m(\u001b[0m\u001b[0;34m)\u001b[0m\u001b[0;34m\u001b[0m\u001b[0;34m\u001b[0m\u001b[0m\n\u001b[0;32m---> 27\u001b[0;31m         \u001b[0mloss\u001b[0m\u001b[0;34m.\u001b[0m\u001b[0mbackward\u001b[0m\u001b[0;34m(\u001b[0m\u001b[0;34m)\u001b[0m\u001b[0;34m\u001b[0m\u001b[0;34m\u001b[0m\u001b[0m\n\u001b[0m\u001b[1;32m     28\u001b[0m         \u001b[0moptimizer\u001b[0m\u001b[0;34m.\u001b[0m\u001b[0mstep\u001b[0m\u001b[0;34m(\u001b[0m\u001b[0;34m)\u001b[0m\u001b[0;34m\u001b[0m\u001b[0;34m\u001b[0m\u001b[0m\n\u001b[1;32m     29\u001b[0m \u001b[0;34m\u001b[0m\u001b[0m\n",
      "\u001b[0;32m/usr/local/lib/python3.7/dist-packages/torch/_tensor.py\u001b[0m in \u001b[0;36mbackward\u001b[0;34m(self, gradient, retain_graph, create_graph, inputs)\u001b[0m\n\u001b[1;32m    361\u001b[0m                 \u001b[0mcreate_graph\u001b[0m\u001b[0;34m=\u001b[0m\u001b[0mcreate_graph\u001b[0m\u001b[0;34m,\u001b[0m\u001b[0;34m\u001b[0m\u001b[0;34m\u001b[0m\u001b[0m\n\u001b[1;32m    362\u001b[0m                 inputs=inputs)\n\u001b[0;32m--> 363\u001b[0;31m         \u001b[0mtorch\u001b[0m\u001b[0;34m.\u001b[0m\u001b[0mautograd\u001b[0m\u001b[0;34m.\u001b[0m\u001b[0mbackward\u001b[0m\u001b[0;34m(\u001b[0m\u001b[0mself\u001b[0m\u001b[0;34m,\u001b[0m \u001b[0mgradient\u001b[0m\u001b[0;34m,\u001b[0m \u001b[0mretain_graph\u001b[0m\u001b[0;34m,\u001b[0m \u001b[0mcreate_graph\u001b[0m\u001b[0;34m,\u001b[0m \u001b[0minputs\u001b[0m\u001b[0;34m=\u001b[0m\u001b[0minputs\u001b[0m\u001b[0;34m)\u001b[0m\u001b[0;34m\u001b[0m\u001b[0;34m\u001b[0m\u001b[0m\n\u001b[0m\u001b[1;32m    364\u001b[0m \u001b[0;34m\u001b[0m\u001b[0m\n\u001b[1;32m    365\u001b[0m     \u001b[0;32mdef\u001b[0m \u001b[0mregister_hook\u001b[0m\u001b[0;34m(\u001b[0m\u001b[0mself\u001b[0m\u001b[0;34m,\u001b[0m \u001b[0mhook\u001b[0m\u001b[0;34m)\u001b[0m\u001b[0;34m:\u001b[0m\u001b[0;34m\u001b[0m\u001b[0;34m\u001b[0m\u001b[0m\n",
      "\u001b[0;32m/usr/local/lib/python3.7/dist-packages/torch/autograd/__init__.py\u001b[0m in \u001b[0;36mbackward\u001b[0;34m(tensors, grad_tensors, retain_graph, create_graph, grad_variables, inputs)\u001b[0m\n\u001b[1;32m    173\u001b[0m     Variable._execution_engine.run_backward(  # Calls into the C++ engine to run the backward pass\n\u001b[1;32m    174\u001b[0m         \u001b[0mtensors\u001b[0m\u001b[0;34m,\u001b[0m \u001b[0mgrad_tensors_\u001b[0m\u001b[0;34m,\u001b[0m \u001b[0mretain_graph\u001b[0m\u001b[0;34m,\u001b[0m \u001b[0mcreate_graph\u001b[0m\u001b[0;34m,\u001b[0m \u001b[0minputs\u001b[0m\u001b[0;34m,\u001b[0m\u001b[0;34m\u001b[0m\u001b[0;34m\u001b[0m\u001b[0m\n\u001b[0;32m--> 175\u001b[0;31m         allow_unreachable=True, accumulate_grad=True)  # Calls into the C++ engine to run the backward pass\n\u001b[0m\u001b[1;32m    176\u001b[0m \u001b[0;34m\u001b[0m\u001b[0m\n\u001b[1;32m    177\u001b[0m def grad(\n",
      "\u001b[0;31mRuntimeError\u001b[0m: Trying to backward through the graph a second time (or directly access saved tensors after they have already been freed). Saved intermediate values of the graph are freed when you call .backward() or autograd.grad(). Specify retain_graph=True if you need to backward through the graph a second time or if you need to access saved tensors after calling backward."
     ]
    }
   ],
   "source": [
    "start = 0\n",
    "end = 1.5\n",
    "time_step = 0.01\n",
    "h_state = None\n",
    "num_epoch = 3\n",
    "learning_rate = 0.001\n",
    "\n",
    "# Loss and optimizer\n",
    "criterion = nn.MSELoss()\n",
    "optimizer = torch.optim.Adam(rnn_model.parameters(), lr=learning_rate)\n",
    "\n",
    "train_loss_graph, val_loss_graph = list(), list()\n",
    "\n",
    "# Train the model\n",
    "for epoch in range(num_epoch):\n",
    "    train_loss, val_loss = list(), list()\n",
    "    \n",
    "    rnn_model = rnn_model.train()\n",
    "    for x_train, y_train in tqdm(trainLoader, desc=\"Training\"):\n",
    "        \n",
    "        #steps = np.linspace(start, end, time_step, dtype=np.float32,endpoint=False)\n",
    "        y_pred, h_state = rnn_model(x_train,h_state)\n",
    "\n",
    "        print(y_pred)\n",
    "        loss = criterion(y_pred, y_train[2])\n",
    "        optimizer.zero_grad()\n",
    "        loss.backward()\n",
    "        optimizer.step()\n",
    "        \n",
    "        train_loss.append(loss.item() / num_epoch)\n",
    "    \n",
    "    train_loss_graph.append(sum(train_loss) / len(trainLoader))\n",
    "        \n",
    "    rnn_model = rnn_model.eval()\n",
    "    for x_val, y_val in validationLoader:\n",
    "        y_pred_val, h_state = rnn_model(x_val,h_state)\n",
    "        loss = criterion(y_pred_val, y_val)\n",
    "        \n",
    "        val_loss.append(loss.item() / num_epoch)\n",
    "    \n",
    "    val_loss_graph.append(sum(val_loss) / len(validationLoader))\n",
    "        \n",
    "    print(f'Average loss: {train_loss_graph[-1]}')\n",
    "    print(f'val loss: {val_loss_graph[-1]}')"
   ]
  },
  {
   "cell_type": "markdown",
   "id": "dea70d73",
   "metadata": {
    "id": "dea70d73"
   },
   "source": [
    "# Model Training"
   ]
  },
  {
   "cell_type": "code",
   "execution_count": 30,
   "id": "3af520ae",
   "metadata": {
    "id": "3af520ae"
   },
   "outputs": [],
   "source": [
    "#todo"
   ]
  },
  {
   "cell_type": "code",
   "execution_count": 30,
   "id": "e95af5f9",
   "metadata": {
    "id": "e95af5f9"
   },
   "outputs": [],
   "source": []
  },
  {
   "cell_type": "code",
   "execution_count": 30,
   "id": "07e03ddf",
   "metadata": {
    "id": "07e03ddf"
   },
   "outputs": [],
   "source": []
  },
  {
   "cell_type": "markdown",
   "id": "d5fb3b29",
   "metadata": {
    "id": "d5fb3b29"
   },
   "source": [
    "# Evaluation"
   ]
  },
  {
   "cell_type": "code",
   "execution_count": null,
   "id": "bf5fa1b4",
   "metadata": {
    "id": "bf5fa1b4"
   },
   "outputs": [],
   "source": [
    "#TODO:\n",
    "# The amount of training samples should vary from 100 to 10000, and the\n",
    "# prediction horizons are t = 0.5, t = 1 and t = 1.5. For each training set\n",
    "# size/time horizon combination, compare to a simple linear baseline where\n",
    "# xti = x0i + v0i ·t"
   ]
  },
  {
   "cell_type": "code",
   "execution_count": null,
   "id": "2280031f",
   "metadata": {
    "id": "2280031f"
   },
   "outputs": [],
   "source": [
    "# TODO\n",
    "# Come up with and execute one additional experiment that provides an interesting insight in your method\n",
    "# possible idea: interpolation, i.e. given t = 1.5 and t = 0.5, where is it at t = 1?\n"
   ]
  },
  {
   "cell_type": "code",
   "execution_count": null,
   "id": "3a8240f1",
   "metadata": {
    "id": "3a8240f1"
   },
   "outputs": [],
   "source": []
  }
 ],
 "metadata": {
  "accelerator": "GPU",
  "colab": {
   "name": "a2_skeleton_peter_pim.ipynb",
   "provenance": []
  },
  "interpreter": {
   "hash": "27c164e33ceb3372f7d05cab3554d1b7111f26924d32637c2cc5dd0d753ab5f1"
  },
  "kernelspec": {
   "display_name": "Python 3 (ipykernel)",
   "language": "python",
   "name": "python3"
  },
  "language_info": {
   "codemirror_mode": {
    "name": "ipython",
    "version": 3
   },
   "file_extension": ".py",
   "mimetype": "text/x-python",
   "name": "python",
   "nbconvert_exporter": "python",
   "pygments_lexer": "ipython3",
   "version": "3.9.12"
  }
 },
 "nbformat": 4,
 "nbformat_minor": 5
}

{
  "cells": [
    {
      "cell_type": "markdown",
      "id": "730fd591",
      "metadata": {
        "id": "730fd591"
      },
      "source": [
        "<a href=\"https://colab.research.google.com/github/vlamen/tue-deeplearning/blob/main/assignments/assignment_2_3/a2_skeleton.ipynb\" target=\"_parent\"><img src=\"https://colab.research.google.com/assets/colab-badge.svg\" alt=\"Open In Colab\"/></a>"
      ]
    },
    {
      "cell_type": "markdown",
      "id": "d32f8d18",
      "metadata": {
        "id": "d32f8d18"
      },
      "source": [
        "# Group Number: 37\n",
        "# Student 1: Jiong Li | 1533312\n",
        "# Student 2: Peter Elmers | 1734350\n",
        "# Student 3: P.T.C.M. Tholhuijsen | 1237447"
      ]
    },
    {
      "cell_type": "markdown",
      "id": "faec2056",
      "metadata": {
        "id": "faec2056"
      },
      "source": [
        "# Downloading Data and Preliminaries"
      ]
    },
    {
      "cell_type": "code",
      "execution_count": 1,
      "id": "7d0580a5",
      "metadata": {
        "id": "7d0580a5"
      },
      "outputs": [],
      "source": [
        "import pickle\n",
        "import matplotlib.pyplot as plt\n",
        "import matplotlib\n",
        "import numpy as np\n",
        "\n",
        "from zipfile import ZipFile\n",
        "import requests\n",
        "import io"
      ]
    },
    {
      "cell_type": "code",
      "execution_count": 2,
      "id": "b0756591",
      "metadata": {
        "id": "b0756591"
      },
      "outputs": [],
      "source": [
        "def load_zip(url):\n",
        "    response = requests.get(url)\n",
        "    response.raise_for_status()\n",
        "    zipf = ZipFile(io.BytesIO(response.content))\n",
        "    return {name: zipf.read(name) for name in zipf.namelist()}\n",
        "\n",
        "def load_array(zipfile, fn):\n",
        "    return np.load(io.BytesIO(zipfile[fn]))"
      ]
    },
    {
      "cell_type": "code",
      "execution_count": 3,
      "id": "bb77a4be",
      "metadata": {
        "colab": {
          "base_uri": "https://localhost:8080/"
        },
        "id": "bb77a4be",
        "outputId": "2f79f1a0-5345-43ab-8285-04e877befa37"
      },
      "outputs": [
        {
          "output_type": "stream",
          "name": "stdout",
          "text": [
            "Shapes of the training data:\n",
            "\n",
            "positions: (10000, 4, 2, 5)\n",
            "velocities: (10000, 1, 2, 5)\n",
            "charges: (10000, 5, 1)\n"
          ]
        }
      ],
      "source": [
        "\"\"\"\n",
        "This cell loads the training, validation or test data as numpy arrays,\n",
        "with the positions, initial velocities and charge data of the particles.\n",
        "\n",
        "The position arrays are shaped as\n",
        "[simulation id, time point (corresponding to t = 0, 0.5, 1 or 1.5), x/y spatial dimension, particle id].\n",
        "\n",
        "The initial velocity arrays are shaped as\n",
        "[simulation id, 1 (corresponding to t=0), x/y spatial dimension, particle id].\n",
        "\n",
        "The charge arrays are shaped as [simulation id, particle id, 1]\n",
        "\n",
        "\"\"\"\n",
        "\n",
        "data = load_zip('https://surfdrive.surf.nl/files/index.php/s/OIgda2ZRG8v0eqB/download')\n",
        "\n",
        "features = ['positions', 'velocities', 'charges']\n",
        "    \n",
        "positions_train, velocities_train, charges_train = (load_array(data, f'data/train/{f}.npy') for f in features)\n",
        "positions_valid, velocities_valid, charges_valid = (load_array(data, f'data/valid/{f}.npy') for f in features)\n",
        "positions_test, velocities_test, charges_test = (load_array(data, f'data/test/{f}.npy') for f in features)\n",
        "\n",
        "print('Shapes of the training data:\\n')\n",
        "print(f'positions: {positions_train.shape}')\n",
        "print(f'velocities: {velocities_train.shape}')\n",
        "print(f'charges: {charges_train.shape}')"
      ]
    },
    {
      "cell_type": "code",
      "execution_count": 4,
      "id": "1c3ea4cb",
      "metadata": {
        "colab": {
          "base_uri": "https://localhost:8080/"
        },
        "id": "1c3ea4cb",
        "outputId": "15197b11-8bc6-40c7-ccf0-a495619ce1f1"
      },
      "outputs": [
        {
          "output_type": "stream",
          "name": "stdout",
          "text": [
            "An example of retrieving data from the arrays:\n",
            "\n",
            "\n",
            "In simulation 42 of the training set, particle 3 with charge -1.0 had coordinates [ 2.05159559 -1.46130851].\n",
            "The initial velocity of this particle was [ 0.28402364 -0.24784824].\n"
          ]
        }
      ],
      "source": [
        "print('An example of retrieving data from the arrays:\\n\\n')\n",
        "\n",
        "sim_idx = 42\n",
        "t_idx = 2  # t_idx 0, 1, 2, 3 corresponds to t=0, 0.5, 1 and 1.5 respectively\n",
        "spatial_idx = (0,1)  # corresponds to both x and y dimension\n",
        "particle_idx = 3  # corresponds to particle with index 3\n",
        "\n",
        "p = positions_train[sim_idx, t_idx, spatial_idx, particle_idx]\n",
        "v = velocities_train[sim_idx, 0, spatial_idx, particle_idx]  # note: this array contains only the inital velocity -> hence the 0\n",
        "c = charges_train[sim_idx, particle_idx, 0] \n",
        "\n",
        "print(\n",
        "    f'In simulation {sim_idx} of the training set, particle {particle_idx} with charge {c} had coordinates {p}.\\nThe initial velocity of this particle was {v}.'\n",
        ")"
      ]
    },
    {
      "cell_type": "code",
      "execution_count": 5,
      "id": "10a3438a",
      "metadata": {
        "colab": {
          "base_uri": "https://localhost:8080/"
        },
        "id": "10a3438a",
        "outputId": "25fea520-57e9-4bc8-b1d4-6400fb61dee6"
      },
      "outputs": [
        {
          "output_type": "stream",
          "name": "stdout",
          "text": [
            "Overview of no. datapoints:\n",
            "\n",
            "10000 train, 2000 validation, 2000 test simulations\n"
          ]
        }
      ],
      "source": [
        "print('Overview of no. datapoints:\\n')\n",
        "\n",
        "print(f'{len(positions_train)} train, {len(positions_valid)} validation, {len(positions_test)} test simulations')"
      ]
    },
    {
      "cell_type": "code",
      "execution_count": 6,
      "id": "f9106543",
      "metadata": {
        "id": "f9106543"
      },
      "outputs": [],
      "source": [
        "def plot_example(pos, vel):\n",
        "\n",
        "    fig = plt.figure()\n",
        "    axes = plt.gca()\n",
        "    axes.set_xlim([-5., 5.])\n",
        "    axes.set_ylim([-5., 5.])\n",
        "    colors = ['red', 'blue', 'green', 'orange', 'brown']\n",
        "    for i in range(pos.shape[-1]):\n",
        "        plt.plot(pos[0, 0, i], pos[0, 1, i], 'd', color=colors[i])\n",
        "        plt.plot(pos[-1, 0, i], pos[-1, 1, i], 'x', color=colors[i])\n",
        "        plt.plot([pos[0, 0, i], pos[0, 0, i] + vel[0, 0, i]], [pos[0, 1, i], pos[0, 1, i] + vel[0, 1, i]], '--', color=colors[i])\n",
        "    fig.set_size_inches(7, 7)\n",
        "    plt.xlim(np.min(pos)-1, np.max(pos) +1)\n",
        "    plt.ylim(np.min(pos)-1, np.max(pos) +1)\n",
        "    plt.plot([], [], 'd', color='black', label='initial position')\n",
        "    plt.plot([], [], 'x', color='black', label='final position')\n",
        "    plt.plot([], [], '--', color='black', label='initial velocity \\ndirection and magnitude')\n",
        "    plt.legend()\n",
        "    \n",
        "    plt.show()\n",
        "    return"
      ]
    },
    {
      "cell_type": "code",
      "execution_count": 7,
      "id": "d28681a6",
      "metadata": {
        "colab": {
          "base_uri": "https://localhost:8080/",
          "height": 429
        },
        "id": "d28681a6",
        "outputId": "46c91c66-5bfa-4f97-d200-db2c2516dc99"
      },
      "outputs": [
        {
          "output_type": "display_data",
          "data": {
            "text/plain": [
              "<Figure size 504x504 with 1 Axes>"
            ],
            "image/png": "[encoded data removed]"
          },
          "metadata": {
            "needs_background": "light"
          }
        }
      ],
      "source": [
        "random_idx = np.random.randint(0, 10000)\n",
        "plot_example(positions_train[random_idx], velocities_train[random_idx])"
      ]
    },
    {
      "cell_type": "markdown",
      "id": "059b633c",
      "metadata": {
        "id": "059b633c"
      },
      "source": [
        "# Data Handling and Preprocessing"
      ]
    },
    {
      "cell_type": "code",
      "execution_count": 8,
      "id": "e6ecb529",
      "metadata": {
        "colab": {
          "base_uri": "https://localhost:8080/"
        },
        "id": "e6ecb529",
        "outputId": "36b33da4-0817-4611-ae63-b9b0794fe3da"
      },
      "outputs": [
        {
          "output_type": "stream",
          "name": "stdout",
          "text": [
            "Device is set to cuda\n"
          ]
        }
      ],
      "source": [
        "# Pick the best device\n",
        "import torch\n",
        "\n",
        "def try_device(device):\n",
        "    # Try to put an array on given device. If successful, return device. Else, 'cpu'.\n",
        "    x = torch.ones((1,))\n",
        "    try:\n",
        "        x.to(device)\n",
        "        return device\n",
        "    except:\n",
        "        return 'cpu'\n",
        "\n",
        "device = try_device('cuda')\n",
        "if device == 'cpu':\n",
        "    device = try_device('mps')\n",
        "\n",
        "print(f'Device is set to {device}')\n",
        "\n",
        "# Move all the little craps into torch things on the device\n",
        "p_train, v_train, c_train = [torch.Tensor(vec).to(device=device) for vec in [positions_train, velocities_train, charges_train]]\n",
        "p_valid, v_valid, c_valid = [torch.Tensor(vec).to(device=device) for vec in [positions_valid, velocities_valid, charges_valid]]\n",
        "p_test, v_test, c_test = [torch.Tensor(vec).to(device=device) for vec in [positions_test, velocities_test, charges_test]]"
      ]
    },
    {
      "cell_type": "code",
      "execution_count": 9,
      "id": "f8633eb8",
      "metadata": {
        "id": "f8633eb8"
      },
      "outputs": [],
      "source": [
        "# Create a baseline: particle position = velocity * time + initial\n",
        "def baseline_predict(p0, v0, time):\n",
        "    '''\n",
        "    Return a numpy array of predicted x, y position of each particle in p0.\n",
        "    Given p0 starting locations, v0 starting velocities, and time to predict.\n",
        "    Result is computed via linear projection: v0 * time + p0.\n",
        "    Where p0 and v0 are both (N x 1 x 2 x P) tensors, for N simulations, P particles/sim\n",
        "    '''\n",
        "    return p0 + v0 * time\n"
      ]
    },
    {
      "cell_type": "markdown",
      "source": [
        "# Preprocessing dataset"
      ],
      "metadata": {
        "id": "tZGmEC1R_bX8"
      },
      "id": "tZGmEC1R_bX8"
    },
    {
      "cell_type": "code",
      "execution_count": null,
      "id": "89f90431",
      "metadata": {
        "id": "89f90431"
      },
      "outputs": [],
      "source": [
        "# p_train, v_train, c_train = p_train[:2000], v_train[:2000], c_train[:2000]\n",
        "# p_valid, v_valid, c_valid = p_valid[:400], v_valid[:400], c_valid[:400]"
      ]
    },
    {
      "cell_type": "code",
      "execution_count": 10,
      "id": "6af6c4c9",
      "metadata": {
        "id": "6af6c4c9"
      },
      "outputs": [],
      "source": [
        "# transpose the position, velocity (at t=0) and charge into the row for each particle\n",
        "# : x_i = (pos_x,pos_y,vel_x,vel_y,charge)\n",
        "# transpose the position at each time point(t1=0.5s, t2=1s, t3=1.5s) into the row for each particle\n",
        "# : y_i = (pos_t1,pos_t2,pos_t3)\n",
        "\n",
        "train_dataset_x, train_dataset_y = list(), list()\n",
        "\n",
        "for i in zip(p_train, v_train, c_train):\n",
        "    p = torch.transpose(i[0][0], 0, 1)\n",
        "    v = torch.transpose(i[1][0], 0, 1)\n",
        "    c = i[2]\n",
        "    \n",
        "    train_dataset_x.append(torch.hstack((p, v, c)))\n",
        "    train_dataset_y.append(torch.hstack((torch.transpose(i[0][1], 0, 1), \n",
        "                           torch.transpose(i[0][2], 0, 1), \n",
        "                           torch.transpose(i[0][3], 0, 1))))\n",
        "    \n",
        "\n",
        "val_dataset_x, val_dataset_y = list(), list()\n",
        "\n",
        "for i in zip(p_valid, v_valid, c_valid):\n",
        "    p = torch.transpose(i[0][0], 0, 1)\n",
        "    v = torch.transpose(i[1][0], 0, 1)\n",
        "    c = i[2]\n",
        "    \n",
        "    val_dataset_x.append(torch.hstack((p, v, c)))\n",
        "    val_dataset_y.append(torch.hstack((torch.transpose(i[0][1], 0, 1), \n",
        "                         torch.transpose(i[0][2], 0, 1), \n",
        "                         torch.transpose(i[0][3], 0, 1))))\n",
        "    \n",
        "\n",
        "test_dataset_x, test_dataset_y = list(), list()\n",
        "\n",
        "for i in zip(p_test, v_test, c_test):\n",
        "    p = torch.transpose(i[0][0], 0, 1)\n",
        "    v = torch.transpose(i[1][0], 0, 1)\n",
        "    c = i[2]\n",
        "    \n",
        "    test_dataset_x.append(torch.hstack((p, v, c)))\n",
        "    test_dataset_y.append(torch.hstack((torch.transpose(i[0][1], 0, 1), \n",
        "                          torch.transpose(i[0][2], 0, 1), \n",
        "                          torch.transpose(i[0][3], 0, 1))))"
      ]
    },
    {
      "cell_type": "code",
      "execution_count": 11,
      "id": "c8a903d4",
      "metadata": {
        "id": "c8a903d4"
      },
      "outputs": [],
      "source": [
        "from torch.utils.data import Dataset, DataLoader\n",
        "\n",
        "\n",
        "class mySecondDataset(Dataset):\n",
        "    def __init__(self, x, y):\n",
        "        self.x = x\n",
        "        self.y = y\n",
        "    \n",
        "    def __len__(self):\n",
        "        return len(self.x)\n",
        "    \n",
        "    def __getitem__(self, index):\n",
        "        return self.x[index], self.y[index]"
      ]
    },
    {
      "cell_type": "code",
      "execution_count": null,
      "id": "3R3Oid3Fr043",
      "metadata": {
        "colab": {
          "base_uri": "https://localhost:8080/"
        },
        "id": "3R3Oid3Fr043",
        "outputId": "2a922792-d6cf-4a08-e81c-9b213f267f27"
      },
      "outputs": [
        {
          "data": {
            "text/plain": [
              "torch.Size([5, 6])"
            ]
          },
          "execution_count": 13,
          "metadata": {},
          "output_type": "execute_result"
        }
      ],
      "source": [
        "# show the item in mySecondDataset\n",
        "tmp = mySecondDataset(train_dataset_x, train_dataset_y)\n",
        "x,y = tmp.__getitem__(0)\n",
        "y.shape"
      ]
    },
    {
      "cell_type": "code",
      "execution_count": 12,
      "id": "d070e561",
      "metadata": {
        "id": "d070e561"
      },
      "outputs": [],
      "source": [
        "# apply the DataLoader to the training dataset, validation dataset and test dataset\n",
        "trainLoader = DataLoader(mySecondDataset(train_dataset_x, train_dataset_y), batch_size=10, shuffle=True)\n",
        "validationLoader = DataLoader(mySecondDataset(val_dataset_x, val_dataset_y), batch_size=10, shuffle=True)\n",
        "testLoader = DataLoader(mySecondDataset(test_dataset_x, test_dataset_y), batch_size=10, shuffle=True)"
      ]
    },
    {
      "cell_type": "markdown",
      "id": "18b2874d",
      "metadata": {
        "id": "18b2874d"
      },
      "source": [
        "# Model Implementation"
      ]
    },
    {
      "cell_type": "code",
      "execution_count": 13,
      "id": "3aa472dc",
      "metadata": {
        "id": "3aa472dc"
      },
      "outputs": [],
      "source": [
        "import torch.nn as nn\n",
        "from tqdm import tqdm"
      ]
    },
    {
      "cell_type": "markdown",
      "id": "b33b0e1c",
      "metadata": {
        "id": "b33b0e1c"
      },
      "source": [
        "Implementation like https://github.com/higgsfield/interaction_network_pytorch/blob/master/Interaction%20Network.ipynb"
      ]
    },
    {
      "cell_type": "code",
      "execution_count": null,
      "id": "e79124e4",
      "metadata": {
        "colab": {
          "base_uri": "https://localhost:8080/"
        },
        "id": "e79124e4",
        "outputId": "5b66cba2-8c46-4686-af0e-195eb444685a"
      },
      "outputs": [
        {
          "name": "stdout",
          "output_type": "stream",
          "text": [
            "tensor(-1.9361, device='cuda:0')\n",
            "tensor([[-1.9361, -0.2276, -0.7878,  0.0267, -1.0000],\n",
            "        [ 3.6532, -2.7631,  1.5892, -0.4211,  1.0000],\n",
            "        [-4.5496,  8.2998, -1.2906,  2.3834,  1.0000],\n",
            "        [-3.0958, -3.0921, -1.9173, -0.5785,  1.0000],\n",
            "        [ 0.1073, -2.8976,  0.6539, -0.5676, -1.0000]], device='cuda:0')\n",
            "tensor([[-1.9361, -0.2276],\n",
            "        [ 3.6532, -2.7631],\n",
            "        [-4.5496,  8.2998],\n",
            "        [-3.0958, -3.0921],\n",
            "        [ 0.1073, -2.8976]], device='cuda:0')\n",
            "tensor([[-0.7878,  0.0267],\n",
            "        [ 1.5892, -0.4211],\n",
            "        [-1.2906,  2.3834],\n",
            "        [-1.9173, -0.5785],\n",
            "        [ 0.6539, -0.5676]], device='cuda:0')\n"
          ]
        }
      ],
      "source": [
        "for i in zip(p_train, v_train, c_train):\n",
        "    p = torch.transpose(i[0][0], 0, 1)\n",
        "    v = torch.transpose(i[1][0], 0, 1)\n",
        "    c = i[2]\n",
        "   \n",
        "    data = torch.hstack((p, v, c))\n",
        "    print(data)\n",
        "    print(data[:, 0:2])\n",
        "    print(data[:, 2:4])\n",
        "    # x_p, y_p, x_v, y_v, c\n",
        "    break"
      ]
    },
    {
      "cell_type": "code",
      "execution_count": null,
      "id": "MFsf3WwfDN-s",
      "metadata": {
        "colab": {
          "base_uri": "https://localhost:8080/"
        },
        "id": "MFsf3WwfDN-s",
        "outputId": "027d2d85-dd16-421e-f594-53d70e0e45d2"
      },
      "outputs": [
        {
          "data": {
            "text/plain": [
              "2"
            ]
          },
          "execution_count": 18,
          "metadata": {},
          "output_type": "execute_result"
        }
      ],
      "source": [
        "len(next(iter(trainLoader)))"
      ]
    },
    {
      "cell_type": "code",
      "execution_count": 14,
      "id": "587da524",
      "metadata": {
        "id": "587da524"
      },
      "outputs": [],
      "source": [
        "# object-centric acceleration neural network\n",
        "class AccelerationModel(nn.Module):\n",
        "    def __init__(self):\n",
        "        super(AccelerationModel, self).__init__()\n",
        "        \n",
        "        self.layers = nn.Sequential(\n",
        "            nn.Linear(5, 25),\n",
        "            nn.ReLU(),\n",
        "            \n",
        "            nn.Linear(25, 125),\n",
        "            nn.ReLU(),\n",
        "            nn.Linear(125, 625),\n",
        "            nn.ReLU(),\n",
        "            \n",
        "            nn.Dropout(p=0.2),\n",
        "            nn.Linear(625, 2),\n",
        "        )\n",
        "        \n",
        "    def forward(self, x):\n",
        "        x = x.view(-1, 5)\n",
        "        x = self.layers(x)\n",
        "        return x.view(10, 5, 2)"
      ]
    },
    {
      "cell_type": "code",
      "execution_count": 15,
      "id": "8bca2f0d",
      "metadata": {
        "id": "8bca2f0d"
      },
      "outputs": [],
      "source": [
        "# object-centric velocity neural network\n",
        "class VelocityModel(nn.Module):\n",
        "    def __init__(self):\n",
        "        super(VelocityModel, self).__init__()\n",
        "        \n",
        "        self.layers = nn.Sequential(\n",
        "            nn.Linear(4, 16),\n",
        "            # nn.Dropout(p=0.2),\n",
        "            nn.ReLU(),\n",
        "            \n",
        "            nn.Linear(16, 64),\n",
        "            nn.ReLU(),\n",
        "            nn.Linear(64, 256),\n",
        "            nn.ReLU(),\n",
        "            \n",
        "            nn.Linear(256, 2),\n",
        "        )\n",
        "        \n",
        "    def forward(self, x):\n",
        "        x = x.view(-1, 4)\n",
        "        x = self.layers(x)\n",
        "        return x.view(10, 5, 2)"
      ]
    },
    {
      "cell_type": "code",
      "execution_count": 16,
      "id": "3535d8b4",
      "metadata": {
        "id": "3535d8b4"
      },
      "outputs": [],
      "source": [
        "# object-centric position neural network\n",
        "class PositionModel(nn.Module):\n",
        "    def __init__(self):\n",
        "        super(PositionModel, self).__init__()\n",
        "        \n",
        "        self.layers = nn.Sequential(\n",
        "            nn.Linear(4, 16),\n",
        "            nn.ReLU(),\n",
        "            #nn.Dropout(p=0.2),\n",
        "            \n",
        "            nn.Linear(16, 64),\n",
        "            nn.ReLU(),\n",
        "            nn.Linear(64, 256),\n",
        "            nn.ReLU(),\n",
        "            \n",
        "            nn.Linear(256, 2),\n",
        "        )\n",
        "        \n",
        "    def forward(self, x):\n",
        "        x = x.view(-1, 4)\n",
        "        x = self.layers(x)\n",
        "        return x.view(10, 5, 2)"
      ]
    },
    {
      "cell_type": "code",
      "execution_count": 18,
      "id": "1e9bdf5e",
      "metadata": {
        "colab": {
          "base_uri": "https://localhost:8080/"
        },
        "id": "1e9bdf5e",
        "outputId": "56efb30d-ff50-4aa4-f4e9-a6ef87a5d2a1"
      },
      "outputs": [
        {
          "output_type": "execute_result",
          "data": {
            "text/plain": [
              "InteractionNetwork(\n",
              "  (acceleration_model): AccelerationModel(\n",
              "    (layers): Sequential(\n",
              "      (0): Linear(in_features=5, out_features=25, bias=True)\n",
              "      (1): ReLU()\n",
              "      (2): Linear(in_features=25, out_features=125, bias=True)\n",
              "      (3): ReLU()\n",
              "      (4): Linear(in_features=125, out_features=625, bias=True)\n",
              "      (5): ReLU()\n",
              "      (6): Dropout(p=0.2, inplace=False)\n",
              "      (7): Linear(in_features=625, out_features=2, bias=True)\n",
              "    )\n",
              "  )\n",
              "  (velocity_model): VelocityModel(\n",
              "    (layers): Sequential(\n",
              "      (0): Linear(in_features=4, out_features=16, bias=True)\n",
              "      (1): ReLU()\n",
              "      (2): Linear(in_features=16, out_features=64, bias=True)\n",
              "      (3): ReLU()\n",
              "      (4): Linear(in_features=64, out_features=256, bias=True)\n",
              "      (5): ReLU()\n",
              "      (6): Linear(in_features=256, out_features=2, bias=True)\n",
              "    )\n",
              "  )\n",
              "  (position_model): PositionModel(\n",
              "    (layers): Sequential(\n",
              "      (0): Linear(in_features=4, out_features=16, bias=True)\n",
              "      (1): ReLU()\n",
              "      (2): Linear(in_features=16, out_features=64, bias=True)\n",
              "      (3): ReLU()\n",
              "      (4): Linear(in_features=64, out_features=256, bias=True)\n",
              "      (5): ReLU()\n",
              "      (6): Linear(in_features=256, out_features=2, bias=True)\n",
              "    )\n",
              "  )\n",
              ")"
            ]
          },
          "metadata": {},
          "execution_count": 18
        }
      ],
      "source": [
        "# interaction network\n",
        "class InteractionNetwork(nn.Module):\n",
        "    def __init__(self):\n",
        "        super(InteractionNetwork, self).__init__()\n",
        "        \n",
        "        self.acceleration_model = AccelerationModel()\n",
        "        self.velocity_model = VelocityModel()\n",
        "        self.position_model = PositionModel()\n",
        "        \n",
        "    def forward(self, x, delta_t):\n",
        "        pred_accelleration = self.acceleration_model(x)\n",
        "        pred_velocity = self.velocity_model(torch.dstack((x[:, :, 2:4], torch.mul(pred_accelleration, delta_t))))\n",
        "        pred_position = self.position_model(torch.dstack((x[:, :, 0:2], pred_velocity)))\n",
        "        return pred_position\n",
        "    \n",
        "interaction_network = InteractionNetwork()\n",
        "interaction_network.to(device=device)"
      ]
    },
    {
      "cell_type": "code",
      "execution_count": 19,
      "id": "ab8c605b",
      "metadata": {
        "id": "ab8c605b",
        "outputId": "eedcb16d-370d-4753-af33-3dbebce23360",
        "colab": {
          "base_uri": "https://localhost:8080/"
        }
      },
      "outputs": [
        {
          "output_type": "execute_result",
          "data": {
            "text/plain": [
              "120046"
            ]
          },
          "metadata": {},
          "execution_count": 19
        }
      ],
      "source": [
        "sum(p.numel() for p in interaction_network.parameters() if p.requires_grad)"
      ]
    },
    {
      "cell_type": "code",
      "execution_count": 23,
      "id": "aJfvjDr1j551",
      "metadata": {
        "id": "aJfvjDr1j551"
      },
      "outputs": [],
      "source": [
        "def evaluation(model, test_loader, klass):\n",
        "    model = model.eval()\n",
        "    loss_t1, loss_t2, loss_t3, loss_tot = list(), list(), list(), list()\n",
        "\n",
        "    with torch.no_grad():\n",
        "        for x, y in test_loader:\n",
        "            pred_p_t1 = model(x, 0.5)\n",
        "            loss1 = criterion(pred_p_t1, y[:, :, 0:2])\n",
        "\n",
        "            pred_p_t2 = model(x, 1.0)\n",
        "            loss2 = criterion(pred_p_t2, y[:, :, 2:4])\n",
        "\n",
        "            pred_p_t3 = model(x, 1.5)\n",
        "            loss3 = criterion(pred_p_t3, y[:, :, 4:6])\n",
        "\n",
        "            # loss1 = criterion(pred_p_t1,y[:,:,0:2])\n",
        "            # loss2 = criterion(pred_p_t2,y[:,:,2:4])\n",
        "            # loss3 = criterion(pred_p_t3,y[:,:,4:6])\n",
        "\n",
        "            loss_t1.append(loss1.item() / 10)\n",
        "            loss_t2.append(loss2.item() / 10)\n",
        "            loss_t3.append(loss3.item() / 10)\n",
        "\n",
        "            y_pred = torch.dstack((pred_p_t1, pred_p_t2, pred_p_t3))\n",
        "            loss = criterion(y_pred, y)\n",
        "            loss_tot.append(loss.item() / 10)\n",
        "\n",
        "    print(f'Average loss in totall: {round(sum(loss_tot)/len(test_loader),5)}')\n",
        "    print(f'Average loss in {klass} at time= 0.5: {round(sum(loss_t1)/len(test_loader),5)}')\n",
        "    print(f'Average loss in {klass} at time= 1: {round(sum(loss_t2)/len(test_loader),5)}')\n",
        "    print(f'Average loss in {klass} at time= 1.5: {round(sum(loss_t3)/len(test_loader),5)}\\n')"
      ]
    },
    {
      "cell_type": "code",
      "execution_count": 21,
      "id": "cbd80a9d",
      "metadata": {
        "colab": {
          "base_uri": "https://localhost:8080/"
        },
        "id": "cbd80a9d",
        "outputId": "9182401f-2f7d-4265-b6f2-7d93645fb51d"
      },
      "outputs": [
        {
          "output_type": "stream",
          "name": "stderr",
          "text": [
            "Training: 100%|██████████| 1000/1000 [00:09<00:00, 108.21it/s]\n"
          ]
        },
        {
          "output_type": "stream",
          "name": "stdout",
          "text": [
            "Average loss: 0.15808\n",
            "val loss: 0.11513\n",
            "\n"
          ]
        },
        {
          "output_type": "stream",
          "name": "stderr",
          "text": [
            "Training: 100%|██████████| 1000/1000 [00:09<00:00, 110.06it/s]\n"
          ]
        },
        {
          "output_type": "stream",
          "name": "stdout",
          "text": [
            "Average loss: 0.11111\n",
            "val loss: 0.10776\n",
            "\n"
          ]
        },
        {
          "output_type": "stream",
          "name": "stderr",
          "text": [
            "Training: 100%|██████████| 1000/1000 [00:09<00:00, 109.86it/s]\n"
          ]
        },
        {
          "output_type": "stream",
          "name": "stdout",
          "text": [
            "Average loss: 0.09951\n",
            "val loss: 0.09055\n",
            "\n"
          ]
        },
        {
          "output_type": "stream",
          "name": "stderr",
          "text": [
            "Training: 100%|██████████| 1000/1000 [00:09<00:00, 110.25it/s]\n"
          ]
        },
        {
          "output_type": "stream",
          "name": "stdout",
          "text": [
            "Average loss: 0.08487\n",
            "val loss: 0.07544\n",
            "\n"
          ]
        },
        {
          "output_type": "stream",
          "name": "stderr",
          "text": [
            "Training: 100%|██████████| 1000/1000 [00:09<00:00, 109.33it/s]\n"
          ]
        },
        {
          "output_type": "stream",
          "name": "stdout",
          "text": [
            "Average loss: 0.0735\n",
            "val loss: 0.07814\n",
            "\n"
          ]
        },
        {
          "output_type": "stream",
          "name": "stderr",
          "text": [
            "Training: 100%|██████████| 1000/1000 [00:09<00:00, 108.34it/s]\n"
          ]
        },
        {
          "output_type": "stream",
          "name": "stdout",
          "text": [
            "Average loss: 0.06984\n",
            "val loss: 0.0677\n",
            "\n"
          ]
        },
        {
          "output_type": "stream",
          "name": "stderr",
          "text": [
            "Training: 100%|██████████| 1000/1000 [00:09<00:00, 110.88it/s]\n"
          ]
        },
        {
          "output_type": "stream",
          "name": "stdout",
          "text": [
            "Average loss: 0.06779\n",
            "val loss: 0.06558\n",
            "\n"
          ]
        },
        {
          "output_type": "stream",
          "name": "stderr",
          "text": [
            "Training: 100%|██████████| 1000/1000 [00:09<00:00, 109.94it/s]\n"
          ]
        },
        {
          "output_type": "stream",
          "name": "stdout",
          "text": [
            "Average loss: 0.0662\n",
            "val loss: 0.06655\n",
            "\n"
          ]
        },
        {
          "output_type": "stream",
          "name": "stderr",
          "text": [
            "Training: 100%|██████████| 1000/1000 [00:09<00:00, 110.92it/s]\n"
          ]
        },
        {
          "output_type": "stream",
          "name": "stdout",
          "text": [
            "Average loss: 0.06447\n",
            "val loss: 0.06284\n",
            "\n"
          ]
        },
        {
          "output_type": "stream",
          "name": "stderr",
          "text": [
            "Training: 100%|██████████| 1000/1000 [00:09<00:00, 110.62it/s]\n"
          ]
        },
        {
          "output_type": "stream",
          "name": "stdout",
          "text": [
            "Average loss: 0.06333\n",
            "val loss: 0.06603\n",
            "\n"
          ]
        },
        {
          "output_type": "stream",
          "name": "stderr",
          "text": [
            "Training: 100%|██████████| 1000/1000 [00:09<00:00, 109.12it/s]\n"
          ]
        },
        {
          "output_type": "stream",
          "name": "stdout",
          "text": [
            "Average loss: 0.06218\n",
            "val loss: 0.06385\n",
            "\n"
          ]
        },
        {
          "output_type": "stream",
          "name": "stderr",
          "text": [
            "Training: 100%|██████████| 1000/1000 [00:09<00:00, 110.80it/s]\n"
          ]
        },
        {
          "output_type": "stream",
          "name": "stdout",
          "text": [
            "Average loss: 0.06196\n",
            "val loss: 0.06606\n",
            "\n"
          ]
        },
        {
          "output_type": "stream",
          "name": "stderr",
          "text": [
            "Training: 100%|██████████| 1000/1000 [00:09<00:00, 110.86it/s]\n"
          ]
        },
        {
          "output_type": "stream",
          "name": "stdout",
          "text": [
            "Average loss: 0.06134\n",
            "val loss: 0.06409\n",
            "\n"
          ]
        },
        {
          "output_type": "stream",
          "name": "stderr",
          "text": [
            "Training: 100%|██████████| 1000/1000 [00:09<00:00, 111.04it/s]\n"
          ]
        },
        {
          "output_type": "stream",
          "name": "stdout",
          "text": [
            "Average loss: 0.06072\n",
            "val loss: 0.0598\n",
            "\n"
          ]
        },
        {
          "output_type": "stream",
          "name": "stderr",
          "text": [
            "Training: 100%|██████████| 1000/1000 [00:09<00:00, 110.56it/s]\n"
          ]
        },
        {
          "output_type": "stream",
          "name": "stdout",
          "text": [
            "Average loss: 0.06038\n",
            "val loss: 0.05987\n",
            "\n"
          ]
        },
        {
          "output_type": "stream",
          "name": "stderr",
          "text": [
            "Training: 100%|██████████| 1000/1000 [00:08<00:00, 111.68it/s]\n"
          ]
        },
        {
          "output_type": "stream",
          "name": "stdout",
          "text": [
            "Average loss: 0.06058\n",
            "val loss: 0.05941\n",
            "\n"
          ]
        },
        {
          "output_type": "stream",
          "name": "stderr",
          "text": [
            "Training: 100%|██████████| 1000/1000 [00:09<00:00, 110.86it/s]\n"
          ]
        },
        {
          "output_type": "stream",
          "name": "stdout",
          "text": [
            "Average loss: 0.05984\n",
            "val loss: 0.06205\n",
            "\n"
          ]
        },
        {
          "output_type": "stream",
          "name": "stderr",
          "text": [
            "Training: 100%|██████████| 1000/1000 [00:09<00:00, 110.63it/s]\n"
          ]
        },
        {
          "output_type": "stream",
          "name": "stdout",
          "text": [
            "Average loss: 0.05976\n",
            "val loss: 0.0654\n",
            "\n"
          ]
        },
        {
          "output_type": "stream",
          "name": "stderr",
          "text": [
            "Training: 100%|██████████| 1000/1000 [00:09<00:00, 108.35it/s]\n"
          ]
        },
        {
          "output_type": "stream",
          "name": "stdout",
          "text": [
            "Average loss: 0.0596\n",
            "val loss: 0.0609\n",
            "\n"
          ]
        },
        {
          "output_type": "stream",
          "name": "stderr",
          "text": [
            "Training: 100%|██████████| 1000/1000 [00:08<00:00, 111.79it/s]\n"
          ]
        },
        {
          "output_type": "stream",
          "name": "stdout",
          "text": [
            "Average loss: 0.05947\n",
            "val loss: 0.063\n",
            "\n"
          ]
        },
        {
          "output_type": "stream",
          "name": "stderr",
          "text": [
            "Training: 100%|██████████| 1000/1000 [00:09<00:00, 109.64it/s]\n"
          ]
        },
        {
          "output_type": "stream",
          "name": "stdout",
          "text": [
            "Average loss: 0.05934\n",
            "val loss: 0.0601\n",
            "\n"
          ]
        },
        {
          "output_type": "stream",
          "name": "stderr",
          "text": [
            "Training: 100%|██████████| 1000/1000 [00:08<00:00, 111.40it/s]\n"
          ]
        },
        {
          "output_type": "stream",
          "name": "stdout",
          "text": [
            "Average loss: 0.05924\n",
            "val loss: 0.05785\n",
            "\n"
          ]
        },
        {
          "output_type": "stream",
          "name": "stderr",
          "text": [
            "Training: 100%|██████████| 1000/1000 [00:09<00:00, 110.77it/s]\n"
          ]
        },
        {
          "output_type": "stream",
          "name": "stdout",
          "text": [
            "Average loss: 0.05915\n",
            "val loss: 0.06194\n",
            "\n"
          ]
        },
        {
          "output_type": "stream",
          "name": "stderr",
          "text": [
            "Training: 100%|██████████| 1000/1000 [00:09<00:00, 109.50it/s]\n"
          ]
        },
        {
          "output_type": "stream",
          "name": "stdout",
          "text": [
            "Average loss: 0.0591\n",
            "val loss: 0.0623\n",
            "\n"
          ]
        },
        {
          "output_type": "stream",
          "name": "stderr",
          "text": [
            "Training: 100%|██████████| 1000/1000 [00:08<00:00, 111.57it/s]\n"
          ]
        },
        {
          "output_type": "stream",
          "name": "stdout",
          "text": [
            "Average loss: 0.05898\n",
            "val loss: 0.06486\n",
            "\n"
          ]
        },
        {
          "output_type": "stream",
          "name": "stderr",
          "text": [
            "Training: 100%|██████████| 1000/1000 [00:09<00:00, 110.69it/s]\n"
          ]
        },
        {
          "output_type": "stream",
          "name": "stdout",
          "text": [
            "Average loss: 0.05875\n",
            "val loss: 0.05808\n",
            "\n"
          ]
        },
        {
          "output_type": "stream",
          "name": "stderr",
          "text": [
            "Training: 100%|██████████| 1000/1000 [00:09<00:00, 109.40it/s]\n"
          ]
        },
        {
          "output_type": "stream",
          "name": "stdout",
          "text": [
            "Average loss: 0.05878\n",
            "val loss: 0.064\n",
            "\n"
          ]
        },
        {
          "output_type": "stream",
          "name": "stderr",
          "text": [
            "Training: 100%|██████████| 1000/1000 [00:08<00:00, 111.25it/s]\n"
          ]
        },
        {
          "output_type": "stream",
          "name": "stdout",
          "text": [
            "Average loss: 0.05873\n",
            "val loss: 0.06041\n",
            "\n"
          ]
        },
        {
          "output_type": "stream",
          "name": "stderr",
          "text": [
            "Training: 100%|██████████| 1000/1000 [00:09<00:00, 110.97it/s]\n"
          ]
        },
        {
          "output_type": "stream",
          "name": "stdout",
          "text": [
            "Average loss: 0.0587\n",
            "val loss: 0.06106\n",
            "\n"
          ]
        },
        {
          "output_type": "stream",
          "name": "stderr",
          "text": [
            "Training: 100%|██████████| 1000/1000 [00:09<00:00, 110.07it/s]\n"
          ]
        },
        {
          "output_type": "stream",
          "name": "stdout",
          "text": [
            "Average loss: 0.05862\n",
            "val loss: 0.05938\n",
            "\n"
          ]
        },
        {
          "output_type": "stream",
          "name": "stderr",
          "text": [
            "Training: 100%|██████████| 1000/1000 [00:09<00:00, 108.93it/s]\n"
          ]
        },
        {
          "output_type": "stream",
          "name": "stdout",
          "text": [
            "Average loss: 0.05859\n",
            "val loss: 0.05746\n",
            "\n"
          ]
        },
        {
          "output_type": "stream",
          "name": "stderr",
          "text": [
            "Training: 100%|██████████| 1000/1000 [00:09<00:00, 107.69it/s]\n"
          ]
        },
        {
          "output_type": "stream",
          "name": "stdout",
          "text": [
            "Average loss: 0.0584\n",
            "val loss: 0.05902\n",
            "\n"
          ]
        },
        {
          "output_type": "stream",
          "name": "stderr",
          "text": [
            "Training: 100%|██████████| 1000/1000 [00:09<00:00, 110.84it/s]\n"
          ]
        },
        {
          "output_type": "stream",
          "name": "stdout",
          "text": [
            "Average loss: 0.05811\n",
            "val loss: 0.06123\n",
            "\n"
          ]
        },
        {
          "output_type": "stream",
          "name": "stderr",
          "text": [
            "Training: 100%|██████████| 1000/1000 [00:09<00:00, 109.64it/s]\n"
          ]
        },
        {
          "output_type": "stream",
          "name": "stdout",
          "text": [
            "Average loss: 0.05826\n",
            "val loss: 0.05737\n",
            "\n"
          ]
        },
        {
          "output_type": "stream",
          "name": "stderr",
          "text": [
            "Training: 100%|██████████| 1000/1000 [00:09<00:00, 110.92it/s]\n"
          ]
        },
        {
          "output_type": "stream",
          "name": "stdout",
          "text": [
            "Average loss: 0.0583\n",
            "val loss: 0.05846\n",
            "\n"
          ]
        },
        {
          "output_type": "stream",
          "name": "stderr",
          "text": [
            "Training: 100%|██████████| 1000/1000 [00:09<00:00, 109.81it/s]\n"
          ]
        },
        {
          "output_type": "stream",
          "name": "stdout",
          "text": [
            "Average loss: 0.05813\n",
            "val loss: 0.05964\n",
            "\n"
          ]
        },
        {
          "output_type": "stream",
          "name": "stderr",
          "text": [
            "Training: 100%|██████████| 1000/1000 [00:09<00:00, 109.38it/s]\n"
          ]
        },
        {
          "output_type": "stream",
          "name": "stdout",
          "text": [
            "Average loss: 0.05828\n",
            "val loss: 0.06207\n",
            "\n"
          ]
        },
        {
          "output_type": "stream",
          "name": "stderr",
          "text": [
            "Training: 100%|██████████| 1000/1000 [00:09<00:00, 110.99it/s]\n"
          ]
        },
        {
          "output_type": "stream",
          "name": "stdout",
          "text": [
            "Average loss: 0.05804\n",
            "val loss: 0.06329\n",
            "\n"
          ]
        },
        {
          "output_type": "stream",
          "name": "stderr",
          "text": [
            "Training: 100%|██████████| 1000/1000 [00:09<00:00, 110.35it/s]\n"
          ]
        },
        {
          "output_type": "stream",
          "name": "stdout",
          "text": [
            "Average loss: 0.05815\n",
            "val loss: 0.06139\n",
            "\n"
          ]
        },
        {
          "output_type": "stream",
          "name": "stderr",
          "text": [
            "Training: 100%|██████████| 1000/1000 [00:09<00:00, 109.77it/s]\n"
          ]
        },
        {
          "output_type": "stream",
          "name": "stdout",
          "text": [
            "Average loss: 0.05822\n",
            "val loss: 0.05886\n",
            "\n"
          ]
        },
        {
          "output_type": "stream",
          "name": "stderr",
          "text": [
            "Training: 100%|██████████| 1000/1000 [00:09<00:00, 110.24it/s]\n"
          ]
        },
        {
          "output_type": "stream",
          "name": "stdout",
          "text": [
            "Average loss: 0.05811\n",
            "val loss: 0.05779\n",
            "\n"
          ]
        },
        {
          "output_type": "stream",
          "name": "stderr",
          "text": [
            "Training: 100%|██████████| 1000/1000 [00:09<00:00, 110.57it/s]\n"
          ]
        },
        {
          "output_type": "stream",
          "name": "stdout",
          "text": [
            "Average loss: 0.05798\n",
            "val loss: 0.05875\n",
            "\n"
          ]
        },
        {
          "output_type": "stream",
          "name": "stderr",
          "text": [
            "Training: 100%|██████████| 1000/1000 [00:09<00:00, 108.54it/s]\n"
          ]
        },
        {
          "output_type": "stream",
          "name": "stdout",
          "text": [
            "Average loss: 0.05794\n",
            "val loss: 0.0621\n",
            "\n"
          ]
        },
        {
          "output_type": "stream",
          "name": "stderr",
          "text": [
            "Training: 100%|██████████| 1000/1000 [00:09<00:00, 107.13it/s]\n"
          ]
        },
        {
          "output_type": "stream",
          "name": "stdout",
          "text": [
            "Average loss: 0.05802\n",
            "val loss: 0.0594\n",
            "\n"
          ]
        },
        {
          "output_type": "stream",
          "name": "stderr",
          "text": [
            "Training: 100%|██████████| 1000/1000 [00:09<00:00, 109.68it/s]\n"
          ]
        },
        {
          "output_type": "stream",
          "name": "stdout",
          "text": [
            "Average loss: 0.0581\n",
            "val loss: 0.05994\n",
            "\n"
          ]
        },
        {
          "output_type": "stream",
          "name": "stderr",
          "text": [
            "Training: 100%|██████████| 1000/1000 [00:09<00:00, 110.69it/s]\n"
          ]
        },
        {
          "output_type": "stream",
          "name": "stdout",
          "text": [
            "Average loss: 0.05787\n",
            "val loss: 0.05984\n",
            "\n"
          ]
        },
        {
          "output_type": "stream",
          "name": "stderr",
          "text": [
            "Training: 100%|██████████| 1000/1000 [00:09<00:00, 109.12it/s]\n"
          ]
        },
        {
          "output_type": "stream",
          "name": "stdout",
          "text": [
            "Average loss: 0.05781\n",
            "val loss: 0.05639\n",
            "\n"
          ]
        },
        {
          "output_type": "stream",
          "name": "stderr",
          "text": [
            "Training: 100%|██████████| 1000/1000 [00:09<00:00, 109.80it/s]\n"
          ]
        },
        {
          "output_type": "stream",
          "name": "stdout",
          "text": [
            "Average loss: 0.05788\n",
            "val loss: 0.0563\n",
            "\n"
          ]
        },
        {
          "output_type": "stream",
          "name": "stderr",
          "text": [
            "Training: 100%|██████████| 1000/1000 [00:09<00:00, 110.04it/s]\n"
          ]
        },
        {
          "output_type": "stream",
          "name": "stdout",
          "text": [
            "Average loss: 0.05775\n",
            "val loss: 0.05889\n",
            "\n"
          ]
        },
        {
          "output_type": "stream",
          "name": "stderr",
          "text": [
            "Training: 100%|██████████| 1000/1000 [00:09<00:00, 109.21it/s]\n"
          ]
        },
        {
          "output_type": "stream",
          "name": "stdout",
          "text": [
            "Average loss: 0.0578\n",
            "val loss: 0.05892\n",
            "\n",
            "test loss:0.05957\n"
          ]
        }
      ],
      "source": [
        "optimizer = torch.optim.SGD(interaction_network.parameters(), lr=0.005, weight_decay=5e-4)\n",
        "criterion = nn.L1Loss()\n",
        "criterion.to(device=device)\n",
        "\n",
        "train_loss_graph, val_loss_graph = list(), list()\n",
        "for epoch in range(50):\n",
        "    train_loss, val_loss = list(), list()\n",
        "    \n",
        "    interaction_network = interaction_network.train()\n",
        "    for x_train, y_train in tqdm(trainLoader, desc=\"Training\"):\n",
        "        optimizer.zero_grad()\n",
        "        pred_p_t1 = interaction_network(x_train, 0.5)\n",
        "        loss_t1 = criterion(pred_p_t1, y_train[:, :, 0:2])\n",
        "        loss_t1.backward()\n",
        "        optimizer.step()\n",
        "        \n",
        "        pred_p_t2 = interaction_network(x_train, 1.0)\n",
        "        loss_t2 = criterion(pred_p_t2, y_train[:, :, 2:4])\n",
        "        loss_t2.backward()\n",
        "        optimizer.step()\n",
        "        \n",
        "        pred_p_t3 = interaction_network(x_train, 1.5)\n",
        "        loss_t3 = criterion(pred_p_t3, y_train[:, :, 4:6])\n",
        "        loss_t3.backward()\n",
        "        optimizer.step()\n",
        "        \n",
        "        # y_pred = torch.dstack((pred_p_t1, pred_p_t2, pred_p_t3))\n",
        "        # loss = criterion(y_pred, y_train)\n",
        "\n",
        "        # loss.backward()\n",
        "        # optimizer.step()\n",
        "        \n",
        "        train_loss.append(sum([loss_t1.item(), loss_t2.item(), loss_t3.item()]) / 10)\n",
        "\n",
        "    train_loss_graph.append(sum(train_loss) / len(trainLoader))\n",
        "    \n",
        "    interaction_network = interaction_network.eval()\n",
        "    for x_val, y_val in validationLoader:\n",
        "        optimizer.zero_grad()\n",
        "        pred_p_t1 = interaction_network(x_val, 0.5)\n",
        "        loss_t1 = criterion(pred_p_t1, y_val[:, :, 0:2])\n",
        "        \n",
        "        pred_p_t2 = interaction_network(x_val, 1.0)\n",
        "        loss_t2 = criterion(pred_p_t2, y_val[:, :, 2:4])\n",
        "        \n",
        "        pred_p_t3 = interaction_network(x_val, 1.5)\n",
        "        loss_t3 = criterion(pred_p_t3, y_val[:, :, 4:6])\n",
        "        \n",
        "        \n",
        "        # y_pred = torch.dstack((pred_p_t1, pred_p_t2, pred_p_t3))\n",
        "        # loss = criterion(y_pred, y_val)\n",
        "        \n",
        "        val_loss.append(sum([loss_t1.item(), loss_t2.item(), loss_t3.item()]) / 10)\n",
        "    \n",
        "    val_loss_graph.append(sum(val_loss) / len(validationLoader))\n",
        "    \n",
        "    print(f'Average loss: {round(train_loss_graph[-1],5)}')\n",
        "    print(f'val loss: {round(val_loss_graph[-1],5)}\\n')\n",
        "\n",
        "test_loss = list()\n",
        "interaction_network = interaction_network.eval()\n",
        "for x_test, y_test in testLoader:\n",
        "    optimizer.zero_grad()\n",
        "    pred_p_t1 = interaction_network(x_test, 0.5)\n",
        "    loss_t1 = criterion(pred_p_t1, y_test[:, :, 0:2])\n",
        "                        \n",
        "    pred_p_t2 = interaction_network(x_test, 1.0)\n",
        "    loss_t2 = criterion(pred_p_t2, y_test[:, :, 2:4])\n",
        "    \n",
        "    pred_p_t3 = interaction_network(x_test, 1.5)\n",
        "    loss_t3 = criterion(pred_p_t3, y_test[:, :, 4:6])\n",
        "    \n",
        "    # y_pred = torch.dstack((pred_p_t1, pred_p_t2, pred_p_t3))\n",
        "    # loss = criterion(y_pred, y_test)\n",
        "        \n",
        "    test_loss.append(sum([loss_t1.item(), loss_t2.item(), loss_t3.item()]) / 10)\n",
        "    \n",
        "print(f\"test loss:{round(sum(test_loss) / len(testLoader),5)}\")"
      ]
    },
    {
      "cell_type": "code",
      "execution_count": 24,
      "id": "rnAe3_nXllE2",
      "metadata": {
        "colab": {
          "base_uri": "https://localhost:8080/"
        },
        "id": "rnAe3_nXllE2",
        "outputId": "fc84deef-e1f4-438b-d1cd-1c31d385077e"
      },
      "outputs": [
        {
          "output_type": "stream",
          "name": "stdout",
          "text": [
            "Average loss in totall: 0.01971\n",
            "Average loss in training at time= 0.5: 0.00996\n",
            "Average loss in training at time= 1: 0.01947\n",
            "Average loss in training at time= 1.5: 0.0297\n",
            "\n",
            "Average loss in totall: 0.01964\n",
            "Average loss in validation at time= 0.5: 0.00992\n",
            "Average loss in validation at time= 1: 0.0193\n",
            "Average loss in validation at time= 1.5: 0.0297\n",
            "\n",
            "Average loss in totall: 0.01986\n",
            "Average loss in testing at time= 0.5: 0.01006\n",
            "Average loss in testing at time= 1: 0.01966\n",
            "Average loss in testing at time= 1.5: 0.02984\n",
            "\n"
          ]
        }
      ],
      "source": [
        "evaluation(interaction_network,trainLoader,\"training\")\n",
        "evaluation(interaction_network,validationLoader,\"validation\")\n",
        "evaluation(interaction_network,testLoader,\"testing\")"
      ]
    },
    {
      "cell_type": "code",
      "execution_count": 25,
      "id": "3f76d139",
      "metadata": {
        "id": "3f76d139"
      },
      "outputs": [],
      "source": [
        "def experiment(model, test_loader, klass):\n",
        "    model = model.eval()\n",
        "    loss_t1, loss_t2, loss_t3, loss_tot = list(), list(), list(), list()\n",
        "    pred_positions = list()\n",
        "\n",
        "    with torch.no_grad():\n",
        "        x, y = next(iter(test_loader))\n",
        "        \n",
        "        for i in range(1, 151):\n",
        "            pred_p = model(x, i/100)\n",
        "            pred_positions.append(pred_p)\n",
        "        \n",
        "        loss1 = criterion(pred_positions[49], y[:,:,0:2])\n",
        "        loss2 = criterion(pred_positions[99], y[:,:,2:4])\n",
        "        loss3 = criterion(pred_positions[-1], y[:,:,4:6])\n",
        "\n",
        "        loss_t1.append(loss1.item() / 10)\n",
        "        loss_t2.append(loss2.item() / 10)\n",
        "        loss_t3.append(loss3.item() / 10)\n",
        "\n",
        "        y_pred = torch.dstack((pred_positions[49], pred_positions[99], pred_positions[-1]))\n",
        "        loss = criterion(y_pred, y)\n",
        "        loss_tot.append(loss.item() / 10)\n",
        "\n",
        "    print(f'Average loss in totall: {round(sum(loss_tot),5)}')\n",
        "    print(f'Average loss in {klass} at time= 0.5: {round(sum(loss_t1),5)}')\n",
        "    print(f'Average loss in {klass} at time= 1: {round(sum(loss_t2),5)}')\n",
        "    print(f'Average loss in {klass} at time= 1.5: {round(sum(loss_t3),5)}\\n')\n",
        "    \n",
        "    return pred_positions, x, y"
      ]
    },
    {
      "cell_type": "code",
      "execution_count": 26,
      "id": "55040227",
      "metadata": {
        "id": "55040227",
        "outputId": "36174172-e144-4e84-dba4-9abba239f892",
        "colab": {
          "base_uri": "https://localhost:8080/"
        }
      },
      "outputs": [
        {
          "output_type": "stream",
          "name": "stdout",
          "text": [
            "Average loss in totall: 0.01588\n",
            "Average loss in testing at time= 0.5: 0.00676\n",
            "Average loss in testing at time= 1: 0.01549\n",
            "Average loss in testing at time= 1.5: 0.02539\n",
            "\n"
          ]
        }
      ],
      "source": [
        "positions, data, y = experiment(interaction_network, testLoader, \"testing\")"
      ]
    },
    {
      "cell_type": "code",
      "execution_count": 27,
      "id": "10c0d467",
      "metadata": {
        "id": "10c0d467"
      },
      "outputs": [],
      "source": [
        "unique_pos = list()\n",
        "for stamp in positions:\n",
        "    unique_pos.append(stamp[0].to(device=\"cpu\"))\n",
        "    \n",
        "positions = unique_pos\n",
        "\n",
        "exp_x, exp_y = list(), list()\n",
        "\n",
        "for frame in positions:\n",
        "    exp_x.append(frame[:, 0])\n",
        "    exp_y.append(frame[:, 1])"
      ]
    },
    {
      "cell_type": "code",
      "execution_count": null,
      "id": "c131d9f7",
      "metadata": {
        "id": "c131d9f7"
      },
      "outputs": [],
      "source": [
        "for x_x, y_y in zip(exp_x, exp_y):\n",
        "    print(x_x, y_y)\n",
        "    "
      ]
    },
    {
      "cell_type": "code",
      "execution_count": 28,
      "id": "c6cee70f",
      "metadata": {
        "id": "c6cee70f",
        "outputId": "814e8340-e816-4fe3-bce9-8c90ab04d6e6",
        "colab": {
          "base_uri": "https://localhost:8080/",
          "height": 700
        }
      },
      "outputs": [
        {
          "output_type": "display_data",
          "data": {
            "text/plain": [
              "<Figure size 864x864 with 1 Axes>"
            ],
            "image/png": "[encoded data removed]"
          },
          "metadata": {
            "needs_background": "light"
          }
        }
      ],
      "source": [
        "data = data[0].to(device=\"cpu\")\n",
        "y = y[0].to(device=\"cpu\")\n",
        "\n",
        "fig = plt.figure()\n",
        "axes = plt.gca()\n",
        "axes.set_xlim([-5., 5.])\n",
        "axes.set_ylim([-5., 5.])\n",
        "colors = ['red', 'blue', 'green', 'orange', 'brown']\n",
        "all_x, all_y = list(), list()\n",
        "\n",
        "for i in range(len(data)):\n",
        "    plt.plot(data[i][0], data[i][1], 'd', color=colors[i])\n",
        "    plt.plot(y[i][0], y[i][1], '*', color=colors[i])\n",
        "    plt.plot(y[i][2], y[i][3], 'p', color=colors[i])\n",
        "    plt.plot(y[i][4], y[i][5], 'x', color=colors[i])\n",
        "    plt.plot([data[i][0], data[i][0] + data[i][2]], [data[i][1], data[i][1] + data[i][3]], '--', color=colors[i])\n",
        "    \n",
        "    x_pos, y_pos = list(), list()\n",
        "    for x_x, y_y in zip(exp_x, exp_y):\n",
        "        x_pos.append(x_x[i])\n",
        "        y_pos.append(y_y[i])\n",
        "                    \n",
        "    all_x.append(x_pos)\n",
        "    all_y.append(y_pos)\n",
        "    plt.plot(x_pos, y_pos, color=colors[i])\n",
        "\n",
        "fig.set_size_inches(12, 12)\n",
        "plt.xlim(np.min(all_x)-1, np.max(all_x) +1)\n",
        "plt.ylim(np.min(all_y)-1, np.max(all_y) +1)\n",
        "plt.plot([], [], 'd', color='black', label='position at 0.0')\n",
        "plt.plot([], [], '*', color='black', label='position at 0.5')\n",
        "plt.plot([], [], 'p', color='black', label='position at 1.0')\n",
        "plt.plot([], [], 'x', color='black', label='position at 1.5')\n",
        "plt.plot([], [], '--', color='black', label='initial velocity \\ndirection and magnitude')\n",
        "plt.plot([], [], '2', color='black', label='prediction')\n",
        "plt.legend()\n",
        "\n",
        "plt.show()\n"
      ]
    },
    {
      "cell_type": "code",
      "execution_count": null,
      "id": "0a99a32b",
      "metadata": {
        "colab": {
          "base_uri": "https://localhost:8080/"
        },
        "id": "0a99a32b",
        "outputId": "db65dbb4-6097-4e57-c1d1-2dfa260da235"
      },
      "outputs": [
        {
          "name": "stdout",
          "output_type": "stream",
          "text": [
            "Baseline error should be 0: {'rms': 0.0}\n",
            "Error over time should increase (train).\n",
            "t = 0.5 {'rms': 0.24874936044216156}\n",
            "t = 1 {'rms': 0.5171805024147034}\n",
            "t = 1.5 {'rms': 0.7905893325805664}\n",
            "Error over time should increase (valid).\n",
            "t = 0.5 {'rms': 0.24874936044216156}\n",
            "t = 1 {'rms': 0.5171805024147034}\n",
            "t = 1.5 {'rms': 0.7905893325805664}\n",
            "Error over time should increase (test).\n",
            "t = 0.5 {'rms': 0.24874936044216156}\n",
            "t = 1 {'rms': 0.5171805024147034}\n",
            "t = 1.5 {'rms': 0.7905893325805664}\n"
          ]
        }
      ],
      "source": [
        "import torch.nn as nn\n",
        "\n",
        "# Evaluate the baseline model (what metrics? r2? rms?)\n",
        "def rms(p_pred, p_actual):\n",
        "    '''\n",
        "    Return the root mean squared distance between predicted locations and actual locations.\n",
        "    Where p_pred and p_actual are both (N x T x 2 x P) tensors.\n",
        "    '''\n",
        "    mse = nn.MSELoss()\n",
        "    return mse(p_pred, p_actual).sqrt().item()\n",
        "\n",
        "def baseline_evaluate(p, v, time):\n",
        "    '''\n",
        "    Evaluate the baseline \"model\" at given time in {0, 0.5, 1, 1.5}.\n",
        "    '''\n",
        "    p_pred = baseline_predict(p[:, :1, :, :], v, time)\n",
        "    idx = int(time / 0.5)\n",
        "    p_actual = p[:, idx:idx+1, :, :]\n",
        "    # Currently just rms, but we could add more evaluations\n",
        "    return {'rms': rms(p_pred, p_actual)}\n",
        "\n",
        "print('Baseline error should be 0:', baseline_evaluate(p_train, v_train, 0))\n",
        "\n",
        "# Print some more metrics\n",
        "for klass in ['train', 'valid', 'test']:\n",
        "    p_klass, v_klass = locals()[f'p_{klass}'], locals()[f'v_{klass}']\n",
        "    print(f'Error over time should increase ({klass}).')\n",
        "    for t in [0.5, 1, 1.5]:\n",
        "        print(f't = {t}', baseline_evaluate(p_train, v_train, t))"
      ]
    },
    {
      "cell_type": "code",
      "execution_count": null,
      "id": "f02d1d3b",
      "metadata": {
        "colab": {
          "base_uri": "https://localhost:8080/",
          "height": 313
        },
        "id": "f02d1d3b",
        "outputId": "f9e027cb-3b5b-4a77-d9c0-c8ae3b2241db"
      },
      "outputs": [
        {
          "data": {
            "text/plain": [
              "Text(0, 0.5, 'loss value')"
            ]
          },
          "execution_count": 25,
          "metadata": {},
          "output_type": "execute_result"
        },
        {
          "data": {
            "image/png": "[encoded data removed]",
            "text/plain": [
              "<Figure size 432x288 with 1 Axes>"
            ]
          },
          "metadata": {
            "needs_background": "light"
          },
          "output_type": "display_data"
        }
      ],
      "source": [
        "import matplotlib.pyplot as plt\n",
        "\n",
        "plt.plot(train_loss_graph)\n",
        "plt.title(\"training loss\")\n",
        "plt.xlabel(\"epoch number\")\n",
        "plt.ylabel(\"loss value\")"
      ]
    },
    {
      "cell_type": "code",
      "execution_count": null,
      "id": "73f2a2fb",
      "metadata": {
        "colab": {
          "base_uri": "https://localhost:8080/",
          "height": 313
        },
        "id": "73f2a2fb",
        "outputId": "b063d287-c484-48a0-f5fa-d39a0221143b"
      },
      "outputs": [
        {
          "data": {
            "text/plain": [
              "Text(0, 0.5, 'loss value')"
            ]
          },
          "execution_count": 26,
          "metadata": {},
          "output_type": "execute_result"
        },
        {
          "data": {
            "image/png": "[encoded data removed]",
            "text/plain": [
              "<Figure size 432x288 with 1 Axes>"
            ]
          },
          "metadata": {
            "needs_background": "light"
          },
          "output_type": "display_data"
        }
      ],
      "source": [
        "plt.plot(val_loss_graph)\n",
        "plt.title(\"validation loss\")\n",
        "plt.xlabel(\"epoch number\")\n",
        "plt.ylabel(\"loss value\")"
      ]
    },
    {
      "cell_type": "markdown",
      "id": "dea70d73",
      "metadata": {
        "id": "dea70d73"
      },
      "source": [
        "# Model Training"
      ]
    },
    {
      "cell_type": "code",
      "execution_count": null,
      "id": "3af520ae",
      "metadata": {
        "id": "3af520ae"
      },
      "outputs": [],
      "source": [
        "#todo"
      ]
    },
    {
      "cell_type": "code",
      "execution_count": null,
      "id": "e95af5f9",
      "metadata": {
        "id": "e95af5f9"
      },
      "outputs": [],
      "source": [
        ""
      ]
    },
    {
      "cell_type": "code",
      "execution_count": null,
      "id": "07e03ddf",
      "metadata": {
        "id": "07e03ddf"
      },
      "outputs": [],
      "source": [
        ""
      ]
    },
    {
      "cell_type": "markdown",
      "id": "d5fb3b29",
      "metadata": {
        "id": "d5fb3b29"
      },
      "source": [
        "# Evaluation"
      ]
    },
    {
      "cell_type": "code",
      "execution_count": null,
      "id": "bf5fa1b4",
      "metadata": {
        "id": "bf5fa1b4"
      },
      "outputs": [],
      "source": [
        "#TODO:\n",
        "# The amount of training samples should vary from 100 to 10000, and the\n",
        "# prediction horizons are t = 0.5, t = 1 and t = 1.5. For each training set\n",
        "# size/time horizon combination, compare to a simple linear baseline where\n",
        "# xti = x0i + v0i ·t"
      ]
    },
    {
      "cell_type": "code",
      "execution_count": null,
      "id": "2280031f",
      "metadata": {
        "id": "2280031f"
      },
      "outputs": [],
      "source": [
        "# TODO\n",
        "# Come up with and execute one additional experiment that provides an interesting insight in your method\n",
        "# possible idea: interpolation, i.e. given t = 1.5 and t = 0.5, where is it at t = 1?\n"
      ]
    },
    {
      "cell_type": "code",
      "execution_count": null,
      "id": "3a8240f1",
      "metadata": {
        "id": "3a8240f1"
      },
      "outputs": [],
      "source": [
        ""
      ]
    }
  ],
  "metadata": {
    "accelerator": "GPU",
    "colab": {
      "name": "a2_skeleton_peter_pim.ipynb",
      "provenance": []
    },
    "interpreter": {
      "hash": "27c164e33ceb3372f7d05cab3554d1b7111f26924d32637c2cc5dd0d753ab5f1"
    },
    "kernelspec": {
      "display_name": "Python 3 (ipykernel)",
      "language": "python",
      "name": "python3"
    },
    "language_info": {
      "codemirror_mode": {
        "name": "ipython",
        "version": 3
      },
      "file_extension": ".py",
      "mimetype": "text/x-python",
      "name": "python",
      "nbconvert_exporter": "python",
      "pygments_lexer": "ipython3",
      "version": "3.9.12"
    }
  },
  "nbformat": 4,
  "nbformat_minor": 5
}
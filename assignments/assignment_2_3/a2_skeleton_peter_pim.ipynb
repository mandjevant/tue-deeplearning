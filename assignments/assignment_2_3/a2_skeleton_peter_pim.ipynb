{
 "cells": [
  {
   "cell_type": "markdown",
   "id": "730fd591",
   "metadata": {
    "id": "730fd591"
   },
   "source": [
    "<a href=\"https://colab.research.google.com/github/vlamen/tue-deeplearning/blob/main/assignments/assignment_2_3/a2_skeleton.ipynb\" target=\"_parent\"><img src=\"https://colab.research.google.com/assets/colab-badge.svg\" alt=\"Open In Colab\"/></a>"
   ]
  },
  {
   "cell_type": "markdown",
   "id": "d32f8d18",
   "metadata": {
    "id": "d32f8d18"
   },
   "source": [
    "# Group Number: 37\n",
    "# Student 1: Jiong Li | 1533312\n",
    "# Student 2: Peter Elmers | 1734350\n",
    "# Student 3: P.T.C.M. Tholhuijsen | 1237447"
   ]
  },
  {
   "cell_type": "markdown",
   "id": "faec2056",
   "metadata": {
    "id": "faec2056"
   },
   "source": [
    "# Downloading Data and Preliminaries"
   ]
  },
  {
   "cell_type": "code",
   "execution_count": 1,
   "id": "7d0580a5",
   "metadata": {
    "id": "7d0580a5"
   },
   "outputs": [],
   "source": [
    "import pickle\n",
    "import matplotlib.pyplot as plt\n",
    "import matplotlib\n",
    "import numpy as np\n",
    "\n",
    "from zipfile import ZipFile\n",
    "import requests\n",
    "import io"
   ]
  },
  {
   "cell_type": "code",
   "execution_count": 2,
   "id": "b0756591",
   "metadata": {
    "id": "b0756591"
   },
   "outputs": [],
   "source": [
    "def load_zip(url):\n",
    "    response = requests.get(url)\n",
    "    response.raise_for_status()\n",
    "    zipf = ZipFile(io.BytesIO(response.content))\n",
    "    return {name: zipf.read(name) for name in zipf.namelist()}\n",
    "\n",
    "def load_array(zipfile, fn):\n",
    "    return np.load(io.BytesIO(zipfile[fn]))"
   ]
  },
  {
   "cell_type": "code",
   "execution_count": 3,
   "id": "bb77a4be",
   "metadata": {
    "colab": {
     "base_uri": "https://localhost:8080/"
    },
    "id": "bb77a4be",
    "outputId": "e74493aa-d245-4312-fd8b-fd87366b291f"
   },
   "outputs": [
    {
     "name": "stdout",
     "output_type": "stream",
     "text": [
      "Shapes of the training data:\n",
      "\n",
      "positions: (10000, 4, 2, 5)\n",
      "velocities: (10000, 1, 2, 5)\n",
      "charges: (10000, 5, 1)\n"
     ]
    }
   ],
   "source": [
    "\"\"\"\n",
    "This cell loads the training, validation or test data as numpy arrays,\n",
    "with the positions, initial velocities and charge data of the particles.\n",
    "\n",
    "The position arrays are shaped as\n",
    "[simulation id, time point (corresponding to t = 0, 0.5, 1 or 1.5), x/y spatial dimension, particle id].\n",
    "\n",
    "The initial velocity arrays are shaped as\n",
    "[simulation id, 1 (corresponding to t=0), x/y spatial dimension, particle id].\n",
    "\n",
    "The charge arrays are shaped as [simulation id, particle id, 1]\n",
    "\n",
    "\"\"\"\n",
    "\n",
    "data = load_zip('https://surfdrive.surf.nl/files/index.php/s/OIgda2ZRG8v0eqB/download')\n",
    "\n",
    "features = ['positions', 'velocities', 'charges']\n",
    "    \n",
    "positions_train, velocities_train, charges_train = (load_array(data, f'data/train/{f}.npy') for f in features)\n",
    "positions_valid, velocities_valid, charges_valid = (load_array(data, f'data/valid/{f}.npy') for f in features)\n",
    "positions_test, velocities_test, charges_test = (load_array(data, f'data/test/{f}.npy') for f in features)\n",
    "\n",
    "print('Shapes of the training data:\\n')\n",
    "print(f'positions: {positions_train.shape}')\n",
    "print(f'velocities: {velocities_train.shape}')\n",
    "print(f'charges: {charges_train.shape}')"
   ]
  },
  {
   "cell_type": "code",
   "execution_count": 4,
   "id": "1c3ea4cb",
   "metadata": {
    "colab": {
     "base_uri": "https://localhost:8080/"
    },
    "id": "1c3ea4cb",
    "outputId": "4d48cb4d-103d-470b-928a-595553808d2b"
   },
   "outputs": [
    {
     "name": "stdout",
     "output_type": "stream",
     "text": [
      "An example of retrieving data from the arrays:\n",
      "\n",
      "\n",
      "In simulation 42 of the training set, particle 3 with charge -1.0 had coordinates [ 2.05159559 -1.46130851].\n",
      "The initial velocity of this particle was [ 0.28402364 -0.24784824].\n"
     ]
    }
   ],
   "source": [
    "print('An example of retrieving data from the arrays:\\n\\n')\n",
    "\n",
    "sim_idx = 42\n",
    "t_idx = 2  # t_idx 0, 1, 2, 3 corresponds to t=0, 0.5, 1 and 1.5 respectively\n",
    "spatial_idx = (0,1)  # corresponds to both x and y dimension\n",
    "particle_idx = 3  # corresponds to particle with index 3\n",
    "\n",
    "p = positions_train[sim_idx, t_idx, spatial_idx, particle_idx]\n",
    "v = velocities_train[sim_idx, 0, spatial_idx, particle_idx]  # note: this array contains only the inital velocity -> hence the 0\n",
    "c = charges_train[sim_idx, particle_idx, 0] \n",
    "\n",
    "print(\n",
    "    f'In simulation {sim_idx} of the training set, particle {particle_idx} with charge {c} had coordinates {p}.\\nThe initial velocity of this particle was {v}.'\n",
    ")"
   ]
  },
  {
   "cell_type": "code",
   "execution_count": 5,
   "id": "10a3438a",
   "metadata": {
    "colab": {
     "base_uri": "https://localhost:8080/"
    },
    "id": "10a3438a",
    "outputId": "2df70260-13a3-480c-ab78-60902c5cefd4"
   },
   "outputs": [
    {
     "name": "stdout",
     "output_type": "stream",
     "text": [
      "Overview of no. datapoints:\n",
      "\n",
      "10000 train, 2000 validation, 2000 test simulations\n"
     ]
    }
   ],
   "source": [
    "print('Overview of no. datapoints:\\n')\n",
    "\n",
    "print(f'{len(positions_train)} train, {len(positions_valid)} validation, {len(positions_test)} test simulations')"
   ]
  },
  {
   "cell_type": "code",
   "execution_count": 6,
   "id": "f9106543",
   "metadata": {
    "id": "f9106543"
   },
   "outputs": [],
   "source": [
    "def plot_example(pos, vel):\n",
    "\n",
    "    fig = plt.figure()\n",
    "    axes = plt.gca()\n",
    "    axes.set_xlim([-5., 5.])\n",
    "    axes.set_ylim([-5., 5.])\n",
    "    colors = ['red', 'blue', 'green', 'orange', 'brown']\n",
    "    for i in range(pos.shape[-1]):\n",
    "        plt.plot(pos[0, 0, i], pos[0, 1, i], 'd', color=colors[i])\n",
    "        plt.plot(pos[-1, 0, i], pos[-1, 1, i], 'x', color=colors[i])\n",
    "        plt.plot([pos[0, 0, i], pos[0, 0, i] + vel[0, 0, i]], [pos[0, 1, i], pos[0, 1, i] + vel[0, 1, i]], '--', color=colors[i])\n",
    "    fig.set_size_inches(7, 7)\n",
    "    plt.xlim(np.min(pos)-1, np.max(pos) +1)\n",
    "    plt.ylim(np.min(pos)-1, np.max(pos) +1)\n",
    "    plt.plot([], [], 'd', color='black', label='initial position')\n",
    "    plt.plot([], [], 'x', color='black', label='final position')\n",
    "    plt.plot([], [], '--', color='black', label='initial velocity \\ndirection and magnitude')\n",
    "    plt.legend()\n",
    "    \n",
    "    plt.show()\n",
    "    return"
   ]
  },
  {
   "cell_type": "code",
   "execution_count": 7,
   "id": "d28681a6",
   "metadata": {
    "colab": {
     "base_uri": "https://localhost:8080/",
     "height": 428
    },
    "id": "d28681a6",
    "outputId": "42f65e33-35a4-4ab7-a908-5579930927b7"
   },
   "outputs": [
    {
     "data": {
      "image/png": "[encoded data removed]",
      "text/plain": [
       "<Figure size 504x504 with 1 Axes>"
      ]
     },
     "metadata": {
      "needs_background": "light"
     },
     "output_type": "display_data"
    }
   ],
   "source": [
    "random_idx = np.random.randint(0, 10000)\n",
    "plot_example(positions_train[random_idx], velocities_train[random_idx])"
   ]
  },
  {
   "cell_type": "markdown",
   "id": "059b633c",
   "metadata": {
    "id": "059b633c"
   },
   "source": [
    "# Data Handling and Preprocessing"
   ]
  },
  {
   "cell_type": "code",
   "execution_count": 8,
   "id": "e6ecb529",
   "metadata": {
    "colab": {
     "base_uri": "https://localhost:8080/"
    },
    "id": "e6ecb529",
    "outputId": "f8656fb4-2d13-4472-ca72-6e21dfeb7fb7"
   },
   "outputs": [
    {
     "name": "stdout",
     "output_type": "stream",
     "text": [
      "Device is set to cuda\n"
     ]
    }
   ],
   "source": [
    "# Pick the best device\n",
    "import torch\n",
    "\n",
    "def try_device(device):\n",
    "    # Try to put an array on given device. If successful, return device. Else, 'cpu'.\n",
    "    x = torch.ones((1,))\n",
    "    try:\n",
    "        x.to(device)\n",
    "        return device\n",
    "    except:\n",
    "        return 'cpu'\n",
    "\n",
    "device = try_device('cuda')\n",
    "if device == 'cpu':\n",
    "    device = try_device('mps')\n",
    "\n",
    "print(f'Device is set to {device}')\n",
    "\n",
    "# Move all the little craps into torch things on the device\n",
    "p_train, v_train, c_train = [torch.Tensor(vec).to(device=device) for vec in [positions_train, velocities_train, charges_train]]\n",
    "p_valid, v_valid, c_valid = [torch.Tensor(vec).to(device=device) for vec in [positions_valid, velocities_valid, charges_valid]]\n",
    "p_test, v_test, c_test = [torch.Tensor(vec).to(device=device) for vec in [positions_test, velocities_test, charges_test]]"
   ]
  },
  {
   "cell_type": "code",
   "execution_count": 57,
   "id": "89f90431",
   "metadata": {
    "id": "89f90431"
   },
   "outputs": [],
   "source": [
    "p_train, v_train, c_train = p_train[:2000], v_train[:2000], c_train[:2000]\n",
    "p_valid, v_valid, c_valid = p_valid[:400], v_valid[:400], c_valid[:400]"
   ]
  },
  {
   "cell_type": "code",
   "execution_count": 58,
   "id": "f8633eb8",
   "metadata": {
    "id": "f8633eb8"
   },
   "outputs": [],
   "source": [
    "# Create a baseline: particle position = velocity * time + initial\n",
    "def baseline_predict(p0, v0, time):\n",
    "    '''\n",
    "    Return a numpy array of predicted x, y position of each particle in p0.\n",
    "    Given p0 starting locations, v0 starting velocities, and time to predict.\n",
    "    Result is computed via linear projection: v0 * time + p0.\n",
    "    Where p0 and v0 are both (N x 1 x 2 x P) tensors, for N simulations, P particles/sim\n",
    "    '''\n",
    "    return p0 + v0 * time\n"
   ]
  },
  {
   "cell_type": "code",
   "execution_count": 59,
   "id": "b9d84863",
   "metadata": {
    "id": "b9d84863"
   },
   "outputs": [],
   "source": [
    "from torch.utils.data import Dataset, DataLoader\n",
    "\n",
    "\n",
    "class myDataset(Dataset):\n",
    "    def __init__(self, posi, velo, charge):\n",
    "        self.posi = posi\n",
    "        self.velo = velo\n",
    "        self.charge = charge\n",
    "    \n",
    "    def __len__(self):\n",
    "        return len(self.posi)\n",
    "    \n",
    "    def __getitem__(self, index):\n",
    "        i = list(zip(self.posi, self.velo, self.charge))[index]\n",
    "        \n",
    "        p = torch.transpose(i[0][0], 0, 1)\n",
    "        v = torch.transpose(i[1][0], 0, 1)\n",
    "        c = i[2]\n",
    "        \n",
    "        # x_p, y_p, x_v, y_v, c at t=0\n",
    "        x = torch.hstack((p, v, c))\n",
    "        # x.shape = [10, 5, 5]\n",
    "        \n",
    "        # (x_p, y_p), (x_p, y_p), (x_p, y_p) at t = 0.5, 1.0, 1.5\n",
    "        y = torch.hstack((torch.transpose(i[0][1], 0, 1), \n",
    "                          torch.transpose(i[0][2], 0, 1), \n",
    "                          torch.transpose(i[0][3], 0, 1)))\n",
    "        # y.shape = [10, 5, 6]\n",
    "        \n",
    "        return x, y\n"
   ]
  },
  {
   "cell_type": "code",
   "execution_count": 60,
   "id": "3R3Oid3Fr043",
   "metadata": {
    "colab": {
     "base_uri": "https://localhost:8080/"
    },
    "id": "3R3Oid3Fr043",
    "outputId": "2a922792-d6cf-4a08-e81c-9b213f267f27"
   },
   "outputs": [
    {
     "data": {
      "text/plain": [
       "torch.Size([5, 6])"
      ]
     },
     "execution_count": 60,
     "metadata": {},
     "output_type": "execute_result"
    }
   ],
   "source": [
    "tmp = myDataset(p_train, v_train, c_train)\n",
    "x,y = tmp.__getitem__(0)\n",
    "y.shape"
   ]
  },
  {
   "cell_type": "code",
   "execution_count": 61,
   "id": "d070e561",
   "metadata": {
    "id": "d070e561"
   },
   "outputs": [],
   "source": [
    "trainLoader = DataLoader(myDataset(p_train, v_train, c_train), batch_size=10, shuffle=True)\n",
    "validationLoader = DataLoader(myDataset(p_valid, v_valid, c_valid), batch_size=10, shuffle=True)\n",
    "testLoader = DataLoader(myDataset(p_test, v_test, c_test), batch_size=10, shuffle=True)"
   ]
  },
  {
   "cell_type": "markdown",
   "id": "18b2874d",
   "metadata": {
    "id": "18b2874d"
   },
   "source": [
    "# Model Implementation"
   ]
  },
  {
   "cell_type": "code",
   "execution_count": 62,
   "id": "3aa472dc",
   "metadata": {
    "id": "3aa472dc"
   },
   "outputs": [],
   "source": [
    "import torch.nn as nn\n",
    "from tqdm import tqdm"
   ]
  },
  {
   "cell_type": "markdown",
   "id": "b33b0e1c",
   "metadata": {
    "id": "b33b0e1c"
   },
   "source": [
    "Implementation like https://github.com/higgsfield/interaction_network_pytorch/blob/master/Interaction%20Network.ipynb"
   ]
  },
  {
   "cell_type": "code",
   "execution_count": 45,
   "id": "e79124e4",
   "metadata": {
    "colab": {
     "base_uri": "https://localhost:8080/"
    },
    "id": "e79124e4",
    "outputId": "5b66cba2-8c46-4686-af0e-195eb444685a"
   },
   "outputs": [
    {
     "name": "stdout",
     "output_type": "stream",
     "text": [
      "tensor(-1.9361, device='cuda:0')\n",
      "tensor([[-1.9361, -0.2276, -0.7878,  0.0267, -1.0000],\n",
      "        [ 3.6532, -2.7631,  1.5892, -0.4211,  1.0000],\n",
      "        [-4.5496,  8.2998, -1.2906,  2.3834,  1.0000],\n",
      "        [-3.0958, -3.0921, -1.9173, -0.5785,  1.0000],\n",
      "        [ 0.1073, -2.8976,  0.6539, -0.5676, -1.0000]], device='cuda:0')\n",
      "tensor([[-1.9361, -0.2276],\n",
      "        [ 3.6532, -2.7631],\n",
      "        [-4.5496,  8.2998],\n",
      "        [-3.0958, -3.0921],\n",
      "        [ 0.1073, -2.8976]], device='cuda:0')\n",
      "tensor([[-0.7878,  0.0267],\n",
      "        [ 1.5892, -0.4211],\n",
      "        [-1.2906,  2.3834],\n",
      "        [-1.9173, -0.5785],\n",
      "        [ 0.6539, -0.5676]], device='cuda:0')\n"
     ]
    }
   ],
   "source": [
    "for i in zip(p_train, v_train, c_train):\n",
    "    p = torch.transpose(i[0][0], 0, 1)\n",
    "    v = torch.transpose(i[1][0], 0, 1)\n",
    "    c = i[2]\n",
    "   \n",
    "    data = torch.hstack((p, v, c))\n",
    "    print(data)\n",
    "    print(data[:, 0:2])\n",
    "    print(data[:, 2:4])\n",
    "    # x_p, y_p, x_v, y_v, c\n",
    "    break"
   ]
  },
  {
   "cell_type": "code",
   "execution_count": 18,
   "id": "MFsf3WwfDN-s",
   "metadata": {
    "colab": {
     "base_uri": "https://localhost:8080/"
    },
    "id": "MFsf3WwfDN-s",
    "outputId": "027d2d85-dd16-421e-f594-53d70e0e45d2"
   },
   "outputs": [
    {
     "data": {
      "text/plain": [
       "2"
      ]
     },
     "execution_count": 18,
     "metadata": {},
     "output_type": "execute_result"
    }
   ],
   "source": [
    "len(next(iter(trainLoader)))"
   ]
  },
  {
   "cell_type": "code",
   "execution_count": 63,
   "id": "587da524",
   "metadata": {
    "id": "587da524"
   },
   "outputs": [],
   "source": [
    "# object-centric acceleration neural network\n",
    "class AccelerationModel(nn.Module):\n",
    "    def __init__(self):\n",
    "        super(AccelerationModel, self).__init__()\n",
    "        \n",
    "        self.layers = nn.Sequential(\n",
    "            nn.Linear(5, 25),\n",
    "            nn.ReLU(),\n",
    "            \n",
    "            nn.Linear(25, 125),\n",
    "            nn.ReLU(),\n",
    "            nn.Linear(125, 625),\n",
    "            nn.ReLU(),\n",
    "            \n",
    "            nn.Dropout(p=0.2),\n",
    "            nn.Linear(625, 2),\n",
    "        )\n",
    "        \n",
    "    def forward(self, x):\n",
    "        x = x.view(-1, 5)\n",
    "        x = self.layers(x)\n",
    "        return x.view(10, 5, 2)"
   ]
  },
  {
   "cell_type": "code",
   "execution_count": 64,
   "id": "8bca2f0d",
   "metadata": {
    "id": "8bca2f0d"
   },
   "outputs": [],
   "source": [
    "# object-centric velocity neural network\n",
    "class VelocityModel(nn.Module):\n",
    "    def __init__(self):\n",
    "        super(VelocityModel, self).__init__()\n",
    "        \n",
    "        self.layers = nn.Sequential(\n",
    "            nn.Linear(4, 16),\n",
    "            # nn.Dropout(p=0.2),\n",
    "            nn.ReLU(),\n",
    "            \n",
    "            nn.Linear(16, 64),\n",
    "            nn.ReLU(),\n",
    "            nn.Linear(64, 256),\n",
    "            nn.ReLU(),\n",
    "            \n",
    "            nn.Linear(256, 2),\n",
    "        )\n",
    "        \n",
    "    def forward(self, x):\n",
    "        x = x.view(-1, 4)\n",
    "        x = self.layers(x)\n",
    "        return x.view(10, 5, 2)"
   ]
  },
  {
   "cell_type": "code",
   "execution_count": 65,
   "id": "3535d8b4",
   "metadata": {
    "id": "3535d8b4"
   },
   "outputs": [],
   "source": [
    "# object-centric position neural network\n",
    "class PositionModel(nn.Module):\n",
    "    def __init__(self):\n",
    "        super(PositionModel, self).__init__()\n",
    "        \n",
    "        self.layers = nn.Sequential(\n",
    "            nn.Linear(4, 16),\n",
    "            nn.ReLU(),\n",
    "            #nn.Dropout(p=0.2),\n",
    "            \n",
    "            nn.Linear(16, 64),\n",
    "            nn.ReLU(),\n",
    "            nn.Linear(64, 256),\n",
    "            nn.ReLU(),\n",
    "            \n",
    "            nn.Linear(256, 2),\n",
    "        )\n",
    "        \n",
    "    def forward(self, x):\n",
    "        x = x.view(-1, 4)\n",
    "        x = self.layers(x)\n",
    "        return x.view(10, 5, 2)"
   ]
  },
  {
   "cell_type": "code",
   "execution_count": 86,
   "id": "1e9bdf5e",
   "metadata": {
    "colab": {
     "base_uri": "https://localhost:8080/"
    },
    "id": "1e9bdf5e",
    "outputId": "dfb49188-c0c5-4dc1-8926-fc3abba94f07"
   },
   "outputs": [
    {
     "data": {
      "text/plain": [
       "InteractionNetwork(\n",
       "  (acceleration_model): AccelerationModel(\n",
       "    (layers): Sequential(\n",
       "      (0): Linear(in_features=5, out_features=25, bias=True)\n",
       "      (1): ReLU()\n",
       "      (2): Linear(in_features=25, out_features=125, bias=True)\n",
       "      (3): ReLU()\n",
       "      (4): Linear(in_features=125, out_features=625, bias=True)\n",
       "      (5): ReLU()\n",
       "      (6): Dropout(p=0.2, inplace=False)\n",
       "      (7): Linear(in_features=625, out_features=2, bias=True)\n",
       "    )\n",
       "  )\n",
       "  (velocity_model): VelocityModel(\n",
       "    (layers): Sequential(\n",
       "      (0): Linear(in_features=4, out_features=16, bias=True)\n",
       "      (1): ReLU()\n",
       "      (2): Linear(in_features=16, out_features=64, bias=True)\n",
       "      (3): ReLU()\n",
       "      (4): Linear(in_features=64, out_features=256, bias=True)\n",
       "      (5): ReLU()\n",
       "      (6): Linear(in_features=256, out_features=2, bias=True)\n",
       "    )\n",
       "  )\n",
       "  (position_model): PositionModel(\n",
       "    (layers): Sequential(\n",
       "      (0): Linear(in_features=4, out_features=16, bias=True)\n",
       "      (1): ReLU()\n",
       "      (2): Linear(in_features=16, out_features=64, bias=True)\n",
       "      (3): ReLU()\n",
       "      (4): Linear(in_features=64, out_features=256, bias=True)\n",
       "      (5): ReLU()\n",
       "      (6): Linear(in_features=256, out_features=2, bias=True)\n",
       "    )\n",
       "  )\n",
       ")"
      ]
     },
     "execution_count": 86,
     "metadata": {},
     "output_type": "execute_result"
    }
   ],
   "source": [
    "# interaction network\n",
    "class InteractionNetwork(nn.Module):\n",
    "    def __init__(self):\n",
    "        super(InteractionNetwork, self).__init__()\n",
    "        \n",
    "        self.acceleration_model = AccelerationModel()\n",
    "        self.velocity_model = VelocityModel()\n",
    "        self.position_model = PositionModel()\n",
    "        \n",
    "    def forward(self, x, delta_t):\n",
    "        pred_accelleration = self.acceleration_model(x)\n",
    "        pred_velocity = self.velocity_model(torch.dstack((x[:, :, 2:4], torch.mul(pred_accelleration, delta_t))))\n",
    "        pred_position = self.position_model(torch.dstack((x[:, :, 0:2], pred_velocity)))\n",
    "        return pred_position, pred_velocity\n",
    "    \n",
    "interaction_network = InteractionNetwork()\n",
    "interaction_network.to(device=device)"
   ]
  },
  {
   "cell_type": "code",
   "execution_count": 82,
   "id": "ab8c605b",
   "metadata": {},
   "outputs": [
    {
     "data": {
      "text/plain": [
       "120046"
      ]
     },
     "execution_count": 82,
     "metadata": {},
     "output_type": "execute_result"
    }
   ],
   "source": [
    "sum(p.numel() for p in interaction_network.parameters() if p.requires_grad)"
   ]
  },
  {
   "cell_type": "code",
   "execution_count": 87,
   "id": "aJfvjDr1j551",
   "metadata": {
    "id": "aJfvjDr1j551"
   },
   "outputs": [],
   "source": [
    "def evaluation(model, test_loader, klass):\n",
    "    model = model.eval()\n",
    "    loss_t1, loss_t2, loss_t3, loss_tot = list(), list(), list(), list()\n",
    "\n",
    "    with torch.no_grad():\n",
    "        for x, y in test_loader:\n",
    "            pred_p_t1, pred_v_t1 = model(x, 0.5)\n",
    "            pred_p_t2, pred_v_t2 = model(x, 1.0)\n",
    "            pred_p_t3, _ = model(x, 1.5)\n",
    "            \n",
    "#             pred_p_t2, pred_v_t2 = model(torch.dstack((pred_p_t1, pred_v_t1, x[:, :, -1])), 0.5)\n",
    "#             pred_p_t3, _ = model(torch.dstack((pred_p_t2, pred_v_t2, x[:, :, -1])), 0.5)\n",
    "\n",
    "            loss1 = criterion(pred_p_t1,y[:,:,0:2])\n",
    "            loss2 = criterion(pred_p_t2,y[:,:,2:4])\n",
    "            loss3 = criterion(pred_p_t3,y[:,:,4:6])\n",
    "\n",
    "            loss_t1.append(loss1.item() / 10)\n",
    "            loss_t2.append(loss2.item() / 10)\n",
    "            loss_t3.append(loss3.item() / 10)\n",
    "\n",
    "            y_pred = torch.dstack((pred_p_t1, pred_p_t2, pred_p_t3))\n",
    "            loss = criterion(y_pred, y)\n",
    "            loss_tot.append(loss.item() / 10)\n",
    "\n",
    "    print(f'Average loss in totall: {round(sum(loss_tot)/len(test_loader),5)}')\n",
    "    print(f'Average loss in {klass} at time= 0.5: {round(sum(loss_t1)/len(test_loader),5)}')\n",
    "    print(f'Average loss in {klass} at time= 1: {round(sum(loss_t2)/len(test_loader),5)}')\n",
    "    print(f'Average loss in {klass} at time= 1.5: {round(sum(loss_t3)/len(test_loader),5)}\\n')"
   ]
  },
  {
   "cell_type": "code",
   "execution_count": 88,
   "id": "cbd80a9d",
   "metadata": {
    "colab": {
     "base_uri": "https://localhost:8080/"
    },
    "id": "cbd80a9d",
    "outputId": "cbbe3aec-472b-49f9-9cdc-f4ca3d359194"
   },
   "outputs": [
    {
     "name": "stderr",
     "output_type": "stream",
     "text": [
      "Training: 100%|██████████████████████████████████████████████████████████████████████| 200/200 [00:20<00:00,  9.64it/s]\n"
     ]
    },
    {
     "name": "stdout",
     "output_type": "stream",
     "text": [
      "Average loss: 0.08594\n",
      "val loss: 0.04032\n",
      "\n"
     ]
    },
    {
     "name": "stderr",
     "output_type": "stream",
     "text": [
      "Training: 100%|██████████████████████████████████████████████████████████████████████| 200/200 [00:20<00:00,  9.74it/s]\n"
     ]
    },
    {
     "name": "stdout",
     "output_type": "stream",
     "text": [
      "Average loss: 0.04086\n",
      "val loss: 0.0434\n",
      "\n"
     ]
    },
    {
     "name": "stderr",
     "output_type": "stream",
     "text": [
      "Training: 100%|██████████████████████████████████████████████████████████████████████| 200/200 [00:20<00:00,  9.73it/s]\n"
     ]
    },
    {
     "name": "stdout",
     "output_type": "stream",
     "text": [
      "Average loss: 0.03959\n",
      "val loss: 0.03759\n",
      "\n"
     ]
    },
    {
     "name": "stderr",
     "output_type": "stream",
     "text": [
      "Training: 100%|██████████████████████████████████████████████████████████████████████| 200/200 [00:20<00:00,  9.60it/s]\n"
     ]
    },
    {
     "name": "stdout",
     "output_type": "stream",
     "text": [
      "Average loss: 0.03812\n",
      "val loss: 0.03661\n",
      "\n"
     ]
    },
    {
     "name": "stderr",
     "output_type": "stream",
     "text": [
      "Training: 100%|██████████████████████████████████████████████████████████████████████| 200/200 [00:19<00:00, 10.09it/s]\n"
     ]
    },
    {
     "name": "stdout",
     "output_type": "stream",
     "text": [
      "Average loss: 0.03733\n",
      "val loss: 0.03593\n",
      "\n"
     ]
    },
    {
     "name": "stderr",
     "output_type": "stream",
     "text": [
      "Training: 100%|██████████████████████████████████████████████████████████████████████| 200/200 [00:21<00:00,  9.43it/s]\n"
     ]
    },
    {
     "name": "stdout",
     "output_type": "stream",
     "text": [
      "Average loss: 0.03589\n",
      "val loss: 0.03632\n",
      "\n"
     ]
    },
    {
     "name": "stderr",
     "output_type": "stream",
     "text": [
      "Training: 100%|██████████████████████████████████████████████████████████████████████| 200/200 [00:20<00:00,  9.85it/s]\n"
     ]
    },
    {
     "name": "stdout",
     "output_type": "stream",
     "text": [
      "Average loss: 0.03535\n",
      "val loss: 0.03489\n",
      "\n"
     ]
    },
    {
     "name": "stderr",
     "output_type": "stream",
     "text": [
      "Training: 100%|██████████████████████████████████████████████████████████████████████| 200/200 [00:21<00:00,  9.12it/s]\n"
     ]
    },
    {
     "name": "stdout",
     "output_type": "stream",
     "text": [
      "Average loss: 0.03346\n",
      "val loss: 0.02976\n",
      "\n"
     ]
    },
    {
     "name": "stderr",
     "output_type": "stream",
     "text": [
      "Training: 100%|██████████████████████████████████████████████████████████████████████| 200/200 [00:21<00:00,  9.18it/s]\n"
     ]
    },
    {
     "name": "stdout",
     "output_type": "stream",
     "text": [
      "Average loss: 0.03272\n",
      "val loss: 0.02983\n",
      "\n"
     ]
    },
    {
     "name": "stderr",
     "output_type": "stream",
     "text": [
      "Training: 100%|██████████████████████████████████████████████████████████████████████| 200/200 [00:21<00:00,  9.12it/s]\n"
     ]
    },
    {
     "name": "stdout",
     "output_type": "stream",
     "text": [
      "Average loss: 0.03221\n",
      "val loss: 0.0329\n",
      "\n",
      "test loss:0.0332\n"
     ]
    }
   ],
   "source": [
    "optimizer = torch.optim.SGD(interaction_network.parameters(), lr=0.05, weight_decay=1e-3)\n",
    "criterion = nn.L1Loss()\n",
    "criterion.to(device=device)\n",
    "\n",
    "train_loss_graph, val_loss_graph = list(), list()\n",
    "for epoch in range(10):\n",
    "    train_loss, val_loss = list(), list()\n",
    "    \n",
    "    interaction_network = interaction_network.train()\n",
    "    for x_train, y_train in tqdm(trainLoader, desc=\"Training\"):\n",
    "        optimizer.zero_grad()\n",
    "        pred_p_t1, _ = interaction_network(x_train, 0.5)\n",
    "        pred_p_t2, _ = interaction_network(x_train, 1.0)\n",
    "        pred_p_t3, _ = interaction_network(x_train, 1.5)\n",
    "        \n",
    "#         pred_p_t2, pred_v_t2 = interaction_network(torch.dstack((pred_p_t1, pred_v_t1, x_train[:, :, -1])), 0.5)\n",
    "#         pred_p_t3, _ = interaction_network(torch.dstack((pred_p_t2, pred_v_t2, x_train[:, :, -1])), 0.5)\n",
    "        \n",
    "        y_pred = torch.dstack((pred_p_t1, pred_p_t2, pred_p_t3))\n",
    "        loss = criterion(y_pred, y_train)\n",
    "\n",
    "        loss.backward()\n",
    "        optimizer.step()\n",
    "        \n",
    "        train_loss.append(loss.item() / 10)\n",
    "\n",
    "    train_loss_graph.append(sum(train_loss) / len(trainLoader))\n",
    "    \n",
    "    interaction_network = interaction_network.eval()\n",
    "    for x_val, y_val in validationLoader:\n",
    "        optimizer.zero_grad()\n",
    "        pred_p_t1, pred_v_t1 = interaction_network(x_val, 0.5)\n",
    "        pred_p_t2, pred_v_t2 = interaction_network(x_val, 1.0)\n",
    "        pred_p_t3, _ = interaction_network(x_val, 1.5)\n",
    "        \n",
    "#         pred_p_t2, pred_v_t2 = interaction_network(torch.dstack((pred_p_t1, pred_v_t1, x_val[:, :, -1])), 0.5)\n",
    "#         pred_p_t3, _ = interaction_network(torch.dstack((pred_p_t2, pred_v_t2, x_val[:, :, -1])), 0.5)\n",
    "        \n",
    "        y_pred = torch.dstack((pred_p_t1, pred_p_t2, pred_p_t3))\n",
    "        loss = criterion(y_pred, y_val)\n",
    "        \n",
    "        val_loss.append(loss.item() / 10)\n",
    "    \n",
    "    val_loss_graph.append(sum(val_loss) / len(validationLoader))\n",
    "    \n",
    "    #evaluation(interaction_network,validationLoader,\"validation\")\n",
    "        \n",
    "    print(f'Average loss: {round(train_loss_graph[-1],5)}')\n",
    "    print(f'val loss: {round(val_loss_graph[-1],5)}\\n')\n",
    "\n",
    "test_loss = list()\n",
    "interaction_network = interaction_network.eval()\n",
    "for x_test, y_test in testLoader:\n",
    "    optimizer.zero_grad()\n",
    "    pred_p_t1, pred_v_t1 = interaction_network(x_test, 0.5)\n",
    "    pred_p_t2, pred_v_t2 = interaction_network(x_test, 1.0)\n",
    "    pred_p_t3, _ = interaction_network(x_test, 1.5)\n",
    "    \n",
    "    \n",
    "#     pred_p_t2, pred_v_t2 = interaction_network(torch.dstack((pred_p_t1, pred_v_t1, x_test[:, :, -1])), 0.5)\n",
    "#     pred_p_t3, _ = interaction_network(torch.dstack((pred_p_t2, pred_v_t2, x_test[:, :, -1])), 0.5)\n",
    "        \n",
    "    y_pred = torch.dstack((pred_p_t1, pred_p_t2, pred_p_t3))\n",
    "    loss = criterion(y_pred, y_test)\n",
    "        \n",
    "    test_loss.append(loss.item() / 10)\n",
    "    \n",
    "print(f\"test loss:{round(sum(test_loss) / len(testLoader),5)}\")"
   ]
  },
  {
   "cell_type": "code",
   "execution_count": 89,
   "id": "rnAe3_nXllE2",
   "metadata": {
    "colab": {
     "base_uri": "https://localhost:8080/"
    },
    "id": "rnAe3_nXllE2",
    "outputId": "c0b3f96c-32af-4fb0-f66d-26d454d7ed07"
   },
   "outputs": [
    {
     "name": "stdout",
     "output_type": "stream",
     "text": [
      "Average loss in totall: 0.03268\n",
      "Average loss in training at time= 0.5: 0.02177\n",
      "Average loss in training at time= 1: 0.03224\n",
      "Average loss in training at time= 1.5: 0.04403\n",
      "\n",
      "Average loss in totall: 0.0329\n",
      "Average loss in validation at time= 0.5: 0.02197\n",
      "Average loss in validation at time= 1: 0.03213\n",
      "Average loss in validation at time= 1.5: 0.0446\n",
      "\n",
      "Average loss in totall: 0.0332\n",
      "Average loss in testing at time= 0.5: 0.02205\n",
      "Average loss in testing at time= 1: 0.03273\n",
      "Average loss in testing at time= 1.5: 0.04481\n",
      "\n"
     ]
    }
   ],
   "source": [
    "evaluation(interaction_network,trainLoader,\"training\")\n",
    "evaluation(interaction_network,validationLoader,\"validation\")\n",
    "evaluation(interaction_network,testLoader,\"testing\")"
   ]
  },
  {
   "cell_type": "code",
   "execution_count": 90,
   "id": "3f76d139",
   "metadata": {},
   "outputs": [],
   "source": [
    "def experiment(model, test_loader, klass):\n",
    "    model = model.eval()\n",
    "    loss_t1, loss_t2, loss_t3, loss_tot = list(), list(), list(), list()\n",
    "    pred_positions = list()\n",
    "\n",
    "    with torch.no_grad():\n",
    "        x, y = next(iter(test_loader))\n",
    "        \n",
    "#         pred_p, pred_v = model(x, 0.01)\n",
    "#         pred_positions.append(pred_p)\n",
    "\n",
    "        for i in range(1, 151):\n",
    "            pred_p, pred_v = model(x, i/100)\n",
    "#             pred_p, pred_v = model(torch.dstack((pred_p, pred_v, x[:, :, -1])), 0.01)\n",
    "            pred_positions.append(pred_p)\n",
    "        \n",
    "        loss1 = criterion(pred_positions[49], y[:,:,0:2])\n",
    "        loss2 = criterion(pred_positions[99], y[:,:,2:4])\n",
    "        loss3 = criterion(pred_positions[-1], y[:,:,4:6])\n",
    "\n",
    "        loss_t1.append(loss1.item() / 10)\n",
    "        loss_t2.append(loss2.item() / 10)\n",
    "        loss_t3.append(loss3.item() / 10)\n",
    "\n",
    "        y_pred = torch.dstack((pred_positions[49], pred_positions[99], pred_positions[-1]))\n",
    "        loss = criterion(y_pred, y)\n",
    "        loss_tot.append(loss.item() / 10)\n",
    "\n",
    "    print(f'Average loss in totall: {round(sum(loss_tot),5)}')\n",
    "    print(f'Average loss in {klass} at time= 0.5: {round(sum(loss_t1),5)}')\n",
    "    print(f'Average loss in {klass} at time= 1: {round(sum(loss_t2),5)}')\n",
    "    print(f'Average loss in {klass} at time= 1.5: {round(sum(loss_t3),5)}\\n')\n",
    "    \n",
    "    return pred_positions, x, y"
   ]
  },
  {
   "cell_type": "code",
   "execution_count": 91,
   "id": "55040227",
   "metadata": {},
   "outputs": [
    {
     "name": "stdout",
     "output_type": "stream",
     "text": [
      "Average loss in totall: 0.03329\n",
      "Average loss in testing at time= 0.5: 0.02272\n",
      "Average loss in testing at time= 1: 0.03251\n",
      "Average loss in testing at time= 1.5: 0.04466\n",
      "\n"
     ]
    }
   ],
   "source": [
    "positions, data, y = experiment(interaction_network, testLoader, \"testing\")"
   ]
  },
  {
   "cell_type": "code",
   "execution_count": 92,
   "id": "10c0d467",
   "metadata": {},
   "outputs": [],
   "source": [
    "unique_pos = list()\n",
    "for stamp in positions:\n",
    "    unique_pos.append(stamp[0].to(device=\"cpu\"))\n",
    "    \n",
    "positions = unique_pos\n",
    "\n",
    "exp_x, exp_y = list(), list()\n",
    "\n",
    "for frame in positions:\n",
    "    exp_x.append(frame[:, 0])\n",
    "    exp_y.append(frame[:, 1])"
   ]
  },
  {
   "cell_type": "code",
   "execution_count": 94,
   "id": "c131d9f7",
   "metadata": {},
   "outputs": [
    {
     "name": "stdout",
     "output_type": "stream",
     "text": [
      "tensor([ 5.3502, -2.7894,  0.1275,  1.0492, -1.7381]) tensor([-1.4908, -1.0296, -3.4578,  1.3970,  2.1778])\n",
      "tensor([ 5.3555, -2.7957,  0.1266,  1.0502, -1.7428]) tensor([-1.4919, -1.0315, -3.4620,  1.3981,  2.1794])\n",
      "tensor([ 5.3619, -2.8016,  0.1259,  1.0509, -1.7477]) tensor([-1.4938, -1.0327, -3.4654,  1.3995,  2.1815])\n",
      "tensor([ 5.3671, -2.8076,  0.1250,  1.0519, -1.7518]) tensor([-1.4944, -1.0346, -3.4697,  1.4005,  2.1831])\n",
      "tensor([ 5.3728, -2.8138,  0.1255,  1.0524, -1.7568]) tensor([-1.4957, -1.0354, -3.4745,  1.4019,  2.1846])\n",
      "tensor([ 5.3780, -2.8199,  0.1244,  1.0544, -1.7610]) tensor([-1.4962, -1.0357, -3.4781,  1.4036,  2.1871])\n",
      "tensor([ 5.3849, -2.8263,  0.1234,  1.0549, -1.7656]) tensor([-1.4962, -1.0377, -3.4825,  1.4050,  2.1887])\n",
      "tensor([ 5.3920, -2.8328,  0.1223,  1.0558, -1.7709]) tensor([-1.4980, -1.0387, -3.4863,  1.4065,  2.1911])\n",
      "tensor([ 5.3975, -2.8383,  0.1213,  1.0568, -1.7755]) tensor([-1.4988, -1.0395, -3.4904,  1.4082,  2.1932])\n",
      "tensor([ 5.4024, -2.8454,  0.1205,  1.0583, -1.7797]) tensor([-1.4997, -1.0418, -3.4945,  1.4097,  2.1953])\n",
      "tensor([ 5.4084, -2.8515,  0.1191,  1.0593, -1.7845]) tensor([-1.5009, -1.0432, -3.4996,  1.4112,  2.1972])\n",
      "tensor([ 5.4139, -2.8574,  0.1181,  1.0597, -1.7888]) tensor([-1.5014, -1.0447, -3.5039,  1.4127,  2.1986])\n",
      "tensor([ 5.4217, -2.8636,  0.1174,  1.0615, -1.7941]) tensor([-1.5017, -1.0460, -3.5089,  1.4142,  2.2019])\n",
      "tensor([ 5.4284, -2.8697,  0.1158,  1.0624, -1.7987]) tensor([-1.5050, -1.0463, -3.5148,  1.4161,  2.2039])\n",
      "tensor([ 5.4356, -2.8768,  0.1146,  1.0632, -1.8036]) tensor([-1.5048, -1.0483, -3.5205,  1.4174,  2.2061])\n",
      "tensor([ 5.4424, -2.8827,  0.1136,  1.0641, -1.8092]) tensor([-1.5067, -1.0498, -3.5250,  1.4192,  2.2088])\n",
      "tensor([ 5.4477, -2.8884,  0.1126,  1.0655, -1.8135]) tensor([-1.5075, -1.0509, -3.5294,  1.4207,  2.2119])\n",
      "tensor([ 5.4551, -2.8958,  0.1117,  1.0661, -1.8170]) tensor([-1.5073, -1.0522, -3.5355,  1.4223,  2.2149])\n",
      "tensor([ 5.4614, -2.9023,  0.1109,  1.0672, -1.8215]) tensor([-1.5094, -1.0539, -3.5406,  1.4239,  2.2172])\n",
      "tensor([ 5.4691, -2.9080,  0.1101,  1.0678, -1.8253]) tensor([-1.5096, -1.0553, -3.5469,  1.4256,  2.2197])\n",
      "tensor([ 5.4746, -2.9151,  0.1099,  1.0696, -1.8295]) tensor([-1.5104, -1.0563, -3.5537,  1.4274,  2.2233])\n",
      "tensor([ 5.4832, -2.9210,  0.1086,  1.0704, -1.8350]) tensor([-1.5127, -1.0578, -3.5593,  1.4288,  2.2268])\n",
      "tensor([ 5.4888, -2.9275,  0.1081,  1.0710, -1.8391]) tensor([-1.5137, -1.0593, -3.5659,  1.4303,  2.2297])\n",
      "tensor([ 5.4952, -2.9343,  0.1070,  1.0728, -1.8430]) tensor([-1.5150, -1.0599, -3.5710,  1.4324,  2.2329])\n",
      "tensor([ 5.5014, -2.9407,  0.1062,  1.0733, -1.8468]) tensor([-1.5148, -1.0617, -3.5779,  1.4339,  2.2363])\n",
      "tensor([ 5.5086, -2.9460,  0.1058,  1.0741, -1.8526]) tensor([-1.5166, -1.0630, -3.5840,  1.4356,  2.2404])\n",
      "tensor([ 5.5143, -2.9530,  0.1052,  1.0758, -1.8564]) tensor([-1.5176, -1.0641, -3.5909,  1.4375,  2.2431])\n",
      "tensor([ 5.5217, -2.9604,  0.1044,  1.0765, -1.8603]) tensor([-1.5187, -1.0656, -3.5982,  1.4394,  2.2467])\n",
      "tensor([ 5.5287, -2.9667,  0.1037,  1.0780, -1.8640]) tensor([-1.5211, -1.0671, -3.6041,  1.4413,  2.2502])\n",
      "tensor([ 5.5371, -2.9722,  0.1033,  1.0801, -1.8696]) tensor([-1.5238, -1.0679, -3.6110,  1.4443,  2.2542])\n",
      "tensor([ 5.5431, -2.9795,  0.1024,  1.0816, -1.8732]) tensor([-1.5242, -1.0693, -3.6187,  1.4465,  2.2578])\n",
      "tensor([ 5.5516, -2.9857,  0.1021,  1.0833, -1.8772]) tensor([-1.5266, -1.0713, -3.6252,  1.4488,  2.2608])\n",
      "tensor([ 5.5617, -2.9929,  0.1010,  1.0847, -1.8810]) tensor([-1.5289, -1.0719, -3.6321,  1.4510,  2.2640])\n",
      "tensor([ 5.5738, -2.9987,  0.0997,  1.0866, -1.8868]) tensor([-1.5318, -1.0738, -3.6388,  1.4534,  2.2685])\n",
      "tensor([ 5.5838, -3.0050,  0.0989,  1.0882, -1.8903]) tensor([-1.5330, -1.0743, -3.6452,  1.4560,  2.2724])\n",
      "tensor([ 5.5939, -3.0123,  0.0988,  1.0907, -1.8959]) tensor([-1.5339, -1.0754, -3.6522,  1.4586,  2.2767])\n",
      "tensor([ 5.6065, -3.0188,  0.0982,  1.0924, -1.8991]) tensor([-1.5345, -1.0773, -3.6599,  1.4613,  2.2811])\n",
      "tensor([ 5.6185, -3.0253,  0.0974,  1.0938, -1.9029]) tensor([-1.5372, -1.0777, -3.6663,  1.4640,  2.2852])\n",
      "tensor([ 5.6288, -3.0315,  0.0965,  1.0957, -1.9080]) tensor([-1.5384, -1.0797, -3.6735,  1.4663,  2.2898])\n",
      "tensor([ 5.6420, -3.0390,  0.0956,  1.0972, -1.9116]) tensor([-1.5404, -1.0810, -3.6797,  1.4689,  2.2939])\n",
      "tensor([ 5.6539, -3.0448,  0.0944,  1.0999, -1.9166]) tensor([-1.5436, -1.0826, -3.6864,  1.4718,  2.2996])\n",
      "tensor([ 5.6676, -3.0515,  0.0941,  1.1013, -1.9204]) tensor([-1.5448, -1.0839, -3.6948,  1.4746,  2.3036])\n",
      "tensor([ 5.6777, -3.0592,  0.0929,  1.1032, -1.9238]) tensor([-1.5455, -1.0845, -3.7018,  1.4768,  2.3075])\n",
      "tensor([ 5.6916, -3.0662,  0.0919,  1.1047, -1.9289]) tensor([-1.5489, -1.0856, -3.7081,  1.4794,  2.3123])\n",
      "tensor([ 5.7032, -3.0727,  0.0911,  1.1072, -1.9326]) tensor([-1.5511, -1.0874, -3.7140,  1.4828,  2.3166])\n",
      "tensor([ 5.7142, -3.0798,  0.0915,  1.1090, -1.9375]) tensor([-1.5515, -1.0888, -3.7221,  1.4850,  2.3220])\n",
      "tensor([ 5.7279, -3.0871,  0.0908,  1.1104, -1.9413]) tensor([-1.5558, -1.0904, -3.7289,  1.4879,  2.3261])\n",
      "tensor([ 5.7392, -3.0938,  0.0892,  1.1122, -1.9449]) tensor([-1.5563, -1.0907, -3.7360,  1.4903,  2.3305])\n",
      "tensor([ 5.7526, -3.0996,  0.0890,  1.1148, -1.9499]) tensor([-1.5604, -1.0930, -3.7428,  1.4928,  2.3349])\n",
      "tensor([ 5.7647, -3.1066,  0.0879,  1.1164, -1.9536]) tensor([-1.5612, -1.0934, -3.7492,  1.4957,  2.3387])\n",
      "tensor([ 5.7772, -3.1137,  0.0869,  1.1179, -1.9586]) tensor([-1.5651, -1.0950, -3.7581,  1.4980,  2.3445])\n",
      "tensor([ 5.7899, -3.1206,  0.0857,  1.1196, -1.9623]) tensor([-1.5658, -1.0960, -3.7654,  1.5009,  2.3489])\n",
      "tensor([ 5.8023, -3.1268,  0.0848,  1.1212, -1.9677]) tensor([-1.5682, -1.0977, -3.7732,  1.5036,  2.3541])\n",
      "tensor([ 5.8139, -3.1341,  0.0841,  1.1236, -1.9708]) tensor([-1.5702, -1.0987, -3.7812,  1.5063,  2.3587])\n",
      "tensor([ 5.8281, -3.1409,  0.0842,  1.1252, -1.9758]) tensor([-1.5729, -1.1003, -3.7877,  1.5092,  2.3651])\n",
      "tensor([ 5.8397, -3.1473,  0.0824,  1.1269, -1.9789]) tensor([-1.5749, -1.1014, -3.7966,  1.5116,  2.3697])\n",
      "tensor([ 5.8523, -3.1543,  0.0824,  1.1281, -1.9840]) tensor([-1.5766, -1.1025, -3.8035,  1.5141,  2.3762])\n",
      "tensor([ 5.8669, -3.1618,  0.0807,  1.1299, -1.9884]) tensor([-1.5805, -1.1040, -3.8103,  1.5171,  2.3826])\n",
      "tensor([ 5.8777, -3.1691,  0.0810,  1.1310, -1.9937]) tensor([-1.5817, -1.1049, -3.8179,  1.5200,  2.3889])\n",
      "tensor([ 5.8926, -3.1767,  0.0787,  1.1325, -1.9965]) tensor([-1.5848, -1.1065, -3.8263,  1.5230,  2.3943])\n",
      "tensor([ 5.9056, -3.1827,  0.0790,  1.1341, -2.0012]) tensor([-1.5869, -1.1079, -3.8355,  1.5258,  2.4011])\n",
      "tensor([ 5.9183, -3.1897,  0.0766,  1.1352, -2.0064]) tensor([-1.5917, -1.1094, -3.8438,  1.5289,  2.4073])\n",
      "tensor([ 5.9318, -3.1976,  0.0743,  1.1364, -2.0095]) tensor([-1.5939, -1.1106, -3.8548,  1.5318,  2.4126])\n",
      "tensor([ 5.9461, -3.2055,  0.0731,  1.1378, -2.0143]) tensor([-1.5949, -1.1112, -3.8634,  1.5348,  2.4195])\n",
      "tensor([ 5.9589, -3.2134,  0.0713,  1.1394, -2.0192]) tensor([-1.5971, -1.1130, -3.8739,  1.5375,  2.4256])\n",
      "tensor([ 5.9726, -3.2199,  0.0704,  1.1405, -2.0220]) tensor([-1.5991, -1.1135, -3.8834,  1.5406,  2.4312])\n",
      "tensor([ 5.9851, -3.2272,  0.0706,  1.1421, -2.0272]) tensor([-1.6023, -1.1142, -3.8918,  1.5437,  2.4382])\n",
      "tensor([ 5.9996, -3.2355,  0.0696,  1.1435, -2.0312]) tensor([-1.6051, -1.1167, -3.9015,  1.5465,  2.4445])\n",
      "tensor([ 6.0128, -3.2428,  0.0673,  1.1446, -2.0357]) tensor([-1.6083, -1.1178, -3.9114,  1.5494,  2.4520])\n",
      "tensor([ 6.0263, -3.2505,  0.0669,  1.1462, -2.0393]) tensor([-1.6103, -1.1193, -3.9210,  1.5523,  2.4578])\n",
      "tensor([ 6.0426, -3.2593,  0.0656,  1.1475, -2.0436]) tensor([-1.6145, -1.1199, -3.9289,  1.5552,  2.4644])\n",
      "tensor([ 6.0540, -3.2665,  0.0653,  1.1488, -2.0486]) tensor([-1.6165, -1.1215, -3.9389,  1.5581,  2.4710])\n",
      "tensor([ 6.0682, -3.2738,  0.0645,  1.1505, -2.0515]) tensor([-1.6182, -1.1229, -3.9495,  1.5611,  2.4768])\n",
      "tensor([ 6.0840, -3.2819,  0.0627,  1.1515, -2.0561]) tensor([-1.6230, -1.1222, -3.9584,  1.5644,  2.4833])\n",
      "tensor([ 6.0974, -3.2896,  0.0617,  1.1529, -2.0611]) tensor([-1.6239, -1.1234, -3.9690,  1.5671,  2.4893])\n",
      "tensor([ 6.1121, -3.2981,  0.0620,  1.1541, -2.0659]) tensor([-1.6272, -1.1237, -3.9759,  1.5706,  2.4956])\n",
      "tensor([ 6.1253, -3.3051,  0.0614,  1.1565, -2.0709]) tensor([-1.6291, -1.1242, -3.9866,  1.5737,  2.5027])\n",
      "tensor([ 6.1392, -3.3135,  0.0601,  1.1581, -2.0759]) tensor([-1.6313, -1.1243, -3.9960,  1.5765,  2.5081])\n",
      "tensor([ 6.1545, -3.3216,  0.0602,  1.1592, -2.0788]) tensor([-1.6355, -1.1258, -4.0070,  1.5792,  2.5141])\n",
      "tensor([ 6.1682, -3.3293,  0.0605,  1.1608, -2.0838]) tensor([-1.6379, -1.1265, -4.0161,  1.5823,  2.5199])\n",
      "tensor([ 6.1805, -3.3374,  0.0594,  1.1621, -2.0884]) tensor([-1.6436, -1.1266, -4.0247,  1.5856,  2.5269])\n",
      "tensor([ 6.1942, -3.3440,  0.0590,  1.1633, -2.0934]) tensor([-1.6453, -1.1277, -4.0349,  1.5884,  2.5327])\n",
      "tensor([ 6.2083, -3.3527,  0.0592,  1.1644, -2.0988]) tensor([-1.6493, -1.1279, -4.0458,  1.5911,  2.5393])\n",
      "tensor([ 6.2214, -3.3605,  0.0578,  1.1657, -2.1012]) tensor([-1.6509, -1.1293, -4.0547,  1.5942,  2.5447])\n",
      "tensor([ 6.2378, -3.3679,  0.0573,  1.1680, -2.1064]) tensor([-1.6556, -1.1288, -4.0656,  1.5980,  2.5512])\n",
      "tensor([ 6.2515, -3.3766,  0.0578,  1.1695, -2.1112]) tensor([-1.6578, -1.1296, -4.0738,  1.6009,  2.5574])\n",
      "tensor([ 6.2670, -3.3837,  0.0576,  1.1706, -2.1158]) tensor([-1.6614, -1.1305, -4.0837,  1.6037,  2.5639])\n",
      "tensor([ 6.2808, -3.3921,  0.0576,  1.1720, -2.1188]) tensor([-1.6648, -1.1307, -4.0945,  1.6074,  2.5697])\n",
      "tensor([ 6.2959, -3.4006,  0.0580,  1.1732, -2.1235]) tensor([-1.6673, -1.1321, -4.1013,  1.6101,  2.5758])\n",
      "tensor([ 6.3095, -3.4087,  0.0580,  1.1746, -2.1285]) tensor([-1.6710, -1.1321, -4.1124,  1.6133,  2.5827])\n",
      "tensor([ 6.3240, -3.4159,  0.0563,  1.1767, -2.1337]) tensor([-1.6744, -1.1332, -4.1213,  1.6168,  2.5892])\n",
      "tensor([ 6.3398, -3.4240,  0.0572,  1.1783, -2.1376]) tensor([-1.6800, -1.1333, -4.1299,  1.6197,  2.5960])\n",
      "tensor([ 6.3531, -3.4319,  0.0569,  1.1794, -2.1428]) tensor([-1.6816, -1.1344, -4.1391,  1.6233,  2.6024])\n",
      "tensor([ 6.3684, -3.4396,  0.0565,  1.1814, -2.1475]) tensor([-1.6858, -1.1349, -4.1502,  1.6263,  2.6093])\n",
      "tensor([ 6.3799, -3.4482,  0.0563,  1.1829, -2.1519]) tensor([-1.6915, -1.1360, -4.1574,  1.6300,  2.6166])\n",
      "tensor([ 6.3949, -3.4559,  0.0561,  1.1837, -2.1547]) tensor([-1.6953, -1.1366, -4.1677,  1.6335,  2.6223])\n",
      "tensor([ 6.4073, -3.4644,  0.0552,  1.1856, -2.1595]) tensor([-1.6972, -1.1370, -4.1771,  1.6374,  2.6290])\n",
      "tensor([ 6.4227, -3.4725,  0.0568,  1.1866, -2.1643]) tensor([-1.7009, -1.1376, -4.1853,  1.6404,  2.6362])\n",
      "tensor([ 6.4375, -3.4800,  0.0567,  1.1875, -2.1686]) tensor([-1.7053, -1.1388, -4.1967,  1.6442,  2.6435])\n",
      "tensor([ 6.4507, -3.4869,  0.0556,  1.1882, -2.1731]) tensor([-1.7084, -1.1393, -4.2055,  1.6479,  2.6503])\n",
      "tensor([ 6.4674, -3.4953,  0.0561,  1.1902, -2.1779]) tensor([-1.7118, -1.1404, -4.2163,  1.6516,  2.6574])\n",
      "tensor([ 6.4819, -3.5021,  0.0563,  1.1909, -2.1808]) tensor([-1.7153, -1.1406, -4.2235,  1.6550,  2.6631])\n",
      "tensor([ 6.4961, -3.5103,  0.0561,  1.1918, -2.1852]) tensor([-1.7193, -1.1414, -4.2347,  1.6587,  2.6702])\n",
      "tensor([ 6.5116, -3.5175,  0.0571,  1.1937, -2.1905]) tensor([-1.7231, -1.1418, -4.2442,  1.6625,  2.6771])\n",
      "tensor([ 6.5254, -3.5261,  0.0559,  1.1946, -2.1942]) tensor([-1.7266, -1.1427, -4.2535,  1.6663,  2.6843])\n",
      "tensor([ 6.5401, -3.5332,  0.0566,  1.1954, -2.1993]) tensor([-1.7305, -1.1437, -4.2633,  1.6695,  2.6908])\n",
      "tensor([ 6.5546, -3.5413,  0.0575,  1.1969, -2.2018]) tensor([-1.7342, -1.1442, -4.2735,  1.6732,  2.6973])\n",
      "tensor([ 6.5700, -3.5494,  0.0570,  1.1980, -2.2070]) tensor([-1.7382, -1.1440, -4.2820,  1.6769,  2.7040])\n",
      "tensor([ 6.5826, -3.5574,  0.0563,  1.1987, -2.2114]) tensor([-1.7404, -1.1454, -4.2928,  1.6799,  2.7110])\n",
      "tensor([ 6.5971, -3.5644,  0.0571,  1.2006, -2.2151]) tensor([-1.7436, -1.1457, -4.3002,  1.6842,  2.7185])\n",
      "tensor([ 6.6130, -3.5723,  0.0577,  1.2016, -2.2206]) tensor([-1.7473, -1.1468, -4.3113,  1.6879,  2.7255])\n",
      "tensor([ 6.6279, -3.5797,  0.0573,  1.2023, -2.2233]) tensor([-1.7517, -1.1472, -4.3213,  1.6911,  2.7322])\n",
      "tensor([ 6.6424, -3.5878,  0.0567,  1.2033, -2.2278]) tensor([-1.7559, -1.1483, -4.3311,  1.6946,  2.7384])\n",
      "tensor([ 6.6565, -3.5952,  0.0572,  1.2048, -2.2323]) tensor([-1.7591, -1.1490, -4.3415,  1.6988,  2.7460])\n",
      "tensor([ 6.6723, -3.6031,  0.0578,  1.2057, -2.2363]) tensor([-1.7636, -1.1494, -4.3502,  1.7023,  2.7534])\n",
      "tensor([ 6.6866, -3.6099,  0.0585,  1.2063, -2.2417]) tensor([-1.7669, -1.1497, -4.3610,  1.7059,  2.7597])\n",
      "tensor([ 6.6998, -3.6184,  0.0587,  1.2079, -2.2448]) tensor([-1.7702, -1.1499, -4.3719,  1.7102,  2.7657])\n",
      "tensor([ 6.7166, -3.6253,  0.0579,  1.2086, -2.2499]) tensor([-1.7738, -1.1512, -4.3804,  1.7140,  2.7722])\n",
      "tensor([ 6.7275, -3.6335,  0.0581,  1.2089, -2.2549]) tensor([-1.7801, -1.1521, -4.3916,  1.7179,  2.7788])\n",
      "tensor([ 6.7420, -3.6415,  0.0580,  1.2104, -2.2595]) tensor([-1.7832, -1.1542, -4.4011,  1.7219,  2.7856])\n",
      "tensor([ 6.7561, -3.6468,  0.0592,  1.2106, -2.2646]) tensor([-1.7874, -1.1594, -4.4116,  1.7258,  2.7920])\n",
      "tensor([ 6.7702, -3.6534,  0.0582,  1.2111, -2.2680]) tensor([-1.7897, -1.1641, -4.4206,  1.7299,  2.7976])\n",
      "tensor([ 6.7863, -3.6601,  0.0592,  1.2124, -2.2727]) tensor([-1.7936, -1.1693, -4.4305,  1.7339,  2.8048])\n",
      "tensor([ 6.8014, -3.6650,  0.0593,  1.2130, -2.2779]) tensor([-1.7977, -1.1738, -4.4422,  1.7382,  2.8120])\n",
      "tensor([ 6.8152, -3.6713,  0.0600,  1.2132, -2.2813]) tensor([-1.8007, -1.1790, -4.4524,  1.7416,  2.8198])\n",
      "tensor([ 6.8306, -3.6783,  0.0593,  1.2150, -2.2849]) tensor([-1.8054, -1.1845, -4.4632,  1.7460,  2.8268])\n",
      "tensor([ 6.8446, -3.6845,  0.0591,  1.2152, -2.2864]) tensor([-1.8089, -1.1888, -4.4725,  1.7499,  2.8338])\n",
      "tensor([ 6.8587, -3.6905,  0.0588,  1.2157, -2.2901]) tensor([-1.8124, -1.1943, -4.4843,  1.7542,  2.8412])\n",
      "tensor([ 6.8742, -3.6967,  0.0595,  1.2169, -2.2939]) tensor([-1.8171, -1.1986, -4.4936,  1.7581,  2.8487])\n",
      "tensor([ 6.8893, -3.7026,  0.0589,  1.2174, -2.2972]) tensor([-1.8220, -1.2043, -4.5052,  1.7621,  2.8570])\n",
      "tensor([ 6.9042, -3.7091,  0.0591,  1.2179, -2.3006]) tensor([-1.8257, -1.2091, -4.5156,  1.7657,  2.8645])\n",
      "tensor([ 6.9189, -3.7151,  0.0588,  1.2193, -2.3027]) tensor([-1.8296, -1.2139, -4.5267,  1.7697,  2.8716])\n",
      "tensor([ 6.9311, -3.7207,  0.0584,  1.2196, -2.3062]) tensor([-1.8372, -1.2195, -4.5366,  1.7744,  2.8789])\n",
      "tensor([ 6.9458, -3.7262,  0.0590,  1.2202, -2.3116]) tensor([-1.8480, -1.2243, -4.5473,  1.7780,  2.8858])\n",
      "tensor([ 6.9549, -3.7330,  0.0582,  1.2203, -2.3176]) tensor([-1.8577, -1.2291, -4.5564,  1.7821,  2.8918])\n",
      "tensor([ 6.9695, -3.7376,  0.0587,  1.2218, -2.3228]) tensor([-1.8688, -1.2336, -4.5691,  1.7861,  2.8976])\n",
      "tensor([ 6.9817, -3.7442,  0.0578,  1.2219, -2.3271]) tensor([-1.8769, -1.2392, -4.5768,  1.7905,  2.9033])\n",
      "tensor([ 6.9963, -3.7499,  0.0577,  1.2224, -2.3333]) tensor([-1.8872, -1.2446, -4.5875,  1.7938,  2.9091])\n",
      "tensor([ 7.0111, -3.7554,  0.0577,  1.2229, -2.3396]) tensor([-1.8964, -1.2489, -4.5995,  1.7981,  2.9151])\n",
      "tensor([ 7.0221, -3.7615,  0.0577,  1.2240, -2.3453]) tensor([-1.9033, -1.2545, -4.6091,  1.8022,  2.9204])\n",
      "tensor([ 7.0326, -3.7663,  0.0579,  1.2243, -2.3512]) tensor([-1.9147, -1.2589, -4.6198,  1.8064,  2.9274])\n",
      "tensor([ 7.0475, -3.7727,  0.0578,  1.2248, -2.3558]) tensor([-1.9197, -1.2647, -4.6294,  1.8102,  2.9315])\n",
      "tensor([ 7.0625, -3.7789,  0.0572,  1.2254, -2.3618]) tensor([-1.9283, -1.2703, -4.6416,  1.8140,  2.9374])\n",
      "tensor([ 7.0755, -3.7848,  0.0575,  1.2266, -2.3676]) tensor([-1.9334, -1.2744, -4.6518,  1.8187,  2.9439])\n",
      "tensor([ 7.0906, -3.7904,  0.0572,  1.2269, -2.3735]) tensor([-1.9403, -1.2804, -4.6622,  1.8228,  2.9502])\n",
      "tensor([ 7.1053, -3.7966,  0.0573,  1.2273, -2.3801]) tensor([-1.9468, -1.2860, -4.6758,  1.8266,  2.9557])\n",
      "tensor([ 7.1161, -3.8025,  0.0574,  1.2281, -2.3838]) tensor([-1.9556, -1.2902, -4.6873,  1.8306,  2.9610])\n",
      "tensor([ 7.1287, -3.8081,  0.0583,  1.2288, -2.3900]) tensor([-1.9608, -1.2950, -4.6968,  1.8350,  2.9670])\n",
      "tensor([ 7.1439, -3.8135,  0.0571,  1.2290, -2.3962]) tensor([-1.9693, -1.3012, -4.7077,  1.8389,  2.9733])\n",
      "tensor([ 7.1538, -3.8199,  0.0573,  1.2304, -2.4019]) tensor([-1.9754, -1.3066, -4.7178,  1.8432,  2.9790])\n"
     ]
    }
   ],
   "source": [
    "for x_x, y_y in zip(exp_x, exp_y):\n",
    "    print(x_x, y_y)\n",
    "    "
   ]
  },
  {
   "cell_type": "code",
   "execution_count": 93,
   "id": "c6cee70f",
   "metadata": {},
   "outputs": [
    {
     "data": {
      "image/png": "[encoded data removed]",
      "text/plain": [
       "<Figure size 864x864 with 1 Axes>"
      ]
     },
     "metadata": {
      "needs_background": "light"
     },
     "output_type": "display_data"
    }
   ],
   "source": [
    "data = data[0].to(device=\"cpu\")\n",
    "y = y[0].to(device=\"cpu\")\n",
    "\n",
    "fig = plt.figure()\n",
    "axes = plt.gca()\n",
    "axes.set_xlim([-5., 5.])\n",
    "axes.set_ylim([-5., 5.])\n",
    "colors = ['red', 'blue', 'green', 'orange', 'brown']\n",
    "all_x, all_y = list(), list()\n",
    "\n",
    "for i in range(len(data)):\n",
    "    plt.plot(data[i][0], data[i][1], 'd', color=colors[i])\n",
    "    plt.plot(y[i][0], y[i][1], '*', color=colors[i])\n",
    "    plt.plot(y[i][2], y[i][3], 'p', color=colors[i])\n",
    "    plt.plot(y[i][4], y[i][5], 'x', color=colors[i])\n",
    "    plt.plot([data[i][0], data[i][0] + data[i][2]], [data[i][1], data[i][1] + data[i][3]], '--', color=colors[i])\n",
    "    \n",
    "    x_pos, y_pos = list(), list()\n",
    "    for x_x, y_y in zip(exp_x, exp_y):\n",
    "        x_pos.append(x_x[i])\n",
    "        y_pos.append(y_y[i])\n",
    "                    \n",
    "    all_x.append(x_pos)\n",
    "    all_y.append(y_pos)\n",
    "    plt.plot(x_pos, y_pos, color=colors[i])\n",
    "\n",
    "fig.set_size_inches(12, 12)\n",
    "plt.xlim(np.min(all_x)-1, np.max(all_x) +1)\n",
    "plt.ylim(np.min(all_y)-1, np.max(all_y) +1)\n",
    "plt.plot([], [], 'd', color='black', label='position at 0.0')\n",
    "plt.plot([], [], '*', color='black', label='position at 0.5')\n",
    "plt.plot([], [], 'p', color='black', label='position at 1.0')\n",
    "plt.plot([], [], 'x', color='black', label='position at 1.5')\n",
    "plt.plot([], [], '--', color='black', label='initial velocity \\ndirection and magnitude')\n",
    "plt.plot([], [], '2', color='black', label='prediction')\n",
    "plt.legend()\n",
    "\n",
    "plt.show()\n"
   ]
  },
  {
   "cell_type": "code",
   "execution_count": null,
   "id": "32aa1fa4",
   "metadata": {},
   "outputs": [],
   "source": []
  },
  {
   "cell_type": "code",
   "execution_count": 26,
   "id": "0a99a32b",
   "metadata": {
    "colab": {
     "base_uri": "https://localhost:8080/"
    },
    "id": "0a99a32b",
    "outputId": "db65dbb4-6097-4e57-c1d1-2dfa260da235"
   },
   "outputs": [
    {
     "name": "stdout",
     "output_type": "stream",
     "text": [
      "Baseline error should be 0: {'rms': 0.0}\n",
      "Error over time should increase (train).\n",
      "t = 0.5 {'rms': 0.24874936044216156}\n",
      "t = 1 {'rms': 0.5171805024147034}\n",
      "t = 1.5 {'rms': 0.7905893325805664}\n",
      "Error over time should increase (valid).\n",
      "t = 0.5 {'rms': 0.24874936044216156}\n",
      "t = 1 {'rms': 0.5171805024147034}\n",
      "t = 1.5 {'rms': 0.7905893325805664}\n",
      "Error over time should increase (test).\n",
      "t = 0.5 {'rms': 0.24874936044216156}\n",
      "t = 1 {'rms': 0.5171805024147034}\n",
      "t = 1.5 {'rms': 0.7905893325805664}\n"
     ]
    }
   ],
   "source": [
    "import torch.nn as nn\n",
    "\n",
    "# Evaluate the baseline model (what metrics? r2? rms?)\n",
    "def rms(p_pred, p_actual):\n",
    "    '''\n",
    "    Return the root mean squared distance between predicted locations and actual locations.\n",
    "    Where p_pred and p_actual are both (N x T x 2 x P) tensors.\n",
    "    '''\n",
    "    mse = nn.MSELoss()\n",
    "    return mse(p_pred, p_actual).sqrt().item()\n",
    "\n",
    "def baseline_evaluate(p, v, time):\n",
    "    '''\n",
    "    Evaluate the baseline \"model\" at given time in {0, 0.5, 1, 1.5}.\n",
    "    '''\n",
    "    p_pred = baseline_predict(p[:, :1, :, :], v, time)\n",
    "    idx = int(time / 0.5)\n",
    "    p_actual = p[:, idx:idx+1, :, :]\n",
    "    # Currently just rms, but we could add more evaluations\n",
    "    return {'rms': rms(p_pred, p_actual)}\n",
    "\n",
    "print('Baseline error should be 0:', baseline_evaluate(p_train, v_train, 0))\n",
    "\n",
    "# Print some more metrics\n",
    "for klass in ['train', 'valid', 'test']:\n",
    "    p_klass, v_klass = locals()[f'p_{klass}'], locals()[f'v_{klass}']\n",
    "    print(f'Error over time should increase ({klass}).')\n",
    "    for t in [0.5, 1, 1.5]:\n",
    "        print(f't = {t}', baseline_evaluate(p_train, v_train, t))"
   ]
  },
  {
   "cell_type": "code",
   "execution_count": 25,
   "id": "f02d1d3b",
   "metadata": {
    "colab": {
     "base_uri": "https://localhost:8080/",
     "height": 313
    },
    "id": "f02d1d3b",
    "outputId": "f9e027cb-3b5b-4a77-d9c0-c8ae3b2241db"
   },
   "outputs": [
    {
     "data": {
      "text/plain": [
       "Text(0, 0.5, 'loss value')"
      ]
     },
     "execution_count": 25,
     "metadata": {},
     "output_type": "execute_result"
    },
    {
     "data": {
      "image/png": "[encoded data removed]",
      "text/plain": [
       "<Figure size 432x288 with 1 Axes>"
      ]
     },
     "metadata": {
      "needs_background": "light"
     },
     "output_type": "display_data"
    }
   ],
   "source": [
    "import matplotlib.pyplot as plt\n",
    "\n",
    "plt.plot(train_loss_graph)\n",
    "plt.title(\"training loss\")\n",
    "plt.xlabel(\"epoch number\")\n",
    "plt.ylabel(\"loss value\")"
   ]
  },
  {
   "cell_type": "code",
   "execution_count": 26,
   "id": "73f2a2fb",
   "metadata": {
    "colab": {
     "base_uri": "https://localhost:8080/",
     "height": 313
    },
    "id": "73f2a2fb",
    "outputId": "b063d287-c484-48a0-f5fa-d39a0221143b"
   },
   "outputs": [
    {
     "data": {
      "text/plain": [
       "Text(0, 0.5, 'loss value')"
      ]
     },
     "execution_count": 26,
     "metadata": {},
     "output_type": "execute_result"
    },
    {
     "data": {
      "image/png": "[encoded data removed]",
      "text/plain": [
       "<Figure size 432x288 with 1 Axes>"
      ]
     },
     "metadata": {
      "needs_background": "light"
     },
     "output_type": "display_data"
    }
   ],
   "source": [
    "plt.plot(val_loss_graph)\n",
    "plt.title(\"validation loss\")\n",
    "plt.xlabel(\"epoch number\")\n",
    "plt.ylabel(\"loss value\")"
   ]
  },
  {
   "cell_type": "markdown",
   "id": "0ETuisK94rXp",
   "metadata": {
    "id": "0ETuisK94rXp"
   },
   "source": [
    "# RNN doesn't work below"
   ]
  },
  {
   "cell_type": "code",
   "execution_count": null,
   "id": "43x78wwXeekg",
   "metadata": {
    "id": "43x78wwXeekg"
   },
   "outputs": [],
   "source": [
    "# For sample i at time t:\n",
    "# p = p' + delta_t * (v' + a * delta_t)\n",
    "# trainLoader = DataLoader(myDataset(p_train, v_train, c_train), batch_size=10)\n",
    "# validationLoader = DataLoader(myDataset(p_valid, v_valid, c_valid), batch_size=10)\n",
    "# testLoader = DataLoader(myDataset(p_test, v_test, c_test), batch_size=10)\n",
    "# x = (p,v,c), y = (p_1,p_2,p_3)"
   ]
  },
  {
   "cell_type": "code",
   "execution_count": 70,
   "id": "Zr3PRSw4B0ao",
   "metadata": {
    "colab": {
     "base_uri": "https://localhost:8080/"
    },
    "id": "Zr3PRSw4B0ao",
    "outputId": "d122651d-d5b2-4361-cb4e-a909506e77ed"
   },
   "outputs": [
    {
     "data": {
      "text/plain": [
       "RNN(\n",
       "  (rnn): RNN(5, 10, num_layers=3, batch_first=True)\n",
       "  (out): Linear(in_features=10, out_features=1, bias=True)\n",
       ")"
      ]
     },
     "execution_count": 70,
     "metadata": {},
     "output_type": "execute_result"
    }
   ],
   "source": [
    "# RNN model\n",
    "\n",
    "input_size = 5\n",
    "hidden_size = 10\n",
    "num_layers = 3\n",
    "\n",
    "class RNN(nn.Module):\n",
    "    def __init__(self):\n",
    "        super(RNN, self).__init__()\n",
    "        # self.hidden_size = hidden_size\n",
    "        # self.num_layers = num_layers\n",
    "        # self.lstm = nn.LSTM(input_size, hidden_size, num_layers, batch_first=True)\n",
    "        # self.fc = nn.Linear(hidden_size, 1)\n",
    "        self.rnn = nn.RNN(\n",
    "            input_size = input_size,\n",
    "            hidden_size = hidden_size,\n",
    "            num_layers = num_layers,\n",
    "            batch_first = True,\n",
    "        )\n",
    "        self.out = nn.Linear(hidden_size,1)\n",
    "    \n",
    "    def forward(self, x, h_state):\n",
    "        # # Set initial hidden and cell states \n",
    "        # h0 = torch.zeros(self.num_layers, x.size(0), self.hidden_size).to(device) \n",
    "        # c0 = torch.zeros(self.num_layers, x.size(0), self.hidden_size).to(device)\n",
    "        \n",
    "        # # Forward propagate LSTM\n",
    "        # out, _ = self.lstm(x, (h0, c0))  # out: tensor of shape (batch_size, seq_length, hidden_size)\n",
    "        \n",
    "        # # Decode the hidden state of the last time step\n",
    "        # out = self.fc(out[:, -1, :])\n",
    "        # return out\n",
    "        r_out, h_state = self.rnn(x, h_state)\n",
    "        outs = []\n",
    "        for time_step in range(r_out.size(1)):\n",
    "            outs.append(self.out(r_out[:,time_step,:]))\n",
    "        return torch.stack(outs,dim=1), h_state\n",
    "\n",
    "\n",
    "rnn_model = RNN()\n",
    "rnn_model.to(device=device)\n",
    "# interaction_network = InteractionNetwork()\n",
    "# interaction_network.to(device=device)"
   ]
  },
  {
   "cell_type": "code",
   "execution_count": 74,
   "id": "5ryJx5ZrDxnc",
   "metadata": {
    "colab": {
     "base_uri": "https://localhost:8080/",
     "height": 1000
    },
    "id": "5ryJx5ZrDxnc",
    "outputId": "d194d133-baf4-4bb1-cc2a-f590f66a0d3f"
   },
   "outputs": [
    {
     "name": "stderr",
     "output_type": "stream",
     "text": [
      "Training:   0%|          | 0/500 [00:00<?, ?it/s]/usr/local/lib/python3.7/dist-packages/torch/nn/modules/loss.py:529: UserWarning: Using a target size (torch.Size([5, 6])) that is different to the input size (torch.Size([10, 5, 1])). This will likely lead to incorrect results due to broadcasting. Please ensure they have the same size.\n",
      "  return F.mse_loss(input, target, reduction=self.reduction)\n",
      "Training:   0%|          | 1/500 [00:00<02:27,  3.39it/s]"
     ]
    },
    {
     "name": "stdout",
     "output_type": "stream",
     "text": [
      "tensor([[[0.2245],\n",
      "         [0.1380],\n",
      "         [0.2244],\n",
      "         [0.1521],\n",
      "         [0.1764]],\n",
      "\n",
      "        [[0.2028],\n",
      "         [0.2078],\n",
      "         [0.1442],\n",
      "         [0.2459],\n",
      "         [0.1237]],\n",
      "\n",
      "        [[0.1766],\n",
      "         [0.2410],\n",
      "         [0.0589],\n",
      "         [0.1601],\n",
      "         [0.1898]],\n",
      "\n",
      "        [[0.2259],\n",
      "         [0.1859],\n",
      "         [0.1699],\n",
      "         [0.1980],\n",
      "         [0.0413]],\n",
      "\n",
      "        [[0.1915],\n",
      "         [0.2649],\n",
      "         [0.0968],\n",
      "         [0.0943],\n",
      "         [0.0569]],\n",
      "\n",
      "        [[0.1669],\n",
      "         [0.2089],\n",
      "         [0.1863],\n",
      "         [0.1574],\n",
      "         [0.0657]],\n",
      "\n",
      "        [[0.1859],\n",
      "         [0.2439],\n",
      "         [0.1176],\n",
      "         [0.2839],\n",
      "         [0.1267]],\n",
      "\n",
      "        [[0.1887],\n",
      "         [0.1651],\n",
      "         [0.1909],\n",
      "         [0.1738],\n",
      "         [0.0090]],\n",
      "\n",
      "        [[0.1780],\n",
      "         [0.2110],\n",
      "         [0.1684],\n",
      "         [0.1032],\n",
      "         [0.1723]],\n",
      "\n",
      "        [[0.1596],\n",
      "         [0.3078],\n",
      "         [0.1245],\n",
      "         [0.2128],\n",
      "         [0.0881]]], device='cuda:0', grad_fn=<StackBackward0>)\n"
     ]
    },
    {
     "name": "stderr",
     "output_type": "stream",
     "text": [
      "\r",
      "Training:   0%|          | 1/500 [00:00<05:12,  1.60it/s]"
     ]
    },
    {
     "name": "stdout",
     "output_type": "stream",
     "text": [
      "tensor([[[0.2003],\n",
      "         [0.0468],\n",
      "         [0.0720],\n",
      "         [0.1034],\n",
      "         [0.2423]],\n",
      "\n",
      "        [[0.2312],\n",
      "         [0.0855],\n",
      "         [0.1166],\n",
      "         [0.0960],\n",
      "         [0.0334]],\n",
      "\n",
      "        [[0.0152],\n",
      "         [0.2180],\n",
      "         [0.1581],\n",
      "         [0.1402],\n",
      "         [0.1178]],\n",
      "\n",
      "        [[0.1772],\n",
      "         [0.1448],\n",
      "         [0.2327],\n",
      "         [0.1435],\n",
      "         [0.1573]],\n",
      "\n",
      "        [[0.2719],\n",
      "         [0.1764],\n",
      "         [0.1352],\n",
      "         [0.0734],\n",
      "         [0.1444]],\n",
      "\n",
      "        [[0.1418],\n",
      "         [0.1951],\n",
      "         [0.1899],\n",
      "         [0.2486],\n",
      "         [0.2245]],\n",
      "\n",
      "        [[0.2151],\n",
      "         [0.1248],\n",
      "         [0.1524],\n",
      "         [0.1868],\n",
      "         [0.2214]],\n",
      "\n",
      "        [[0.1722],\n",
      "         [0.0677],\n",
      "         [0.0671],\n",
      "         [0.0940],\n",
      "         [0.2920]],\n",
      "\n",
      "        [[0.0817],\n",
      "         [0.2116],\n",
      "         [0.0759],\n",
      "         [0.0730],\n",
      "         [0.1216]],\n",
      "\n",
      "        [[0.1273],\n",
      "         [0.1176],\n",
      "         [0.1059],\n",
      "         [0.0835],\n",
      "         [0.2536]]], device='cuda:0', grad_fn=<StackBackward0>)\n"
     ]
    },
    {
     "name": "stderr",
     "output_type": "stream",
     "text": [
      "\n"
     ]
    },
    {
     "ename": "RuntimeError",
     "evalue": "ignored",
     "output_type": "error",
     "traceback": [
      "\u001b[0;31m---------------------------------------------------------------------------\u001b[0m",
      "\u001b[0;31mRuntimeError\u001b[0m                              Traceback (most recent call last)",
      "\u001b[0;32m<ipython-input-74-c12671ccfe28>\u001b[0m in \u001b[0;36m<module>\u001b[0;34m()\u001b[0m\n\u001b[1;32m     25\u001b[0m         \u001b[0mloss\u001b[0m \u001b[0;34m=\u001b[0m \u001b[0mcriterion\u001b[0m\u001b[0;34m(\u001b[0m\u001b[0my_pred\u001b[0m\u001b[0;34m,\u001b[0m \u001b[0my_train\u001b[0m\u001b[0;34m[\u001b[0m\u001b[0;36m2\u001b[0m\u001b[0;34m]\u001b[0m\u001b[0;34m)\u001b[0m\u001b[0;34m\u001b[0m\u001b[0;34m\u001b[0m\u001b[0m\n\u001b[1;32m     26\u001b[0m         \u001b[0moptimizer\u001b[0m\u001b[0;34m.\u001b[0m\u001b[0mzero_grad\u001b[0m\u001b[0;34m(\u001b[0m\u001b[0;34m)\u001b[0m\u001b[0;34m\u001b[0m\u001b[0;34m\u001b[0m\u001b[0m\n\u001b[0;32m---> 27\u001b[0;31m         \u001b[0mloss\u001b[0m\u001b[0;34m.\u001b[0m\u001b[0mbackward\u001b[0m\u001b[0;34m(\u001b[0m\u001b[0;34m)\u001b[0m\u001b[0;34m\u001b[0m\u001b[0;34m\u001b[0m\u001b[0m\n\u001b[0m\u001b[1;32m     28\u001b[0m         \u001b[0moptimizer\u001b[0m\u001b[0;34m.\u001b[0m\u001b[0mstep\u001b[0m\u001b[0;34m(\u001b[0m\u001b[0;34m)\u001b[0m\u001b[0;34m\u001b[0m\u001b[0;34m\u001b[0m\u001b[0m\n\u001b[1;32m     29\u001b[0m \u001b[0;34m\u001b[0m\u001b[0m\n",
      "\u001b[0;32m/usr/local/lib/python3.7/dist-packages/torch/_tensor.py\u001b[0m in \u001b[0;36mbackward\u001b[0;34m(self, gradient, retain_graph, create_graph, inputs)\u001b[0m\n\u001b[1;32m    361\u001b[0m                 \u001b[0mcreate_graph\u001b[0m\u001b[0;34m=\u001b[0m\u001b[0mcreate_graph\u001b[0m\u001b[0;34m,\u001b[0m\u001b[0;34m\u001b[0m\u001b[0;34m\u001b[0m\u001b[0m\n\u001b[1;32m    362\u001b[0m                 inputs=inputs)\n\u001b[0;32m--> 363\u001b[0;31m         \u001b[0mtorch\u001b[0m\u001b[0;34m.\u001b[0m\u001b[0mautograd\u001b[0m\u001b[0;34m.\u001b[0m\u001b[0mbackward\u001b[0m\u001b[0;34m(\u001b[0m\u001b[0mself\u001b[0m\u001b[0;34m,\u001b[0m \u001b[0mgradient\u001b[0m\u001b[0;34m,\u001b[0m \u001b[0mretain_graph\u001b[0m\u001b[0;34m,\u001b[0m \u001b[0mcreate_graph\u001b[0m\u001b[0;34m,\u001b[0m \u001b[0minputs\u001b[0m\u001b[0;34m=\u001b[0m\u001b[0minputs\u001b[0m\u001b[0;34m)\u001b[0m\u001b[0;34m\u001b[0m\u001b[0;34m\u001b[0m\u001b[0m\n\u001b[0m\u001b[1;32m    364\u001b[0m \u001b[0;34m\u001b[0m\u001b[0m\n\u001b[1;32m    365\u001b[0m     \u001b[0;32mdef\u001b[0m \u001b[0mregister_hook\u001b[0m\u001b[0;34m(\u001b[0m\u001b[0mself\u001b[0m\u001b[0;34m,\u001b[0m \u001b[0mhook\u001b[0m\u001b[0;34m)\u001b[0m\u001b[0;34m:\u001b[0m\u001b[0;34m\u001b[0m\u001b[0;34m\u001b[0m\u001b[0m\n",
      "\u001b[0;32m/usr/local/lib/python3.7/dist-packages/torch/autograd/__init__.py\u001b[0m in \u001b[0;36mbackward\u001b[0;34m(tensors, grad_tensors, retain_graph, create_graph, grad_variables, inputs)\u001b[0m\n\u001b[1;32m    173\u001b[0m     Variable._execution_engine.run_backward(  # Calls into the C++ engine to run the backward pass\n\u001b[1;32m    174\u001b[0m         \u001b[0mtensors\u001b[0m\u001b[0;34m,\u001b[0m \u001b[0mgrad_tensors_\u001b[0m\u001b[0;34m,\u001b[0m \u001b[0mretain_graph\u001b[0m\u001b[0;34m,\u001b[0m \u001b[0mcreate_graph\u001b[0m\u001b[0;34m,\u001b[0m \u001b[0minputs\u001b[0m\u001b[0;34m,\u001b[0m\u001b[0;34m\u001b[0m\u001b[0;34m\u001b[0m\u001b[0m\n\u001b[0;32m--> 175\u001b[0;31m         allow_unreachable=True, accumulate_grad=True)  # Calls into the C++ engine to run the backward pass\n\u001b[0m\u001b[1;32m    176\u001b[0m \u001b[0;34m\u001b[0m\u001b[0m\n\u001b[1;32m    177\u001b[0m def grad(\n",
      "\u001b[0;31mRuntimeError\u001b[0m: Trying to backward through the graph a second time (or directly access saved tensors after they have already been freed). Saved intermediate values of the graph are freed when you call .backward() or autograd.grad(). Specify retain_graph=True if you need to backward through the graph a second time or if you need to access saved tensors after calling backward."
     ]
    }
   ],
   "source": [
    "start = 0\n",
    "end = 1.5\n",
    "time_step = 0.01\n",
    "h_state = None\n",
    "num_epoch = 3\n",
    "learning_rate = 0.001\n",
    "\n",
    "# Loss and optimizer\n",
    "criterion = nn.MSELoss()\n",
    "optimizer = torch.optim.Adam(rnn_model.parameters(), lr=learning_rate)\n",
    "\n",
    "train_loss_graph, val_loss_graph = list(), list()\n",
    "\n",
    "# Train the model\n",
    "for epoch in range(num_epoch):\n",
    "    train_loss, val_loss = list(), list()\n",
    "    \n",
    "    rnn_model = rnn_model.train()\n",
    "    for x_train, y_train in tqdm(trainLoader, desc=\"Training\"):\n",
    "        \n",
    "        #steps = np.linspace(start, end, time_step, dtype=np.float32,endpoint=False)\n",
    "        y_pred, h_state = rnn_model(x_train,h_state)\n",
    "\n",
    "        print(y_pred)\n",
    "        loss = criterion(y_pred, y_train[2])\n",
    "        optimizer.zero_grad()\n",
    "        loss.backward()\n",
    "        optimizer.step()\n",
    "        \n",
    "        train_loss.append(loss.item() / num_epoch)\n",
    "    \n",
    "    train_loss_graph.append(sum(train_loss) / len(trainLoader))\n",
    "        \n",
    "    rnn_model = rnn_model.eval()\n",
    "    for x_val, y_val in validationLoader:\n",
    "        y_pred_val, h_state = rnn_model(x_val,h_state)\n",
    "        loss = criterion(y_pred_val, y_val)\n",
    "        \n",
    "        val_loss.append(loss.item() / num_epoch)\n",
    "    \n",
    "    val_loss_graph.append(sum(val_loss) / len(validationLoader))\n",
    "        \n",
    "    print(f'Average loss: {train_loss_graph[-1]}')\n",
    "    print(f'val loss: {val_loss_graph[-1]}')"
   ]
  },
  {
   "cell_type": "markdown",
   "id": "dea70d73",
   "metadata": {
    "id": "dea70d73"
   },
   "source": [
    "# Model Training"
   ]
  },
  {
   "cell_type": "code",
   "execution_count": 30,
   "id": "3af520ae",
   "metadata": {
    "id": "3af520ae"
   },
   "outputs": [],
   "source": [
    "#todo"
   ]
  },
  {
   "cell_type": "code",
   "execution_count": 30,
   "id": "e95af5f9",
   "metadata": {
    "id": "e95af5f9"
   },
   "outputs": [],
   "source": []
  },
  {
   "cell_type": "code",
   "execution_count": 30,
   "id": "07e03ddf",
   "metadata": {
    "id": "07e03ddf"
   },
   "outputs": [],
   "source": []
  },
  {
   "cell_type": "markdown",
   "id": "d5fb3b29",
   "metadata": {
    "id": "d5fb3b29"
   },
   "source": [
    "# Evaluation"
   ]
  },
  {
   "cell_type": "code",
   "execution_count": null,
   "id": "bf5fa1b4",
   "metadata": {
    "id": "bf5fa1b4"
   },
   "outputs": [],
   "source": [
    "#TODO:\n",
    "# The amount of training samples should vary from 100 to 10000, and the\n",
    "# prediction horizons are t = 0.5, t = 1 and t = 1.5. For each training set\n",
    "# size/time horizon combination, compare to a simple linear baseline where\n",
    "# xti = x0i + v0i ·t"
   ]
  },
  {
   "cell_type": "code",
   "execution_count": null,
   "id": "2280031f",
   "metadata": {
    "id": "2280031f"
   },
   "outputs": [],
   "source": [
    "# TODO\n",
    "# Come up with and execute one additional experiment that provides an interesting insight in your method\n",
    "# possible idea: interpolation, i.e. given t = 1.5 and t = 0.5, where is it at t = 1?\n"
   ]
  },
  {
   "cell_type": "code",
   "execution_count": null,
   "id": "3a8240f1",
   "metadata": {
    "id": "3a8240f1"
   },
   "outputs": [],
   "source": []
  }
 ],
 "metadata": {
  "accelerator": "GPU",
  "colab": {
   "name": "a2_skeleton_peter_pim.ipynb",
   "provenance": []
  },
  "interpreter": {
   "hash": "27c164e33ceb3372f7d05cab3554d1b7111f26924d32637c2cc5dd0d753ab5f1"
  },
  "kernelspec": {
   "display_name": "Python 3 (ipykernel)",
   "language": "python",
   "name": "python3"
  },
  "language_info": {
   "codemirror_mode": {
    "name": "ipython",
    "version": 3
   },
   "file_extension": ".py",
   "mimetype": "text/x-python",
   "name": "python",
   "nbconvert_exporter": "python",
   "pygments_lexer": "ipython3",
   "version": "3.9.12"
  }
 },
 "nbformat": 4,
 "nbformat_minor": 5
}

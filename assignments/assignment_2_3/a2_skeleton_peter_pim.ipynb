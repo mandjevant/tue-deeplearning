{
 "cells": [
  {
   "cell_type": "markdown",
   "id": "730fd591",
   "metadata": {},
   "source": [
    "<a href=\"https://colab.research.google.com/github/vlamen/tue-deeplearning/blob/main/assignments/assignment_2_3/a2_skeleton.ipynb\" target=\"_parent\"><img src=\"https://colab.research.google.com/assets/colab-badge.svg\" alt=\"Open In Colab\"/></a>"
   ]
  },
  {
   "cell_type": "markdown",
   "id": "d32f8d18",
   "metadata": {},
   "source": [
    "# Group Number: 37\n",
    "# Student 1: Jiong Li | 1533312\n",
    "# Student 2: Peter Elmers | 1734350\n",
    "# Student 3: P.T.C.M. Tholhuijsen | 1237447"
   ]
  },
  {
   "cell_type": "markdown",
   "id": "faec2056",
   "metadata": {},
   "source": [
    "# Downloading Data and Preliminaries"
   ]
  },
  {
   "cell_type": "code",
   "execution_count": 1,
   "id": "7d0580a5",
   "metadata": {},
   "outputs": [],
   "source": [
    "import pickle\n",
    "import matplotlib.pyplot as plt\n",
    "import matplotlib\n",
    "import numpy as np\n",
    "\n",
    "from zipfile import ZipFile\n",
    "import requests\n",
    "import io"
   ]
  },
  {
   "cell_type": "code",
   "execution_count": 2,
   "id": "b0756591",
   "metadata": {},
   "outputs": [],
   "source": [
    "def load_zip(url):\n",
    "    response = requests.get(url)\n",
    "    response.raise_for_status()\n",
    "    zipf = ZipFile(io.BytesIO(response.content))\n",
    "    return {name: zipf.read(name) for name in zipf.namelist()}\n",
    "\n",
    "def load_array(zipfile, fn):\n",
    "    return np.load(io.BytesIO(zipfile[fn]))"
   ]
  },
  {
   "cell_type": "code",
   "execution_count": 3,
   "id": "bb77a4be",
   "metadata": {},
   "outputs": [
    {
     "name": "stdout",
     "output_type": "stream",
     "text": [
      "Shapes of the training data:\n",
      "\n",
      "positions: (10000, 4, 2, 5)\n",
      "velocities: (10000, 1, 2, 5)\n",
      "charges: (10000, 5, 1)\n"
     ]
    }
   ],
   "source": [
    "\"\"\"\n",
    "This cell loads the training, validation or test data as numpy arrays,\n",
    "with the positions, initial velocities and charge data of the particles.\n",
    "\n",
    "The position arrays are shaped as\n",
    "[simulation id, time point (corresponding to t = 0, 0.5, 1 or 1.5), x/y spatial dimension, particle id].\n",
    "\n",
    "The initial velocity arrays are shaped as\n",
    "[simulation id, 1 (corresponding to t=0), x/y spatial dimension, particle id].\n",
    "\n",
    "The charge arrays are shaped as [simulation id, particle id, 1]\n",
    "\n",
    "\"\"\"\n",
    "\n",
    "data = load_zip('https://surfdrive.surf.nl/files/index.php/s/OIgda2ZRG8v0eqB/download')\n",
    "\n",
    "features = ['positions', 'velocities', 'charges']\n",
    "    \n",
    "positions_train, velocities_train, charges_train = (load_array(data, f'data/train/{f}.npy') for f in features)\n",
    "positions_valid, velocities_valid, charges_valid = (load_array(data, f'data/valid/{f}.npy') for f in features)\n",
    "positions_test, velocities_test, charges_test = (load_array(data, f'data/test/{f}.npy') for f in features)\n",
    "\n",
    "print('Shapes of the training data:\\n')\n",
    "print(f'positions: {positions_train.shape}')\n",
    "print(f'velocities: {velocities_train.shape}')\n",
    "print(f'charges: {charges_train.shape}')"
   ]
  },
  {
   "cell_type": "code",
   "execution_count": 4,
   "id": "1c3ea4cb",
   "metadata": {},
   "outputs": [
    {
     "name": "stdout",
     "output_type": "stream",
     "text": [
      "An example of retrieving data from the arrays:\n",
      "\n",
      "\n",
      "In simulation 42 of the training set, particle 3 with charge -1.0 had coordinates [ 2.05159559 -1.46130851].\n",
      "The initial velocity of this particle was [ 0.28402364 -0.24784824].\n"
     ]
    }
   ],
   "source": [
    "print('An example of retrieving data from the arrays:\\n\\n')\n",
    "\n",
    "sim_idx = 42\n",
    "t_idx = 2  # t_idx 0, 1, 2, 3 corresponds to t=0, 0.5, 1 and 1.5 respectively\n",
    "spatial_idx = (0,1)  # corresponds to both x and y dimension\n",
    "particle_idx = 3  # corresponds to particle with index 3\n",
    "\n",
    "p = positions_train[sim_idx, t_idx, spatial_idx, particle_idx]\n",
    "v = velocities_train[sim_idx, 0, spatial_idx, particle_idx]  # note: this array contains only the inital velocity -> hence the 0\n",
    "c = charges_train[sim_idx, particle_idx, 0] \n",
    "\n",
    "print(\n",
    "    f'In simulation {sim_idx} of the training set, particle {particle_idx} with charge {c} had coordinates {p}.\\nThe initial velocity of this particle was {v}.'\n",
    ")"
   ]
  },
  {
   "cell_type": "code",
   "execution_count": 5,
   "id": "10a3438a",
   "metadata": {},
   "outputs": [
    {
     "name": "stdout",
     "output_type": "stream",
     "text": [
      "Overview of no. datapoints:\n",
      "\n",
      "10000 train, 2000 validation, 2000 test simulations\n"
     ]
    }
   ],
   "source": [
    "print('Overview of no. datapoints:\\n')\n",
    "\n",
    "print(f'{len(positions_train)} train, {len(positions_valid)} validation, {len(positions_test)} test simulations')"
   ]
  },
  {
   "cell_type": "code",
   "execution_count": 6,
   "id": "f9106543",
   "metadata": {},
   "outputs": [],
   "source": [
    "def plot_example(pos, vel):\n",
    "\n",
    "    fig = plt.figure()\n",
    "    axes = plt.gca()\n",
    "    axes.set_xlim([-5., 5.])\n",
    "    axes.set_ylim([-5., 5.])\n",
    "    colors = ['red', 'blue', 'green', 'orange', 'brown']\n",
    "    for i in range(pos.shape[-1]):\n",
    "        plt.plot(pos[0, 0, i], pos[0, 1, i], 'd', color=colors[i])\n",
    "        plt.plot(pos[-1, 0, i], pos[-1, 1, i], 'x', color=colors[i])\n",
    "        plt.plot([pos[0, 0, i], pos[0, 0, i] + vel[0, 0, i]], [pos[0, 1, i], pos[0, 1, i] + vel[0, 1, i]], '--', color=colors[i])\n",
    "    fig.set_size_inches(7, 7)\n",
    "    plt.xlim(np.min(pos)-1, np.max(pos) +1)\n",
    "    plt.ylim(np.min(pos)-1, np.max(pos) +1)\n",
    "    plt.plot([], [], 'd', color='black', label='initial position')\n",
    "    plt.plot([], [], 'x', color='black', label='final position')\n",
    "    plt.plot([], [], '--', color='black', label='initial velocity \\ndirection and magnitude')\n",
    "    plt.legend()\n",
    "    \n",
    "    plt.show()\n",
    "    return"
   ]
  },
  {
   "cell_type": "code",
   "execution_count": 7,
   "id": "d28681a6",
   "metadata": {},
   "outputs": [
    {
     "data": {
      "image/png": "[encoded data removed]",
      "text/plain": [
       "<Figure size 504x504 with 1 Axes>"
      ]
     },
     "metadata": {
      "needs_background": "light"
     },
     "output_type": "display_data"
    }
   ],
   "source": [
    "random_idx = np.random.randint(0, 10000)\n",
    "plot_example(positions_train[random_idx], velocities_train[random_idx])"
   ]
  },
  {
   "cell_type": "markdown",
   "id": "059b633c",
   "metadata": {},
   "source": [
    "# Data Handling and Preprocessing"
   ]
  },
  {
   "cell_type": "code",
   "execution_count": 8,
   "id": "e6ecb529",
   "metadata": {},
   "outputs": [
    {
     "name": "stdout",
     "output_type": "stream",
     "text": [
      "Device is set to cuda\n"
     ]
    }
   ],
   "source": [
    "# Pick the best device\n",
    "import torch\n",
    "\n",
    "def try_device(device):\n",
    "    # Try to put an array on given device. If successful, return device. Else, 'cpu'.\n",
    "    x = torch.ones((1,))\n",
    "    try:\n",
    "        x.to(device)\n",
    "        return device\n",
    "    except:\n",
    "        return 'cpu'\n",
    "\n",
    "device = try_device('cuda')\n",
    "if device == 'cpu':\n",
    "    device = try_device('mps')\n",
    "\n",
    "print(f'Device is set to {device}')\n",
    "\n",
    "# Move all the little craps into torch things on the device\n",
    "p_train, v_train, c_train = [torch.Tensor(vec).to(device=device) for vec in [positions_train, velocities_train, charges_train]]\n",
    "p_valid, v_valid, c_valid = [torch.Tensor(vec).to(device=device) for vec in [positions_valid, velocities_valid, charges_valid]]\n",
    "p_test, v_test, c_test = [torch.Tensor(vec).to(device=device) for vec in [positions_test, velocities_test, charges_test]]"
   ]
  },
  {
   "cell_type": "code",
   "execution_count": 9,
   "id": "89f90431",
   "metadata": {},
   "outputs": [],
   "source": [
    "p_train, v_train, c_train = p_train[:5000], v_train[:5000], c_train[:5000]\n",
    "p_valid, v_valid, c_valid = p_valid[:1000], v_valid[:1000], c_valid[:1000]"
   ]
  },
  {
   "cell_type": "code",
   "execution_count": 10,
   "id": "f8633eb8",
   "metadata": {},
   "outputs": [],
   "source": [
    "# Create a baseline: particle position = velocity * time + initial\n",
    "def baseline_predict(p0, v0, time):\n",
    "    '''\n",
    "    Return a numpy array of predicted x, y position of each particle in p0.\n",
    "    Given p0 starting locations, v0 starting velocities, and time to predict.\n",
    "    Result is computed via linear projection: v0 * time + p0.\n",
    "    Where p0 and v0 are both (N x 1 x 2 x P) tensors, for N simulations, P particles/sim\n",
    "    '''\n",
    "    return p0 + v0 * time\n"
   ]
  },
  {
   "cell_type": "code",
   "execution_count": 11,
   "id": "0a99a32b",
   "metadata": {},
   "outputs": [
    {
     "name": "stdout",
     "output_type": "stream",
     "text": [
      "Baseline error should be 0: {'rms': 0.0}\n",
      "Error over time should increase (train).\n",
      "t = 0.5 {'rms': 0.2470148205757141}\n",
      "t = 1 {'rms': 0.5151205062866211}\n",
      "t = 1.5 {'rms': 0.7870485782623291}\n",
      "Error over time should increase (valid).\n",
      "t = 0.5 {'rms': 0.2470148205757141}\n",
      "t = 1 {'rms': 0.5151205062866211}\n",
      "t = 1.5 {'rms': 0.7870485782623291}\n",
      "Error over time should increase (test).\n",
      "t = 0.5 {'rms': 0.2470148205757141}\n",
      "t = 1 {'rms': 0.5151205062866211}\n",
      "t = 1.5 {'rms': 0.7870485782623291}\n"
     ]
    }
   ],
   "source": [
    "import torch.nn as nn\n",
    "\n",
    "# Evaluate the baseline model (what metrics? r2? rms?)\n",
    "def rms(p_pred, p_actual):\n",
    "    '''\n",
    "    Return the root mean squared distance between predicted locations and actual locations.\n",
    "    Where p_pred and p_actual are both (N x T x 2 x P) tensors.\n",
    "    '''\n",
    "    mse = nn.MSELoss()\n",
    "    return mse(p_pred, p_actual).sqrt().item()\n",
    "\n",
    "def baseline_evaluate(p, v, time):\n",
    "    '''\n",
    "    Evaluate the baseline \"model\" at given time in {0, 0.5, 1, 1.5}.\n",
    "    '''\n",
    "    p_pred = baseline_predict(p[:, :1, :, :], v, time)\n",
    "    idx = int(time / 0.5)\n",
    "    p_actual = p[:, idx:idx+1, :, :]\n",
    "    # Currently just rms, but we could add more evaluations\n",
    "    return {'rms': rms(p_pred, p_actual)}\n",
    "\n",
    "print('Baseline error should be 0:', baseline_evaluate(p_train, v_train, 0))\n",
    "\n",
    "# Print some more metrics\n",
    "for klass in ['train', 'valid', 'test']:\n",
    "    p_klass, v_klass = locals()[f'p_{klass}'], locals()[f'v_{klass}']\n",
    "    print(f'Error over time should increase ({klass}).')\n",
    "    for t in [0.5, 1, 1.5]:\n",
    "        print(f't = {t}', baseline_evaluate(p_train, v_train, t))"
   ]
  },
  {
   "cell_type": "code",
   "execution_count": 12,
   "id": "b9d84863",
   "metadata": {},
   "outputs": [],
   "source": [
    "from torch.utils.data import Dataset, DataLoader\n",
    "\n",
    "\n",
    "class myDataset(Dataset):\n",
    "    def __init__(self, posi, velo, charge):\n",
    "        self.posi = posi\n",
    "        self.velo = velo\n",
    "        self.charge = charge\n",
    "    \n",
    "    def __len__(self):\n",
    "        return len(self.posi)\n",
    "    \n",
    "    def __getitem__(self, index):\n",
    "        i = list(zip(self.posi, self.velo, self.charge))[index]\n",
    "        \n",
    "        p = torch.transpose(i[0][0], 0, 1)\n",
    "        v = torch.transpose(i[1][0], 0, 1)\n",
    "        c = i[2]\n",
    "        \n",
    "        # x_p, y_p, x_v, y_v, c at t=0\n",
    "        x = torch.hstack((p, v, c))\n",
    "        # x.shape = [10, 5, 5]\n",
    "        \n",
    "        # (x_p, y_p), (x_p, y_p), (x_p, y_p) at t = 0.5, 1.0, 1.5\n",
    "        y = torch.hstack((torch.transpose(i[0][1], 0, 1), \n",
    "                          torch.transpose(i[0][2], 0, 1), \n",
    "                          torch.transpose(i[0][3], 0, 1)))\n",
    "        # y.shape = [10, 5, 6]\n",
    "        \n",
    "        return x, y\n",
    "       "
   ]
  },
  {
   "cell_type": "code",
   "execution_count": 13,
   "id": "d070e561",
   "metadata": {},
   "outputs": [],
   "source": [
    "trainLoader = DataLoader(myDataset(p_train, v_train, c_train), batch_size=10)\n",
    "validationLoader = DataLoader(myDataset(p_valid, v_valid, c_valid), batch_size=10)\n",
    "testLoader = DataLoader(myDataset(p_test, v_test, c_test), batch_size=10)"
   ]
  },
  {
   "cell_type": "markdown",
   "id": "18b2874d",
   "metadata": {},
   "source": [
    "# Model Implementation"
   ]
  },
  {
   "cell_type": "code",
   "execution_count": 14,
   "id": "3aa472dc",
   "metadata": {},
   "outputs": [],
   "source": [
    "import torch.nn as nn\n",
    "from tqdm import tqdm"
   ]
  },
  {
   "cell_type": "markdown",
   "id": "b33b0e1c",
   "metadata": {},
   "source": [
    "Implementation like https://github.com/higgsfield/interaction_network_pytorch/blob/master/Interaction%20Network.ipynb"
   ]
  },
  {
   "cell_type": "code",
   "execution_count": 15,
   "id": "e79124e4",
   "metadata": {},
   "outputs": [
    {
     "name": "stdout",
     "output_type": "stream",
     "text": [
      "tensor([[-1.9361, -0.2276, -0.7878,  0.0267, -1.0000],\n",
      "        [ 3.6532, -2.7631,  1.5892, -0.4211,  1.0000],\n",
      "        [-4.5496,  8.2998, -1.2906,  2.3834,  1.0000],\n",
      "        [-3.0958, -3.0921, -1.9173, -0.5785,  1.0000],\n",
      "        [ 0.1073, -2.8976,  0.6539, -0.5676, -1.0000]], device='cuda:0')\n",
      "tensor([[-1.9361, -0.2276],\n",
      "        [ 3.6532, -2.7631],\n",
      "        [-4.5496,  8.2998],\n",
      "        [-3.0958, -3.0921],\n",
      "        [ 0.1073, -2.8976]], device='cuda:0')\n",
      "tensor([[-0.7878,  0.0267],\n",
      "        [ 1.5892, -0.4211],\n",
      "        [-1.2906,  2.3834],\n",
      "        [-1.9173, -0.5785],\n",
      "        [ 0.6539, -0.5676]], device='cuda:0')\n"
     ]
    }
   ],
   "source": [
    "for i in zip(p_train, v_train, c_train):\n",
    "    p = torch.transpose(i[0][0], 0, 1)\n",
    "    v = torch.transpose(i[1][0], 0, 1)\n",
    "    c = i[2]\n",
    "   \n",
    "    data = torch.hstack((p, v, c))\n",
    "    print(data)\n",
    "    print(data[:, 0:2])\n",
    "    print(data[:, 2:4])\n",
    "    # x_p, y_p, x_v, y_v, c\n",
    "    break"
   ]
  },
  {
   "cell_type": "code",
   "execution_count": 16,
   "id": "587da524",
   "metadata": {},
   "outputs": [],
   "source": [
    "# object-centric acceleration neural network\n",
    "class AccelerationModel(nn.Module):\n",
    "    def __init__(self):\n",
    "        super(AccelerationModel, self).__init__()\n",
    "        \n",
    "        self.layers = nn.Sequential(\n",
    "            nn.Linear(5, 25),\n",
    "            nn.ReLU(),\n",
    "            nn.Linear(25, 2),\n",
    "        )\n",
    "        \n",
    "    def forward(self, x, delta_t):\n",
    "        x = x.view(-1, 5)\n",
    "        x = self.layers(x)\n",
    "        return x.view(10, 5, 2)"
   ]
  },
  {
   "cell_type": "code",
   "execution_count": 17,
   "id": "8bca2f0d",
   "metadata": {},
   "outputs": [],
   "source": [
    "# object-centric velocity neural network\n",
    "class VelocityModel(nn.Module):\n",
    "    def __init__(self):\n",
    "        super(VelocityModel, self).__init__()\n",
    "        \n",
    "        self.layers = nn.Sequential(\n",
    "            nn.Linear(4, 16),\n",
    "            nn.ReLU(),\n",
    "            nn.Linear(16, 2),\n",
    "        )\n",
    "        \n",
    "    def forward(self, x, delta_t):\n",
    "        x = x.view(-1, 4)\n",
    "        x = self.layers(x)\n",
    "        return x.view(10, 5, 2)"
   ]
  },
  {
   "cell_type": "code",
   "execution_count": 18,
   "id": "3535d8b4",
   "metadata": {},
   "outputs": [],
   "source": [
    "# object-centric position neural network\n",
    "class PositionModel(nn.Module):\n",
    "    def __init__(self):\n",
    "        super(PositionModel, self).__init__()\n",
    "        \n",
    "        self.layers = nn.Sequential(\n",
    "            nn.Linear(4, 16),\n",
    "            nn.ReLU(),\n",
    "            nn.Linear(16, 2),\n",
    "        )\n",
    "        \n",
    "    def forward(self, x, delta_t):\n",
    "        x = x.view(-1, 4)\n",
    "        x = self.layers(x)\n",
    "        return x.view(10, 5, 2)"
   ]
  },
  {
   "cell_type": "code",
   "execution_count": 19,
   "id": "1e9bdf5e",
   "metadata": {},
   "outputs": [
    {
     "data": {
      "text/plain": [
       "InteractionNetwork(\n",
       "  (acceleration_model): AccelerationModel(\n",
       "    (layers): Sequential(\n",
       "      (0): Linear(in_features=5, out_features=25, bias=True)\n",
       "      (1): ReLU()\n",
       "      (2): Linear(in_features=25, out_features=2, bias=True)\n",
       "    )\n",
       "  )\n",
       "  (velocity_model): VelocityModel(\n",
       "    (layers): Sequential(\n",
       "      (0): Linear(in_features=4, out_features=16, bias=True)\n",
       "      (1): ReLU()\n",
       "      (2): Linear(in_features=16, out_features=2, bias=True)\n",
       "    )\n",
       "  )\n",
       "  (position_model): PositionModel(\n",
       "    (layers): Sequential(\n",
       "      (0): Linear(in_features=4, out_features=16, bias=True)\n",
       "      (1): ReLU()\n",
       "      (2): Linear(in_features=16, out_features=2, bias=True)\n",
       "    )\n",
       "  )\n",
       ")"
      ]
     },
     "execution_count": 19,
     "metadata": {},
     "output_type": "execute_result"
    }
   ],
   "source": [
    "# interaction network\n",
    "class InteractionNetwork(nn.Module):\n",
    "    def __init__(self):\n",
    "        super(InteractionNetwork, self).__init__()\n",
    "        \n",
    "        self.acceleration_model = AccelerationModel()\n",
    "        self.velocity_model = VelocityModel()\n",
    "        self.position_model = PositionModel()\n",
    "        \n",
    "    def forward(self, x, delta_t):\n",
    "        pred_accelleration = self.acceleration_model(x, delta_t)\n",
    "        pred_velocity = self.velocity_model(torch.dstack((x[:, :, 2:4], pred_accelleration)), delta_t)\n",
    "        pred_position = self.position_model(torch.dstack((x[:, :, 0:2], pred_velocity)), delta_t)\n",
    "        return pred_position, pred_velocity\n",
    "    \n",
    "interaction_network = InteractionNetwork()\n",
    "interaction_network.to(device=device)"
   ]
  },
  {
   "cell_type": "code",
   "execution_count": 20,
   "id": "cbd80a9d",
   "metadata": {},
   "outputs": [
    {
     "name": "stderr",
     "output_type": "stream",
     "text": [
      "Training: 100%|██████████████████████████████████████████████████████████████████████| 500/500 [02:28<00:00,  3.37it/s]\n"
     ]
    },
    {
     "name": "stdout",
     "output_type": "stream",
     "text": [
      "Average loss: 0.2794657018929716\n",
      "val loss: 1.7309363365173345\n"
     ]
    },
    {
     "name": "stderr",
     "output_type": "stream",
     "text": [
      "Training: 100%|██████████████████████████████████████████████████████████████████████| 500/500 [02:37<00:00,  3.17it/s]\n"
     ]
    },
    {
     "name": "stdout",
     "output_type": "stream",
     "text": [
      "Average loss: 0.025993317408859736\n",
      "val loss: 1.7298284931182866\n"
     ]
    },
    {
     "name": "stderr",
     "output_type": "stream",
     "text": [
      "Training: 100%|██████████████████████████████████████████████████████████████████████| 500/500 [02:30<00:00,  3.32it/s]\n"
     ]
    },
    {
     "name": "stdout",
     "output_type": "stream",
     "text": [
      "Average loss: 0.018536873278021806\n",
      "val loss: 1.730495560646057\n"
     ]
    },
    {
     "name": "stderr",
     "output_type": "stream",
     "text": [
      "Training: 100%|██████████████████████████████████████████████████████████████████████| 500/500 [01:55<00:00,  4.33it/s]\n"
     ]
    },
    {
     "name": "stdout",
     "output_type": "stream",
     "text": [
      "Average loss: 0.016264222994446752\n",
      "val loss: 1.7270921936035162\n"
     ]
    },
    {
     "name": "stderr",
     "output_type": "stream",
     "text": [
      "Training: 100%|██████████████████████████████████████████████████████████████████████| 500/500 [01:48<00:00,  4.61it/s]\n"
     ]
    },
    {
     "name": "stdout",
     "output_type": "stream",
     "text": [
      "Average loss: 0.015110505627095698\n",
      "val loss: 1.729089721679688\n"
     ]
    },
    {
     "name": "stderr",
     "output_type": "stream",
     "text": [
      "Training: 100%|██████████████████████████████████████████████████████████████████████| 500/500 [01:49<00:00,  4.57it/s]\n"
     ]
    },
    {
     "name": "stdout",
     "output_type": "stream",
     "text": [
      "Average loss: 0.014348598307371148\n",
      "val loss: 1.732207173347473\n"
     ]
    },
    {
     "name": "stderr",
     "output_type": "stream",
     "text": [
      "Training: 100%|██████████████████████████████████████████████████████████████████████| 500/500 [02:04<00:00,  4.02it/s]\n"
     ]
    },
    {
     "name": "stdout",
     "output_type": "stream",
     "text": [
      "Average loss: 0.013893964403867719\n",
      "val loss: 1.7336360454559325\n"
     ]
    },
    {
     "name": "stderr",
     "output_type": "stream",
     "text": [
      "Training: 100%|██████████████████████████████████████████████████████████████████████| 500/500 [02:08<00:00,  3.89it/s]\n"
     ]
    },
    {
     "name": "stdout",
     "output_type": "stream",
     "text": [
      "Average loss: 0.013575448513030993\n",
      "val loss: 1.733341119766235\n"
     ]
    },
    {
     "name": "stderr",
     "output_type": "stream",
     "text": [
      "Training: 100%|██████████████████████████████████████████████████████████████████████| 500/500 [02:14<00:00,  3.71it/s]\n"
     ]
    },
    {
     "name": "stdout",
     "output_type": "stream",
     "text": [
      "Average loss: 0.013319927289336928\n",
      "val loss: 1.7327529268264772\n"
     ]
    },
    {
     "name": "stderr",
     "output_type": "stream",
     "text": [
      "Training: 100%|██████████████████████████████████████████████████████████████████████| 500/500 [02:16<00:00,  3.67it/s]\n"
     ]
    },
    {
     "name": "stdout",
     "output_type": "stream",
     "text": [
      "Average loss: 0.013119184783846159\n",
      "val loss: 1.7321954364776613\n"
     ]
    }
   ],
   "source": [
    "optimizer = torch.optim.Adam(interaction_network.parameters(), lr=0.001)\n",
    "criterion = nn.MSELoss()\n",
    "criterion.to(device=device)\n",
    "\n",
    "train_loss_graph, val_loss_graph = list(), list()\n",
    "for epoch in range(10):\n",
    "    train_loss, val_loss = list(), list()\n",
    "    \n",
    "    interaction_network = interaction_network.train()\n",
    "    for x_train, y_train in tqdm(trainLoader, desc=\"Training\"):\n",
    "        optimizer.zero_grad()\n",
    "        pred_p_t1, pred_v_t1 = interaction_network(x_train, 0.5)\n",
    "        pred_p_t2, pred_v_t2 = interaction_network(torch.dstack((pred_p_t1, pred_v_t1, x_train[:, :, -1])), 1.0)\n",
    "        pred_p_t3, _ = interaction_network(torch.dstack((pred_p_t2, pred_v_t2, x_train[:, :, -1])), 1.5)\n",
    "        \n",
    "        y_pred = torch.dstack((pred_p_t1, pred_p_t2, pred_p_t3))\n",
    "        loss = criterion(y_pred, y_train)\n",
    "        loss.backward()\n",
    "        optimizer.step()\n",
    "        \n",
    "        train_loss.append(loss.item() / 10)\n",
    "    \n",
    "    train_loss_graph.append(sum(train_loss) / len(trainLoader))\n",
    "    \n",
    "    interaction_network = interaction_network.eval()\n",
    "    for x_val, y_val in validationLoader:\n",
    "        optimizer.zero_grad()\n",
    "        pred_p_t1, pred_v_t1 = interaction_network(x_train, 0.5)\n",
    "        pred_p_t2, pred_v_t2 = interaction_network(torch.dstack((pred_p_t1, pred_v_t1, x_val[:, :, -1])), 1.0)\n",
    "        pred_p_t3, _ = interaction_network(torch.dstack((pred_p_t2, pred_v_t2, x_val[:, :, -1])), 1.5)\n",
    "        \n",
    "        y_pred = torch.dstack((pred_p_t1, pred_p_t2, pred_p_t3))\n",
    "        loss = criterion(y_pred, y_val)\n",
    "        \n",
    "        val_loss.append(loss.item() / 10)\n",
    "    \n",
    "    val_loss_graph.append(sum(val_loss) / len(validationLoader))\n",
    "        \n",
    "    print(f'Average loss: {train_loss_graph[-1]}')\n",
    "    print(f'val loss: {val_loss_graph[-1]}')"
   ]
  },
  {
   "cell_type": "code",
   "execution_count": 21,
   "id": "f02d1d3b",
   "metadata": {},
   "outputs": [
    {
     "data": {
      "text/plain": [
       "Text(0, 0.5, 'loss value')"
      ]
     },
     "execution_count": 21,
     "metadata": {},
     "output_type": "execute_result"
    },
    {
     "data": {
      "image/png": "[encoded data removed]",
      "text/plain": [
       "<Figure size 432x288 with 1 Axes>"
      ]
     },
     "metadata": {
      "needs_background": "light"
     },
     "output_type": "display_data"
    }
   ],
   "source": [
    "import matplotlib.pyplot as plt\n",
    "\n",
    "plt.plot(train_loss_graph)\n",
    "plt.title(\"training loss\")\n",
    "plt.xlabel(\"epoch number\")\n",
    "plt.ylabel(\"loss value\")"
   ]
  },
  {
   "cell_type": "code",
   "execution_count": 22,
   "id": "73f2a2fb",
   "metadata": {},
   "outputs": [
    {
     "data": {
      "text/plain": [
       "Text(0, 0.5, 'loss value')"
      ]
     },
     "execution_count": 22,
     "metadata": {},
     "output_type": "execute_result"
    },
    {
     "data": {
      "image/png": "[encoded data removed]",
      "text/plain": [
       "<Figure size 432x288 with 1 Axes>"
      ]
     },
     "metadata": {
      "needs_background": "light"
     },
     "output_type": "display_data"
    }
   ],
   "source": [
    "plt.plot(val_loss_graph)\n",
    "plt.title(\"validation loss\")\n",
    "plt.xlabel(\"epoch number\")\n",
    "plt.ylabel(\"loss value\")"
   ]
  },
  {
   "cell_type": "markdown",
   "id": "dea70d73",
   "metadata": {},
   "source": [
    "# Model Training"
   ]
  },
  {
   "cell_type": "code",
   "execution_count": 23,
   "id": "3af520ae",
   "metadata": {},
   "outputs": [],
   "source": [
    "#todo"
   ]
  },
  {
   "cell_type": "code",
   "execution_count": null,
   "id": "e95af5f9",
   "metadata": {},
   "outputs": [],
   "source": []
  },
  {
   "cell_type": "code",
   "execution_count": null,
   "id": "07e03ddf",
   "metadata": {},
   "outputs": [],
   "source": []
  },
  {
   "cell_type": "markdown",
   "id": "d5fb3b29",
   "metadata": {},
   "source": [
    "# Evaluation"
   ]
  },
  {
   "cell_type": "code",
   "execution_count": 24,
   "id": "bf5fa1b4",
   "metadata": {},
   "outputs": [],
   "source": [
    "#TODO:\n",
    "# The amount of training samples should vary from 100 to 10000, and the\n",
    "# prediction horizons are t = 0.5, t = 1 and t = 1.5. For each training set\n",
    "# size/time horizon combination, compare to a simple linear baseline where\n",
    "# xti = x0i + v0i ·t"
   ]
  },
  {
   "cell_type": "code",
   "execution_count": 25,
   "id": "2280031f",
   "metadata": {},
   "outputs": [],
   "source": [
    "# TODO\n",
    "# Come up with and execute one additional experiment that provides an interesting insight in your method\n",
    "# possible idea: interpolation, i.e. given t = 1.5 and t = 0.5, where is it at t = 1?\n"
   ]
  },
  {
   "cell_type": "code",
   "execution_count": null,
   "id": "3a8240f1",
   "metadata": {},
   "outputs": [],
   "source": []
  }
 ],
 "metadata": {
  "interpreter": {
   "hash": "27c164e33ceb3372f7d05cab3554d1b7111f26924d32637c2cc5dd0d753ab5f1"
  },
  "kernelspec": {
   "display_name": "Python 3 (ipykernel)",
   "language": "python",
   "name": "python3"
  },
  "language_info": {
   "codemirror_mode": {
    "name": "ipython",
    "version": 3
   },
   "file_extension": ".py",
   "mimetype": "text/x-python",
   "name": "python",
   "nbconvert_exporter": "python",
   "pygments_lexer": "ipython3",
   "version": "3.9.12"
  }
 },
 "nbformat": 4,
 "nbformat_minor": 5
}

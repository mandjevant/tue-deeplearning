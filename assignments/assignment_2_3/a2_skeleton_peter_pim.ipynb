{
 "cells": [
  {
   "cell_type": "markdown",
   "id": "730fd591",
   "metadata": {
    "id": "730fd591"
   },
   "source": [
    "<a href=\"https://colab.research.google.com/github/vlamen/tue-deeplearning/blob/main/assignments/assignment_2_3/a2_skeleton.ipynb\" target=\"_parent\"><img src=\"https://colab.research.google.com/assets/colab-badge.svg\" alt=\"Open In Colab\"/></a>"
   ]
  },
  {
   "cell_type": "markdown",
   "id": "d32f8d18",
   "metadata": {
    "id": "d32f8d18"
   },
   "source": [
    "# Group Number: 37\n",
    "# Student 1: Jiong Li | 1533312\n",
    "# Student 2: Peter Elmers | 1734350\n",
    "# Student 3: P.T.C.M. Tholhuijsen | 1237447"
   ]
  },
  {
   "cell_type": "markdown",
   "id": "faec2056",
   "metadata": {
    "id": "faec2056"
   },
   "source": [
    "# Downloading Data and Preliminaries"
   ]
  },
  {
   "cell_type": "code",
   "execution_count": 1,
   "id": "7d0580a5",
   "metadata": {
    "id": "7d0580a5"
   },
   "outputs": [],
   "source": [
    "import pickle\n",
    "import matplotlib.pyplot as plt\n",
    "import matplotlib\n",
    "import numpy as np\n",
    "\n",
    "from zipfile import ZipFile\n",
    "import requests\n",
    "import io"
   ]
  },
  {
   "cell_type": "code",
   "execution_count": 2,
   "id": "b0756591",
   "metadata": {
    "id": "b0756591"
   },
   "outputs": [],
   "source": [
    "def load_zip(url):\n",
    "    response = requests.get(url)\n",
    "    response.raise_for_status()\n",
    "    zipf = ZipFile(io.BytesIO(response.content))\n",
    "    return {name: zipf.read(name) for name in zipf.namelist()}\n",
    "\n",
    "def load_array(zipfile, fn):\n",
    "    return np.load(io.BytesIO(zipfile[fn]))"
   ]
  },
  {
   "cell_type": "code",
   "execution_count": 3,
   "id": "bb77a4be",
   "metadata": {
    "colab": {
     "base_uri": "https://localhost:8080/"
    },
    "id": "bb77a4be",
    "outputId": "e74493aa-d245-4312-fd8b-fd87366b291f"
   },
   "outputs": [
    {
     "name": "stdout",
     "output_type": "stream",
     "text": [
      "Shapes of the training data:\n",
      "\n",
      "positions: (10000, 4, 2, 5)\n",
      "velocities: (10000, 1, 2, 5)\n",
      "charges: (10000, 5, 1)\n"
     ]
    }
   ],
   "source": [
    "\"\"\"\n",
    "This cell loads the training, validation or test data as numpy arrays,\n",
    "with the positions, initial velocities and charge data of the particles.\n",
    "\n",
    "The position arrays are shaped as\n",
    "[simulation id, time point (corresponding to t = 0, 0.5, 1 or 1.5), x/y spatial dimension, particle id].\n",
    "\n",
    "The initial velocity arrays are shaped as\n",
    "[simulation id, 1 (corresponding to t=0), x/y spatial dimension, particle id].\n",
    "\n",
    "The charge arrays are shaped as [simulation id, particle id, 1]\n",
    "\n",
    "\"\"\"\n",
    "\n",
    "data = load_zip('https://surfdrive.surf.nl/files/index.php/s/OIgda2ZRG8v0eqB/download')\n",
    "\n",
    "features = ['positions', 'velocities', 'charges']\n",
    "    \n",
    "positions_train, velocities_train, charges_train = (load_array(data, f'data/train/{f}.npy') for f in features)\n",
    "positions_valid, velocities_valid, charges_valid = (load_array(data, f'data/valid/{f}.npy') for f in features)\n",
    "positions_test, velocities_test, charges_test = (load_array(data, f'data/test/{f}.npy') for f in features)\n",
    "\n",
    "print('Shapes of the training data:\\n')\n",
    "print(f'positions: {positions_train.shape}')\n",
    "print(f'velocities: {velocities_train.shape}')\n",
    "print(f'charges: {charges_train.shape}')"
   ]
  },
  {
   "cell_type": "code",
   "execution_count": 4,
   "id": "1c3ea4cb",
   "metadata": {
    "colab": {
     "base_uri": "https://localhost:8080/"
    },
    "id": "1c3ea4cb",
    "outputId": "4d48cb4d-103d-470b-928a-595553808d2b"
   },
   "outputs": [
    {
     "name": "stdout",
     "output_type": "stream",
     "text": [
      "An example of retrieving data from the arrays:\n",
      "\n",
      "\n",
      "In simulation 42 of the training set, particle 3 with charge -1.0 had coordinates [ 2.05159559 -1.46130851].\n",
      "The initial velocity of this particle was [ 0.28402364 -0.24784824].\n"
     ]
    }
   ],
   "source": [
    "print('An example of retrieving data from the arrays:\\n\\n')\n",
    "\n",
    "sim_idx = 42\n",
    "t_idx = 2  # t_idx 0, 1, 2, 3 corresponds to t=0, 0.5, 1 and 1.5 respectively\n",
    "spatial_idx = (0,1)  # corresponds to both x and y dimension\n",
    "particle_idx = 3  # corresponds to particle with index 3\n",
    "\n",
    "p = positions_train[sim_idx, t_idx, spatial_idx, particle_idx]\n",
    "v = velocities_train[sim_idx, 0, spatial_idx, particle_idx]  # note: this array contains only the inital velocity -> hence the 0\n",
    "c = charges_train[sim_idx, particle_idx, 0] \n",
    "\n",
    "print(\n",
    "    f'In simulation {sim_idx} of the training set, particle {particle_idx} with charge {c} had coordinates {p}.\\nThe initial velocity of this particle was {v}.'\n",
    ")"
   ]
  },
  {
   "cell_type": "code",
   "execution_count": 5,
   "id": "10a3438a",
   "metadata": {
    "colab": {
     "base_uri": "https://localhost:8080/"
    },
    "id": "10a3438a",
    "outputId": "2df70260-13a3-480c-ab78-60902c5cefd4"
   },
   "outputs": [
    {
     "name": "stdout",
     "output_type": "stream",
     "text": [
      "Overview of no. datapoints:\n",
      "\n",
      "10000 train, 2000 validation, 2000 test simulations\n"
     ]
    }
   ],
   "source": [
    "print('Overview of no. datapoints:\\n')\n",
    "\n",
    "print(f'{len(positions_train)} train, {len(positions_valid)} validation, {len(positions_test)} test simulations')"
   ]
  },
  {
   "cell_type": "code",
   "execution_count": 6,
   "id": "f9106543",
   "metadata": {
    "id": "f9106543"
   },
   "outputs": [],
   "source": [
    "def plot_example(pos, vel):\n",
    "\n",
    "    fig = plt.figure()\n",
    "    axes = plt.gca()\n",
    "    axes.set_xlim([-5., 5.])\n",
    "    axes.set_ylim([-5., 5.])\n",
    "    colors = ['red', 'blue', 'green', 'orange', 'brown']\n",
    "    for i in range(pos.shape[-1]):\n",
    "        plt.plot(pos[0, 0, i], pos[0, 1, i], 'd', color=colors[i])\n",
    "        plt.plot(pos[-1, 0, i], pos[-1, 1, i], 'x', color=colors[i])\n",
    "        plt.plot([pos[0, 0, i], pos[0, 0, i] + vel[0, 0, i]], [pos[0, 1, i], pos[0, 1, i] + vel[0, 1, i]], '--', color=colors[i])\n",
    "    fig.set_size_inches(7, 7)\n",
    "    plt.xlim(np.min(pos)-1, np.max(pos) +1)\n",
    "    plt.ylim(np.min(pos)-1, np.max(pos) +1)\n",
    "    plt.plot([], [], 'd', color='black', label='initial position')\n",
    "    plt.plot([], [], 'x', color='black', label='final position')\n",
    "    plt.plot([], [], '--', color='black', label='initial velocity \\ndirection and magnitude')\n",
    "    plt.legend()\n",
    "    \n",
    "    plt.show()\n",
    "    return"
   ]
  },
  {
   "cell_type": "code",
   "execution_count": 7,
   "id": "d28681a6",
   "metadata": {
    "colab": {
     "base_uri": "https://localhost:8080/",
     "height": 428
    },
    "id": "d28681a6",
    "outputId": "42f65e33-35a4-4ab7-a908-5579930927b7"
   },
   "outputs": [
    {
     "data": {
      "image/png": "[encoded data removed]",
      "text/plain": [
       "<Figure size 504x504 with 1 Axes>"
      ]
     },
     "metadata": {
      "needs_background": "light"
     },
     "output_type": "display_data"
    }
   ],
   "source": [
    "random_idx = np.random.randint(0, 10000)\n",
    "plot_example(positions_train[random_idx], velocities_train[random_idx])"
   ]
  },
  {
   "cell_type": "markdown",
   "id": "059b633c",
   "metadata": {
    "id": "059b633c"
   },
   "source": [
    "# Data Handling and Preprocessing"
   ]
  },
  {
   "cell_type": "code",
   "execution_count": 8,
   "id": "e6ecb529",
   "metadata": {
    "colab": {
     "base_uri": "https://localhost:8080/"
    },
    "id": "e6ecb529",
    "outputId": "f8656fb4-2d13-4472-ca72-6e21dfeb7fb7"
   },
   "outputs": [
    {
     "name": "stdout",
     "output_type": "stream",
     "text": [
      "Device is set to cuda\n"
     ]
    }
   ],
   "source": [
    "# Pick the best device\n",
    "import torch\n",
    "\n",
    "def try_device(device):\n",
    "    # Try to put an array on given device. If successful, return device. Else, 'cpu'.\n",
    "    x = torch.ones((1,))\n",
    "    try:\n",
    "        x.to(device)\n",
    "        return device\n",
    "    except:\n",
    "        return 'cpu'\n",
    "\n",
    "device = try_device('cuda')\n",
    "if device == 'cpu':\n",
    "    device = try_device('mps')\n",
    "\n",
    "print(f'Device is set to {device}')\n",
    "\n",
    "# Move all the little craps into torch things on the device\n",
    "p_train, v_train, c_train = [torch.Tensor(vec).to(device=device) for vec in [positions_train, velocities_train, charges_train]]\n",
    "p_valid, v_valid, c_valid = [torch.Tensor(vec).to(device=device) for vec in [positions_valid, velocities_valid, charges_valid]]\n",
    "p_test, v_test, c_test = [torch.Tensor(vec).to(device=device) for vec in [positions_test, velocities_test, charges_test]]"
   ]
  },
  {
   "cell_type": "code",
   "execution_count": 9,
   "id": "89f90431",
   "metadata": {
    "id": "89f90431"
   },
   "outputs": [],
   "source": [
    "p_train, v_train, c_train = p_train[:5000], v_train[:5000], c_train[:5000]\n",
    "p_valid, v_valid, c_valid = p_valid[:1000], v_valid[:1000], c_valid[:1000]"
   ]
  },
  {
   "cell_type": "code",
   "execution_count": 10,
   "id": "f8633eb8",
   "metadata": {
    "id": "f8633eb8"
   },
   "outputs": [],
   "source": [
    "# Create a baseline: particle position = velocity * time + initial\n",
    "def baseline_predict(p0, v0, time):\n",
    "    '''\n",
    "    Return a numpy array of predicted x, y position of each particle in p0.\n",
    "    Given p0 starting locations, v0 starting velocities, and time to predict.\n",
    "    Result is computed via linear projection: v0 * time + p0.\n",
    "    Where p0 and v0 are both (N x 1 x 2 x P) tensors, for N simulations, P particles/sim\n",
    "    '''\n",
    "    return p0 + v0 * time\n"
   ]
  },
  {
   "cell_type": "code",
   "execution_count": 11,
   "id": "b9d84863",
   "metadata": {
    "id": "b9d84863"
   },
   "outputs": [],
   "source": [
    "from torch.utils.data import Dataset, DataLoader\n",
    "\n",
    "\n",
    "class myDataset(Dataset):\n",
    "    def __init__(self, posi, velo, charge):\n",
    "        self.posi = posi\n",
    "        self.velo = velo\n",
    "        self.charge = charge\n",
    "    \n",
    "    def __len__(self):\n",
    "        return len(self.posi)\n",
    "    \n",
    "    def __getitem__(self, index):\n",
    "        i = list(zip(self.posi, self.velo, self.charge))[index]\n",
    "        \n",
    "        p = torch.transpose(i[0][0], 0, 1)\n",
    "        v = torch.transpose(i[1][0], 0, 1)\n",
    "        c = i[2]\n",
    "        \n",
    "        # x_p, y_p, x_v, y_v, c at t=0\n",
    "        x = torch.hstack((p, v, c))\n",
    "        # x.shape = [10, 5, 5]\n",
    "        \n",
    "        # (x_p, y_p), (x_p, y_p), (x_p, y_p) at t = 0.5, 1.0, 1.5\n",
    "        y = torch.hstack((torch.transpose(i[0][1], 0, 1), \n",
    "                          torch.transpose(i[0][2], 0, 1), \n",
    "                          torch.transpose(i[0][3], 0, 1)))\n",
    "        # y.shape = [10, 5, 6]\n",
    "        \n",
    "        return x, y\n"
   ]
  },
  {
   "cell_type": "code",
   "execution_count": 12,
   "id": "3R3Oid3Fr043",
   "metadata": {
    "colab": {
     "base_uri": "https://localhost:8080/"
    },
    "id": "3R3Oid3Fr043",
    "outputId": "2a922792-d6cf-4a08-e81c-9b213f267f27"
   },
   "outputs": [
    {
     "data": {
      "text/plain": [
       "torch.Size([5, 6])"
      ]
     },
     "execution_count": 12,
     "metadata": {},
     "output_type": "execute_result"
    }
   ],
   "source": [
    "tmp = myDataset(p_train, v_train, c_train)\n",
    "x,y = tmp.__getitem__(0)\n",
    "y.shape"
   ]
  },
  {
   "cell_type": "code",
   "execution_count": 12,
   "id": "d070e561",
   "metadata": {
    "id": "d070e561"
   },
   "outputs": [],
   "source": [
    "trainLoader = DataLoader(myDataset(p_train, v_train, c_train), batch_size=10, shuffle=True)\n",
    "validationLoader = DataLoader(myDataset(p_valid, v_valid, c_valid), batch_size=10, shuffle=True)\n",
    "testLoader = DataLoader(myDataset(p_test, v_test, c_test), batch_size=10, shuffle=True)"
   ]
  },
  {
   "cell_type": "markdown",
   "id": "18b2874d",
   "metadata": {
    "id": "18b2874d"
   },
   "source": [
    "# Model Implementation"
   ]
  },
  {
   "cell_type": "code",
   "execution_count": 13,
   "id": "3aa472dc",
   "metadata": {
    "id": "3aa472dc"
   },
   "outputs": [],
   "source": [
    "import torch.nn as nn\n",
    "from tqdm import tqdm"
   ]
  },
  {
   "cell_type": "markdown",
   "id": "b33b0e1c",
   "metadata": {
    "id": "b33b0e1c"
   },
   "source": [
    "Implementation like https://github.com/higgsfield/interaction_network_pytorch/blob/master/Interaction%20Network.ipynb"
   ]
  },
  {
   "cell_type": "code",
   "execution_count": 45,
   "id": "e79124e4",
   "metadata": {
    "colab": {
     "base_uri": "https://localhost:8080/"
    },
    "id": "e79124e4",
    "outputId": "5b66cba2-8c46-4686-af0e-195eb444685a"
   },
   "outputs": [
    {
     "name": "stdout",
     "output_type": "stream",
     "text": [
      "tensor(-1.9361, device='cuda:0')\n",
      "tensor([[-1.9361, -0.2276, -0.7878,  0.0267, -1.0000],\n",
      "        [ 3.6532, -2.7631,  1.5892, -0.4211,  1.0000],\n",
      "        [-4.5496,  8.2998, -1.2906,  2.3834,  1.0000],\n",
      "        [-3.0958, -3.0921, -1.9173, -0.5785,  1.0000],\n",
      "        [ 0.1073, -2.8976,  0.6539, -0.5676, -1.0000]], device='cuda:0')\n",
      "tensor([[-1.9361, -0.2276],\n",
      "        [ 3.6532, -2.7631],\n",
      "        [-4.5496,  8.2998],\n",
      "        [-3.0958, -3.0921],\n",
      "        [ 0.1073, -2.8976]], device='cuda:0')\n",
      "tensor([[-0.7878,  0.0267],\n",
      "        [ 1.5892, -0.4211],\n",
      "        [-1.2906,  2.3834],\n",
      "        [-1.9173, -0.5785],\n",
      "        [ 0.6539, -0.5676]], device='cuda:0')\n"
     ]
    }
   ],
   "source": [
    "for i in zip(p_train, v_train, c_train):\n",
    "    p = torch.transpose(i[0][0], 0, 1)\n",
    "    v = torch.transpose(i[1][0], 0, 1)\n",
    "    c = i[2]\n",
    "   \n",
    "    data = torch.hstack((p, v, c))\n",
    "    print(data)\n",
    "    print(data[:, 0:2])\n",
    "    print(data[:, 2:4])\n",
    "    # x_p, y_p, x_v, y_v, c\n",
    "    break"
   ]
  },
  {
   "cell_type": "code",
   "execution_count": 18,
   "id": "MFsf3WwfDN-s",
   "metadata": {
    "colab": {
     "base_uri": "https://localhost:8080/"
    },
    "id": "MFsf3WwfDN-s",
    "outputId": "027d2d85-dd16-421e-f594-53d70e0e45d2"
   },
   "outputs": [
    {
     "data": {
      "text/plain": [
       "2"
      ]
     },
     "execution_count": 18,
     "metadata": {},
     "output_type": "execute_result"
    }
   ],
   "source": [
    "len(next(iter(trainLoader)))"
   ]
  },
  {
   "cell_type": "code",
   "execution_count": 14,
   "id": "587da524",
   "metadata": {
    "id": "587da524"
   },
   "outputs": [],
   "source": [
    "# object-centric acceleration neural network\n",
    "class AccelerationModel(nn.Module):\n",
    "    def __init__(self):\n",
    "        super(AccelerationModel, self).__init__()\n",
    "        \n",
    "        self.layers = nn.Sequential(\n",
    "            nn.Linear(5, 25),\n",
    "            nn.ReLU(),\n",
    "            nn.Dropout(p=0.2),\n",
    "            nn.Linear(25, 2),\n",
    "        )\n",
    "        \n",
    "    def forward(self, x):\n",
    "        x = x.view(-1, 5)\n",
    "        x = self.layers(x)\n",
    "        return x.view(10, 5, 2)"
   ]
  },
  {
   "cell_type": "code",
   "execution_count": 15,
   "id": "8bca2f0d",
   "metadata": {
    "id": "8bca2f0d"
   },
   "outputs": [],
   "source": [
    "# object-centric velocity neural network\n",
    "class VelocityModel(nn.Module):\n",
    "    def __init__(self):\n",
    "        super(VelocityModel, self).__init__()\n",
    "        \n",
    "        self.layers = nn.Sequential(\n",
    "            nn.Linear(4, 16),\n",
    "            # nn.Dropout(p=0.2),\n",
    "            nn.ReLU(),\n",
    "            nn.Linear(16, 2),\n",
    "        )\n",
    "        \n",
    "    def forward(self, x):\n",
    "        x = x.view(-1, 4)\n",
    "        x = self.layers(x)\n",
    "        return x.view(10, 5, 2)"
   ]
  },
  {
   "cell_type": "code",
   "execution_count": 16,
   "id": "3535d8b4",
   "metadata": {
    "id": "3535d8b4"
   },
   "outputs": [],
   "source": [
    "# object-centric position neural network\n",
    "class PositionModel(nn.Module):\n",
    "    def __init__(self):\n",
    "        super(PositionModel, self).__init__()\n",
    "        \n",
    "        self.layers = nn.Sequential(\n",
    "            nn.Linear(4, 16),\n",
    "            nn.ReLU(),\n",
    "            #nn.Dropout(p=0.2),\n",
    "            nn.Linear(16, 2),\n",
    "        )\n",
    "        \n",
    "    def forward(self, x):\n",
    "        x = x.view(-1, 4)\n",
    "        x = self.layers(x)\n",
    "        return x.view(10, 5, 2)"
   ]
  },
  {
   "cell_type": "code",
   "execution_count": 17,
   "id": "1e9bdf5e",
   "metadata": {
    "colab": {
     "base_uri": "https://localhost:8080/"
    },
    "id": "1e9bdf5e",
    "outputId": "dfb49188-c0c5-4dc1-8926-fc3abba94f07"
   },
   "outputs": [
    {
     "data": {
      "text/plain": [
       "InteractionNetwork(\n",
       "  (acceleration_model): AccelerationModel(\n",
       "    (layers): Sequential(\n",
       "      (0): Linear(in_features=5, out_features=25, bias=True)\n",
       "      (1): ReLU()\n",
       "      (2): Dropout(p=0.2, inplace=False)\n",
       "      (3): Linear(in_features=25, out_features=2, bias=True)\n",
       "    )\n",
       "  )\n",
       "  (velocity_model): VelocityModel(\n",
       "    (layers): Sequential(\n",
       "      (0): Linear(in_features=4, out_features=16, bias=True)\n",
       "      (1): ReLU()\n",
       "      (2): Linear(in_features=16, out_features=2, bias=True)\n",
       "    )\n",
       "  )\n",
       "  (position_model): PositionModel(\n",
       "    (layers): Sequential(\n",
       "      (0): Linear(in_features=4, out_features=16, bias=True)\n",
       "      (1): ReLU()\n",
       "      (2): Linear(in_features=16, out_features=2, bias=True)\n",
       "    )\n",
       "  )\n",
       ")"
      ]
     },
     "execution_count": 17,
     "metadata": {},
     "output_type": "execute_result"
    }
   ],
   "source": [
    "# interaction network\n",
    "class InteractionNetwork(nn.Module):\n",
    "    def __init__(self):\n",
    "        super(InteractionNetwork, self).__init__()\n",
    "        \n",
    "        self.acceleration_model = AccelerationModel()\n",
    "        self.velocity_model = VelocityModel()\n",
    "        self.position_model = PositionModel()\n",
    "        \n",
    "    def forward(self, x, delta_t):\n",
    "        pred_accelleration = self.acceleration_model(x)\n",
    "        pred_velocity = self.velocity_model(torch.dstack((x[:, :, 2:4], torch.mul(pred_accelleration, delta_t))))\n",
    "        pred_position = self.position_model(torch.dstack((x[:, :, 0:2], pred_velocity)))\n",
    "        return pred_position, pred_velocity\n",
    "    \n",
    "interaction_network = InteractionNetwork()\n",
    "interaction_network.to(device=device)"
   ]
  },
  {
   "cell_type": "code",
   "execution_count": 18,
   "id": "aJfvjDr1j551",
   "metadata": {
    "id": "aJfvjDr1j551"
   },
   "outputs": [],
   "source": [
    "def evaluation(model, test_loader, klass):\n",
    "    model = model.eval()\n",
    "    loss_t1, loss_t2, loss_t3, loss_tot = list(), list(), list(), list()\n",
    "\n",
    "    with torch.no_grad():\n",
    "        for x, y in test_loader:\n",
    "            pred_p_t1, pred_v_t1 = model(x, 0.5)\n",
    "            pred_p_t2, pred_v_t2 = model(x, 1.0)\n",
    "            pred_p_t3, _ = model(x, 1.5)\n",
    "            \n",
    "#             pred_p_t2, pred_v_t2 = model(torch.dstack((pred_p_t1, pred_v_t1, x[:, :, -1])), 0.5)\n",
    "#             pred_p_t3, _ = model(torch.dstack((pred_p_t2, pred_v_t2, x[:, :, -1])), 0.5)\n",
    "\n",
    "            loss1 = criterion(pred_p_t1,y[:,:,0:2])\n",
    "            loss2 = criterion(pred_p_t2,y[:,:,2:4])\n",
    "            loss3 = criterion(pred_p_t3,y[:,:,4:6])\n",
    "\n",
    "            loss_t1.append(loss1.item() / 10)\n",
    "            loss_t2.append(loss2.item() / 10)\n",
    "            loss_t3.append(loss3.item() / 10)\n",
    "\n",
    "            y_pred = torch.dstack((pred_p_t1, pred_p_t2, pred_p_t3))\n",
    "            loss = criterion(y_pred, y)\n",
    "            loss_tot.append(loss.item() / 10)\n",
    "\n",
    "    print(f'Average loss in totall: {round(sum(loss_tot)/len(test_loader),5)}')\n",
    "    print(f'Average loss in {klass} at time= 0.5: {round(sum(loss_t1)/len(test_loader),5)}')\n",
    "    print(f'Average loss in {klass} at time= 1: {round(sum(loss_t2)/len(test_loader),5)}')\n",
    "    print(f'Average loss in {klass} at time= 1.5: {round(sum(loss_t3)/len(test_loader),5)}\\n')"
   ]
  },
  {
   "cell_type": "code",
   "execution_count": 19,
   "id": "cbd80a9d",
   "metadata": {
    "colab": {
     "base_uri": "https://localhost:8080/"
    },
    "id": "cbd80a9d",
    "outputId": "cbbe3aec-472b-49f9-9cdc-f4ca3d359194"
   },
   "outputs": [
    {
     "name": "stderr",
     "output_type": "stream",
     "text": [
      "Training: 100%|██████████████████████████████████████████████████████████████████████| 500/500 [02:28<00:00,  3.36it/s]\n"
     ]
    },
    {
     "name": "stdout",
     "output_type": "stream",
     "text": [
      "Average loss: 0.22637\n",
      "val loss: 0.2038\n",
      "\n"
     ]
    },
    {
     "name": "stderr",
     "output_type": "stream",
     "text": [
      "Training: 100%|██████████████████████████████████████████████████████████████████████| 500/500 [03:02<00:00,  2.74it/s]\n"
     ]
    },
    {
     "name": "stdout",
     "output_type": "stream",
     "text": [
      "Average loss: 0.18824\n",
      "val loss: 0.16301\n",
      "\n"
     ]
    },
    {
     "name": "stderr",
     "output_type": "stream",
     "text": [
      "Training: 100%|██████████████████████████████████████████████████████████████████████| 500/500 [02:55<00:00,  2.84it/s]\n"
     ]
    },
    {
     "name": "stdout",
     "output_type": "stream",
     "text": [
      "Average loss: 0.14103\n",
      "val loss: 0.11098\n",
      "\n"
     ]
    },
    {
     "name": "stderr",
     "output_type": "stream",
     "text": [
      "Training: 100%|██████████████████████████████████████████████████████████████████████| 500/500 [03:04<00:00,  2.71it/s]\n"
     ]
    },
    {
     "name": "stdout",
     "output_type": "stream",
     "text": [
      "Average loss: 0.09088\n",
      "val loss: 0.07444\n",
      "\n"
     ]
    },
    {
     "name": "stderr",
     "output_type": "stream",
     "text": [
      "Training: 100%|██████████████████████████████████████████████████████████████████████| 500/500 [03:09<00:00,  2.64it/s]\n"
     ]
    },
    {
     "name": "stdout",
     "output_type": "stream",
     "text": [
      "Average loss: 0.06884\n",
      "val loss: 0.06253\n",
      "\n"
     ]
    },
    {
     "name": "stderr",
     "output_type": "stream",
     "text": [
      "Training: 100%|██████████████████████████████████████████████████████████████████████| 500/500 [03:14<00:00,  2.57it/s]\n"
     ]
    },
    {
     "name": "stdout",
     "output_type": "stream",
     "text": [
      "Average loss: 0.05928\n",
      "val loss: 0.05479\n",
      "\n"
     ]
    },
    {
     "name": "stderr",
     "output_type": "stream",
     "text": [
      "Training: 100%|██████████████████████████████████████████████████████████████████████| 500/500 [03:09<00:00,  2.64it/s]\n"
     ]
    },
    {
     "name": "stdout",
     "output_type": "stream",
     "text": [
      "Average loss: 0.05203\n",
      "val loss: 0.04837\n",
      "\n"
     ]
    },
    {
     "name": "stderr",
     "output_type": "stream",
     "text": [
      "Training: 100%|██████████████████████████████████████████████████████████████████████| 500/500 [03:05<00:00,  2.70it/s]\n"
     ]
    },
    {
     "name": "stdout",
     "output_type": "stream",
     "text": [
      "Average loss: 0.04626\n",
      "val loss: 0.04378\n",
      "\n"
     ]
    },
    {
     "name": "stderr",
     "output_type": "stream",
     "text": [
      "Training: 100%|██████████████████████████████████████████████████████████████████████| 500/500 [03:01<00:00,  2.76it/s]\n"
     ]
    },
    {
     "name": "stdout",
     "output_type": "stream",
     "text": [
      "Average loss: 0.04279\n",
      "val loss: 0.04154\n",
      "\n"
     ]
    },
    {
     "name": "stderr",
     "output_type": "stream",
     "text": [
      "Training: 100%|██████████████████████████████████████████████████████████████████████| 500/500 [02:56<00:00,  2.83it/s]\n"
     ]
    },
    {
     "name": "stdout",
     "output_type": "stream",
     "text": [
      "Average loss: 0.04121\n",
      "val loss: 0.04047\n",
      "\n"
     ]
    },
    {
     "name": "stderr",
     "output_type": "stream",
     "text": [
      "Training: 100%|██████████████████████████████████████████████████████████████████████| 500/500 [02:59<00:00,  2.78it/s]\n"
     ]
    },
    {
     "name": "stdout",
     "output_type": "stream",
     "text": [
      "Average loss: 0.0404\n",
      "val loss: 0.03982\n",
      "\n"
     ]
    },
    {
     "name": "stderr",
     "output_type": "stream",
     "text": [
      "Training: 100%|██████████████████████████████████████████████████████████████████████| 500/500 [03:00<00:00,  2.76it/s]\n"
     ]
    },
    {
     "name": "stdout",
     "output_type": "stream",
     "text": [
      "Average loss: 0.03982\n",
      "val loss: 0.03932\n",
      "\n"
     ]
    },
    {
     "name": "stderr",
     "output_type": "stream",
     "text": [
      "Training: 100%|██████████████████████████████████████████████████████████████████████| 500/500 [03:00<00:00,  2.77it/s]\n"
     ]
    },
    {
     "name": "stdout",
     "output_type": "stream",
     "text": [
      "Average loss: 0.03937\n",
      "val loss: 0.03888\n",
      "\n"
     ]
    },
    {
     "name": "stderr",
     "output_type": "stream",
     "text": [
      "Training: 100%|██████████████████████████████████████████████████████████████████████| 500/500 [02:38<00:00,  3.15it/s]\n"
     ]
    },
    {
     "name": "stdout",
     "output_type": "stream",
     "text": [
      "Average loss: 0.03895\n",
      "val loss: 0.03848\n",
      "\n"
     ]
    },
    {
     "name": "stderr",
     "output_type": "stream",
     "text": [
      "Training: 100%|██████████████████████████████████████████████████████████████████████| 500/500 [02:31<00:00,  3.30it/s]\n"
     ]
    },
    {
     "name": "stdout",
     "output_type": "stream",
     "text": [
      "Average loss: 0.03855\n",
      "val loss: 0.0381\n",
      "\n"
     ]
    },
    {
     "name": "stderr",
     "output_type": "stream",
     "text": [
      "Training: 100%|██████████████████████████████████████████████████████████████████████| 500/500 [02:45<00:00,  3.02it/s]\n"
     ]
    },
    {
     "name": "stdout",
     "output_type": "stream",
     "text": [
      "Average loss: 0.03819\n",
      "val loss: 0.03773\n",
      "\n"
     ]
    },
    {
     "name": "stderr",
     "output_type": "stream",
     "text": [
      "Training: 100%|██████████████████████████████████████████████████████████████████████| 500/500 [02:31<00:00,  3.29it/s]\n"
     ]
    },
    {
     "name": "stdout",
     "output_type": "stream",
     "text": [
      "Average loss: 0.0378\n",
      "val loss: 0.03736\n",
      "\n"
     ]
    },
    {
     "name": "stderr",
     "output_type": "stream",
     "text": [
      "Training: 100%|██████████████████████████████████████████████████████████████████████| 500/500 [02:30<00:00,  3.31it/s]\n"
     ]
    },
    {
     "name": "stdout",
     "output_type": "stream",
     "text": [
      "Average loss: 0.03745\n",
      "val loss: 0.03699\n",
      "\n"
     ]
    },
    {
     "name": "stderr",
     "output_type": "stream",
     "text": [
      "Training: 100%|██████████████████████████████████████████████████████████████████████| 500/500 [02:48<00:00,  2.97it/s]\n"
     ]
    },
    {
     "name": "stdout",
     "output_type": "stream",
     "text": [
      "Average loss: 0.03708\n",
      "val loss: 0.03662\n",
      "\n"
     ]
    },
    {
     "name": "stderr",
     "output_type": "stream",
     "text": [
      "Training: 100%|██████████████████████████████████████████████████████████████████████| 500/500 [03:01<00:00,  2.76it/s]\n"
     ]
    },
    {
     "name": "stdout",
     "output_type": "stream",
     "text": [
      "Average loss: 0.03672\n",
      "val loss: 0.03625\n",
      "\n"
     ]
    },
    {
     "name": "stderr",
     "output_type": "stream",
     "text": [
      "Training: 100%|██████████████████████████████████████████████████████████████████████| 500/500 [03:01<00:00,  2.76it/s]\n"
     ]
    },
    {
     "name": "stdout",
     "output_type": "stream",
     "text": [
      "Average loss: 0.03635\n",
      "val loss: 0.03587\n",
      "\n"
     ]
    },
    {
     "name": "stderr",
     "output_type": "stream",
     "text": [
      "Training: 100%|██████████████████████████████████████████████████████████████████████| 500/500 [02:59<00:00,  2.78it/s]\n"
     ]
    },
    {
     "name": "stdout",
     "output_type": "stream",
     "text": [
      "Average loss: 0.03599\n",
      "val loss: 0.03548\n",
      "\n"
     ]
    },
    {
     "name": "stderr",
     "output_type": "stream",
     "text": [
      "Training: 100%|██████████████████████████████████████████████████████████████████████| 500/500 [02:59<00:00,  2.78it/s]\n"
     ]
    },
    {
     "name": "stdout",
     "output_type": "stream",
     "text": [
      "Average loss: 0.03563\n",
      "val loss: 0.0351\n",
      "\n"
     ]
    },
    {
     "name": "stderr",
     "output_type": "stream",
     "text": [
      "Training: 100%|██████████████████████████████████████████████████████████████████████| 500/500 [02:59<00:00,  2.78it/s]\n"
     ]
    },
    {
     "name": "stdout",
     "output_type": "stream",
     "text": [
      "Average loss: 0.03528\n",
      "val loss: 0.03472\n",
      "\n"
     ]
    },
    {
     "name": "stderr",
     "output_type": "stream",
     "text": [
      "Training: 100%|██████████████████████████████████████████████████████████████████████| 500/500 [02:33<00:00,  3.26it/s]\n"
     ]
    },
    {
     "name": "stdout",
     "output_type": "stream",
     "text": [
      "Average loss: 0.03496\n",
      "val loss: 0.03435\n",
      "\n",
      "test loss:0.03449\n"
     ]
    }
   ],
   "source": [
    "optimizer = torch.optim.SGD(interaction_network.parameters(), lr=0.001, weight_decay=1e-4)\n",
    "criterion = nn.L1Loss()\n",
    "criterion.to(device=device)\n",
    "\n",
    "train_loss_graph, val_loss_graph = list(), list()\n",
    "for epoch in range(25):\n",
    "    train_loss, val_loss = list(), list()\n",
    "    \n",
    "    interaction_network = interaction_network.train()\n",
    "    for x_train, y_train in tqdm(trainLoader, desc=\"Training\"):\n",
    "        optimizer.zero_grad()\n",
    "        pred_p_t1, _ = interaction_network(x_train, 0.5)\n",
    "        pred_p_t2, _ = interaction_network(x_train, 1.0)\n",
    "        pred_p_t3, _ = interaction_network(x_train, 1.5)\n",
    "        \n",
    "#         pred_p_t2, pred_v_t2 = interaction_network(torch.dstack((pred_p_t1, pred_v_t1, x_train[:, :, -1])), 0.5)\n",
    "#         pred_p_t3, _ = interaction_network(torch.dstack((pred_p_t2, pred_v_t2, x_train[:, :, -1])), 0.5)\n",
    "        \n",
    "        y_pred = torch.dstack((pred_p_t1, pred_p_t2, pred_p_t3))\n",
    "        loss = criterion(y_pred, y_train)\n",
    "\n",
    "        loss.backward()\n",
    "        optimizer.step()\n",
    "        \n",
    "        train_loss.append(loss.item() / 10)\n",
    "\n",
    "    train_loss_graph.append(sum(train_loss) / len(trainLoader))\n",
    "    \n",
    "    interaction_network = interaction_network.eval()\n",
    "    for x_val, y_val in validationLoader:\n",
    "        optimizer.zero_grad()\n",
    "        pred_p_t1, pred_v_t1 = interaction_network(x_val, 0.5)\n",
    "        pred_p_t2, pred_v_t2 = interaction_network(x_val, 1.0)\n",
    "        pred_p_t3, _ = interaction_network(x_val, 1.5)\n",
    "        \n",
    "#         pred_p_t2, pred_v_t2 = interaction_network(torch.dstack((pred_p_t1, pred_v_t1, x_val[:, :, -1])), 0.5)\n",
    "#         pred_p_t3, _ = interaction_network(torch.dstack((pred_p_t2, pred_v_t2, x_val[:, :, -1])), 0.5)\n",
    "        \n",
    "        y_pred = torch.dstack((pred_p_t1, pred_p_t2, pred_p_t3))\n",
    "        loss = criterion(y_pred, y_val)\n",
    "        \n",
    "        val_loss.append(loss.item() / 10)\n",
    "    \n",
    "    val_loss_graph.append(sum(val_loss) / len(validationLoader))\n",
    "    \n",
    "    #evaluation(interaction_network,validationLoader,\"validation\")\n",
    "        \n",
    "    print(f'Average loss: {round(train_loss_graph[-1],5)}')\n",
    "    print(f'val loss: {round(val_loss_graph[-1],5)}\\n')\n",
    "\n",
    "test_loss = list()\n",
    "interaction_network = interaction_network.eval()\n",
    "for x_test, y_test in testLoader:\n",
    "    optimizer.zero_grad()\n",
    "    pred_p_t1, pred_v_t1 = interaction_network(x_test, 0.5)\n",
    "    pred_p_t2, pred_v_t2 = interaction_network(x_test, 1.0)\n",
    "    pred_p_t3, _ = interaction_network(x_test, 1.5)\n",
    "    \n",
    "    \n",
    "#     pred_p_t2, pred_v_t2 = interaction_network(torch.dstack((pred_p_t1, pred_v_t1, x_test[:, :, -1])), 0.5)\n",
    "#     pred_p_t3, _ = interaction_network(torch.dstack((pred_p_t2, pred_v_t2, x_test[:, :, -1])), 0.5)\n",
    "        \n",
    "    y_pred = torch.dstack((pred_p_t1, pred_p_t2, pred_p_t3))\n",
    "    loss = criterion(y_pred, y_test)\n",
    "        \n",
    "    test_loss.append(loss.item() / 10)\n",
    "    \n",
    "print(f\"test loss:{round(sum(test_loss) / len(testLoader),5)}\")"
   ]
  },
  {
   "cell_type": "code",
   "execution_count": 20,
   "id": "rnAe3_nXllE2",
   "metadata": {
    "colab": {
     "base_uri": "https://localhost:8080/"
    },
    "id": "rnAe3_nXllE2",
    "outputId": "c0b3f96c-32af-4fb0-f66d-26d454d7ed07"
   },
   "outputs": [
    {
     "name": "stdout",
     "output_type": "stream",
     "text": [
      "Average loss in totall: 0.03438\n",
      "Average loss in training at time= 0.5: 0.02207\n",
      "Average loss in training at time= 1: 0.03035\n",
      "Average loss in training at time= 1.5: 0.05072\n",
      "\n",
      "Average loss in totall: 0.03435\n",
      "Average loss in validation at time= 0.5: 0.02199\n",
      "Average loss in validation at time= 1: 0.03039\n",
      "Average loss in validation at time= 1.5: 0.05067\n",
      "\n",
      "Average loss in totall: 0.03449\n",
      "Average loss in testing at time= 0.5: 0.02209\n",
      "Average loss in testing at time= 1: 0.03049\n",
      "Average loss in testing at time= 1.5: 0.05089\n",
      "\n"
     ]
    }
   ],
   "source": [
    "evaluation(interaction_network,trainLoader,\"training\")\n",
    "evaluation(interaction_network,validationLoader,\"validation\")\n",
    "evaluation(interaction_network,testLoader,\"testing\")"
   ]
  },
  {
   "cell_type": "code",
   "execution_count": 21,
   "id": "e5d8441a",
   "metadata": {},
   "outputs": [],
   "source": [
    "def experiment(model, test_loader, klass):\n",
    "    model = model.eval()\n",
    "    loss_t1, loss_t2, loss_t3, loss_tot = list(), list(), list(), list()\n",
    "    pred_positions = list()\n",
    "\n",
    "    with torch.no_grad():\n",
    "        x, y = next(iter(test_loader))\n",
    "        \n",
    "#         pred_p, pred_v = model(x, 0.01)\n",
    "#         pred_positions.append(pred_p)\n",
    "\n",
    "        for i in range(1, 151):\n",
    "            pred_p, pred_v = model(x, i/100)\n",
    "#             pred_p, pred_v = model(torch.dstack((pred_p, pred_v, x[:, :, -1])), 0.01)\n",
    "            pred_positions.append(pred_p)\n",
    "        \n",
    "        loss1 = criterion(pred_positions[49], y[:,:,0:2])\n",
    "        loss2 = criterion(pred_positions[99], y[:,:,2:4])\n",
    "        loss3 = criterion(pred_positions[-1], y[:,:,4:6])\n",
    "\n",
    "        loss_t1.append(loss1.item() / 10)\n",
    "        loss_t2.append(loss2.item() / 10)\n",
    "        loss_t3.append(loss3.item() / 10)\n",
    "\n",
    "        y_pred = torch.dstack((pred_positions[49], pred_positions[99], pred_positions[-1]))\n",
    "        loss = criterion(y_pred, y)\n",
    "        loss_tot.append(loss.item() / 10)\n",
    "\n",
    "    print(f'Average loss in totall: {round(sum(loss_tot),5)}')\n",
    "    print(f'Average loss in {klass} at time= 0.5: {round(sum(loss_t1),5)}')\n",
    "    print(f'Average loss in {klass} at time= 1: {round(sum(loss_t2),5)}')\n",
    "    print(f'Average loss in {klass} at time= 1.5: {round(sum(loss_t3),5)}\\n')\n",
    "    \n",
    "    return pred_positions, x, y"
   ]
  },
  {
   "cell_type": "code",
   "execution_count": 22,
   "id": "210fc160",
   "metadata": {},
   "outputs": [
    {
     "name": "stdout",
     "output_type": "stream",
     "text": [
      "Average loss in totall: 0.03399\n",
      "Average loss in testing at time= 0.5: 0.02283\n",
      "Average loss in testing at time= 1: 0.03085\n",
      "Average loss in testing at time= 1.5: 0.04829\n",
      "\n"
     ]
    }
   ],
   "source": [
    "positions, data, y = experiment(interaction_network, testLoader, \"testing\")"
   ]
  },
  {
   "cell_type": "code",
   "execution_count": 23,
   "id": "aa801a44",
   "metadata": {},
   "outputs": [],
   "source": [
    "unique_pos = list()\n",
    "for stamp in positions:\n",
    "    unique_pos.append(stamp[0].to(device=\"cpu\"))\n",
    "    \n",
    "positions = unique_pos\n",
    "\n",
    "exp_x, exp_y = list(), list()\n",
    "\n",
    "for frame in positions:\n",
    "    exp_x.append(frame[:, 0])\n",
    "    exp_y.append(frame[:, 1])"
   ]
  },
  {
   "cell_type": "code",
   "execution_count": 85,
   "id": "87f7e8bc",
   "metadata": {},
   "outputs": [
    {
     "name": "stdout",
     "output_type": "stream",
     "text": [
      "tensor([-2.9389,  1.5687,  1.0625, -2.9976,  0.1526]) tensor([-1.6013, -0.4268, -1.1761,  1.8365, -0.6963])\n",
      "tensor([-2.9400,  1.5691,  1.0625, -2.9989,  0.1526]) tensor([-1.6022, -0.4262, -1.1759,  1.8370, -0.6966])\n",
      "tensor([-2.9400,  1.5696,  1.0627, -2.9994,  0.1524]) tensor([-1.6022, -0.4260, -1.1758,  1.8372, -0.6967])\n",
      "tensor([-2.9399,  1.5698,  1.0623, -2.9994,  0.1524]) tensor([-1.6023, -0.4259, -1.1759,  1.8376, -0.6967])\n",
      "tensor([-2.9399,  1.5701,  1.0624, -2.9998,  0.1523]) tensor([-1.6022, -0.4252, -1.1756,  1.8377, -0.6968])\n",
      "tensor([-2.9401,  1.5704,  1.0625, -3.0003,  0.1522]) tensor([-1.6025, -0.4250, -1.1755,  1.8378, -0.6970])\n",
      "tensor([-2.9401,  1.5708,  1.0628, -3.0012,  0.1523]) tensor([-1.6027, -0.4244, -1.1758,  1.8382, -0.6970])\n",
      "tensor([-2.9409,  1.5713,  1.0629, -3.0017,  0.1522]) tensor([-1.6024, -0.4241, -1.1757,  1.8387, -0.6970])\n",
      "tensor([-2.9408,  1.5713,  1.0627, -3.0020,  0.1519]) tensor([-1.6025, -0.4237, -1.1755,  1.8385, -0.6971])\n",
      "tensor([-2.9409,  1.5717,  1.0626, -3.0022,  0.1519]) tensor([-1.6030, -0.4234, -1.1755,  1.8389, -0.6970])\n",
      "tensor([-2.9411,  1.5722,  1.0628, -3.0027,  0.1519]) tensor([-1.6034, -0.4231, -1.1754,  1.8394, -0.6972])\n",
      "tensor([-2.9410,  1.5726,  1.0628, -3.0039,  0.1519]) tensor([-1.6035, -0.4227, -1.1752,  1.8395, -0.6973])\n",
      "tensor([-2.9415,  1.5732,  1.0626, -3.0041,  0.1518]) tensor([-1.6036, -0.4223, -1.1754,  1.8400, -0.6973])\n",
      "tensor([-2.9418,  1.5731,  1.0627, -3.0044,  0.1517]) tensor([-1.6035, -0.4219, -1.1752,  1.8401, -0.6976])\n",
      "tensor([-2.9420,  1.5737,  1.0629, -3.0050,  0.1516]) tensor([-1.6039, -0.4215, -1.1755,  1.8403, -0.6978])\n",
      "tensor([-2.9421,  1.5739,  1.0631, -3.0053,  0.1516]) tensor([-1.6045, -0.4210, -1.1754,  1.8404, -0.6978])\n",
      "tensor([-2.9419,  1.5740,  1.0631, -3.0064,  0.1514]) tensor([-1.6046, -0.4208, -1.1751,  1.8412, -0.6979])\n",
      "tensor([-2.9427,  1.5745,  1.0629, -3.0067,  0.1514]) tensor([-1.6045, -0.4206, -1.1754,  1.8410, -0.6979])\n",
      "tensor([-2.9429,  1.5749,  1.0629, -3.0072,  0.1513]) tensor([-1.6049, -0.4199, -1.1752,  1.8411, -0.6980])\n",
      "tensor([-2.9430,  1.5750,  1.0630, -3.0076,  0.1513]) tensor([-1.6044, -0.4197, -1.1749,  1.8407, -0.6982])\n",
      "tensor([-2.9432,  1.5754,  1.0630, -3.0085,  0.1513]) tensor([-1.6050, -0.4193, -1.1750,  1.8411, -0.6982])\n",
      "tensor([-2.9432,  1.5759,  1.0632, -3.0096,  0.1510]) tensor([-1.6055, -0.4190, -1.1748,  1.8417, -0.6983])\n",
      "tensor([-2.9436,  1.5763,  1.0631, -3.0098,  0.1510]) tensor([-1.6054, -0.4183, -1.1750,  1.8414, -0.6986])\n",
      "tensor([-2.9435,  1.5768,  1.0631, -3.0104,  0.1510]) tensor([-1.6055, -0.4181, -1.1751,  1.8420, -0.6988])\n",
      "tensor([-2.9438,  1.5769,  1.0633, -3.0107,  0.1509]) tensor([-1.6064, -0.4178, -1.1750,  1.8417, -0.6989])\n",
      "tensor([-2.9439,  1.5772,  1.0634, -3.0119,  0.1508]) tensor([-1.6065, -0.4174, -1.1748,  1.8426, -0.6989])\n",
      "tensor([-2.9445,  1.5777,  1.0631, -3.0122,  0.1507]) tensor([-1.6066, -0.4171, -1.1747,  1.8427, -0.6989])\n",
      "tensor([-2.9449,  1.5781,  1.0632, -3.0126,  0.1506]) tensor([-1.6065, -0.4165, -1.1747,  1.8429, -0.6990])\n",
      "tensor([-2.9452,  1.5787,  1.0633, -3.0131,  0.1506]) tensor([-1.6069, -0.4164, -1.1746,  1.8424, -0.6992])\n",
      "tensor([-2.9451,  1.5790,  1.0635, -3.0132,  0.1504]) tensor([-1.6075, -0.4158, -1.1749,  1.8429, -0.6993])\n",
      "tensor([-2.9450,  1.5788,  1.0636, -3.0145,  0.1504]) tensor([-1.6077, -0.4155, -1.1748,  1.8430, -0.6993])\n",
      "tensor([-2.9457,  1.5792,  1.0633, -3.0149,  0.1503]) tensor([-1.6079, -0.4154, -1.1747,  1.8431, -0.6996])\n",
      "tensor([-2.9460,  1.5795,  1.0635, -3.0154,  0.1503]) tensor([-1.6081, -0.4148, -1.1746,  1.8433, -0.6997])\n",
      "tensor([-2.9458,  1.5800,  1.0634, -3.0154,  0.1502]) tensor([-1.6081, -0.4144, -1.1744,  1.8434, -0.6999])\n",
      "tensor([-2.9461,  1.5804,  1.0637, -3.0158,  0.1500]) tensor([-1.6085, -0.4139, -1.1745,  1.8439, -0.6998])\n",
      "tensor([-2.9463,  1.5805,  1.0636, -3.0171,  0.1500]) tensor([-1.6085, -0.4136, -1.1744,  1.8440, -0.6998])\n",
      "tensor([-2.9462,  1.5809,  1.0634, -3.0176,  0.1499]) tensor([-1.6087, -0.4132, -1.1741,  1.8446, -0.6999])\n",
      "tensor([-2.9461,  1.5814,  1.0637, -3.0178,  0.1499]) tensor([-1.6087, -0.4131, -1.1746,  1.8440, -0.7001])\n",
      "tensor([-2.9469,  1.5819,  1.0637, -3.0181,  0.1498]) tensor([-1.6094, -0.4127, -1.1744,  1.8442, -0.7001])\n",
      "tensor([-2.9472,  1.5823,  1.0638, -3.0185,  0.1498]) tensor([-1.6096, -0.4121, -1.1742,  1.8444, -0.7002])\n",
      "tensor([-2.9475,  1.5828,  1.0636, -3.0199,  0.1496]) tensor([-1.6096, -0.4119, -1.1744,  1.8449, -0.7002])\n",
      "tensor([-2.9479,  1.5827,  1.0637, -3.0203,  0.1496]) tensor([-1.6099, -0.4114, -1.1741,  1.8450, -0.7006])\n",
      "tensor([-2.9478,  1.5828,  1.0637, -3.0204,  0.1495]) tensor([-1.6106, -0.4111, -1.1742,  1.8451, -0.7008])\n",
      "tensor([-2.9479,  1.5832,  1.0638, -3.0208,  0.1494]) tensor([-1.6106, -0.4106, -1.1741,  1.8453, -0.7008])\n",
      "tensor([-2.9483,  1.5838,  1.0640, -3.0213,  0.1493]) tensor([-1.6110, -0.4103, -1.1739,  1.8454, -0.7008])\n",
      "tensor([-2.9482,  1.5843,  1.0638, -3.0223,  0.1493]) tensor([-1.6112, -0.4100, -1.1743,  1.8462, -0.7011])\n",
      "tensor([-2.9481,  1.5843,  1.0639, -3.0225,  0.1492]) tensor([-1.6106, -0.4095, -1.1740,  1.8454, -0.7011])\n",
      "tensor([-2.9479,  1.5847,  1.0640, -3.0232,  0.1490]) tensor([-1.6113, -0.4093, -1.1739,  1.8459, -0.7011])\n",
      "tensor([-2.9486,  1.5850,  1.0640, -3.0235,  0.1489]) tensor([-1.6114, -0.4087, -1.1739,  1.8457, -0.7012])\n",
      "tensor([-2.9498,  1.5855,  1.0642, -3.0240,  0.1489]) tensor([-1.6115, -0.4085, -1.1738,  1.8463, -0.7012])\n",
      "tensor([-2.9497,  1.5859,  1.0639, -3.0249,  0.1489]) tensor([-1.6117, -0.4079, -1.1737,  1.8467, -0.7014])\n",
      "tensor([-2.9500,  1.5864,  1.0640, -3.0255,  0.1488]) tensor([-1.6126, -0.4075, -1.1737,  1.8469, -0.7017])\n",
      "tensor([-2.9499,  1.5866,  1.0642, -3.0259,  0.1485]) tensor([-1.6127, -0.4076, -1.1739,  1.8470, -0.7018])\n",
      "tensor([-2.9499,  1.5869,  1.0643, -3.0262,  0.1485]) tensor([-1.6130, -0.4069, -1.1740,  1.8472, -0.7018])\n",
      "tensor([-2.9498,  1.5874,  1.0641, -3.0267,  0.1485]) tensor([-1.6136, -0.4066, -1.1738,  1.8473, -0.7020])\n",
      "tensor([-2.9495,  1.5874,  1.0641, -3.0277,  0.1484]) tensor([-1.6133, -0.4061, -1.1736,  1.8475, -0.7021])\n",
      "tensor([-2.9489,  1.5879,  1.0642, -3.0281,  0.1484]) tensor([-1.6136, -0.4058, -1.1736,  1.8473, -0.7021])\n",
      "tensor([-2.9495,  1.5879,  1.0643, -3.0285,  0.1483]) tensor([-1.6145, -0.4053, -1.1735,  1.8474, -0.7022])\n",
      "tensor([-2.9495,  1.5883,  1.0644, -3.0286,  0.1483]) tensor([-1.6147, -0.4052, -1.1734,  1.8479, -0.7021])\n",
      "tensor([-2.9494,  1.5888,  1.0642, -3.0290,  0.1482]) tensor([-1.6149, -0.4048, -1.1734,  1.8476, -0.7023])\n",
      "tensor([-2.9492,  1.5892,  1.0644, -3.0304,  0.1481]) tensor([-1.6150, -0.4044, -1.1736,  1.8485, -0.7024])\n",
      "tensor([-2.9499,  1.5898,  1.0645, -3.0305,  0.1480]) tensor([-1.6152, -0.4040, -1.1734,  1.8486, -0.7027])\n",
      "tensor([-2.9498,  1.5901,  1.0646, -3.0309,  0.1479]) tensor([-1.6154, -0.4034, -1.1734,  1.8488, -0.7027])\n",
      "tensor([-2.9501,  1.5903,  1.0646, -3.0313,  0.1479]) tensor([-1.6163, -0.4032, -1.1732,  1.8489, -0.7030])\n",
      "tensor([-2.9500,  1.5905,  1.0644, -3.0314,  0.1479]) tensor([-1.6165, -0.4027, -1.1734,  1.8489, -0.7029])\n",
      "tensor([-2.9497,  1.5910,  1.0644, -3.0322,  0.1477]) tensor([-1.6168, -0.4024, -1.1732,  1.8491, -0.7029])\n",
      "tensor([-2.9497,  1.5915,  1.0647, -3.0336,  0.1476]) tensor([-1.6169, -0.4020, -1.1731,  1.8490, -0.7030])\n",
      "tensor([-2.9495,  1.5919,  1.0646, -3.0337,  0.1475]) tensor([-1.6169, -0.4015, -1.1731,  1.8494, -0.7031])\n",
      "tensor([-2.9500,  1.5918,  1.0645, -3.0340,  0.1474]) tensor([-1.6174, -0.4014, -1.1731,  1.8492, -0.7033])\n",
      "tensor([-2.9500,  1.5920,  1.0646, -3.0346,  0.1474]) tensor([-1.6174, -0.4010, -1.1730,  1.8497, -0.7034])\n",
      "tensor([-2.9499,  1.5925,  1.0647, -3.0346,  0.1473]) tensor([-1.6175, -0.4007, -1.1732,  1.8498, -0.7037])\n",
      "tensor([-2.9500,  1.5929,  1.0648, -3.0357,  0.1472]) tensor([-1.6182, -0.4000, -1.1729,  1.8499, -0.7037])\n",
      "tensor([-2.9500,  1.5934,  1.0649, -3.0364,  0.1471]) tensor([-1.6182, -0.3998, -1.1728,  1.8504, -0.7039])\n",
      "tensor([-2.9502,  1.5935,  1.0646, -3.0363,  0.1470]) tensor([-1.6187, -0.3995, -1.1728,  1.8505, -0.7039])\n",
      "tensor([-2.9505,  1.5939,  1.0647, -3.0369,  0.1469]) tensor([-1.6187, -0.3989, -1.1727,  1.8507, -0.7040])\n",
      "tensor([-2.9514,  1.5943,  1.0650, -3.0372,  0.1469]) tensor([-1.6188, -0.3988, -1.1729,  1.8508, -0.7041])\n",
      "tensor([-2.9515,  1.5947,  1.0650, -3.0373,  0.1468]) tensor([-1.6194, -0.3983, -1.1729,  1.8502, -0.7041])\n",
      "tensor([-2.9515,  1.5952,  1.0652, -3.0373,  0.1468]) tensor([-1.6192, -0.3979, -1.1728,  1.8503, -0.7043])\n",
      "tensor([-2.9515,  1.5956,  1.0648, -3.0387,  0.1466]) tensor([-1.6194, -0.3975, -1.1727,  1.8508, -0.7044])\n",
      "tensor([-2.9515,  1.5957,  1.0650, -3.0391,  0.1465]) tensor([-1.6195, -0.3973, -1.1727,  1.8509, -0.7044])\n",
      "tensor([-2.9515,  1.5962,  1.0650, -3.0391,  0.1465]) tensor([-1.6201, -0.3970, -1.1726,  1.8510, -0.7046])\n",
      "tensor([-2.9522,  1.5961,  1.0652, -3.0391,  0.1464]) tensor([-1.6204, -0.3965, -1.1726,  1.8510, -0.7050])\n",
      "tensor([-2.9522,  1.5966,  1.0648, -3.0394,  0.1464]) tensor([-1.6205, -0.3961, -1.1724,  1.8508, -0.7048])\n",
      "tensor([-2.9519,  1.5970,  1.0651, -3.0400,  0.1464]) tensor([-1.6207, -0.3955, -1.1725,  1.8513, -0.7048])\n",
      "tensor([-2.9520,  1.5972,  1.0652, -3.0400,  0.1461]) tensor([-1.6207, -0.3954, -1.1726,  1.8508, -0.7049])\n",
      "tensor([-2.9520,  1.5977,  1.0652, -3.0400,  0.1461]) tensor([-1.6214, -0.3952, -1.1725,  1.8508, -0.7050])\n",
      "tensor([-2.9523,  1.5980,  1.0654, -3.0403,  0.1461]) tensor([-1.6218, -0.3946, -1.1723,  1.8506, -0.7051])\n",
      "tensor([-2.9531,  1.5985,  1.0651, -3.0418,  0.1459]) tensor([-1.6216, -0.3944, -1.1724,  1.8515, -0.7052])\n",
      "tensor([-2.9528,  1.5989,  1.0652, -3.0418,  0.1459]) tensor([-1.6212, -0.3938, -1.1721,  1.8515, -0.7052])\n",
      "tensor([-2.9529,  1.5994,  1.0653, -3.0418,  0.1458]) tensor([-1.6218, -0.3934, -1.1721,  1.8515, -0.7053])\n",
      "tensor([-2.9540,  1.5993,  1.0652, -3.0420,  0.1458]) tensor([-1.6223, -0.3931, -1.1721,  1.8513, -0.7058])\n",
      "tensor([-2.9540,  1.5998,  1.0656, -3.0427,  0.1456]) tensor([-1.6224, -0.3928, -1.1722,  1.8518, -0.7058])\n",
      "tensor([-2.9540,  1.6004,  1.0654, -3.0427,  0.1455]) tensor([-1.6224, -0.3925, -1.1723,  1.8513, -0.7059])\n",
      "tensor([-2.9543,  1.6004,  1.0653, -3.0427,  0.1455]) tensor([-1.6225, -0.3920, -1.1722,  1.8513, -0.7059])\n",
      "tensor([-2.9546,  1.6009,  1.0656, -3.0430,  0.1454]) tensor([-1.6234, -0.3917, -1.1720,  1.8511, -0.7060])\n",
      "tensor([-2.9547,  1.6008,  1.0655, -3.0445,  0.1454]) tensor([-1.6234, -0.3912, -1.1721,  1.8520, -0.7062])\n",
      "tensor([-2.9546,  1.6013,  1.0658, -3.0445,  0.1453]) tensor([-1.6237, -0.3910, -1.1719,  1.8520, -0.7062])\n",
      "tensor([-2.9546,  1.6016,  1.0654, -3.0445,  0.1451]) tensor([-1.6238, -0.3904, -1.1717,  1.8521, -0.7063])\n",
      "tensor([-2.9547,  1.6022,  1.0657, -3.0448,  0.1451]) tensor([-1.6242, -0.3901, -1.1720,  1.8518, -0.7063])\n",
      "tensor([-2.9550,  1.6026,  1.0658, -3.0453,  0.1451]) tensor([-1.6242, -0.3899, -1.1720,  1.8519, -0.7065])\n",
      "tensor([-2.9549,  1.6031,  1.0658, -3.0454,  0.1449]) tensor([-1.6243, -0.3893, -1.1718,  1.8518, -0.7069])\n",
      "tensor([-2.9549,  1.6032,  1.0656, -3.0454,  0.1449]) tensor([-1.6250, -0.3891, -1.1718,  1.8518, -0.7069])\n",
      "tensor([-2.9551,  1.6035,  1.0657, -3.0461,  0.1448]) tensor([-1.6254, -0.3886, -1.1717,  1.8516, -0.7069])\n",
      "tensor([-2.9561,  1.6040,  1.0657, -3.0474,  0.1448]) tensor([-1.6255, -0.3883, -1.1717,  1.8521, -0.7071])\n",
      "tensor([-2.9564,  1.6043,  1.0658, -3.0476,  0.1447]) tensor([-1.6255, -0.3878, -1.1716,  1.8525, -0.7072])\n",
      "tensor([-2.9564,  1.6049,  1.0659, -3.0476,  0.1446]) tensor([-1.6263, -0.3874, -1.1714,  1.8526, -0.7072])\n",
      "tensor([-2.9567,  1.6050,  1.0659, -3.0479,  0.1445]) tensor([-1.6267, -0.3871, -1.1718,  1.8523, -0.7073])\n",
      "tensor([-2.9567,  1.6049,  1.0659, -3.0483,  0.1445]) tensor([-1.6268, -0.3868, -1.1716,  1.8524, -0.7075])\n",
      "tensor([-2.9564,  1.6055,  1.0660, -3.0486,  0.1444]) tensor([-1.6264, -0.3866, -1.1713,  1.8529, -0.7075])\n",
      "tensor([-2.9565,  1.6059,  1.0661, -3.0486,  0.1443]) tensor([-1.6269, -0.3859, -1.1716,  1.8524, -0.7075])\n",
      "tensor([-2.9571,  1.6064,  1.0661, -3.0489,  0.1443]) tensor([-1.6273, -0.3858, -1.1714,  1.8521, -0.7076])\n",
      "tensor([-2.9571,  1.6064,  1.0660, -3.0489,  0.1443]) tensor([-1.6275, -0.3851, -1.1712,  1.8522, -0.7078])\n",
      "tensor([-2.9570,  1.6068,  1.0659, -3.0504,  0.1442]) tensor([-1.6277, -0.3849, -1.1713,  1.8531, -0.7078])\n",
      "tensor([-2.9571,  1.6073,  1.0662, -3.0504,  0.1441]) tensor([-1.6282, -0.3847, -1.1713,  1.8531, -0.7079])\n",
      "tensor([-2.9572,  1.6076,  1.0663, -3.0507,  0.1440]) tensor([-1.6287, -0.3841, -1.1715,  1.8528, -0.7079])\n",
      "tensor([-2.9576,  1.6081,  1.0660, -3.0507,  0.1440]) tensor([-1.6287, -0.3838, -1.1714,  1.8529, -0.7082])\n",
      "tensor([-2.9589,  1.6085,  1.0662, -3.0512,  0.1439]) tensor([-1.6287, -0.3833, -1.1712,  1.8530, -0.7082])\n",
      "tensor([-2.9587,  1.6088,  1.0662, -3.0513,  0.1438]) tensor([-1.6287, -0.3830, -1.1712,  1.8529, -0.7085])\n",
      "tensor([-2.9590,  1.6090,  1.0663, -3.0516,  0.1438]) tensor([-1.6292, -0.3825, -1.1709,  1.8527, -0.7085])\n",
      "tensor([-2.9590,  1.6095,  1.0664, -3.0516,  0.1436]) tensor([-1.6293, -0.3823, -1.1709,  1.8527, -0.7087])\n",
      "tensor([-2.9589,  1.6096,  1.0661, -3.0530,  0.1436]) tensor([-1.6295, -0.3821, -1.1710,  1.8531, -0.7088])\n",
      "tensor([-2.9590,  1.6100,  1.0665, -3.0531,  0.1435]) tensor([-1.6301, -0.3814, -1.1711,  1.8536, -0.7089])\n",
      "tensor([-2.9596,  1.6101,  1.0665, -3.0534,  0.1434]) tensor([-1.6304, -0.3812, -1.1711,  1.8534, -0.7090])\n",
      "tensor([-2.9596,  1.6104,  1.0666, -3.0534,  0.1434]) tensor([-1.6306, -0.3807, -1.1709,  1.8534, -0.7092])\n",
      "tensor([-2.9596,  1.6109,  1.0663, -3.0539,  0.1433]) tensor([-1.6312, -0.3804, -1.1708,  1.8535, -0.7093])\n",
      "tensor([-2.9596,  1.6113,  1.0664, -3.0540,  0.1432]) tensor([-1.6313, -0.3800, -1.1708,  1.8534, -0.7093])\n",
      "tensor([-2.9596,  1.6119,  1.0665, -3.0543,  0.1432]) tensor([-1.6312, -0.3797, -1.1706,  1.8532, -0.7094])\n",
      "tensor([-2.9595,  1.6123,  1.0667, -3.0543,  0.1431]) tensor([-1.6313, -0.3795, -1.1704,  1.8532, -0.7095])\n",
      "tensor([-2.9599,  1.6123,  1.0665, -3.0557,  0.1430]) tensor([-1.6318, -0.3790, -1.1708,  1.8537, -0.7096])\n",
      "tensor([-2.9608,  1.6128,  1.0667, -3.0558,  0.1429]) tensor([-1.6320, -0.3786, -1.1707,  1.8541, -0.7096])\n",
      "tensor([-2.9610,  1.6131,  1.0667, -3.0561,  0.1428]) tensor([-1.6324, -0.3780, -1.1707,  1.8539, -0.7097])\n",
      "tensor([-2.9610,  1.6136,  1.0668, -3.0561,  0.1428]) tensor([-1.6326, -0.3778, -1.1706,  1.8539, -0.7099])\n",
      "tensor([-2.9610,  1.6137,  1.0666, -3.0565,  0.1427]) tensor([-1.6333, -0.3773, -1.1704,  1.8540, -0.7100])\n",
      "tensor([-2.9610,  1.6138,  1.0666, -3.0566,  0.1428]) tensor([-1.6333, -0.3771, -1.1704,  1.8535, -0.7100])\n",
      "tensor([-2.9617,  1.6143,  1.0668, -3.0570,  0.1426]) tensor([-1.6337, -0.3769, -1.1702,  1.8537, -0.7102])\n",
      "tensor([-2.9614,  1.6146,  1.0669, -3.0575,  0.1425]) tensor([-1.6332, -0.3763, -1.1703,  1.8537, -0.7105])\n",
      "tensor([-2.9614,  1.6151,  1.0670, -3.0578,  0.1425]) tensor([-1.6340, -0.3760, -1.1705,  1.8538, -0.7105])\n",
      "tensor([-2.9614,  1.6155,  1.0669, -3.0588,  0.1424]) tensor([-1.6340, -0.3755, -1.1702,  1.8542, -0.7106])\n",
      "tensor([-2.9617,  1.6160,  1.0669, -3.0592,  0.1423]) tensor([-1.6344, -0.3751, -1.1704,  1.8544, -0.7106])\n",
      "tensor([-2.9616,  1.6159,  1.0670, -3.0593,  0.1423]) tensor([-1.6346, -0.3746, -1.1701,  1.8544, -0.7108])\n",
      "tensor([-2.9621,  1.6165,  1.0671, -3.0596,  0.1423]) tensor([-1.6352, -0.3745, -1.1700,  1.8546, -0.7108])\n",
      "tensor([-2.9620,  1.6170,  1.0669, -3.0598,  0.1421]) tensor([-1.6352, -0.3742, -1.1699,  1.8546, -0.7110])\n",
      "tensor([-2.9631,  1.6174,  1.0669, -3.0602,  0.1420]) tensor([-1.6358, -0.3736, -1.1699,  1.8542, -0.7109])\n",
      "tensor([-2.9635,  1.6179,  1.0673, -3.0602,  0.1420]) tensor([-1.6357, -0.3734, -1.1702,  1.8543, -0.7112])\n",
      "tensor([-2.9634,  1.6179,  1.0673, -3.0606,  0.1419]) tensor([-1.6357, -0.3727, -1.1700,  1.8544, -0.7112])\n",
      "tensor([-2.9637,  1.6183,  1.0672, -3.0616,  0.1418]) tensor([-1.6359, -0.3727, -1.1699,  1.8547, -0.7113])\n",
      "tensor([-2.9639,  1.6184,  1.0671, -3.0620,  0.1417]) tensor([-1.6362, -0.3724, -1.1699,  1.8549, -0.7113])\n",
      "tensor([-2.9639,  1.6187,  1.0672, -3.0620,  0.1417]) tensor([-1.6364, -0.3718, -1.1698,  1.8550, -0.7117])\n",
      "tensor([-2.9639,  1.6192,  1.0674, -3.0620,  0.1416]) tensor([-1.6370, -0.3715, -1.1698,  1.8550, -0.7115])\n",
      "tensor([-2.9639,  1.6197,  1.0671, -3.0625,  0.1415]) tensor([-1.6371, -0.3710, -1.1697,  1.8551, -0.7117])\n"
     ]
    }
   ],
   "source": [
    "for x_x, y_y in zip(exp_x, exp_y):\n",
    "    print(x_x, y_y)\n",
    "    "
   ]
  },
  {
   "cell_type": "code",
   "execution_count": 24,
   "id": "ddd158d3",
   "metadata": {},
   "outputs": [
    {
     "data": {
      "image/png": "[encoded data removed]",
      "text/plain": [
       "<Figure size 864x864 with 1 Axes>"
      ]
     },
     "metadata": {
      "needs_background": "light"
     },
     "output_type": "display_data"
    }
   ],
   "source": [
    "data = data[0].to(device=\"cpu\")\n",
    "y = y[0].to(device=\"cpu\")\n",
    "\n",
    "fig = plt.figure()\n",
    "axes = plt.gca()\n",
    "axes.set_xlim([-5., 5.])\n",
    "axes.set_ylim([-5., 5.])\n",
    "colors = ['red', 'blue', 'green', 'orange', 'brown']\n",
    "all_x, all_y = list(), list()\n",
    "\n",
    "for i in range(len(data)):\n",
    "    plt.plot(data[i][0], data[i][1], 'd', color=colors[i])\n",
    "    plt.plot(y[i][0], y[i][1], '*', color=colors[i])\n",
    "    plt.plot(y[i][2], y[i][3], 'p', color=colors[i])\n",
    "    plt.plot(y[i][4], y[i][5], 'x', color=colors[i])\n",
    "    plt.plot([data[i][0], data[i][0] + data[i][2]], [data[i][1], data[i][1] + data[i][3]], '--', color=colors[i])\n",
    "    \n",
    "    x_pos, y_pos = list(), list()\n",
    "    for x_x, y_y in zip(exp_x, exp_y):\n",
    "        x_pos.append(x_x[i])\n",
    "        y_pos.append(y_y[i])\n",
    "                    \n",
    "    all_x.append(x_pos)\n",
    "    all_y.append(y_pos)\n",
    "    plt.plot(x_pos, y_pos, color=colors[i])\n",
    "\n",
    "fig.set_size_inches(12, 12)\n",
    "plt.xlim(np.min(all_x)-1, np.max(all_x) +1)\n",
    "plt.ylim(np.min(all_y)-1, np.max(all_y) +1)\n",
    "plt.plot([], [], 'd', color='black', label='position at 0.0')\n",
    "plt.plot([], [], '*', color='black', label='position at 0.5')\n",
    "plt.plot([], [], 'p', color='black', label='position at 1.0')\n",
    "plt.plot([], [], 'x', color='black', label='position at 1.5')\n",
    "plt.plot([], [], '--', color='black', label='initial velocity \\ndirection and magnitude')\n",
    "plt.plot([], [], '2', color='black', label='prediction')\n",
    "plt.legend()\n",
    "\n",
    "plt.show()\n"
   ]
  },
  {
   "cell_type": "code",
   "execution_count": null,
   "id": "fdc31bff",
   "metadata": {},
   "outputs": [],
   "source": []
  },
  {
   "cell_type": "code",
   "execution_count": 26,
   "id": "0a99a32b",
   "metadata": {
    "colab": {
     "base_uri": "https://localhost:8080/"
    },
    "id": "0a99a32b",
    "outputId": "db65dbb4-6097-4e57-c1d1-2dfa260da235"
   },
   "outputs": [
    {
     "name": "stdout",
     "output_type": "stream",
     "text": [
      "Baseline error should be 0: {'rms': 0.0}\n",
      "Error over time should increase (train).\n",
      "t = 0.5 {'rms': 0.24874936044216156}\n",
      "t = 1 {'rms': 0.5171805024147034}\n",
      "t = 1.5 {'rms': 0.7905893325805664}\n",
      "Error over time should increase (valid).\n",
      "t = 0.5 {'rms': 0.24874936044216156}\n",
      "t = 1 {'rms': 0.5171805024147034}\n",
      "t = 1.5 {'rms': 0.7905893325805664}\n",
      "Error over time should increase (test).\n",
      "t = 0.5 {'rms': 0.24874936044216156}\n",
      "t = 1 {'rms': 0.5171805024147034}\n",
      "t = 1.5 {'rms': 0.7905893325805664}\n"
     ]
    }
   ],
   "source": [
    "import torch.nn as nn\n",
    "\n",
    "# Evaluate the baseline model (what metrics? r2? rms?)\n",
    "def rms(p_pred, p_actual):\n",
    "    '''\n",
    "    Return the root mean squared distance between predicted locations and actual locations.\n",
    "    Where p_pred and p_actual are both (N x T x 2 x P) tensors.\n",
    "    '''\n",
    "    mse = nn.MSELoss()\n",
    "    return mse(p_pred, p_actual).sqrt().item()\n",
    "\n",
    "def baseline_evaluate(p, v, time):\n",
    "    '''\n",
    "    Evaluate the baseline \"model\" at given time in {0, 0.5, 1, 1.5}.\n",
    "    '''\n",
    "    p_pred = baseline_predict(p[:, :1, :, :], v, time)\n",
    "    idx = int(time / 0.5)\n",
    "    p_actual = p[:, idx:idx+1, :, :]\n",
    "    # Currently just rms, but we could add more evaluations\n",
    "    return {'rms': rms(p_pred, p_actual)}\n",
    "\n",
    "print('Baseline error should be 0:', baseline_evaluate(p_train, v_train, 0))\n",
    "\n",
    "# Print some more metrics\n",
    "for klass in ['train', 'valid', 'test']:\n",
    "    p_klass, v_klass = locals()[f'p_{klass}'], locals()[f'v_{klass}']\n",
    "    print(f'Error over time should increase ({klass}).')\n",
    "    for t in [0.5, 1, 1.5]:\n",
    "        print(f't = {t}', baseline_evaluate(p_train, v_train, t))"
   ]
  },
  {
   "cell_type": "code",
   "execution_count": 25,
   "id": "f02d1d3b",
   "metadata": {
    "colab": {
     "base_uri": "https://localhost:8080/",
     "height": 313
    },
    "id": "f02d1d3b",
    "outputId": "f9e027cb-3b5b-4a77-d9c0-c8ae3b2241db"
   },
   "outputs": [
    {
     "data": {
      "text/plain": [
       "Text(0, 0.5, 'loss value')"
      ]
     },
     "execution_count": 25,
     "metadata": {},
     "output_type": "execute_result"
    },
    {
     "data": {
      "image/png": "[encoded data removed]",
      "text/plain": [
       "<Figure size 432x288 with 1 Axes>"
      ]
     },
     "metadata": {
      "needs_background": "light"
     },
     "output_type": "display_data"
    }
   ],
   "source": [
    "import matplotlib.pyplot as plt\n",
    "\n",
    "plt.plot(train_loss_graph)\n",
    "plt.title(\"training loss\")\n",
    "plt.xlabel(\"epoch number\")\n",
    "plt.ylabel(\"loss value\")"
   ]
  },
  {
   "cell_type": "code",
   "execution_count": 26,
   "id": "73f2a2fb",
   "metadata": {
    "colab": {
     "base_uri": "https://localhost:8080/",
     "height": 313
    },
    "id": "73f2a2fb",
    "outputId": "b063d287-c484-48a0-f5fa-d39a0221143b"
   },
   "outputs": [
    {
     "data": {
      "text/plain": [
       "Text(0, 0.5, 'loss value')"
      ]
     },
     "execution_count": 26,
     "metadata": {},
     "output_type": "execute_result"
    },
    {
     "data": {
      "image/png": "[encoded data removed]",
      "text/plain": [
       "<Figure size 432x288 with 1 Axes>"
      ]
     },
     "metadata": {
      "needs_background": "light"
     },
     "output_type": "display_data"
    }
   ],
   "source": [
    "plt.plot(val_loss_graph)\n",
    "plt.title(\"validation loss\")\n",
    "plt.xlabel(\"epoch number\")\n",
    "plt.ylabel(\"loss value\")"
   ]
  },
  {
   "cell_type": "markdown",
   "id": "0ETuisK94rXp",
   "metadata": {
    "id": "0ETuisK94rXp"
   },
   "source": [
    "# RNN doesn't work below"
   ]
  },
  {
   "cell_type": "code",
   "execution_count": null,
   "id": "43x78wwXeekg",
   "metadata": {
    "id": "43x78wwXeekg"
   },
   "outputs": [],
   "source": [
    "# For sample i at time t:\n",
    "# p = p' + delta_t * (v' + a * delta_t)\n",
    "# trainLoader = DataLoader(myDataset(p_train, v_train, c_train), batch_size=10)\n",
    "# validationLoader = DataLoader(myDataset(p_valid, v_valid, c_valid), batch_size=10)\n",
    "# testLoader = DataLoader(myDataset(p_test, v_test, c_test), batch_size=10)\n",
    "# x = (p,v,c), y = (p_1,p_2,p_3)"
   ]
  },
  {
   "cell_type": "code",
   "execution_count": 70,
   "id": "Zr3PRSw4B0ao",
   "metadata": {
    "colab": {
     "base_uri": "https://localhost:8080/"
    },
    "id": "Zr3PRSw4B0ao",
    "outputId": "d122651d-d5b2-4361-cb4e-a909506e77ed"
   },
   "outputs": [
    {
     "data": {
      "text/plain": [
       "RNN(\n",
       "  (rnn): RNN(5, 10, num_layers=3, batch_first=True)\n",
       "  (out): Linear(in_features=10, out_features=1, bias=True)\n",
       ")"
      ]
     },
     "execution_count": 70,
     "metadata": {},
     "output_type": "execute_result"
    }
   ],
   "source": [
    "# RNN model\n",
    "\n",
    "input_size = 5\n",
    "hidden_size = 10\n",
    "num_layers = 3\n",
    "\n",
    "class RNN(nn.Module):\n",
    "    def __init__(self):\n",
    "        super(RNN, self).__init__()\n",
    "        # self.hidden_size = hidden_size\n",
    "        # self.num_layers = num_layers\n",
    "        # self.lstm = nn.LSTM(input_size, hidden_size, num_layers, batch_first=True)\n",
    "        # self.fc = nn.Linear(hidden_size, 1)\n",
    "        self.rnn = nn.RNN(\n",
    "            input_size = input_size,\n",
    "            hidden_size = hidden_size,\n",
    "            num_layers = num_layers,\n",
    "            batch_first = True,\n",
    "        )\n",
    "        self.out = nn.Linear(hidden_size,1)\n",
    "    \n",
    "    def forward(self, x, h_state):\n",
    "        # # Set initial hidden and cell states \n",
    "        # h0 = torch.zeros(self.num_layers, x.size(0), self.hidden_size).to(device) \n",
    "        # c0 = torch.zeros(self.num_layers, x.size(0), self.hidden_size).to(device)\n",
    "        \n",
    "        # # Forward propagate LSTM\n",
    "        # out, _ = self.lstm(x, (h0, c0))  # out: tensor of shape (batch_size, seq_length, hidden_size)\n",
    "        \n",
    "        # # Decode the hidden state of the last time step\n",
    "        # out = self.fc(out[:, -1, :])\n",
    "        # return out\n",
    "        r_out, h_state = self.rnn(x, h_state)\n",
    "        outs = []\n",
    "        for time_step in range(r_out.size(1)):\n",
    "            outs.append(self.out(r_out[:,time_step,:]))\n",
    "        return torch.stack(outs,dim=1), h_state\n",
    "\n",
    "\n",
    "rnn_model = RNN()\n",
    "rnn_model.to(device=device)\n",
    "# interaction_network = InteractionNetwork()\n",
    "# interaction_network.to(device=device)"
   ]
  },
  {
   "cell_type": "code",
   "execution_count": 74,
   "id": "5ryJx5ZrDxnc",
   "metadata": {
    "colab": {
     "base_uri": "https://localhost:8080/",
     "height": 1000
    },
    "id": "5ryJx5ZrDxnc",
    "outputId": "d194d133-baf4-4bb1-cc2a-f590f66a0d3f"
   },
   "outputs": [
    {
     "name": "stderr",
     "output_type": "stream",
     "text": [
      "Training:   0%|          | 0/500 [00:00<?, ?it/s]/usr/local/lib/python3.7/dist-packages/torch/nn/modules/loss.py:529: UserWarning: Using a target size (torch.Size([5, 6])) that is different to the input size (torch.Size([10, 5, 1])). This will likely lead to incorrect results due to broadcasting. Please ensure they have the same size.\n",
      "  return F.mse_loss(input, target, reduction=self.reduction)\n",
      "Training:   0%|          | 1/500 [00:00<02:27,  3.39it/s]"
     ]
    },
    {
     "name": "stdout",
     "output_type": "stream",
     "text": [
      "tensor([[[0.2245],\n",
      "         [0.1380],\n",
      "         [0.2244],\n",
      "         [0.1521],\n",
      "         [0.1764]],\n",
      "\n",
      "        [[0.2028],\n",
      "         [0.2078],\n",
      "         [0.1442],\n",
      "         [0.2459],\n",
      "         [0.1237]],\n",
      "\n",
      "        [[0.1766],\n",
      "         [0.2410],\n",
      "         [0.0589],\n",
      "         [0.1601],\n",
      "         [0.1898]],\n",
      "\n",
      "        [[0.2259],\n",
      "         [0.1859],\n",
      "         [0.1699],\n",
      "         [0.1980],\n",
      "         [0.0413]],\n",
      "\n",
      "        [[0.1915],\n",
      "         [0.2649],\n",
      "         [0.0968],\n",
      "         [0.0943],\n",
      "         [0.0569]],\n",
      "\n",
      "        [[0.1669],\n",
      "         [0.2089],\n",
      "         [0.1863],\n",
      "         [0.1574],\n",
      "         [0.0657]],\n",
      "\n",
      "        [[0.1859],\n",
      "         [0.2439],\n",
      "         [0.1176],\n",
      "         [0.2839],\n",
      "         [0.1267]],\n",
      "\n",
      "        [[0.1887],\n",
      "         [0.1651],\n",
      "         [0.1909],\n",
      "         [0.1738],\n",
      "         [0.0090]],\n",
      "\n",
      "        [[0.1780],\n",
      "         [0.2110],\n",
      "         [0.1684],\n",
      "         [0.1032],\n",
      "         [0.1723]],\n",
      "\n",
      "        [[0.1596],\n",
      "         [0.3078],\n",
      "         [0.1245],\n",
      "         [0.2128],\n",
      "         [0.0881]]], device='cuda:0', grad_fn=<StackBackward0>)\n"
     ]
    },
    {
     "name": "stderr",
     "output_type": "stream",
     "text": [
      "\r",
      "Training:   0%|          | 1/500 [00:00<05:12,  1.60it/s]"
     ]
    },
    {
     "name": "stdout",
     "output_type": "stream",
     "text": [
      "tensor([[[0.2003],\n",
      "         [0.0468],\n",
      "         [0.0720],\n",
      "         [0.1034],\n",
      "         [0.2423]],\n",
      "\n",
      "        [[0.2312],\n",
      "         [0.0855],\n",
      "         [0.1166],\n",
      "         [0.0960],\n",
      "         [0.0334]],\n",
      "\n",
      "        [[0.0152],\n",
      "         [0.2180],\n",
      "         [0.1581],\n",
      "         [0.1402],\n",
      "         [0.1178]],\n",
      "\n",
      "        [[0.1772],\n",
      "         [0.1448],\n",
      "         [0.2327],\n",
      "         [0.1435],\n",
      "         [0.1573]],\n",
      "\n",
      "        [[0.2719],\n",
      "         [0.1764],\n",
      "         [0.1352],\n",
      "         [0.0734],\n",
      "         [0.1444]],\n",
      "\n",
      "        [[0.1418],\n",
      "         [0.1951],\n",
      "         [0.1899],\n",
      "         [0.2486],\n",
      "         [0.2245]],\n",
      "\n",
      "        [[0.2151],\n",
      "         [0.1248],\n",
      "         [0.1524],\n",
      "         [0.1868],\n",
      "         [0.2214]],\n",
      "\n",
      "        [[0.1722],\n",
      "         [0.0677],\n",
      "         [0.0671],\n",
      "         [0.0940],\n",
      "         [0.2920]],\n",
      "\n",
      "        [[0.0817],\n",
      "         [0.2116],\n",
      "         [0.0759],\n",
      "         [0.0730],\n",
      "         [0.1216]],\n",
      "\n",
      "        [[0.1273],\n",
      "         [0.1176],\n",
      "         [0.1059],\n",
      "         [0.0835],\n",
      "         [0.2536]]], device='cuda:0', grad_fn=<StackBackward0>)\n"
     ]
    },
    {
     "name": "stderr",
     "output_type": "stream",
     "text": [
      "\n"
     ]
    },
    {
     "ename": "RuntimeError",
     "evalue": "ignored",
     "output_type": "error",
     "traceback": [
      "\u001b[0;31m---------------------------------------------------------------------------\u001b[0m",
      "\u001b[0;31mRuntimeError\u001b[0m                              Traceback (most recent call last)",
      "\u001b[0;32m<ipython-input-74-c12671ccfe28>\u001b[0m in \u001b[0;36m<module>\u001b[0;34m()\u001b[0m\n\u001b[1;32m     25\u001b[0m         \u001b[0mloss\u001b[0m \u001b[0;34m=\u001b[0m \u001b[0mcriterion\u001b[0m\u001b[0;34m(\u001b[0m\u001b[0my_pred\u001b[0m\u001b[0;34m,\u001b[0m \u001b[0my_train\u001b[0m\u001b[0;34m[\u001b[0m\u001b[0;36m2\u001b[0m\u001b[0;34m]\u001b[0m\u001b[0;34m)\u001b[0m\u001b[0;34m\u001b[0m\u001b[0;34m\u001b[0m\u001b[0m\n\u001b[1;32m     26\u001b[0m         \u001b[0moptimizer\u001b[0m\u001b[0;34m.\u001b[0m\u001b[0mzero_grad\u001b[0m\u001b[0;34m(\u001b[0m\u001b[0;34m)\u001b[0m\u001b[0;34m\u001b[0m\u001b[0;34m\u001b[0m\u001b[0m\n\u001b[0;32m---> 27\u001b[0;31m         \u001b[0mloss\u001b[0m\u001b[0;34m.\u001b[0m\u001b[0mbackward\u001b[0m\u001b[0;34m(\u001b[0m\u001b[0;34m)\u001b[0m\u001b[0;34m\u001b[0m\u001b[0;34m\u001b[0m\u001b[0m\n\u001b[0m\u001b[1;32m     28\u001b[0m         \u001b[0moptimizer\u001b[0m\u001b[0;34m.\u001b[0m\u001b[0mstep\u001b[0m\u001b[0;34m(\u001b[0m\u001b[0;34m)\u001b[0m\u001b[0;34m\u001b[0m\u001b[0;34m\u001b[0m\u001b[0m\n\u001b[1;32m     29\u001b[0m \u001b[0;34m\u001b[0m\u001b[0m\n",
      "\u001b[0;32m/usr/local/lib/python3.7/dist-packages/torch/_tensor.py\u001b[0m in \u001b[0;36mbackward\u001b[0;34m(self, gradient, retain_graph, create_graph, inputs)\u001b[0m\n\u001b[1;32m    361\u001b[0m                 \u001b[0mcreate_graph\u001b[0m\u001b[0;34m=\u001b[0m\u001b[0mcreate_graph\u001b[0m\u001b[0;34m,\u001b[0m\u001b[0;34m\u001b[0m\u001b[0;34m\u001b[0m\u001b[0m\n\u001b[1;32m    362\u001b[0m                 inputs=inputs)\n\u001b[0;32m--> 363\u001b[0;31m         \u001b[0mtorch\u001b[0m\u001b[0;34m.\u001b[0m\u001b[0mautograd\u001b[0m\u001b[0;34m.\u001b[0m\u001b[0mbackward\u001b[0m\u001b[0;34m(\u001b[0m\u001b[0mself\u001b[0m\u001b[0;34m,\u001b[0m \u001b[0mgradient\u001b[0m\u001b[0;34m,\u001b[0m \u001b[0mretain_graph\u001b[0m\u001b[0;34m,\u001b[0m \u001b[0mcreate_graph\u001b[0m\u001b[0;34m,\u001b[0m \u001b[0minputs\u001b[0m\u001b[0;34m=\u001b[0m\u001b[0minputs\u001b[0m\u001b[0;34m)\u001b[0m\u001b[0;34m\u001b[0m\u001b[0;34m\u001b[0m\u001b[0m\n\u001b[0m\u001b[1;32m    364\u001b[0m \u001b[0;34m\u001b[0m\u001b[0m\n\u001b[1;32m    365\u001b[0m     \u001b[0;32mdef\u001b[0m \u001b[0mregister_hook\u001b[0m\u001b[0;34m(\u001b[0m\u001b[0mself\u001b[0m\u001b[0;34m,\u001b[0m \u001b[0mhook\u001b[0m\u001b[0;34m)\u001b[0m\u001b[0;34m:\u001b[0m\u001b[0;34m\u001b[0m\u001b[0;34m\u001b[0m\u001b[0m\n",
      "\u001b[0;32m/usr/local/lib/python3.7/dist-packages/torch/autograd/__init__.py\u001b[0m in \u001b[0;36mbackward\u001b[0;34m(tensors, grad_tensors, retain_graph, create_graph, grad_variables, inputs)\u001b[0m\n\u001b[1;32m    173\u001b[0m     Variable._execution_engine.run_backward(  # Calls into the C++ engine to run the backward pass\n\u001b[1;32m    174\u001b[0m         \u001b[0mtensors\u001b[0m\u001b[0;34m,\u001b[0m \u001b[0mgrad_tensors_\u001b[0m\u001b[0;34m,\u001b[0m \u001b[0mretain_graph\u001b[0m\u001b[0;34m,\u001b[0m \u001b[0mcreate_graph\u001b[0m\u001b[0;34m,\u001b[0m \u001b[0minputs\u001b[0m\u001b[0;34m,\u001b[0m\u001b[0;34m\u001b[0m\u001b[0;34m\u001b[0m\u001b[0m\n\u001b[0;32m--> 175\u001b[0;31m         allow_unreachable=True, accumulate_grad=True)  # Calls into the C++ engine to run the backward pass\n\u001b[0m\u001b[1;32m    176\u001b[0m \u001b[0;34m\u001b[0m\u001b[0m\n\u001b[1;32m    177\u001b[0m def grad(\n",
      "\u001b[0;31mRuntimeError\u001b[0m: Trying to backward through the graph a second time (or directly access saved tensors after they have already been freed). Saved intermediate values of the graph are freed when you call .backward() or autograd.grad(). Specify retain_graph=True if you need to backward through the graph a second time or if you need to access saved tensors after calling backward."
     ]
    }
   ],
   "source": [
    "start = 0\n",
    "end = 1.5\n",
    "time_step = 0.01\n",
    "h_state = None\n",
    "num_epoch = 3\n",
    "learning_rate = 0.001\n",
    "\n",
    "# Loss and optimizer\n",
    "criterion = nn.MSELoss()\n",
    "optimizer = torch.optim.Adam(rnn_model.parameters(), lr=learning_rate)\n",
    "\n",
    "train_loss_graph, val_loss_graph = list(), list()\n",
    "\n",
    "# Train the model\n",
    "for epoch in range(num_epoch):\n",
    "    train_loss, val_loss = list(), list()\n",
    "    \n",
    "    rnn_model = rnn_model.train()\n",
    "    for x_train, y_train in tqdm(trainLoader, desc=\"Training\"):\n",
    "        \n",
    "        #steps = np.linspace(start, end, time_step, dtype=np.float32,endpoint=False)\n",
    "        y_pred, h_state = rnn_model(x_train,h_state)\n",
    "\n",
    "        print(y_pred)\n",
    "        loss = criterion(y_pred, y_train[2])\n",
    "        optimizer.zero_grad()\n",
    "        loss.backward()\n",
    "        optimizer.step()\n",
    "        \n",
    "        train_loss.append(loss.item() / num_epoch)\n",
    "    \n",
    "    train_loss_graph.append(sum(train_loss) / len(trainLoader))\n",
    "        \n",
    "    rnn_model = rnn_model.eval()\n",
    "    for x_val, y_val in validationLoader:\n",
    "        y_pred_val, h_state = rnn_model(x_val,h_state)\n",
    "        loss = criterion(y_pred_val, y_val)\n",
    "        \n",
    "        val_loss.append(loss.item() / num_epoch)\n",
    "    \n",
    "    val_loss_graph.append(sum(val_loss) / len(validationLoader))\n",
    "        \n",
    "    print(f'Average loss: {train_loss_graph[-1]}')\n",
    "    print(f'val loss: {val_loss_graph[-1]}')"
   ]
  },
  {
   "cell_type": "markdown",
   "id": "dea70d73",
   "metadata": {
    "id": "dea70d73"
   },
   "source": [
    "# Model Training"
   ]
  },
  {
   "cell_type": "code",
   "execution_count": 30,
   "id": "3af520ae",
   "metadata": {
    "id": "3af520ae"
   },
   "outputs": [],
   "source": [
    "#todo"
   ]
  },
  {
   "cell_type": "code",
   "execution_count": 30,
   "id": "e95af5f9",
   "metadata": {
    "id": "e95af5f9"
   },
   "outputs": [],
   "source": []
  },
  {
   "cell_type": "code",
   "execution_count": 30,
   "id": "07e03ddf",
   "metadata": {
    "id": "07e03ddf"
   },
   "outputs": [],
   "source": []
  },
  {
   "cell_type": "markdown",
   "id": "d5fb3b29",
   "metadata": {
    "id": "d5fb3b29"
   },
   "source": [
    "# Evaluation"
   ]
  },
  {
   "cell_type": "code",
   "execution_count": null,
   "id": "bf5fa1b4",
   "metadata": {
    "id": "bf5fa1b4"
   },
   "outputs": [],
   "source": [
    "#TODO:\n",
    "# The amount of training samples should vary from 100 to 10000, and the\n",
    "# prediction horizons are t = 0.5, t = 1 and t = 1.5. For each training set\n",
    "# size/time horizon combination, compare to a simple linear baseline where\n",
    "# xti = x0i + v0i ·t"
   ]
  },
  {
   "cell_type": "code",
   "execution_count": null,
   "id": "2280031f",
   "metadata": {
    "id": "2280031f"
   },
   "outputs": [],
   "source": [
    "# TODO\n",
    "# Come up with and execute one additional experiment that provides an interesting insight in your method\n",
    "# possible idea: interpolation, i.e. given t = 1.5 and t = 0.5, where is it at t = 1?\n"
   ]
  },
  {
   "cell_type": "code",
   "execution_count": null,
   "id": "3a8240f1",
   "metadata": {
    "id": "3a8240f1"
   },
   "outputs": [],
   "source": []
  }
 ],
 "metadata": {
  "accelerator": "GPU",
  "colab": {
   "name": "a2_skeleton_peter_pim.ipynb",
   "provenance": []
  },
  "interpreter": {
   "hash": "27c164e33ceb3372f7d05cab3554d1b7111f26924d32637c2cc5dd0d753ab5f1"
  },
  "kernelspec": {
   "display_name": "Python 3 (ipykernel)",
   "language": "python",
   "name": "python3"
  },
  "language_info": {
   "codemirror_mode": {
    "name": "ipython",
    "version": 3
   },
   "file_extension": ".py",
   "mimetype": "text/x-python",
   "name": "python",
   "nbconvert_exporter": "python",
   "pygments_lexer": "ipython3",
   "version": "3.9.12"
  }
 },
 "nbformat": 4,
 "nbformat_minor": 5
}

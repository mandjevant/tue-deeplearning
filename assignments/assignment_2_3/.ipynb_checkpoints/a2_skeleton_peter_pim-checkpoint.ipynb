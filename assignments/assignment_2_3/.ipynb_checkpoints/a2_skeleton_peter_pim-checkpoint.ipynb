{
 "cells": [
  {
   "cell_type": "markdown",
   "id": "730fd591",
   "metadata": {
    "id": "730fd591"
   },
   "source": [
    "<a href=\"https://colab.research.google.com/github/vlamen/tue-deeplearning/blob/main/assignments/assignment_2_3/a2_skeleton.ipynb\" target=\"_parent\"><img src=\"https://colab.research.google.com/assets/colab-badge.svg\" alt=\"Open In Colab\"/></a>"
   ]
  },
  {
   "cell_type": "markdown",
   "id": "d32f8d18",
   "metadata": {
    "id": "d32f8d18"
   },
   "source": [
    "# Group Number: 37\n",
    "# Student 1: Jiong Li | 1533312\n",
    "# Student 2: Peter Elmers | 1734350\n",
    "# Student 3: P.T.C.M. Tholhuijsen | 1237447"
   ]
  },
  {
   "cell_type": "markdown",
   "id": "faec2056",
   "metadata": {
    "id": "faec2056"
   },
   "source": [
    "# Downloading Data and Preliminaries"
   ]
  },
  {
   "cell_type": "code",
   "execution_count": 1,
   "id": "7d0580a5",
   "metadata": {
    "id": "7d0580a5"
   },
   "outputs": [],
   "source": [
    "import pickle\n",
    "import matplotlib.pyplot as plt\n",
    "import matplotlib\n",
    "import numpy as np\n",
    "\n",
    "from zipfile import ZipFile\n",
    "import requests\n",
    "import io"
   ]
  },
  {
   "cell_type": "code",
   "execution_count": 2,
   "id": "b0756591",
   "metadata": {
    "id": "b0756591"
   },
   "outputs": [],
   "source": [
    "def load_zip(url):\n",
    "    response = requests.get(url)\n",
    "    response.raise_for_status()\n",
    "    zipf = ZipFile(io.BytesIO(response.content))\n",
    "    return {name: zipf.read(name) for name in zipf.namelist()}\n",
    "\n",
    "def load_array(zipfile, fn):\n",
    "    return np.load(io.BytesIO(zipfile[fn]))"
   ]
  },
  {
   "cell_type": "code",
   "execution_count": 3,
   "id": "bb77a4be",
   "metadata": {
    "colab": {
     "base_uri": "https://localhost:8080/"
    },
    "id": "bb77a4be",
    "outputId": "e74493aa-d245-4312-fd8b-fd87366b291f"
   },
   "outputs": [
    {
     "name": "stdout",
     "output_type": "stream",
     "text": [
      "Shapes of the training data:\n",
      "\n",
      "positions: (10000, 4, 2, 5)\n",
      "velocities: (10000, 1, 2, 5)\n",
      "charges: (10000, 5, 1)\n"
     ]
    }
   ],
   "source": [
    "\"\"\"\n",
    "This cell loads the training, validation or test data as numpy arrays,\n",
    "with the positions, initial velocities and charge data of the particles.\n",
    "\n",
    "The position arrays are shaped as\n",
    "[simulation id, time point (corresponding to t = 0, 0.5, 1 or 1.5), x/y spatial dimension, particle id].\n",
    "\n",
    "The initial velocity arrays are shaped as\n",
    "[simulation id, 1 (corresponding to t=0), x/y spatial dimension, particle id].\n",
    "\n",
    "The charge arrays are shaped as [simulation id, particle id, 1]\n",
    "\n",
    "\"\"\"\n",
    "\n",
    "data = load_zip('https://surfdrive.surf.nl/files/index.php/s/OIgda2ZRG8v0eqB/download')\n",
    "\n",
    "features = ['positions', 'velocities', 'charges']\n",
    "    \n",
    "positions_train, velocities_train, charges_train = (load_array(data, f'data/train/{f}.npy') for f in features)\n",
    "positions_valid, velocities_valid, charges_valid = (load_array(data, f'data/valid/{f}.npy') for f in features)\n",
    "positions_test, velocities_test, charges_test = (load_array(data, f'data/test/{f}.npy') for f in features)\n",
    "\n",
    "print('Shapes of the training data:\\n')\n",
    "print(f'positions: {positions_train.shape}')\n",
    "print(f'velocities: {velocities_train.shape}')\n",
    "print(f'charges: {charges_train.shape}')"
   ]
  },
  {
   "cell_type": "code",
   "execution_count": 4,
   "id": "1c3ea4cb",
   "metadata": {
    "colab": {
     "base_uri": "https://localhost:8080/"
    },
    "id": "1c3ea4cb",
    "outputId": "4d48cb4d-103d-470b-928a-595553808d2b"
   },
   "outputs": [
    {
     "name": "stdout",
     "output_type": "stream",
     "text": [
      "An example of retrieving data from the arrays:\n",
      "\n",
      "\n",
      "In simulation 42 of the training set, particle 3 with charge -1.0 had coordinates [ 2.05159559 -1.46130851].\n",
      "The initial velocity of this particle was [ 0.28402364 -0.24784824].\n"
     ]
    }
   ],
   "source": [
    "print('An example of retrieving data from the arrays:\\n\\n')\n",
    "\n",
    "sim_idx = 42\n",
    "t_idx = 2  # t_idx 0, 1, 2, 3 corresponds to t=0, 0.5, 1 and 1.5 respectively\n",
    "spatial_idx = (0,1)  # corresponds to both x and y dimension\n",
    "particle_idx = 3  # corresponds to particle with index 3\n",
    "\n",
    "p = positions_train[sim_idx, t_idx, spatial_idx, particle_idx]\n",
    "v = velocities_train[sim_idx, 0, spatial_idx, particle_idx]  # note: this array contains only the inital velocity -> hence the 0\n",
    "c = charges_train[sim_idx, particle_idx, 0] \n",
    "\n",
    "print(\n",
    "    f'In simulation {sim_idx} of the training set, particle {particle_idx} with charge {c} had coordinates {p}.\\nThe initial velocity of this particle was {v}.'\n",
    ")"
   ]
  },
  {
   "cell_type": "code",
   "execution_count": 5,
   "id": "10a3438a",
   "metadata": {
    "colab": {
     "base_uri": "https://localhost:8080/"
    },
    "id": "10a3438a",
    "outputId": "2df70260-13a3-480c-ab78-60902c5cefd4"
   },
   "outputs": [
    {
     "name": "stdout",
     "output_type": "stream",
     "text": [
      "Overview of no. datapoints:\n",
      "\n",
      "10000 train, 2000 validation, 2000 test simulations\n"
     ]
    }
   ],
   "source": [
    "print('Overview of no. datapoints:\\n')\n",
    "\n",
    "print(f'{len(positions_train)} train, {len(positions_valid)} validation, {len(positions_test)} test simulations')"
   ]
  },
  {
   "cell_type": "code",
   "execution_count": 6,
   "id": "f9106543",
   "metadata": {
    "id": "f9106543"
   },
   "outputs": [],
   "source": [
    "def plot_example(pos, vel):\n",
    "\n",
    "    fig = plt.figure()\n",
    "    axes = plt.gca()\n",
    "    axes.set_xlim([-5., 5.])\n",
    "    axes.set_ylim([-5., 5.])\n",
    "    colors = ['red', 'blue', 'green', 'orange', 'brown']\n",
    "    for i in range(pos.shape[-1]):\n",
    "        plt.plot(pos[0, 0, i], pos[0, 1, i], 'd', color=colors[i])\n",
    "        plt.plot(pos[-1, 0, i], pos[-1, 1, i], 'x', color=colors[i])\n",
    "        plt.plot([pos[0, 0, i], pos[0, 0, i] + vel[0, 0, i]], [pos[0, 1, i], pos[0, 1, i] + vel[0, 1, i]], '--', color=colors[i])\n",
    "    fig.set_size_inches(7, 7)\n",
    "    plt.xlim(np.min(pos)-1, np.max(pos) +1)\n",
    "    plt.ylim(np.min(pos)-1, np.max(pos) +1)\n",
    "    plt.plot([], [], 'd', color='black', label='initial position')\n",
    "    plt.plot([], [], 'x', color='black', label='final position')\n",
    "    plt.plot([], [], '--', color='black', label='initial velocity \\ndirection and magnitude')\n",
    "    plt.legend()\n",
    "    \n",
    "    plt.show()\n",
    "    return"
   ]
  },
  {
   "cell_type": "code",
   "execution_count": 7,
   "id": "d28681a6",
   "metadata": {
    "colab": {
     "base_uri": "https://localhost:8080/",
     "height": 428
    },
    "id": "d28681a6",
    "outputId": "42f65e33-35a4-4ab7-a908-5579930927b7"
   },
   "outputs": [
    {
     "data": {
      "image/png": "[encoded data removed]",
      "text/plain": [
       "<Figure size 504x504 with 1 Axes>"
      ]
     },
     "metadata": {
      "needs_background": "light"
     },
     "output_type": "display_data"
    }
   ],
   "source": [
    "random_idx = np.random.randint(0, 10000)\n",
    "plot_example(positions_train[random_idx], velocities_train[random_idx])"
   ]
  },
  {
   "cell_type": "markdown",
   "id": "059b633c",
   "metadata": {
    "id": "059b633c"
   },
   "source": [
    "# Data Handling and Preprocessing"
   ]
  },
  {
   "cell_type": "code",
   "execution_count": 8,
   "id": "e6ecb529",
   "metadata": {
    "colab": {
     "base_uri": "https://localhost:8080/"
    },
    "id": "e6ecb529",
    "outputId": "f8656fb4-2d13-4472-ca72-6e21dfeb7fb7"
   },
   "outputs": [
    {
     "name": "stdout",
     "output_type": "stream",
     "text": [
      "Device is set to cuda\n"
     ]
    }
   ],
   "source": [
    "# Pick the best device\n",
    "import torch\n",
    "\n",
    "def try_device(device):\n",
    "    # Try to put an array on given device. If successful, return device. Else, 'cpu'.\n",
    "    x = torch.ones((1,))\n",
    "    try:\n",
    "        x.to(device)\n",
    "        return device\n",
    "    except:\n",
    "        return 'cpu'\n",
    "\n",
    "device = try_device('cuda')\n",
    "if device == 'cpu':\n",
    "    device = try_device('mps')\n",
    "\n",
    "print(f'Device is set to {device}')\n",
    "\n",
    "# Move all the little craps into torch things on the device\n",
    "p_train, v_train, c_train = [torch.Tensor(vec).to(device=device) for vec in [positions_train, velocities_train, charges_train]]\n",
    "p_valid, v_valid, c_valid = [torch.Tensor(vec).to(device=device) for vec in [positions_valid, velocities_valid, charges_valid]]\n",
    "p_test, v_test, c_test = [torch.Tensor(vec).to(device=device) for vec in [positions_test, velocities_test, charges_test]]"
   ]
  },
  {
   "cell_type": "code",
   "execution_count": 20,
   "id": "89f90431",
   "metadata": {
    "id": "89f90431"
   },
   "outputs": [],
   "source": [
    "p_train, v_train, c_train = p_train[:2000], v_train[:2000], c_train[:2000]\n",
    "p_valid, v_valid, c_valid = p_valid[:400], v_valid[:400], c_valid[:400]"
   ]
  },
  {
   "cell_type": "code",
   "execution_count": 10,
   "id": "f8633eb8",
   "metadata": {
    "id": "f8633eb8"
   },
   "outputs": [],
   "source": [
    "# Create a baseline: particle position = velocity * time + initial\n",
    "def baseline_predict(p0, v0, time):\n",
    "    '''\n",
    "    Return a numpy array of predicted x, y position of each particle in p0.\n",
    "    Given p0 starting locations, v0 starting velocities, and time to predict.\n",
    "    Result is computed via linear projection: v0 * time + p0.\n",
    "    Where p0 and v0 are both (N x 1 x 2 x P) tensors, for N simulations, P particles/sim\n",
    "    '''\n",
    "    return p0 + v0 * time\n"
   ]
  },
  {
   "cell_type": "code",
   "execution_count": 22,
   "id": "b9d84863",
   "metadata": {
    "id": "b9d84863"
   },
   "outputs": [],
   "source": [
    "from torch.utils.data import Dataset, DataLoader\n",
    "\n",
    "\n",
    "class myDataset(Dataset):\n",
    "    def __init__(self, posi, velo, charge):\n",
    "        self.posi = posi\n",
    "        self.velo = velo\n",
    "        self.charge = charge\n",
    "    \n",
    "    def __len__(self):\n",
    "        return len(self.posi)\n",
    "    \n",
    "    def __getitem__(self, index):\n",
    "        i = list(zip(self.posi, self.velo, self.charge))[index]\n",
    "        \n",
    "        p = torch.transpose(i[0][0], 0, 1)\n",
    "        v = torch.transpose(i[1][0], 0, 1)\n",
    "        c = i[2]\n",
    "        \n",
    "        # x_p, y_p, x_v, y_v, c at t=0\n",
    "        x = torch.hstack((p, v, c))\n",
    "        # x.shape = [10, 5, 5]\n",
    "        \n",
    "        # (x_p, y_p), (x_p, y_p), (x_p, y_p) at t = 0.5, 1.0, 1.5\n",
    "        y = torch.hstack((torch.transpose(i[0][1], 0, 1), \n",
    "                          torch.transpose(i[0][2], 0, 1), \n",
    "                          torch.transpose(i[0][3], 0, 1)))\n",
    "        # y.shape = [10, 5, 6]\n",
    "        \n",
    "        return x, y\n"
   ]
  },
  {
   "cell_type": "code",
   "execution_count": 12,
   "id": "3R3Oid3Fr043",
   "metadata": {
    "colab": {
     "base_uri": "https://localhost:8080/"
    },
    "id": "3R3Oid3Fr043",
    "outputId": "2a922792-d6cf-4a08-e81c-9b213f267f27"
   },
   "outputs": [
    {
     "data": {
      "text/plain": [
       "torch.Size([5, 6])"
      ]
     },
     "execution_count": 12,
     "metadata": {},
     "output_type": "execute_result"
    }
   ],
   "source": [
    "tmp = myDataset(p_train, v_train, c_train)\n",
    "x,y = tmp.__getitem__(0)\n",
    "y.shape"
   ]
  },
  {
   "cell_type": "code",
   "execution_count": 23,
   "id": "d070e561",
   "metadata": {
    "id": "d070e561"
   },
   "outputs": [],
   "source": [
    "trainLoader = DataLoader(myDataset(p_train, v_train, c_train), batch_size=10)\n",
    "validationLoader = DataLoader(myDataset(p_valid, v_valid, c_valid), batch_size=10)\n",
    "testLoader = DataLoader(myDataset(p_test, v_test, c_test), batch_size=10)"
   ]
  },
  {
   "cell_type": "markdown",
   "id": "18b2874d",
   "metadata": {
    "id": "18b2874d"
   },
   "source": [
    "# Model Implementation"
   ]
  },
  {
   "cell_type": "code",
   "execution_count": 14,
   "id": "3aa472dc",
   "metadata": {
    "id": "3aa472dc"
   },
   "outputs": [],
   "source": [
    "import torch.nn as nn\n",
    "from tqdm import tqdm"
   ]
  },
  {
   "cell_type": "markdown",
   "id": "b33b0e1c",
   "metadata": {
    "id": "b33b0e1c"
   },
   "source": [
    "Implementation like https://github.com/higgsfield/interaction_network_pytorch/blob/master/Interaction%20Network.ipynb"
   ]
  },
  {
   "cell_type": "code",
   "execution_count": 17,
   "id": "e79124e4",
   "metadata": {
    "colab": {
     "base_uri": "https://localhost:8080/"
    },
    "id": "e79124e4",
    "outputId": "5b66cba2-8c46-4686-af0e-195eb444685a"
   },
   "outputs": [
    {
     "name": "stdout",
     "output_type": "stream",
     "text": [
      "tensor([[-1.9361, -0.2276, -0.7878,  0.0267, -1.0000],\n",
      "        [ 3.6532, -2.7631,  1.5892, -0.4211,  1.0000],\n",
      "        [-4.5496,  8.2998, -1.2906,  2.3834,  1.0000],\n",
      "        [-3.0958, -3.0921, -1.9173, -0.5785,  1.0000],\n",
      "        [ 0.1073, -2.8976,  0.6539, -0.5676, -1.0000]])\n",
      "tensor([[-1.9361, -0.2276],\n",
      "        [ 3.6532, -2.7631],\n",
      "        [-4.5496,  8.2998],\n",
      "        [-3.0958, -3.0921],\n",
      "        [ 0.1073, -2.8976]])\n",
      "tensor([[-0.7878,  0.0267],\n",
      "        [ 1.5892, -0.4211],\n",
      "        [-1.2906,  2.3834],\n",
      "        [-1.9173, -0.5785],\n",
      "        [ 0.6539, -0.5676]])\n"
     ]
    }
   ],
   "source": [
    "for i in zip(p_train, v_train, c_train):\n",
    "    p = torch.transpose(i[0][0], 0, 1)\n",
    "    v = torch.transpose(i[1][0], 0, 1)\n",
    "    c = i[2]\n",
    "   \n",
    "    data = torch.hstack((p, v, c))\n",
    "    print(data)\n",
    "    print(data[:, 0:2])\n",
    "    print(data[:, 2:4])\n",
    "    # x_p, y_p, x_v, y_v, c\n",
    "    break"
   ]
  },
  {
   "cell_type": "code",
   "execution_count": 18,
   "id": "MFsf3WwfDN-s",
   "metadata": {
    "colab": {
     "base_uri": "https://localhost:8080/"
    },
    "id": "MFsf3WwfDN-s",
    "outputId": "027d2d85-dd16-421e-f594-53d70e0e45d2"
   },
   "outputs": [
    {
     "data": {
      "text/plain": [
       "2"
      ]
     },
     "execution_count": 18,
     "metadata": {},
     "output_type": "execute_result"
    }
   ],
   "source": [
    "len(next(iter(trainLoader)))"
   ]
  },
  {
   "cell_type": "code",
   "execution_count": 29,
   "id": "587da524",
   "metadata": {
    "id": "587da524"
   },
   "outputs": [],
   "source": [
    "# object-centric acceleration neural network\n",
    "class AccelerationModel(nn.Module):\n",
    "    def __init__(self):\n",
    "        super(AccelerationModel, self).__init__()\n",
    "        \n",
    "        self.layers = nn.Sequential(\n",
    "            nn.Linear(5, 25),\n",
    "            nn.ReLU(),\n",
    "            nn.Dropout(p=0.2),\n",
    "            nn.Linear(25, 2),\n",
    "        )\n",
    "        \n",
    "    def forward(self, x):\n",
    "        x = x.view(-1, 5)\n",
    "        x = self.layers(x)\n",
    "        return x.view(10, 5, 2)"
   ]
  },
  {
   "cell_type": "code",
   "execution_count": 30,
   "id": "8bca2f0d",
   "metadata": {
    "id": "8bca2f0d"
   },
   "outputs": [],
   "source": [
    "# object-centric velocity neural network\n",
    "class VelocityModel(nn.Module):\n",
    "    def __init__(self):\n",
    "        super(VelocityModel, self).__init__()\n",
    "        \n",
    "        self.layers = nn.Sequential(\n",
    "            nn.Linear(4, 16),\n",
    "            # nn.Dropout(p=0.2),\n",
    "            nn.ReLU(),\n",
    "            nn.Linear(16, 2),\n",
    "            \n",
    "        )\n",
    "        \n",
    "    def forward(self, x):\n",
    "        x = x.view(-1, 4)\n",
    "        x = self.layers(x)\n",
    "        return x.view(10, 5, 2)"
   ]
  },
  {
   "cell_type": "code",
   "execution_count": 31,
   "id": "3535d8b4",
   "metadata": {
    "id": "3535d8b4"
   },
   "outputs": [],
   "source": [
    "# object-centric position neural network\n",
    "class PositionModel(nn.Module):\n",
    "    def __init__(self):\n",
    "        super(PositionModel, self).__init__()\n",
    "        \n",
    "        self.layers = nn.Sequential(\n",
    "            nn.Linear(4, 16),\n",
    "            nn.ReLU(),\n",
    "            #nn.Dropout(p=0.2),\n",
    "            nn.Linear(16, 2),\n",
    "        )\n",
    "        \n",
    "    def forward(self, x):\n",
    "        x = x.view(-1, 4)\n",
    "        x = self.layers(x)\n",
    "        return x.view(10, 5, 2)"
   ]
  },
  {
   "cell_type": "code",
   "execution_count": 35,
   "id": "1e9bdf5e",
   "metadata": {
    "colab": {
     "base_uri": "https://localhost:8080/"
    },
    "id": "1e9bdf5e",
    "outputId": "dfb49188-c0c5-4dc1-8926-fc3abba94f07"
   },
   "outputs": [
    {
     "data": {
      "text/plain": [
       "InteractionNetwork(\n",
       "  (acceleration_model): AccelerationModel(\n",
       "    (layers): Sequential(\n",
       "      (0): Linear(in_features=5, out_features=25, bias=True)\n",
       "      (1): ReLU()\n",
       "      (2): Dropout(p=0.2, inplace=False)\n",
       "      (3): Linear(in_features=25, out_features=2, bias=True)\n",
       "    )\n",
       "  )\n",
       "  (velocity_model): VelocityModel(\n",
       "    (layers): Sequential(\n",
       "      (0): Linear(in_features=4, out_features=16, bias=True)\n",
       "      (1): ReLU()\n",
       "      (2): Linear(in_features=16, out_features=2, bias=True)\n",
       "    )\n",
       "  )\n",
       "  (position_model): PositionModel(\n",
       "    (layers): Sequential(\n",
       "      (0): Linear(in_features=4, out_features=16, bias=True)\n",
       "      (1): ReLU()\n",
       "      (2): Linear(in_features=16, out_features=2, bias=True)\n",
       "    )\n",
       "  )\n",
       ")"
      ]
     },
     "execution_count": 35,
     "metadata": {},
     "output_type": "execute_result"
    }
   ],
   "source": [
    "# interaction network\n",
    "class InteractionNetwork(nn.Module):\n",
    "    def __init__(self):\n",
    "        super(InteractionNetwork, self).__init__()\n",
    "        \n",
    "        self.acceleration_model = AccelerationModel()\n",
    "        self.velocity_model = VelocityModel()\n",
    "        self.position_model = PositionModel()\n",
    "        \n",
    "    def forward(self, x, delta_t):\n",
    "        pred_accelleration = self.acceleration_model(x)\n",
    "        pred_velocity = self.velocity_model(torch.dstack((x[:, :, 2:4], torch.mul(pred_accelleration, delta_t))))\n",
    "        pred_position = self.position_model(torch.dstack((x[:, :, 0:2], torch.mul(pred_velocity, delta_t))))\n",
    "        return pred_position, pred_velocity\n",
    "    \n",
    "interaction_network = InteractionNetwork()\n",
    "interaction_network.to(device=device)"
   ]
  },
  {
   "cell_type": "code",
   "execution_count": 36,
   "id": "aJfvjDr1j551",
   "metadata": {
    "id": "aJfvjDr1j551"
   },
   "outputs": [],
   "source": [
    "def evaluation(model, test_loader, klass):\n",
    "    model = model.eval()\n",
    "    loss_t1, loss_t2, loss_t3, loss_tot = list(), list(), list(), list()\n",
    "\n",
    "    with torch.no_grad():\n",
    "        for x, y in test_loader:\n",
    "            pred_p_t1, pred_v_t1 = model(x, 0.5)\n",
    "            pred_p_t2, pred_v_t2 = model(torch.dstack((pred_p_t1, pred_v_t1, x[:, :, -1])), 0.5)\n",
    "            pred_p_t3, _ = model(torch.dstack((pred_p_t2, pred_v_t2, x[:, :, -1])), 0.5)\n",
    "\n",
    "            loss1 = criterion(pred_p_t1,y[:,:,0:2])\n",
    "            loss2 = criterion(pred_p_t2,y[:,:,2:4])\n",
    "            loss3 = criterion(pred_p_t3,y[:,:,4:6])\n",
    "\n",
    "            loss_t1.append(loss1.item() / 10)\n",
    "            loss_t2.append(loss2.item() / 10)\n",
    "            loss_t3.append(loss3.item() / 10)\n",
    "\n",
    "            y_pred = torch.dstack((pred_p_t1, pred_p_t2, pred_p_t3))\n",
    "            loss = criterion(y_pred, y)\n",
    "            loss_tot.append(loss.item() / 10)\n",
    "\n",
    "    print(f'Average loss in totall: {round(sum(loss_tot)/len(test_loader),5)}')\n",
    "    print(f'Average loss in {klass} at time= 0.5: {round(sum(loss_t1)/len(test_loader),5)}')\n",
    "    print(f'Average loss in {klass} at time= 1: {round(sum(loss_t2)/len(test_loader),5)}')\n",
    "    print(f'Average loss in {klass} at time= 1.5: {round(sum(loss_t3)/len(test_loader),5)}\\n')"
   ]
  },
  {
   "cell_type": "code",
   "execution_count": 38,
   "id": "cbd80a9d",
   "metadata": {
    "colab": {
     "base_uri": "https://localhost:8080/"
    },
    "id": "cbd80a9d",
    "outputId": "cbbe3aec-472b-49f9-9cdc-f4ca3d359194"
   },
   "outputs": [
    {
     "name": "stderr",
     "output_type": "stream",
     "text": [
      "Training:  36%|█████████████████████████▏                                             | 71/200 [00:06<00:12, 10.55it/s]\n"
     ]
    },
    {
     "ename": "KeyboardInterrupt",
     "evalue": "",
     "output_type": "error",
     "traceback": [
      "\u001b[1;31m---------------------------------------------------------------------------\u001b[0m",
      "\u001b[1;31mKeyboardInterrupt\u001b[0m                         Traceback (most recent call last)",
      "Input \u001b[1;32mIn [38]\u001b[0m, in \u001b[0;36m<cell line: 6>\u001b[1;34m()\u001b[0m\n\u001b[0;32m      7\u001b[0m train_loss, val_loss \u001b[38;5;241m=\u001b[39m \u001b[38;5;28mlist\u001b[39m(), \u001b[38;5;28mlist\u001b[39m()\n\u001b[0;32m      9\u001b[0m interaction_network \u001b[38;5;241m=\u001b[39m interaction_network\u001b[38;5;241m.\u001b[39mtrain()\n\u001b[1;32m---> 10\u001b[0m \u001b[38;5;28;01mfor\u001b[39;00m x_train, y_train \u001b[38;5;129;01min\u001b[39;00m tqdm(trainLoader, desc\u001b[38;5;241m=\u001b[39m\u001b[38;5;124m\"\u001b[39m\u001b[38;5;124mTraining\u001b[39m\u001b[38;5;124m\"\u001b[39m):\n\u001b[0;32m     11\u001b[0m     optimizer\u001b[38;5;241m.\u001b[39mzero_grad()\n\u001b[0;32m     12\u001b[0m     pred_p_t1, pred_v_t1 \u001b[38;5;241m=\u001b[39m interaction_network(x_train, \u001b[38;5;241m0.5\u001b[39m)\n",
      "File \u001b[1;32m~\\anaconda3\\envs\\deeplearning\\lib\\site-packages\\tqdm\\std.py:1195\u001b[0m, in \u001b[0;36mtqdm.__iter__\u001b[1;34m(self)\u001b[0m\n\u001b[0;32m   1192\u001b[0m time \u001b[38;5;241m=\u001b[39m \u001b[38;5;28mself\u001b[39m\u001b[38;5;241m.\u001b[39m_time\n\u001b[0;32m   1194\u001b[0m \u001b[38;5;28;01mtry\u001b[39;00m:\n\u001b[1;32m-> 1195\u001b[0m     \u001b[38;5;28;01mfor\u001b[39;00m obj \u001b[38;5;129;01min\u001b[39;00m iterable:\n\u001b[0;32m   1196\u001b[0m         \u001b[38;5;28;01myield\u001b[39;00m obj\n\u001b[0;32m   1197\u001b[0m         \u001b[38;5;66;03m# Update and possibly print the progressbar.\u001b[39;00m\n\u001b[0;32m   1198\u001b[0m         \u001b[38;5;66;03m# Note: does not call self.update(1) for speed optimisation.\u001b[39;00m\n",
      "File \u001b[1;32m~\\anaconda3\\envs\\deeplearning\\lib\\site-packages\\torch\\utils\\data\\dataloader.py:530\u001b[0m, in \u001b[0;36m_BaseDataLoaderIter.__next__\u001b[1;34m(self)\u001b[0m\n\u001b[0;32m    528\u001b[0m \u001b[38;5;28;01mif\u001b[39;00m \u001b[38;5;28mself\u001b[39m\u001b[38;5;241m.\u001b[39m_sampler_iter \u001b[38;5;129;01mis\u001b[39;00m \u001b[38;5;28;01mNone\u001b[39;00m:\n\u001b[0;32m    529\u001b[0m     \u001b[38;5;28mself\u001b[39m\u001b[38;5;241m.\u001b[39m_reset()\n\u001b[1;32m--> 530\u001b[0m data \u001b[38;5;241m=\u001b[39m \u001b[38;5;28;43mself\u001b[39;49m\u001b[38;5;241;43m.\u001b[39;49m\u001b[43m_next_data\u001b[49m\u001b[43m(\u001b[49m\u001b[43m)\u001b[49m\n\u001b[0;32m    531\u001b[0m \u001b[38;5;28mself\u001b[39m\u001b[38;5;241m.\u001b[39m_num_yielded \u001b[38;5;241m+\u001b[39m\u001b[38;5;241m=\u001b[39m \u001b[38;5;241m1\u001b[39m\n\u001b[0;32m    532\u001b[0m \u001b[38;5;28;01mif\u001b[39;00m \u001b[38;5;28mself\u001b[39m\u001b[38;5;241m.\u001b[39m_dataset_kind \u001b[38;5;241m==\u001b[39m _DatasetKind\u001b[38;5;241m.\u001b[39mIterable \u001b[38;5;129;01mand\u001b[39;00m \\\n\u001b[0;32m    533\u001b[0m         \u001b[38;5;28mself\u001b[39m\u001b[38;5;241m.\u001b[39m_IterableDataset_len_called \u001b[38;5;129;01mis\u001b[39;00m \u001b[38;5;129;01mnot\u001b[39;00m \u001b[38;5;28;01mNone\u001b[39;00m \u001b[38;5;129;01mand\u001b[39;00m \\\n\u001b[0;32m    534\u001b[0m         \u001b[38;5;28mself\u001b[39m\u001b[38;5;241m.\u001b[39m_num_yielded \u001b[38;5;241m>\u001b[39m \u001b[38;5;28mself\u001b[39m\u001b[38;5;241m.\u001b[39m_IterableDataset_len_called:\n",
      "File \u001b[1;32m~\\anaconda3\\envs\\deeplearning\\lib\\site-packages\\torch\\utils\\data\\dataloader.py:570\u001b[0m, in \u001b[0;36m_SingleProcessDataLoaderIter._next_data\u001b[1;34m(self)\u001b[0m\n\u001b[0;32m    568\u001b[0m \u001b[38;5;28;01mdef\u001b[39;00m \u001b[38;5;21m_next_data\u001b[39m(\u001b[38;5;28mself\u001b[39m):\n\u001b[0;32m    569\u001b[0m     index \u001b[38;5;241m=\u001b[39m \u001b[38;5;28mself\u001b[39m\u001b[38;5;241m.\u001b[39m_next_index()  \u001b[38;5;66;03m# may raise StopIteration\u001b[39;00m\n\u001b[1;32m--> 570\u001b[0m     data \u001b[38;5;241m=\u001b[39m \u001b[38;5;28;43mself\u001b[39;49m\u001b[38;5;241;43m.\u001b[39;49m\u001b[43m_dataset_fetcher\u001b[49m\u001b[38;5;241;43m.\u001b[39;49m\u001b[43mfetch\u001b[49m\u001b[43m(\u001b[49m\u001b[43mindex\u001b[49m\u001b[43m)\u001b[49m  \u001b[38;5;66;03m# may raise StopIteration\u001b[39;00m\n\u001b[0;32m    571\u001b[0m     \u001b[38;5;28;01mif\u001b[39;00m \u001b[38;5;28mself\u001b[39m\u001b[38;5;241m.\u001b[39m_pin_memory:\n\u001b[0;32m    572\u001b[0m         data \u001b[38;5;241m=\u001b[39m _utils\u001b[38;5;241m.\u001b[39mpin_memory\u001b[38;5;241m.\u001b[39mpin_memory(data)\n",
      "File \u001b[1;32m~\\anaconda3\\envs\\deeplearning\\lib\\site-packages\\torch\\utils\\data\\_utils\\fetch.py:49\u001b[0m, in \u001b[0;36m_MapDatasetFetcher.fetch\u001b[1;34m(self, possibly_batched_index)\u001b[0m\n\u001b[0;32m     47\u001b[0m \u001b[38;5;28;01mdef\u001b[39;00m \u001b[38;5;21mfetch\u001b[39m(\u001b[38;5;28mself\u001b[39m, possibly_batched_index):\n\u001b[0;32m     48\u001b[0m     \u001b[38;5;28;01mif\u001b[39;00m \u001b[38;5;28mself\u001b[39m\u001b[38;5;241m.\u001b[39mauto_collation:\n\u001b[1;32m---> 49\u001b[0m         data \u001b[38;5;241m=\u001b[39m [\u001b[38;5;28mself\u001b[39m\u001b[38;5;241m.\u001b[39mdataset[idx] \u001b[38;5;28;01mfor\u001b[39;00m idx \u001b[38;5;129;01min\u001b[39;00m possibly_batched_index]\n\u001b[0;32m     50\u001b[0m     \u001b[38;5;28;01melse\u001b[39;00m:\n\u001b[0;32m     51\u001b[0m         data \u001b[38;5;241m=\u001b[39m \u001b[38;5;28mself\u001b[39m\u001b[38;5;241m.\u001b[39mdataset[possibly_batched_index]\n",
      "File \u001b[1;32m~\\anaconda3\\envs\\deeplearning\\lib\\site-packages\\torch\\utils\\data\\_utils\\fetch.py:49\u001b[0m, in \u001b[0;36m<listcomp>\u001b[1;34m(.0)\u001b[0m\n\u001b[0;32m     47\u001b[0m \u001b[38;5;28;01mdef\u001b[39;00m \u001b[38;5;21mfetch\u001b[39m(\u001b[38;5;28mself\u001b[39m, possibly_batched_index):\n\u001b[0;32m     48\u001b[0m     \u001b[38;5;28;01mif\u001b[39;00m \u001b[38;5;28mself\u001b[39m\u001b[38;5;241m.\u001b[39mauto_collation:\n\u001b[1;32m---> 49\u001b[0m         data \u001b[38;5;241m=\u001b[39m [\u001b[38;5;28;43mself\u001b[39;49m\u001b[38;5;241;43m.\u001b[39;49m\u001b[43mdataset\u001b[49m\u001b[43m[\u001b[49m\u001b[43midx\u001b[49m\u001b[43m]\u001b[49m \u001b[38;5;28;01mfor\u001b[39;00m idx \u001b[38;5;129;01min\u001b[39;00m possibly_batched_index]\n\u001b[0;32m     50\u001b[0m     \u001b[38;5;28;01melse\u001b[39;00m:\n\u001b[0;32m     51\u001b[0m         data \u001b[38;5;241m=\u001b[39m \u001b[38;5;28mself\u001b[39m\u001b[38;5;241m.\u001b[39mdataset[possibly_batched_index]\n",
      "Input \u001b[1;32mIn [22]\u001b[0m, in \u001b[0;36mmyDataset.__getitem__\u001b[1;34m(self, index)\u001b[0m\n\u001b[0;32m     13\u001b[0m \u001b[38;5;28;01mdef\u001b[39;00m \u001b[38;5;21m__getitem__\u001b[39m(\u001b[38;5;28mself\u001b[39m, index):\n\u001b[1;32m---> 14\u001b[0m     i \u001b[38;5;241m=\u001b[39m \u001b[38;5;28mlist\u001b[39m(\u001b[38;5;28;43mzip\u001b[39;49m\u001b[43m(\u001b[49m\u001b[38;5;28;43mself\u001b[39;49m\u001b[38;5;241;43m.\u001b[39;49m\u001b[43mposi\u001b[49m\u001b[43m,\u001b[49m\u001b[43m \u001b[49m\u001b[38;5;28;43mself\u001b[39;49m\u001b[38;5;241;43m.\u001b[39;49m\u001b[43mvelo\u001b[49m\u001b[43m,\u001b[49m\u001b[43m \u001b[49m\u001b[38;5;28;43mself\u001b[39;49m\u001b[38;5;241;43m.\u001b[39;49m\u001b[43mcharge\u001b[49m\u001b[43m)\u001b[49m)[index]\n\u001b[0;32m     16\u001b[0m     p \u001b[38;5;241m=\u001b[39m torch\u001b[38;5;241m.\u001b[39mtranspose(i[\u001b[38;5;241m0\u001b[39m][\u001b[38;5;241m0\u001b[39m], \u001b[38;5;241m0\u001b[39m, \u001b[38;5;241m1\u001b[39m)\n\u001b[0;32m     17\u001b[0m     v \u001b[38;5;241m=\u001b[39m torch\u001b[38;5;241m.\u001b[39mtranspose(i[\u001b[38;5;241m1\u001b[39m][\u001b[38;5;241m0\u001b[39m], \u001b[38;5;241m0\u001b[39m, \u001b[38;5;241m1\u001b[39m)\n",
      "File \u001b[1;32m~\\anaconda3\\envs\\deeplearning\\lib\\site-packages\\torch\\_tensor.py:704\u001b[0m, in \u001b[0;36mTensor.__iter__\u001b[1;34m(self)\u001b[0m\n\u001b[0;32m    699\u001b[0m \u001b[38;5;28;01mif\u001b[39;00m torch\u001b[38;5;241m.\u001b[39m_C\u001b[38;5;241m.\u001b[39m_get_tracing_state():\n\u001b[0;32m    700\u001b[0m     warnings\u001b[38;5;241m.\u001b[39mwarn(\u001b[38;5;124m'\u001b[39m\u001b[38;5;124mIterating over a tensor might cause the trace to be incorrect. \u001b[39m\u001b[38;5;124m'\u001b[39m\n\u001b[0;32m    701\u001b[0m                   \u001b[38;5;124m'\u001b[39m\u001b[38;5;124mPassing a tensor of different shape won\u001b[39m\u001b[38;5;130;01m\\'\u001b[39;00m\u001b[38;5;124mt change the number of \u001b[39m\u001b[38;5;124m'\u001b[39m\n\u001b[0;32m    702\u001b[0m                   \u001b[38;5;124m'\u001b[39m\u001b[38;5;124miterations executed (and might lead to errors or silently give \u001b[39m\u001b[38;5;124m'\u001b[39m\n\u001b[0;32m    703\u001b[0m                   \u001b[38;5;124m'\u001b[39m\u001b[38;5;124mincorrect results).\u001b[39m\u001b[38;5;124m'\u001b[39m, category\u001b[38;5;241m=\u001b[39mtorch\u001b[38;5;241m.\u001b[39mjit\u001b[38;5;241m.\u001b[39mTracerWarning, stacklevel\u001b[38;5;241m=\u001b[39m\u001b[38;5;241m2\u001b[39m)\n\u001b[1;32m--> 704\u001b[0m \u001b[38;5;28;01mreturn\u001b[39;00m \u001b[38;5;28miter\u001b[39m(\u001b[38;5;28;43mself\u001b[39;49m\u001b[38;5;241;43m.\u001b[39;49m\u001b[43munbind\u001b[49m\u001b[43m(\u001b[49m\u001b[38;5;241;43m0\u001b[39;49m\u001b[43m)\u001b[49m)\n",
      "\u001b[1;31mKeyboardInterrupt\u001b[0m: "
     ]
    }
   ],
   "source": [
    "optimizer = torch.optim.SGD(interaction_network.parameters(), lr=0.001, weight_decay=1e-4)\n",
    "criterion = nn.MSELoss()\n",
    "criterion.to(device=device)\n",
    "\n",
    "train_loss_graph, val_loss_graph = list(), list()\n",
    "for epoch in range(10):\n",
    "    train_loss, val_loss = list(), list()\n",
    "    \n",
    "    interaction_network = interaction_network.train()\n",
    "    for x_train, y_train in tqdm(trainLoader, desc=\"Training\"):\n",
    "        optimizer.zero_grad()\n",
    "        pred_p_t1, pred_v_t1 = interaction_network(x_train, 0.5)\n",
    "        pred_p_t2, pred_v_t2 = interaction_network(torch.dstack((pred_p_t1, pred_v_t1, x_train[:, :, -1])), 0.5)\n",
    "        pred_p_t3, _ = interaction_network(torch.dstack((pred_p_t2, pred_v_t2, x_train[:, :, -1])), 0.5)\n",
    "        \n",
    "        y_pred = torch.dstack((pred_p_t1, pred_p_t2, pred_p_t3))\n",
    "        loss = criterion(y_pred, y_train)\n",
    "\n",
    "        loss.backward()\n",
    "        optimizer.step()\n",
    "        \n",
    "        train_loss.append(loss.item() / 10)\n",
    "\n",
    "    train_loss_graph.append(sum(train_loss) / len(trainLoader))\n",
    "    \n",
    "    interaction_network = interaction_network.eval()\n",
    "    for x_val, y_val in validationLoader:\n",
    "        optimizer.zero_grad()\n",
    "        pred_p_t1, pred_v_t1 = interaction_network(x_val, 0.5)\n",
    "        pred_p_t2, pred_v_t2 = interaction_network(torch.dstack((pred_p_t1, pred_v_t1, x_val[:, :, -1])), 0.5)\n",
    "        pred_p_t3, _ = interaction_network(torch.dstack((pred_p_t2, pred_v_t2, x_val[:, :, -1])), 0.5)\n",
    "        \n",
    "        y_pred = torch.dstack((pred_p_t1, pred_p_t2, pred_p_t3))\n",
    "        loss = criterion(y_pred, y_val)\n",
    "        \n",
    "        val_loss.append(loss.item() / 10)\n",
    "    \n",
    "    val_loss_graph.append(sum(val_loss) / len(validationLoader))\n",
    "    \n",
    "    #evaluation(interaction_network,validationLoader,\"validation\")\n",
    "        \n",
    "    print(f'Average loss: {round(train_loss_graph[-1],5)}')\n",
    "    print(f'val loss: {round(val_loss_graph[-1],5)}\\n')\n",
    "\n",
    "test_loss = list()\n",
    "interaction_network = interaction_network.eval()\n",
    "for x_test, y_test in testLoader:\n",
    "    optimizer.zero_grad()\n",
    "    pred_p_t1, pred_v_t1 = interaction_network(x_test, 0.5)\n",
    "    pred_p_t2, pred_v_t2 = interaction_network(torch.dstack((pred_p_t1, pred_v_t1, x_test[:, :, -1])), 0.5)\n",
    "    pred_p_t3, _ = interaction_network(torch.dstack((pred_p_t2, pred_v_t2, x_test[:, :, -1])), 0.5)\n",
    "        \n",
    "    y_pred = torch.dstack((pred_p_t1, pred_p_t2, pred_p_t3))\n",
    "    loss = criterion(y_pred, y_test)\n",
    "        \n",
    "    test_loss.append(loss.item() / 10)\n",
    "    \n",
    "print(f\"test loss:{round(sum(test_loss) / len(testLoader),5)}\")"
   ]
  },
  {
   "cell_type": "code",
   "execution_count": 25,
   "id": "rnAe3_nXllE2",
   "metadata": {
    "colab": {
     "base_uri": "https://localhost:8080/"
    },
    "id": "rnAe3_nXllE2",
    "outputId": "c0b3f96c-32af-4fb0-f66d-26d454d7ed07"
   },
   "outputs": [
    {
     "name": "stdout",
     "output_type": "stream",
     "text": [
      "Average loss in totall: 0.02482\n",
      "Average loss in training at time= 0.5: 0.00605\n",
      "Average loss in training at time= 1: 0.02161\n",
      "Average loss in training at time= 1.5: 0.04679\n",
      "\n",
      "Average loss in totall: 0.02489\n",
      "Average loss in validation at time= 0.5: 0.00607\n",
      "Average loss in validation at time= 1: 0.02141\n",
      "Average loss in validation at time= 1.5: 0.0472\n",
      "\n",
      "Average loss in totall: 0.0255\n",
      "Average loss in testing at time= 0.5: 0.00621\n",
      "Average loss in testing at time= 1: 0.02218\n",
      "Average loss in testing at time= 1.5: 0.0481\n",
      "\n"
     ]
    }
   ],
   "source": [
    "evaluation(interaction_network,trainLoader,\"training\")\n",
    "evaluation(interaction_network,validationLoader,\"validation\")\n",
    "evaluation(interaction_network,testLoader,\"testing\")"
   ]
  },
  {
   "cell_type": "code",
   "execution_count": 26,
   "id": "0a99a32b",
   "metadata": {
    "colab": {
     "base_uri": "https://localhost:8080/"
    },
    "id": "0a99a32b",
    "outputId": "db65dbb4-6097-4e57-c1d1-2dfa260da235"
   },
   "outputs": [
    {
     "name": "stdout",
     "output_type": "stream",
     "text": [
      "Baseline error should be 0: {'rms': 0.0}\n",
      "Error over time should increase (train).\n",
      "t = 0.5 {'rms': 0.24874936044216156}\n",
      "t = 1 {'rms': 0.5171805024147034}\n",
      "t = 1.5 {'rms': 0.7905893325805664}\n",
      "Error over time should increase (valid).\n",
      "t = 0.5 {'rms': 0.24874936044216156}\n",
      "t = 1 {'rms': 0.5171805024147034}\n",
      "t = 1.5 {'rms': 0.7905893325805664}\n",
      "Error over time should increase (test).\n",
      "t = 0.5 {'rms': 0.24874936044216156}\n",
      "t = 1 {'rms': 0.5171805024147034}\n",
      "t = 1.5 {'rms': 0.7905893325805664}\n"
     ]
    }
   ],
   "source": [
    "import torch.nn as nn\n",
    "\n",
    "# Evaluate the baseline model (what metrics? r2? rms?)\n",
    "def rms(p_pred, p_actual):\n",
    "    '''\n",
    "    Return the root mean squared distance between predicted locations and actual locations.\n",
    "    Where p_pred and p_actual are both (N x T x 2 x P) tensors.\n",
    "    '''\n",
    "    mse = nn.MSELoss()\n",
    "    return mse(p_pred, p_actual).sqrt().item()\n",
    "\n",
    "def baseline_evaluate(p, v, time):\n",
    "    '''\n",
    "    Evaluate the baseline \"model\" at given time in {0, 0.5, 1, 1.5}.\n",
    "    '''\n",
    "    p_pred = baseline_predict(p[:, :1, :, :], v, time)\n",
    "    idx = int(time / 0.5)\n",
    "    p_actual = p[:, idx:idx+1, :, :]\n",
    "    # Currently just rms, but we could add more evaluations\n",
    "    return {'rms': rms(p_pred, p_actual)}\n",
    "\n",
    "print('Baseline error should be 0:', baseline_evaluate(p_train, v_train, 0))\n",
    "\n",
    "# Print some more metrics\n",
    "for klass in ['train', 'valid', 'test']:\n",
    "    p_klass, v_klass = locals()[f'p_{klass}'], locals()[f'v_{klass}']\n",
    "    print(f'Error over time should increase ({klass}).')\n",
    "    for t in [0.5, 1, 1.5]:\n",
    "        print(f't = {t}', baseline_evaluate(p_train, v_train, t))"
   ]
  },
  {
   "cell_type": "code",
   "execution_count": 27,
   "id": "f02d1d3b",
   "metadata": {
    "colab": {
     "base_uri": "https://localhost:8080/",
     "height": 313
    },
    "id": "f02d1d3b",
    "outputId": "f9e027cb-3b5b-4a77-d9c0-c8ae3b2241db"
   },
   "outputs": [
    {
     "data": {
      "text/plain": [
       "Text(0, 0.5, 'loss value')"
      ]
     },
     "execution_count": 27,
     "metadata": {},
     "output_type": "execute_result"
    },
    {
     "data": {
      "image/png": "[encoded data removed]",
      "text/plain": [
       "<Figure size 432x288 with 1 Axes>"
      ]
     },
     "metadata": {
      "needs_background": "light"
     },
     "output_type": "display_data"
    }
   ],
   "source": [
    "import matplotlib.pyplot as plt\n",
    "\n",
    "plt.plot(train_loss_graph)\n",
    "plt.title(\"training loss\")\n",
    "plt.xlabel(\"epoch number\")\n",
    "plt.ylabel(\"loss value\")"
   ]
  },
  {
   "cell_type": "code",
   "execution_count": 28,
   "id": "73f2a2fb",
   "metadata": {
    "colab": {
     "base_uri": "https://localhost:8080/",
     "height": 313
    },
    "id": "73f2a2fb",
    "outputId": "b063d287-c484-48a0-f5fa-d39a0221143b"
   },
   "outputs": [
    {
     "data": {
      "text/plain": [
       "Text(0, 0.5, 'loss value')"
      ]
     },
     "execution_count": 28,
     "metadata": {},
     "output_type": "execute_result"
    },
    {
     "data": {
      "image/png": "[encoded data removed]",
      "text/plain": [
       "<Figure size 432x288 with 1 Axes>"
      ]
     },
     "metadata": {
      "needs_background": "light"
     },
     "output_type": "display_data"
    }
   ],
   "source": [
    "plt.plot(val_loss_graph)\n",
    "plt.title(\"validation loss\")\n",
    "plt.xlabel(\"epoch number\")\n",
    "plt.ylabel(\"loss value\")"
   ]
  },
  {
   "cell_type": "markdown",
   "id": "0ETuisK94rXp",
   "metadata": {
    "id": "0ETuisK94rXp"
   },
   "source": [
    "# RNN doesn't work below"
   ]
  },
  {
   "cell_type": "code",
   "execution_count": null,
   "id": "43x78wwXeekg",
   "metadata": {
    "id": "43x78wwXeekg"
   },
   "outputs": [],
   "source": [
    "# For sample i at time t:\n",
    "# p = p' + delta_t * (v' + a * delta_t)\n",
    "# trainLoader = DataLoader(myDataset(p_train, v_train, c_train), batch_size=10)\n",
    "# validationLoader = DataLoader(myDataset(p_valid, v_valid, c_valid), batch_size=10)\n",
    "# testLoader = DataLoader(myDataset(p_test, v_test, c_test), batch_size=10)\n",
    "# x = (p,v,c), y = (p_1,p_2,p_3)"
   ]
  },
  {
   "cell_type": "code",
   "execution_count": 70,
   "id": "Zr3PRSw4B0ao",
   "metadata": {
    "colab": {
     "base_uri": "https://localhost:8080/"
    },
    "id": "Zr3PRSw4B0ao",
    "outputId": "d122651d-d5b2-4361-cb4e-a909506e77ed"
   },
   "outputs": [
    {
     "data": {
      "text/plain": [
       "RNN(\n",
       "  (rnn): RNN(5, 10, num_layers=3, batch_first=True)\n",
       "  (out): Linear(in_features=10, out_features=1, bias=True)\n",
       ")"
      ]
     },
     "execution_count": 70,
     "metadata": {},
     "output_type": "execute_result"
    }
   ],
   "source": [
    "# RNN model\n",
    "\n",
    "input_size = 5\n",
    "hidden_size = 10\n",
    "num_layers = 3\n",
    "\n",
    "class RNN(nn.Module):\n",
    "    def __init__(self):\n",
    "        super(RNN, self).__init__()\n",
    "        # self.hidden_size = hidden_size\n",
    "        # self.num_layers = num_layers\n",
    "        # self.lstm = nn.LSTM(input_size, hidden_size, num_layers, batch_first=True)\n",
    "        # self.fc = nn.Linear(hidden_size, 1)\n",
    "        self.rnn = nn.RNN(\n",
    "            input_size = input_size,\n",
    "            hidden_size = hidden_size,\n",
    "            num_layers = num_layers,\n",
    "            batch_first = True,\n",
    "        )\n",
    "        self.out = nn.Linear(hidden_size,1)\n",
    "    \n",
    "    def forward(self, x, h_state):\n",
    "        # # Set initial hidden and cell states \n",
    "        # h0 = torch.zeros(self.num_layers, x.size(0), self.hidden_size).to(device) \n",
    "        # c0 = torch.zeros(self.num_layers, x.size(0), self.hidden_size).to(device)\n",
    "        \n",
    "        # # Forward propagate LSTM\n",
    "        # out, _ = self.lstm(x, (h0, c0))  # out: tensor of shape (batch_size, seq_length, hidden_size)\n",
    "        \n",
    "        # # Decode the hidden state of the last time step\n",
    "        # out = self.fc(out[:, -1, :])\n",
    "        # return out\n",
    "        r_out, h_state = self.rnn(x, h_state)\n",
    "        outs = []\n",
    "        for time_step in range(r_out.size(1)):\n",
    "            outs.append(self.out(r_out[:,time_step,:]))\n",
    "        return torch.stack(outs,dim=1), h_state\n",
    "\n",
    "\n",
    "rnn_model = RNN()\n",
    "rnn_model.to(device=device)\n",
    "# interaction_network = InteractionNetwork()\n",
    "# interaction_network.to(device=device)"
   ]
  },
  {
   "cell_type": "code",
   "execution_count": 74,
   "id": "5ryJx5ZrDxnc",
   "metadata": {
    "colab": {
     "base_uri": "https://localhost:8080/",
     "height": 1000
    },
    "id": "5ryJx5ZrDxnc",
    "outputId": "d194d133-baf4-4bb1-cc2a-f590f66a0d3f"
   },
   "outputs": [
    {
     "name": "stderr",
     "output_type": "stream",
     "text": [
      "Training:   0%|          | 0/500 [00:00<?, ?it/s]/usr/local/lib/python3.7/dist-packages/torch/nn/modules/loss.py:529: UserWarning: Using a target size (torch.Size([5, 6])) that is different to the input size (torch.Size([10, 5, 1])). This will likely lead to incorrect results due to broadcasting. Please ensure they have the same size.\n",
      "  return F.mse_loss(input, target, reduction=self.reduction)\n",
      "Training:   0%|          | 1/500 [00:00<02:27,  3.39it/s]"
     ]
    },
    {
     "name": "stdout",
     "output_type": "stream",
     "text": [
      "tensor([[[0.2245],\n",
      "         [0.1380],\n",
      "         [0.2244],\n",
      "         [0.1521],\n",
      "         [0.1764]],\n",
      "\n",
      "        [[0.2028],\n",
      "         [0.2078],\n",
      "         [0.1442],\n",
      "         [0.2459],\n",
      "         [0.1237]],\n",
      "\n",
      "        [[0.1766],\n",
      "         [0.2410],\n",
      "         [0.0589],\n",
      "         [0.1601],\n",
      "         [0.1898]],\n",
      "\n",
      "        [[0.2259],\n",
      "         [0.1859],\n",
      "         [0.1699],\n",
      "         [0.1980],\n",
      "         [0.0413]],\n",
      "\n",
      "        [[0.1915],\n",
      "         [0.2649],\n",
      "         [0.0968],\n",
      "         [0.0943],\n",
      "         [0.0569]],\n",
      "\n",
      "        [[0.1669],\n",
      "         [0.2089],\n",
      "         [0.1863],\n",
      "         [0.1574],\n",
      "         [0.0657]],\n",
      "\n",
      "        [[0.1859],\n",
      "         [0.2439],\n",
      "         [0.1176],\n",
      "         [0.2839],\n",
      "         [0.1267]],\n",
      "\n",
      "        [[0.1887],\n",
      "         [0.1651],\n",
      "         [0.1909],\n",
      "         [0.1738],\n",
      "         [0.0090]],\n",
      "\n",
      "        [[0.1780],\n",
      "         [0.2110],\n",
      "         [0.1684],\n",
      "         [0.1032],\n",
      "         [0.1723]],\n",
      "\n",
      "        [[0.1596],\n",
      "         [0.3078],\n",
      "         [0.1245],\n",
      "         [0.2128],\n",
      "         [0.0881]]], device='cuda:0', grad_fn=<StackBackward0>)\n"
     ]
    },
    {
     "name": "stderr",
     "output_type": "stream",
     "text": [
      "\r",
      "Training:   0%|          | 1/500 [00:00<05:12,  1.60it/s]"
     ]
    },
    {
     "name": "stdout",
     "output_type": "stream",
     "text": [
      "tensor([[[0.2003],\n",
      "         [0.0468],\n",
      "         [0.0720],\n",
      "         [0.1034],\n",
      "         [0.2423]],\n",
      "\n",
      "        [[0.2312],\n",
      "         [0.0855],\n",
      "         [0.1166],\n",
      "         [0.0960],\n",
      "         [0.0334]],\n",
      "\n",
      "        [[0.0152],\n",
      "         [0.2180],\n",
      "         [0.1581],\n",
      "         [0.1402],\n",
      "         [0.1178]],\n",
      "\n",
      "        [[0.1772],\n",
      "         [0.1448],\n",
      "         [0.2327],\n",
      "         [0.1435],\n",
      "         [0.1573]],\n",
      "\n",
      "        [[0.2719],\n",
      "         [0.1764],\n",
      "         [0.1352],\n",
      "         [0.0734],\n",
      "         [0.1444]],\n",
      "\n",
      "        [[0.1418],\n",
      "         [0.1951],\n",
      "         [0.1899],\n",
      "         [0.2486],\n",
      "         [0.2245]],\n",
      "\n",
      "        [[0.2151],\n",
      "         [0.1248],\n",
      "         [0.1524],\n",
      "         [0.1868],\n",
      "         [0.2214]],\n",
      "\n",
      "        [[0.1722],\n",
      "         [0.0677],\n",
      "         [0.0671],\n",
      "         [0.0940],\n",
      "         [0.2920]],\n",
      "\n",
      "        [[0.0817],\n",
      "         [0.2116],\n",
      "         [0.0759],\n",
      "         [0.0730],\n",
      "         [0.1216]],\n",
      "\n",
      "        [[0.1273],\n",
      "         [0.1176],\n",
      "         [0.1059],\n",
      "         [0.0835],\n",
      "         [0.2536]]], device='cuda:0', grad_fn=<StackBackward0>)\n"
     ]
    },
    {
     "name": "stderr",
     "output_type": "stream",
     "text": [
      "\n"
     ]
    },
    {
     "ename": "RuntimeError",
     "evalue": "ignored",
     "output_type": "error",
     "traceback": [
      "\u001b[0;31m---------------------------------------------------------------------------\u001b[0m",
      "\u001b[0;31mRuntimeError\u001b[0m                              Traceback (most recent call last)",
      "\u001b[0;32m<ipython-input-74-c12671ccfe28>\u001b[0m in \u001b[0;36m<module>\u001b[0;34m()\u001b[0m\n\u001b[1;32m     25\u001b[0m         \u001b[0mloss\u001b[0m \u001b[0;34m=\u001b[0m \u001b[0mcriterion\u001b[0m\u001b[0;34m(\u001b[0m\u001b[0my_pred\u001b[0m\u001b[0;34m,\u001b[0m \u001b[0my_train\u001b[0m\u001b[0;34m[\u001b[0m\u001b[0;36m2\u001b[0m\u001b[0;34m]\u001b[0m\u001b[0;34m)\u001b[0m\u001b[0;34m\u001b[0m\u001b[0;34m\u001b[0m\u001b[0m\n\u001b[1;32m     26\u001b[0m         \u001b[0moptimizer\u001b[0m\u001b[0;34m.\u001b[0m\u001b[0mzero_grad\u001b[0m\u001b[0;34m(\u001b[0m\u001b[0;34m)\u001b[0m\u001b[0;34m\u001b[0m\u001b[0;34m\u001b[0m\u001b[0m\n\u001b[0;32m---> 27\u001b[0;31m         \u001b[0mloss\u001b[0m\u001b[0;34m.\u001b[0m\u001b[0mbackward\u001b[0m\u001b[0;34m(\u001b[0m\u001b[0;34m)\u001b[0m\u001b[0;34m\u001b[0m\u001b[0;34m\u001b[0m\u001b[0m\n\u001b[0m\u001b[1;32m     28\u001b[0m         \u001b[0moptimizer\u001b[0m\u001b[0;34m.\u001b[0m\u001b[0mstep\u001b[0m\u001b[0;34m(\u001b[0m\u001b[0;34m)\u001b[0m\u001b[0;34m\u001b[0m\u001b[0;34m\u001b[0m\u001b[0m\n\u001b[1;32m     29\u001b[0m \u001b[0;34m\u001b[0m\u001b[0m\n",
      "\u001b[0;32m/usr/local/lib/python3.7/dist-packages/torch/_tensor.py\u001b[0m in \u001b[0;36mbackward\u001b[0;34m(self, gradient, retain_graph, create_graph, inputs)\u001b[0m\n\u001b[1;32m    361\u001b[0m                 \u001b[0mcreate_graph\u001b[0m\u001b[0;34m=\u001b[0m\u001b[0mcreate_graph\u001b[0m\u001b[0;34m,\u001b[0m\u001b[0;34m\u001b[0m\u001b[0;34m\u001b[0m\u001b[0m\n\u001b[1;32m    362\u001b[0m                 inputs=inputs)\n\u001b[0;32m--> 363\u001b[0;31m         \u001b[0mtorch\u001b[0m\u001b[0;34m.\u001b[0m\u001b[0mautograd\u001b[0m\u001b[0;34m.\u001b[0m\u001b[0mbackward\u001b[0m\u001b[0;34m(\u001b[0m\u001b[0mself\u001b[0m\u001b[0;34m,\u001b[0m \u001b[0mgradient\u001b[0m\u001b[0;34m,\u001b[0m \u001b[0mretain_graph\u001b[0m\u001b[0;34m,\u001b[0m \u001b[0mcreate_graph\u001b[0m\u001b[0;34m,\u001b[0m \u001b[0minputs\u001b[0m\u001b[0;34m=\u001b[0m\u001b[0minputs\u001b[0m\u001b[0;34m)\u001b[0m\u001b[0;34m\u001b[0m\u001b[0;34m\u001b[0m\u001b[0m\n\u001b[0m\u001b[1;32m    364\u001b[0m \u001b[0;34m\u001b[0m\u001b[0m\n\u001b[1;32m    365\u001b[0m     \u001b[0;32mdef\u001b[0m \u001b[0mregister_hook\u001b[0m\u001b[0;34m(\u001b[0m\u001b[0mself\u001b[0m\u001b[0;34m,\u001b[0m \u001b[0mhook\u001b[0m\u001b[0;34m)\u001b[0m\u001b[0;34m:\u001b[0m\u001b[0;34m\u001b[0m\u001b[0;34m\u001b[0m\u001b[0m\n",
      "\u001b[0;32m/usr/local/lib/python3.7/dist-packages/torch/autograd/__init__.py\u001b[0m in \u001b[0;36mbackward\u001b[0;34m(tensors, grad_tensors, retain_graph, create_graph, grad_variables, inputs)\u001b[0m\n\u001b[1;32m    173\u001b[0m     Variable._execution_engine.run_backward(  # Calls into the C++ engine to run the backward pass\n\u001b[1;32m    174\u001b[0m         \u001b[0mtensors\u001b[0m\u001b[0;34m,\u001b[0m \u001b[0mgrad_tensors_\u001b[0m\u001b[0;34m,\u001b[0m \u001b[0mretain_graph\u001b[0m\u001b[0;34m,\u001b[0m \u001b[0mcreate_graph\u001b[0m\u001b[0;34m,\u001b[0m \u001b[0minputs\u001b[0m\u001b[0;34m,\u001b[0m\u001b[0;34m\u001b[0m\u001b[0;34m\u001b[0m\u001b[0m\n\u001b[0;32m--> 175\u001b[0;31m         allow_unreachable=True, accumulate_grad=True)  # Calls into the C++ engine to run the backward pass\n\u001b[0m\u001b[1;32m    176\u001b[0m \u001b[0;34m\u001b[0m\u001b[0m\n\u001b[1;32m    177\u001b[0m def grad(\n",
      "\u001b[0;31mRuntimeError\u001b[0m: Trying to backward through the graph a second time (or directly access saved tensors after they have already been freed). Saved intermediate values of the graph are freed when you call .backward() or autograd.grad(). Specify retain_graph=True if you need to backward through the graph a second time or if you need to access saved tensors after calling backward."
     ]
    }
   ],
   "source": [
    "start = 0\n",
    "end = 1.5\n",
    "time_step = 0.01\n",
    "h_state = None\n",
    "num_epoch = 3\n",
    "learning_rate = 0.001\n",
    "\n",
    "# Loss and optimizer\n",
    "criterion = nn.MSELoss()\n",
    "optimizer = torch.optim.Adam(rnn_model.parameters(), lr=learning_rate)\n",
    "\n",
    "train_loss_graph, val_loss_graph = list(), list()\n",
    "\n",
    "# Train the model\n",
    "for epoch in range(num_epoch):\n",
    "    train_loss, val_loss = list(), list()\n",
    "    \n",
    "    rnn_model = rnn_model.train()\n",
    "    for x_train, y_train in tqdm(trainLoader, desc=\"Training\"):\n",
    "        \n",
    "        #steps = np.linspace(start, end, time_step, dtype=np.float32,endpoint=False)\n",
    "        y_pred, h_state = rnn_model(x_train,h_state)\n",
    "\n",
    "        print(y_pred)\n",
    "        loss = criterion(y_pred, y_train[2])\n",
    "        optimizer.zero_grad()\n",
    "        loss.backward()\n",
    "        optimizer.step()\n",
    "        \n",
    "        train_loss.append(loss.item() / num_epoch)\n",
    "    \n",
    "    train_loss_graph.append(sum(train_loss) / len(trainLoader))\n",
    "        \n",
    "    rnn_model = rnn_model.eval()\n",
    "    for x_val, y_val in validationLoader:\n",
    "        y_pred_val, h_state = rnn_model(x_val,h_state)\n",
    "        loss = criterion(y_pred_val, y_val)\n",
    "        \n",
    "        val_loss.append(loss.item() / num_epoch)\n",
    "    \n",
    "    val_loss_graph.append(sum(val_loss) / len(validationLoader))\n",
    "        \n",
    "    print(f'Average loss: {train_loss_graph[-1]}')\n",
    "    print(f'val loss: {val_loss_graph[-1]}')"
   ]
  },
  {
   "cell_type": "markdown",
   "id": "dea70d73",
   "metadata": {
    "id": "dea70d73"
   },
   "source": [
    "# Model Training"
   ]
  },
  {
   "cell_type": "code",
   "execution_count": 30,
   "id": "3af520ae",
   "metadata": {
    "id": "3af520ae"
   },
   "outputs": [],
   "source": [
    "#todo"
   ]
  },
  {
   "cell_type": "code",
   "execution_count": 30,
   "id": "e95af5f9",
   "metadata": {
    "id": "e95af5f9"
   },
   "outputs": [],
   "source": []
  },
  {
   "cell_type": "code",
   "execution_count": 30,
   "id": "07e03ddf",
   "metadata": {
    "id": "07e03ddf"
   },
   "outputs": [],
   "source": []
  },
  {
   "cell_type": "markdown",
   "id": "d5fb3b29",
   "metadata": {
    "id": "d5fb3b29"
   },
   "source": [
    "# Evaluation"
   ]
  },
  {
   "cell_type": "code",
   "execution_count": null,
   "id": "bf5fa1b4",
   "metadata": {
    "id": "bf5fa1b4"
   },
   "outputs": [],
   "source": [
    "#TODO:\n",
    "# The amount of training samples should vary from 100 to 10000, and the\n",
    "# prediction horizons are t = 0.5, t = 1 and t = 1.5. For each training set\n",
    "# size/time horizon combination, compare to a simple linear baseline where\n",
    "# xti = x0i + v0i ·t"
   ]
  },
  {
   "cell_type": "code",
   "execution_count": null,
   "id": "2280031f",
   "metadata": {
    "id": "2280031f"
   },
   "outputs": [],
   "source": [
    "# TODO\n",
    "# Come up with and execute one additional experiment that provides an interesting insight in your method\n",
    "# possible idea: interpolation, i.e. given t = 1.5 and t = 0.5, where is it at t = 1?\n"
   ]
  },
  {
   "cell_type": "code",
   "execution_count": null,
   "id": "3a8240f1",
   "metadata": {
    "id": "3a8240f1"
   },
   "outputs": [],
   "source": []
  }
 ],
 "metadata": {
  "accelerator": "GPU",
  "colab": {
   "name": "a2_skeleton_peter_pim.ipynb",
   "provenance": []
  },
  "interpreter": {
   "hash": "27c164e33ceb3372f7d05cab3554d1b7111f26924d32637c2cc5dd0d753ab5f1"
  },
  "kernelspec": {
   "display_name": "Python 3 (ipykernel)",
   "language": "python",
   "name": "python3"
  },
  "language_info": {
   "codemirror_mode": {
    "name": "ipython",
    "version": 3
   },
   "file_extension": ".py",
   "mimetype": "text/x-python",
   "name": "python",
   "nbconvert_exporter": "python",
   "pygments_lexer": "ipython3",
   "version": "3.9.12"
  }
 },
 "nbformat": 4,
 "nbformat_minor": 5
}

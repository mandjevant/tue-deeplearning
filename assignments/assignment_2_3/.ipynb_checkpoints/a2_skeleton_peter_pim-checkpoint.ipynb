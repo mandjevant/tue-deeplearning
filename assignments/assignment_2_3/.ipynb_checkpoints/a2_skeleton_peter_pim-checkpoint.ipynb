{
 "cells": [
  {
   "cell_type": "markdown",
   "id": "730fd591",
   "metadata": {},
   "source": [
    "<a href=\"https://colab.research.google.com/github/vlamen/tue-deeplearning/blob/main/assignments/assignment_2_3/a2_skeleton.ipynb\" target=\"_parent\"><img src=\"https://colab.research.google.com/assets/colab-badge.svg\" alt=\"Open In Colab\"/></a>"
   ]
  },
  {
   "cell_type": "markdown",
   "id": "d32f8d18",
   "metadata": {},
   "source": [
    "# Group Number: 37\n",
    "# Student 1: Jiong Li | 1533312\n",
    "# Student 2: Peter Elmers | 1734350\n",
    "# Student 3: P.T.C.M. Tholhuijsen | 1237447"
   ]
  },
  {
   "cell_type": "markdown",
   "id": "faec2056",
   "metadata": {},
   "source": [
    "# Downloading Data and Preliminaries"
   ]
  },
  {
   "cell_type": "code",
   "execution_count": 1,
   "id": "7d0580a5",
   "metadata": {},
   "outputs": [],
   "source": [
    "import pickle\n",
    "import matplotlib.pyplot as plt\n",
    "import matplotlib\n",
    "import numpy as np\n",
    "\n",
    "from zipfile import ZipFile\n",
    "import requests\n",
    "import io"
   ]
  },
  {
   "cell_type": "code",
   "execution_count": 2,
   "id": "b0756591",
   "metadata": {},
   "outputs": [],
   "source": [
    "def load_zip(url):\n",
    "    response = requests.get(url)\n",
    "    response.raise_for_status()\n",
    "    zipf = ZipFile(io.BytesIO(response.content))\n",
    "    return {name: zipf.read(name) for name in zipf.namelist()}\n",
    "\n",
    "def load_array(zipfile, fn):\n",
    "    return np.load(io.BytesIO(zipfile[fn]))"
   ]
  },
  {
   "cell_type": "code",
   "execution_count": 3,
   "id": "bb77a4be",
   "metadata": {},
   "outputs": [
    {
     "name": "stdout",
     "output_type": "stream",
     "text": [
      "Shapes of the training data:\n",
      "\n",
      "positions: (10000, 4, 2, 5)\n",
      "velocities: (10000, 1, 2, 5)\n",
      "charges: (10000, 5, 1)\n"
     ]
    }
   ],
   "source": [
    "\"\"\"\n",
    "This cell loads the training, validation or test data as numpy arrays,\n",
    "with the positions, initial velocities and charge data of the particles.\n",
    "\n",
    "The position arrays are shaped as\n",
    "[simulation id, time point (corresponding to t = 0, 0.5, 1 or 1.5), x/y spatial dimension, particle id].\n",
    "\n",
    "The initial velocity arrays are shaped as\n",
    "[simulation id, 1 (corresponding to t=0), x/y spatial dimension, particle id].\n",
    "\n",
    "The charge arrays are shaped as [simulation id, particle id, 1]\n",
    "\n",
    "\"\"\"\n",
    "\n",
    "data = load_zip('https://surfdrive.surf.nl/files/index.php/s/OIgda2ZRG8v0eqB/download')\n",
    "\n",
    "features = ['positions', 'velocities', 'charges']\n",
    "    \n",
    "positions_train, velocities_train, charges_train = (load_array(data, f'data/train/{f}.npy') for f in features)\n",
    "positions_valid, velocities_valid, charges_valid = (load_array(data, f'data/valid/{f}.npy') for f in features)\n",
    "positions_test, velocities_test, charges_test = (load_array(data, f'data/test/{f}.npy') for f in features)\n",
    "\n",
    "print('Shapes of the training data:\\n')\n",
    "print(f'positions: {positions_train.shape}')\n",
    "print(f'velocities: {velocities_train.shape}')\n",
    "print(f'charges: {charges_train.shape}')"
   ]
  },
  {
   "cell_type": "code",
   "execution_count": 4,
   "id": "1c3ea4cb",
   "metadata": {},
   "outputs": [
    {
     "name": "stdout",
     "output_type": "stream",
     "text": [
      "An example of retrieving data from the arrays:\n",
      "\n",
      "\n",
      "In simulation 42 of the training set, particle 3 with charge -1.0 had coordinates [ 2.05159559 -1.46130851].\n",
      "The initial velocity of this particle was [ 0.28402364 -0.24784824].\n"
     ]
    }
   ],
   "source": [
    "print('An example of retrieving data from the arrays:\\n\\n')\n",
    "\n",
    "sim_idx = 42\n",
    "t_idx = 2  # t_idx 0, 1, 2, 3 corresponds to t=0, 0.5, 1 and 1.5 respectively\n",
    "spatial_idx = (0,1)  # corresponds to both x and y dimension\n",
    "particle_idx = 3  # corresponds to particle with index 3\n",
    "\n",
    "p = positions_train[sim_idx, t_idx, spatial_idx, particle_idx]\n",
    "v = velocities_train[sim_idx, 0, spatial_idx, particle_idx]  # note: this array contains only the inital velocity -> hence the 0\n",
    "c = charges_train[sim_idx, particle_idx, 0] \n",
    "\n",
    "print(\n",
    "    f'In simulation {sim_idx} of the training set, particle {particle_idx} with charge {c} had coordinates {p}.\\nThe initial velocity of this particle was {v}.'\n",
    ")"
   ]
  },
  {
   "cell_type": "code",
   "execution_count": 5,
   "id": "10a3438a",
   "metadata": {},
   "outputs": [
    {
     "name": "stdout",
     "output_type": "stream",
     "text": [
      "Overview of no. datapoints:\n",
      "\n",
      "10000 train, 2000 validation, 2000 test simulations\n"
     ]
    }
   ],
   "source": [
    "print('Overview of no. datapoints:\\n')\n",
    "\n",
    "print(f'{len(positions_train)} train, {len(positions_valid)} validation, {len(positions_test)} test simulations')"
   ]
  },
  {
   "cell_type": "code",
   "execution_count": 6,
   "id": "f9106543",
   "metadata": {},
   "outputs": [],
   "source": [
    "def plot_example(pos, vel):\n",
    "\n",
    "    fig = plt.figure()\n",
    "    axes = plt.gca()\n",
    "    axes.set_xlim([-5., 5.])\n",
    "    axes.set_ylim([-5., 5.])\n",
    "    colors = ['red', 'blue', 'green', 'orange', 'brown']\n",
    "    for i in range(pos.shape[-1]):\n",
    "        plt.plot(pos[0, 0, i], pos[0, 1, i], 'd', color=colors[i])\n",
    "        plt.plot(pos[-1, 0, i], pos[-1, 1, i], 'x', color=colors[i])\n",
    "        plt.plot([pos[0, 0, i], pos[0, 0, i] + vel[0, 0, i]], [pos[0, 1, i], pos[0, 1, i] + vel[0, 1, i]], '--', color=colors[i])\n",
    "    fig.set_size_inches(7, 7)\n",
    "    plt.xlim(np.min(pos)-1, np.max(pos) +1)\n",
    "    plt.ylim(np.min(pos)-1, np.max(pos) +1)\n",
    "    plt.plot([], [], 'd', color='black', label='initial position')\n",
    "    plt.plot([], [], 'x', color='black', label='final position')\n",
    "    plt.plot([], [], '--', color='black', label='initial velocity \\ndirection and magnitude')\n",
    "    plt.legend()\n",
    "    \n",
    "    plt.show()\n",
    "    return"
   ]
  },
  {
   "cell_type": "code",
   "execution_count": 7,
   "id": "d28681a6",
   "metadata": {},
   "outputs": [
    {
     "data": {
      "image/png": "[encoded data removed]",
      "text/plain": [
       "<Figure size 504x504 with 1 Axes>"
      ]
     },
     "metadata": {
      "needs_background": "light"
     },
     "output_type": "display_data"
    }
   ],
   "source": [
    "random_idx = np.random.randint(0, 10000)\n",
    "plot_example(positions_train[random_idx], velocities_train[random_idx])"
   ]
  },
  {
   "cell_type": "markdown",
   "id": "059b633c",
   "metadata": {},
   "source": [
    "# Data Handling and Preprocessing"
   ]
  },
  {
   "cell_type": "code",
   "execution_count": 8,
   "id": "e6ecb529",
   "metadata": {},
   "outputs": [
    {
     "name": "stdout",
     "output_type": "stream",
     "text": [
      "Device is set to cuda\n"
     ]
    }
   ],
   "source": [
    "# Pick the best device\n",
    "import torch\n",
    "\n",
    "def try_device(device):\n",
    "    # Try to put an array on given device. If successful, return device. Else, 'cpu'.\n",
    "    x = torch.ones((1,))\n",
    "    try:\n",
    "        x.to(device)\n",
    "        return device\n",
    "    except:\n",
    "        return 'cpu'\n",
    "\n",
    "device = try_device('cuda')\n",
    "if device == 'cpu':\n",
    "    device = try_device('mps')\n",
    "\n",
    "print(f'Device is set to {device}')\n",
    "\n",
    "# Move all the little craps into torch things on the device\n",
    "p_train, v_train, c_train = [torch.Tensor(vec).to(device=device) for vec in [positions_train, velocities_train, charges_train]]\n",
    "p_valid, v_valid, c_valid = [torch.Tensor(vec).to(device=device) for vec in [positions_valid, velocities_valid, charges_valid]]\n",
    "p_test, v_test, c_test = [torch.Tensor(vec).to(device=device) for vec in [positions_test, velocities_test, charges_test]]"
   ]
  },
  {
   "cell_type": "code",
   "execution_count": 9,
   "id": "f8633eb8",
   "metadata": {},
   "outputs": [],
   "source": [
    "# Create a baseline: particle position = velocity * time + initial\n",
    "def baseline_predict(p0, v0, time):\n",
    "    '''\n",
    "    Return a numpy array of predicted x, y position of each particle in p0.\n",
    "    Given p0 starting locations, v0 starting velocities, and time to predict.\n",
    "    Result is computed via linear projection: v0 * time + p0.\n",
    "    Where p0 and v0 are both (N x 1 x 2 x P) tensors, for N simulations, P particles/sim\n",
    "    '''\n",
    "    return p0 + v0 * time\n"
   ]
  },
  {
   "cell_type": "code",
   "execution_count": 10,
   "id": "0a99a32b",
   "metadata": {},
   "outputs": [
    {
     "name": "stdout",
     "output_type": "stream",
     "text": [
      "Baseline error should be 0: {'rms': 0.0}\n",
      "Error over time should increase (train).\n",
      "t = 0.5 {'rms': 0.2483280450105667}\n",
      "t = 1 {'rms': 0.5178293585777283}\n",
      "t = 1.5 {'rms': 0.7917788624763489}\n",
      "Error over time should increase (valid).\n",
      "t = 0.5 {'rms': 0.2483280450105667}\n",
      "t = 1 {'rms': 0.5178293585777283}\n",
      "t = 1.5 {'rms': 0.7917788624763489}\n",
      "Error over time should increase (test).\n",
      "t = 0.5 {'rms': 0.2483280450105667}\n",
      "t = 1 {'rms': 0.5178293585777283}\n",
      "t = 1.5 {'rms': 0.7917788624763489}\n"
     ]
    }
   ],
   "source": [
    "import torch.nn as nn\n",
    "\n",
    "# Evaluate the baseline model (what metrics? r2? rms?)\n",
    "def rms(p_pred, p_actual):\n",
    "    '''\n",
    "    Return the root mean squared distance between predicted locations and actual locations.\n",
    "    Where p_pred and p_actual are both (N x T x 2 x P) tensors.\n",
    "    '''\n",
    "    mse = nn.MSELoss()\n",
    "    return mse(p_pred, p_actual).sqrt().item()\n",
    "\n",
    "def baseline_evaluate(p, v, time):\n",
    "    '''\n",
    "    Evaluate the baseline \"model\" at given time in {0, 0.5, 1, 1.5}.\n",
    "    '''\n",
    "    p_pred = baseline_predict(p[:, :1, :, :], v, time)\n",
    "    idx = int(time / 0.5)\n",
    "    p_actual = p[:, idx:idx+1, :, :]\n",
    "    # Currently just rms, but we could add more evaluations\n",
    "    return {'rms': rms(p_pred, p_actual)}\n",
    "\n",
    "print('Baseline error should be 0:', baseline_evaluate(p_train, v_train, 0))\n",
    "\n",
    "# Print some more metrics\n",
    "for klass in ['train', 'valid', 'test']:\n",
    "    p_klass, v_klass = locals()[f'p_{klass}'], locals()[f'v_{klass}']\n",
    "    print(f'Error over time should increase ({klass}).')\n",
    "    for t in [0.5, 1, 1.5]:\n",
    "        print(f't = {t}', baseline_evaluate(p_train, v_train, t))"
   ]
  },
  {
   "cell_type": "markdown",
   "id": "18b2874d",
   "metadata": {},
   "source": [
    "# Model Implementation"
   ]
  },
  {
   "cell_type": "code",
   "execution_count": 47,
   "id": "3aa472dc",
   "metadata": {},
   "outputs": [],
   "source": [
    "import torch.nn as nn\n",
    "from tqdm import tqdm"
   ]
  },
  {
   "cell_type": "markdown",
   "id": "b33b0e1c",
   "metadata": {},
   "source": [
    "Implementation like https://github.com/higgsfield/interaction_network_pytorch/blob/master/Interaction%20Network.ipynb"
   ]
  },
  {
   "cell_type": "code",
   "execution_count": 29,
   "id": "e79124e4",
   "metadata": {},
   "outputs": [
    {
     "name": "stdout",
     "output_type": "stream",
     "text": [
      "tensor([[-1.9361, -0.2276, -0.7878,  0.0267, -1.0000],\n",
      "        [ 3.6532, -2.7631,  1.5892, -0.4211,  1.0000],\n",
      "        [-4.5496,  8.2998, -1.2906,  2.3834,  1.0000],\n",
      "        [-3.0958, -3.0921, -1.9173, -0.5785,  1.0000],\n",
      "        [ 0.1073, -2.8976,  0.6539, -0.5676, -1.0000]], device='cuda:0')\n",
      "tensor([[-1.9361, -0.2276, -0.7878,  0.0267, -1.0000],\n",
      "        [ 3.6532, -2.7631,  1.5892, -0.4211,  1.0000]], device='cuda:0')\n",
      "tensor([[-4.5496,  8.2998, -1.2906,  2.3834,  1.0000],\n",
      "        [-3.0958, -3.0921, -1.9173, -0.5785,  1.0000]], device='cuda:0')\n"
     ]
    }
   ],
   "source": [
    "for i in zip(p_train, v_train, c_train):\n",
    "    p = torch.transpose(i[0][0], 0, 1)\n",
    "    v = torch.transpose(i[1][0], 0, 1)\n",
    "    c = i[2]\n",
    "   \n",
    "    data = torch.hstack((p, v, c))\n",
    "    print(data)\n",
    "    print(data[0:2])\n",
    "    print(data[2:4])\n",
    "    # x_p, y_p, x_v, y_v, c\n",
    "    break"
   ]
  },
  {
   "cell_type": "code",
   "execution_count": null,
   "id": "52c34a8b",
   "metadata": {},
   "outputs": [],
   "source": [
    "# relation-centric neural network\n",
    "class RelationModel(nn.Module):\n",
    "    def __init__(self):\n",
    "        super(RelationalModel, self).__init__()\n",
    "        \n",
    "        self.layers = nn.Sequential(\n",
    "            nn.Linear()\n",
    "            nn.ReLU()\n",
    "            nn.Linear()\n",
    "            nn.ReLU()\n",
    "            nn.Linear()\n",
    "            nn.ReLU()\n",
    "        )\n",
    "    \n",
    "    def forward(self, x):\n",
    "        _, n_relations, input_size = x.size()\n",
    "        x = x.view(-1, input_size)\n",
    "        self.layers(x)\n",
    "        x = x.view(5, n_relations, self.output_size)\n",
    "        return x"
   ]
  },
  {
   "cell_type": "code",
   "execution_count": 66,
   "id": "587da524",
   "metadata": {},
   "outputs": [],
   "source": [
    "# object-centric acceleration neural network\n",
    "class AccelerationModel(nn.Module):\n",
    "    def __init__(self):\n",
    "        super(AccelerationModel, self).__init__()\n",
    "        \n",
    "        self.layers = nn.Sequential(\n",
    "            nn.Linear(5, 25),\n",
    "            nn.ReLU(),\n",
    "            nn.Linear(25, 2),\n",
    "        )\n",
    "        \n",
    "    def forward(self, x, delta_t):\n",
    "        x = x.view(-1, 5)\n",
    "        return self.layers(x)"
   ]
  },
  {
   "cell_type": "code",
   "execution_count": 59,
   "id": "8bca2f0d",
   "metadata": {},
   "outputs": [],
   "source": [
    "# object-centric velocity neural network\n",
    "class VelocityModel(nn.Module):\n",
    "    def __init__(self):\n",
    "        super(VelocityModel, self).__init__()\n",
    "        \n",
    "        self.layers = nn.Sequential(\n",
    "            nn.Linear(4, 16),\n",
    "            nn.ReLU(),\n",
    "            nn.Linear(16, 2),\n",
    "        )\n",
    "        \n",
    "    def forward(self, x, delta_t):\n",
    "        x = x.view(-1, 4)\n",
    "        return self.layers(x)"
   ]
  },
  {
   "cell_type": "code",
   "execution_count": 60,
   "id": "3535d8b4",
   "metadata": {},
   "outputs": [],
   "source": [
    "# object-centric position neural network\n",
    "class PositionModel(nn.Module):\n",
    "    def __init__(self):\n",
    "        super(PositionModel, self).__init__()\n",
    "        \n",
    "        self.layers = nn.Sequential(\n",
    "            nn.Linear(4, 16),\n",
    "            nn.ReLU(),\n",
    "            nn.Linear(16, 2),\n",
    "        )\n",
    "        \n",
    "    def forward(self, x, delta_t):\n",
    "        x = x.view(-1, 4)\n",
    "        return self.layers(x)"
   ]
  },
  {
   "cell_type": "code",
   "execution_count": null,
   "id": "22703713",
   "metadata": {},
   "outputs": [],
   "source": [
    "# object-centric neural network for accelleration, velocity and position\n",
    "class ObjectModel(nn.Module):\n",
    "    def __init__(self):\n",
    "        super(ObjectModel, self).__init__()\n",
    "        \n",
    "        self.layers = nn.Sequential(\n",
    "            nn.Linear(),\n",
    "            nn.ReLU(),\n",
    "            nn.Linear(, 2),\n",
    "        )\n",
    "        \n",
    "    def forward(self, x):\n",
    "        x = x.view(-1, x.size(2))\n",
    "        return self.layers(x)"
   ]
  },
  {
   "cell_type": "code",
   "execution_count": 73,
   "id": "1e9bdf5e",
   "metadata": {},
   "outputs": [
    {
     "data": {
      "text/plain": [
       "InteractionNetwork(\n",
       "  (acceleration_model): AccelerationModel(\n",
       "    (layers): Sequential(\n",
       "      (0): Linear(in_features=5, out_features=25, bias=True)\n",
       "      (1): ReLU()\n",
       "      (2): Linear(in_features=25, out_features=2, bias=True)\n",
       "    )\n",
       "  )\n",
       "  (velocity_model): VelocityModel(\n",
       "    (layers): Sequential(\n",
       "      (0): Linear(in_features=4, out_features=16, bias=True)\n",
       "      (1): ReLU()\n",
       "      (2): Linear(in_features=16, out_features=2, bias=True)\n",
       "    )\n",
       "  )\n",
       "  (position_model): PositionModel(\n",
       "    (layers): Sequential(\n",
       "      (0): Linear(in_features=4, out_features=16, bias=True)\n",
       "      (1): ReLU()\n",
       "      (2): Linear(in_features=16, out_features=2, bias=True)\n",
       "    )\n",
       "  )\n",
       ")"
      ]
     },
     "execution_count": 73,
     "metadata": {},
     "output_type": "execute_result"
    }
   ],
   "source": [
    "# interaction network\n",
    "class InteractionNetwork(nn.Module):\n",
    "    def __init__(self):\n",
    "        super(InteractionNetwork, self).__init__()\n",
    "        \n",
    "        self.acceleration_model = AccelerationModel()\n",
    "        self.velocity_model = VelocityModel()\n",
    "        self.position_model = PositionModel()\n",
    "        \n",
    "    def forward(self, x, delta_t):\n",
    "        pred_accelleration = torch.transpose(self.acceleration_model(x, delta_t), 0, 1)\n",
    "        pred_velocity = torch.transpose(self.velocity_model(torch.hstack((x[2:4], pred_accelleration)), delta_t), 0, 1)\n",
    "        pred_position = self.position_model(torch.hstack((x[0:2], pred_velocity)), delta_t)\n",
    "        return pred_position\n",
    "    \n",
    "interaction_network = InteractionNetwork()\n",
    "interaction_network.to(device=device)"
   ]
  },
  {
   "cell_type": "code",
   "execution_count": 87,
   "id": "cbd80a9d",
   "metadata": {},
   "outputs": [
    {
     "name": "stderr",
     "output_type": "stream",
     "text": [
      " 10%|████████▎                                                                          | 1/10 [00:30<04:38, 30.96s/it]"
     ]
    },
    {
     "name": "stdout",
     "output_type": "stream",
     "text": [
      "Average loss: 0.6992912693288912\n",
      "val loss: 0.6787418003737914\n"
     ]
    },
    {
     "name": "stderr",
     "output_type": "stream",
     "text": [
      "\r",
      " 20%|████████████████▌                                                                  | 2/10 [01:02<04:10, 31.35s/it]"
     ]
    },
    {
     "name": "stdout",
     "output_type": "stream",
     "text": [
      "Average loss: 0.6773865350150312\n",
      "val loss: 0.657316165159643\n"
     ]
    },
    {
     "name": "stderr",
     "output_type": "stream",
     "text": [
      "\r",
      " 30%|████████████████████████▉                                                          | 3/10 [01:33<03:37, 31.03s/it]"
     ]
    },
    {
     "name": "stdout",
     "output_type": "stream",
     "text": [
      "Average loss: 0.6648644481011496\n",
      "val loss: 0.6459305965736494\n"
     ]
    },
    {
     "name": "stderr",
     "output_type": "stream",
     "text": [
      "\r",
      " 40%|█████████████████████████████████▏                                                 | 4/10 [02:03<03:03, 30.55s/it]"
     ]
    },
    {
     "name": "stdout",
     "output_type": "stream",
     "text": [
      "Average loss: 0.6571606922818727\n",
      "val loss: 0.6382530831918126\n"
     ]
    },
    {
     "name": "stderr",
     "output_type": "stream",
     "text": [
      "\r",
      " 50%|█████████████████████████████████████████▌                                         | 5/10 [02:32<02:31, 30.25s/it]"
     ]
    },
    {
     "name": "stdout",
     "output_type": "stream",
     "text": [
      "Average loss: 0.6516172687307028\n",
      "val loss: 0.6359064903043202\n"
     ]
    },
    {
     "name": "stderr",
     "output_type": "stream",
     "text": [
      "\r",
      " 60%|█████████████████████████████████████████████████▊                                 | 6/10 [03:04<02:02, 30.69s/it]"
     ]
    },
    {
     "name": "stdout",
     "output_type": "stream",
     "text": [
      "Average loss: 0.6469066434414658\n",
      "val loss: 0.628384227498621\n"
     ]
    },
    {
     "name": "stderr",
     "output_type": "stream",
     "text": [
      "\r",
      " 70%|██████████████████████████████████████████████████████████                         | 7/10 [03:43<01:40, 33.46s/it]"
     ]
    },
    {
     "name": "stdout",
     "output_type": "stream",
     "text": [
      "Average loss: 0.6424093635746055\n",
      "val loss: 0.6315319642849263\n"
     ]
    },
    {
     "name": "stderr",
     "output_type": "stream",
     "text": [
      "\r",
      " 80%|██████████████████████████████████████████████████████████████████▍                | 8/10 [04:14<01:05, 32.61s/it]"
     ]
    },
    {
     "name": "stdout",
     "output_type": "stream",
     "text": [
      "Average loss: 0.6379906606163087\n",
      "val loss: 0.6246669352345154\n"
     ]
    },
    {
     "name": "stderr",
     "output_type": "stream",
     "text": [
      "\r",
      " 90%|██████████████████████████████████████████████████████████████████████████▋        | 9/10 [04:48<00:33, 33.18s/it]"
     ]
    },
    {
     "name": "stdout",
     "output_type": "stream",
     "text": [
      "Average loss: 0.633536242589652\n",
      "val loss: 0.6120270759470763\n"
     ]
    },
    {
     "name": "stderr",
     "output_type": "stream",
     "text": [
      "100%|██████████████████████████████████████████████████████████████████████████████████| 10/10 [05:22<00:00, 32.25s/it]"
     ]
    },
    {
     "name": "stdout",
     "output_type": "stream",
     "text": [
      "Average loss: 0.6289951197945335\n",
      "val loss: 0.6092484559930854\n"
     ]
    },
    {
     "name": "stderr",
     "output_type": "stream",
     "text": [
      "\n"
     ]
    }
   ],
   "source": [
    "optimizer = torch.optim.Adam(interaction_network.parameters(), lr=0.001)\n",
    "criterion = nn.MSELoss()\n",
    "criterion.to(device=device)\n",
    "\n",
    "train_loss_graph, val_loss_graph = list(), list()\n",
    "for epoch in tqdm(range(10)):\n",
    "    train_loss, val_loss = list(), list()\n",
    "    \n",
    "    interaction_network = interaction_network.train()\n",
    "    for i in zip(p_train, v_train, c_train):\n",
    "        p = torch.transpose(i[0][0], 0, 1)\n",
    "        v = torch.transpose(i[1][0], 0, 1)\n",
    "        c = i[2]\n",
    "\n",
    "        data = torch.hstack((p, v, c))\n",
    "        # x_p, y_p, x_v, y_v, c\n",
    "        \n",
    "        optimizer.zero_grad()\n",
    "        y_pred = interaction_network(data, 0.5)\n",
    "        loss = criterion(y_pred, torch.transpose(i[0][1], 0, 1))\n",
    "        loss.backward()\n",
    "        optimizer.step()\n",
    "        \n",
    "        train_loss.append(loss.item() / 5)\n",
    "    \n",
    "    train_loss_graph.append(sum(train_loss) / len(p_train))\n",
    "    \n",
    "    interaction_network = interaction_network.eval()\n",
    "    for i in zip(p_valid, v_valid, c_valid):\n",
    "        p = torch.transpose(i[0][0], 0, 1)\n",
    "        v = torch.transpose(i[1][0], 0, 1)\n",
    "        c = i[2]\n",
    "\n",
    "        data = torch.hstack((p, v, c))\n",
    "        # x_p, y_p, x_v, y_v, c\n",
    "        \n",
    "        optimizer.zero_grad()\n",
    "        y_pred = interaction_network(data, 0.5)\n",
    "        loss = criterion(y_pred, torch.transpose(i[0][1], 0, 1))\n",
    "        \n",
    "        val_loss.append(loss.item() / 5)\n",
    "    \n",
    "    val_loss_graph.append(sum(val_loss) / len(p_valid))\n",
    "        \n",
    "    print(f'Average loss: {train_loss_graph[-1]}')\n",
    "    print(f'val loss: {val_loss_graph[-1]}')"
   ]
  },
  {
   "cell_type": "code",
   "execution_count": 88,
   "id": "f02d1d3b",
   "metadata": {},
   "outputs": [
    {
     "data": {
      "text/plain": [
       "Text(0, 0.5, 'loss value')"
      ]
     },
     "execution_count": 88,
     "metadata": {},
     "output_type": "execute_result"
    },
    {
     "data": {
      "image/png": "[encoded data removed]",
      "text/plain": [
       "<Figure size 432x288 with 1 Axes>"
      ]
     },
     "metadata": {
      "needs_background": "light"
     },
     "output_type": "display_data"
    }
   ],
   "source": [
    "import matplotlib.pyplot as plt\n",
    "\n",
    "plt.plot(train_loss_graph)\n",
    "plt.title(\"training loss\")\n",
    "plt.xlabel(\"epoch number\")\n",
    "plt.ylabel(\"loss value\")"
   ]
  },
  {
   "cell_type": "code",
   "execution_count": 89,
   "id": "73f2a2fb",
   "metadata": {},
   "outputs": [
    {
     "data": {
      "text/plain": [
       "Text(0, 0.5, 'loss value')"
      ]
     },
     "execution_count": 89,
     "metadata": {},
     "output_type": "execute_result"
    },
    {
     "data": {
      "image/png": "[encoded data removed]",
      "text/plain": [
       "<Figure size 432x288 with 1 Axes>"
      ]
     },
     "metadata": {
      "needs_background": "light"
     },
     "output_type": "display_data"
    }
   ],
   "source": [
    "plt.plot(val_loss_graph)\n",
    "plt.title(\"validation loss\")\n",
    "plt.xlabel(\"epoch number\")\n",
    "plt.ylabel(\"loss value\")"
   ]
  },
  {
   "cell_type": "code",
   "execution_count": 19,
   "id": "4134d8dc",
   "metadata": {},
   "outputs": [
    {
     "ename": "SyntaxError",
     "evalue": "invalid syntax (709580910.py, line 7)",
     "output_type": "error",
     "traceback": [
      "\u001b[1;36m  Input \u001b[1;32mIn [19]\u001b[1;36m\u001b[0m\n\u001b[1;33m    nn.Dense(features=25)\u001b[0m\n\u001b[1;37m    ^\u001b[0m\n\u001b[1;31mSyntaxError\u001b[0m\u001b[1;31m:\u001b[0m invalid syntax\n"
     ]
    }
   ],
   "source": [
    "class PINN(torch.nn.Module):\n",
    "    def __init__(self):\n",
    "        super(PINN, self).__init__()\n",
    "        \n",
    "        self.layers = nn.Sequential(\n",
    "            nn.Dense(features=25)\n",
    "            nn.tanh()\n",
    "            nn.Dense(features=25)\n",
    "            nn.tanh()\n",
    "            nn.Dense(features=25)\n",
    "            nn.tanh()\n",
    "            nn.Dense(features=25)\n",
    "            nn.tanh()\n",
    "            nn.Dense(features=25)\n",
    "            nn.tanh()\n",
    "            nn.Dense(features=25)\n",
    "            nn.Linear(25)\n",
    "        )\n",
    "        self.delta_t = 0.001\n",
    "        \n",
    "    def calc_acc(self, x, c, t):\n",
    "        torch.autograd.grad(x, c, t)\n",
    "        \n",
    "    def calc_pos(self, x, v, t):\n",
    "        torch.autograd.grad()\n",
    "        \n",
    "        a = torch.sum([force for force in forces])\n",
    "        v_new = v + a * self.delta_t\n",
    "        new_pos = x + v_new * self.delta_t\n",
    "        return new_x\n",
    "        \n",
    "    def forward(self, x):\n",
    "        x = self.layers(x)\n",
    "        return x\n",
    "        "
   ]
  },
  {
   "cell_type": "code",
   "execution_count": 11,
   "id": "66774050",
   "metadata": {},
   "outputs": [],
   "source": [
    "acceleration[i][t] = sum([force for force in forces[i][t-delta_t]])\n",
    "velocity[i][t] = velocity[i][t-delta_t] + acceleration[i][t] * delta_t\n",
    "position[i][t] = position[i][t-delta_t] + velocity[i][t] * delta_t"
   ]
  },
  {
   "cell_type": "code",
   "execution_count": 14,
   "id": "ba598378",
   "metadata": {},
   "outputs": [
    {
     "data": {
      "text/plain": [
       "(array([[[ 0.28550369, -2.83026035, -4.09011954,  5.86690925,\n",
       "           3.34592891],\n",
       "         [ 2.67076836, -0.24677496, -4.93502862,  3.56697064,\n",
       "          -2.23848025]],\n",
       " \n",
       "        [[ 0.32519777, -3.327417  , -4.72231886,  6.94438172,\n",
       "           3.9414407 ],\n",
       "         [ 3.06141083, -0.36164926, -5.89177367,  4.01903033,\n",
       "          -2.57050795]],\n",
       " \n",
       "        [[ 0.36478959, -3.83607425, -5.36116502,  8.03212461,\n",
       "           4.54493177],\n",
       "         [ 3.4649563 , -0.47540496, -6.85987972,  4.4777738 ,\n",
       "          -2.91188004]],\n",
       " \n",
       "        [[ 0.40424833, -4.35349455, -6.00493702,  9.12768574,\n",
       "           5.15442658],\n",
       "         [ 3.87835058, -0.58833091, -7.83660568,  4.94159813,\n",
       "          -3.26039165]]]),\n",
       " array([[[ 0.07945439, -0.98033438, -1.25614375,  2.14243246,\n",
       "           1.18123603],\n",
       "         [ 0.76562579, -0.23114694, -1.89962386,  0.89597175,\n",
       "          -0.65271654]]]),\n",
       " array([[-1.],\n",
       "        [-1.],\n",
       "        [-1.],\n",
       "        [-1.],\n",
       "        [-1.]]))"
      ]
     },
     "execution_count": 14,
     "metadata": {},
     "output_type": "execute_result"
    }
   ],
   "source": [
    "positions_train[1000], velocities_train[1000], charges_train[1000]"
   ]
  },
  {
   "cell_type": "code",
   "execution_count": 23,
   "id": "596f3929",
   "metadata": {},
   "outputs": [
    {
     "data": {
      "text/plain": [
       "(4, 2, 5)"
      ]
     },
     "execution_count": 23,
     "metadata": {},
     "output_type": "execute_result"
    }
   ],
   "source": [
    "positions_train[998].shape"
   ]
  },
  {
   "cell_type": "code",
   "execution_count": 15,
   "id": "95154df7",
   "metadata": {},
   "outputs": [
    {
     "data": {
      "text/plain": [
       "((4, 2, 5), (1, 2, 5), (5, 1))"
      ]
     },
     "execution_count": 15,
     "metadata": {},
     "output_type": "execute_result"
    }
   ],
   "source": [
    "# The position arrays are shaped as\n",
    "# [simulation id, time point (corresponding to t = 0, 0.5, 1 or 1.5), x/y spatial dimension, particle id].\n",
    "\n",
    "# The initial velocity arrays are shaped as\n",
    "# [simulation id, 1 (corresponding to t=0), x/y spatial dimension, particle id].\n",
    "\n",
    "# The charge arrays are shaped as [simulation id, particle id, 1]\n",
    "\n",
    "positions_train[1000].shape, velocities_train[1000].shape, charges_train[1000].shape"
   ]
  },
  {
   "cell_type": "markdown",
   "id": "dea70d73",
   "metadata": {},
   "source": [
    "# Model Training"
   ]
  },
  {
   "cell_type": "code",
   "execution_count": 12,
   "id": "3af520ae",
   "metadata": {},
   "outputs": [],
   "source": [
    "#todo"
   ]
  },
  {
   "cell_type": "code",
   "execution_count": null,
   "id": "e95af5f9",
   "metadata": {},
   "outputs": [],
   "source": []
  },
  {
   "cell_type": "code",
   "execution_count": null,
   "id": "07e03ddf",
   "metadata": {},
   "outputs": [],
   "source": []
  },
  {
   "cell_type": "markdown",
   "id": "d5fb3b29",
   "metadata": {},
   "source": [
    "# Evaluation"
   ]
  },
  {
   "cell_type": "code",
   "execution_count": 13,
   "id": "bf5fa1b4",
   "metadata": {},
   "outputs": [],
   "source": [
    "#TODO:\n",
    "# The amount of training samples should vary from 100 to 10000, and the\n",
    "# prediction horizons are t = 0.5, t = 1 and t = 1.5. For each training set\n",
    "# size/time horizon combination, compare to a simple linear baseline where\n",
    "# xti = x0i + v0i ·t"
   ]
  },
  {
   "cell_type": "code",
   "execution_count": null,
   "id": "2280031f",
   "metadata": {},
   "outputs": [],
   "source": [
    "# TODO\n",
    "# Come up with and execute one additional experiment that provides an interesting insight in your method\n",
    "# possible idea: interpolation, i.e. given t = 1.5 and t = 0.5, where is it at t = 1?\n"
   ]
  },
  {
   "cell_type": "code",
   "execution_count": null,
   "id": "3a8240f1",
   "metadata": {},
   "outputs": [],
   "source": []
  }
 ],
 "metadata": {
  "interpreter": {
   "hash": "27c164e33ceb3372f7d05cab3554d1b7111f26924d32637c2cc5dd0d753ab5f1"
  },
  "kernelspec": {
   "display_name": "Python 3 (ipykernel)",
   "language": "python",
   "name": "python3"
  },
  "language_info": {
   "codemirror_mode": {
    "name": "ipython",
    "version": 3
   },
   "file_extension": ".py",
   "mimetype": "text/x-python",
   "name": "python",
   "nbconvert_exporter": "python",
   "pygments_lexer": "ipython3",
   "version": "3.9.12"
  }
 },
 "nbformat": 4,
 "nbformat_minor": 5
}

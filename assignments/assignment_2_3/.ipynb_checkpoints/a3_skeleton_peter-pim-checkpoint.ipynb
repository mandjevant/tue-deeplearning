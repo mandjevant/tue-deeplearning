{
 "cells": [
  {
   "cell_type": "markdown",
   "id": "963690b2",
   "metadata": {},
   "source": [
    "<a href=\"https://colab.research.google.com/github/vlamen/tue-deeplearning/blob/main/assignments/assignment_2_3/a3_skeleton.ipynb\" target=\"_parent\"><img src=\"https://colab.research.google.com/assets/colab-badge.svg\" alt=\"Open In Colab\"/></a>"
   ]
  },
  {
   "cell_type": "markdown",
   "id": "bd8459f1",
   "metadata": {},
   "source": [
    "# Group Number:\n",
    "\n",
    "# Student 1:\n",
    "\n",
    "# Student 2:\n",
    "\n",
    "# Student 3:"
   ]
  },
  {
   "cell_type": "markdown",
   "id": "dde28458",
   "metadata": {},
   "source": [
    "# Downloading Data and Preliminaries"
   ]
  },
  {
   "cell_type": "code",
   "execution_count": 1,
   "id": "7d0580a5",
   "metadata": {},
   "outputs": [],
   "source": [
    "import pickle\n",
    "import matplotlib.pyplot as plt\n",
    "import matplotlib\n",
    "import numpy as np\n",
    "\n",
    "from zipfile import ZipFile\n",
    "import requests\n",
    "import io"
   ]
  },
  {
   "cell_type": "code",
   "execution_count": 2,
   "id": "8ce00edc",
   "metadata": {},
   "outputs": [],
   "source": [
    "def load_zip(url):\n",
    "    response = requests.get(url)\n",
    "    response.raise_for_status()\n",
    "    zipf = ZipFile(io.BytesIO(response.content))\n",
    "    return {name: zipf.read(name) for name in zipf.namelist()}\n",
    "\n",
    "def load_pickle(zipfile, fn):\n",
    "    return pickle.load(io.BytesIO(zipfile[fn]))"
   ]
  },
  {
   "cell_type": "code",
   "execution_count": 55,
   "id": "bb77a4be",
   "metadata": {},
   "outputs": [],
   "source": [
    "data = load_zip('https://surfdrive.surf.nl/files/index.php/s/cwqGaS22KXgnXtg/download')\n",
    "\n",
    "    \n",
    "\"\"\"\n",
    "simulation_{train, valid, test} is stored as a list of simulations. \n",
    "Each simulation is a numpy array of size (t, 2): For t timesteps an x and y coordinate of our particle.\n",
    "\"\"\"\n",
    "simulation_train = load_pickle(data, 'data/train/simulation.pickle')  # 3.1 + 3.2\n",
    "simulation_valid = load_pickle(data, 'data/valid/simulation.pickle')  # 3.1 + 3.2\n",
    "simulation_test = load_pickle(data, 'data/test/simulation.pickle')  # 3.1 + 3.2\n",
    "\n",
    "\"\"\"\n",
    "charges_{train, valid, test} is stored as a list of simulation-charges. \n",
    "These charges are stored as numpy arrays of size (3,): One value for each charge.\n",
    "\"\"\"\n",
    "charges_train = load_pickle(data, 'data/train/charges.pickle')  # 3.1\n",
    "charges_valid = load_pickle(data, 'data/valid/charges.pickle')  # 3.1\n",
    "charges_test = load_pickle(data, 'data/test/charges.pickle')  # 3.1\n",
    "\n",
    "\"\"\"\n",
    "simulation_continued_{train, valid, test} is stored as a list of simulations. \n",
    "Each simulation is a numpy array of size (t, 2): For t timesteps an x and y coordinate of our particle.\n",
    "\"\"\"\n",
    "simulation_continued_train = load_pickle(data, 'data/train/simulation_continued.pickle')  # 3.2\n",
    "simulation_continued_valid = load_pickle(data, 'data/valid/simulation_continued.pickle')  # 3.2\n",
    "simulation_continued_test = load_pickle(data, 'data/test/simulation_continued.pickle')  # 3.2\n",
    "\n",
    "\"\"\"\n",
    "Note that the indices are shared throughout the different lists, e.g., for the 4th training simulation:\n",
    "simulation_train[3] contains its initial simulation\n",
    "charges_train[3] contains the charges associated with the simulation\n",
    "simulation_continued_train[3] contains the continuation of the simulation \n",
    "                --> simulation_continued_train[3][0] is the state after simulation_train[3][-1]\n",
    "\"\"\"\n",
    "pass"
   ]
  },
  {
   "cell_type": "code",
   "execution_count": 4,
   "id": "10a3438a",
   "metadata": {},
   "outputs": [
    {
     "name": "stdout",
     "output_type": "stream",
     "text": [
      "Overview of no. datapoints:\n",
      "\n",
      "Task 3.1:\n",
      "800 train, 100 validation, 100 test simulations\n",
      "800 train, 100 validation, 100 test charge pairs\n",
      "\n",
      "Task 3.2:\n",
      "Since len(simulation_continued_train) < len(simulation_train), we can only use a subset of initial simulations\n",
      "We cut simulation_train down to the first 150 samples in simulation_train_task32\n",
      "150 train, 100 validation, 100 test simulations\n",
      "150 train, 100 validation, 100 test continuations\n",
      "\n",
      "For task 3.1, use:\n",
      "simulation_train + charges_train\n",
      "simulation_valid + charges_valid\n",
      "simulation_test + charges_test\n",
      "\n",
      "For task 3.2, use:\n",
      "simulation_train_task32 + simulation_continued_train\n",
      "simulation_valid + simulation_continued_valid\n",
      "simulation_test + simulation_continued_test\n",
      "\n"
     ]
    }
   ],
   "source": [
    "print('Overview of no. datapoints:\\n')\n",
    "\n",
    "print('Task 3.1:')\n",
    "print(f'{len(simulation_train)} train, {len(simulation_valid)} validation, {len(simulation_test)} test simulations')\n",
    "print(f'{len(charges_train)} train, {len(charges_valid)} validation, {len(charges_test)} test charge pairs')\n",
    "print()\n",
    "\n",
    "print('Task 3.2:')\n",
    "print('Since len(simulation_continued_train) < len(simulation_train), we can only use a subset of initial simulations')\n",
    "print('We cut simulation_train down to the first 150 samples in simulation_train_task32')\n",
    "simulation_train_task32 = simulation_train[:150]\n",
    "print(f'{len(simulation_train_task32)} train, {len(simulation_valid)} validation, {len(simulation_test)} test simulations')\n",
    "print(f'{len(simulation_continued_train)} train, {len(simulation_continued_valid)} validation, {len(simulation_continued_test)} test continuations')\n",
    "\n",
    "print(f\"\"\"\n",
    "For task 3.1, use:\n",
    "{chr(10).join([\"simulation_{} + charges_{}\".format(t, t) for t in [\"train\", \"valid\", \"test\"]])}\n",
    "\n",
    "For task 3.2, use:\n",
    "{chr(10).join([\"simulation_{} + simulation_continued_{}\".format(*((t[0], t[1]) if isinstance(t, tuple) else (t, t))) for t in [(\"train_task32\", \"train\"), \"valid\", \"test\"]])}\n",
    "\"\"\")\n"
   ]
  },
  {
   "cell_type": "code",
   "execution_count": 5,
   "id": "3cfafdb3",
   "metadata": {},
   "outputs": [
    {
     "name": "stdout",
     "output_type": "stream",
     "text": [
      "Print some shapes:\n",
      "\n",
      "simulation_train[0].shape: (103, 2) -> (t, 2), (x, y) at every t)\n",
      "charges_train[0].shape: (3,) -> charges for the simulation\n",
      "simulation_continued_train[0].shape: (54, 2) -> (t, 2), (x, y) at every t)\n",
      "----\n",
      "\n",
      "simulation_train[1].shape: (97, 2) -> (t, 2), (x, y) at every t)\n",
      "charges_train[1].shape: (3,) -> charges for the simulation\n",
      "simulation_continued_train[1].shape: (45, 2) -> (t, 2), (x, y) at every t)\n",
      "----\n",
      "\n",
      "simulation_train[2].shape: (99, 2) -> (t, 2), (x, y) at every t)\n",
      "charges_train[2].shape: (3,) -> charges for the simulation\n",
      "simulation_continued_train[2].shape: (47, 2) -> (t, 2), (x, y) at every t)\n",
      "----\n",
      "\n"
     ]
    }
   ],
   "source": [
    "print('Print some shapes:\\n')\n",
    "for i in range(3):\n",
    "    print('simulation_train[{}].shape:'.format(i), simulation_train[i].shape, '-> (t, 2), (x, y) at every t)')\n",
    "    print('charges_train[{}].shape:'.format(i), charges_train[i].shape, '-> charges for the simulation')\n",
    "    print('simulation_continued_train[{}].shape:'.format(i), simulation_continued_train[i].shape, '-> (t, 2), (x, y) at every t)')\n",
    "    print('----\\n')"
   ]
  },
  {
   "cell_type": "code",
   "execution_count": 6,
   "id": "f9106543",
   "metadata": {},
   "outputs": [],
   "source": [
    "def plot_example(x, x_gt=None, x_pred=None, fn=None):\n",
    "    charge_locations = np.array([[-1.53846154, -1.53846154],\n",
    "                                 [ 1.53846154, -1.53846154],\n",
    "                                 [ 0.        ,  1.53846154]])  # charge locations are fixed\n",
    "    fig = plt.figure()\n",
    "    axes = plt.gca()\n",
    "    axes.set_xlim([-5., 5.])\n",
    "    axes.set_ylim([-5., 5.])\n",
    "    cmap = matplotlib.cm.get_cmap('tab20')\n",
    "    plt.plot(x[:, 0], x[:, 1], color=cmap(0))\n",
    "    plt.plot(x[0, 0], x[0, 1], 'd', color=cmap(1))\n",
    "    fig.set_size_inches(5, 5)\n",
    "    for charge in charge_locations:\n",
    "        plt.plot(charge[0], charge[1], 'd', color='black')\n",
    "    if x_gt is not None:\n",
    "        plt.plot(x_gt[:, 0], x_gt[:, 1], color='red', linewidth=.5)\n",
    "    if x_pred is not None:\n",
    "        plt.plot(x_pred[:, 0], x_pred[:, 1], color='green', linestyle='--')\n",
    "    if fn is None:\n",
    "        plt.show()\n",
    "    else:\n",
    "        plt.savefig(fn)"
   ]
  },
  {
   "cell_type": "code",
   "execution_count": 7,
   "id": "d28681a6",
   "metadata": {},
   "outputs": [
    {
     "data": {
      "image/png": "[encoded data removed]",
      "text/plain": [
       "<Figure size 360x360 with 1 Axes>"
      ]
     },
     "metadata": {
      "needs_background": "light"
     },
     "output_type": "display_data"
    },
    {
     "name": "stdout",
     "output_type": "stream",
     "text": [
      "Charges are [-0.85727472 -0.52657655 -0.09680789]\n"
     ]
    }
   ],
   "source": [
    "test_idx = np.random.randint(150)\n",
    "plot_example(simulation_train[test_idx], simulation_continued_train[test_idx])\n",
    "print(f'Charges are {charges_train[test_idx]}')"
   ]
  },
  {
   "cell_type": "markdown",
   "id": "883762b1",
   "metadata": {},
   "source": [
    "# Task 3.1"
   ]
  },
  {
   "cell_type": "markdown",
   "id": "4c1ddabe",
   "metadata": {},
   "source": [
    "## Data Handling and Preprocessing"
   ]
  },
  {
   "cell_type": "code",
   "execution_count": 8,
   "id": "bd9df856",
   "metadata": {},
   "outputs": [
    {
     "name": "stdout",
     "output_type": "stream",
     "text": [
      "Device is set to cuda\n"
     ]
    }
   ],
   "source": [
    "# Pick the best device\n",
    "import torch\n",
    "\n",
    "def try_device(device):\n",
    "    # Try to put an array on given device. If successful, return device. Else, 'cpu'.\n",
    "    x = torch.ones((1,))\n",
    "    try:\n",
    "        x.to(device)\n",
    "        return device\n",
    "    except:\n",
    "        return 'cpu'\n",
    "\n",
    "device = try_device('cuda')\n",
    "if device == 'cpu':\n",
    "    # mps doesn't support our model (yet?)\n",
    "    # device = try_device('mps')\n",
    "    pass\n",
    "\n",
    "\n",
    "print(f'Device is set to {device}')"
   ]
  },
  {
   "cell_type": "code",
   "execution_count": 9,
   "id": "7dd9b7c1",
   "metadata": {},
   "outputs": [],
   "source": [
    "# Task 3.1: Using the positions of positively charged particle p1 during a simulation, predict the\n",
    "# values of negative charges c2, c3, c4\n",
    "# input = t locations (x, y) of p1 particle, value of t is not fixed\n",
    "\n",
    "from torch.utils.data import DataLoader, Dataset\n",
    "from torch.nn.utils.rnn import pack_sequence, pad_sequence\n",
    "\n",
    "class SimulationData(Dataset):\n",
    "    def __init__(self, sim, charges):\n",
    "        self.sim = sim\n",
    "        self.charges = charges\n",
    "\n",
    "    def __len__(self):\n",
    "        return len(self.sim)\n",
    "\n",
    "    def __getitem__(self, idx):\n",
    "        return self.sim[idx], self.charges[idx]\n",
    "\n",
    "# Create data loader\n",
    "def cpu_collate(data):\n",
    "    # Sort data in order of decreasing sequence length\n",
    "    data = list(reversed(sorted(data, key=lambda d: len(d[0]))))\n",
    "    xs = pad_sequence([torch.tensor(x).float() for x, _ in data], batch_first=True)\n",
    "    ys = torch.stack([torch.tensor(y).float() for _, y in data])\n",
    "    return xs, ys\n",
    "\n",
    "\n",
    "# Create data loader\n",
    "def gpu_collate(data):\n",
    "    # Sort data in order of decreasing sequence length\n",
    "    data = list(reversed(sorted(data, key=lambda d: len(d[0]))))\n",
    "    xs = pad_sequence([torch.tensor(x).float() for x, _ in data], batch_first=True)\n",
    "    ys = torch.stack([torch.tensor(y).float() for _, y in data])\n",
    "    return xs.to(device), ys.to(device)\n",
    "\n",
    "\n",
    "# Batch size needs to evenly divide all train, valid, test sizes (800, 100, 100)\n",
    "batch_size = 5\n",
    "cpu_train_dl = DataLoader(SimulationData(simulation_train, charges_train), batch_size=batch_size, shuffle=True, collate_fn=cpu_collate)\n",
    "cpu_valid_dl = DataLoader(SimulationData(simulation_valid, charges_valid), batch_size=batch_size, shuffle=True, collate_fn=cpu_collate)\n",
    "\n",
    "gpu_train_dl = DataLoader(SimulationData(simulation_train, charges_train), batch_size=batch_size, shuffle=True, collate_fn=gpu_collate)\n",
    "gpu_valid_dl = DataLoader(SimulationData(simulation_valid, charges_valid), batch_size=batch_size, shuffle=True, collate_fn=gpu_collate)\n"
   ]
  },
  {
   "cell_type": "code",
   "execution_count": 11,
   "id": "4ec1e03a",
   "metadata": {},
   "outputs": [
    {
     "name": "stdout",
     "output_type": "stream",
     "text": [
      "(103, 2)\n",
      "5\n",
      "torch.Size([108, 2]) torch.Size([3])\n"
     ]
    }
   ],
   "source": [
    "print(simulation_train[0].shape)\n",
    "# Test data loader\n",
    "xs, ys = next(iter(cpu_train_dl))\n",
    "print(len(xs))\n",
    "print(xs[0].shape, ys[0].shape)"
   ]
  },
  {
   "cell_type": "code",
   "execution_count": 12,
   "id": "d48b8fb1",
   "metadata": {},
   "outputs": [
    {
     "name": "stdout",
     "output_type": "stream",
     "text": [
      "Baseline L1 train error: 0.7429318428039551\n",
      "Baseline L1 validation error: 0.7968491911888123\n"
     ]
    }
   ],
   "source": [
    "# Baseline model: predict the mean value of each charge in the training set\n",
    "baseline_values = torch.tensor(np.array(charges_train).mean(axis=0))\n",
    "def baseline_predict(xs):\n",
    "    batch = xs.shape[0]\n",
    "    return baseline_values.expand(batch, 3)\n",
    "\n",
    "loss_fn = lambda y, y_pred: (y - y_pred).abs().sum()\n",
    "\n",
    "# Baseline error?\n",
    "\n",
    "def avg_err(model, dl, loss_fn=torch.nn.L1Loss(reduction='sum')):\n",
    "    loss = 0\n",
    "    n_samples = 0\n",
    "    for x, y in dl:\n",
    "        y_pred = model(x)\n",
    "        loss += loss_fn(y, y_pred)\n",
    "        n_samples += x.shape[0]\n",
    "    return loss / n_samples\n",
    "\n",
    "\n",
    "print(f'Baseline L1 train error: {avg_err(baseline_predict, cpu_train_dl)}')\n",
    "print(f'Baseline L1 validation error: {avg_err(baseline_predict, cpu_valid_dl)}')"
   ]
  },
  {
   "cell_type": "markdown",
   "id": "cc8853f6",
   "metadata": {},
   "source": [
    "## Model Implementation"
   ]
  },
  {
   "cell_type": "code",
   "execution_count": 13,
   "id": "8794a0cf",
   "metadata": {},
   "outputs": [
    {
     "name": "stdout",
     "output_type": "stream",
     "text": [
      "torch.Size([5, 3])\n"
     ]
    }
   ],
   "source": [
    "class Model_3_1(torch.nn.Module):\n",
    "    def __init__(self, hidden_dim, n_layers, batch_size):\n",
    "        super(Model_3_1, self).__init__()\n",
    "        # input/output size are fixed based on the task description\n",
    "        input_dim = 2\n",
    "        output_dim = 3\n",
    "\n",
    "        self.hidden_dim = hidden_dim\n",
    "        self.n_layers = n_layers\n",
    "        self.batch_size = batch_size\n",
    "        \n",
    "        self.gru = torch.nn.GRU(input_dim, hidden_dim, n_layers, batch_first=True)\n",
    "        self.relu = torch.nn.ReLU()\n",
    "        self.fc = torch.nn.Linear(hidden_dim, output_dim)\n",
    "        \n",
    "    def forward(self, x):\n",
    "        h = self.init_hidden()\n",
    "        x = x.to(device)\n",
    "        out, h = self.gru(x, h)\n",
    "        out = self.fc(self.relu(out[:,-1]))\n",
    "        return out\n",
    "    \n",
    "    def init_hidden(self):\n",
    "        # from example of https://pytorch.org/docs/stable/generated/torch.nn.GRU.html\n",
    "        h0 = torch.randn(self.n_layers, self.batch_size, self.hidden_dim).to(device)\n",
    "        return h0\n",
    "\n",
    "xs = xs.to(device)\n",
    "model_3_1 = Model_3_1(30, 5, batch_size).to(device)\n",
    "print(model_3_1(xs).shape)"
   ]
  },
  {
   "cell_type": "markdown",
   "id": "0e443b7f",
   "metadata": {},
   "source": [
    "## Model Training"
   ]
  },
  {
   "cell_type": "code",
   "execution_count": 44,
   "id": "5a5b0aca",
   "metadata": {},
   "outputs": [],
   "source": [
    "from tqdm import tqdm\n",
    "\n",
    "train_loss_graph, val_loss_graph = list(), list()\n",
    "\n",
    "def fit_3_1(model, train_dl, valid_dl, n_epochs):\n",
    "    optimizer = torch.optim.AdamW(model.parameters(), lr=1e-3)\n",
    "    loss_func = torch.nn.L1Loss()\n",
    "    loss_func = loss_func.to(device)\n",
    "\n",
    "    for i in range(n_epochs):\n",
    "        print(f'Begin epoch {i + 1}/{n_epochs}')\n",
    "        for x, y in tqdm(train_dl):\n",
    "            x = x.to(device)\n",
    "            y = y.to(device).float()\n",
    "            y_pred = model(x)\n",
    "            loss = loss_func(y, y_pred)\n",
    "            loss.backward()\n",
    "            optimizer.step()\n",
    "            optimizer.zero_grad()\n",
    "        \n",
    "        with torch.no_grad():\n",
    "            train_err = avg_err(model, train_dl)\n",
    "            val_err = avg_err(model, valid_dl)\n",
    "            print(f'L1 train error: {train_err}')\n",
    "            print(f'L1 validation error: {val_err}')\n",
    "            train_loss_graph.append(train_err)\n",
    "            val_loss_graph.append(val_err)"
   ]
  },
  {
   "cell_type": "code",
   "execution_count": 45,
   "id": "a3181fdc",
   "metadata": {},
   "outputs": [
    {
     "name": "stdout",
     "output_type": "stream",
     "text": [
      "Model has 25473 parameters\n",
      "Begin epoch 1/150\n"
     ]
    },
    {
     "name": "stderr",
     "output_type": "stream",
     "text": [
      "100%|████████████████████████████████████████████████████████████████████████████████| 160/160 [00:02<00:00, 72.04it/s]\n"
     ]
    },
    {
     "name": "stdout",
     "output_type": "stream",
     "text": [
      "L1 train error: 0.7328307032585144\n",
      "L1 validation error: 0.7619458436965942\n",
      "Begin epoch 2/150\n"
     ]
    },
    {
     "name": "stderr",
     "output_type": "stream",
     "text": [
      "100%|████████████████████████████████████████████████████████████████████████████████| 160/160 [00:02<00:00, 71.50it/s]\n"
     ]
    },
    {
     "name": "stdout",
     "output_type": "stream",
     "text": [
      "L1 train error: 0.6017531156539917\n",
      "L1 validation error: 0.6357011198997498\n",
      "Begin epoch 3/150\n"
     ]
    },
    {
     "name": "stderr",
     "output_type": "stream",
     "text": [
      "100%|████████████████████████████████████████████████████████████████████████████████| 160/160 [00:02<00:00, 72.74it/s]\n"
     ]
    },
    {
     "name": "stdout",
     "output_type": "stream",
     "text": [
      "L1 train error: 0.6055735945701599\n",
      "L1 validation error: 0.6395753622055054\n",
      "Begin epoch 4/150\n"
     ]
    },
    {
     "name": "stderr",
     "output_type": "stream",
     "text": [
      "100%|████████████████████████████████████████████████████████████████████████████████| 160/160 [00:02<00:00, 71.24it/s]\n"
     ]
    },
    {
     "name": "stdout",
     "output_type": "stream",
     "text": [
      "L1 train error: 0.504177451133728\n",
      "L1 validation error: 0.5267606973648071\n",
      "Begin epoch 5/150\n"
     ]
    },
    {
     "name": "stderr",
     "output_type": "stream",
     "text": [
      "100%|████████████████████████████████████████████████████████████████████████████████| 160/160 [00:02<00:00, 68.38it/s]\n"
     ]
    },
    {
     "name": "stdout",
     "output_type": "stream",
     "text": [
      "L1 train error: 0.47816261649131775\n",
      "L1 validation error: 0.4654507637023926\n",
      "Begin epoch 6/150\n"
     ]
    },
    {
     "name": "stderr",
     "output_type": "stream",
     "text": [
      "100%|████████████████████████████████████████████████████████████████████████████████| 160/160 [00:02<00:00, 68.95it/s]\n"
     ]
    },
    {
     "name": "stdout",
     "output_type": "stream",
     "text": [
      "L1 train error: 0.4323008954524994\n",
      "L1 validation error: 0.4132891297340393\n",
      "Begin epoch 7/150\n"
     ]
    },
    {
     "name": "stderr",
     "output_type": "stream",
     "text": [
      "100%|████████████████████████████████████████████████████████████████████████████████| 160/160 [00:02<00:00, 68.20it/s]\n"
     ]
    },
    {
     "name": "stdout",
     "output_type": "stream",
     "text": [
      "L1 train error: 0.4464136064052582\n",
      "L1 validation error: 0.48416075110435486\n",
      "Begin epoch 8/150\n"
     ]
    },
    {
     "name": "stderr",
     "output_type": "stream",
     "text": [
      "100%|████████████████████████████████████████████████████████████████████████████████| 160/160 [00:02<00:00, 72.12it/s]\n"
     ]
    },
    {
     "name": "stdout",
     "output_type": "stream",
     "text": [
      "L1 train error: 0.41048935055732727\n",
      "L1 validation error: 0.4169163107872009\n",
      "Begin epoch 9/150\n"
     ]
    },
    {
     "name": "stderr",
     "output_type": "stream",
     "text": [
      "100%|████████████████████████████████████████████████████████████████████████████████| 160/160 [00:02<00:00, 65.48it/s]\n"
     ]
    },
    {
     "name": "stdout",
     "output_type": "stream",
     "text": [
      "L1 train error: 0.4110434651374817\n",
      "L1 validation error: 0.4104712903499603\n",
      "Begin epoch 10/150\n"
     ]
    },
    {
     "name": "stderr",
     "output_type": "stream",
     "text": [
      "100%|████████████████████████████████████████████████████████████████████████████████| 160/160 [00:02<00:00, 77.75it/s]\n"
     ]
    },
    {
     "name": "stdout",
     "output_type": "stream",
     "text": [
      "L1 train error: 0.41151922941207886\n",
      "L1 validation error: 0.4121166467666626\n",
      "Begin epoch 11/150\n"
     ]
    },
    {
     "name": "stderr",
     "output_type": "stream",
     "text": [
      "100%|████████████████████████████████████████████████████████████████████████████████| 160/160 [00:02<00:00, 72.95it/s]\n"
     ]
    },
    {
     "name": "stdout",
     "output_type": "stream",
     "text": [
      "L1 train error: 0.36165744066238403\n",
      "L1 validation error: 0.36849963665008545\n",
      "Begin epoch 12/150\n"
     ]
    },
    {
     "name": "stderr",
     "output_type": "stream",
     "text": [
      "100%|████████████████████████████████████████████████████████████████████████████████| 160/160 [00:02<00:00, 68.38it/s]\n"
     ]
    },
    {
     "name": "stdout",
     "output_type": "stream",
     "text": [
      "L1 train error: 0.3612075448036194\n",
      "L1 validation error: 0.3787432909011841\n",
      "Begin epoch 13/150\n"
     ]
    },
    {
     "name": "stderr",
     "output_type": "stream",
     "text": [
      "100%|████████████████████████████████████████████████████████████████████████████████| 160/160 [00:02<00:00, 73.39it/s]\n"
     ]
    },
    {
     "name": "stdout",
     "output_type": "stream",
     "text": [
      "L1 train error: 0.34647291898727417\n",
      "L1 validation error: 0.36202529072761536\n",
      "Begin epoch 14/150\n"
     ]
    },
    {
     "name": "stderr",
     "output_type": "stream",
     "text": [
      "100%|████████████████████████████████████████████████████████████████████████████████| 160/160 [00:02<00:00, 72.81it/s]\n"
     ]
    },
    {
     "name": "stdout",
     "output_type": "stream",
     "text": [
      "L1 train error: 0.3359376788139343\n",
      "L1 validation error: 0.35319700837135315\n",
      "Begin epoch 15/150\n"
     ]
    },
    {
     "name": "stderr",
     "output_type": "stream",
     "text": [
      "100%|████████████████████████████████████████████████████████████████████████████████| 160/160 [00:02<00:00, 74.13it/s]\n"
     ]
    },
    {
     "name": "stdout",
     "output_type": "stream",
     "text": [
      "L1 train error: 0.31537771224975586\n",
      "L1 validation error: 0.3407256305217743\n",
      "Begin epoch 16/150\n"
     ]
    },
    {
     "name": "stderr",
     "output_type": "stream",
     "text": [
      "100%|████████████████████████████████████████████████████████████████████████████████| 160/160 [00:02<00:00, 70.33it/s]\n"
     ]
    },
    {
     "name": "stdout",
     "output_type": "stream",
     "text": [
      "L1 train error: 0.3062566816806793\n",
      "L1 validation error: 0.32741647958755493\n",
      "Begin epoch 17/150\n"
     ]
    },
    {
     "name": "stderr",
     "output_type": "stream",
     "text": [
      "100%|████████████████████████████████████████████████████████████████████████████████| 160/160 [00:02<00:00, 73.83it/s]\n"
     ]
    },
    {
     "name": "stdout",
     "output_type": "stream",
     "text": [
      "L1 train error: 0.3078247904777527\n",
      "L1 validation error: 0.31957000494003296\n",
      "Begin epoch 18/150\n"
     ]
    },
    {
     "name": "stderr",
     "output_type": "stream",
     "text": [
      "100%|████████████████████████████████████████████████████████████████████████████████| 160/160 [00:02<00:00, 74.74it/s]\n"
     ]
    },
    {
     "name": "stdout",
     "output_type": "stream",
     "text": [
      "L1 train error: 0.2982976734638214\n",
      "L1 validation error: 0.30352580547332764\n",
      "Begin epoch 19/150\n"
     ]
    },
    {
     "name": "stderr",
     "output_type": "stream",
     "text": [
      "100%|████████████████████████████████████████████████████████████████████████████████| 160/160 [00:02<00:00, 74.80it/s]\n"
     ]
    },
    {
     "name": "stdout",
     "output_type": "stream",
     "text": [
      "L1 train error: 0.30141741037368774\n",
      "L1 validation error: 0.3327621817588806\n",
      "Begin epoch 20/150\n"
     ]
    },
    {
     "name": "stderr",
     "output_type": "stream",
     "text": [
      "100%|████████████████████████████████████████████████████████████████████████████████| 160/160 [00:02<00:00, 68.15it/s]\n"
     ]
    },
    {
     "name": "stdout",
     "output_type": "stream",
     "text": [
      "L1 train error: 0.3184242248535156\n",
      "L1 validation error: 0.3375991880893707\n",
      "Begin epoch 21/150\n"
     ]
    },
    {
     "name": "stderr",
     "output_type": "stream",
     "text": [
      "100%|████████████████████████████████████████████████████████████████████████████████| 160/160 [00:02<00:00, 68.53it/s]\n"
     ]
    },
    {
     "name": "stdout",
     "output_type": "stream",
     "text": [
      "L1 train error: 0.287388414144516\n",
      "L1 validation error: 0.3182353377342224\n",
      "Begin epoch 22/150\n"
     ]
    },
    {
     "name": "stderr",
     "output_type": "stream",
     "text": [
      "100%|████████████████████████████████████████████████████████████████████████████████| 160/160 [00:02<00:00, 75.27it/s]\n"
     ]
    },
    {
     "name": "stdout",
     "output_type": "stream",
     "text": [
      "L1 train error: 0.27272912859916687\n",
      "L1 validation error: 0.2964199185371399\n",
      "Begin epoch 23/150\n"
     ]
    },
    {
     "name": "stderr",
     "output_type": "stream",
     "text": [
      "100%|████████████████████████████████████████████████████████████████████████████████| 160/160 [00:02<00:00, 77.54it/s]\n"
     ]
    },
    {
     "name": "stdout",
     "output_type": "stream",
     "text": [
      "L1 train error: 0.26363006234169006\n",
      "L1 validation error: 0.2774542570114136\n",
      "Begin epoch 24/150\n"
     ]
    },
    {
     "name": "stderr",
     "output_type": "stream",
     "text": [
      "100%|████████████████████████████████████████████████████████████████████████████████| 160/160 [00:02<00:00, 77.37it/s]\n"
     ]
    },
    {
     "name": "stdout",
     "output_type": "stream",
     "text": [
      "L1 train error: 0.2549857199192047\n",
      "L1 validation error: 0.31210455298423767\n",
      "Begin epoch 25/150\n"
     ]
    },
    {
     "name": "stderr",
     "output_type": "stream",
     "text": [
      "100%|████████████████████████████████████████████████████████████████████████████████| 160/160 [00:02<00:00, 76.48it/s]\n"
     ]
    },
    {
     "name": "stdout",
     "output_type": "stream",
     "text": [
      "L1 train error: 0.2583114802837372\n",
      "L1 validation error: 0.2994951605796814\n",
      "Begin epoch 26/150\n"
     ]
    },
    {
     "name": "stderr",
     "output_type": "stream",
     "text": [
      "100%|████████████████████████████████████████████████████████████████████████████████| 160/160 [00:02<00:00, 71.78it/s]\n"
     ]
    },
    {
     "name": "stdout",
     "output_type": "stream",
     "text": [
      "L1 train error: 0.24654345214366913\n",
      "L1 validation error: 0.29262444376945496\n",
      "Begin epoch 27/150\n"
     ]
    },
    {
     "name": "stderr",
     "output_type": "stream",
     "text": [
      "100%|████████████████████████████████████████████████████████████████████████████████| 160/160 [00:02<00:00, 71.89it/s]\n"
     ]
    },
    {
     "name": "stdout",
     "output_type": "stream",
     "text": [
      "L1 train error: 0.2261524796485901\n",
      "L1 validation error: 0.2321389764547348\n",
      "Begin epoch 28/150\n"
     ]
    },
    {
     "name": "stderr",
     "output_type": "stream",
     "text": [
      "100%|████████████████████████████████████████████████████████████████████████████████| 160/160 [00:02<00:00, 72.97it/s]\n"
     ]
    },
    {
     "name": "stdout",
     "output_type": "stream",
     "text": [
      "L1 train error: 0.245222270488739\n",
      "L1 validation error: 0.2737250328063965\n",
      "Begin epoch 29/150\n"
     ]
    },
    {
     "name": "stderr",
     "output_type": "stream",
     "text": [
      "100%|████████████████████████████████████████████████████████████████████████████████| 160/160 [00:02<00:00, 76.82it/s]\n"
     ]
    },
    {
     "name": "stdout",
     "output_type": "stream",
     "text": [
      "L1 train error: 0.2256159782409668\n",
      "L1 validation error: 0.25214365124702454\n",
      "Begin epoch 30/150\n"
     ]
    },
    {
     "name": "stderr",
     "output_type": "stream",
     "text": [
      "100%|████████████████████████████████████████████████████████████████████████████████| 160/160 [00:02<00:00, 71.43it/s]\n"
     ]
    },
    {
     "name": "stdout",
     "output_type": "stream",
     "text": [
      "L1 train error: 0.23021890223026276\n",
      "L1 validation error: 0.27025583386421204\n",
      "Begin epoch 31/150\n"
     ]
    },
    {
     "name": "stderr",
     "output_type": "stream",
     "text": [
      "100%|████████████████████████████████████████████████████████████████████████████████| 160/160 [00:02<00:00, 74.80it/s]\n"
     ]
    },
    {
     "name": "stdout",
     "output_type": "stream",
     "text": [
      "L1 train error: 0.20757070183753967\n",
      "L1 validation error: 0.23794881999492645\n",
      "Begin epoch 32/150\n"
     ]
    },
    {
     "name": "stderr",
     "output_type": "stream",
     "text": [
      "100%|████████████████████████████████████████████████████████████████████████████████| 160/160 [00:02<00:00, 76.55it/s]\n"
     ]
    },
    {
     "name": "stdout",
     "output_type": "stream",
     "text": [
      "L1 train error: 0.24898497760295868\n",
      "L1 validation error: 0.2951958477497101\n",
      "Begin epoch 33/150\n"
     ]
    },
    {
     "name": "stderr",
     "output_type": "stream",
     "text": [
      "100%|████████████████████████████████████████████████████████████████████████████████| 160/160 [00:02<00:00, 73.63it/s]\n"
     ]
    },
    {
     "name": "stdout",
     "output_type": "stream",
     "text": [
      "L1 train error: 0.22061392664909363\n",
      "L1 validation error: 0.25348803400993347\n",
      "Begin epoch 34/150\n"
     ]
    },
    {
     "name": "stderr",
     "output_type": "stream",
     "text": [
      "100%|████████████████████████████████████████████████████████████████████████████████| 160/160 [00:02<00:00, 75.14it/s]\n"
     ]
    },
    {
     "name": "stdout",
     "output_type": "stream",
     "text": [
      "L1 train error: 0.21035753190517426\n",
      "L1 validation error: 0.23783168196678162\n",
      "Begin epoch 35/150\n"
     ]
    },
    {
     "name": "stderr",
     "output_type": "stream",
     "text": [
      "100%|████████████████████████████████████████████████████████████████████████████████| 160/160 [00:02<00:00, 75.70it/s]\n"
     ]
    },
    {
     "name": "stdout",
     "output_type": "stream",
     "text": [
      "L1 train error: 0.22819942235946655\n",
      "L1 validation error: 0.2580842673778534\n",
      "Begin epoch 36/150\n"
     ]
    },
    {
     "name": "stderr",
     "output_type": "stream",
     "text": [
      "100%|████████████████████████████████████████████████████████████████████████████████| 160/160 [00:02<00:00, 74.34it/s]\n"
     ]
    },
    {
     "name": "stdout",
     "output_type": "stream",
     "text": [
      "L1 train error: 0.23184362053871155\n",
      "L1 validation error: 0.27607250213623047\n",
      "Begin epoch 37/150\n"
     ]
    },
    {
     "name": "stderr",
     "output_type": "stream",
     "text": [
      "100%|████████████████████████████████████████████████████████████████████████████████| 160/160 [00:02<00:00, 75.82it/s]\n"
     ]
    },
    {
     "name": "stdout",
     "output_type": "stream",
     "text": [
      "L1 train error: 0.2044658362865448\n",
      "L1 validation error: 0.23390574753284454\n",
      "Begin epoch 38/150\n"
     ]
    },
    {
     "name": "stderr",
     "output_type": "stream",
     "text": [
      "100%|████████████████████████████████████████████████████████████████████████████████| 160/160 [00:02<00:00, 76.15it/s]\n"
     ]
    },
    {
     "name": "stdout",
     "output_type": "stream",
     "text": [
      "L1 train error: 0.19403035938739777\n",
      "L1 validation error: 0.22492694854736328\n",
      "Begin epoch 39/150\n"
     ]
    },
    {
     "name": "stderr",
     "output_type": "stream",
     "text": [
      "100%|████████████████████████████████████████████████████████████████████████████████| 160/160 [00:02<00:00, 72.66it/s]\n"
     ]
    },
    {
     "name": "stdout",
     "output_type": "stream",
     "text": [
      "L1 train error: 0.22096826136112213\n",
      "L1 validation error: 0.25676852464675903\n",
      "Begin epoch 40/150\n"
     ]
    },
    {
     "name": "stderr",
     "output_type": "stream",
     "text": [
      "100%|████████████████████████████████████████████████████████████████████████████████| 160/160 [00:02<00:00, 72.14it/s]\n"
     ]
    },
    {
     "name": "stdout",
     "output_type": "stream",
     "text": [
      "L1 train error: 0.19072143733501434\n",
      "L1 validation error: 0.22024430334568024\n",
      "Begin epoch 41/150\n"
     ]
    },
    {
     "name": "stderr",
     "output_type": "stream",
     "text": [
      "100%|████████████████████████████████████████████████████████████████████████████████| 160/160 [00:02<00:00, 74.71it/s]\n"
     ]
    },
    {
     "name": "stdout",
     "output_type": "stream",
     "text": [
      "L1 train error: 0.17769372463226318\n",
      "L1 validation error: 0.2233038991689682\n",
      "Begin epoch 42/150\n"
     ]
    },
    {
     "name": "stderr",
     "output_type": "stream",
     "text": [
      "100%|████████████████████████████████████████████████████████████████████████████████| 160/160 [00:02<00:00, 72.51it/s]\n"
     ]
    },
    {
     "name": "stdout",
     "output_type": "stream",
     "text": [
      "L1 train error: 0.1896410882472992\n",
      "L1 validation error: 0.21944640576839447\n",
      "Begin epoch 43/150\n"
     ]
    },
    {
     "name": "stderr",
     "output_type": "stream",
     "text": [
      "100%|████████████████████████████████████████████████████████████████████████████████| 160/160 [00:02<00:00, 77.59it/s]\n"
     ]
    },
    {
     "name": "stdout",
     "output_type": "stream",
     "text": [
      "L1 train error: 0.21500857174396515\n",
      "L1 validation error: 0.23785999417304993\n",
      "Begin epoch 44/150\n"
     ]
    },
    {
     "name": "stderr",
     "output_type": "stream",
     "text": [
      "100%|████████████████████████████████████████████████████████████████████████████████| 160/160 [00:02<00:00, 73.73it/s]\n"
     ]
    },
    {
     "name": "stdout",
     "output_type": "stream",
     "text": [
      "L1 train error: 0.19552822411060333\n",
      "L1 validation error: 0.21311844885349274\n",
      "Begin epoch 45/150\n"
     ]
    },
    {
     "name": "stderr",
     "output_type": "stream",
     "text": [
      "100%|████████████████████████████████████████████████████████████████████████████████| 160/160 [00:02<00:00, 75.64it/s]\n"
     ]
    },
    {
     "name": "stdout",
     "output_type": "stream",
     "text": [
      "L1 train error: 0.18649819493293762\n",
      "L1 validation error: 0.2174585610628128\n",
      "Begin epoch 46/150\n"
     ]
    },
    {
     "name": "stderr",
     "output_type": "stream",
     "text": [
      "100%|████████████████████████████████████████████████████████████████████████████████| 160/160 [00:02<00:00, 73.81it/s]\n"
     ]
    },
    {
     "name": "stdout",
     "output_type": "stream",
     "text": [
      "L1 train error: 0.17324313521385193\n",
      "L1 validation error: 0.2054947018623352\n",
      "Begin epoch 47/150\n"
     ]
    },
    {
     "name": "stderr",
     "output_type": "stream",
     "text": [
      "100%|████████████████████████████████████████████████████████████████████████████████| 160/160 [00:02<00:00, 78.26it/s]\n"
     ]
    },
    {
     "name": "stdout",
     "output_type": "stream",
     "text": [
      "L1 train error: 0.17614483833312988\n",
      "L1 validation error: 0.22176235914230347\n",
      "Begin epoch 48/150\n"
     ]
    },
    {
     "name": "stderr",
     "output_type": "stream",
     "text": [
      "100%|████████████████████████████████████████████████████████████████████████████████| 160/160 [00:02<00:00, 74.95it/s]\n"
     ]
    },
    {
     "name": "stdout",
     "output_type": "stream",
     "text": [
      "L1 train error: 0.17964212596416473\n",
      "L1 validation error: 0.20476658642292023\n",
      "Begin epoch 49/150\n"
     ]
    },
    {
     "name": "stderr",
     "output_type": "stream",
     "text": [
      "100%|████████████████████████████████████████████████████████████████████████████████| 160/160 [00:02<00:00, 75.62it/s]\n"
     ]
    },
    {
     "name": "stdout",
     "output_type": "stream",
     "text": [
      "L1 train error: 0.19048915803432465\n",
      "L1 validation error: 0.24233466386795044\n",
      "Begin epoch 50/150\n"
     ]
    },
    {
     "name": "stderr",
     "output_type": "stream",
     "text": [
      "100%|████████████████████████████████████████████████████████████████████████████████| 160/160 [00:02<00:00, 71.70it/s]\n"
     ]
    },
    {
     "name": "stdout",
     "output_type": "stream",
     "text": [
      "L1 train error: 0.19148828089237213\n",
      "L1 validation error: 0.2149127870798111\n",
      "Begin epoch 51/150\n"
     ]
    },
    {
     "name": "stderr",
     "output_type": "stream",
     "text": [
      "100%|████████████████████████████████████████████████████████████████████████████████| 160/160 [00:02<00:00, 75.02it/s]\n"
     ]
    },
    {
     "name": "stdout",
     "output_type": "stream",
     "text": [
      "L1 train error: 0.19412057101726532\n",
      "L1 validation error: 0.22145164012908936\n",
      "Begin epoch 52/150\n"
     ]
    },
    {
     "name": "stderr",
     "output_type": "stream",
     "text": [
      "100%|████████████████████████████████████████████████████████████████████████████████| 160/160 [00:02<00:00, 73.92it/s]\n"
     ]
    },
    {
     "name": "stdout",
     "output_type": "stream",
     "text": [
      "L1 train error: 0.1654762476682663\n",
      "L1 validation error: 0.19611960649490356\n",
      "Begin epoch 53/150\n"
     ]
    },
    {
     "name": "stderr",
     "output_type": "stream",
     "text": [
      "100%|████████████████████████████████████████████████████████████████████████████████| 160/160 [00:02<00:00, 77.42it/s]\n"
     ]
    },
    {
     "name": "stdout",
     "output_type": "stream",
     "text": [
      "L1 train error: 0.1756943315267563\n",
      "L1 validation error: 0.220437154173851\n",
      "Begin epoch 54/150\n"
     ]
    },
    {
     "name": "stderr",
     "output_type": "stream",
     "text": [
      "100%|████████████████████████████████████████████████████████████████████████████████| 160/160 [00:02<00:00, 75.72it/s]\n"
     ]
    },
    {
     "name": "stdout",
     "output_type": "stream",
     "text": [
      "L1 train error: 0.17688345909118652\n",
      "L1 validation error: 0.20684222877025604\n",
      "Begin epoch 55/150\n"
     ]
    },
    {
     "name": "stderr",
     "output_type": "stream",
     "text": [
      "100%|████████████████████████████████████████████████████████████████████████████████| 160/160 [00:02<00:00, 76.54it/s]\n"
     ]
    },
    {
     "name": "stdout",
     "output_type": "stream",
     "text": [
      "L1 train error: 0.17253759503364563\n",
      "L1 validation error: 0.2024705857038498\n",
      "Begin epoch 56/150\n"
     ]
    },
    {
     "name": "stderr",
     "output_type": "stream",
     "text": [
      "100%|████████████████████████████████████████████████████████████████████████████████| 160/160 [00:02<00:00, 77.01it/s]\n"
     ]
    },
    {
     "name": "stdout",
     "output_type": "stream",
     "text": [
      "L1 train error: 0.17965058982372284\n",
      "L1 validation error: 0.2179626226425171\n",
      "Begin epoch 57/150\n"
     ]
    },
    {
     "name": "stderr",
     "output_type": "stream",
     "text": [
      "100%|████████████████████████████████████████████████████████████████████████████████| 160/160 [00:02<00:00, 76.38it/s]\n"
     ]
    },
    {
     "name": "stdout",
     "output_type": "stream",
     "text": [
      "L1 train error: 0.16360360383987427\n",
      "L1 validation error: 0.19997413456439972\n",
      "Begin epoch 58/150\n"
     ]
    },
    {
     "name": "stderr",
     "output_type": "stream",
     "text": [
      "100%|████████████████████████████████████████████████████████████████████████████████| 160/160 [00:02<00:00, 73.89it/s]\n"
     ]
    },
    {
     "name": "stdout",
     "output_type": "stream",
     "text": [
      "L1 train error: 0.1584576517343521\n",
      "L1 validation error: 0.19855035841464996\n",
      "Begin epoch 59/150\n"
     ]
    },
    {
     "name": "stderr",
     "output_type": "stream",
     "text": [
      "100%|████████████████████████████████████████████████████████████████████████████████| 160/160 [00:02<00:00, 73.58it/s]\n"
     ]
    },
    {
     "name": "stdout",
     "output_type": "stream",
     "text": [
      "L1 train error: 0.1955864131450653\n",
      "L1 validation error: 0.22748669981956482\n",
      "Begin epoch 60/150\n"
     ]
    },
    {
     "name": "stderr",
     "output_type": "stream",
     "text": [
      "100%|████████████████████████████████████████████████████████████████████████████████| 160/160 [00:02<00:00, 73.80it/s]\n"
     ]
    },
    {
     "name": "stdout",
     "output_type": "stream",
     "text": [
      "L1 train error: 0.16693232953548431\n",
      "L1 validation error: 0.21051615476608276\n",
      "Begin epoch 61/150\n"
     ]
    },
    {
     "name": "stderr",
     "output_type": "stream",
     "text": [
      "100%|████████████████████████████████████████████████████████████████████████████████| 160/160 [00:02<00:00, 76.10it/s]\n"
     ]
    },
    {
     "name": "stdout",
     "output_type": "stream",
     "text": [
      "L1 train error: 0.18895956873893738\n",
      "L1 validation error: 0.21109206974506378\n",
      "Begin epoch 62/150\n"
     ]
    },
    {
     "name": "stderr",
     "output_type": "stream",
     "text": [
      "100%|████████████████████████████████████████████████████████████████████████████████| 160/160 [00:02<00:00, 74.30it/s]\n"
     ]
    },
    {
     "name": "stdout",
     "output_type": "stream",
     "text": [
      "L1 train error: 0.16283313930034637\n",
      "L1 validation error: 0.19898448884487152\n",
      "Begin epoch 63/150\n"
     ]
    },
    {
     "name": "stderr",
     "output_type": "stream",
     "text": [
      "100%|████████████████████████████████████████████████████████████████████████████████| 160/160 [00:02<00:00, 73.08it/s]\n"
     ]
    },
    {
     "name": "stdout",
     "output_type": "stream",
     "text": [
      "L1 train error: 0.15065805613994598\n",
      "L1 validation error: 0.18939617276191711\n",
      "Begin epoch 64/150\n"
     ]
    },
    {
     "name": "stderr",
     "output_type": "stream",
     "text": [
      "100%|████████████████████████████████████████████████████████████████████████████████| 160/160 [00:02<00:00, 77.86it/s]\n"
     ]
    },
    {
     "name": "stdout",
     "output_type": "stream",
     "text": [
      "L1 train error: 0.16683059930801392\n",
      "L1 validation error: 0.2102113515138626\n",
      "Begin epoch 65/150\n"
     ]
    },
    {
     "name": "stderr",
     "output_type": "stream",
     "text": [
      "100%|████████████████████████████████████████████████████████████████████████████████| 160/160 [00:02<00:00, 73.43it/s]\n"
     ]
    },
    {
     "name": "stdout",
     "output_type": "stream",
     "text": [
      "L1 train error: 0.1563086062669754\n",
      "L1 validation error: 0.19352534413337708\n",
      "Begin epoch 66/150\n"
     ]
    },
    {
     "name": "stderr",
     "output_type": "stream",
     "text": [
      "100%|████████████████████████████████████████████████████████████████████████████████| 160/160 [00:02<00:00, 77.36it/s]\n"
     ]
    },
    {
     "name": "stdout",
     "output_type": "stream",
     "text": [
      "L1 train error: 0.15219420194625854\n",
      "L1 validation error: 0.1894087791442871\n",
      "Begin epoch 67/150\n"
     ]
    },
    {
     "name": "stderr",
     "output_type": "stream",
     "text": [
      "100%|████████████████████████████████████████████████████████████████████████████████| 160/160 [00:02<00:00, 71.99it/s]\n"
     ]
    },
    {
     "name": "stdout",
     "output_type": "stream",
     "text": [
      "L1 train error: 0.17565256357192993\n",
      "L1 validation error: 0.21222442388534546\n",
      "Begin epoch 68/150\n"
     ]
    },
    {
     "name": "stderr",
     "output_type": "stream",
     "text": [
      "100%|████████████████████████████████████████████████████████████████████████████████| 160/160 [00:02<00:00, 75.41it/s]\n"
     ]
    },
    {
     "name": "stdout",
     "output_type": "stream",
     "text": [
      "L1 train error: 0.17106766998767853\n",
      "L1 validation error: 0.21067723631858826\n",
      "Begin epoch 69/150\n"
     ]
    },
    {
     "name": "stderr",
     "output_type": "stream",
     "text": [
      "100%|████████████████████████████████████████████████████████████████████████████████| 160/160 [00:02<00:00, 71.99it/s]\n"
     ]
    },
    {
     "name": "stdout",
     "output_type": "stream",
     "text": [
      "L1 train error: 0.16834519803524017\n",
      "L1 validation error: 0.22636961936950684\n",
      "Begin epoch 70/150\n"
     ]
    },
    {
     "name": "stderr",
     "output_type": "stream",
     "text": [
      "100%|████████████████████████████████████████████████████████████████████████████████| 160/160 [00:02<00:00, 71.69it/s]\n"
     ]
    },
    {
     "name": "stdout",
     "output_type": "stream",
     "text": [
      "L1 train error: 0.16210317611694336\n",
      "L1 validation error: 0.19697226583957672\n",
      "Begin epoch 71/150\n"
     ]
    },
    {
     "name": "stderr",
     "output_type": "stream",
     "text": [
      "100%|████████████████████████████████████████████████████████████████████████████████| 160/160 [00:02<00:00, 76.73it/s]\n"
     ]
    },
    {
     "name": "stdout",
     "output_type": "stream",
     "text": [
      "L1 train error: 0.15341860055923462\n",
      "L1 validation error: 0.19370877742767334\n",
      "Begin epoch 72/150\n"
     ]
    },
    {
     "name": "stderr",
     "output_type": "stream",
     "text": [
      "100%|████████████████████████████████████████████████████████████████████████████████| 160/160 [00:02<00:00, 76.25it/s]\n"
     ]
    },
    {
     "name": "stdout",
     "output_type": "stream",
     "text": [
      "L1 train error: 0.18824639916419983\n",
      "L1 validation error: 0.22405177354812622\n",
      "Begin epoch 73/150\n"
     ]
    },
    {
     "name": "stderr",
     "output_type": "stream",
     "text": [
      "100%|████████████████████████████████████████████████████████████████████████████████| 160/160 [00:02<00:00, 76.37it/s]\n"
     ]
    },
    {
     "name": "stdout",
     "output_type": "stream",
     "text": [
      "L1 train error: 0.1524973213672638\n",
      "L1 validation error: 0.19539976119995117\n",
      "Begin epoch 74/150\n"
     ]
    },
    {
     "name": "stderr",
     "output_type": "stream",
     "text": [
      "100%|████████████████████████████████████████████████████████████████████████████████| 160/160 [00:02<00:00, 77.66it/s]\n"
     ]
    },
    {
     "name": "stdout",
     "output_type": "stream",
     "text": [
      "L1 train error: 0.15645301342010498\n",
      "L1 validation error: 0.18572314083576202\n",
      "Begin epoch 75/150\n"
     ]
    },
    {
     "name": "stderr",
     "output_type": "stream",
     "text": [
      "100%|████████████████████████████████████████████████████████████████████████████████| 160/160 [00:02<00:00, 77.63it/s]\n"
     ]
    },
    {
     "name": "stdout",
     "output_type": "stream",
     "text": [
      "L1 train error: 0.14256049692630768\n",
      "L1 validation error: 0.19179317355155945\n",
      "Begin epoch 76/150\n"
     ]
    },
    {
     "name": "stderr",
     "output_type": "stream",
     "text": [
      "100%|████████████████████████████████████████████████████████████████████████████████| 160/160 [00:02<00:00, 73.40it/s]\n"
     ]
    },
    {
     "name": "stdout",
     "output_type": "stream",
     "text": [
      "L1 train error: 0.17792142927646637\n",
      "L1 validation error: 0.21395736932754517\n",
      "Begin epoch 77/150\n"
     ]
    },
    {
     "name": "stderr",
     "output_type": "stream",
     "text": [
      "100%|████████████████████████████████████████████████████████████████████████████████| 160/160 [00:02<00:00, 74.12it/s]\n"
     ]
    },
    {
     "name": "stdout",
     "output_type": "stream",
     "text": [
      "L1 train error: 0.1508200466632843\n",
      "L1 validation error: 0.209770068526268\n",
      "Begin epoch 78/150\n"
     ]
    },
    {
     "name": "stderr",
     "output_type": "stream",
     "text": [
      "100%|████████████████████████████████████████████████████████████████████████████████| 160/160 [00:02<00:00, 72.97it/s]\n"
     ]
    },
    {
     "name": "stdout",
     "output_type": "stream",
     "text": [
      "L1 train error: 0.16921140253543854\n",
      "L1 validation error: 0.22804908454418182\n",
      "Begin epoch 79/150\n"
     ]
    },
    {
     "name": "stderr",
     "output_type": "stream",
     "text": [
      "100%|████████████████████████████████████████████████████████████████████████████████| 160/160 [00:02<00:00, 74.18it/s]\n"
     ]
    },
    {
     "name": "stdout",
     "output_type": "stream",
     "text": [
      "L1 train error: 0.16901181638240814\n",
      "L1 validation error: 0.21424277126789093\n",
      "Begin epoch 80/150\n"
     ]
    },
    {
     "name": "stderr",
     "output_type": "stream",
     "text": [
      "100%|████████████████████████████████████████████████████████████████████████████████| 160/160 [00:02<00:00, 71.72it/s]\n"
     ]
    },
    {
     "name": "stdout",
     "output_type": "stream",
     "text": [
      "L1 train error: 0.14479465782642365\n",
      "L1 validation error: 0.17775321006774902\n",
      "Begin epoch 81/150\n"
     ]
    },
    {
     "name": "stderr",
     "output_type": "stream",
     "text": [
      "100%|████████████████████████████████████████████████████████████████████████████████| 160/160 [00:02<00:00, 70.74it/s]\n"
     ]
    },
    {
     "name": "stdout",
     "output_type": "stream",
     "text": [
      "L1 train error: 0.14363974332809448\n",
      "L1 validation error: 0.19535762071609497\n",
      "Begin epoch 82/150\n"
     ]
    },
    {
     "name": "stderr",
     "output_type": "stream",
     "text": [
      "100%|████████████████████████████████████████████████████████████████████████████████| 160/160 [00:02<00:00, 72.62it/s]\n"
     ]
    },
    {
     "name": "stdout",
     "output_type": "stream",
     "text": [
      "L1 train error: 0.14455553889274597\n",
      "L1 validation error: 0.1767507940530777\n",
      "Begin epoch 83/150\n"
     ]
    },
    {
     "name": "stderr",
     "output_type": "stream",
     "text": [
      "100%|████████████████████████████████████████████████████████████████████████████████| 160/160 [00:02<00:00, 73.13it/s]\n"
     ]
    },
    {
     "name": "stdout",
     "output_type": "stream",
     "text": [
      "L1 train error: 0.1565140187740326\n",
      "L1 validation error: 0.21114394068717957\n",
      "Begin epoch 84/150\n"
     ]
    },
    {
     "name": "stderr",
     "output_type": "stream",
     "text": [
      "100%|████████████████████████████████████████████████████████████████████████████████| 160/160 [00:02<00:00, 72.63it/s]\n"
     ]
    },
    {
     "name": "stdout",
     "output_type": "stream",
     "text": [
      "L1 train error: 0.1673271507024765\n",
      "L1 validation error: 0.20210568606853485\n",
      "Begin epoch 85/150\n"
     ]
    },
    {
     "name": "stderr",
     "output_type": "stream",
     "text": [
      "100%|████████████████████████████████████████████████████████████████████████████████| 160/160 [00:01<00:00, 80.81it/s]\n"
     ]
    },
    {
     "name": "stdout",
     "output_type": "stream",
     "text": [
      "L1 train error: 0.1423092931509018\n",
      "L1 validation error: 0.1882171779870987\n",
      "Begin epoch 86/150\n"
     ]
    },
    {
     "name": "stderr",
     "output_type": "stream",
     "text": [
      "100%|████████████████████████████████████████████████████████████████████████████████| 160/160 [00:02<00:00, 77.84it/s]\n"
     ]
    },
    {
     "name": "stdout",
     "output_type": "stream",
     "text": [
      "L1 train error: 0.16799110174179077\n",
      "L1 validation error: 0.21925701200962067\n",
      "Begin epoch 87/150\n"
     ]
    },
    {
     "name": "stderr",
     "output_type": "stream",
     "text": [
      "100%|████████████████████████████████████████████████████████████████████████████████| 160/160 [00:02<00:00, 79.40it/s]\n"
     ]
    },
    {
     "name": "stdout",
     "output_type": "stream",
     "text": [
      "L1 train error: 0.14455580711364746\n",
      "L1 validation error: 0.17787785828113556\n",
      "Begin epoch 88/150\n"
     ]
    },
    {
     "name": "stderr",
     "output_type": "stream",
     "text": [
      "100%|████████████████████████████████████████████████████████████████████████████████| 160/160 [00:02<00:00, 76.73it/s]\n"
     ]
    },
    {
     "name": "stdout",
     "output_type": "stream",
     "text": [
      "L1 train error: 0.14718040823936462\n",
      "L1 validation error: 0.20529966056346893\n",
      "Begin epoch 89/150\n"
     ]
    },
    {
     "name": "stderr",
     "output_type": "stream",
     "text": [
      "100%|████████████████████████████████████████████████████████████████████████████████| 160/160 [00:02<00:00, 78.69it/s]\n"
     ]
    },
    {
     "name": "stdout",
     "output_type": "stream",
     "text": [
      "L1 train error: 0.15881402790546417\n",
      "L1 validation error: 0.19986006617546082\n",
      "Begin epoch 90/150\n"
     ]
    },
    {
     "name": "stderr",
     "output_type": "stream",
     "text": [
      "100%|████████████████████████████████████████████████████████████████████████████████| 160/160 [00:02<00:00, 76.11it/s]\n"
     ]
    },
    {
     "name": "stdout",
     "output_type": "stream",
     "text": [
      "L1 train error: 0.15914110839366913\n",
      "L1 validation error: 0.2132977992296219\n",
      "Begin epoch 91/150\n"
     ]
    },
    {
     "name": "stderr",
     "output_type": "stream",
     "text": [
      "100%|████████████████████████████████████████████████████████████████████████████████| 160/160 [00:02<00:00, 74.51it/s]\n"
     ]
    },
    {
     "name": "stdout",
     "output_type": "stream",
     "text": [
      "L1 train error: 0.13453780114650726\n",
      "L1 validation error: 0.1826593577861786\n",
      "Begin epoch 92/150\n"
     ]
    },
    {
     "name": "stderr",
     "output_type": "stream",
     "text": [
      "100%|████████████████████████████████████████████████████████████████████████████████| 160/160 [00:02<00:00, 77.96it/s]\n"
     ]
    },
    {
     "name": "stdout",
     "output_type": "stream",
     "text": [
      "L1 train error: 0.13858580589294434\n",
      "L1 validation error: 0.19964717328548431\n",
      "Begin epoch 93/150\n"
     ]
    },
    {
     "name": "stderr",
     "output_type": "stream",
     "text": [
      "100%|████████████████████████████████████████████████████████████████████████████████| 160/160 [00:02<00:00, 72.27it/s]\n"
     ]
    },
    {
     "name": "stdout",
     "output_type": "stream",
     "text": [
      "L1 train error: 0.16504335403442383\n",
      "L1 validation error: 0.21858619153499603\n",
      "Begin epoch 94/150\n"
     ]
    },
    {
     "name": "stderr",
     "output_type": "stream",
     "text": [
      "100%|████████████████████████████████████████████████████████████████████████████████| 160/160 [00:02<00:00, 76.97it/s]\n"
     ]
    },
    {
     "name": "stdout",
     "output_type": "stream",
     "text": [
      "L1 train error: 0.15114794671535492\n",
      "L1 validation error: 0.1994553655385971\n",
      "Begin epoch 95/150\n"
     ]
    },
    {
     "name": "stderr",
     "output_type": "stream",
     "text": [
      "100%|████████████████████████████████████████████████████████████████████████████████| 160/160 [00:02<00:00, 74.01it/s]\n"
     ]
    },
    {
     "name": "stdout",
     "output_type": "stream",
     "text": [
      "L1 train error: 0.1361074298620224\n",
      "L1 validation error: 0.1959923654794693\n",
      "Begin epoch 96/150\n"
     ]
    },
    {
     "name": "stderr",
     "output_type": "stream",
     "text": [
      "100%|████████████████████████████████████████████████████████████████████████████████| 160/160 [00:02<00:00, 79.00it/s]\n"
     ]
    },
    {
     "name": "stdout",
     "output_type": "stream",
     "text": [
      "L1 train error: 0.1588778793811798\n",
      "L1 validation error: 0.2194259911775589\n",
      "Begin epoch 97/150\n"
     ]
    },
    {
     "name": "stderr",
     "output_type": "stream",
     "text": [
      "100%|████████████████████████████████████████████████████████████████████████████████| 160/160 [00:02<00:00, 76.30it/s]\n"
     ]
    },
    {
     "name": "stdout",
     "output_type": "stream",
     "text": [
      "L1 train error: 0.1563248634338379\n",
      "L1 validation error: 0.19435201585292816\n",
      "Begin epoch 98/150\n"
     ]
    },
    {
     "name": "stderr",
     "output_type": "stream",
     "text": [
      "100%|████████████████████████████████████████████████████████████████████████████████| 160/160 [00:02<00:00, 78.69it/s]\n"
     ]
    },
    {
     "name": "stdout",
     "output_type": "stream",
     "text": [
      "L1 train error: 0.1420973390340805\n",
      "L1 validation error: 0.19663098454475403\n",
      "Begin epoch 99/150\n"
     ]
    },
    {
     "name": "stderr",
     "output_type": "stream",
     "text": [
      "100%|████████████████████████████████████████████████████████████████████████████████| 160/160 [00:02<00:00, 74.75it/s]\n"
     ]
    },
    {
     "name": "stdout",
     "output_type": "stream",
     "text": [
      "L1 train error: 0.14775915443897247\n",
      "L1 validation error: 0.18539054691791534\n",
      "Begin epoch 100/150\n"
     ]
    },
    {
     "name": "stderr",
     "output_type": "stream",
     "text": [
      "100%|████████████████████████████████████████████████████████████████████████████████| 160/160 [00:02<00:00, 75.25it/s]\n"
     ]
    },
    {
     "name": "stdout",
     "output_type": "stream",
     "text": [
      "L1 train error: 0.13826291263103485\n",
      "L1 validation error: 0.18605157732963562\n",
      "Begin epoch 101/150\n"
     ]
    },
    {
     "name": "stderr",
     "output_type": "stream",
     "text": [
      "100%|████████████████████████████████████████████████████████████████████████████████| 160/160 [00:02<00:00, 76.65it/s]\n"
     ]
    },
    {
     "name": "stdout",
     "output_type": "stream",
     "text": [
      "L1 train error: 0.13475723564624786\n",
      "L1 validation error: 0.1781642735004425\n",
      "Begin epoch 102/150\n"
     ]
    },
    {
     "name": "stderr",
     "output_type": "stream",
     "text": [
      "100%|████████████████████████████████████████████████████████████████████████████████| 160/160 [00:02<00:00, 70.68it/s]\n"
     ]
    },
    {
     "name": "stdout",
     "output_type": "stream",
     "text": [
      "L1 train error: 0.13888558745384216\n",
      "L1 validation error: 0.21431255340576172\n",
      "Begin epoch 103/150\n"
     ]
    },
    {
     "name": "stderr",
     "output_type": "stream",
     "text": [
      "100%|████████████████████████████████████████████████████████████████████████████████| 160/160 [00:02<00:00, 74.75it/s]\n"
     ]
    },
    {
     "name": "stdout",
     "output_type": "stream",
     "text": [
      "L1 train error: 0.13840198516845703\n",
      "L1 validation error: 0.19585536420345306\n",
      "Begin epoch 104/150\n"
     ]
    },
    {
     "name": "stderr",
     "output_type": "stream",
     "text": [
      "100%|████████████████████████████████████████████████████████████████████████████████| 160/160 [00:02<00:00, 70.33it/s]\n"
     ]
    },
    {
     "name": "stdout",
     "output_type": "stream",
     "text": [
      "L1 train error: 0.14465171098709106\n",
      "L1 validation error: 0.17959679663181305\n",
      "Begin epoch 105/150\n"
     ]
    },
    {
     "name": "stderr",
     "output_type": "stream",
     "text": [
      "100%|████████████████████████████████████████████████████████████████████████████████| 160/160 [00:02<00:00, 74.99it/s]\n"
     ]
    },
    {
     "name": "stdout",
     "output_type": "stream",
     "text": [
      "L1 train error: 0.14859893918037415\n",
      "L1 validation error: 0.19870392978191376\n",
      "Begin epoch 106/150\n"
     ]
    },
    {
     "name": "stderr",
     "output_type": "stream",
     "text": [
      "100%|████████████████████████████████████████████████████████████████████████████████| 160/160 [00:02<00:00, 78.58it/s]\n"
     ]
    },
    {
     "name": "stdout",
     "output_type": "stream",
     "text": [
      "L1 train error: 0.12393298000097275\n",
      "L1 validation error: 0.17518284916877747\n",
      "Begin epoch 107/150\n"
     ]
    },
    {
     "name": "stderr",
     "output_type": "stream",
     "text": [
      "100%|████████████████████████████████████████████████████████████████████████████████| 160/160 [00:02<00:00, 69.81it/s]\n"
     ]
    },
    {
     "name": "stdout",
     "output_type": "stream",
     "text": [
      "L1 train error: 0.12178479135036469\n",
      "L1 validation error: 0.1763008087873459\n",
      "Begin epoch 108/150\n"
     ]
    },
    {
     "name": "stderr",
     "output_type": "stream",
     "text": [
      "100%|████████████████████████████████████████████████████████████████████████████████| 160/160 [00:02<00:00, 73.93it/s]\n"
     ]
    },
    {
     "name": "stdout",
     "output_type": "stream",
     "text": [
      "L1 train error: 0.13600052893161774\n",
      "L1 validation error: 0.1888454705476761\n",
      "Begin epoch 109/150\n"
     ]
    },
    {
     "name": "stderr",
     "output_type": "stream",
     "text": [
      "100%|████████████████████████████████████████████████████████████████████████████████| 160/160 [00:02<00:00, 69.88it/s]\n"
     ]
    },
    {
     "name": "stdout",
     "output_type": "stream",
     "text": [
      "L1 train error: 0.14925894141197205\n",
      "L1 validation error: 0.19808731973171234\n",
      "Begin epoch 110/150\n"
     ]
    },
    {
     "name": "stderr",
     "output_type": "stream",
     "text": [
      "100%|████████████████████████████████████████████████████████████████████████████████| 160/160 [00:02<00:00, 75.23it/s]\n"
     ]
    },
    {
     "name": "stdout",
     "output_type": "stream",
     "text": [
      "L1 train error: 0.13498908281326294\n",
      "L1 validation error: 0.17798858880996704\n",
      "Begin epoch 111/150\n"
     ]
    },
    {
     "name": "stderr",
     "output_type": "stream",
     "text": [
      "100%|████████████████████████████████████████████████████████████████████████████████| 160/160 [00:02<00:00, 73.96it/s]\n"
     ]
    },
    {
     "name": "stdout",
     "output_type": "stream",
     "text": [
      "L1 train error: 0.14077970385551453\n",
      "L1 validation error: 0.20056869089603424\n",
      "Begin epoch 112/150\n"
     ]
    },
    {
     "name": "stderr",
     "output_type": "stream",
     "text": [
      "100%|████████████████████████████████████████████████████████████████████████████████| 160/160 [00:02<00:00, 76.58it/s]\n"
     ]
    },
    {
     "name": "stdout",
     "output_type": "stream",
     "text": [
      "L1 train error: 0.154440775513649\n",
      "L1 validation error: 0.1846729964017868\n",
      "Begin epoch 113/150\n"
     ]
    },
    {
     "name": "stderr",
     "output_type": "stream",
     "text": [
      "100%|████████████████████████████████████████████████████████████████████████████████| 160/160 [00:02<00:00, 72.53it/s]\n"
     ]
    },
    {
     "name": "stdout",
     "output_type": "stream",
     "text": [
      "L1 train error: 0.15990006923675537\n",
      "L1 validation error: 0.1883406788110733\n",
      "Begin epoch 114/150\n"
     ]
    },
    {
     "name": "stderr",
     "output_type": "stream",
     "text": [
      "100%|████████████████████████████████████████████████████████████████████████████████| 160/160 [00:02<00:00, 77.79it/s]\n"
     ]
    },
    {
     "name": "stdout",
     "output_type": "stream",
     "text": [
      "L1 train error: 0.11858536303043365\n",
      "L1 validation error: 0.16480153799057007\n",
      "Begin epoch 115/150\n"
     ]
    },
    {
     "name": "stderr",
     "output_type": "stream",
     "text": [
      "100%|████████████████████████████████████████████████████████████████████████████████| 160/160 [00:02<00:00, 77.82it/s]\n"
     ]
    },
    {
     "name": "stdout",
     "output_type": "stream",
     "text": [
      "L1 train error: 0.12768009305000305\n",
      "L1 validation error: 0.1723688542842865\n",
      "Begin epoch 116/150\n"
     ]
    },
    {
     "name": "stderr",
     "output_type": "stream",
     "text": [
      "100%|████████████████████████████████████████████████████████████████████████████████| 160/160 [00:02<00:00, 74.86it/s]\n"
     ]
    },
    {
     "name": "stdout",
     "output_type": "stream",
     "text": [
      "L1 train error: 0.14032988250255585\n",
      "L1 validation error: 0.18389135599136353\n",
      "Begin epoch 117/150\n"
     ]
    },
    {
     "name": "stderr",
     "output_type": "stream",
     "text": [
      "100%|████████████████████████████████████████████████████████████████████████████████| 160/160 [00:02<00:00, 69.48it/s]\n"
     ]
    },
    {
     "name": "stdout",
     "output_type": "stream",
     "text": [
      "L1 train error: 0.14030085504055023\n",
      "L1 validation error: 0.20434308052062988\n",
      "Begin epoch 118/150\n"
     ]
    },
    {
     "name": "stderr",
     "output_type": "stream",
     "text": [
      "100%|████████████████████████████████████████████████████████████████████████████████| 160/160 [00:02<00:00, 77.86it/s]\n"
     ]
    },
    {
     "name": "stdout",
     "output_type": "stream",
     "text": [
      "L1 train error: 0.1305730938911438\n",
      "L1 validation error: 0.16936589777469635\n",
      "Begin epoch 119/150\n"
     ]
    },
    {
     "name": "stderr",
     "output_type": "stream",
     "text": [
      "100%|████████████████████████████████████████████████████████████████████████████████| 160/160 [00:02<00:00, 71.16it/s]\n"
     ]
    },
    {
     "name": "stdout",
     "output_type": "stream",
     "text": [
      "L1 train error: 0.13519547879695892\n",
      "L1 validation error: 0.19068986177444458\n",
      "Begin epoch 120/150\n"
     ]
    },
    {
     "name": "stderr",
     "output_type": "stream",
     "text": [
      "100%|████████████████████████████████████████████████████████████████████████████████| 160/160 [00:02<00:00, 73.75it/s]\n"
     ]
    },
    {
     "name": "stdout",
     "output_type": "stream",
     "text": [
      "L1 train error: 0.14041411876678467\n",
      "L1 validation error: 0.1747642308473587\n",
      "Begin epoch 121/150\n"
     ]
    },
    {
     "name": "stderr",
     "output_type": "stream",
     "text": [
      "100%|████████████████████████████████████████████████████████████████████████████████| 160/160 [00:02<00:00, 72.04it/s]\n"
     ]
    },
    {
     "name": "stdout",
     "output_type": "stream",
     "text": [
      "L1 train error: 0.11974682658910751\n",
      "L1 validation error: 0.1683385968208313\n",
      "Begin epoch 122/150\n"
     ]
    },
    {
     "name": "stderr",
     "output_type": "stream",
     "text": [
      "100%|████████████████████████████████████████████████████████████████████████████████| 160/160 [00:02<00:00, 75.24it/s]\n"
     ]
    },
    {
     "name": "stdout",
     "output_type": "stream",
     "text": [
      "L1 train error: 0.1196492463350296\n",
      "L1 validation error: 0.18100827932357788\n",
      "Begin epoch 123/150\n"
     ]
    },
    {
     "name": "stderr",
     "output_type": "stream",
     "text": [
      "100%|████████████████████████████████████████████████████████████████████████████████| 160/160 [00:02<00:00, 75.21it/s]\n"
     ]
    },
    {
     "name": "stdout",
     "output_type": "stream",
     "text": [
      "L1 train error: 0.12868469953536987\n",
      "L1 validation error: 0.18373756110668182\n",
      "Begin epoch 124/150\n"
     ]
    },
    {
     "name": "stderr",
     "output_type": "stream",
     "text": [
      "100%|████████████████████████████████████████████████████████████████████████████████| 160/160 [00:02<00:00, 77.83it/s]\n"
     ]
    },
    {
     "name": "stdout",
     "output_type": "stream",
     "text": [
      "L1 train error: 0.1323874145746231\n",
      "L1 validation error: 0.17905694246292114\n",
      "Begin epoch 125/150\n"
     ]
    },
    {
     "name": "stderr",
     "output_type": "stream",
     "text": [
      "100%|████████████████████████████████████████████████████████████████████████████████| 160/160 [00:02<00:00, 77.46it/s]\n"
     ]
    },
    {
     "name": "stdout",
     "output_type": "stream",
     "text": [
      "L1 train error: 0.14858749508857727\n",
      "L1 validation error: 0.18687684834003448\n",
      "Begin epoch 126/150\n"
     ]
    },
    {
     "name": "stderr",
     "output_type": "stream",
     "text": [
      "100%|████████████████████████████████████████████████████████████████████████████████| 160/160 [00:02<00:00, 76.53it/s]\n"
     ]
    },
    {
     "name": "stdout",
     "output_type": "stream",
     "text": [
      "L1 train error: 0.13187859952449799\n",
      "L1 validation error: 0.15834815800189972\n",
      "Begin epoch 127/150\n"
     ]
    },
    {
     "name": "stderr",
     "output_type": "stream",
     "text": [
      "100%|████████████████████████████████████████████████████████████████████████████████| 160/160 [00:02<00:00, 71.60it/s]\n"
     ]
    },
    {
     "name": "stdout",
     "output_type": "stream",
     "text": [
      "L1 train error: 0.12534041702747345\n",
      "L1 validation error: 0.16600868105888367\n",
      "Begin epoch 128/150\n"
     ]
    },
    {
     "name": "stderr",
     "output_type": "stream",
     "text": [
      "100%|████████████████████████████████████████████████████████████████████████████████| 160/160 [00:02<00:00, 79.45it/s]\n"
     ]
    },
    {
     "name": "stdout",
     "output_type": "stream",
     "text": [
      "L1 train error: 0.12092798948287964\n",
      "L1 validation error: 0.17095902562141418\n",
      "Begin epoch 129/150\n"
     ]
    },
    {
     "name": "stderr",
     "output_type": "stream",
     "text": [
      "100%|████████████████████████████████████████████████████████████████████████████████| 160/160 [00:02<00:00, 77.10it/s]\n"
     ]
    },
    {
     "name": "stdout",
     "output_type": "stream",
     "text": [
      "L1 train error: 0.12784314155578613\n",
      "L1 validation error: 0.18386705219745636\n",
      "Begin epoch 130/150\n"
     ]
    },
    {
     "name": "stderr",
     "output_type": "stream",
     "text": [
      "100%|████████████████████████████████████████████████████████████████████████████████| 160/160 [00:02<00:00, 75.86it/s]\n"
     ]
    },
    {
     "name": "stdout",
     "output_type": "stream",
     "text": [
      "L1 train error: 0.1227097287774086\n",
      "L1 validation error: 0.17665500938892365\n",
      "Begin epoch 131/150\n"
     ]
    },
    {
     "name": "stderr",
     "output_type": "stream",
     "text": [
      "100%|████████████████████████████████████████████████████████████████████████████████| 160/160 [00:02<00:00, 76.10it/s]\n"
     ]
    },
    {
     "name": "stdout",
     "output_type": "stream",
     "text": [
      "L1 train error: 0.12545594573020935\n",
      "L1 validation error: 0.17803853750228882\n",
      "Begin epoch 132/150\n"
     ]
    },
    {
     "name": "stderr",
     "output_type": "stream",
     "text": [
      "100%|████████████████████████████████████████████████████████████████████████████████| 160/160 [00:02<00:00, 73.05it/s]\n"
     ]
    },
    {
     "name": "stdout",
     "output_type": "stream",
     "text": [
      "L1 train error: 0.1282404661178589\n",
      "L1 validation error: 0.1746329963207245\n",
      "Begin epoch 133/150\n"
     ]
    },
    {
     "name": "stderr",
     "output_type": "stream",
     "text": [
      "100%|████████████████████████████████████████████████████████████████████████████████| 160/160 [00:02<00:00, 75.46it/s]\n"
     ]
    },
    {
     "name": "stdout",
     "output_type": "stream",
     "text": [
      "L1 train error: 0.1599554717540741\n",
      "L1 validation error: 0.2242034524679184\n",
      "Begin epoch 134/150\n"
     ]
    },
    {
     "name": "stderr",
     "output_type": "stream",
     "text": [
      "100%|████████████████████████████████████████████████████████████████████████████████| 160/160 [00:02<00:00, 70.28it/s]\n"
     ]
    },
    {
     "name": "stdout",
     "output_type": "stream",
     "text": [
      "L1 train error: 0.11849996447563171\n",
      "L1 validation error: 0.17623208463191986\n",
      "Begin epoch 135/150\n"
     ]
    },
    {
     "name": "stderr",
     "output_type": "stream",
     "text": [
      "100%|████████████████████████████████████████████████████████████████████████████████| 160/160 [00:02<00:00, 76.47it/s]\n"
     ]
    },
    {
     "name": "stdout",
     "output_type": "stream",
     "text": [
      "L1 train error: 0.12893901765346527\n",
      "L1 validation error: 0.18107277154922485\n",
      "Begin epoch 136/150\n"
     ]
    },
    {
     "name": "stderr",
     "output_type": "stream",
     "text": [
      "100%|████████████████████████████████████████████████████████████████████████████████| 160/160 [00:02<00:00, 69.34it/s]\n"
     ]
    },
    {
     "name": "stdout",
     "output_type": "stream",
     "text": [
      "L1 train error: 0.12947356700897217\n",
      "L1 validation error: 0.18397483229637146\n",
      "Begin epoch 137/150\n"
     ]
    },
    {
     "name": "stderr",
     "output_type": "stream",
     "text": [
      "100%|████████████████████████████████████████████████████████████████████████████████| 160/160 [00:02<00:00, 76.56it/s]\n"
     ]
    },
    {
     "name": "stdout",
     "output_type": "stream",
     "text": [
      "L1 train error: 0.12415756285190582\n",
      "L1 validation error: 0.17599228024482727\n",
      "Begin epoch 138/150\n"
     ]
    },
    {
     "name": "stderr",
     "output_type": "stream",
     "text": [
      "100%|████████████████████████████████████████████████████████████████████████████████| 160/160 [00:02<00:00, 73.69it/s]\n"
     ]
    },
    {
     "name": "stdout",
     "output_type": "stream",
     "text": [
      "L1 train error: 0.1268746554851532\n",
      "L1 validation error: 0.1634112447500229\n",
      "Begin epoch 139/150\n"
     ]
    },
    {
     "name": "stderr",
     "output_type": "stream",
     "text": [
      "100%|████████████████████████████████████████████████████████████████████████████████| 160/160 [00:02<00:00, 74.61it/s]\n"
     ]
    },
    {
     "name": "stdout",
     "output_type": "stream",
     "text": [
      "L1 train error: 0.1272561103105545\n",
      "L1 validation error: 0.16599705815315247\n",
      "Begin epoch 140/150\n"
     ]
    },
    {
     "name": "stderr",
     "output_type": "stream",
     "text": [
      "100%|████████████████████████████████████████████████████████████████████████████████| 160/160 [00:02<00:00, 76.55it/s]\n"
     ]
    },
    {
     "name": "stdout",
     "output_type": "stream",
     "text": [
      "L1 train error: 0.1298612654209137\n",
      "L1 validation error: 0.17108257114887238\n",
      "Begin epoch 141/150\n"
     ]
    },
    {
     "name": "stderr",
     "output_type": "stream",
     "text": [
      "100%|████████████████████████████████████████████████████████████████████████████████| 160/160 [00:02<00:00, 76.31it/s]\n"
     ]
    },
    {
     "name": "stdout",
     "output_type": "stream",
     "text": [
      "L1 train error: 0.15645714104175568\n",
      "L1 validation error: 0.1908418834209442\n",
      "Begin epoch 142/150\n"
     ]
    },
    {
     "name": "stderr",
     "output_type": "stream",
     "text": [
      "100%|████████████████████████████████████████████████████████████████████████████████| 160/160 [00:02<00:00, 71.79it/s]\n"
     ]
    },
    {
     "name": "stdout",
     "output_type": "stream",
     "text": [
      "L1 train error: 0.11802775412797928\n",
      "L1 validation error: 0.1704573929309845\n",
      "Begin epoch 143/150\n"
     ]
    },
    {
     "name": "stderr",
     "output_type": "stream",
     "text": [
      "100%|████████████████████████████████████████████████████████████████████████████████| 160/160 [00:02<00:00, 75.51it/s]\n"
     ]
    },
    {
     "name": "stdout",
     "output_type": "stream",
     "text": [
      "L1 train error: 0.15297000110149384\n",
      "L1 validation error: 0.20487664639949799\n",
      "Begin epoch 144/150\n"
     ]
    },
    {
     "name": "stderr",
     "output_type": "stream",
     "text": [
      "100%|████████████████████████████████████████████████████████████████████████████████| 160/160 [00:02<00:00, 77.99it/s]\n"
     ]
    },
    {
     "name": "stdout",
     "output_type": "stream",
     "text": [
      "L1 train error: 0.1299508810043335\n",
      "L1 validation error: 0.19016893208026886\n",
      "Begin epoch 145/150\n"
     ]
    },
    {
     "name": "stderr",
     "output_type": "stream",
     "text": [
      "100%|████████████████████████████████████████████████████████████████████████████████| 160/160 [00:02<00:00, 72.31it/s]\n"
     ]
    },
    {
     "name": "stdout",
     "output_type": "stream",
     "text": [
      "L1 train error: 0.12087375670671463\n",
      "L1 validation error: 0.1931886225938797\n",
      "Begin epoch 146/150\n"
     ]
    },
    {
     "name": "stderr",
     "output_type": "stream",
     "text": [
      "100%|████████████████████████████████████████████████████████████████████████████████| 160/160 [00:02<00:00, 73.04it/s]\n"
     ]
    },
    {
     "name": "stdout",
     "output_type": "stream",
     "text": [
      "L1 train error: 0.12399359792470932\n",
      "L1 validation error: 0.17883051931858063\n",
      "Begin epoch 147/150\n"
     ]
    },
    {
     "name": "stderr",
     "output_type": "stream",
     "text": [
      "100%|████████████████████████████████████████████████████████████████████████████████| 160/160 [00:02<00:00, 79.23it/s]\n"
     ]
    },
    {
     "name": "stdout",
     "output_type": "stream",
     "text": [
      "L1 train error: 0.14534366130828857\n",
      "L1 validation error: 0.19175511598587036\n",
      "Begin epoch 148/150\n"
     ]
    },
    {
     "name": "stderr",
     "output_type": "stream",
     "text": [
      "100%|████████████████████████████████████████████████████████████████████████████████| 160/160 [00:02<00:00, 76.69it/s]\n"
     ]
    },
    {
     "name": "stdout",
     "output_type": "stream",
     "text": [
      "L1 train error: 0.12324099987745285\n",
      "L1 validation error: 0.1842464655637741\n",
      "Begin epoch 149/150\n"
     ]
    },
    {
     "name": "stderr",
     "output_type": "stream",
     "text": [
      "100%|████████████████████████████████████████████████████████████████████████████████| 160/160 [00:02<00:00, 72.03it/s]\n"
     ]
    },
    {
     "name": "stdout",
     "output_type": "stream",
     "text": [
      "L1 train error: 0.13147832453250885\n",
      "L1 validation error: 0.17707838118076324\n",
      "Begin epoch 150/150\n"
     ]
    },
    {
     "name": "stderr",
     "output_type": "stream",
     "text": [
      "100%|████████████████████████████████████████████████████████████████████████████████| 160/160 [00:02<00:00, 71.90it/s]\n"
     ]
    },
    {
     "name": "stdout",
     "output_type": "stream",
     "text": [
      "L1 train error: 0.12753254175186157\n",
      "L1 validation error: 0.16482806205749512\n"
     ]
    }
   ],
   "source": [
    "def count_parameters(model):\n",
    "    return sum(p.numel() for p in model.parameters() if p.requires_grad)\n",
    "\n",
    "hidden_size = 30\n",
    "n_layers = 5\n",
    "model_3_1 = Model_3_1(hidden_size, n_layers, batch_size).to(device)\n",
    "print(f'Model has {count_parameters(model_3_1)} parameters')\n",
    "epochs = 150\n",
    "fit_3_1(model_3_1, gpu_train_dl, gpu_valid_dl, epochs)"
   ]
  },
  {
   "cell_type": "code",
   "execution_count": 46,
   "id": "3bf76aef",
   "metadata": {},
   "outputs": [
    {
     "data": {
      "text/plain": [
       "Text(0, 0.5, 'loss value')"
      ]
     },
     "execution_count": 46,
     "metadata": {},
     "output_type": "execute_result"
    },
    {
     "data": {
      "image/png": "[encoded data removed]",
      "text/plain": [
       "<Figure size 432x288 with 1 Axes>"
      ]
     },
     "metadata": {
      "needs_background": "light"
     },
     "output_type": "display_data"
    }
   ],
   "source": [
    "import matplotlib.pyplot as plt\n",
    "\n",
    "train_loss_graph_cpu = [i.to(device='cpu') for i in train_loss_graph]\n",
    "\n",
    "plt.plot(train_loss_graph_cpu)\n",
    "plt.title(\"training loss\")\n",
    "plt.xlabel(\"epoch number\")\n",
    "plt.ylabel(\"loss value\")"
   ]
  },
  {
   "cell_type": "code",
   "execution_count": 47,
   "id": "04599600",
   "metadata": {},
   "outputs": [
    {
     "data": {
      "text/plain": [
       "Text(0, 0.5, 'loss value')"
      ]
     },
     "execution_count": 47,
     "metadata": {},
     "output_type": "execute_result"
    },
    {
     "data": {
      "image/png": "[encoded data removed]",
      "text/plain": [
       "<Figure size 432x288 with 1 Axes>"
      ]
     },
     "metadata": {
      "needs_background": "light"
     },
     "output_type": "display_data"
    }
   ],
   "source": [
    "val_loss_graph_cpu = [i.to(device='cpu') for i in val_loss_graph]\n",
    "\n",
    "plt.plot(val_loss_graph_cpu)\n",
    "plt.title(\"validation loss\")\n",
    "plt.xlabel(\"epoch number\")\n",
    "plt.ylabel(\"loss value\")"
   ]
  },
  {
   "cell_type": "markdown",
   "id": "da139d5b",
   "metadata": {},
   "source": [
    "## Evaluation"
   ]
  },
  {
   "cell_type": "code",
   "execution_count": 15,
   "id": "ebed03ba",
   "metadata": {},
   "outputs": [],
   "source": [
    "#todo"
   ]
  },
  {
   "cell_type": "code",
   "execution_count": null,
   "id": "17af7ec3",
   "metadata": {},
   "outputs": [],
   "source": []
  },
  {
   "cell_type": "code",
   "execution_count": null,
   "id": "43a3422e",
   "metadata": {},
   "outputs": [],
   "source": []
  },
  {
   "cell_type": "markdown",
   "id": "9a59808b",
   "metadata": {},
   "source": [
    "# Task 3.2"
   ]
  },
  {
   "cell_type": "markdown",
   "id": "f64a855d",
   "metadata": {},
   "source": [
    "## Data Handling and Preprocessing"
   ]
  },
  {
   "cell_type": "code",
   "execution_count": 16,
   "id": "5b935865",
   "metadata": {},
   "outputs": [],
   "source": [
    "#todo"
   ]
  },
  {
   "cell_type": "code",
   "execution_count": null,
   "id": "0ec19a8d",
   "metadata": {},
   "outputs": [],
   "source": []
  },
  {
   "cell_type": "code",
   "execution_count": null,
   "id": "8f189d19",
   "metadata": {},
   "outputs": [],
   "source": []
  },
  {
   "cell_type": "markdown",
   "id": "867aabb3",
   "metadata": {},
   "source": [
    "## Model Implementation"
   ]
  },
  {
   "cell_type": "code",
   "execution_count": 65,
   "id": "c032f93d",
   "metadata": {},
   "outputs": [],
   "source": [
    "# Task 3.2: Using the positions of positively charged particle p1 during a simulation up to t=10 +- 1,\n",
    "# continue its trajectory for an additional 4 +- 2 seconds.\n",
    "# input = t locations (x, y) of p1 particle, value of t is not fixed\n",
    "\n",
    "class loadContinued(Dataset):\n",
    "    def __init__(self, sim, cont_positions):\n",
    "        self.sim = sim\n",
    "        self.cont_positions = cont_positions\n",
    "    \n",
    "    def __len__(self):\n",
    "        return len(self.sim)\n",
    "    \n",
    "    def __getitem__(self, index):\n",
    "        return self.sim[index], self.cont_positions[index]\n",
    "\n",
    "# Create data loader\n",
    "def cpu_collate(data):\n",
    "    \n",
    "    # Sort data in order of decreasing sequence length\n",
    "    data = list(reversed(sorted(data, key=lambda d: len(d[0]))))\n",
    "    xs = pad_sequence([torch.tensor(x).float() for x, _ in data], batch_first=True)\n",
    "    ys = torch.stack([torch.tensor(y).float() for _, y in data])\n",
    "    return xs, ys\n",
    "\n",
    "\n",
    "# Create data loader\n",
    "def gpu_collate(data):\n",
    "    # Sort data in order of decreasing sequence length\n",
    "    data = list(reversed(sorted(data, key=lambda d: len(d[0]))))\n",
    "    xs = pad_sequence([torch.tensor(x).float() for x, _ in data], batch_first=True)\n",
    "    ys = torch.stack([torch.tensor(y).float() for _, y in data])\n",
    "    return xs.to(device), ys.to(device)\n",
    "\n",
    "\n",
    "# No batch size since the length of y differs for each simulation.\n",
    "cpu_cont_train_dl = DataLoader(loadContinued(simulation_train_task32, simulation_continued_train), shuffle=True, collate_fn=cpu_collate)\n",
    "cpu_cont_valid_dl = DataLoader(loadContinued(simulation_valid, simulation_continued_valid), shuffle=True, collate_fn=cpu_collate)\n",
    "\n",
    "gpu_cont_train_dl = DataLoader(loadContinued(simulation_train_task32, simulation_continued_train), shuffle=True, collate_fn=gpu_collate)\n",
    "gpu_cont_valid_dl = DataLoader(loadContinued(simulation_valid, simulation_continued_valid), shuffle=True, collate_fn=gpu_collate)\n"
   ]
  },
  {
   "cell_type": "code",
   "execution_count": 66,
   "id": "405dd92a",
   "metadata": {},
   "outputs": [
    {
     "name": "stdout",
     "output_type": "stream",
     "text": [
      "150\n",
      "150\n",
      "103\n",
      "54\n"
     ]
    }
   ],
   "source": [
    "print(len(simulation_train_task32))\n",
    "print(len(simulation_continued_train))\n",
    "print(len(simulation_train_task32[0]))\n",
    "print(len(simulation_continued_train[0]))"
   ]
  },
  {
   "cell_type": "code",
   "execution_count": 68,
   "id": "e452fc97",
   "metadata": {},
   "outputs": [
    {
     "name": "stdout",
     "output_type": "stream",
     "text": [
      "torch.Size([1, 93, 2])\n",
      "torch.Size([1, 48, 2])\n",
      "tensor([[[ 3.1571e-02,  2.3559e+00],\n",
      "         [ 3.6255e-02,  2.2386e+00],\n",
      "         [ 4.1434e-02,  2.1090e+00],\n",
      "         [ 4.6921e-02,  1.9663e+00],\n",
      "         [ 5.2279e-02,  1.8091e+00],\n",
      "         [ 5.6056e-02,  1.6351e+00],\n",
      "         [ 4.9243e-02,  1.4449e+00],\n",
      "         [ 3.2261e-02,  1.2609e+00],\n",
      "         [ 1.4840e-02,  1.0838e+00],\n",
      "         [-1.5189e-03,  9.1078e-01],\n",
      "         [-1.6327e-02,  7.4046e-01],\n",
      "         [-2.9309e-02,  5.7192e-01],\n",
      "         [-4.0267e-02,  4.0452e-01],\n",
      "         [-4.9023e-02,  2.3780e-01],\n",
      "         [-5.5414e-02,  7.1439e-02],\n",
      "         [-5.9274e-02, -9.4787e-02],\n",
      "         [-6.0437e-02, -2.6100e-01],\n",
      "         [-5.8732e-02, -4.2721e-01],\n",
      "         [-5.3985e-02, -5.9334e-01],\n",
      "         [-4.6018e-02, -7.5921e-01],\n",
      "         [-3.4654e-02, -9.2450e-01],\n",
      "         [-1.9719e-02, -1.0888e+00],\n",
      "         [-1.0503e-03, -1.2515e+00],\n",
      "         [ 2.1497e-02, -1.4120e+00],\n",
      "         [ 4.8036e-02, -1.5696e+00],\n",
      "         [ 7.8629e-02, -1.7235e+00],\n",
      "         [ 1.1328e-01, -1.8729e+00],\n",
      "         [ 1.5193e-01, -2.0170e+00],\n",
      "         [ 1.9444e-01, -2.1552e+00],\n",
      "         [ 2.4062e-01, -2.2868e+00],\n",
      "         [ 2.9021e-01, -2.4113e+00],\n",
      "         [ 3.4293e-01, -2.5283e+00],\n",
      "         [ 3.9848e-01, -2.6374e+00],\n",
      "         [ 4.5653e-01, -2.7383e+00],\n",
      "         [ 5.1678e-01, -2.8308e+00],\n",
      "         [ 5.7889e-01, -2.9146e+00],\n",
      "         [ 6.4257e-01, -2.9898e+00],\n",
      "         [ 7.0752e-01, -3.0560e+00],\n",
      "         [ 7.7345e-01, -3.1133e+00],\n",
      "         [ 8.4009e-01, -3.1616e+00],\n",
      "         [ 9.0717e-01, -3.2009e+00],\n",
      "         [ 9.7444e-01, -3.2310e+00],\n",
      "         [ 1.0416e+00, -3.2521e+00],\n",
      "         [ 1.1086e+00, -3.2639e+00],\n",
      "         [ 1.1749e+00, -3.2666e+00],\n",
      "         [ 1.2405e+00, -3.2600e+00],\n",
      "         [ 1.3051e+00, -3.2441e+00],\n",
      "         [ 1.3684e+00, -3.2190e+00],\n",
      "         [ 1.4303e+00, -3.1845e+00],\n",
      "         [ 1.4904e+00, -3.1405e+00],\n",
      "         [ 1.5485e+00, -3.0872e+00],\n",
      "         [ 1.6044e+00, -3.0242e+00],\n",
      "         [ 1.6577e+00, -2.9517e+00],\n",
      "         [ 1.7081e+00, -2.8694e+00],\n",
      "         [ 1.7552e+00, -2.7773e+00],\n",
      "         [ 1.7987e+00, -2.6752e+00],\n",
      "         [ 1.8380e+00, -2.5630e+00],\n",
      "         [ 1.8727e+00, -2.4405e+00],\n",
      "         [ 1.9018e+00, -2.3075e+00],\n",
      "         [ 1.9246e+00, -2.1641e+00],\n",
      "         [ 1.9398e+00, -2.0100e+00],\n",
      "         [ 1.9457e+00, -1.8455e+00],\n",
      "         [ 1.9398e+00, -1.6719e+00],\n",
      "         [ 1.9196e+00, -1.4919e+00],\n",
      "         [ 1.8842e+00, -1.3107e+00],\n",
      "         [ 1.8355e+00, -1.1331e+00],\n",
      "         [ 1.7768e+00, -9.6140e-01],\n",
      "         [ 1.7108e+00, -7.9604e-01],\n",
      "         [ 1.6391e+00, -6.3664e-01],\n",
      "         [ 1.5627e+00, -4.8269e-01],\n",
      "         [ 1.4823e+00, -3.3365e-01],\n",
      "         [ 1.3982e+00, -1.8903e-01],\n",
      "         [ 1.3109e+00, -4.8383e-02],\n",
      "         [ 1.2203e+00,  8.8688e-02],\n",
      "         [ 1.1266e+00,  2.2256e-01],\n",
      "         [ 1.0298e+00,  3.5360e-01],\n",
      "         [ 9.2996e-01,  4.8216e-01],\n",
      "         [ 8.2696e-01,  6.0861e-01],\n",
      "         [ 7.2070e-01,  7.3333e-01],\n",
      "         [ 6.1103e-01,  8.5676e-01],\n",
      "         [ 4.9770e-01,  9.7942e-01],\n",
      "         [ 3.8038e-01,  1.1020e+00],\n",
      "         [ 2.5857e-01,  1.2254e+00],\n",
      "         [ 1.3152e-01,  1.3511e+00],\n",
      "         [-1.7140e-03,  1.4832e+00],\n",
      "         [-1.2737e-01,  1.6244e+00],\n",
      "         [-2.3701e-01,  1.7542e+00],\n",
      "         [-3.3693e-01,  1.8716e+00],\n",
      "         [-4.2894e-01,  1.9778e+00],\n",
      "         [-5.1391e-01,  2.0735e+00],\n",
      "         [-5.9238e-01,  2.1594e+00],\n",
      "         [-6.6468e-01,  2.2357e+00],\n",
      "         [-7.3104e-01,  2.3029e+00]]], device='cuda:0')\n",
      "tensor([[[-0.7916,  2.3613],\n",
      "         [-0.8466,  2.4109],\n",
      "         [-0.8960,  2.4520],\n",
      "         [-0.9399,  2.4848],\n",
      "         [-0.9783,  2.5094],\n",
      "         [-1.0113,  2.5259],\n",
      "         [-1.0388,  2.5343],\n",
      "         [-1.0609,  2.5349],\n",
      "         [-1.0774,  2.5276],\n",
      "         [-1.0885,  2.5125],\n",
      "         [-1.0939,  2.4896],\n",
      "         [-1.0936,  2.4590],\n",
      "         [-1.0875,  2.4208],\n",
      "         [-1.0756,  2.3749],\n",
      "         [-1.0576,  2.3214],\n",
      "         [-1.0335,  2.2603],\n",
      "         [-1.0029,  2.1916],\n",
      "         [-0.9657,  2.1154],\n",
      "         [-0.9216,  2.0318],\n",
      "         [-0.8703,  1.9407],\n",
      "         [-0.8113,  1.8426],\n",
      "         [-0.7442,  1.7374],\n",
      "         [-0.6684,  1.6259],\n",
      "         [-0.5832,  1.5087],\n",
      "         [-0.4880,  1.3872],\n",
      "         [-0.3828,  1.2636],\n",
      "         [-0.2686,  1.1402],\n",
      "         [-0.1477,  1.0192],\n",
      "         [-0.0228,  0.9012],\n",
      "         [ 0.1041,  0.7857],\n",
      "         [ 0.2315,  0.6720],\n",
      "         [ 0.3587,  0.5593],\n",
      "         [ 0.4851,  0.4467],\n",
      "         [ 0.6105,  0.3337],\n",
      "         [ 0.7345,  0.2196],\n",
      "         [ 0.8571,  0.1040],\n",
      "         [ 0.9782, -0.0138],\n",
      "         [ 1.0974, -0.1343],\n",
      "         [ 1.2147, -0.2578],\n",
      "         [ 1.3299, -0.3850],\n",
      "         [ 1.4425, -0.5165],\n",
      "         [ 1.5520, -0.6528],\n",
      "         [ 1.6578, -0.7947],\n",
      "         [ 1.7584, -0.9426],\n",
      "         [ 1.8521, -1.0969],\n",
      "         [ 1.9361, -1.2569],\n",
      "         [ 2.0079, -1.4205],\n",
      "         [ 2.0658, -1.5841]]], device='cuda:0')\n"
     ]
    }
   ],
   "source": [
    "for x, y in gpu_cont_train_dl:\n",
    "    print(x.shape)\n",
    "    print(y.shape)\n",
    "    print(x)\n",
    "    print(y)\n",
    "    break"
   ]
  },
  {
   "cell_type": "code",
   "execution_count": 136,
   "id": "f80b1ca2",
   "metadata": {},
   "outputs": [
    {
     "name": "stdout",
     "output_type": "stream",
     "text": [
      "torch.Size([5, 2])\n"
     ]
    }
   ],
   "source": [
    "class Model_3_2(torch.nn.Module):\n",
    "    def __init__(self, hidden_dim, n_layers, batch_size):\n",
    "        super(Model_3_2, self).__init__()\n",
    "        # input/output size are fixed based on the task description\n",
    "        input_dim = 2\n",
    "        output_dim = 2\n",
    "\n",
    "        self.hidden_dim = hidden_dim\n",
    "        self.n_layers = n_layers\n",
    "        self.batch_size = batch_size\n",
    "        \n",
    "        self.gru = torch.nn.GRU(input_dim, hidden_dim, n_layers)\n",
    "        self.relu = torch.nn.ReLU()\n",
    "        self.fc = torch.nn.Linear(hidden_dim, output_dim)\n",
    "        \n",
    "    def forward(self, x, inx):\n",
    "        h = self.init_hidden(x)\n",
    "        x = x.to(device)\n",
    "        out, h = self.gru(x, h)\n",
    "        out = torch.mul(out, (inx+1)/100)\n",
    "        out = self.fc(self.relu(out[:,-1]))\n",
    "        return out\n",
    "    \n",
    "    def init_hidden(self, x):\n",
    "        # from example of https://pytorch.org/docs/stable/generated/torch.nn.GRU.html\n",
    "        h0 = torch.randn(self.n_layers, x.shape[1], self.hidden_dim).to(device)\n",
    "        return h0\n",
    "\n",
    "xs = xs.to(device)\n",
    "model_3_2 = Model_3_2(30, 1, 1).to(device)\n",
    "print(model_3_2(xs, 1).shape)"
   ]
  },
  {
   "cell_type": "code",
   "execution_count": 140,
   "id": "fdbf2800",
   "metadata": {},
   "outputs": [],
   "source": [
    "from tqdm import tqdm\n",
    "\n",
    "train_loss_graph, val_loss_graph = list(), list()\n",
    "\n",
    "def avg_cont_err(model, dl, loss_fn=torch.nn.L1Loss(reduction='sum')):\n",
    "    loss = 0\n",
    "    n_samples = 0\n",
    "    for x, y in dl:\n",
    "        for inx, y_i in enumerate(y[0]):\n",
    "            y_pred = model(x, inx)\n",
    "            y_i = y_i.view(-1)\n",
    "            loss += loss_fn(y_i, y_pred)\n",
    "        n_samples += y.shape[1]\n",
    "    return loss / n_samples\n",
    "\n",
    "\n",
    "def fit_3_2(model, train_dl, valid_dl, n_epochs):\n",
    "    optimizer = torch.optim.SGD(model.parameters(), lr=1e-2, momentum=0.9)\n",
    "    loss_func = torch.nn.L1Loss()\n",
    "    loss_func = loss_func.to(device)\n",
    "\n",
    "    for i in range(epochs):\n",
    "        print(f'Begin epoch {i + 1}/{n_epochs}')\n",
    "        for x, y in tqdm(train_dl):\n",
    "            for inx, y_i in enumerate(y[0]):\n",
    "                y_pred = model(x, inx)\n",
    "                y_i = y_i.view(-1)\n",
    "                loss = loss_func(y_i, y_pred)\n",
    "                loss.backward()\n",
    "                optimizer.step()\n",
    "                            \n",
    "            optimizer.zero_grad()\n",
    "        \n",
    "        with torch.no_grad():\n",
    "            train_err = avg_cont_err(model, train_dl)\n",
    "            val_err = avg_cont_err(model, valid_dl)\n",
    "            print(f'L1 train error: {train_err}')\n",
    "            print(f'L1 validation error: {val_err}')\n",
    "            train_loss_graph.append(train_err)\n",
    "            val_loss_graph.append(val_err)\n"
   ]
  },
  {
   "cell_type": "code",
   "execution_count": null,
   "id": "04ade09e",
   "metadata": {},
   "outputs": [
    {
     "name": "stdout",
     "output_type": "stream",
     "text": [
      "Model has 25442 parameters\n",
      "Begin epoch 1/10\n"
     ]
    },
    {
     "name": "stderr",
     "output_type": "stream",
     "text": [
      "  0%|                                                                                          | 0/150 [00:00<?, ?it/s]C:\\Users\\Pim\\anaconda3\\envs\\deeplearning\\lib\\site-packages\\torch\\nn\\modules\\loss.py:96: UserWarning: Using a target size (torch.Size([1, 2])) that is different to the input size (torch.Size([2])). This will likely lead to incorrect results due to broadcasting. Please ensure they have the same size.\n",
      "  return F.l1_loss(input, target, reduction=self.reduction)\n",
      "100%|████████████████████████████████████████████████████████████████████████████████| 150/150 [00:25<00:00,  5.84it/s]\n"
     ]
    },
    {
     "name": "stdout",
     "output_type": "stream",
     "text": [
      "L1 train error: 2.8928587436676025\n",
      "L1 validation error: 3.0642333030700684\n",
      "Begin epoch 2/10\n"
     ]
    },
    {
     "name": "stderr",
     "output_type": "stream",
     "text": [
      "100%|████████████████████████████████████████████████████████████████████████████████| 150/150 [00:25<00:00,  5.84it/s]\n"
     ]
    },
    {
     "name": "stdout",
     "output_type": "stream",
     "text": [
      "L1 train error: 2.869567632675171\n",
      "L1 validation error: 3.0430619716644287\n",
      "Begin epoch 3/10\n"
     ]
    },
    {
     "name": "stderr",
     "output_type": "stream",
     "text": [
      "100%|████████████████████████████████████████████████████████████████████████████████| 150/150 [00:25<00:00,  5.96it/s]\n"
     ]
    }
   ],
   "source": [
    "def count_parameters(model):\n",
    "    return sum(p.numel() for p in model.parameters() if p.requires_grad)\n",
    "\n",
    "hidden_size = 30\n",
    "n_layers = 5\n",
    "model_3_2 = Model_3_2(hidden_size, n_layers, 1).to(device)\n",
    "print(f'Model has {count_parameters(model_3_2)} parameters')\n",
    "epochs = 10\n",
    "fit_3_2(model_3_2, gpu_cont_train_dl, gpu_cont_valid_dl, epochs)"
   ]
  },
  {
   "cell_type": "code",
   "execution_count": null,
   "id": "2d63e707",
   "metadata": {},
   "outputs": [],
   "source": [
    "test_idx = np.random.randint(150)\n",
    "x=torch.Tensor(simulation_train[test_idx])\n",
    "x=torch.unsqueeze(x, 0)\n",
    "y_pred = list()\n",
    "for i in range(len(simulation_continued_train[test_idx])):\n",
    "    y_pred.append(model_3_2(x, i))\n",
    "\n",
    "new_y_pred = list()\n",
    "for y_ii in y_pred:\n",
    "    new_y_pred.append(y_ii[0].to(device='cpu').detach().numpy())\n",
    "    \n",
    "plot_example(simulation_train[test_idx], np.array(new_y_pred))"
   ]
  },
  {
   "cell_type": "code",
   "execution_count": null,
   "id": "3d7e282b",
   "metadata": {},
   "outputs": [],
   "source": [
    "plot_example(simulation_train[test_idx], simulation_continued_train[test_idx])"
   ]
  },
  {
   "cell_type": "markdown",
   "id": "826fae3f",
   "metadata": {},
   "source": [
    "## Model Training"
   ]
  },
  {
   "cell_type": "code",
   "execution_count": 18,
   "id": "db3fce95",
   "metadata": {},
   "outputs": [],
   "source": [
    "#todo"
   ]
  },
  {
   "cell_type": "code",
   "execution_count": null,
   "id": "41ddb47d",
   "metadata": {},
   "outputs": [],
   "source": []
  },
  {
   "cell_type": "code",
   "execution_count": null,
   "id": "4ee069fc",
   "metadata": {},
   "outputs": [],
   "source": []
  },
  {
   "cell_type": "markdown",
   "id": "c87278a2",
   "metadata": {},
   "source": [
    "## Evaluation"
   ]
  },
  {
   "cell_type": "code",
   "execution_count": 19,
   "id": "2cbb6137",
   "metadata": {},
   "outputs": [],
   "source": [
    "#todo"
   ]
  },
  {
   "cell_type": "code",
   "execution_count": null,
   "id": "2cf6f4b7",
   "metadata": {},
   "outputs": [],
   "source": []
  },
  {
   "cell_type": "code",
   "execution_count": null,
   "id": "736c10d8",
   "metadata": {},
   "outputs": [],
   "source": []
  }
 ],
 "metadata": {
  "interpreter": {
   "hash": "27c164e33ceb3372f7d05cab3554d1b7111f26924d32637c2cc5dd0d753ab5f1"
  },
  "kernelspec": {
   "display_name": "Python 3 (ipykernel)",
   "language": "python",
   "name": "python3"
  },
  "language_info": {
   "codemirror_mode": {
    "name": "ipython",
    "version": 3
   },
   "file_extension": ".py",
   "mimetype": "text/x-python",
   "name": "python",
   "nbconvert_exporter": "python",
   "pygments_lexer": "ipython3",
   "version": "3.9.12"
  }
 },
 "nbformat": 4,
 "nbformat_minor": 5
}

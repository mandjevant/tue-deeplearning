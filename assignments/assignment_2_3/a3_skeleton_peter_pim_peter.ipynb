{
  "cells": [
    {
      "cell_type": "markdown",
      "id": "963690b2",
      "metadata": {
        "id": "963690b2"
      },
      "source": [
        "<a href=\"https://colab.research.google.com/github/vlamen/tue-deeplearning/blob/main/assignments/assignment_2_3/a3_skeleton.ipynb\" target=\"_parent\"><img src=\"https://colab.research.google.com/assets/colab-badge.svg\" alt=\"Open In Colab\"/></a>"
      ]
    },
    {
      "cell_type": "markdown",
      "id": "bd8459f1",
      "metadata": {
        "id": "bd8459f1"
      },
      "source": [
        "# Group Number:\n",
        "\n",
        "# Student 1:\n",
        "\n",
        "# Student 2:\n",
        "\n",
        "# Student 3:"
      ]
    },
    {
      "cell_type": "markdown",
      "id": "dde28458",
      "metadata": {
        "id": "dde28458"
      },
      "source": [
        "# Downloading Data and Preliminaries"
      ]
    },
    {
      "cell_type": "code",
      "execution_count": 2,
      "id": "7d0580a5",
      "metadata": {
        "id": "7d0580a5"
      },
      "outputs": [],
      "source": [
        "import pickle\n",
        "import matplotlib.pyplot as plt\n",
        "import matplotlib\n",
        "import numpy as np\n",
        "\n",
        "from zipfile import ZipFile\n",
        "import requests\n",
        "import io"
      ]
    },
    {
      "cell_type": "code",
      "execution_count": 3,
      "id": "8ce00edc",
      "metadata": {
        "id": "8ce00edc"
      },
      "outputs": [],
      "source": [
        "def load_zip(url):\n",
        "    response = requests.get(url)\n",
        "    response.raise_for_status()\n",
        "    zipf = ZipFile(io.BytesIO(response.content))\n",
        "    return {name: zipf.read(name) for name in zipf.namelist()}\n",
        "\n",
        "def load_pickle(zipfile, fn):\n",
        "    return pickle.load(io.BytesIO(zipfile[fn]))"
      ]
    },
    {
      "cell_type": "code",
      "execution_count": 4,
      "id": "bb77a4be",
      "metadata": {
        "id": "bb77a4be"
      },
      "outputs": [],
      "source": [
        "data = load_zip('https://surfdrive.surf.nl/files/index.php/s/cwqGaS22KXgnXtg/download')\n",
        "\n",
        "    \n",
        "\"\"\"\n",
        "simulation_{train, valid, test} is stored as a list of simulations. \n",
        "Each simulation is a numpy array of size (t, 2): For t timesteps an x and y coordinate of our particle.\n",
        "\"\"\"\n",
        "simulation_train = load_pickle(data, 'data/train/simulation.pickle')  # 3.1 + 3.2\n",
        "simulation_valid = load_pickle(data, 'data/valid/simulation.pickle')  # 3.1 + 3.2\n",
        "simulation_test = load_pickle(data, 'data/test/simulation.pickle')  # 3.1 + 3.2\n",
        "\n",
        "\"\"\"\n",
        "charges_{train, valid, test} is stored as a list of simulation-charges. \n",
        "These charges are stored as numpy arrays of size (3,): One value for each charge.\n",
        "\"\"\"\n",
        "charges_train = load_pickle(data, 'data/train/charges.pickle')  # 3.1\n",
        "charges_valid = load_pickle(data, 'data/valid/charges.pickle')  # 3.1\n",
        "charges_test = load_pickle(data, 'data/test/charges.pickle')  # 3.1\n",
        "\n",
        "\"\"\"\n",
        "simulation_continued_{train, valid, test} is stored as a list of simulations. \n",
        "Each simulation is a numpy array of size (t, 2): For t timesteps an x and y coordinate of our particle.\n",
        "\"\"\"\n",
        "simulation_continued_train = load_pickle(data, 'data/train/simulation_continued.pickle')  # 3.2\n",
        "simulation_continued_valid = load_pickle(data, 'data/valid/simulation_continued.pickle')  # 3.2\n",
        "simulation_continued_test = load_pickle(data, 'data/test/simulation_continued.pickle')  # 3.2\n",
        "\n",
        "\"\"\"\n",
        "Note that the indices are shared throughout the different lists, e.g., for the 4th training simulation:\n",
        "simulation_train[3] contains its initial simulation\n",
        "charges_train[3] contains the charges associated with the simulation\n",
        "simulation_continued_train[3] contains the continuation of the simulation \n",
        "                --> simulation_continued_train[3][0] is the state after simulation_train[3][-1]\n",
        "\"\"\"\n",
        "pass"
      ]
    },
    {
      "cell_type": "code",
      "execution_count": 5,
      "id": "10a3438a",
      "metadata": {
        "colab": {
          "base_uri": "https://localhost:8080/"
        },
        "id": "10a3438a",
        "outputId": "d5ea64ce-b88c-48d9-a788-3834f6f3f42e"
      },
      "outputs": [
        {
          "output_type": "stream",
          "name": "stdout",
          "text": [
            "Overview of no. datapoints:\n",
            "\n",
            "Task 3.1:\n",
            "800 train, 100 validation, 100 test simulations\n",
            "800 train, 100 validation, 100 test charge pairs\n",
            "\n",
            "Task 3.2:\n",
            "Since len(simulation_continued_train) < len(simulation_train), we can only use a subset of initial simulations\n",
            "We cut simulation_train down to the first 150 samples in simulation_train_task32\n",
            "150 train, 100 validation, 100 test simulations\n",
            "150 train, 100 validation, 100 test continuations\n",
            "\n",
            "For task 3.1, use:\n",
            "simulation_train + charges_train\n",
            "simulation_valid + charges_valid\n",
            "simulation_test + charges_test\n",
            "\n",
            "For task 3.2, use:\n",
            "simulation_train_task32 + simulation_continued_train\n",
            "simulation_valid + simulation_continued_valid\n",
            "simulation_test + simulation_continued_test\n",
            "\n"
          ]
        }
      ],
      "source": [
        "print('Overview of no. datapoints:\\n')\n",
        "\n",
        "print('Task 3.1:')\n",
        "print(f'{len(simulation_train)} train, {len(simulation_valid)} validation, {len(simulation_test)} test simulations')\n",
        "print(f'{len(charges_train)} train, {len(charges_valid)} validation, {len(charges_test)} test charge pairs')\n",
        "print()\n",
        "\n",
        "print('Task 3.2:')\n",
        "print('Since len(simulation_continued_train) < len(simulation_train), we can only use a subset of initial simulations')\n",
        "print('We cut simulation_train down to the first 150 samples in simulation_train_task32')\n",
        "simulation_train_task32 = simulation_train[:150]\n",
        "print(f'{len(simulation_train_task32)} train, {len(simulation_valid)} validation, {len(simulation_test)} test simulations')\n",
        "print(f'{len(simulation_continued_train)} train, {len(simulation_continued_valid)} validation, {len(simulation_continued_test)} test continuations')\n",
        "\n",
        "print(f\"\"\"\n",
        "For task 3.1, use:\n",
        "{chr(10).join([\"simulation_{} + charges_{}\".format(t, t) for t in [\"train\", \"valid\", \"test\"]])}\n",
        "\n",
        "For task 3.2, use:\n",
        "{chr(10).join([\"simulation_{} + simulation_continued_{}\".format(*((t[0], t[1]) if isinstance(t, tuple) else (t, t))) for t in [(\"train_task32\", \"train\"), \"valid\", \"test\"]])}\n",
        "\"\"\")\n"
      ]
    },
    {
      "cell_type": "code",
      "execution_count": 6,
      "id": "3cfafdb3",
      "metadata": {
        "colab": {
          "base_uri": "https://localhost:8080/"
        },
        "id": "3cfafdb3",
        "outputId": "5552fcf2-6654-4ff4-bb57-4a2c569c138c"
      },
      "outputs": [
        {
          "output_type": "stream",
          "name": "stdout",
          "text": [
            "Print some shapes:\n",
            "\n",
            "simulation_train[0].shape: (103, 2) -> (t, 2), (x, y) at every t)\n",
            "charges_train[0].shape: (3,) -> charges for the simulation\n",
            "simulation_continued_train[0].shape: (54, 2) -> (t, 2), (x, y) at every t)\n",
            "----\n",
            "\n",
            "simulation_train[1].shape: (97, 2) -> (t, 2), (x, y) at every t)\n",
            "charges_train[1].shape: (3,) -> charges for the simulation\n",
            "simulation_continued_train[1].shape: (45, 2) -> (t, 2), (x, y) at every t)\n",
            "----\n",
            "\n",
            "simulation_train[2].shape: (99, 2) -> (t, 2), (x, y) at every t)\n",
            "charges_train[2].shape: (3,) -> charges for the simulation\n",
            "simulation_continued_train[2].shape: (47, 2) -> (t, 2), (x, y) at every t)\n",
            "----\n",
            "\n"
          ]
        }
      ],
      "source": [
        "print('Print some shapes:\\n')\n",
        "for i in range(3):\n",
        "    print('simulation_train[{}].shape:'.format(i), simulation_train[i].shape, '-> (t, 2), (x, y) at every t)')\n",
        "    print('charges_train[{}].shape:'.format(i), charges_train[i].shape, '-> charges for the simulation')\n",
        "    print('simulation_continued_train[{}].shape:'.format(i), simulation_continued_train[i].shape, '-> (t, 2), (x, y) at every t)')\n",
        "    print('----\\n')"
      ]
    },
    {
      "cell_type": "code",
      "execution_count": 7,
      "id": "f9106543",
      "metadata": {
        "id": "f9106543"
      },
      "outputs": [],
      "source": [
        "def plot_example(x, x_gt=None, x_pred=None, fn=None):\n",
        "    charge_locations = np.array([[-1.53846154, -1.53846154],\n",
        "                                 [ 1.53846154, -1.53846154],\n",
        "                                 [ 0.        ,  1.53846154]])  # charge locations are fixed\n",
        "    fig = plt.figure()\n",
        "    axes = plt.gca()\n",
        "    axes.set_xlim([-5., 5.])\n",
        "    axes.set_ylim([-5., 5.])\n",
        "    cmap = matplotlib.cm.get_cmap('tab20')\n",
        "    plt.plot(x[:, 0], x[:, 1], color=cmap(0))\n",
        "    plt.plot(x[0, 0], x[0, 1], 'd', color=cmap(1))\n",
        "    fig.set_size_inches(5, 5)\n",
        "    for charge in charge_locations:\n",
        "        plt.plot(charge[0], charge[1], 'd', color='black')\n",
        "    if x_gt is not None:\n",
        "        plt.plot(x_gt[:, 0], x_gt[:, 1], color='red', linewidth=.5)\n",
        "    if x_pred is not None:\n",
        "        plt.plot(x_pred[:, 0], x_pred[:, 1], color='green', linestyle='--')\n",
        "    if fn is None:\n",
        "        plt.show()\n",
        "    else:\n",
        "        plt.savefig(fn)"
      ]
    },
    {
      "cell_type": "code",
      "execution_count": 8,
      "id": "d28681a6",
      "metadata": {
        "colab": {
          "base_uri": "https://localhost:8080/",
          "height": 338
        },
        "id": "d28681a6",
        "outputId": "4731c59e-e64b-46db-e92e-2d3a39947c96"
      },
      "outputs": [
        {
          "output_type": "display_data",
          "data": {
            "text/plain": [
              "<Figure size 360x360 with 1 Axes>"
            ],
            "image/png": "[encoded data removed]"
          },
          "metadata": {
            "needs_background": "light"
          }
        },
        {
          "output_type": "stream",
          "name": "stdout",
          "text": [
            "Charges are [-0.42081992 -0.48440001 -0.65469974]\n"
          ]
        }
      ],
      "source": [
        "test_idx = np.random.randint(150)\n",
        "plot_example(simulation_train[test_idx], simulation_continued_train[test_idx])\n",
        "print(f'Charges are {charges_train[test_idx]}')"
      ]
    },
    {
      "cell_type": "markdown",
      "id": "883762b1",
      "metadata": {
        "id": "883762b1"
      },
      "source": [
        "# Task 3.1"
      ]
    },
    {
      "cell_type": "markdown",
      "id": "4c1ddabe",
      "metadata": {
        "id": "4c1ddabe"
      },
      "source": [
        "## Data Handling and Preprocessing"
      ]
    },
    {
      "cell_type": "code",
      "execution_count": 9,
      "id": "bd9df856",
      "metadata": {
        "colab": {
          "base_uri": "https://localhost:8080/"
        },
        "id": "bd9df856",
        "outputId": "db2c329c-7e48-4654-908d-4ea0a59a1bb2"
      },
      "outputs": [
        {
          "output_type": "stream",
          "name": "stdout",
          "text": [
            "Device is set to cpu\n"
          ]
        }
      ],
      "source": [
        "# Pick the best device\n",
        "import torch\n",
        "\n",
        "def try_device(device):\n",
        "    # Try to put an array on given device. If successful, return device. Else, 'cpu'.\n",
        "    x = torch.ones((1,))\n",
        "    try:\n",
        "        x.to(device)\n",
        "        return device\n",
        "    except:\n",
        "        return 'cpu'\n",
        "\n",
        "device = try_device('cuda')\n",
        "if device == 'cpu':\n",
        "    # mps doesn't support our model (yet?)\n",
        "    # device = try_device('mps')\n",
        "    pass\n",
        "\n",
        "\n",
        "print(f'Device is set to {device}')"
      ]
    },
    {
      "cell_type": "code",
      "execution_count": 10,
      "id": "7dd9b7c1",
      "metadata": {
        "id": "7dd9b7c1"
      },
      "outputs": [],
      "source": [
        "# Task 3.1: Using the positions of positively charged particle p1 during a simulation, predict the\n",
        "# values of negative charges c2, c3, c4\n",
        "# input = t locations (x, y) of p1 particle, value of t is not fixed\n",
        "\n",
        "from torch.utils.data import DataLoader, Dataset\n",
        "from torch.nn.utils.rnn import pack_sequence, pad_sequence\n",
        "\n",
        "class SimulationData(Dataset):\n",
        "    def __init__(self, sim, charges):\n",
        "        self.sim = sim\n",
        "        self.charges = charges\n",
        "\n",
        "    def __len__(self):\n",
        "        return len(self.sim)\n",
        "\n",
        "    def __getitem__(self, idx):\n",
        "        return self.sim[idx], self.charges[idx]\n",
        "\n",
        "# Create data loader\n",
        "def cpu_collate(data):\n",
        "    # Sort data in order of decreasing sequence length\n",
        "    data = list(reversed(sorted(data, key=lambda d: len(d[0]))))\n",
        "    xs = pad_sequence([torch.tensor(x).float() for x, _ in data], batch_first=True)\n",
        "    ys = torch.stack([torch.tensor(y).float() for _, y in data])\n",
        "    return xs, ys\n",
        "\n",
        "\n",
        "# Create data loader\n",
        "def gpu_collate(data):\n",
        "    # Sort data in order of decreasing sequence length\n",
        "    data = list(reversed(sorted(data, key=lambda d: len(d[0]))))\n",
        "    xs = pad_sequence([torch.tensor(x).float() for x, _ in data], batch_first=True)\n",
        "    ys = torch.stack([torch.tensor(y).float() for _, y in data])\n",
        "    return xs.to(device), ys.to(device)\n",
        "\n",
        "\n",
        "# Batch size needs to evenly divide all train, valid, test sizes (800, 100, 100)\n",
        "batch_size = 5\n",
        "cpu_train_dl = DataLoader(SimulationData(simulation_train, charges_train), batch_size=batch_size, shuffle=True, collate_fn=cpu_collate)\n",
        "cpu_valid_dl = DataLoader(SimulationData(simulation_valid, charges_valid), batch_size=batch_size, shuffle=True, collate_fn=cpu_collate)\n",
        "\n",
        "gpu_train_dl = DataLoader(SimulationData(simulation_train, charges_train), batch_size=batch_size, shuffle=True, collate_fn=gpu_collate)\n",
        "gpu_valid_dl = DataLoader(SimulationData(simulation_valid, charges_valid), batch_size=batch_size, shuffle=True, collate_fn=gpu_collate)\n"
      ]
    },
    {
      "cell_type": "code",
      "execution_count": 11,
      "id": "4ec1e03a",
      "metadata": {
        "colab": {
          "base_uri": "https://localhost:8080/"
        },
        "id": "4ec1e03a",
        "outputId": "11f3e001-958d-4938-ea2e-66202292f1af"
      },
      "outputs": [
        {
          "output_type": "stream",
          "name": "stdout",
          "text": [
            "(103, 2)\n",
            "5\n",
            "torch.Size([107, 2]) torch.Size([3])\n"
          ]
        }
      ],
      "source": [
        "print(simulation_train[0].shape)\n",
        "# Test data loader\n",
        "xs, ys = next(iter(cpu_train_dl))\n",
        "print(len(xs))\n",
        "print(xs[0].shape, ys[0].shape)"
      ]
    },
    {
      "cell_type": "code",
      "execution_count": 12,
      "id": "d48b8fb1",
      "metadata": {
        "colab": {
          "base_uri": "https://localhost:8080/"
        },
        "id": "d48b8fb1",
        "outputId": "a732a865-bd74-4fdd-88d2-14eaf5817f6a"
      },
      "outputs": [
        {
          "output_type": "stream",
          "name": "stdout",
          "text": [
            "Baseline L1 train error: 0.7429320812225342\n",
            "Baseline L1 validation error: 0.7968490719795227\n"
          ]
        }
      ],
      "source": [
        "# Baseline model: predict the mean value of each charge in the training set\n",
        "baseline_values = torch.tensor(np.array(charges_train).mean(axis=0))\n",
        "def baseline_predict(xs):\n",
        "    batch = xs.shape[0]\n",
        "    return baseline_values.expand(batch, 3)\n",
        "\n",
        "loss_fn = lambda y, y_pred: (y - y_pred).abs().sum()\n",
        "\n",
        "# Baseline error?\n",
        "\n",
        "def avg_err(model, dl, loss_fn=torch.nn.L1Loss(reduction='sum')):\n",
        "    loss = 0\n",
        "    n_samples = 0\n",
        "    for x, y in dl:\n",
        "        y_pred = model(x)\n",
        "        loss += loss_fn(y, y_pred)\n",
        "        n_samples += x.shape[0]\n",
        "    return loss / n_samples\n",
        "\n",
        "\n",
        "print(f'Baseline L1 train error: {avg_err(baseline_predict, cpu_train_dl)}')\n",
        "print(f'Baseline L1 validation error: {avg_err(baseline_predict, cpu_valid_dl)}')"
      ]
    },
    {
      "cell_type": "markdown",
      "id": "cc8853f6",
      "metadata": {
        "id": "cc8853f6"
      },
      "source": [
        "## Model Implementation"
      ]
    },
    {
      "cell_type": "code",
      "execution_count": 13,
      "id": "8794a0cf",
      "metadata": {
        "colab": {
          "base_uri": "https://localhost:8080/"
        },
        "id": "8794a0cf",
        "outputId": "6a243bef-aef6-4232-9049-6604a6e94819"
      },
      "outputs": [
        {
          "output_type": "stream",
          "name": "stdout",
          "text": [
            "torch.Size([5, 3])\n"
          ]
        }
      ],
      "source": [
        "class Model_3_1(torch.nn.Module):\n",
        "    def __init__(self, hidden_dim, n_layers, batch_size):\n",
        "        super(Model_3_1, self).__init__()\n",
        "        # input/output size are fixed based on the task description\n",
        "        input_dim = 2\n",
        "        output_dim = 3\n",
        "\n",
        "        self.hidden_dim = hidden_dim\n",
        "        self.n_layers = n_layers\n",
        "        self.batch_size = batch_size\n",
        "        \n",
        "        self.gru = torch.nn.GRU(input_dim, hidden_dim, n_layers, batch_first=True)\n",
        "        self.relu = torch.nn.ReLU()\n",
        "        self.fc = torch.nn.Linear(hidden_dim, output_dim)\n",
        "        \n",
        "    def forward(self, x):\n",
        "        h = self.init_hidden()\n",
        "        x = x.to(device)\n",
        "        out, h = self.gru(x, h)\n",
        "        out = self.fc(self.relu(out[:,-1]))\n",
        "        return out\n",
        "    \n",
        "    def init_hidden(self):\n",
        "        # from example of https://pytorch.org/docs/stable/generated/torch.nn.GRU.html\n",
        "        h0 = torch.randn(self.n_layers, self.batch_size, self.hidden_dim).to(device)\n",
        "        return h0\n",
        "\n",
        "xs = xs.to(device)\n",
        "model_3_1 = Model_3_1(30, 5, batch_size).to(device)\n",
        "print(model_3_1(xs).shape)"
      ]
    },
    {
      "cell_type": "markdown",
      "id": "0e443b7f",
      "metadata": {
        "id": "0e443b7f"
      },
      "source": [
        "## Model Training"
      ]
    },
    {
      "cell_type": "code",
      "execution_count": 14,
      "id": "5a5b0aca",
      "metadata": {
        "id": "5a5b0aca"
      },
      "outputs": [],
      "source": [
        "from tqdm import tqdm\n",
        "\n",
        "train_loss_graph, val_loss_graph = list(), list()\n",
        "\n",
        "def fit_3_1(model, train_dl, valid_dl, n_epochs):\n",
        "    optimizer = torch.optim.AdamW(model.parameters(), lr=1e-3)\n",
        "    loss_func = torch.nn.L1Loss()\n",
        "    loss_func = loss_func.to(device)\n",
        "\n",
        "    for i in range(n_epochs):\n",
        "        print(f'Begin epoch {i + 1}/{n_epochs}')\n",
        "        for x, y in tqdm(train_dl):\n",
        "            x = x.to(device)\n",
        "            y = y.to(device).float()\n",
        "            y_pred = model(x)\n",
        "            loss = loss_func(y, y_pred)\n",
        "            loss.backward()\n",
        "            optimizer.step()\n",
        "            optimizer.zero_grad()\n",
        "        \n",
        "        with torch.no_grad():\n",
        "            train_err = avg_err(model, train_dl)\n",
        "            val_err = avg_err(model, valid_dl)\n",
        "            print(f'L1 train error: {train_err}')\n",
        "            print(f'L1 validation error: {val_err}')\n",
        "            train_loss_graph.append(train_err)\n",
        "            val_loss_graph.append(val_err)"
      ]
    },
    {
      "cell_type": "code",
      "execution_count": 15,
      "id": "a3181fdc",
      "metadata": {
        "colab": {
          "base_uri": "https://localhost:8080/"
        },
        "id": "a3181fdc",
        "outputId": "b28ca57b-6209-4987-a818-15214ba7a353"
      },
      "outputs": [
        {
          "output_type": "stream",
          "name": "stdout",
          "text": [
            "Model has 25473 parameters\n",
            "Begin epoch 1/1\n"
          ]
        },
        {
          "output_type": "stream",
          "name": "stderr",
          "text": [
            "100%|██████████| 160/160 [00:20<00:00,  7.83it/s]\n"
          ]
        },
        {
          "output_type": "stream",
          "name": "stdout",
          "text": [
            "L1 train error: 0.6599063277244568\n",
            "L1 validation error: 0.7203518152236938\n"
          ]
        }
      ],
      "source": [
        "def count_parameters(model):\n",
        "    return sum(p.numel() for p in model.parameters() if p.requires_grad)\n",
        "\n",
        "hidden_size = 30\n",
        "n_layers = 5\n",
        "model_3_1 = Model_3_1(hidden_size, n_layers, batch_size).to(device)\n",
        "print(f'Model has {count_parameters(model_3_1)} parameters')\n",
        "epochs = 1\n",
        "fit_3_1(model_3_1, gpu_train_dl, gpu_valid_dl, epochs)"
      ]
    },
    {
      "cell_type": "code",
      "execution_count": 16,
      "id": "cd0abda7",
      "metadata": {
        "colab": {
          "base_uri": "https://localhost:8080/",
          "height": 313
        },
        "id": "cd0abda7",
        "outputId": "d514f2ed-29f9-4117-cfc5-f75f881f6806"
      },
      "outputs": [
        {
          "output_type": "execute_result",
          "data": {
            "text/plain": [
              "Text(0, 0.5, 'loss value')"
            ]
          },
          "metadata": {},
          "execution_count": 16
        },
        {
          "output_type": "display_data",
          "data": {
            "text/plain": [
              "<Figure size 432x288 with 1 Axes>"
            ],
            "image/png": "[encoded data removed]"
          },
          "metadata": {
            "needs_background": "light"
          }
        }
      ],
      "source": [
        "import matplotlib.pyplot as plt\n",
        "\n",
        "train_loss_graph_cpu = [i.to(device='cpu') for i in train_loss_graph]\n",
        "\n",
        "plt.plot(train_loss_graph_cpu)\n",
        "plt.title(\"training loss\")\n",
        "plt.xlabel(\"epoch number\")\n",
        "plt.ylabel(\"loss value\")"
      ]
    },
    {
      "cell_type": "code",
      "execution_count": 17,
      "id": "5af330cd",
      "metadata": {
        "colab": {
          "base_uri": "https://localhost:8080/",
          "height": 313
        },
        "id": "5af330cd",
        "outputId": "016fad87-6a0c-4862-f236-c137abaaca17"
      },
      "outputs": [
        {
          "output_type": "execute_result",
          "data": {
            "text/plain": [
              "Text(0, 0.5, 'loss value')"
            ]
          },
          "metadata": {},
          "execution_count": 17
        },
        {
          "output_type": "display_data",
          "data": {
            "text/plain": [
              "<Figure size 432x288 with 1 Axes>"
            ],
            "image/png": "[encoded data removed]"
          },
          "metadata": {
            "needs_background": "light"
          }
        }
      ],
      "source": [
        "val_loss_graph_cpu = [i.to(device='cpu') for i in val_loss_graph]\n",
        "\n",
        "plt.plot(val_loss_graph_cpu)\n",
        "plt.title(\"validation loss\")\n",
        "plt.xlabel(\"epoch number\")\n",
        "plt.ylabel(\"loss value\")"
      ]
    },
    {
      "cell_type": "markdown",
      "id": "da139d5b",
      "metadata": {
        "id": "da139d5b"
      },
      "source": [
        "## Evaluation"
      ]
    },
    {
      "cell_type": "code",
      "execution_count": 18,
      "id": "ebed03ba",
      "metadata": {
        "id": "ebed03ba"
      },
      "outputs": [],
      "source": [
        "#todo"
      ]
    },
    {
      "cell_type": "code",
      "execution_count": 18,
      "id": "17af7ec3",
      "metadata": {
        "id": "17af7ec3"
      },
      "outputs": [],
      "source": [
        ""
      ]
    },
    {
      "cell_type": "code",
      "execution_count": 18,
      "id": "43a3422e",
      "metadata": {
        "id": "43a3422e"
      },
      "outputs": [],
      "source": [
        ""
      ]
    },
    {
      "cell_type": "markdown",
      "id": "9a59808b",
      "metadata": {
        "id": "9a59808b"
      },
      "source": [
        "# Task 3.2"
      ]
    },
    {
      "cell_type": "markdown",
      "id": "f64a855d",
      "metadata": {
        "id": "f64a855d"
      },
      "source": [
        "## Data Handling and Preprocessing"
      ]
    },
    {
      "cell_type": "code",
      "execution_count": 19,
      "id": "5b935865",
      "metadata": {
        "id": "5b935865"
      },
      "outputs": [],
      "source": [
        "#todo"
      ]
    },
    {
      "cell_type": "code",
      "execution_count": 19,
      "id": "0ec19a8d",
      "metadata": {
        "id": "0ec19a8d"
      },
      "outputs": [],
      "source": [
        ""
      ]
    },
    {
      "cell_type": "code",
      "execution_count": 19,
      "id": "8f189d19",
      "metadata": {
        "id": "8f189d19"
      },
      "outputs": [],
      "source": [
        ""
      ]
    },
    {
      "cell_type": "markdown",
      "id": "867aabb3",
      "metadata": {
        "id": "867aabb3"
      },
      "source": [
        "## Model Implementation"
      ]
    },
    {
      "cell_type": "code",
      "execution_count": 20,
      "id": "fb3f2e03",
      "metadata": {
        "id": "fb3f2e03"
      },
      "outputs": [],
      "source": [
        "x_train_shapes = [np.array(simulation_train_task32, dtype=object)[i].shape[0] for i in range(len(simulation_train_task32))]\n",
        "y_train_shapes = [np.array(simulation_continued_train, dtype=object)[i].shape[0] for i in range(len(simulation_continued_train))]"
      ]
    },
    {
      "cell_type": "code",
      "execution_count": 21,
      "id": "d536e656",
      "metadata": {
        "colab": {
          "base_uri": "https://localhost:8080/"
        },
        "id": "d536e656",
        "outputId": "4b0eb406-b119-47ae-e336-208e863d0420"
      },
      "outputs": [
        {
          "output_type": "stream",
          "name": "stdout",
          "text": [
            "Training x | Mean: 99.49333333333334, Std: 6.2841034010871875, Min: 90, Max: 110\n",
            "Training y | Mean: 41.026666666666664, Std: 12.265913020326789, Min: 20, Max: 60\n"
          ]
        }
      ],
      "source": [
        "print(f\"Training x | Mean: {np.array(x_train_shapes).mean()}, Std: {np.array(x_train_shapes).std()}, Min: {np.array(x_train_shapes).min()}, Max: {np.array(x_train_shapes).max()}\")\n",
        "print(f\"Training y | Mean: {np.array(y_train_shapes).mean()}, Std: {np.array(y_train_shapes).std()}, Min: {np.array(y_train_shapes).min()}, Max: {np.array(y_train_shapes).max()}\")"
      ]
    },
    {
      "cell_type": "code",
      "execution_count": 22,
      "id": "ebd6f052",
      "metadata": {
        "id": "ebd6f052"
      },
      "outputs": [],
      "source": [
        "# Task 3.2: Using the positions of positively charged particle p1 during a simulation up to t=10 +- 1,\n",
        "# continue its trajectory for an additional 4 +- 2 seconds.\n",
        "# input = t locations (x, y) of p1 particle, value of t is not fixed\n",
        "from torch.utils.data import DataLoader, Dataset\n",
        "from torch.nn.utils.rnn import pack_sequence, pad_sequence\n",
        "\n",
        "\n",
        "global zero_x\n",
        "zero_x = torch.zeros((110, 2))\n",
        "global zero_y\n",
        "zero_y = torch.zeros((60, 2))\n",
        "\n",
        "\n",
        "class loadContinued(Dataset):\n",
        "    def __init__(self, sim, cont_positions):\n",
        "        self.sim = sim\n",
        "        self.cont_positions = cont_positions\n",
        "    \n",
        "    def __len__(self):\n",
        "        return len(self.sim)\n",
        "    \n",
        "    def __getitem__(self, index):\n",
        "        return torch.tensor(self.sim[index]).float(), torch.tensor(self.cont_positions[index]).float()\n",
        "\n",
        "\n",
        "# No batch size since the length of y differs for each simulation.\n",
        "gpu_cont_train_dl = DataLoader(loadContinued(simulation_train_task32, simulation_continued_train), shuffle=True)\n",
        "gpu_cont_valid_dl = DataLoader(loadContinued(simulation_valid, simulation_continued_valid), shuffle=True)\n"
      ]
    },
    {
      "cell_type": "markdown",
      "source": [
        "# Baseline model and evaluation"
      ],
      "metadata": {
        "id": "6GerDoOL9f-m"
      },
      "id": "6GerDoOL9f-m"
    },
    {
      "cell_type": "code",
      "source": [
        "class linearRegression(torch.nn.Module):\n",
        "    def __init__(self, inputSize, outputSize):\n",
        "        super(linearRegression, self).__init__()\n",
        "        self.linear = torch.nn.Linear(inputSize, outputSize)\n",
        "\n",
        "    def forward(self, x):\n",
        "        out = self.linear(x)\n",
        "        return out\n",
        "input_size = 2\n",
        "output_size = 2\n",
        "basemodel = linearRegression(input_size, output_size)"
      ],
      "metadata": {
        "id": "XgQv30Ugb2AO"
      },
      "id": "XgQv30Ugb2AO",
      "execution_count": 26,
      "outputs": []
    },
    {
      "cell_type": "code",
      "source": [
        "def baseline_fit(model, train_dl, valid_dl):\n",
        "    train_loss_graph, val_loss_graph = list(), list()\n",
        "    lr = 1e-4\n",
        "    optimizer = torch.optim.AdamW(model.parameters(), lr=lr)\n",
        "    loss_func = torch.nn.L1Loss()\n",
        "    loss_func = loss_func.to(device)\n",
        "\n",
        "    model = model.train()\n",
        "    for i in tqdm(range(10)):\n",
        "        train_loss, val_loss = list(), list()\n",
        "        for x, y in train_dl:\n",
        "            # Squeeze away the batch size of 1\n",
        "            x = x.squeeze(0)\n",
        "            y = y.squeeze(0)\n",
        "            optimizer.zero_grad()\n",
        "\n",
        "            outputs = model(x[0])\n",
        "\n",
        "            loss = loss_func(outputs, x[1])\n",
        "            loss.backward()\n",
        "            optimizer.step()\n",
        "            train_loss.append(loss.item())\n",
        "\n",
        "        train_loss_graph.append(sum(train_loss) / len(train_dl))\n",
        "\n",
        "        model = model.eval()\n",
        "        with torch.no_grad():\n",
        "            for x_val, y_val in valid_dl:\n",
        "                # Squeeze away the batch size of 1\n",
        "                x_val = x_val.squeeze(0)\n",
        "                y_val = y_val.squeeze(0)\n",
        "                outputs_val = model(x_val[0])\n",
        "                \n",
        "                y_val = y_val.squeeze(1)\n",
        "                loss_val = loss_func(outputs_val, x_val[1])\n",
        "                \n",
        "                val_loss.append(loss_val.item())\n",
        "                torch.cuda.empty_cache()\n",
        "            \n",
        "        val_loss_graph.append(sum(val_loss) / len(valid_dl))\n",
        "\n",
        "    return {'train': sum(train_loss_graph)/len(train_loss_graph), 'valid': sum(val_loss_graph)/len(val_loss_graph)}\n"
      ],
      "metadata": {
        "id": "z_j4donT83m9"
      },
      "id": "z_j4donT83m9",
      "execution_count": 52,
      "outputs": []
    },
    {
      "cell_type": "code",
      "source": [
        "base_train_dl = DataLoader(loadContinued(simulation_train_task32[-10:], simulation_continued_train), shuffle=True)\n",
        "base_valid_dl = DataLoader(loadContinued(simulation_valid, simulation_continued_valid), shuffle=True)\n",
        "x,y = next(iter(base_train_dl))\n",
        "x.shape,y.shape\n",
        "#baseline_fit(basemodel,gpu_cont_train_dl,gpu_cont_valid_dl)"
      ],
      "metadata": {
        "colab": {
          "base_uri": "https://localhost:8080/"
        },
        "id": "neVjemFvxeQE",
        "outputId": "d0efcd0b-1c66-4d35-fb4f-35ae90016050"
      },
      "id": "neVjemFvxeQE",
      "execution_count": 50,
      "outputs": [
        {
          "output_type": "execute_result",
          "data": {
            "text/plain": [
              "(torch.Size([1, 91, 2]), torch.Size([1, 58, 2]))"
            ]
          },
          "metadata": {},
          "execution_count": 50
        }
      ]
    },
    {
      "cell_type": "code",
      "source": [
        "baseline_fit(basemodel,base_train_dl,base_valid_dl)"
      ],
      "metadata": {
        "colab": {
          "base_uri": "https://localhost:8080/"
        },
        "id": "tXgGNYlK0yYG",
        "outputId": "bfca4f17-af76-4b43-9ce6-f986b3ec37d4"
      },
      "id": "tXgGNYlK0yYG",
      "execution_count": 53,
      "outputs": [
        {
          "output_type": "stream",
          "name": "stderr",
          "text": [
            "100%|██████████| 10/10 [00:00<00:00, 36.89it/s]\n"
          ]
        },
        {
          "output_type": "execute_result",
          "data": {
            "text/plain": [
              "{'train': 0.9738261312246322, 'valid': 1.0652202953100205}"
            ]
          },
          "metadata": {},
          "execution_count": 53
        }
      ]
    },
    {
      "cell_type": "code",
      "execution_count": 27,
      "id": "bfb20065",
      "metadata": {
        "id": "bfb20065"
      },
      "outputs": [],
      "source": [
        "from torch import nn"
      ]
    },
    {
      "cell_type": "code",
      "execution_count": 28,
      "id": "fec35415",
      "metadata": {
        "id": "fec35415"
      },
      "outputs": [],
      "source": [
        "class Encoder(nn.Module):\n",
        "    def __init__(self, input_size, hidden_size, n_layers, dropout):\n",
        "        super(Encoder, self).__init__()\n",
        "        self.hidden_size = hidden_size\n",
        "        self.input_size = input_size\n",
        "        self.n_layers = n_layers\n",
        "        \n",
        "        self.gru = torch.nn.GRU(input_size, hidden_size, n_layers, dropout=dropout)\n",
        "        \n",
        "    def forward(self, x):\n",
        "        hidden = self.init_hidden()\n",
        "        output, hidden = self.gru(x, hidden)\n",
        "        \n",
        "        return output, hidden\n",
        "    \n",
        "    def init_hidden(self):\n",
        "        h0 = torch.zeros(self.n_layers, self.hidden_size).to(device)\n",
        "        return h0\n",
        "        "
      ]
    },
    {
      "cell_type": "code",
      "execution_count": 29,
      "id": "165034ab",
      "metadata": {
        "id": "165034ab"
      },
      "outputs": [],
      "source": [
        "class Decoder(nn.Module):\n",
        "    def __init__(self, input_size, output_size, hidden_size, n_layers, dropout):\n",
        "        super(Decoder, self).__init__()\n",
        "        self.hidden_size = hidden_size\n",
        "        self.n_layers = n_layers\n",
        "        \n",
        "        self.gru = nn.GRU(input_size, hidden_size, n_layers, dropout=dropout)\n",
        "        self.out = nn.Linear(hidden_size, output_size)\n",
        "        \n",
        "    def forward(self, x, hidden):\n",
        "        output, hidden = self.gru(x, hidden)\n",
        "        output = self.out(output)\n",
        "        \n",
        "        return output, hidden\n",
        "    "
      ]
    },
    {
      "cell_type": "code",
      "execution_count": 30,
      "id": "5d6041e8",
      "metadata": {
        "id": "5d6041e8"
      },
      "outputs": [],
      "source": [
        "from tqdm import tqdm\n",
        "import random\n",
        "\n",
        "criterion = torch.nn.L1Loss()\n",
        "\n",
        "\n",
        "def fit_seq(encoder_model, decoder_model, train_dl, valid_dl, n_epochs, teacher_forcing_ratio):\n",
        "    train_loss_graph, val_loss_graph = list(), list()\n",
        "    lr = 1e-4\n",
        "    encoder_optimizer = torch.optim.AdamW(encoder_model.parameters(), lr=lr)\n",
        "    decoder_optimizer = torch.optim.AdamW(decoder_model.parameters(), lr=lr)\n",
        "    loss_func = torch.nn.L1Loss()\n",
        "    loss_func = loss_func.to(device)\n",
        "\n",
        "    for i in tqdm(range(epochs)):\n",
        "        train_loss, val_loss = list(), list()\n",
        "        \n",
        "        encoder_model = encoder_model.train()\n",
        "        decoder_model = decoder_model.train()\n",
        "        for x, y in train_dl:\n",
        "            # Squeeze away the batch size of 1\n",
        "            x = x.squeeze(0)\n",
        "            y = y.squeeze(0)\n",
        "            encoder_optimizer.zero_grad()\n",
        "            decoder_optimizer.zero_grad()\n",
        "            \n",
        "            encoder_output, hidden = encoder_model(x)\n",
        "            outputs = torch.zeros(y.shape[0], 2).to(device)\n",
        "            \n",
        "            # The initial input to the decoder is the last input position\n",
        "            input_decoder = x[-1].unsqueeze(0)\n",
        "            for inx, y_i in enumerate(y):\n",
        "                output, hidden = decoder_model(input_decoder, hidden)\n",
        "                \n",
        "                outputs[inx] = output\n",
        "                \n",
        "                teacher_force = random.random() < teacher_forcing_ratio\n",
        "                input_decoder = y_i if teacher_force else output\n",
        "            \n",
        "            y = y.squeeze(1)\n",
        "            loss = loss_func(outputs, y)\n",
        "            loss.backward()\n",
        "            \n",
        "            encoder_optimizer.step()\n",
        "            decoder_optimizer.step()\n",
        "            \n",
        "            train_loss.append(loss.item())            \n",
        "            torch.cuda.empty_cache()\n",
        "        \n",
        "        train_loss_graph.append(sum(train_loss) / len(train_dl))\n",
        "        \n",
        "        encoder_model = encoder_model.eval()\n",
        "        decoder_model = decoder_model.eval()\n",
        "        with torch.no_grad():\n",
        "            for x_val, y_val in valid_dl:\n",
        "                # Squeeze away the batch size of 1\n",
        "                x_val = x_val.squeeze(0)\n",
        "                y_val = y_val.squeeze(0)\n",
        "                encoder_output, hidden = encoder_model(x_val.squeeze(1))\n",
        "                outputs_val = torch.zeros(y_val.shape[0], 2).to(device)\n",
        "                \n",
        "                input_decoder = x_val[-1].unsqueeze(0)\n",
        "                for inx, y_i in enumerate(y_val):\n",
        "                    output, hidden = decoder_model(input_decoder, hidden)\n",
        "                    \n",
        "                    outputs_val[inx] = output\n",
        "                    \n",
        "                    input_decoder = output\n",
        "                \n",
        "                y_val = y_val.squeeze(1)\n",
        "                loss_val = loss_func(outputs_val, y_val)\n",
        "                \n",
        "                val_loss.append(loss_val.item())\n",
        "                torch.cuda.empty_cache()\n",
        "            \n",
        "        val_loss_graph.append(sum(val_loss) / len(valid_dl))\n",
        "\n",
        "    return {'train': train_loss_graph, 'valid': val_loss_graph}\n",
        "    \n"
      ]
    },
    {
      "cell_type": "code",
      "execution_count": 32,
      "id": "5a455c3e",
      "metadata": {
        "colab": {
          "base_uri": "https://localhost:8080/",
          "height": 447
        },
        "id": "5a455c3e",
        "outputId": "b680036c-cdc6-43cb-cf14-036ffb8ae2ac"
      },
      "outputs": [
        {
          "output_type": "stream",
          "name": "stdout",
          "text": [
            "Encoder Model has 87936 parameters\n",
            "Decoder Model has 88066 parameters\n"
          ]
        },
        {
          "output_type": "stream",
          "name": "stderr",
          "text": [
            "  5%|▌         | 10/200 [05:18<1:40:47, 31.83s/it]\n"
          ]
        },
        {
          "output_type": "error",
          "ename": "KeyboardInterrupt",
          "evalue": "ignored",
          "traceback": [
            "\u001b[0;31m---------------------------------------------------------------------------\u001b[0m",
            "\u001b[0;31mKeyboardInterrupt\u001b[0m                         Traceback (most recent call last)",
            "\u001b[0;32m<ipython-input-32-31af818fedce>\u001b[0m in \u001b[0;36m<module>\u001b[0;34m()\u001b[0m\n\u001b[1;32m     19\u001b[0m                  \u001b[0mvalid_dl\u001b[0m\u001b[0;34m=\u001b[0m\u001b[0mgpu_cont_valid_dl\u001b[0m\u001b[0;34m,\u001b[0m\u001b[0;34m\u001b[0m\u001b[0;34m\u001b[0m\u001b[0m\n\u001b[1;32m     20\u001b[0m                  \u001b[0mn_epochs\u001b[0m\u001b[0;34m=\u001b[0m\u001b[0mepochs\u001b[0m\u001b[0;34m,\u001b[0m\u001b[0;34m\u001b[0m\u001b[0;34m\u001b[0m\u001b[0m\n\u001b[0;32m---> 21\u001b[0;31m                  teacher_forcing_ratio=0.0)\n\u001b[0m\u001b[1;32m     22\u001b[0m \u001b[0mencoder_model\u001b[0m \u001b[0;34m=\u001b[0m \u001b[0mencoder_model\u001b[0m\u001b[0;34m.\u001b[0m\u001b[0meval\u001b[0m\u001b[0;34m(\u001b[0m\u001b[0;34m)\u001b[0m\u001b[0;34m\u001b[0m\u001b[0;34m\u001b[0m\u001b[0m\n\u001b[1;32m     23\u001b[0m \u001b[0mdecoder_model\u001b[0m \u001b[0;34m=\u001b[0m \u001b[0mdecoder_model\u001b[0m\u001b[0;34m.\u001b[0m\u001b[0meval\u001b[0m\u001b[0;34m(\u001b[0m\u001b[0;34m)\u001b[0m\u001b[0;34m\u001b[0m\u001b[0;34m\u001b[0m\u001b[0m\n",
            "\u001b[0;32m<ipython-input-30-089abaeb00eb>\u001b[0m in \u001b[0;36mfit_seq\u001b[0;34m(encoder_model, decoder_model, train_dl, valid_dl, n_epochs, teacher_forcing_ratio)\u001b[0m\n\u001b[1;32m     31\u001b[0m             \u001b[0minput_decoder\u001b[0m \u001b[0;34m=\u001b[0m \u001b[0mx\u001b[0m\u001b[0;34m[\u001b[0m\u001b[0;34m-\u001b[0m\u001b[0;36m1\u001b[0m\u001b[0;34m]\u001b[0m\u001b[0;34m.\u001b[0m\u001b[0munsqueeze\u001b[0m\u001b[0;34m(\u001b[0m\u001b[0;36m0\u001b[0m\u001b[0;34m)\u001b[0m\u001b[0;34m\u001b[0m\u001b[0;34m\u001b[0m\u001b[0m\n\u001b[1;32m     32\u001b[0m             \u001b[0;32mfor\u001b[0m \u001b[0minx\u001b[0m\u001b[0;34m,\u001b[0m \u001b[0my_i\u001b[0m \u001b[0;32min\u001b[0m \u001b[0menumerate\u001b[0m\u001b[0;34m(\u001b[0m\u001b[0my\u001b[0m\u001b[0;34m)\u001b[0m\u001b[0;34m:\u001b[0m\u001b[0;34m\u001b[0m\u001b[0;34m\u001b[0m\u001b[0m\n\u001b[0;32m---> 33\u001b[0;31m                 \u001b[0moutput\u001b[0m\u001b[0;34m,\u001b[0m \u001b[0mhidden\u001b[0m \u001b[0;34m=\u001b[0m \u001b[0mdecoder_model\u001b[0m\u001b[0;34m(\u001b[0m\u001b[0minput_decoder\u001b[0m\u001b[0;34m,\u001b[0m \u001b[0mhidden\u001b[0m\u001b[0;34m)\u001b[0m\u001b[0;34m\u001b[0m\u001b[0;34m\u001b[0m\u001b[0m\n\u001b[0m\u001b[1;32m     34\u001b[0m \u001b[0;34m\u001b[0m\u001b[0m\n\u001b[1;32m     35\u001b[0m                 \u001b[0moutputs\u001b[0m\u001b[0;34m[\u001b[0m\u001b[0minx\u001b[0m\u001b[0;34m]\u001b[0m \u001b[0;34m=\u001b[0m \u001b[0moutput\u001b[0m\u001b[0;34m\u001b[0m\u001b[0;34m\u001b[0m\u001b[0m\n",
            "\u001b[0;32m/usr/local/lib/python3.7/dist-packages/torch/nn/modules/module.py\u001b[0m in \u001b[0;36m_call_impl\u001b[0;34m(self, *input, **kwargs)\u001b[0m\n\u001b[1;32m   1108\u001b[0m         if not (self._backward_hooks or self._forward_hooks or self._forward_pre_hooks or _global_backward_hooks\n\u001b[1;32m   1109\u001b[0m                 or _global_forward_hooks or _global_forward_pre_hooks):\n\u001b[0;32m-> 1110\u001b[0;31m             \u001b[0;32mreturn\u001b[0m \u001b[0mforward_call\u001b[0m\u001b[0;34m(\u001b[0m\u001b[0;34m*\u001b[0m\u001b[0minput\u001b[0m\u001b[0;34m,\u001b[0m \u001b[0;34m**\u001b[0m\u001b[0mkwargs\u001b[0m\u001b[0;34m)\u001b[0m\u001b[0;34m\u001b[0m\u001b[0;34m\u001b[0m\u001b[0m\n\u001b[0m\u001b[1;32m   1111\u001b[0m         \u001b[0;31m# Do not call functions when jit is used\u001b[0m\u001b[0;34m\u001b[0m\u001b[0;34m\u001b[0m\u001b[0;34m\u001b[0m\u001b[0m\n\u001b[1;32m   1112\u001b[0m         \u001b[0mfull_backward_hooks\u001b[0m\u001b[0;34m,\u001b[0m \u001b[0mnon_full_backward_hooks\u001b[0m \u001b[0;34m=\u001b[0m \u001b[0;34m[\u001b[0m\u001b[0;34m]\u001b[0m\u001b[0;34m,\u001b[0m \u001b[0;34m[\u001b[0m\u001b[0;34m]\u001b[0m\u001b[0;34m\u001b[0m\u001b[0;34m\u001b[0m\u001b[0m\n",
            "\u001b[0;32m<ipython-input-29-be3bbb538098>\u001b[0m in \u001b[0;36mforward\u001b[0;34m(self, x, hidden)\u001b[0m\n\u001b[1;32m      9\u001b[0m \u001b[0;34m\u001b[0m\u001b[0m\n\u001b[1;32m     10\u001b[0m     \u001b[0;32mdef\u001b[0m \u001b[0mforward\u001b[0m\u001b[0;34m(\u001b[0m\u001b[0mself\u001b[0m\u001b[0;34m,\u001b[0m \u001b[0mx\u001b[0m\u001b[0;34m,\u001b[0m \u001b[0mhidden\u001b[0m\u001b[0;34m)\u001b[0m\u001b[0;34m:\u001b[0m\u001b[0;34m\u001b[0m\u001b[0;34m\u001b[0m\u001b[0m\n\u001b[0;32m---> 11\u001b[0;31m         \u001b[0moutput\u001b[0m\u001b[0;34m,\u001b[0m \u001b[0mhidden\u001b[0m \u001b[0;34m=\u001b[0m \u001b[0mself\u001b[0m\u001b[0;34m.\u001b[0m\u001b[0mgru\u001b[0m\u001b[0;34m(\u001b[0m\u001b[0mx\u001b[0m\u001b[0;34m,\u001b[0m \u001b[0mhidden\u001b[0m\u001b[0;34m)\u001b[0m\u001b[0;34m\u001b[0m\u001b[0;34m\u001b[0m\u001b[0m\n\u001b[0m\u001b[1;32m     12\u001b[0m         \u001b[0moutput\u001b[0m \u001b[0;34m=\u001b[0m \u001b[0mself\u001b[0m\u001b[0;34m.\u001b[0m\u001b[0mout\u001b[0m\u001b[0;34m(\u001b[0m\u001b[0moutput\u001b[0m\u001b[0;34m)\u001b[0m\u001b[0;34m\u001b[0m\u001b[0;34m\u001b[0m\u001b[0m\n\u001b[1;32m     13\u001b[0m \u001b[0;34m\u001b[0m\u001b[0m\n",
            "\u001b[0;32m/usr/local/lib/python3.7/dist-packages/torch/nn/modules/module.py\u001b[0m in \u001b[0;36m_call_impl\u001b[0;34m(self, *input, **kwargs)\u001b[0m\n\u001b[1;32m   1108\u001b[0m         if not (self._backward_hooks or self._forward_hooks or self._forward_pre_hooks or _global_backward_hooks\n\u001b[1;32m   1109\u001b[0m                 or _global_forward_hooks or _global_forward_pre_hooks):\n\u001b[0;32m-> 1110\u001b[0;31m             \u001b[0;32mreturn\u001b[0m \u001b[0mforward_call\u001b[0m\u001b[0;34m(\u001b[0m\u001b[0;34m*\u001b[0m\u001b[0minput\u001b[0m\u001b[0;34m,\u001b[0m \u001b[0;34m**\u001b[0m\u001b[0mkwargs\u001b[0m\u001b[0;34m)\u001b[0m\u001b[0;34m\u001b[0m\u001b[0;34m\u001b[0m\u001b[0m\n\u001b[0m\u001b[1;32m   1111\u001b[0m         \u001b[0;31m# Do not call functions when jit is used\u001b[0m\u001b[0;34m\u001b[0m\u001b[0;34m\u001b[0m\u001b[0;34m\u001b[0m\u001b[0m\n\u001b[1;32m   1112\u001b[0m         \u001b[0mfull_backward_hooks\u001b[0m\u001b[0;34m,\u001b[0m \u001b[0mnon_full_backward_hooks\u001b[0m \u001b[0;34m=\u001b[0m \u001b[0;34m[\u001b[0m\u001b[0;34m]\u001b[0m\u001b[0;34m,\u001b[0m \u001b[0;34m[\u001b[0m\u001b[0;34m]\u001b[0m\u001b[0;34m\u001b[0m\u001b[0;34m\u001b[0m\u001b[0m\n",
            "\u001b[0;32m/usr/local/lib/python3.7/dist-packages/torch/nn/modules/rnn.py\u001b[0m in \u001b[0;36mforward\u001b[0;34m(self, input, hx)\u001b[0m\n\u001b[1;32m    914\u001b[0m             \u001b[0mbatch_dim\u001b[0m \u001b[0;34m=\u001b[0m \u001b[0;36m0\u001b[0m \u001b[0;32mif\u001b[0m \u001b[0mself\u001b[0m\u001b[0;34m.\u001b[0m\u001b[0mbatch_first\u001b[0m \u001b[0;32melse\u001b[0m \u001b[0;36m1\u001b[0m\u001b[0;34m\u001b[0m\u001b[0;34m\u001b[0m\u001b[0m\n\u001b[1;32m    915\u001b[0m             \u001b[0;32mif\u001b[0m \u001b[0;32mnot\u001b[0m \u001b[0mis_batched\u001b[0m\u001b[0;34m:\u001b[0m\u001b[0;34m\u001b[0m\u001b[0;34m\u001b[0m\u001b[0m\n\u001b[0;32m--> 916\u001b[0;31m                 \u001b[0minput\u001b[0m \u001b[0;34m=\u001b[0m \u001b[0minput\u001b[0m\u001b[0;34m.\u001b[0m\u001b[0munsqueeze\u001b[0m\u001b[0;34m(\u001b[0m\u001b[0mbatch_dim\u001b[0m\u001b[0;34m)\u001b[0m\u001b[0;34m\u001b[0m\u001b[0;34m\u001b[0m\u001b[0m\n\u001b[0m\u001b[1;32m    917\u001b[0m                 \u001b[0;32mif\u001b[0m \u001b[0mhx\u001b[0m \u001b[0;32mis\u001b[0m \u001b[0;32mnot\u001b[0m \u001b[0;32mNone\u001b[0m\u001b[0;34m:\u001b[0m\u001b[0;34m\u001b[0m\u001b[0;34m\u001b[0m\u001b[0m\n\u001b[1;32m    918\u001b[0m                     \u001b[0;32mif\u001b[0m \u001b[0mhx\u001b[0m\u001b[0;34m.\u001b[0m\u001b[0mdim\u001b[0m\u001b[0;34m(\u001b[0m\u001b[0;34m)\u001b[0m \u001b[0;34m!=\u001b[0m \u001b[0;36m2\u001b[0m\u001b[0;34m:\u001b[0m\u001b[0;34m\u001b[0m\u001b[0;34m\u001b[0m\u001b[0m\n",
            "\u001b[0;31mKeyboardInterrupt\u001b[0m: "
          ]
        }
      ],
      "source": [
        "n_layers = 4\n",
        "dropout = 0.5\n",
        "input_size = 2\n",
        "output_size = 2\n",
        "hidden_size = 64\n",
        "\n",
        "encoder_model = Encoder(input_size, hidden_size, n_layers, dropout).to(device)\n",
        "decoder_model = Decoder(input_size, output_size, hidden_size, n_layers, dropout).to(device)\n",
        "\n",
        "def count_parameters(model):\n",
        "    return sum(p.numel() for p in model.parameters() if p.requires_grad)\n",
        "\n",
        "print(f'Encoder Model has {count_parameters(encoder_model)} parameters')\n",
        "print(f'Decoder Model has {count_parameters(decoder_model)} parameters')\n",
        "epochs = 200\n",
        "result = fit_seq(encoder_model=encoder_model,\n",
        "                 decoder_model=decoder_model,\n",
        "                 train_dl=gpu_cont_train_dl, \n",
        "                 valid_dl=gpu_cont_valid_dl, \n",
        "                 n_epochs=epochs, \n",
        "                 teacher_forcing_ratio=0.0)\n",
        "encoder_model = encoder_model.eval()\n",
        "decoder_model = decoder_model.eval()"
      ]
    },
    {
      "cell_type": "code",
      "execution_count": null,
      "id": "380b42aa",
      "metadata": {
        "id": "380b42aa"
      },
      "outputs": [],
      "source": [
        "plt.plot(np.arange(1, epochs + 1), result['valid'], label='valid')\n",
        "plt.plot(np.arange(1, epochs + 1), result['train'], label='train')\n",
        "plt.legend()\n",
        "plt.show()\n",
        "\n",
        "print(f'Min train loss was {min(result[\"train\"])}')\n",
        "print(f'Min validation loss was {min(result[\"valid\"])}')"
      ]
    },
    {
      "cell_type": "code",
      "execution_count": null,
      "id": "75b49452",
      "metadata": {
        "id": "75b49452"
      },
      "outputs": [],
      "source": [
        "x, y = next(iter(gpu_cont_valid_dl))\n",
        "\n",
        "x = x.squeeze(0)\n",
        "y = y.squeeze(0)\n",
        "encoder_output, hidden = encoder_model(x)\n",
        "outputs = torch.zeros(y.shape[0], 2).to(device)\n",
        "\n",
        "input_decoder = x[-1].unsqueeze(0)\n",
        "for inx, y_i in enumerate(y):\n",
        "    output, hidden = decoder_model(input_decoder, hidden)\n",
        "\n",
        "    outputs[inx] = output\n",
        "\n",
        "    input_decoder = output\n",
        "\n",
        "x = x.to(device='cpu').detach().numpy()\n",
        "new_y_pred = outputs.to(device='cpu').detach().numpy()\n",
        "    \n",
        "print(x.shape, y.shape, outputs.shape)\n",
        "print(f'loss value: {criterion(y.squeeze(1), outputs).item()}')\n",
        "plot_example(x, x_gt=y.squeeze(1), x_pred=np.array(new_y_pred))"
      ]
    },
    {
      "cell_type": "code",
      "execution_count": null,
      "id": "d29b6790",
      "metadata": {
        "id": "d29b6790"
      },
      "outputs": [],
      "source": [
        ""
      ]
    },
    {
      "cell_type": "code",
      "execution_count": null,
      "id": "4bf231ea",
      "metadata": {
        "id": "4bf231ea"
      },
      "outputs": [],
      "source": [
        ""
      ]
    },
    {
      "cell_type": "code",
      "execution_count": null,
      "id": "f458b614",
      "metadata": {
        "id": "f458b614"
      },
      "outputs": [],
      "source": [
        ""
      ]
    }
  ],
  "metadata": {
    "interpreter": {
      "hash": "27c164e33ceb3372f7d05cab3554d1b7111f26924d32637c2cc5dd0d753ab5f1"
    },
    "kernelspec": {
      "display_name": "Python 3 (ipykernel)",
      "language": "python",
      "name": "python3"
    },
    "language_info": {
      "codemirror_mode": {
        "name": "ipython",
        "version": 3
      },
      "file_extension": ".py",
      "mimetype": "text/x-python",
      "name": "python",
      "nbconvert_exporter": "python",
      "pygments_lexer": "ipython3",
      "version": "3.9.13"
    },
    "colab": {
      "name": "a3_skeleton_peter-pim-peter.ipynb",
      "provenance": []
    },
    "accelerator": "GPU"
  },
  "nbformat": 4,
  "nbformat_minor": 5
}
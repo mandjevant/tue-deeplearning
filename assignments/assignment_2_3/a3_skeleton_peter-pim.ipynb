{
 "cells": [
  {
   "cell_type": "markdown",
   "id": "963690b2",
   "metadata": {},
   "source": [
    "<a href=\"https://colab.research.google.com/github/vlamen/tue-deeplearning/blob/main/assignments/assignment_2_3/a3_skeleton.ipynb\" target=\"_parent\"><img src=\"https://colab.research.google.com/assets/colab-badge.svg\" alt=\"Open In Colab\"/></a>"
   ]
  },
  {
   "cell_type": "markdown",
   "id": "bd8459f1",
   "metadata": {},
   "source": [
    "# Group Number:\n",
    "\n",
    "# Student 1:\n",
    "\n",
    "# Student 2:\n",
    "\n",
    "# Student 3:"
   ]
  },
  {
   "cell_type": "markdown",
   "id": "dde28458",
   "metadata": {},
   "source": [
    "# Downloading Data and Preliminaries"
   ]
  },
  {
   "cell_type": "code",
   "execution_count": 1,
   "id": "7d0580a5",
   "metadata": {},
   "outputs": [],
   "source": [
    "import pickle\n",
    "import matplotlib.pyplot as plt\n",
    "import matplotlib\n",
    "import numpy as np\n",
    "\n",
    "from zipfile import ZipFile\n",
    "import requests\n",
    "import io"
   ]
  },
  {
   "cell_type": "code",
   "execution_count": 2,
   "id": "8ce00edc",
   "metadata": {},
   "outputs": [],
   "source": [
    "def load_zip(url):\n",
    "    response = requests.get(url)\n",
    "    response.raise_for_status()\n",
    "    zipf = ZipFile(io.BytesIO(response.content))\n",
    "    return {name: zipf.read(name) for name in zipf.namelist()}\n",
    "\n",
    "def load_pickle(zipfile, fn):\n",
    "    return pickle.load(io.BytesIO(zipfile[fn]))"
   ]
  },
  {
   "cell_type": "code",
   "execution_count": 3,
   "id": "bb77a4be",
   "metadata": {},
   "outputs": [],
   "source": [
    "data = load_zip('https://surfdrive.surf.nl/files/index.php/s/cwqGaS22KXgnXtg/download')\n",
    "\n",
    "    \n",
    "\"\"\"\n",
    "simulation_{train, valid, test} is stored as a list of simulations. \n",
    "Each simulation is a numpy array of size (t, 2): For t timesteps an x and y coordinate of our particle.\n",
    "\"\"\"\n",
    "simulation_train = load_pickle(data, 'data/train/simulation.pickle')  # 3.1 + 3.2\n",
    "simulation_valid = load_pickle(data, 'data/valid/simulation.pickle')  # 3.1 + 3.2\n",
    "simulation_test = load_pickle(data, 'data/test/simulation.pickle')  # 3.1 + 3.2\n",
    "\n",
    "\"\"\"\n",
    "charges_{train, valid, test} is stored as a list of simulation-charges. \n",
    "These charges are stored as numpy arrays of size (3,): One value for each charge.\n",
    "\"\"\"\n",
    "charges_train = load_pickle(data, 'data/train/charges.pickle')  # 3.1\n",
    "charges_valid = load_pickle(data, 'data/valid/charges.pickle')  # 3.1\n",
    "charges_test = load_pickle(data, 'data/test/charges.pickle')  # 3.1\n",
    "\n",
    "\"\"\"\n",
    "simulation_continued_{train, valid, test} is stored as a list of simulations. \n",
    "Each simulation is a numpy array of size (t, 2): For t timesteps an x and y coordinate of our particle.\n",
    "\"\"\"\n",
    "simulation_continued_train = load_pickle(data, 'data/train/simulation_continued.pickle')  # 3.2\n",
    "simulation_continued_valid = load_pickle(data, 'data/valid/simulation_continued.pickle')  # 3.2\n",
    "simulation_continued_test = load_pickle(data, 'data/test/simulation_continued.pickle')  # 3.2\n",
    "\n",
    "\"\"\"\n",
    "Note that the indices are shared throughout the different lists, e.g., for the 4th training simulation:\n",
    "simulation_train[3] contains its initial simulation\n",
    "charges_train[3] contains the charges associated with the simulation\n",
    "simulation_continued_train[3] contains the continuation of the simulation \n",
    "                --> simulation_continued_train[3][0] is the state after simulation_train[3][-1]\n",
    "\"\"\"\n",
    "pass"
   ]
  },
  {
   "cell_type": "code",
   "execution_count": 4,
   "id": "10a3438a",
   "metadata": {},
   "outputs": [
    {
     "name": "stdout",
     "output_type": "stream",
     "text": [
      "Overview of no. datapoints:\n",
      "\n",
      "Task 3.1:\n",
      "800 train, 100 validation, 100 test simulations\n",
      "800 train, 100 validation, 100 test charge pairs\n",
      "\n",
      "Task 3.2:\n",
      "Since len(simulation_continued_train) < len(simulation_train), we can only use a subset of initial simulations\n",
      "We cut simulation_train down to the first 150 samples in simulation_train_task32\n",
      "150 train, 100 validation, 100 test simulations\n",
      "150 train, 100 validation, 100 test continuations\n",
      "\n",
      "For task 3.1, use:\n",
      "simulation_train + charges_train\n",
      "simulation_valid + charges_valid\n",
      "simulation_test + charges_test\n",
      "\n",
      "For task 3.2, use:\n",
      "simulation_train_task32 + simulation_continued_train\n",
      "simulation_valid + simulation_continued_valid\n",
      "simulation_test + simulation_continued_test\n",
      "\n"
     ]
    }
   ],
   "source": [
    "print('Overview of no. datapoints:\\n')\n",
    "\n",
    "print('Task 3.1:')\n",
    "print(f'{len(simulation_train)} train, {len(simulation_valid)} validation, {len(simulation_test)} test simulations')\n",
    "print(f'{len(charges_train)} train, {len(charges_valid)} validation, {len(charges_test)} test charge pairs')\n",
    "print()\n",
    "\n",
    "print('Task 3.2:')\n",
    "print('Since len(simulation_continued_train) < len(simulation_train), we can only use a subset of initial simulations')\n",
    "print('We cut simulation_train down to the first 150 samples in simulation_train_task32')\n",
    "simulation_train_task32 = simulation_train[:150]\n",
    "print(f'{len(simulation_train_task32)} train, {len(simulation_valid)} validation, {len(simulation_test)} test simulations')\n",
    "print(f'{len(simulation_continued_train)} train, {len(simulation_continued_valid)} validation, {len(simulation_continued_test)} test continuations')\n",
    "\n",
    "print(f\"\"\"\n",
    "For task 3.1, use:\n",
    "{chr(10).join([\"simulation_{} + charges_{}\".format(t, t) for t in [\"train\", \"valid\", \"test\"]])}\n",
    "\n",
    "For task 3.2, use:\n",
    "{chr(10).join([\"simulation_{} + simulation_continued_{}\".format(*((t[0], t[1]) if isinstance(t, tuple) else (t, t))) for t in [(\"train_task32\", \"train\"), \"valid\", \"test\"]])}\n",
    "\"\"\")\n"
   ]
  },
  {
   "cell_type": "code",
   "execution_count": 5,
   "id": "3cfafdb3",
   "metadata": {},
   "outputs": [
    {
     "name": "stdout",
     "output_type": "stream",
     "text": [
      "Print some shapes:\n",
      "\n",
      "simulation_train[0].shape: (103, 2) -> (t, 2), (x, y) at every t)\n",
      "charges_train[0].shape: (3,) -> charges for the simulation\n",
      "simulation_continued_train[0].shape: (54, 2) -> (t, 2), (x, y) at every t)\n",
      "----\n",
      "\n",
      "simulation_train[1].shape: (97, 2) -> (t, 2), (x, y) at every t)\n",
      "charges_train[1].shape: (3,) -> charges for the simulation\n",
      "simulation_continued_train[1].shape: (45, 2) -> (t, 2), (x, y) at every t)\n",
      "----\n",
      "\n",
      "simulation_train[2].shape: (99, 2) -> (t, 2), (x, y) at every t)\n",
      "charges_train[2].shape: (3,) -> charges for the simulation\n",
      "simulation_continued_train[2].shape: (47, 2) -> (t, 2), (x, y) at every t)\n",
      "----\n",
      "\n"
     ]
    }
   ],
   "source": [
    "print('Print some shapes:\\n')\n",
    "for i in range(3):\n",
    "    print('simulation_train[{}].shape:'.format(i), simulation_train[i].shape, '-> (t, 2), (x, y) at every t)')\n",
    "    print('charges_train[{}].shape:'.format(i), charges_train[i].shape, '-> charges for the simulation')\n",
    "    print('simulation_continued_train[{}].shape:'.format(i), simulation_continued_train[i].shape, '-> (t, 2), (x, y) at every t)')\n",
    "    print('----\\n')"
   ]
  },
  {
   "cell_type": "code",
   "execution_count": 6,
   "id": "f9106543",
   "metadata": {},
   "outputs": [],
   "source": [
    "def plot_example(x, x_gt=None, x_pred=None, fn=None):\n",
    "    charge_locations = np.array([[-1.53846154, -1.53846154],\n",
    "                                 [ 1.53846154, -1.53846154],\n",
    "                                 [ 0.        ,  1.53846154]])  # charge locations are fixed\n",
    "    fig = plt.figure()\n",
    "    axes = plt.gca()\n",
    "    axes.set_xlim([-5., 5.])\n",
    "    axes.set_ylim([-5., 5.])\n",
    "    cmap = matplotlib.cm.get_cmap('tab20')\n",
    "    plt.plot(x[:, 0], x[:, 1], color=cmap(0))\n",
    "    plt.plot(x[0, 0], x[0, 1], 'd', color=cmap(1))\n",
    "    fig.set_size_inches(5, 5)\n",
    "    for charge in charge_locations:\n",
    "        plt.plot(charge[0], charge[1], 'd', color='black')\n",
    "    if x_gt is not None:\n",
    "        plt.plot(x_gt[:, 0], x_gt[:, 1], color='red', linewidth=.5)\n",
    "    if x_pred is not None:\n",
    "        plt.plot(x_pred[:, 0], x_pred[:, 1], color='green', linestyle='--')\n",
    "    if fn is None:\n",
    "        plt.show()\n",
    "    else:\n",
    "        plt.savefig(fn)"
   ]
  },
  {
   "cell_type": "code",
   "execution_count": 7,
   "id": "d28681a6",
   "metadata": {},
   "outputs": [
    {
     "data": {
      "image/png": "[encoded data removed]",
      "text/plain": [
       "<Figure size 360x360 with 1 Axes>"
      ]
     },
     "metadata": {
      "needs_background": "light"
     },
     "output_type": "display_data"
    },
    {
     "name": "stdout",
     "output_type": "stream",
     "text": [
      "Charges are [-0.07307143 -0.30110073 -0.15867207]\n"
     ]
    }
   ],
   "source": [
    "test_idx = np.random.randint(150)\n",
    "plot_example(simulation_train[test_idx], simulation_continued_train[test_idx])\n",
    "print(f'Charges are {charges_train[test_idx]}')"
   ]
  },
  {
   "cell_type": "markdown",
   "id": "883762b1",
   "metadata": {},
   "source": [
    "# Task 3.1"
   ]
  },
  {
   "cell_type": "markdown",
   "id": "4c1ddabe",
   "metadata": {},
   "source": [
    "## Data Handling and Preprocessing"
   ]
  },
  {
   "cell_type": "code",
   "execution_count": 19,
   "id": "bd9df856",
   "metadata": {},
   "outputs": [
    {
     "name": "stdout",
     "output_type": "stream",
     "text": [
      "Device is set to cuda\n"
     ]
    }
   ],
   "source": [
    "# Pick the best device\n",
    "import torch\n",
    "\n",
    "def try_device(device):\n",
    "    # Try to put an array on given device. If successful, return device. Else, 'cpu'.\n",
    "    x = torch.ones((1,))\n",
    "    try:\n",
    "        x.to(device)\n",
    "        return device\n",
    "    except:\n",
    "        return 'cpu'\n",
    "\n",
    "device = try_device('cuda')\n",
    "if device == 'cpu':\n",
    "    # mps doesn't support our model (yet?)\n",
    "    # device = try_device('mps')\n",
    "    pass\n",
    "\n",
    "\n",
    "print(f'Device is set to {device}')"
   ]
  },
  {
   "cell_type": "code",
   "execution_count": 9,
   "id": "7dd9b7c1",
   "metadata": {},
   "outputs": [],
   "source": [
    "# Task 3.1: Using the positions of positively charged particle p1 during a simulation, predict the\n",
    "# values of negative charges c2, c3, c4\n",
    "# input = t locations (x, y) of p1 particle, value of t is not fixed\n",
    "\n",
    "from torch.utils.data import DataLoader, Dataset\n",
    "from torch.nn.utils.rnn import pack_sequence, pad_sequence\n",
    "\n",
    "class SimulationData(Dataset):\n",
    "    def __init__(self, sim, charges):\n",
    "        self.sim = sim\n",
    "        self.charges = charges\n",
    "\n",
    "    def __len__(self):\n",
    "        return len(self.sim)\n",
    "\n",
    "    def __getitem__(self, idx):\n",
    "        return self.sim[idx], self.charges[idx]\n",
    "\n",
    "# Create data loader\n",
    "def cpu_collate(data):\n",
    "    # Sort data in order of decreasing sequence length\n",
    "    data = list(reversed(sorted(data, key=lambda d: len(d[0]))))\n",
    "    xs = pad_sequence([torch.tensor(x).float() for x, _ in data], batch_first=True)\n",
    "    ys = torch.stack([torch.tensor(y).float() for _, y in data])\n",
    "    return xs, ys\n",
    "\n",
    "\n",
    "# Create data loader\n",
    "def gpu_collate(data):\n",
    "    # Sort data in order of decreasing sequence length\n",
    "    data = list(reversed(sorted(data, key=lambda d: len(d[0]))))\n",
    "    xs = pad_sequence([torch.tensor(x).float() for x, _ in data], batch_first=True)\n",
    "    ys = torch.stack([torch.tensor(y).float() for _, y in data])\n",
    "    return xs.to(device), ys.to(device)\n",
    "\n",
    "\n",
    "# Batch size needs to evenly divide all train, valid, test sizes (800, 100, 100)\n",
    "batch_size = 5\n",
    "cpu_train_dl = DataLoader(SimulationData(simulation_train, charges_train), batch_size=batch_size, shuffle=True, collate_fn=cpu_collate)\n",
    "cpu_valid_dl = DataLoader(SimulationData(simulation_valid, charges_valid), batch_size=batch_size, shuffle=True, collate_fn=cpu_collate)\n",
    "\n",
    "gpu_train_dl = DataLoader(SimulationData(simulation_train, charges_train), batch_size=batch_size, shuffle=True, collate_fn=gpu_collate)\n",
    "gpu_valid_dl = DataLoader(SimulationData(simulation_valid, charges_valid), batch_size=batch_size, shuffle=True, collate_fn=gpu_collate)\n"
   ]
  },
  {
   "cell_type": "code",
   "execution_count": 11,
   "id": "4ec1e03a",
   "metadata": {},
   "outputs": [
    {
     "name": "stdout",
     "output_type": "stream",
     "text": [
      "(103, 2)\n",
      "5\n",
      "torch.Size([108, 2]) torch.Size([3])\n"
     ]
    }
   ],
   "source": [
    "print(simulation_train[0].shape)\n",
    "# Test data loader\n",
    "xs, ys = next(iter(cpu_train_dl))\n",
    "print(len(xs))\n",
    "print(xs[0].shape, ys[0].shape)"
   ]
  },
  {
   "cell_type": "code",
   "execution_count": 12,
   "id": "d48b8fb1",
   "metadata": {},
   "outputs": [
    {
     "name": "stdout",
     "output_type": "stream",
     "text": [
      "Baseline L1 train error: 0.7429318428039551\n",
      "Baseline L1 validation error: 0.7968491911888123\n"
     ]
    }
   ],
   "source": [
    "# Baseline model: predict the mean value of each charge in the training set\n",
    "baseline_values = torch.tensor(np.array(charges_train).mean(axis=0))\n",
    "def baseline_predict(xs):\n",
    "    batch = xs.shape[0]\n",
    "    return baseline_values.expand(batch, 3)\n",
    "\n",
    "loss_fn = lambda y, y_pred: (y - y_pred).abs().sum()\n",
    "\n",
    "# Baseline error?\n",
    "\n",
    "def avg_err(model, dl, loss_fn=torch.nn.L1Loss(reduction='sum')):\n",
    "    loss = 0\n",
    "    n_samples = 0\n",
    "    for x, y in dl:\n",
    "        y_pred = model(x)\n",
    "        loss += loss_fn(y, y_pred)\n",
    "        n_samples += x.shape[0]\n",
    "    return loss / n_samples\n",
    "\n",
    "\n",
    "print(f'Baseline L1 train error: {avg_err(baseline_predict, cpu_train_dl)}')\n",
    "print(f'Baseline L1 validation error: {avg_err(baseline_predict, cpu_valid_dl)}')"
   ]
  },
  {
   "cell_type": "markdown",
   "id": "cc8853f6",
   "metadata": {},
   "source": [
    "## Model Implementation"
   ]
  },
  {
   "cell_type": "code",
   "execution_count": 13,
   "id": "8794a0cf",
   "metadata": {},
   "outputs": [
    {
     "name": "stdout",
     "output_type": "stream",
     "text": [
      "torch.Size([5, 3])\n"
     ]
    }
   ],
   "source": [
    "class Model_3_1(torch.nn.Module):\n",
    "    def __init__(self, hidden_dim, n_layers, batch_size):\n",
    "        super(Model_3_1, self).__init__()\n",
    "        # input/output size are fixed based on the task description\n",
    "        input_dim = 2\n",
    "        output_dim = 3\n",
    "\n",
    "        self.hidden_dim = hidden_dim\n",
    "        self.n_layers = n_layers\n",
    "        self.batch_size = batch_size\n",
    "        \n",
    "        self.gru = torch.nn.GRU(input_dim, hidden_dim, n_layers, batch_first=True)\n",
    "        self.relu = torch.nn.ReLU()\n",
    "        self.fc = torch.nn.Linear(hidden_dim, output_dim)\n",
    "        \n",
    "    def forward(self, x):\n",
    "        h = self.init_hidden()\n",
    "        x = x.to(device)\n",
    "        out, h = self.gru(x, h)\n",
    "        out = self.fc(self.relu(out[:,-1]))\n",
    "        return out\n",
    "    \n",
    "    def init_hidden(self):\n",
    "        # from example of https://pytorch.org/docs/stable/generated/torch.nn.GRU.html\n",
    "        h0 = torch.randn(self.n_layers, self.batch_size, self.hidden_dim).to(device)\n",
    "        return h0\n",
    "\n",
    "xs = xs.to(device)\n",
    "model_3_1 = Model_3_1(30, 5, batch_size).to(device)\n",
    "print(model_3_1(xs).shape)"
   ]
  },
  {
   "cell_type": "markdown",
   "id": "0e443b7f",
   "metadata": {},
   "source": [
    "## Model Training"
   ]
  },
  {
   "cell_type": "code",
   "execution_count": 44,
   "id": "5a5b0aca",
   "metadata": {},
   "outputs": [],
   "source": [
    "from tqdm import tqdm\n",
    "\n",
    "train_loss_graph, val_loss_graph = list(), list()\n",
    "\n",
    "def fit_3_1(model, train_dl, valid_dl, n_epochs):\n",
    "    optimizer = torch.optim.AdamW(model.parameters(), lr=1e-3)\n",
    "    loss_func = torch.nn.L1Loss()\n",
    "    loss_func = loss_func.to(device)\n",
    "\n",
    "    for i in range(n_epochs):\n",
    "        print(f'Begin epoch {i + 1}/{n_epochs}')\n",
    "        for x, y in tqdm(train_dl):\n",
    "            x = x.to(device)\n",
    "            y = y.to(device).float()\n",
    "            y_pred = model(x)\n",
    "            loss = loss_func(y, y_pred)\n",
    "            loss.backward()\n",
    "            optimizer.step()\n",
    "            optimizer.zero_grad()\n",
    "        \n",
    "        with torch.no_grad():\n",
    "            train_err = avg_err(model, train_dl)\n",
    "            val_err = avg_err(model, valid_dl)\n",
    "            print(f'L1 train error: {train_err}')\n",
    "            print(f'L1 validation error: {val_err}')\n",
    "            train_loss_graph.append(train_err)\n",
    "            val_loss_graph.append(val_err)"
   ]
  },
  {
   "cell_type": "code",
   "execution_count": 45,
   "id": "a3181fdc",
   "metadata": {},
   "outputs": [
    {
     "name": "stdout",
     "output_type": "stream",
     "text": [
      "Model has 25473 parameters\n",
      "Begin epoch 1/150\n"
     ]
    },
    {
     "name": "stderr",
     "output_type": "stream",
     "text": [
      "100%|████████████████████████████████████████████████████████████████████████████████| 160/160 [00:02<00:00, 72.04it/s]\n"
     ]
    },
    {
     "name": "stdout",
     "output_type": "stream",
     "text": [
      "L1 train error: 0.7328307032585144\n",
      "L1 validation error: 0.7619458436965942\n",
      "Begin epoch 2/150\n"
     ]
    },
    {
     "name": "stderr",
     "output_type": "stream",
     "text": [
      "100%|████████████████████████████████████████████████████████████████████████████████| 160/160 [00:02<00:00, 71.50it/s]\n"
     ]
    },
    {
     "name": "stdout",
     "output_type": "stream",
     "text": [
      "L1 train error: 0.6017531156539917\n",
      "L1 validation error: 0.6357011198997498\n",
      "Begin epoch 3/150\n"
     ]
    },
    {
     "name": "stderr",
     "output_type": "stream",
     "text": [
      "100%|████████████████████████████████████████████████████████████████████████████████| 160/160 [00:02<00:00, 72.74it/s]\n"
     ]
    },
    {
     "name": "stdout",
     "output_type": "stream",
     "text": [
      "L1 train error: 0.6055735945701599\n",
      "L1 validation error: 0.6395753622055054\n",
      "Begin epoch 4/150\n"
     ]
    },
    {
     "name": "stderr",
     "output_type": "stream",
     "text": [
      "100%|████████████████████████████████████████████████████████████████████████████████| 160/160 [00:02<00:00, 71.24it/s]\n"
     ]
    },
    {
     "name": "stdout",
     "output_type": "stream",
     "text": [
      "L1 train error: 0.504177451133728\n",
      "L1 validation error: 0.5267606973648071\n",
      "Begin epoch 5/150\n"
     ]
    },
    {
     "name": "stderr",
     "output_type": "stream",
     "text": [
      "100%|████████████████████████████████████████████████████████████████████████████████| 160/160 [00:02<00:00, 68.38it/s]\n"
     ]
    },
    {
     "name": "stdout",
     "output_type": "stream",
     "text": [
      "L1 train error: 0.47816261649131775\n",
      "L1 validation error: 0.4654507637023926\n",
      "Begin epoch 6/150\n"
     ]
    },
    {
     "name": "stderr",
     "output_type": "stream",
     "text": [
      "100%|████████████████████████████████████████████████████████████████████████████████| 160/160 [00:02<00:00, 68.95it/s]\n"
     ]
    },
    {
     "name": "stdout",
     "output_type": "stream",
     "text": [
      "L1 train error: 0.4323008954524994\n",
      "L1 validation error: 0.4132891297340393\n",
      "Begin epoch 7/150\n"
     ]
    },
    {
     "name": "stderr",
     "output_type": "stream",
     "text": [
      "100%|████████████████████████████████████████████████████████████████████████████████| 160/160 [00:02<00:00, 68.20it/s]\n"
     ]
    },
    {
     "name": "stdout",
     "output_type": "stream",
     "text": [
      "L1 train error: 0.4464136064052582\n",
      "L1 validation error: 0.48416075110435486\n",
      "Begin epoch 8/150\n"
     ]
    },
    {
     "name": "stderr",
     "output_type": "stream",
     "text": [
      "100%|████████████████████████████████████████████████████████████████████████████████| 160/160 [00:02<00:00, 72.12it/s]\n"
     ]
    },
    {
     "name": "stdout",
     "output_type": "stream",
     "text": [
      "L1 train error: 0.41048935055732727\n",
      "L1 validation error: 0.4169163107872009\n",
      "Begin epoch 9/150\n"
     ]
    },
    {
     "name": "stderr",
     "output_type": "stream",
     "text": [
      "100%|████████████████████████████████████████████████████████████████████████████████| 160/160 [00:02<00:00, 65.48it/s]\n"
     ]
    },
    {
     "name": "stdout",
     "output_type": "stream",
     "text": [
      "L1 train error: 0.4110434651374817\n",
      "L1 validation error: 0.4104712903499603\n",
      "Begin epoch 10/150\n"
     ]
    },
    {
     "name": "stderr",
     "output_type": "stream",
     "text": [
      "100%|████████████████████████████████████████████████████████████████████████████████| 160/160 [00:02<00:00, 77.75it/s]\n"
     ]
    },
    {
     "name": "stdout",
     "output_type": "stream",
     "text": [
      "L1 train error: 0.41151922941207886\n",
      "L1 validation error: 0.4121166467666626\n",
      "Begin epoch 11/150\n"
     ]
    },
    {
     "name": "stderr",
     "output_type": "stream",
     "text": [
      "100%|████████████████████████████████████████████████████████████████████████████████| 160/160 [00:02<00:00, 72.95it/s]\n"
     ]
    },
    {
     "name": "stdout",
     "output_type": "stream",
     "text": [
      "L1 train error: 0.36165744066238403\n",
      "L1 validation error: 0.36849963665008545\n",
      "Begin epoch 12/150\n"
     ]
    },
    {
     "name": "stderr",
     "output_type": "stream",
     "text": [
      "100%|████████████████████████████████████████████████████████████████████████████████| 160/160 [00:02<00:00, 68.38it/s]\n"
     ]
    },
    {
     "name": "stdout",
     "output_type": "stream",
     "text": [
      "L1 train error: 0.3612075448036194\n",
      "L1 validation error: 0.3787432909011841\n",
      "Begin epoch 13/150\n"
     ]
    },
    {
     "name": "stderr",
     "output_type": "stream",
     "text": [
      "100%|████████████████████████████████████████████████████████████████████████████████| 160/160 [00:02<00:00, 73.39it/s]\n"
     ]
    },
    {
     "name": "stdout",
     "output_type": "stream",
     "text": [
      "L1 train error: 0.34647291898727417\n",
      "L1 validation error: 0.36202529072761536\n",
      "Begin epoch 14/150\n"
     ]
    },
    {
     "name": "stderr",
     "output_type": "stream",
     "text": [
      "100%|████████████████████████████████████████████████████████████████████████████████| 160/160 [00:02<00:00, 72.81it/s]\n"
     ]
    },
    {
     "name": "stdout",
     "output_type": "stream",
     "text": [
      "L1 train error: 0.3359376788139343\n",
      "L1 validation error: 0.35319700837135315\n",
      "Begin epoch 15/150\n"
     ]
    },
    {
     "name": "stderr",
     "output_type": "stream",
     "text": [
      "100%|████████████████████████████████████████████████████████████████████████████████| 160/160 [00:02<00:00, 74.13it/s]\n"
     ]
    },
    {
     "name": "stdout",
     "output_type": "stream",
     "text": [
      "L1 train error: 0.31537771224975586\n",
      "L1 validation error: 0.3407256305217743\n",
      "Begin epoch 16/150\n"
     ]
    },
    {
     "name": "stderr",
     "output_type": "stream",
     "text": [
      "100%|████████████████████████████████████████████████████████████████████████████████| 160/160 [00:02<00:00, 70.33it/s]\n"
     ]
    },
    {
     "name": "stdout",
     "output_type": "stream",
     "text": [
      "L1 train error: 0.3062566816806793\n",
      "L1 validation error: 0.32741647958755493\n",
      "Begin epoch 17/150\n"
     ]
    },
    {
     "name": "stderr",
     "output_type": "stream",
     "text": [
      "100%|████████████████████████████████████████████████████████████████████████████████| 160/160 [00:02<00:00, 73.83it/s]\n"
     ]
    },
    {
     "name": "stdout",
     "output_type": "stream",
     "text": [
      "L1 train error: 0.3078247904777527\n",
      "L1 validation error: 0.31957000494003296\n",
      "Begin epoch 18/150\n"
     ]
    },
    {
     "name": "stderr",
     "output_type": "stream",
     "text": [
      "100%|████████████████████████████████████████████████████████████████████████████████| 160/160 [00:02<00:00, 74.74it/s]\n"
     ]
    },
    {
     "name": "stdout",
     "output_type": "stream",
     "text": [
      "L1 train error: 0.2982976734638214\n",
      "L1 validation error: 0.30352580547332764\n",
      "Begin epoch 19/150\n"
     ]
    },
    {
     "name": "stderr",
     "output_type": "stream",
     "text": [
      "100%|████████████████████████████████████████████████████████████████████████████████| 160/160 [00:02<00:00, 74.80it/s]\n"
     ]
    },
    {
     "name": "stdout",
     "output_type": "stream",
     "text": [
      "L1 train error: 0.30141741037368774\n",
      "L1 validation error: 0.3327621817588806\n",
      "Begin epoch 20/150\n"
     ]
    },
    {
     "name": "stderr",
     "output_type": "stream",
     "text": [
      "100%|████████████████████████████████████████████████████████████████████████████████| 160/160 [00:02<00:00, 68.15it/s]\n"
     ]
    },
    {
     "name": "stdout",
     "output_type": "stream",
     "text": [
      "L1 train error: 0.3184242248535156\n",
      "L1 validation error: 0.3375991880893707\n",
      "Begin epoch 21/150\n"
     ]
    },
    {
     "name": "stderr",
     "output_type": "stream",
     "text": [
      "100%|████████████████████████████████████████████████████████████████████████████████| 160/160 [00:02<00:00, 68.53it/s]\n"
     ]
    },
    {
     "name": "stdout",
     "output_type": "stream",
     "text": [
      "L1 train error: 0.287388414144516\n",
      "L1 validation error: 0.3182353377342224\n",
      "Begin epoch 22/150\n"
     ]
    },
    {
     "name": "stderr",
     "output_type": "stream",
     "text": [
      "100%|████████████████████████████████████████████████████████████████████████████████| 160/160 [00:02<00:00, 75.27it/s]\n"
     ]
    },
    {
     "name": "stdout",
     "output_type": "stream",
     "text": [
      "L1 train error: 0.27272912859916687\n",
      "L1 validation error: 0.2964199185371399\n",
      "Begin epoch 23/150\n"
     ]
    },
    {
     "name": "stderr",
     "output_type": "stream",
     "text": [
      "100%|████████████████████████████████████████████████████████████████████████████████| 160/160 [00:02<00:00, 77.54it/s]\n"
     ]
    },
    {
     "name": "stdout",
     "output_type": "stream",
     "text": [
      "L1 train error: 0.26363006234169006\n",
      "L1 validation error: 0.2774542570114136\n",
      "Begin epoch 24/150\n"
     ]
    },
    {
     "name": "stderr",
     "output_type": "stream",
     "text": [
      "100%|████████████████████████████████████████████████████████████████████████████████| 160/160 [00:02<00:00, 77.37it/s]\n"
     ]
    },
    {
     "name": "stdout",
     "output_type": "stream",
     "text": [
      "L1 train error: 0.2549857199192047\n",
      "L1 validation error: 0.31210455298423767\n",
      "Begin epoch 25/150\n"
     ]
    },
    {
     "name": "stderr",
     "output_type": "stream",
     "text": [
      "100%|████████████████████████████████████████████████████████████████████████████████| 160/160 [00:02<00:00, 76.48it/s]\n"
     ]
    },
    {
     "name": "stdout",
     "output_type": "stream",
     "text": [
      "L1 train error: 0.2583114802837372\n",
      "L1 validation error: 0.2994951605796814\n",
      "Begin epoch 26/150\n"
     ]
    },
    {
     "name": "stderr",
     "output_type": "stream",
     "text": [
      "100%|████████████████████████████████████████████████████████████████████████████████| 160/160 [00:02<00:00, 71.78it/s]\n"
     ]
    },
    {
     "name": "stdout",
     "output_type": "stream",
     "text": [
      "L1 train error: 0.24654345214366913\n",
      "L1 validation error: 0.29262444376945496\n",
      "Begin epoch 27/150\n"
     ]
    },
    {
     "name": "stderr",
     "output_type": "stream",
     "text": [
      "100%|████████████████████████████████████████████████████████████████████████████████| 160/160 [00:02<00:00, 71.89it/s]\n"
     ]
    },
    {
     "name": "stdout",
     "output_type": "stream",
     "text": [
      "L1 train error: 0.2261524796485901\n",
      "L1 validation error: 0.2321389764547348\n",
      "Begin epoch 28/150\n"
     ]
    },
    {
     "name": "stderr",
     "output_type": "stream",
     "text": [
      "100%|████████████████████████████████████████████████████████████████████████████████| 160/160 [00:02<00:00, 72.97it/s]\n"
     ]
    },
    {
     "name": "stdout",
     "output_type": "stream",
     "text": [
      "L1 train error: 0.245222270488739\n",
      "L1 validation error: 0.2737250328063965\n",
      "Begin epoch 29/150\n"
     ]
    },
    {
     "name": "stderr",
     "output_type": "stream",
     "text": [
      "100%|████████████████████████████████████████████████████████████████████████████████| 160/160 [00:02<00:00, 76.82it/s]\n"
     ]
    },
    {
     "name": "stdout",
     "output_type": "stream",
     "text": [
      "L1 train error: 0.2256159782409668\n",
      "L1 validation error: 0.25214365124702454\n",
      "Begin epoch 30/150\n"
     ]
    },
    {
     "name": "stderr",
     "output_type": "stream",
     "text": [
      "100%|████████████████████████████████████████████████████████████████████████████████| 160/160 [00:02<00:00, 71.43it/s]\n"
     ]
    },
    {
     "name": "stdout",
     "output_type": "stream",
     "text": [
      "L1 train error: 0.23021890223026276\n",
      "L1 validation error: 0.27025583386421204\n",
      "Begin epoch 31/150\n"
     ]
    },
    {
     "name": "stderr",
     "output_type": "stream",
     "text": [
      "100%|████████████████████████████████████████████████████████████████████████████████| 160/160 [00:02<00:00, 74.80it/s]\n"
     ]
    },
    {
     "name": "stdout",
     "output_type": "stream",
     "text": [
      "L1 train error: 0.20757070183753967\n",
      "L1 validation error: 0.23794881999492645\n",
      "Begin epoch 32/150\n"
     ]
    },
    {
     "name": "stderr",
     "output_type": "stream",
     "text": [
      "100%|████████████████████████████████████████████████████████████████████████████████| 160/160 [00:02<00:00, 76.55it/s]\n"
     ]
    },
    {
     "name": "stdout",
     "output_type": "stream",
     "text": [
      "L1 train error: 0.24898497760295868\n",
      "L1 validation error: 0.2951958477497101\n",
      "Begin epoch 33/150\n"
     ]
    },
    {
     "name": "stderr",
     "output_type": "stream",
     "text": [
      "100%|████████████████████████████████████████████████████████████████████████████████| 160/160 [00:02<00:00, 73.63it/s]\n"
     ]
    },
    {
     "name": "stdout",
     "output_type": "stream",
     "text": [
      "L1 train error: 0.22061392664909363\n",
      "L1 validation error: 0.25348803400993347\n",
      "Begin epoch 34/150\n"
     ]
    },
    {
     "name": "stderr",
     "output_type": "stream",
     "text": [
      "100%|████████████████████████████████████████████████████████████████████████████████| 160/160 [00:02<00:00, 75.14it/s]\n"
     ]
    },
    {
     "name": "stdout",
     "output_type": "stream",
     "text": [
      "L1 train error: 0.21035753190517426\n",
      "L1 validation error: 0.23783168196678162\n",
      "Begin epoch 35/150\n"
     ]
    },
    {
     "name": "stderr",
     "output_type": "stream",
     "text": [
      "100%|████████████████████████████████████████████████████████████████████████████████| 160/160 [00:02<00:00, 75.70it/s]\n"
     ]
    },
    {
     "name": "stdout",
     "output_type": "stream",
     "text": [
      "L1 train error: 0.22819942235946655\n",
      "L1 validation error: 0.2580842673778534\n",
      "Begin epoch 36/150\n"
     ]
    },
    {
     "name": "stderr",
     "output_type": "stream",
     "text": [
      "100%|████████████████████████████████████████████████████████████████████████████████| 160/160 [00:02<00:00, 74.34it/s]\n"
     ]
    },
    {
     "name": "stdout",
     "output_type": "stream",
     "text": [
      "L1 train error: 0.23184362053871155\n",
      "L1 validation error: 0.27607250213623047\n",
      "Begin epoch 37/150\n"
     ]
    },
    {
     "name": "stderr",
     "output_type": "stream",
     "text": [
      "100%|████████████████████████████████████████████████████████████████████████████████| 160/160 [00:02<00:00, 75.82it/s]\n"
     ]
    },
    {
     "name": "stdout",
     "output_type": "stream",
     "text": [
      "L1 train error: 0.2044658362865448\n",
      "L1 validation error: 0.23390574753284454\n",
      "Begin epoch 38/150\n"
     ]
    },
    {
     "name": "stderr",
     "output_type": "stream",
     "text": [
      "100%|████████████████████████████████████████████████████████████████████████████████| 160/160 [00:02<00:00, 76.15it/s]\n"
     ]
    },
    {
     "name": "stdout",
     "output_type": "stream",
     "text": [
      "L1 train error: 0.19403035938739777\n",
      "L1 validation error: 0.22492694854736328\n",
      "Begin epoch 39/150\n"
     ]
    },
    {
     "name": "stderr",
     "output_type": "stream",
     "text": [
      "100%|████████████████████████████████████████████████████████████████████████████████| 160/160 [00:02<00:00, 72.66it/s]\n"
     ]
    },
    {
     "name": "stdout",
     "output_type": "stream",
     "text": [
      "L1 train error: 0.22096826136112213\n",
      "L1 validation error: 0.25676852464675903\n",
      "Begin epoch 40/150\n"
     ]
    },
    {
     "name": "stderr",
     "output_type": "stream",
     "text": [
      "100%|████████████████████████████████████████████████████████████████████████████████| 160/160 [00:02<00:00, 72.14it/s]\n"
     ]
    },
    {
     "name": "stdout",
     "output_type": "stream",
     "text": [
      "L1 train error: 0.19072143733501434\n",
      "L1 validation error: 0.22024430334568024\n",
      "Begin epoch 41/150\n"
     ]
    },
    {
     "name": "stderr",
     "output_type": "stream",
     "text": [
      "100%|████████████████████████████████████████████████████████████████████████████████| 160/160 [00:02<00:00, 74.71it/s]\n"
     ]
    },
    {
     "name": "stdout",
     "output_type": "stream",
     "text": [
      "L1 train error: 0.17769372463226318\n",
      "L1 validation error: 0.2233038991689682\n",
      "Begin epoch 42/150\n"
     ]
    },
    {
     "name": "stderr",
     "output_type": "stream",
     "text": [
      "100%|████████████████████████████████████████████████████████████████████████████████| 160/160 [00:02<00:00, 72.51it/s]\n"
     ]
    },
    {
     "name": "stdout",
     "output_type": "stream",
     "text": [
      "L1 train error: 0.1896410882472992\n",
      "L1 validation error: 0.21944640576839447\n",
      "Begin epoch 43/150\n"
     ]
    },
    {
     "name": "stderr",
     "output_type": "stream",
     "text": [
      "100%|████████████████████████████████████████████████████████████████████████████████| 160/160 [00:02<00:00, 77.59it/s]\n"
     ]
    },
    {
     "name": "stdout",
     "output_type": "stream",
     "text": [
      "L1 train error: 0.21500857174396515\n",
      "L1 validation error: 0.23785999417304993\n",
      "Begin epoch 44/150\n"
     ]
    },
    {
     "name": "stderr",
     "output_type": "stream",
     "text": [
      "100%|████████████████████████████████████████████████████████████████████████████████| 160/160 [00:02<00:00, 73.73it/s]\n"
     ]
    },
    {
     "name": "stdout",
     "output_type": "stream",
     "text": [
      "L1 train error: 0.19552822411060333\n",
      "L1 validation error: 0.21311844885349274\n",
      "Begin epoch 45/150\n"
     ]
    },
    {
     "name": "stderr",
     "output_type": "stream",
     "text": [
      "100%|████████████████████████████████████████████████████████████████████████████████| 160/160 [00:02<00:00, 75.64it/s]\n"
     ]
    },
    {
     "name": "stdout",
     "output_type": "stream",
     "text": [
      "L1 train error: 0.18649819493293762\n",
      "L1 validation error: 0.2174585610628128\n",
      "Begin epoch 46/150\n"
     ]
    },
    {
     "name": "stderr",
     "output_type": "stream",
     "text": [
      "100%|████████████████████████████████████████████████████████████████████████████████| 160/160 [00:02<00:00, 73.81it/s]\n"
     ]
    },
    {
     "name": "stdout",
     "output_type": "stream",
     "text": [
      "L1 train error: 0.17324313521385193\n",
      "L1 validation error: 0.2054947018623352\n",
      "Begin epoch 47/150\n"
     ]
    },
    {
     "name": "stderr",
     "output_type": "stream",
     "text": [
      "100%|████████████████████████████████████████████████████████████████████████████████| 160/160 [00:02<00:00, 78.26it/s]\n"
     ]
    },
    {
     "name": "stdout",
     "output_type": "stream",
     "text": [
      "L1 train error: 0.17614483833312988\n",
      "L1 validation error: 0.22176235914230347\n",
      "Begin epoch 48/150\n"
     ]
    },
    {
     "name": "stderr",
     "output_type": "stream",
     "text": [
      "100%|████████████████████████████████████████████████████████████████████████████████| 160/160 [00:02<00:00, 74.95it/s]\n"
     ]
    },
    {
     "name": "stdout",
     "output_type": "stream",
     "text": [
      "L1 train error: 0.17964212596416473\n",
      "L1 validation error: 0.20476658642292023\n",
      "Begin epoch 49/150\n"
     ]
    },
    {
     "name": "stderr",
     "output_type": "stream",
     "text": [
      "100%|████████████████████████████████████████████████████████████████████████████████| 160/160 [00:02<00:00, 75.62it/s]\n"
     ]
    },
    {
     "name": "stdout",
     "output_type": "stream",
     "text": [
      "L1 train error: 0.19048915803432465\n",
      "L1 validation error: 0.24233466386795044\n",
      "Begin epoch 50/150\n"
     ]
    },
    {
     "name": "stderr",
     "output_type": "stream",
     "text": [
      "100%|████████████████████████████████████████████████████████████████████████████████| 160/160 [00:02<00:00, 71.70it/s]\n"
     ]
    },
    {
     "name": "stdout",
     "output_type": "stream",
     "text": [
      "L1 train error: 0.19148828089237213\n",
      "L1 validation error: 0.2149127870798111\n",
      "Begin epoch 51/150\n"
     ]
    },
    {
     "name": "stderr",
     "output_type": "stream",
     "text": [
      "100%|████████████████████████████████████████████████████████████████████████████████| 160/160 [00:02<00:00, 75.02it/s]\n"
     ]
    },
    {
     "name": "stdout",
     "output_type": "stream",
     "text": [
      "L1 train error: 0.19412057101726532\n",
      "L1 validation error: 0.22145164012908936\n",
      "Begin epoch 52/150\n"
     ]
    },
    {
     "name": "stderr",
     "output_type": "stream",
     "text": [
      "100%|████████████████████████████████████████████████████████████████████████████████| 160/160 [00:02<00:00, 73.92it/s]\n"
     ]
    },
    {
     "name": "stdout",
     "output_type": "stream",
     "text": [
      "L1 train error: 0.1654762476682663\n",
      "L1 validation error: 0.19611960649490356\n",
      "Begin epoch 53/150\n"
     ]
    },
    {
     "name": "stderr",
     "output_type": "stream",
     "text": [
      "100%|████████████████████████████████████████████████████████████████████████████████| 160/160 [00:02<00:00, 77.42it/s]\n"
     ]
    },
    {
     "name": "stdout",
     "output_type": "stream",
     "text": [
      "L1 train error: 0.1756943315267563\n",
      "L1 validation error: 0.220437154173851\n",
      "Begin epoch 54/150\n"
     ]
    },
    {
     "name": "stderr",
     "output_type": "stream",
     "text": [
      "100%|████████████████████████████████████████████████████████████████████████████████| 160/160 [00:02<00:00, 75.72it/s]\n"
     ]
    },
    {
     "name": "stdout",
     "output_type": "stream",
     "text": [
      "L1 train error: 0.17688345909118652\n",
      "L1 validation error: 0.20684222877025604\n",
      "Begin epoch 55/150\n"
     ]
    },
    {
     "name": "stderr",
     "output_type": "stream",
     "text": [
      "100%|████████████████████████████████████████████████████████████████████████████████| 160/160 [00:02<00:00, 76.54it/s]\n"
     ]
    },
    {
     "name": "stdout",
     "output_type": "stream",
     "text": [
      "L1 train error: 0.17253759503364563\n",
      "L1 validation error: 0.2024705857038498\n",
      "Begin epoch 56/150\n"
     ]
    },
    {
     "name": "stderr",
     "output_type": "stream",
     "text": [
      "100%|████████████████████████████████████████████████████████████████████████████████| 160/160 [00:02<00:00, 77.01it/s]\n"
     ]
    },
    {
     "name": "stdout",
     "output_type": "stream",
     "text": [
      "L1 train error: 0.17965058982372284\n",
      "L1 validation error: 0.2179626226425171\n",
      "Begin epoch 57/150\n"
     ]
    },
    {
     "name": "stderr",
     "output_type": "stream",
     "text": [
      "100%|████████████████████████████████████████████████████████████████████████████████| 160/160 [00:02<00:00, 76.38it/s]\n"
     ]
    },
    {
     "name": "stdout",
     "output_type": "stream",
     "text": [
      "L1 train error: 0.16360360383987427\n",
      "L1 validation error: 0.19997413456439972\n",
      "Begin epoch 58/150\n"
     ]
    },
    {
     "name": "stderr",
     "output_type": "stream",
     "text": [
      "100%|████████████████████████████████████████████████████████████████████████████████| 160/160 [00:02<00:00, 73.89it/s]\n"
     ]
    },
    {
     "name": "stdout",
     "output_type": "stream",
     "text": [
      "L1 train error: 0.1584576517343521\n",
      "L1 validation error: 0.19855035841464996\n",
      "Begin epoch 59/150\n"
     ]
    },
    {
     "name": "stderr",
     "output_type": "stream",
     "text": [
      "100%|████████████████████████████████████████████████████████████████████████████████| 160/160 [00:02<00:00, 73.58it/s]\n"
     ]
    },
    {
     "name": "stdout",
     "output_type": "stream",
     "text": [
      "L1 train error: 0.1955864131450653\n",
      "L1 validation error: 0.22748669981956482\n",
      "Begin epoch 60/150\n"
     ]
    },
    {
     "name": "stderr",
     "output_type": "stream",
     "text": [
      "100%|████████████████████████████████████████████████████████████████████████████████| 160/160 [00:02<00:00, 73.80it/s]\n"
     ]
    },
    {
     "name": "stdout",
     "output_type": "stream",
     "text": [
      "L1 train error: 0.16693232953548431\n",
      "L1 validation error: 0.21051615476608276\n",
      "Begin epoch 61/150\n"
     ]
    },
    {
     "name": "stderr",
     "output_type": "stream",
     "text": [
      "100%|████████████████████████████████████████████████████████████████████████████████| 160/160 [00:02<00:00, 76.10it/s]\n"
     ]
    },
    {
     "name": "stdout",
     "output_type": "stream",
     "text": [
      "L1 train error: 0.18895956873893738\n",
      "L1 validation error: 0.21109206974506378\n",
      "Begin epoch 62/150\n"
     ]
    },
    {
     "name": "stderr",
     "output_type": "stream",
     "text": [
      "100%|████████████████████████████████████████████████████████████████████████████████| 160/160 [00:02<00:00, 74.30it/s]\n"
     ]
    },
    {
     "name": "stdout",
     "output_type": "stream",
     "text": [
      "L1 train error: 0.16283313930034637\n",
      "L1 validation error: 0.19898448884487152\n",
      "Begin epoch 63/150\n"
     ]
    },
    {
     "name": "stderr",
     "output_type": "stream",
     "text": [
      "100%|████████████████████████████████████████████████████████████████████████████████| 160/160 [00:02<00:00, 73.08it/s]\n"
     ]
    },
    {
     "name": "stdout",
     "output_type": "stream",
     "text": [
      "L1 train error: 0.15065805613994598\n",
      "L1 validation error: 0.18939617276191711\n",
      "Begin epoch 64/150\n"
     ]
    },
    {
     "name": "stderr",
     "output_type": "stream",
     "text": [
      "100%|████████████████████████████████████████████████████████████████████████████████| 160/160 [00:02<00:00, 77.86it/s]\n"
     ]
    },
    {
     "name": "stdout",
     "output_type": "stream",
     "text": [
      "L1 train error: 0.16683059930801392\n",
      "L1 validation error: 0.2102113515138626\n",
      "Begin epoch 65/150\n"
     ]
    },
    {
     "name": "stderr",
     "output_type": "stream",
     "text": [
      "100%|████████████████████████████████████████████████████████████████████████████████| 160/160 [00:02<00:00, 73.43it/s]\n"
     ]
    },
    {
     "name": "stdout",
     "output_type": "stream",
     "text": [
      "L1 train error: 0.1563086062669754\n",
      "L1 validation error: 0.19352534413337708\n",
      "Begin epoch 66/150\n"
     ]
    },
    {
     "name": "stderr",
     "output_type": "stream",
     "text": [
      "100%|████████████████████████████████████████████████████████████████████████████████| 160/160 [00:02<00:00, 77.36it/s]\n"
     ]
    },
    {
     "name": "stdout",
     "output_type": "stream",
     "text": [
      "L1 train error: 0.15219420194625854\n",
      "L1 validation error: 0.1894087791442871\n",
      "Begin epoch 67/150\n"
     ]
    },
    {
     "name": "stderr",
     "output_type": "stream",
     "text": [
      "100%|████████████████████████████████████████████████████████████████████████████████| 160/160 [00:02<00:00, 71.99it/s]\n"
     ]
    },
    {
     "name": "stdout",
     "output_type": "stream",
     "text": [
      "L1 train error: 0.17565256357192993\n",
      "L1 validation error: 0.21222442388534546\n",
      "Begin epoch 68/150\n"
     ]
    },
    {
     "name": "stderr",
     "output_type": "stream",
     "text": [
      "100%|████████████████████████████████████████████████████████████████████████████████| 160/160 [00:02<00:00, 75.41it/s]\n"
     ]
    },
    {
     "name": "stdout",
     "output_type": "stream",
     "text": [
      "L1 train error: 0.17106766998767853\n",
      "L1 validation error: 0.21067723631858826\n",
      "Begin epoch 69/150\n"
     ]
    },
    {
     "name": "stderr",
     "output_type": "stream",
     "text": [
      "100%|████████████████████████████████████████████████████████████████████████████████| 160/160 [00:02<00:00, 71.99it/s]\n"
     ]
    },
    {
     "name": "stdout",
     "output_type": "stream",
     "text": [
      "L1 train error: 0.16834519803524017\n",
      "L1 validation error: 0.22636961936950684\n",
      "Begin epoch 70/150\n"
     ]
    },
    {
     "name": "stderr",
     "output_type": "stream",
     "text": [
      "100%|████████████████████████████████████████████████████████████████████████████████| 160/160 [00:02<00:00, 71.69it/s]\n"
     ]
    },
    {
     "name": "stdout",
     "output_type": "stream",
     "text": [
      "L1 train error: 0.16210317611694336\n",
      "L1 validation error: 0.19697226583957672\n",
      "Begin epoch 71/150\n"
     ]
    },
    {
     "name": "stderr",
     "output_type": "stream",
     "text": [
      "100%|████████████████████████████████████████████████████████████████████████████████| 160/160 [00:02<00:00, 76.73it/s]\n"
     ]
    },
    {
     "name": "stdout",
     "output_type": "stream",
     "text": [
      "L1 train error: 0.15341860055923462\n",
      "L1 validation error: 0.19370877742767334\n",
      "Begin epoch 72/150\n"
     ]
    },
    {
     "name": "stderr",
     "output_type": "stream",
     "text": [
      "100%|████████████████████████████████████████████████████████████████████████████████| 160/160 [00:02<00:00, 76.25it/s]\n"
     ]
    },
    {
     "name": "stdout",
     "output_type": "stream",
     "text": [
      "L1 train error: 0.18824639916419983\n",
      "L1 validation error: 0.22405177354812622\n",
      "Begin epoch 73/150\n"
     ]
    },
    {
     "name": "stderr",
     "output_type": "stream",
     "text": [
      "100%|████████████████████████████████████████████████████████████████████████████████| 160/160 [00:02<00:00, 76.37it/s]\n"
     ]
    },
    {
     "name": "stdout",
     "output_type": "stream",
     "text": [
      "L1 train error: 0.1524973213672638\n",
      "L1 validation error: 0.19539976119995117\n",
      "Begin epoch 74/150\n"
     ]
    },
    {
     "name": "stderr",
     "output_type": "stream",
     "text": [
      "100%|████████████████████████████████████████████████████████████████████████████████| 160/160 [00:02<00:00, 77.66it/s]\n"
     ]
    },
    {
     "name": "stdout",
     "output_type": "stream",
     "text": [
      "L1 train error: 0.15645301342010498\n",
      "L1 validation error: 0.18572314083576202\n",
      "Begin epoch 75/150\n"
     ]
    },
    {
     "name": "stderr",
     "output_type": "stream",
     "text": [
      "100%|████████████████████████████████████████████████████████████████████████████████| 160/160 [00:02<00:00, 77.63it/s]\n"
     ]
    },
    {
     "name": "stdout",
     "output_type": "stream",
     "text": [
      "L1 train error: 0.14256049692630768\n",
      "L1 validation error: 0.19179317355155945\n",
      "Begin epoch 76/150\n"
     ]
    },
    {
     "name": "stderr",
     "output_type": "stream",
     "text": [
      "100%|████████████████████████████████████████████████████████████████████████████████| 160/160 [00:02<00:00, 73.40it/s]\n"
     ]
    },
    {
     "name": "stdout",
     "output_type": "stream",
     "text": [
      "L1 train error: 0.17792142927646637\n",
      "L1 validation error: 0.21395736932754517\n",
      "Begin epoch 77/150\n"
     ]
    },
    {
     "name": "stderr",
     "output_type": "stream",
     "text": [
      "100%|████████████████████████████████████████████████████████████████████████████████| 160/160 [00:02<00:00, 74.12it/s]\n"
     ]
    },
    {
     "name": "stdout",
     "output_type": "stream",
     "text": [
      "L1 train error: 0.1508200466632843\n",
      "L1 validation error: 0.209770068526268\n",
      "Begin epoch 78/150\n"
     ]
    },
    {
     "name": "stderr",
     "output_type": "stream",
     "text": [
      "100%|████████████████████████████████████████████████████████████████████████████████| 160/160 [00:02<00:00, 72.97it/s]\n"
     ]
    },
    {
     "name": "stdout",
     "output_type": "stream",
     "text": [
      "L1 train error: 0.16921140253543854\n",
      "L1 validation error: 0.22804908454418182\n",
      "Begin epoch 79/150\n"
     ]
    },
    {
     "name": "stderr",
     "output_type": "stream",
     "text": [
      "100%|████████████████████████████████████████████████████████████████████████████████| 160/160 [00:02<00:00, 74.18it/s]\n"
     ]
    },
    {
     "name": "stdout",
     "output_type": "stream",
     "text": [
      "L1 train error: 0.16901181638240814\n",
      "L1 validation error: 0.21424277126789093\n",
      "Begin epoch 80/150\n"
     ]
    },
    {
     "name": "stderr",
     "output_type": "stream",
     "text": [
      "100%|████████████████████████████████████████████████████████████████████████████████| 160/160 [00:02<00:00, 71.72it/s]\n"
     ]
    },
    {
     "name": "stdout",
     "output_type": "stream",
     "text": [
      "L1 train error: 0.14479465782642365\n",
      "L1 validation error: 0.17775321006774902\n",
      "Begin epoch 81/150\n"
     ]
    },
    {
     "name": "stderr",
     "output_type": "stream",
     "text": [
      "100%|████████████████████████████████████████████████████████████████████████████████| 160/160 [00:02<00:00, 70.74it/s]\n"
     ]
    },
    {
     "name": "stdout",
     "output_type": "stream",
     "text": [
      "L1 train error: 0.14363974332809448\n",
      "L1 validation error: 0.19535762071609497\n",
      "Begin epoch 82/150\n"
     ]
    },
    {
     "name": "stderr",
     "output_type": "stream",
     "text": [
      "100%|████████████████████████████████████████████████████████████████████████████████| 160/160 [00:02<00:00, 72.62it/s]\n"
     ]
    },
    {
     "name": "stdout",
     "output_type": "stream",
     "text": [
      "L1 train error: 0.14455553889274597\n",
      "L1 validation error: 0.1767507940530777\n",
      "Begin epoch 83/150\n"
     ]
    },
    {
     "name": "stderr",
     "output_type": "stream",
     "text": [
      "100%|████████████████████████████████████████████████████████████████████████████████| 160/160 [00:02<00:00, 73.13it/s]\n"
     ]
    },
    {
     "name": "stdout",
     "output_type": "stream",
     "text": [
      "L1 train error: 0.1565140187740326\n",
      "L1 validation error: 0.21114394068717957\n",
      "Begin epoch 84/150\n"
     ]
    },
    {
     "name": "stderr",
     "output_type": "stream",
     "text": [
      "100%|████████████████████████████████████████████████████████████████████████████████| 160/160 [00:02<00:00, 72.63it/s]\n"
     ]
    },
    {
     "name": "stdout",
     "output_type": "stream",
     "text": [
      "L1 train error: 0.1673271507024765\n",
      "L1 validation error: 0.20210568606853485\n",
      "Begin epoch 85/150\n"
     ]
    },
    {
     "name": "stderr",
     "output_type": "stream",
     "text": [
      "100%|████████████████████████████████████████████████████████████████████████████████| 160/160 [00:01<00:00, 80.81it/s]\n"
     ]
    },
    {
     "name": "stdout",
     "output_type": "stream",
     "text": [
      "L1 train error: 0.1423092931509018\n",
      "L1 validation error: 0.1882171779870987\n",
      "Begin epoch 86/150\n"
     ]
    },
    {
     "name": "stderr",
     "output_type": "stream",
     "text": [
      "100%|████████████████████████████████████████████████████████████████████████████████| 160/160 [00:02<00:00, 77.84it/s]\n"
     ]
    },
    {
     "name": "stdout",
     "output_type": "stream",
     "text": [
      "L1 train error: 0.16799110174179077\n",
      "L1 validation error: 0.21925701200962067\n",
      "Begin epoch 87/150\n"
     ]
    },
    {
     "name": "stderr",
     "output_type": "stream",
     "text": [
      "100%|████████████████████████████████████████████████████████████████████████████████| 160/160 [00:02<00:00, 79.40it/s]\n"
     ]
    },
    {
     "name": "stdout",
     "output_type": "stream",
     "text": [
      "L1 train error: 0.14455580711364746\n",
      "L1 validation error: 0.17787785828113556\n",
      "Begin epoch 88/150\n"
     ]
    },
    {
     "name": "stderr",
     "output_type": "stream",
     "text": [
      "100%|████████████████████████████████████████████████████████████████████████████████| 160/160 [00:02<00:00, 76.73it/s]\n"
     ]
    },
    {
     "name": "stdout",
     "output_type": "stream",
     "text": [
      "L1 train error: 0.14718040823936462\n",
      "L1 validation error: 0.20529966056346893\n",
      "Begin epoch 89/150\n"
     ]
    },
    {
     "name": "stderr",
     "output_type": "stream",
     "text": [
      "100%|████████████████████████████████████████████████████████████████████████████████| 160/160 [00:02<00:00, 78.69it/s]\n"
     ]
    },
    {
     "name": "stdout",
     "output_type": "stream",
     "text": [
      "L1 train error: 0.15881402790546417\n",
      "L1 validation error: 0.19986006617546082\n",
      "Begin epoch 90/150\n"
     ]
    },
    {
     "name": "stderr",
     "output_type": "stream",
     "text": [
      "100%|████████████████████████████████████████████████████████████████████████████████| 160/160 [00:02<00:00, 76.11it/s]\n"
     ]
    },
    {
     "name": "stdout",
     "output_type": "stream",
     "text": [
      "L1 train error: 0.15914110839366913\n",
      "L1 validation error: 0.2132977992296219\n",
      "Begin epoch 91/150\n"
     ]
    },
    {
     "name": "stderr",
     "output_type": "stream",
     "text": [
      "100%|████████████████████████████████████████████████████████████████████████████████| 160/160 [00:02<00:00, 74.51it/s]\n"
     ]
    },
    {
     "name": "stdout",
     "output_type": "stream",
     "text": [
      "L1 train error: 0.13453780114650726\n",
      "L1 validation error: 0.1826593577861786\n",
      "Begin epoch 92/150\n"
     ]
    },
    {
     "name": "stderr",
     "output_type": "stream",
     "text": [
      "100%|████████████████████████████████████████████████████████████████████████████████| 160/160 [00:02<00:00, 77.96it/s]\n"
     ]
    },
    {
     "name": "stdout",
     "output_type": "stream",
     "text": [
      "L1 train error: 0.13858580589294434\n",
      "L1 validation error: 0.19964717328548431\n",
      "Begin epoch 93/150\n"
     ]
    },
    {
     "name": "stderr",
     "output_type": "stream",
     "text": [
      "100%|████████████████████████████████████████████████████████████████████████████████| 160/160 [00:02<00:00, 72.27it/s]\n"
     ]
    },
    {
     "name": "stdout",
     "output_type": "stream",
     "text": [
      "L1 train error: 0.16504335403442383\n",
      "L1 validation error: 0.21858619153499603\n",
      "Begin epoch 94/150\n"
     ]
    },
    {
     "name": "stderr",
     "output_type": "stream",
     "text": [
      "100%|████████████████████████████████████████████████████████████████████████████████| 160/160 [00:02<00:00, 76.97it/s]\n"
     ]
    },
    {
     "name": "stdout",
     "output_type": "stream",
     "text": [
      "L1 train error: 0.15114794671535492\n",
      "L1 validation error: 0.1994553655385971\n",
      "Begin epoch 95/150\n"
     ]
    },
    {
     "name": "stderr",
     "output_type": "stream",
     "text": [
      "100%|████████████████████████████████████████████████████████████████████████████████| 160/160 [00:02<00:00, 74.01it/s]\n"
     ]
    },
    {
     "name": "stdout",
     "output_type": "stream",
     "text": [
      "L1 train error: 0.1361074298620224\n",
      "L1 validation error: 0.1959923654794693\n",
      "Begin epoch 96/150\n"
     ]
    },
    {
     "name": "stderr",
     "output_type": "stream",
     "text": [
      "100%|████████████████████████████████████████████████████████████████████████████████| 160/160 [00:02<00:00, 79.00it/s]\n"
     ]
    },
    {
     "name": "stdout",
     "output_type": "stream",
     "text": [
      "L1 train error: 0.1588778793811798\n",
      "L1 validation error: 0.2194259911775589\n",
      "Begin epoch 97/150\n"
     ]
    },
    {
     "name": "stderr",
     "output_type": "stream",
     "text": [
      "100%|████████████████████████████████████████████████████████████████████████████████| 160/160 [00:02<00:00, 76.30it/s]\n"
     ]
    },
    {
     "name": "stdout",
     "output_type": "stream",
     "text": [
      "L1 train error: 0.1563248634338379\n",
      "L1 validation error: 0.19435201585292816\n",
      "Begin epoch 98/150\n"
     ]
    },
    {
     "name": "stderr",
     "output_type": "stream",
     "text": [
      "100%|████████████████████████████████████████████████████████████████████████████████| 160/160 [00:02<00:00, 78.69it/s]\n"
     ]
    },
    {
     "name": "stdout",
     "output_type": "stream",
     "text": [
      "L1 train error: 0.1420973390340805\n",
      "L1 validation error: 0.19663098454475403\n",
      "Begin epoch 99/150\n"
     ]
    },
    {
     "name": "stderr",
     "output_type": "stream",
     "text": [
      "100%|████████████████████████████████████████████████████████████████████████████████| 160/160 [00:02<00:00, 74.75it/s]\n"
     ]
    },
    {
     "name": "stdout",
     "output_type": "stream",
     "text": [
      "L1 train error: 0.14775915443897247\n",
      "L1 validation error: 0.18539054691791534\n",
      "Begin epoch 100/150\n"
     ]
    },
    {
     "name": "stderr",
     "output_type": "stream",
     "text": [
      "100%|████████████████████████████████████████████████████████████████████████████████| 160/160 [00:02<00:00, 75.25it/s]\n"
     ]
    },
    {
     "name": "stdout",
     "output_type": "stream",
     "text": [
      "L1 train error: 0.13826291263103485\n",
      "L1 validation error: 0.18605157732963562\n",
      "Begin epoch 101/150\n"
     ]
    },
    {
     "name": "stderr",
     "output_type": "stream",
     "text": [
      "100%|████████████████████████████████████████████████████████████████████████████████| 160/160 [00:02<00:00, 76.65it/s]\n"
     ]
    },
    {
     "name": "stdout",
     "output_type": "stream",
     "text": [
      "L1 train error: 0.13475723564624786\n",
      "L1 validation error: 0.1781642735004425\n",
      "Begin epoch 102/150\n"
     ]
    },
    {
     "name": "stderr",
     "output_type": "stream",
     "text": [
      "100%|████████████████████████████████████████████████████████████████████████████████| 160/160 [00:02<00:00, 70.68it/s]\n"
     ]
    },
    {
     "name": "stdout",
     "output_type": "stream",
     "text": [
      "L1 train error: 0.13888558745384216\n",
      "L1 validation error: 0.21431255340576172\n",
      "Begin epoch 103/150\n"
     ]
    },
    {
     "name": "stderr",
     "output_type": "stream",
     "text": [
      "100%|████████████████████████████████████████████████████████████████████████████████| 160/160 [00:02<00:00, 74.75it/s]\n"
     ]
    },
    {
     "name": "stdout",
     "output_type": "stream",
     "text": [
      "L1 train error: 0.13840198516845703\n",
      "L1 validation error: 0.19585536420345306\n",
      "Begin epoch 104/150\n"
     ]
    },
    {
     "name": "stderr",
     "output_type": "stream",
     "text": [
      "100%|████████████████████████████████████████████████████████████████████████████████| 160/160 [00:02<00:00, 70.33it/s]\n"
     ]
    },
    {
     "name": "stdout",
     "output_type": "stream",
     "text": [
      "L1 train error: 0.14465171098709106\n",
      "L1 validation error: 0.17959679663181305\n",
      "Begin epoch 105/150\n"
     ]
    },
    {
     "name": "stderr",
     "output_type": "stream",
     "text": [
      "100%|████████████████████████████████████████████████████████████████████████████████| 160/160 [00:02<00:00, 74.99it/s]\n"
     ]
    },
    {
     "name": "stdout",
     "output_type": "stream",
     "text": [
      "L1 train error: 0.14859893918037415\n",
      "L1 validation error: 0.19870392978191376\n",
      "Begin epoch 106/150\n"
     ]
    },
    {
     "name": "stderr",
     "output_type": "stream",
     "text": [
      "100%|████████████████████████████████████████████████████████████████████████████████| 160/160 [00:02<00:00, 78.58it/s]\n"
     ]
    },
    {
     "name": "stdout",
     "output_type": "stream",
     "text": [
      "L1 train error: 0.12393298000097275\n",
      "L1 validation error: 0.17518284916877747\n",
      "Begin epoch 107/150\n"
     ]
    },
    {
     "name": "stderr",
     "output_type": "stream",
     "text": [
      "100%|████████████████████████████████████████████████████████████████████████████████| 160/160 [00:02<00:00, 69.81it/s]\n"
     ]
    },
    {
     "name": "stdout",
     "output_type": "stream",
     "text": [
      "L1 train error: 0.12178479135036469\n",
      "L1 validation error: 0.1763008087873459\n",
      "Begin epoch 108/150\n"
     ]
    },
    {
     "name": "stderr",
     "output_type": "stream",
     "text": [
      "100%|████████████████████████████████████████████████████████████████████████████████| 160/160 [00:02<00:00, 73.93it/s]\n"
     ]
    },
    {
     "name": "stdout",
     "output_type": "stream",
     "text": [
      "L1 train error: 0.13600052893161774\n",
      "L1 validation error: 0.1888454705476761\n",
      "Begin epoch 109/150\n"
     ]
    },
    {
     "name": "stderr",
     "output_type": "stream",
     "text": [
      "100%|████████████████████████████████████████████████████████████████████████████████| 160/160 [00:02<00:00, 69.88it/s]\n"
     ]
    },
    {
     "name": "stdout",
     "output_type": "stream",
     "text": [
      "L1 train error: 0.14925894141197205\n",
      "L1 validation error: 0.19808731973171234\n",
      "Begin epoch 110/150\n"
     ]
    },
    {
     "name": "stderr",
     "output_type": "stream",
     "text": [
      "100%|████████████████████████████████████████████████████████████████████████████████| 160/160 [00:02<00:00, 75.23it/s]\n"
     ]
    },
    {
     "name": "stdout",
     "output_type": "stream",
     "text": [
      "L1 train error: 0.13498908281326294\n",
      "L1 validation error: 0.17798858880996704\n",
      "Begin epoch 111/150\n"
     ]
    },
    {
     "name": "stderr",
     "output_type": "stream",
     "text": [
      "100%|████████████████████████████████████████████████████████████████████████████████| 160/160 [00:02<00:00, 73.96it/s]\n"
     ]
    },
    {
     "name": "stdout",
     "output_type": "stream",
     "text": [
      "L1 train error: 0.14077970385551453\n",
      "L1 validation error: 0.20056869089603424\n",
      "Begin epoch 112/150\n"
     ]
    },
    {
     "name": "stderr",
     "output_type": "stream",
     "text": [
      "100%|████████████████████████████████████████████████████████████████████████████████| 160/160 [00:02<00:00, 76.58it/s]\n"
     ]
    },
    {
     "name": "stdout",
     "output_type": "stream",
     "text": [
      "L1 train error: 0.154440775513649\n",
      "L1 validation error: 0.1846729964017868\n",
      "Begin epoch 113/150\n"
     ]
    },
    {
     "name": "stderr",
     "output_type": "stream",
     "text": [
      "100%|████████████████████████████████████████████████████████████████████████████████| 160/160 [00:02<00:00, 72.53it/s]\n"
     ]
    },
    {
     "name": "stdout",
     "output_type": "stream",
     "text": [
      "L1 train error: 0.15990006923675537\n",
      "L1 validation error: 0.1883406788110733\n",
      "Begin epoch 114/150\n"
     ]
    },
    {
     "name": "stderr",
     "output_type": "stream",
     "text": [
      "100%|████████████████████████████████████████████████████████████████████████████████| 160/160 [00:02<00:00, 77.79it/s]\n"
     ]
    },
    {
     "name": "stdout",
     "output_type": "stream",
     "text": [
      "L1 train error: 0.11858536303043365\n",
      "L1 validation error: 0.16480153799057007\n",
      "Begin epoch 115/150\n"
     ]
    },
    {
     "name": "stderr",
     "output_type": "stream",
     "text": [
      "100%|████████████████████████████████████████████████████████████████████████████████| 160/160 [00:02<00:00, 77.82it/s]\n"
     ]
    },
    {
     "name": "stdout",
     "output_type": "stream",
     "text": [
      "L1 train error: 0.12768009305000305\n",
      "L1 validation error: 0.1723688542842865\n",
      "Begin epoch 116/150\n"
     ]
    },
    {
     "name": "stderr",
     "output_type": "stream",
     "text": [
      "100%|████████████████████████████████████████████████████████████████████████████████| 160/160 [00:02<00:00, 74.86it/s]\n"
     ]
    },
    {
     "name": "stdout",
     "output_type": "stream",
     "text": [
      "L1 train error: 0.14032988250255585\n",
      "L1 validation error: 0.18389135599136353\n",
      "Begin epoch 117/150\n"
     ]
    },
    {
     "name": "stderr",
     "output_type": "stream",
     "text": [
      "100%|████████████████████████████████████████████████████████████████████████████████| 160/160 [00:02<00:00, 69.48it/s]\n"
     ]
    },
    {
     "name": "stdout",
     "output_type": "stream",
     "text": [
      "L1 train error: 0.14030085504055023\n",
      "L1 validation error: 0.20434308052062988\n",
      "Begin epoch 118/150\n"
     ]
    },
    {
     "name": "stderr",
     "output_type": "stream",
     "text": [
      "100%|████████████████████████████████████████████████████████████████████████████████| 160/160 [00:02<00:00, 77.86it/s]\n"
     ]
    },
    {
     "name": "stdout",
     "output_type": "stream",
     "text": [
      "L1 train error: 0.1305730938911438\n",
      "L1 validation error: 0.16936589777469635\n",
      "Begin epoch 119/150\n"
     ]
    },
    {
     "name": "stderr",
     "output_type": "stream",
     "text": [
      "100%|████████████████████████████████████████████████████████████████████████████████| 160/160 [00:02<00:00, 71.16it/s]\n"
     ]
    },
    {
     "name": "stdout",
     "output_type": "stream",
     "text": [
      "L1 train error: 0.13519547879695892\n",
      "L1 validation error: 0.19068986177444458\n",
      "Begin epoch 120/150\n"
     ]
    },
    {
     "name": "stderr",
     "output_type": "stream",
     "text": [
      "100%|████████████████████████████████████████████████████████████████████████████████| 160/160 [00:02<00:00, 73.75it/s]\n"
     ]
    },
    {
     "name": "stdout",
     "output_type": "stream",
     "text": [
      "L1 train error: 0.14041411876678467\n",
      "L1 validation error: 0.1747642308473587\n",
      "Begin epoch 121/150\n"
     ]
    },
    {
     "name": "stderr",
     "output_type": "stream",
     "text": [
      "100%|████████████████████████████████████████████████████████████████████████████████| 160/160 [00:02<00:00, 72.04it/s]\n"
     ]
    },
    {
     "name": "stdout",
     "output_type": "stream",
     "text": [
      "L1 train error: 0.11974682658910751\n",
      "L1 validation error: 0.1683385968208313\n",
      "Begin epoch 122/150\n"
     ]
    },
    {
     "name": "stderr",
     "output_type": "stream",
     "text": [
      "100%|████████████████████████████████████████████████████████████████████████████████| 160/160 [00:02<00:00, 75.24it/s]\n"
     ]
    },
    {
     "name": "stdout",
     "output_type": "stream",
     "text": [
      "L1 train error: 0.1196492463350296\n",
      "L1 validation error: 0.18100827932357788\n",
      "Begin epoch 123/150\n"
     ]
    },
    {
     "name": "stderr",
     "output_type": "stream",
     "text": [
      "100%|████████████████████████████████████████████████████████████████████████████████| 160/160 [00:02<00:00, 75.21it/s]\n"
     ]
    },
    {
     "name": "stdout",
     "output_type": "stream",
     "text": [
      "L1 train error: 0.12868469953536987\n",
      "L1 validation error: 0.18373756110668182\n",
      "Begin epoch 124/150\n"
     ]
    },
    {
     "name": "stderr",
     "output_type": "stream",
     "text": [
      "100%|████████████████████████████████████████████████████████████████████████████████| 160/160 [00:02<00:00, 77.83it/s]\n"
     ]
    },
    {
     "name": "stdout",
     "output_type": "stream",
     "text": [
      "L1 train error: 0.1323874145746231\n",
      "L1 validation error: 0.17905694246292114\n",
      "Begin epoch 125/150\n"
     ]
    },
    {
     "name": "stderr",
     "output_type": "stream",
     "text": [
      "100%|████████████████████████████████████████████████████████████████████████████████| 160/160 [00:02<00:00, 77.46it/s]\n"
     ]
    },
    {
     "name": "stdout",
     "output_type": "stream",
     "text": [
      "L1 train error: 0.14858749508857727\n",
      "L1 validation error: 0.18687684834003448\n",
      "Begin epoch 126/150\n"
     ]
    },
    {
     "name": "stderr",
     "output_type": "stream",
     "text": [
      "100%|████████████████████████████████████████████████████████████████████████████████| 160/160 [00:02<00:00, 76.53it/s]\n"
     ]
    },
    {
     "name": "stdout",
     "output_type": "stream",
     "text": [
      "L1 train error: 0.13187859952449799\n",
      "L1 validation error: 0.15834815800189972\n",
      "Begin epoch 127/150\n"
     ]
    },
    {
     "name": "stderr",
     "output_type": "stream",
     "text": [
      "100%|████████████████████████████████████████████████████████████████████████████████| 160/160 [00:02<00:00, 71.60it/s]\n"
     ]
    },
    {
     "name": "stdout",
     "output_type": "stream",
     "text": [
      "L1 train error: 0.12534041702747345\n",
      "L1 validation error: 0.16600868105888367\n",
      "Begin epoch 128/150\n"
     ]
    },
    {
     "name": "stderr",
     "output_type": "stream",
     "text": [
      "100%|████████████████████████████████████████████████████████████████████████████████| 160/160 [00:02<00:00, 79.45it/s]\n"
     ]
    },
    {
     "name": "stdout",
     "output_type": "stream",
     "text": [
      "L1 train error: 0.12092798948287964\n",
      "L1 validation error: 0.17095902562141418\n",
      "Begin epoch 129/150\n"
     ]
    },
    {
     "name": "stderr",
     "output_type": "stream",
     "text": [
      "100%|████████████████████████████████████████████████████████████████████████████████| 160/160 [00:02<00:00, 77.10it/s]\n"
     ]
    },
    {
     "name": "stdout",
     "output_type": "stream",
     "text": [
      "L1 train error: 0.12784314155578613\n",
      "L1 validation error: 0.18386705219745636\n",
      "Begin epoch 130/150\n"
     ]
    },
    {
     "name": "stderr",
     "output_type": "stream",
     "text": [
      "100%|████████████████████████████████████████████████████████████████████████████████| 160/160 [00:02<00:00, 75.86it/s]\n"
     ]
    },
    {
     "name": "stdout",
     "output_type": "stream",
     "text": [
      "L1 train error: 0.1227097287774086\n",
      "L1 validation error: 0.17665500938892365\n",
      "Begin epoch 131/150\n"
     ]
    },
    {
     "name": "stderr",
     "output_type": "stream",
     "text": [
      "100%|████████████████████████████████████████████████████████████████████████████████| 160/160 [00:02<00:00, 76.10it/s]\n"
     ]
    },
    {
     "name": "stdout",
     "output_type": "stream",
     "text": [
      "L1 train error: 0.12545594573020935\n",
      "L1 validation error: 0.17803853750228882\n",
      "Begin epoch 132/150\n"
     ]
    },
    {
     "name": "stderr",
     "output_type": "stream",
     "text": [
      "100%|████████████████████████████████████████████████████████████████████████████████| 160/160 [00:02<00:00, 73.05it/s]\n"
     ]
    },
    {
     "name": "stdout",
     "output_type": "stream",
     "text": [
      "L1 train error: 0.1282404661178589\n",
      "L1 validation error: 0.1746329963207245\n",
      "Begin epoch 133/150\n"
     ]
    },
    {
     "name": "stderr",
     "output_type": "stream",
     "text": [
      "100%|████████████████████████████████████████████████████████████████████████████████| 160/160 [00:02<00:00, 75.46it/s]\n"
     ]
    },
    {
     "name": "stdout",
     "output_type": "stream",
     "text": [
      "L1 train error: 0.1599554717540741\n",
      "L1 validation error: 0.2242034524679184\n",
      "Begin epoch 134/150\n"
     ]
    },
    {
     "name": "stderr",
     "output_type": "stream",
     "text": [
      "100%|████████████████████████████████████████████████████████████████████████████████| 160/160 [00:02<00:00, 70.28it/s]\n"
     ]
    },
    {
     "name": "stdout",
     "output_type": "stream",
     "text": [
      "L1 train error: 0.11849996447563171\n",
      "L1 validation error: 0.17623208463191986\n",
      "Begin epoch 135/150\n"
     ]
    },
    {
     "name": "stderr",
     "output_type": "stream",
     "text": [
      "100%|████████████████████████████████████████████████████████████████████████████████| 160/160 [00:02<00:00, 76.47it/s]\n"
     ]
    },
    {
     "name": "stdout",
     "output_type": "stream",
     "text": [
      "L1 train error: 0.12893901765346527\n",
      "L1 validation error: 0.18107277154922485\n",
      "Begin epoch 136/150\n"
     ]
    },
    {
     "name": "stderr",
     "output_type": "stream",
     "text": [
      "100%|████████████████████████████████████████████████████████████████████████████████| 160/160 [00:02<00:00, 69.34it/s]\n"
     ]
    },
    {
     "name": "stdout",
     "output_type": "stream",
     "text": [
      "L1 train error: 0.12947356700897217\n",
      "L1 validation error: 0.18397483229637146\n",
      "Begin epoch 137/150\n"
     ]
    },
    {
     "name": "stderr",
     "output_type": "stream",
     "text": [
      "100%|████████████████████████████████████████████████████████████████████████████████| 160/160 [00:02<00:00, 76.56it/s]\n"
     ]
    },
    {
     "name": "stdout",
     "output_type": "stream",
     "text": [
      "L1 train error: 0.12415756285190582\n",
      "L1 validation error: 0.17599228024482727\n",
      "Begin epoch 138/150\n"
     ]
    },
    {
     "name": "stderr",
     "output_type": "stream",
     "text": [
      "100%|████████████████████████████████████████████████████████████████████████████████| 160/160 [00:02<00:00, 73.69it/s]\n"
     ]
    },
    {
     "name": "stdout",
     "output_type": "stream",
     "text": [
      "L1 train error: 0.1268746554851532\n",
      "L1 validation error: 0.1634112447500229\n",
      "Begin epoch 139/150\n"
     ]
    },
    {
     "name": "stderr",
     "output_type": "stream",
     "text": [
      "100%|████████████████████████████████████████████████████████████████████████████████| 160/160 [00:02<00:00, 74.61it/s]\n"
     ]
    },
    {
     "name": "stdout",
     "output_type": "stream",
     "text": [
      "L1 train error: 0.1272561103105545\n",
      "L1 validation error: 0.16599705815315247\n",
      "Begin epoch 140/150\n"
     ]
    },
    {
     "name": "stderr",
     "output_type": "stream",
     "text": [
      "100%|████████████████████████████████████████████████████████████████████████████████| 160/160 [00:02<00:00, 76.55it/s]\n"
     ]
    },
    {
     "name": "stdout",
     "output_type": "stream",
     "text": [
      "L1 train error: 0.1298612654209137\n",
      "L1 validation error: 0.17108257114887238\n",
      "Begin epoch 141/150\n"
     ]
    },
    {
     "name": "stderr",
     "output_type": "stream",
     "text": [
      "100%|████████████████████████████████████████████████████████████████████████████████| 160/160 [00:02<00:00, 76.31it/s]\n"
     ]
    },
    {
     "name": "stdout",
     "output_type": "stream",
     "text": [
      "L1 train error: 0.15645714104175568\n",
      "L1 validation error: 0.1908418834209442\n",
      "Begin epoch 142/150\n"
     ]
    },
    {
     "name": "stderr",
     "output_type": "stream",
     "text": [
      "100%|████████████████████████████████████████████████████████████████████████████████| 160/160 [00:02<00:00, 71.79it/s]\n"
     ]
    },
    {
     "name": "stdout",
     "output_type": "stream",
     "text": [
      "L1 train error: 0.11802775412797928\n",
      "L1 validation error: 0.1704573929309845\n",
      "Begin epoch 143/150\n"
     ]
    },
    {
     "name": "stderr",
     "output_type": "stream",
     "text": [
      "100%|████████████████████████████████████████████████████████████████████████████████| 160/160 [00:02<00:00, 75.51it/s]\n"
     ]
    },
    {
     "name": "stdout",
     "output_type": "stream",
     "text": [
      "L1 train error: 0.15297000110149384\n",
      "L1 validation error: 0.20487664639949799\n",
      "Begin epoch 144/150\n"
     ]
    },
    {
     "name": "stderr",
     "output_type": "stream",
     "text": [
      "100%|████████████████████████████████████████████████████████████████████████████████| 160/160 [00:02<00:00, 77.99it/s]\n"
     ]
    },
    {
     "name": "stdout",
     "output_type": "stream",
     "text": [
      "L1 train error: 0.1299508810043335\n",
      "L1 validation error: 0.19016893208026886\n",
      "Begin epoch 145/150\n"
     ]
    },
    {
     "name": "stderr",
     "output_type": "stream",
     "text": [
      "100%|████████████████████████████████████████████████████████████████████████████████| 160/160 [00:02<00:00, 72.31it/s]\n"
     ]
    },
    {
     "name": "stdout",
     "output_type": "stream",
     "text": [
      "L1 train error: 0.12087375670671463\n",
      "L1 validation error: 0.1931886225938797\n",
      "Begin epoch 146/150\n"
     ]
    },
    {
     "name": "stderr",
     "output_type": "stream",
     "text": [
      "100%|████████████████████████████████████████████████████████████████████████████████| 160/160 [00:02<00:00, 73.04it/s]\n"
     ]
    },
    {
     "name": "stdout",
     "output_type": "stream",
     "text": [
      "L1 train error: 0.12399359792470932\n",
      "L1 validation error: 0.17883051931858063\n",
      "Begin epoch 147/150\n"
     ]
    },
    {
     "name": "stderr",
     "output_type": "stream",
     "text": [
      "100%|████████████████████████████████████████████████████████████████████████████████| 160/160 [00:02<00:00, 79.23it/s]\n"
     ]
    },
    {
     "name": "stdout",
     "output_type": "stream",
     "text": [
      "L1 train error: 0.14534366130828857\n",
      "L1 validation error: 0.19175511598587036\n",
      "Begin epoch 148/150\n"
     ]
    },
    {
     "name": "stderr",
     "output_type": "stream",
     "text": [
      "100%|████████████████████████████████████████████████████████████████████████████████| 160/160 [00:02<00:00, 76.69it/s]\n"
     ]
    },
    {
     "name": "stdout",
     "output_type": "stream",
     "text": [
      "L1 train error: 0.12324099987745285\n",
      "L1 validation error: 0.1842464655637741\n",
      "Begin epoch 149/150\n"
     ]
    },
    {
     "name": "stderr",
     "output_type": "stream",
     "text": [
      "100%|████████████████████████████████████████████████████████████████████████████████| 160/160 [00:02<00:00, 72.03it/s]\n"
     ]
    },
    {
     "name": "stdout",
     "output_type": "stream",
     "text": [
      "L1 train error: 0.13147832453250885\n",
      "L1 validation error: 0.17707838118076324\n",
      "Begin epoch 150/150\n"
     ]
    },
    {
     "name": "stderr",
     "output_type": "stream",
     "text": [
      "100%|████████████████████████████████████████████████████████████████████████████████| 160/160 [00:02<00:00, 71.90it/s]\n"
     ]
    },
    {
     "name": "stdout",
     "output_type": "stream",
     "text": [
      "L1 train error: 0.12753254175186157\n",
      "L1 validation error: 0.16482806205749512\n"
     ]
    }
   ],
   "source": [
    "def count_parameters(model):\n",
    "    return sum(p.numel() for p in model.parameters() if p.requires_grad)\n",
    "\n",
    "hidden_size = 30\n",
    "n_layers = 5\n",
    "model_3_1 = Model_3_1(hidden_size, n_layers, batch_size).to(device)\n",
    "print(f'Model has {count_parameters(model_3_1)} parameters')\n",
    "epochs = 150\n",
    "fit_3_1(model_3_1, gpu_train_dl, gpu_valid_dl, epochs)"
   ]
  },
  {
   "cell_type": "code",
   "execution_count": 46,
   "id": "cd0abda7",
   "metadata": {},
   "outputs": [
    {
     "data": {
      "text/plain": [
       "Text(0, 0.5, 'loss value')"
      ]
     },
     "execution_count": 46,
     "metadata": {},
     "output_type": "execute_result"
    },
    {
     "data": {
      "image/png": "[encoded data removed]",
      "text/plain": [
       "<Figure size 432x288 with 1 Axes>"
      ]
     },
     "metadata": {
      "needs_background": "light"
     },
     "output_type": "display_data"
    }
   ],
   "source": [
    "import matplotlib.pyplot as plt\n",
    "\n",
    "train_loss_graph_cpu = [i.to(device='cpu') for i in train_loss_graph]\n",
    "\n",
    "plt.plot(train_loss_graph_cpu)\n",
    "plt.title(\"training loss\")\n",
    "plt.xlabel(\"epoch number\")\n",
    "plt.ylabel(\"loss value\")"
   ]
  },
  {
   "cell_type": "code",
   "execution_count": 47,
   "id": "5af330cd",
   "metadata": {},
   "outputs": [
    {
     "data": {
      "text/plain": [
       "Text(0, 0.5, 'loss value')"
      ]
     },
     "execution_count": 47,
     "metadata": {},
     "output_type": "execute_result"
    },
    {
     "data": {
      "image/png": "[encoded data removed]",
      "text/plain": [
       "<Figure size 432x288 with 1 Axes>"
      ]
     },
     "metadata": {
      "needs_background": "light"
     },
     "output_type": "display_data"
    }
   ],
   "source": [
    "val_loss_graph_cpu = [i.to(device='cpu') for i in val_loss_graph]\n",
    "\n",
    "plt.plot(val_loss_graph_cpu)\n",
    "plt.title(\"validation loss\")\n",
    "plt.xlabel(\"epoch number\")\n",
    "plt.ylabel(\"loss value\")"
   ]
  },
  {
   "cell_type": "markdown",
   "id": "da139d5b",
   "metadata": {},
   "source": [
    "## Evaluation"
   ]
  },
  {
   "cell_type": "code",
   "execution_count": 15,
   "id": "ebed03ba",
   "metadata": {},
   "outputs": [],
   "source": [
    "#todo"
   ]
  },
  {
   "cell_type": "code",
   "execution_count": null,
   "id": "17af7ec3",
   "metadata": {},
   "outputs": [],
   "source": []
  },
  {
   "cell_type": "code",
   "execution_count": null,
   "id": "43a3422e",
   "metadata": {},
   "outputs": [],
   "source": []
  },
  {
   "cell_type": "markdown",
   "id": "9a59808b",
   "metadata": {},
   "source": [
    "# Task 3.2"
   ]
  },
  {
   "cell_type": "markdown",
   "id": "f64a855d",
   "metadata": {},
   "source": [
    "## Data Handling and Preprocessing"
   ]
  },
  {
   "cell_type": "code",
   "execution_count": 16,
   "id": "5b935865",
   "metadata": {},
   "outputs": [],
   "source": [
    "#todo"
   ]
  },
  {
   "cell_type": "code",
   "execution_count": null,
   "id": "0ec19a8d",
   "metadata": {},
   "outputs": [],
   "source": []
  },
  {
   "cell_type": "code",
   "execution_count": null,
   "id": "8f189d19",
   "metadata": {},
   "outputs": [],
   "source": []
  },
  {
   "cell_type": "markdown",
   "id": "867aabb3",
   "metadata": {},
   "source": [
    "## Model Implementation"
   ]
  },
  {
   "cell_type": "code",
   "execution_count": 16,
   "id": "08d497b5",
   "metadata": {},
   "outputs": [],
   "source": [
    "x_train_shapes = [np.array(simulation_train_task32, dtype=object)[i].shape[0] for i in range(len(simulation_train_task32))]\n",
    "y_train_shapes = [np.array(simulation_continued_train, dtype=object)[i].shape[0] for i in range(len(simulation_continued_train))]"
   ]
  },
  {
   "cell_type": "code",
   "execution_count": 18,
   "id": "9f266f08",
   "metadata": {},
   "outputs": [
    {
     "name": "stdout",
     "output_type": "stream",
     "text": [
      "Training x | Mean: 99.49333333333334, Std: 6.2841034010871875, Min: 90, Max: 110\n",
      "Training y | Mean: 41.026666666666664, Std: 12.265913020326789, Min: 20, Max: 60\n"
     ]
    }
   ],
   "source": [
    "print(f\"Training x | Mean: {np.array(x_train_shapes).mean()}, Std: {np.array(x_train_shapes).std()}, Min: {np.array(x_train_shapes).min()}, Max: {np.array(x_train_shapes).max()}\")\n",
    "print(f\"Training y | Mean: {np.array(y_train_shapes).mean()}, Std: {np.array(y_train_shapes).std()}, Min: {np.array(y_train_shapes).min()}, Max: {np.array(y_train_shapes).max()}\")"
   ]
  },
  {
   "cell_type": "code",
   "execution_count": 458,
   "id": "626069a6",
   "metadata": {},
   "outputs": [],
   "source": [
    "# Task 3.2: Using the positions of positively charged particle p1 during a simulation up to t=10 +- 1,\n",
    "# continue its trajectory for an additional 4 +- 2 seconds.\n",
    "# input = t locations (x, y) of p1 particle, value of t is not fixed\n",
    "from torch.utils.data import DataLoader, Dataset\n",
    "from torch.nn.utils.rnn import pack_sequence, pad_sequence\n",
    "\n",
    "\n",
    "global zero_x\n",
    "zero_x = torch.zeros((110, 2))\n",
    "global zero_y\n",
    "zero_y = torch.zeros((60, 2))\n",
    "\n",
    "\n",
    "class loadContinued(Dataset):\n",
    "    def __init__(self, sim, cont_positions):\n",
    "        self.sim = sim\n",
    "        self.cont_positions = cont_positions\n",
    "    \n",
    "    def __len__(self):\n",
    "        return len(self.sim)\n",
    "    \n",
    "    def __getitem__(self, index):\n",
    "        return self.sim[index], self.cont_positions[index]\n",
    "\n",
    "# Create data loader\n",
    "def gpu_collate(data):\n",
    "    # Sort data in order of decreasing sequence length\n",
    "    data = list(reversed(sorted(data, key=lambda d: len(d[0]))))\n",
    "    \n",
    "    data_x = [torch.tensor(x).float() for x, _ in data][0]\n",
    "    xs = pad_sequence([data_x, zero_x])\n",
    "    xs = xs[:,0,:]\n",
    "    \n",
    "    ys = pad_sequence([[torch.tensor(y).float() for _, y in data][0], zero_y])\n",
    "    ys = ys[:, 0, :]\n",
    "    \n",
    "    xs = torch.unsqueeze(xs, 1)\n",
    "    ys = torch.unsqueeze(ys, 1)\n",
    "    \n",
    "    return xs.to(device), ys.to(device)\n",
    "\n",
    "\n",
    "# No batch size since the length of y differs for each simulation.\n",
    "gpu_cont_train_dl = DataLoader(loadContinued(simulation_train_task32, simulation_continued_train), shuffle=True, collate_fn=gpu_collate)\n",
    "gpu_cont_valid_dl = DataLoader(loadContinued(simulation_valid, simulation_continued_valid), shuffle=True, collate_fn=gpu_collate)\n"
   ]
  },
  {
   "cell_type": "code",
   "execution_count": 459,
   "id": "6d4339df",
   "metadata": {},
   "outputs": [],
   "source": [
    "from torch import nn"
   ]
  },
  {
   "cell_type": "code",
   "execution_count": 473,
   "id": "b9d97ca5",
   "metadata": {},
   "outputs": [],
   "source": [
    "class Encoder(nn.Module):\n",
    "    def __init__(self, input_size, hidden_size, n_layers, dropout):\n",
    "        super(Encoder, self).__init__()\n",
    "        self.hidden_size = hidden_size\n",
    "        self.input_size = input_size\n",
    "        self.n_layers = n_layers\n",
    "        \n",
    "        self.gru = torch.nn.GRU(input_size, hidden_size, n_layers)\n",
    "        \n",
    "    def forward(self, x):\n",
    "        hidden = self.init_hidden()\n",
    "        output, hidden = self.gru(x, hidden)\n",
    "        \n",
    "        return output, hidden\n",
    "    \n",
    "    def init_hidden(self):\n",
    "        h0 = torch.randn(self.n_layers, self.hidden_size).to(device)\n",
    "        return h0\n",
    "        "
   ]
  },
  {
   "cell_type": "code",
   "execution_count": 474,
   "id": "8aec443e",
   "metadata": {},
   "outputs": [],
   "source": [
    "class Decoder(nn.Module):\n",
    "    def __init__(self, input_size, output_size, hidden_size, n_layers, dropout):\n",
    "        super(Decoder, self).__init__()\n",
    "        self.hidden_size = hidden_size\n",
    "        self.n_layers = n_layers\n",
    "        \n",
    "        self.gru = nn.GRU(input_size, hidden_size, n_layers)\n",
    "        self.out = nn.Linear(hidden_size, output_size)\n",
    "        self.relu = nn.ReLU()\n",
    "        \n",
    "    def forward(self, x, hidden):\n",
    "        output, hidden = self.gru(x, hidden)\n",
    "        output = self.out(output)\n",
    "        output = self.relu(output)\n",
    "        \n",
    "        return output, hidden\n",
    "    "
   ]
  },
  {
   "cell_type": "code",
   "execution_count": 475,
   "id": "8eac0f12",
   "metadata": {},
   "outputs": [],
   "source": [
    "from tqdm import tqdm\n",
    "import random\n",
    "\n",
    "train_loss_graph, val_loss_graph = list(), list()\n",
    "criterion = torch.nn.L1Loss()\n",
    "\n",
    "\n",
    "def fit_seq(encoder_model, decoder_model, train_dl, valid_dl, n_epochs, teacher_forcing_ratio):\n",
    "    lr = 1e-4\n",
    "    encoder_optimizer = torch.optim.AdamW(encoder_model.parameters(), lr=lr)\n",
    "    decoder_optimizer = torch.optim.AdamW(decoder_model.parameters(), lr=lr)\n",
    "    loss_func = torch.nn.L1Loss()\n",
    "    loss_func = loss_func.to(device)\n",
    "\n",
    "    for i in range(epochs):\n",
    "        print(f'Begin epoch {i + 1}/{n_epochs}')\n",
    "        train_loss, val_loss = list(), list()\n",
    "        \n",
    "        encoder_model = encoder_model.train()\n",
    "        decoder_model = decoder_model.train()\n",
    "        for x, y in tqdm(train_dl):\n",
    "            encoder_optimizer.zero_grad()\n",
    "            decoder_optimizer.zero_grad()\n",
    "            \n",
    "            encoder_output, hidden = encoder_model(x.squeeze(1))\n",
    "            outputs = torch.zeros(y.shape[0], 2).to(device)\n",
    "            \n",
    "            input_decoder = y[0][0]\n",
    "            input_decoder = input_decoder.unsqueeze(0)\n",
    "            for inx, y_i in enumerate(y):\n",
    "                output, hidden = decoder_model(input_decoder, hidden)\n",
    "                \n",
    "                outputs[inx] = output\n",
    "                \n",
    "                teacher_force = random.random() < teacher_forcing_ratio\n",
    "                input_decoder = y_i if teacher_force else output\n",
    "            \n",
    "            y = y.squeeze(1)\n",
    "            loss = loss_func(outputs, y)\n",
    "            loss.backward()\n",
    "            \n",
    "            encoder_optimizer.step()\n",
    "            decoder_optimizer.step()\n",
    "            \n",
    "            train_loss.append(loss.item())            \n",
    "            torch.cuda.empty_cache()\n",
    "        \n",
    "        train_loss_graph.append(sum(train_loss) / len(train_dl))\n",
    "        \n",
    "        encoder_model = encoder_model.eval()\n",
    "        decoder_model = decoder_model.eval()\n",
    "        for x_val, y_val in valid_dl:\n",
    "            encoder_optimizer.zero_grad()\n",
    "            decoder_optimizer.zero_grad()\n",
    "            \n",
    "            encoder_output, hidden = encoder_model(x_val.squeeze(1))\n",
    "            outputs_val = torch.zeros(y_val.shape[0], 2).to(device)\n",
    "            \n",
    "            input_decoder = y_val[0][0]\n",
    "            input_decoder = input_decoder.unsqueeze(0)\n",
    "            for inx, y_i in enumerate(y_val):\n",
    "                output, hidden = decoder_model(input_decoder, hidden)\n",
    "                \n",
    "                outputs_val[inx] = output\n",
    "                \n",
    "                teacher_force = random.random() < teacher_forcing_ratio\n",
    "                input_decoder = y_i if teacher_force else output\n",
    "            \n",
    "            y_val = y_val.squeeze(1)\n",
    "            loss_val = loss_func(outputs_val, y_val)\n",
    "            \n",
    "            val_loss.append(loss_val.item())\n",
    "            torch.cuda.empty_cache()\n",
    "            \n",
    "        val_loss_graph.append(sum(val_loss) / len(valid_dl))\n",
    "        \n",
    "        print(f'Average loss: {round(train_loss_graph[-1],5)}')\n",
    "        print(f'val loss: {round(val_loss_graph[-1],5)}\\n')\n",
    "    \n"
   ]
  },
  {
   "cell_type": "code",
   "execution_count": 476,
   "id": "4cb89221",
   "metadata": {},
   "outputs": [
    {
     "name": "stdout",
     "output_type": "stream",
     "text": [
      "Encoder Model has 446976 parameters\n",
      "Decoder Model has 447234 parameters\n",
      "Begin epoch 1/50\n"
     ]
    },
    {
     "name": "stderr",
     "output_type": "stream",
     "text": [
      "100%|████████████████████████████████████████████████████████████████████████████████| 150/150 [00:22<00:00,  6.56it/s]\n"
     ]
    },
    {
     "name": "stdout",
     "output_type": "stream",
     "text": [
      "Average loss: 0.98217\n",
      "val loss: 0.94864\n",
      "\n",
      "Begin epoch 2/50\n"
     ]
    },
    {
     "name": "stderr",
     "output_type": "stream",
     "text": [
      "100%|████████████████████████████████████████████████████████████████████████████████| 150/150 [00:24<00:00,  6.14it/s]\n"
     ]
    },
    {
     "name": "stdout",
     "output_type": "stream",
     "text": [
      "Average loss: 0.90006\n",
      "val loss: 0.88557\n",
      "\n",
      "Begin epoch 3/50\n"
     ]
    },
    {
     "name": "stderr",
     "output_type": "stream",
     "text": [
      "100%|████████████████████████████████████████████████████████████████████████████████| 150/150 [00:23<00:00,  6.40it/s]\n"
     ]
    },
    {
     "name": "stdout",
     "output_type": "stream",
     "text": [
      "Average loss: 0.84997\n",
      "val loss: 0.82066\n",
      "\n",
      "Begin epoch 4/50\n"
     ]
    },
    {
     "name": "stderr",
     "output_type": "stream",
     "text": [
      "100%|████████████████████████████████████████████████████████████████████████████████| 150/150 [00:24<00:00,  6.09it/s]\n"
     ]
    },
    {
     "name": "stdout",
     "output_type": "stream",
     "text": [
      "Average loss: 0.81614\n",
      "val loss: 0.84212\n",
      "\n",
      "Begin epoch 5/50\n"
     ]
    },
    {
     "name": "stderr",
     "output_type": "stream",
     "text": [
      "100%|████████████████████████████████████████████████████████████████████████████████| 150/150 [00:24<00:00,  6.18it/s]\n"
     ]
    },
    {
     "name": "stdout",
     "output_type": "stream",
     "text": [
      "Average loss: 0.78822\n",
      "val loss: 0.80664\n",
      "\n",
      "Begin epoch 6/50\n"
     ]
    },
    {
     "name": "stderr",
     "output_type": "stream",
     "text": [
      "100%|████████████████████████████████████████████████████████████████████████████████| 150/150 [00:26<00:00,  5.68it/s]\n"
     ]
    },
    {
     "name": "stdout",
     "output_type": "stream",
     "text": [
      "Average loss: 0.77563\n",
      "val loss: 0.79324\n",
      "\n",
      "Begin epoch 7/50\n"
     ]
    },
    {
     "name": "stderr",
     "output_type": "stream",
     "text": [
      "100%|████████████████████████████████████████████████████████████████████████████████| 150/150 [00:31<00:00,  4.80it/s]\n"
     ]
    },
    {
     "name": "stdout",
     "output_type": "stream",
     "text": [
      "Average loss: 0.75922\n",
      "val loss: 0.77317\n",
      "\n",
      "Begin epoch 8/50\n"
     ]
    },
    {
     "name": "stderr",
     "output_type": "stream",
     "text": [
      "100%|████████████████████████████████████████████████████████████████████████████████| 150/150 [00:31<00:00,  4.71it/s]\n"
     ]
    },
    {
     "name": "stdout",
     "output_type": "stream",
     "text": [
      "Average loss: 0.74199\n",
      "val loss: 0.74855\n",
      "\n",
      "Begin epoch 9/50\n"
     ]
    },
    {
     "name": "stderr",
     "output_type": "stream",
     "text": [
      "100%|████████████████████████████████████████████████████████████████████████████████| 150/150 [00:29<00:00,  5.09it/s]\n"
     ]
    },
    {
     "name": "stdout",
     "output_type": "stream",
     "text": [
      "Average loss: 0.72581\n",
      "val loss: 0.73129\n",
      "\n",
      "Begin epoch 10/50\n"
     ]
    },
    {
     "name": "stderr",
     "output_type": "stream",
     "text": [
      "100%|████████████████████████████████████████████████████████████████████████████████| 150/150 [00:28<00:00,  5.29it/s]\n"
     ]
    },
    {
     "name": "stdout",
     "output_type": "stream",
     "text": [
      "Average loss: 0.72017\n",
      "val loss: 0.72988\n",
      "\n",
      "Begin epoch 11/50\n"
     ]
    },
    {
     "name": "stderr",
     "output_type": "stream",
     "text": [
      "100%|████████████████████████████████████████████████████████████████████████████████| 150/150 [00:28<00:00,  5.23it/s]\n"
     ]
    },
    {
     "name": "stdout",
     "output_type": "stream",
     "text": [
      "Average loss: 0.69835\n",
      "val loss: 0.72827\n",
      "\n",
      "Begin epoch 12/50\n"
     ]
    },
    {
     "name": "stderr",
     "output_type": "stream",
     "text": [
      "100%|████████████████████████████████████████████████████████████████████████████████| 150/150 [00:31<00:00,  4.78it/s]\n"
     ]
    },
    {
     "name": "stdout",
     "output_type": "stream",
     "text": [
      "Average loss: 0.69144\n",
      "val loss: 0.68666\n",
      "\n",
      "Begin epoch 13/50\n"
     ]
    },
    {
     "name": "stderr",
     "output_type": "stream",
     "text": [
      "100%|████████████████████████████████████████████████████████████████████████████████| 150/150 [00:28<00:00,  5.35it/s]\n"
     ]
    },
    {
     "name": "stdout",
     "output_type": "stream",
     "text": [
      "Average loss: 0.68365\n",
      "val loss: 0.68771\n",
      "\n",
      "Begin epoch 14/50\n"
     ]
    },
    {
     "name": "stderr",
     "output_type": "stream",
     "text": [
      "100%|████████████████████████████████████████████████████████████████████████████████| 150/150 [00:29<00:00,  5.06it/s]\n"
     ]
    },
    {
     "name": "stdout",
     "output_type": "stream",
     "text": [
      "Average loss: 0.6725\n",
      "val loss: 0.66898\n",
      "\n",
      "Begin epoch 15/50\n"
     ]
    },
    {
     "name": "stderr",
     "output_type": "stream",
     "text": [
      "100%|████████████████████████████████████████████████████████████████████████████████| 150/150 [00:35<00:00,  4.28it/s]\n"
     ]
    },
    {
     "name": "stdout",
     "output_type": "stream",
     "text": [
      "Average loss: 0.65812\n",
      "val loss: 0.66922\n",
      "\n",
      "Begin epoch 16/50\n"
     ]
    },
    {
     "name": "stderr",
     "output_type": "stream",
     "text": [
      "100%|████████████████████████████████████████████████████████████████████████████████| 150/150 [00:31<00:00,  4.84it/s]\n"
     ]
    },
    {
     "name": "stdout",
     "output_type": "stream",
     "text": [
      "Average loss: 0.6635\n",
      "val loss: 0.68461\n",
      "\n",
      "Begin epoch 17/50\n"
     ]
    },
    {
     "name": "stderr",
     "output_type": "stream",
     "text": [
      "100%|████████████████████████████████████████████████████████████████████████████████| 150/150 [00:35<00:00,  4.22it/s]\n"
     ]
    },
    {
     "name": "stdout",
     "output_type": "stream",
     "text": [
      "Average loss: 0.65436\n",
      "val loss: 0.66126\n",
      "\n",
      "Begin epoch 18/50\n"
     ]
    },
    {
     "name": "stderr",
     "output_type": "stream",
     "text": [
      "100%|████████████████████████████████████████████████████████████████████████████████| 150/150 [00:23<00:00,  6.31it/s]\n"
     ]
    },
    {
     "name": "stdout",
     "output_type": "stream",
     "text": [
      "Average loss: 0.6554\n",
      "val loss: 0.72518\n",
      "\n",
      "Begin epoch 19/50\n"
     ]
    },
    {
     "name": "stderr",
     "output_type": "stream",
     "text": [
      "100%|████████████████████████████████████████████████████████████████████████████████| 150/150 [00:18<00:00,  8.27it/s]\n"
     ]
    },
    {
     "name": "stdout",
     "output_type": "stream",
     "text": [
      "Average loss: 0.65403\n",
      "val loss: 0.66793\n",
      "\n",
      "Begin epoch 20/50\n"
     ]
    },
    {
     "name": "stderr",
     "output_type": "stream",
     "text": [
      "100%|████████████████████████████████████████████████████████████████████████████████| 150/150 [00:23<00:00,  6.50it/s]\n"
     ]
    },
    {
     "name": "stdout",
     "output_type": "stream",
     "text": [
      "Average loss: 0.65744\n",
      "val loss: 0.68324\n",
      "\n",
      "Begin epoch 21/50\n"
     ]
    },
    {
     "name": "stderr",
     "output_type": "stream",
     "text": [
      "100%|████████████████████████████████████████████████████████████████████████████████| 150/150 [00:34<00:00,  4.38it/s]\n"
     ]
    },
    {
     "name": "stdout",
     "output_type": "stream",
     "text": [
      "Average loss: 0.6485\n",
      "val loss: 0.65306\n",
      "\n",
      "Begin epoch 22/50\n"
     ]
    },
    {
     "name": "stderr",
     "output_type": "stream",
     "text": [
      "100%|████████████████████████████████████████████████████████████████████████████████| 150/150 [00:34<00:00,  4.37it/s]\n"
     ]
    },
    {
     "name": "stdout",
     "output_type": "stream",
     "text": [
      "Average loss: 0.6419\n",
      "val loss: 0.65714\n",
      "\n",
      "Begin epoch 23/50\n"
     ]
    },
    {
     "name": "stderr",
     "output_type": "stream",
     "text": [
      "100%|████████████████████████████████████████████████████████████████████████████████| 150/150 [00:34<00:00,  4.39it/s]\n"
     ]
    },
    {
     "name": "stdout",
     "output_type": "stream",
     "text": [
      "Average loss: 0.64477\n",
      "val loss: 0.66383\n",
      "\n",
      "Begin epoch 24/50\n"
     ]
    },
    {
     "name": "stderr",
     "output_type": "stream",
     "text": [
      "100%|████████████████████████████████████████████████████████████████████████████████| 150/150 [00:32<00:00,  4.56it/s]\n"
     ]
    },
    {
     "name": "stdout",
     "output_type": "stream",
     "text": [
      "Average loss: 0.65329\n",
      "val loss: 0.7007\n",
      "\n",
      "Begin epoch 25/50\n"
     ]
    },
    {
     "name": "stderr",
     "output_type": "stream",
     "text": [
      "100%|████████████████████████████████████████████████████████████████████████████████| 150/150 [00:31<00:00,  4.70it/s]\n"
     ]
    },
    {
     "name": "stdout",
     "output_type": "stream",
     "text": [
      "Average loss: 0.6432\n",
      "val loss: 0.6561\n",
      "\n",
      "Begin epoch 26/50\n"
     ]
    },
    {
     "name": "stderr",
     "output_type": "stream",
     "text": [
      "100%|████████████████████████████████████████████████████████████████████████████████| 150/150 [00:31<00:00,  4.69it/s]\n"
     ]
    },
    {
     "name": "stdout",
     "output_type": "stream",
     "text": [
      "Average loss: 0.63848\n",
      "val loss: 0.65217\n",
      "\n",
      "Begin epoch 27/50\n"
     ]
    },
    {
     "name": "stderr",
     "output_type": "stream",
     "text": [
      "100%|████████████████████████████████████████████████████████████████████████████████| 150/150 [00:33<00:00,  4.51it/s]\n"
     ]
    },
    {
     "name": "stdout",
     "output_type": "stream",
     "text": [
      "Average loss: 0.63734\n",
      "val loss: 0.66698\n",
      "\n",
      "Begin epoch 28/50\n"
     ]
    },
    {
     "name": "stderr",
     "output_type": "stream",
     "text": [
      "100%|████████████████████████████████████████████████████████████████████████████████| 150/150 [00:36<00:00,  4.12it/s]\n"
     ]
    },
    {
     "name": "stdout",
     "output_type": "stream",
     "text": [
      "Average loss: 0.64961\n",
      "val loss: 0.64838\n",
      "\n",
      "Begin epoch 29/50\n"
     ]
    },
    {
     "name": "stderr",
     "output_type": "stream",
     "text": [
      "100%|████████████████████████████████████████████████████████████████████████████████| 150/150 [00:24<00:00,  6.25it/s]\n"
     ]
    },
    {
     "name": "stdout",
     "output_type": "stream",
     "text": [
      "Average loss: 0.63544\n",
      "val loss: 0.64599\n",
      "\n",
      "Begin epoch 30/50\n"
     ]
    },
    {
     "name": "stderr",
     "output_type": "stream",
     "text": [
      "100%|████████████████████████████████████████████████████████████████████████████████| 150/150 [00:31<00:00,  4.82it/s]\n"
     ]
    },
    {
     "name": "stdout",
     "output_type": "stream",
     "text": [
      "Average loss: 0.63965\n",
      "val loss: 0.66058\n",
      "\n",
      "Begin epoch 31/50\n"
     ]
    },
    {
     "name": "stderr",
     "output_type": "stream",
     "text": [
      "100%|████████████████████████████████████████████████████████████████████████████████| 150/150 [00:28<00:00,  5.22it/s]\n"
     ]
    },
    {
     "name": "stdout",
     "output_type": "stream",
     "text": [
      "Average loss: 0.63912\n",
      "val loss: 0.64567\n",
      "\n",
      "Begin epoch 32/50\n"
     ]
    },
    {
     "name": "stderr",
     "output_type": "stream",
     "text": [
      "100%|████████████████████████████████████████████████████████████████████████████████| 150/150 [00:30<00:00,  4.92it/s]\n"
     ]
    },
    {
     "name": "stdout",
     "output_type": "stream",
     "text": [
      "Average loss: 0.64617\n",
      "val loss: 0.64078\n",
      "\n",
      "Begin epoch 33/50\n"
     ]
    },
    {
     "name": "stderr",
     "output_type": "stream",
     "text": [
      "100%|████████████████████████████████████████████████████████████████████████████████| 150/150 [00:28<00:00,  5.35it/s]\n"
     ]
    },
    {
     "name": "stdout",
     "output_type": "stream",
     "text": [
      "Average loss: 0.63381\n",
      "val loss: 0.6436\n",
      "\n",
      "Begin epoch 34/50\n"
     ]
    },
    {
     "name": "stderr",
     "output_type": "stream",
     "text": [
      "100%|████████████████████████████████████████████████████████████████████████████████| 150/150 [00:25<00:00,  5.82it/s]\n"
     ]
    },
    {
     "name": "stdout",
     "output_type": "stream",
     "text": [
      "Average loss: 0.63554\n",
      "val loss: 0.65072\n",
      "\n",
      "Begin epoch 35/50\n"
     ]
    },
    {
     "name": "stderr",
     "output_type": "stream",
     "text": [
      "100%|████████████████████████████████████████████████████████████████████████████████| 150/150 [00:26<00:00,  5.59it/s]\n"
     ]
    },
    {
     "name": "stdout",
     "output_type": "stream",
     "text": [
      "Average loss: 0.62943\n",
      "val loss: 0.63918\n",
      "\n",
      "Begin epoch 36/50\n"
     ]
    },
    {
     "name": "stderr",
     "output_type": "stream",
     "text": [
      "100%|████████████████████████████████████████████████████████████████████████████████| 150/150 [00:28<00:00,  5.26it/s]\n"
     ]
    },
    {
     "name": "stdout",
     "output_type": "stream",
     "text": [
      "Average loss: 0.64092\n",
      "val loss: 0.63771\n",
      "\n",
      "Begin epoch 37/50\n"
     ]
    },
    {
     "name": "stderr",
     "output_type": "stream",
     "text": [
      "100%|████████████████████████████████████████████████████████████████████████████████| 150/150 [00:25<00:00,  5.78it/s]\n"
     ]
    },
    {
     "name": "stdout",
     "output_type": "stream",
     "text": [
      "Average loss: 0.63888\n",
      "val loss: 0.63398\n",
      "\n",
      "Begin epoch 38/50\n"
     ]
    },
    {
     "name": "stderr",
     "output_type": "stream",
     "text": [
      "100%|████████████████████████████████████████████████████████████████████████████████| 150/150 [00:29<00:00,  5.16it/s]\n"
     ]
    },
    {
     "name": "stdout",
     "output_type": "stream",
     "text": [
      "Average loss: 0.63889\n",
      "val loss: 0.63763\n",
      "\n",
      "Begin epoch 39/50\n"
     ]
    },
    {
     "name": "stderr",
     "output_type": "stream",
     "text": [
      "100%|████████████████████████████████████████████████████████████████████████████████| 150/150 [00:20<00:00,  7.24it/s]\n"
     ]
    },
    {
     "name": "stdout",
     "output_type": "stream",
     "text": [
      "Average loss: 0.63524\n",
      "val loss: 0.6434\n",
      "\n",
      "Begin epoch 40/50\n"
     ]
    },
    {
     "name": "stderr",
     "output_type": "stream",
     "text": [
      "100%|████████████████████████████████████████████████████████████████████████████████| 150/150 [00:17<00:00,  8.51it/s]\n"
     ]
    },
    {
     "name": "stdout",
     "output_type": "stream",
     "text": [
      "Average loss: 0.63159\n",
      "val loss: 0.64285\n",
      "\n",
      "Begin epoch 41/50\n"
     ]
    },
    {
     "name": "stderr",
     "output_type": "stream",
     "text": [
      "100%|████████████████████████████████████████████████████████████████████████████████| 150/150 [00:19<00:00,  7.87it/s]\n"
     ]
    },
    {
     "name": "stdout",
     "output_type": "stream",
     "text": [
      "Average loss: 0.6334\n",
      "val loss: 0.63981\n",
      "\n",
      "Begin epoch 42/50\n"
     ]
    },
    {
     "name": "stderr",
     "output_type": "stream",
     "text": [
      "100%|████████████████████████████████████████████████████████████████████████████████| 150/150 [00:17<00:00,  8.70it/s]\n"
     ]
    },
    {
     "name": "stdout",
     "output_type": "stream",
     "text": [
      "Average loss: 0.6316\n",
      "val loss: 0.66195\n",
      "\n",
      "Begin epoch 43/50\n"
     ]
    },
    {
     "name": "stderr",
     "output_type": "stream",
     "text": [
      "100%|████████████████████████████████████████████████████████████████████████████████| 150/150 [00:16<00:00,  8.96it/s]\n"
     ]
    },
    {
     "name": "stdout",
     "output_type": "stream",
     "text": [
      "Average loss: 0.63941\n",
      "val loss: 0.64477\n",
      "\n",
      "Begin epoch 44/50\n"
     ]
    },
    {
     "name": "stderr",
     "output_type": "stream",
     "text": [
      "100%|████████████████████████████████████████████████████████████████████████████████| 150/150 [00:17<00:00,  8.80it/s]\n"
     ]
    },
    {
     "name": "stdout",
     "output_type": "stream",
     "text": [
      "Average loss: 0.63891\n",
      "val loss: 0.64679\n",
      "\n",
      "Begin epoch 45/50\n"
     ]
    },
    {
     "name": "stderr",
     "output_type": "stream",
     "text": [
      "100%|████████████████████████████████████████████████████████████████████████████████| 150/150 [00:16<00:00,  9.00it/s]\n"
     ]
    },
    {
     "name": "stdout",
     "output_type": "stream",
     "text": [
      "Average loss: 0.63917\n",
      "val loss: 0.65126\n",
      "\n",
      "Begin epoch 46/50\n"
     ]
    },
    {
     "name": "stderr",
     "output_type": "stream",
     "text": [
      "100%|████████████████████████████████████████████████████████████████████████████████| 150/150 [00:16<00:00,  9.27it/s]\n"
     ]
    },
    {
     "name": "stdout",
     "output_type": "stream",
     "text": [
      "Average loss: 0.63518\n",
      "val loss: 0.64372\n",
      "\n",
      "Begin epoch 47/50\n"
     ]
    },
    {
     "name": "stderr",
     "output_type": "stream",
     "text": [
      "100%|████████████████████████████████████████████████████████████████████████████████| 150/150 [00:16<00:00,  9.36it/s]\n"
     ]
    },
    {
     "name": "stdout",
     "output_type": "stream",
     "text": [
      "Average loss: 0.6353\n",
      "val loss: 0.65762\n",
      "\n",
      "Begin epoch 48/50\n"
     ]
    },
    {
     "name": "stderr",
     "output_type": "stream",
     "text": [
      "100%|████████████████████████████████████████████████████████████████████████████████| 150/150 [00:15<00:00,  9.38it/s]\n"
     ]
    },
    {
     "name": "stdout",
     "output_type": "stream",
     "text": [
      "Average loss: 0.62895\n",
      "val loss: 0.64156\n",
      "\n",
      "Begin epoch 49/50\n"
     ]
    },
    {
     "name": "stderr",
     "output_type": "stream",
     "text": [
      "100%|████████████████████████████████████████████████████████████████████████████████| 150/150 [00:16<00:00,  9.34it/s]\n"
     ]
    },
    {
     "name": "stdout",
     "output_type": "stream",
     "text": [
      "Average loss: 0.63668\n",
      "val loss: 0.64396\n",
      "\n",
      "Begin epoch 50/50\n"
     ]
    },
    {
     "name": "stderr",
     "output_type": "stream",
     "text": [
      "100%|████████████████████████████████████████████████████████████████████████████████| 150/150 [00:15<00:00,  9.41it/s]\n"
     ]
    },
    {
     "name": "stdout",
     "output_type": "stream",
     "text": [
      "Average loss: 0.62925\n",
      "val loss: 0.65072\n",
      "\n"
     ]
    }
   ],
   "source": [
    "n_layers = 5\n",
    "dropout = 0.5\n",
    "input_size = 2\n",
    "output_size = 2\n",
    "hidden_size = 128\n",
    "\n",
    "encoder_model = Encoder(input_size, hidden_size, n_layers, dropout).to(device)\n",
    "decoder_model = Decoder(input_size, output_size, hidden_size, n_layers, dropout).to(device)\n",
    "\n",
    "def count_parameters(model):\n",
    "    return sum(p.numel() for p in model.parameters() if p.requires_grad)\n",
    "\n",
    "print(f'Encoder Model has {count_parameters(encoder_model)} parameters')\n",
    "print(f'Decoder Model has {count_parameters(decoder_model)} parameters')\n",
    "epochs = 50\n",
    "fit_seq(encoder_model=encoder_model,\n",
    "        decoder_model=decoder_model,\n",
    "        train_dl=gpu_cont_train_dl, \n",
    "        valid_dl=gpu_cont_valid_dl, \n",
    "        n_epochs=epochs, \n",
    "        teacher_forcing_ratio=0.5)"
   ]
  },
  {
   "cell_type": "code",
   "execution_count": 472,
   "id": "008c9710",
   "metadata": {},
   "outputs": [
    {
     "name": "stdout",
     "output_type": "stream",
     "text": [
      "tensor([[2.5107, 0.0082],\n",
      "        [2.7021, 0.0000],\n",
      "        [2.8334, 0.0000],\n",
      "        [2.9086, 0.0529],\n",
      "        [2.9132, 0.1220],\n",
      "        [2.8603, 0.1877],\n",
      "        [2.7657, 0.2520],\n",
      "        [2.6396, 0.3170],\n",
      "        [2.4900, 0.3843],\n",
      "        [2.3211, 0.4556],\n",
      "        [2.1359, 0.5336],\n",
      "        [1.9361, 0.6208],\n",
      "        [1.7223, 0.7214],\n",
      "        [1.4945, 0.8398],\n",
      "        [1.2531, 0.9816],\n",
      "        [1.0008, 1.1526],\n",
      "        [0.7437, 1.3583],\n",
      "        [0.4929, 1.5991],\n",
      "        [0.2633, 1.8672],\n",
      "        [0.0685, 2.1416],\n",
      "        [0.0000, 2.3937],\n",
      "        [0.0000, 2.6000],\n",
      "        [0.0000, 2.7510],\n",
      "        [0.0000, 2.8479],\n",
      "        [0.0000, 2.9005],\n",
      "        [0.0000, 2.9214],\n",
      "        [0.0000, 2.9216],\n",
      "        [0.0000, 2.9097],\n",
      "        [0.0000, 2.8901],\n",
      "        [0.0000, 2.8674],\n",
      "        [0.0000, 2.8444],\n",
      "        [0.0000, 2.8220],\n",
      "        [0.0000, 2.8010],\n",
      "        [0.0000, 2.7816],\n",
      "        [0.0000, 2.7648],\n",
      "        [0.0000, 2.7493],\n",
      "        [0.0000, 2.7354],\n",
      "        [0.0000, 2.7235],\n",
      "        [0.0000, 2.7127],\n",
      "        [0.0000, 2.7033],\n",
      "        [0.0000, 2.6948],\n",
      "        [0.0000, 2.6877],\n",
      "        [0.0000, 2.6807],\n",
      "        [0.0000, 2.6749],\n",
      "        [0.0000, 2.6694],\n",
      "        [0.0000, 2.6646],\n",
      "        [0.0000, 2.6599],\n",
      "        [0.0000, 2.6557],\n",
      "        [0.0000, 2.6517],\n",
      "        [0.0000, 2.6484],\n",
      "        [0.0000, 2.6451],\n",
      "        [0.0000, 2.6420],\n",
      "        [0.0000, 2.6390],\n",
      "        [0.0000, 2.6366],\n",
      "        [0.0000, 2.6342],\n",
      "        [0.0000, 2.6319],\n",
      "        [0.0000, 2.6298],\n",
      "        [0.0000, 2.6275],\n",
      "        [0.0000, 2.6260],\n",
      "        [0.0000, 2.6241]], device='cuda:0', grad_fn=<CopySlices>)\n"
     ]
    }
   ],
   "source": [
    "print(outputs)"
   ]
  },
  {
   "cell_type": "code",
   "execution_count": 480,
   "id": "6e510d76",
   "metadata": {},
   "outputs": [
    {
     "name": "stdout",
     "output_type": "stream",
     "text": [
      "torch.Size([110, 1, 2]) torch.Size([60, 1, 2])\n"
     ]
    },
    {
     "data": {
      "image/png": "[encoded data removed]",
      "text/plain": [
       "<Figure size 360x360 with 1 Axes>"
      ]
     },
     "metadata": {
      "needs_background": "light"
     },
     "output_type": "display_data"
    }
   ],
   "source": [
    "x, y = next(iter(gpu_cont_train_dl))\n",
    "\n",
    "print(x.shape, y.shape)\n",
    "\n",
    "encoder_output, hidden = encoder_model(x.squeeze(1))\n",
    "outputs = torch.zeros(y.shape[0], 2).to(device)\n",
    "\n",
    "input_decoder = y[0][0]\n",
    "input_decoder = input_decoder.unsqueeze(0)\n",
    "for inx, y_i in enumerate(y):\n",
    "    output, hidden = decoder_model(input_decoder, hidden)\n",
    "\n",
    "    outputs[inx] = output\n",
    "\n",
    "    input_decoder = output\n",
    "\n",
    "x = x.squeeze(1)\n",
    "x = x.to(device='cpu').detach().numpy()\n",
    "new_y_pred = outputs.to(device='cpu').detach().numpy()\n",
    "    \n",
    "plot_example(x, np.array(new_y_pred))"
   ]
  },
  {
   "cell_type": "code",
   "execution_count": 478,
   "id": "5a8ef362",
   "metadata": {},
   "outputs": [
    {
     "data": {
      "image/png": "[encoded data removed]",
      "text/plain": [
       "<Figure size 360x360 with 1 Axes>"
      ]
     },
     "metadata": {
      "needs_background": "light"
     },
     "output_type": "display_data"
    }
   ],
   "source": [
    "y = y.squeeze(1)\n",
    "y = y.to(device='cpu').detach().numpy()\n",
    "plot_example(x, y)"
   ]
  },
  {
   "cell_type": "code",
   "execution_count": null,
   "id": "2e16e0ac",
   "metadata": {},
   "outputs": [],
   "source": []
  },
  {
   "cell_type": "code",
   "execution_count": null,
   "id": "62ec3f42",
   "metadata": {},
   "outputs": [],
   "source": []
  },
  {
   "cell_type": "code",
   "execution_count": null,
   "id": "1010f2d7",
   "metadata": {},
   "outputs": [],
   "source": []
  },
  {
   "cell_type": "code",
   "execution_count": null,
   "id": "730c7ccf",
   "metadata": {},
   "outputs": [],
   "source": []
  },
  {
   "cell_type": "code",
   "execution_count": 65,
   "id": "02002eb4",
   "metadata": {},
   "outputs": [],
   "source": [
    "# Task 3.2: Using the positions of positively charged particle p1 during a simulation up to t=10 +- 1,\n",
    "# continue its trajectory for an additional 4 +- 2 seconds.\n",
    "# input = t locations (x, y) of p1 particle, value of t is not fixed\n",
    "from torch.utils.data import DataLoader, Dataset\n",
    "from torch.nn.utils.rnn import pack_sequence, pad_sequence\n",
    "\n",
    "class loadContinued(Dataset):\n",
    "    def __init__(self, sim, cont_positions):\n",
    "        self.sim = sim\n",
    "        self.cont_positions = cont_positions\n",
    "    \n",
    "    def __len__(self):\n",
    "        return len(self.sim)\n",
    "    \n",
    "    def __getitem__(self, index):\n",
    "        return self.sim[index], self.cont_positions[index]\n",
    "\n",
    "# Create data loader\n",
    "def cpu_collate(data):\n",
    "    \n",
    "    # Sort data in order of decreasing sequence length\n",
    "    data = list(reversed(sorted(data, key=lambda d: len(d[0]))))\n",
    "    xs = pad_sequence([torch.tensor(x).float() for x, _ in data], batch_first=True)\n",
    "    ys = torch.stack([torch.tensor(y).float() for _, y in data])\n",
    "    return xs, ys\n",
    "\n",
    "\n",
    "# Create data loader\n",
    "def gpu_collate(data):\n",
    "    # Sort data in order of decreasing sequence length\n",
    "    data = list(reversed(sorted(data, key=lambda d: len(d[0]))))\n",
    "    xs = pad_sequence([torch.tensor(x).float() for x, _ in data], batch_first=True)\n",
    "    ys = torch.stack([torch.tensor(y).float() for _, y in data])\n",
    "    return xs.to(device), ys.to(device)\n",
    "\n",
    "\n",
    "# No batch size since the length of y differs for each simulation.\n",
    "cpu_cont_train_dl = DataLoader(loadContinued(simulation_train_task32, simulation_continued_train), shuffle=True, collate_fn=cpu_collate)\n",
    "cpu_cont_valid_dl = DataLoader(loadContinued(simulation_valid, simulation_continued_valid), shuffle=True, collate_fn=cpu_collate)\n",
    "\n",
    "gpu_cont_train_dl = DataLoader(loadContinued(simulation_train_task32, simulation_continued_train), shuffle=True, collate_fn=gpu_collate)\n",
    "gpu_cont_valid_dl = DataLoader(loadContinued(simulation_valid, simulation_continued_valid), shuffle=True, collate_fn=gpu_collate)\n"
   ]
  },
  {
   "cell_type": "code",
   "execution_count": 66,
   "id": "13db836d",
   "metadata": {},
   "outputs": [
    {
     "name": "stdout",
     "output_type": "stream",
     "text": [
      "150\n",
      "150\n",
      "103\n",
      "54\n"
     ]
    }
   ],
   "source": [
    "print(len(simulation_train_task32))\n",
    "print(len(simulation_continued_train))\n",
    "print(len(simulation_train_task32[0]))\n",
    "print(len(simulation_continued_train[0]))"
   ]
  },
  {
   "cell_type": "code",
   "execution_count": 68,
   "id": "93121355",
   "metadata": {},
   "outputs": [
    {
     "name": "stdout",
     "output_type": "stream",
     "text": [
      "torch.Size([1, 93, 2])\n",
      "torch.Size([1, 48, 2])\n",
      "tensor([[[ 3.1571e-02,  2.3559e+00],\n",
      "         [ 3.6255e-02,  2.2386e+00],\n",
      "         [ 4.1434e-02,  2.1090e+00],\n",
      "         [ 4.6921e-02,  1.9663e+00],\n",
      "         [ 5.2279e-02,  1.8091e+00],\n",
      "         [ 5.6056e-02,  1.6351e+00],\n",
      "         [ 4.9243e-02,  1.4449e+00],\n",
      "         [ 3.2261e-02,  1.2609e+00],\n",
      "         [ 1.4840e-02,  1.0838e+00],\n",
      "         [-1.5189e-03,  9.1078e-01],\n",
      "         [-1.6327e-02,  7.4046e-01],\n",
      "         [-2.9309e-02,  5.7192e-01],\n",
      "         [-4.0267e-02,  4.0452e-01],\n",
      "         [-4.9023e-02,  2.3780e-01],\n",
      "         [-5.5414e-02,  7.1439e-02],\n",
      "         [-5.9274e-02, -9.4787e-02],\n",
      "         [-6.0437e-02, -2.6100e-01],\n",
      "         [-5.8732e-02, -4.2721e-01],\n",
      "         [-5.3985e-02, -5.9334e-01],\n",
      "         [-4.6018e-02, -7.5921e-01],\n",
      "         [-3.4654e-02, -9.2450e-01],\n",
      "         [-1.9719e-02, -1.0888e+00],\n",
      "         [-1.0503e-03, -1.2515e+00],\n",
      "         [ 2.1497e-02, -1.4120e+00],\n",
      "         [ 4.8036e-02, -1.5696e+00],\n",
      "         [ 7.8629e-02, -1.7235e+00],\n",
      "         [ 1.1328e-01, -1.8729e+00],\n",
      "         [ 1.5193e-01, -2.0170e+00],\n",
      "         [ 1.9444e-01, -2.1552e+00],\n",
      "         [ 2.4062e-01, -2.2868e+00],\n",
      "         [ 2.9021e-01, -2.4113e+00],\n",
      "         [ 3.4293e-01, -2.5283e+00],\n",
      "         [ 3.9848e-01, -2.6374e+00],\n",
      "         [ 4.5653e-01, -2.7383e+00],\n",
      "         [ 5.1678e-01, -2.8308e+00],\n",
      "         [ 5.7889e-01, -2.9146e+00],\n",
      "         [ 6.4257e-01, -2.9898e+00],\n",
      "         [ 7.0752e-01, -3.0560e+00],\n",
      "         [ 7.7345e-01, -3.1133e+00],\n",
      "         [ 8.4009e-01, -3.1616e+00],\n",
      "         [ 9.0717e-01, -3.2009e+00],\n",
      "         [ 9.7444e-01, -3.2310e+00],\n",
      "         [ 1.0416e+00, -3.2521e+00],\n",
      "         [ 1.1086e+00, -3.2639e+00],\n",
      "         [ 1.1749e+00, -3.2666e+00],\n",
      "         [ 1.2405e+00, -3.2600e+00],\n",
      "         [ 1.3051e+00, -3.2441e+00],\n",
      "         [ 1.3684e+00, -3.2190e+00],\n",
      "         [ 1.4303e+00, -3.1845e+00],\n",
      "         [ 1.4904e+00, -3.1405e+00],\n",
      "         [ 1.5485e+00, -3.0872e+00],\n",
      "         [ 1.6044e+00, -3.0242e+00],\n",
      "         [ 1.6577e+00, -2.9517e+00],\n",
      "         [ 1.7081e+00, -2.8694e+00],\n",
      "         [ 1.7552e+00, -2.7773e+00],\n",
      "         [ 1.7987e+00, -2.6752e+00],\n",
      "         [ 1.8380e+00, -2.5630e+00],\n",
      "         [ 1.8727e+00, -2.4405e+00],\n",
      "         [ 1.9018e+00, -2.3075e+00],\n",
      "         [ 1.9246e+00, -2.1641e+00],\n",
      "         [ 1.9398e+00, -2.0100e+00],\n",
      "         [ 1.9457e+00, -1.8455e+00],\n",
      "         [ 1.9398e+00, -1.6719e+00],\n",
      "         [ 1.9196e+00, -1.4919e+00],\n",
      "         [ 1.8842e+00, -1.3107e+00],\n",
      "         [ 1.8355e+00, -1.1331e+00],\n",
      "         [ 1.7768e+00, -9.6140e-01],\n",
      "         [ 1.7108e+00, -7.9604e-01],\n",
      "         [ 1.6391e+00, -6.3664e-01],\n",
      "         [ 1.5627e+00, -4.8269e-01],\n",
      "         [ 1.4823e+00, -3.3365e-01],\n",
      "         [ 1.3982e+00, -1.8903e-01],\n",
      "         [ 1.3109e+00, -4.8383e-02],\n",
      "         [ 1.2203e+00,  8.8688e-02],\n",
      "         [ 1.1266e+00,  2.2256e-01],\n",
      "         [ 1.0298e+00,  3.5360e-01],\n",
      "         [ 9.2996e-01,  4.8216e-01],\n",
      "         [ 8.2696e-01,  6.0861e-01],\n",
      "         [ 7.2070e-01,  7.3333e-01],\n",
      "         [ 6.1103e-01,  8.5676e-01],\n",
      "         [ 4.9770e-01,  9.7942e-01],\n",
      "         [ 3.8038e-01,  1.1020e+00],\n",
      "         [ 2.5857e-01,  1.2254e+00],\n",
      "         [ 1.3152e-01,  1.3511e+00],\n",
      "         [-1.7140e-03,  1.4832e+00],\n",
      "         [-1.2737e-01,  1.6244e+00],\n",
      "         [-2.3701e-01,  1.7542e+00],\n",
      "         [-3.3693e-01,  1.8716e+00],\n",
      "         [-4.2894e-01,  1.9778e+00],\n",
      "         [-5.1391e-01,  2.0735e+00],\n",
      "         [-5.9238e-01,  2.1594e+00],\n",
      "         [-6.6468e-01,  2.2357e+00],\n",
      "         [-7.3104e-01,  2.3029e+00]]], device='cuda:0')\n",
      "tensor([[[-0.7916,  2.3613],\n",
      "         [-0.8466,  2.4109],\n",
      "         [-0.8960,  2.4520],\n",
      "         [-0.9399,  2.4848],\n",
      "         [-0.9783,  2.5094],\n",
      "         [-1.0113,  2.5259],\n",
      "         [-1.0388,  2.5343],\n",
      "         [-1.0609,  2.5349],\n",
      "         [-1.0774,  2.5276],\n",
      "         [-1.0885,  2.5125],\n",
      "         [-1.0939,  2.4896],\n",
      "         [-1.0936,  2.4590],\n",
      "         [-1.0875,  2.4208],\n",
      "         [-1.0756,  2.3749],\n",
      "         [-1.0576,  2.3214],\n",
      "         [-1.0335,  2.2603],\n",
      "         [-1.0029,  2.1916],\n",
      "         [-0.9657,  2.1154],\n",
      "         [-0.9216,  2.0318],\n",
      "         [-0.8703,  1.9407],\n",
      "         [-0.8113,  1.8426],\n",
      "         [-0.7442,  1.7374],\n",
      "         [-0.6684,  1.6259],\n",
      "         [-0.5832,  1.5087],\n",
      "         [-0.4880,  1.3872],\n",
      "         [-0.3828,  1.2636],\n",
      "         [-0.2686,  1.1402],\n",
      "         [-0.1477,  1.0192],\n",
      "         [-0.0228,  0.9012],\n",
      "         [ 0.1041,  0.7857],\n",
      "         [ 0.2315,  0.6720],\n",
      "         [ 0.3587,  0.5593],\n",
      "         [ 0.4851,  0.4467],\n",
      "         [ 0.6105,  0.3337],\n",
      "         [ 0.7345,  0.2196],\n",
      "         [ 0.8571,  0.1040],\n",
      "         [ 0.9782, -0.0138],\n",
      "         [ 1.0974, -0.1343],\n",
      "         [ 1.2147, -0.2578],\n",
      "         [ 1.3299, -0.3850],\n",
      "         [ 1.4425, -0.5165],\n",
      "         [ 1.5520, -0.6528],\n",
      "         [ 1.6578, -0.7947],\n",
      "         [ 1.7584, -0.9426],\n",
      "         [ 1.8521, -1.0969],\n",
      "         [ 1.9361, -1.2569],\n",
      "         [ 2.0079, -1.4205],\n",
      "         [ 2.0658, -1.5841]]], device='cuda:0')\n"
     ]
    }
   ],
   "source": [
    "for x, y in gpu_cont_train_dl:\n",
    "    print(x.shape)\n",
    "    print(y.shape)\n",
    "    print(x)\n",
    "    print(y)\n",
    "    break"
   ]
  },
  {
   "cell_type": "code",
   "execution_count": 173,
   "id": "f80b1ca2",
   "metadata": {},
   "outputs": [
    {
     "name": "stdout",
     "output_type": "stream",
     "text": [
      "torch.Size([5, 2])\n"
     ]
    }
   ],
   "source": [
    "class Model_3_2(torch.nn.Module):\n",
    "    def __init__(self, hidden_dim, n_layers, batch_size):\n",
    "        super(Model_3_2, self).__init__()\n",
    "        # input/output size are fixed based on the task description\n",
    "        input_dim = 2\n",
    "        output_dim = 2\n",
    "\n",
    "        self.hidden_dim = hidden_dim\n",
    "        self.n_layers = n_layers\n",
    "        self.batch_size = batch_size\n",
    "        \n",
    "        self.gru = torch.nn.GRU(input_dim, hidden_dim, n_layers)\n",
    "        self.relu = torch.nn.ReLU()\n",
    "        self.fc = torch.nn.Linear(hidden_dim, output_dim)\n",
    "        \n",
    "    def forward(self, x, inx):\n",
    "        h = self.init_hidden(x)\n",
    "        x = x.to(device)\n",
    "        out, h = self.gru(torch.mul(x, (inx+1)/100), h)\n",
    "        out = torch.mul(out,1+(inx+1)/100)\n",
    "        out = self.fc(self.relu(out[:,-1]))\n",
    "        return out\n",
    "    \n",
    "    def init_hidden(self, x):\n",
    "        # from example of https://pytorch.org/docs/stable/generated/torch.nn.GRU.html\n",
    "        h0 = torch.randn(self.n_layers, x.shape[1], self.hidden_dim).to(device)\n",
    "        return h0\n",
    "\n",
    "xs = xs.to(device)\n",
    "model_3_2 = Model_3_2(30, 1, 1).to(device)\n",
    "print(model_3_2(xs, 1).shape)"
   ]
  },
  {
   "cell_type": "code",
   "execution_count": 238,
   "id": "319be2a0",
   "metadata": {},
   "outputs": [
    {
     "name": "stdout",
     "output_type": "stream",
     "text": [
      "torch.Size([5, 108, 2])\n"
     ]
    }
   ],
   "source": [
    "class Model_3_22(torch.nn.Module):\n",
    "    def __init__(self, hidden_dim, n_layers, batch_size):\n",
    "        super(Model_3_22, self).__init__()\n",
    "        # input/output size are fixed based on the task description\n",
    "        input_dim = 2\n",
    "        self.output_dim = 2\n",
    "\n",
    "        self.hidden_dim = hidden_dim\n",
    "        self.n_layers = n_layers\n",
    "        self.batch_size = batch_size\n",
    "        \n",
    "        self.gru0 = torch.nn.GRU(input_dim, hidden_dim, n_layers)\n",
    "        self.gru1 = torch.nn.GRU(hidden_dim, hidden_dim, n_layers)\n",
    "        self.gru2 = torch.nn.GRU(hidden_dim, hidden_dim, n_layers)\n",
    "        self.relu = torch.nn.ReLU()\n",
    "        \n",
    "    def forward(self, x, no_to_predict):\n",
    "        h = self.init_hidden(x)\n",
    "        x = x.to(device)\n",
    "        out0, h1 = self.gru0(x, h[0])\n",
    "        out1, h2 = self.gru1(out0, h[1])\n",
    "        out2, h3 = self.gru2(out1, h[2])\n",
    "        \n",
    "        out = self.relu(out2[:,-1])\n",
    "        out = torch.nn.Linear(self.hidden_dim, self.output_dim*no_to_predict).to(device)(out)\n",
    "        out = out.view((no_to_predict, 2))\n",
    "        return out\n",
    "    \n",
    "    def init_hidden(self, x):\n",
    "        # from example of https://pytorch.org/docs/stable/generated/torch.nn.GRU.html\n",
    "        h0 = torch.zeros(self.n_layers, x.shape[1], self.hidden_dim).to(device)\n",
    "        h1 = torch.zeros(self.n_layers, x.shape[1], self.hidden_dim).to(device)\n",
    "        h2 = torch.zeros(self.n_layers, x.shape[1], self.hidden_dim).to(device)\n",
    "        return [h0, h1, h2]\n",
    "\n",
    "xs = xs.to(device)\n",
    "print(xs.shape)\n",
    "model_3_22 = Model_3_22(30, 5, 1).to(device)\n",
    "# print(model_3_22(xs, 10).shape)"
   ]
  },
  {
   "cell_type": "code",
   "execution_count": 239,
   "id": "0a1180e0",
   "metadata": {},
   "outputs": [],
   "source": [
    "from tqdm import tqdm\n",
    "\n",
    "train_loss_graph, val_loss_graph = list(), list()\n",
    "\n",
    "def avg_cont_err(model, dl, loss_fn=torch.nn.L1Loss(reduction='sum')):\n",
    "    loss = 0\n",
    "    n_samples = 0\n",
    "    for x, y in dl:\n",
    "        y_pred = model(x, y.shape[1])\n",
    "        y_pred = torch.unsqueeze(y_pred, 0)\n",
    "        loss += loss_fn(y_pred, y)\n",
    "        n_samples += y.shape[1]\n",
    "    return loss / n_samples\n",
    "\n",
    "\n",
    "def fit_3_22(model, train_dl, valid_dl, n_epochs):\n",
    "    # optimizer = torch.optim.SGD(model.parameters(), lr=1e-3, weight_decay=1e-4)\n",
    "    optimizer = torch.optim.AdamW(model.parameters(), lr=1e-3)\n",
    "    loss_func = torch.nn.L1Loss()\n",
    "    loss_func = loss_func.to(device)\n",
    "\n",
    "    for i in range(epochs):\n",
    "        print(f'Begin epoch {i + 1}/{n_epochs}')\n",
    "        for x, y in tqdm(train_dl):\n",
    "            y_pred = model(x, y.shape[1])\n",
    "            y_pred = torch.unsqueeze(y_pred, 0)\n",
    "            loss = loss_func(y_pred, y)\n",
    "            loss.backward()\n",
    "            optimizer.step()\n",
    "                            \n",
    "            optimizer.zero_grad()\n",
    "        \n",
    "        with torch.no_grad():\n",
    "            train_err = avg_cont_err(model, train_dl)\n",
    "            val_err = avg_cont_err(model, valid_dl)\n",
    "            print(f'L1 train error: {train_err}')\n",
    "            print(f'L1 validation error: {val_err}')\n",
    "            train_loss_graph.append(train_err)\n",
    "            val_loss_graph.append(val_err)\n"
   ]
  },
  {
   "cell_type": "code",
   "execution_count": 240,
   "id": "1a47413f",
   "metadata": {},
   "outputs": [
    {
     "name": "stdout",
     "output_type": "stream",
     "text": [
      "Model has 25442 parameters\n",
      "Begin epoch 1/50\n"
     ]
    },
    {
     "name": "stderr",
     "output_type": "stream",
     "text": [
      "100%|████████████████████████████████████████████████████████████████████████████████| 150/150 [00:02<00:00, 65.76it/s]\n"
     ]
    },
    {
     "name": "stdout",
     "output_type": "stream",
     "text": [
      "L1 train error: 2.917797327041626\n",
      "L1 validation error: 3.0774426460266113\n",
      "Begin epoch 2/50\n"
     ]
    },
    {
     "name": "stderr",
     "output_type": "stream",
     "text": [
      "100%|████████████████████████████████████████████████████████████████████████████████| 150/150 [00:02<00:00, 64.14it/s]\n"
     ]
    },
    {
     "name": "stdout",
     "output_type": "stream",
     "text": [
      "L1 train error: 2.9169864654541016\n",
      "L1 validation error: 3.0777435302734375\n",
      "Begin epoch 3/50\n"
     ]
    },
    {
     "name": "stderr",
     "output_type": "stream",
     "text": [
      "100%|████████████████████████████████████████████████████████████████████████████████| 150/150 [00:02<00:00, 65.61it/s]\n"
     ]
    },
    {
     "name": "stdout",
     "output_type": "stream",
     "text": [
      "L1 train error: 2.9190421104431152\n",
      "L1 validation error: 3.079714298248291\n",
      "Begin epoch 4/50\n"
     ]
    },
    {
     "name": "stderr",
     "output_type": "stream",
     "text": [
      "100%|████████████████████████████████████████████████████████████████████████████████| 150/150 [00:02<00:00, 66.72it/s]\n"
     ]
    },
    {
     "name": "stdout",
     "output_type": "stream",
     "text": [
      "L1 train error: 2.92008638381958\n",
      "L1 validation error: 3.0742197036743164\n",
      "Begin epoch 5/50\n"
     ]
    },
    {
     "name": "stderr",
     "output_type": "stream",
     "text": [
      "100%|████████████████████████████████████████████████████████████████████████████████| 150/150 [00:02<00:00, 67.69it/s]\n"
     ]
    },
    {
     "name": "stdout",
     "output_type": "stream",
     "text": [
      "L1 train error: 2.9203245639801025\n",
      "L1 validation error: 3.076639175415039\n",
      "Begin epoch 6/50\n"
     ]
    },
    {
     "name": "stderr",
     "output_type": "stream",
     "text": [
      "100%|████████████████████████████████████████████████████████████████████████████████| 150/150 [00:02<00:00, 65.17it/s]\n"
     ]
    },
    {
     "name": "stdout",
     "output_type": "stream",
     "text": [
      "L1 train error: 2.9177498817443848\n",
      "L1 validation error: 3.073420524597168\n",
      "Begin epoch 7/50\n"
     ]
    },
    {
     "name": "stderr",
     "output_type": "stream",
     "text": [
      "100%|████████████████████████████████████████████████████████████████████████████████| 150/150 [00:02<00:00, 64.92it/s]\n"
     ]
    },
    {
     "name": "stdout",
     "output_type": "stream",
     "text": [
      "L1 train error: 2.9167964458465576\n",
      "L1 validation error: 3.071075439453125\n",
      "Begin epoch 8/50\n"
     ]
    },
    {
     "name": "stderr",
     "output_type": "stream",
     "text": [
      "100%|████████████████████████████████████████████████████████████████████████████████| 150/150 [00:02<00:00, 65.26it/s]\n"
     ]
    },
    {
     "name": "stdout",
     "output_type": "stream",
     "text": [
      "L1 train error: 2.917090654373169\n",
      "L1 validation error: 3.0762271881103516\n",
      "Begin epoch 9/50\n"
     ]
    },
    {
     "name": "stderr",
     "output_type": "stream",
     "text": [
      "100%|████████████████████████████████████████████████████████████████████████████████| 150/150 [00:02<00:00, 65.34it/s]\n"
     ]
    },
    {
     "name": "stdout",
     "output_type": "stream",
     "text": [
      "L1 train error: 2.9167463779449463\n",
      "L1 validation error: 3.0767602920532227\n",
      "Begin epoch 10/50\n"
     ]
    },
    {
     "name": "stderr",
     "output_type": "stream",
     "text": [
      "100%|████████████████████████████████████████████████████████████████████████████████| 150/150 [00:02<00:00, 66.62it/s]\n"
     ]
    },
    {
     "name": "stdout",
     "output_type": "stream",
     "text": [
      "L1 train error: 2.920051336288452\n",
      "L1 validation error: 3.0724878311157227\n",
      "Begin epoch 11/50\n"
     ]
    },
    {
     "name": "stderr",
     "output_type": "stream",
     "text": [
      "100%|████████████████████████████████████████████████████████████████████████████████| 150/150 [00:02<00:00, 66.87it/s]\n"
     ]
    },
    {
     "name": "stdout",
     "output_type": "stream",
     "text": [
      "L1 train error: 2.9180145263671875\n",
      "L1 validation error: 3.074988842010498\n",
      "Begin epoch 12/50\n"
     ]
    },
    {
     "name": "stderr",
     "output_type": "stream",
     "text": [
      "100%|████████████████████████████████████████████████████████████████████████████████| 150/150 [00:02<00:00, 67.05it/s]\n"
     ]
    },
    {
     "name": "stdout",
     "output_type": "stream",
     "text": [
      "L1 train error: 2.918236255645752\n",
      "L1 validation error: 3.072969675064087\n",
      "Begin epoch 13/50\n"
     ]
    },
    {
     "name": "stderr",
     "output_type": "stream",
     "text": [
      "100%|████████████████████████████████████████████████████████████████████████████████| 150/150 [00:02<00:00, 66.09it/s]\n"
     ]
    },
    {
     "name": "stdout",
     "output_type": "stream",
     "text": [
      "L1 train error: 2.916499614715576\n",
      "L1 validation error: 3.078474760055542\n",
      "Begin epoch 14/50\n"
     ]
    },
    {
     "name": "stderr",
     "output_type": "stream",
     "text": [
      "100%|████████████████████████████████████████████████████████████████████████████████| 150/150 [00:02<00:00, 66.67it/s]\n"
     ]
    },
    {
     "name": "stdout",
     "output_type": "stream",
     "text": [
      "L1 train error: 2.9170453548431396\n",
      "L1 validation error: 3.075576066970825\n",
      "Begin epoch 15/50\n"
     ]
    },
    {
     "name": "stderr",
     "output_type": "stream",
     "text": [
      "100%|████████████████████████████████████████████████████████████████████████████████| 150/150 [00:02<00:00, 67.25it/s]\n"
     ]
    },
    {
     "name": "stdout",
     "output_type": "stream",
     "text": [
      "L1 train error: 2.9200704097747803\n",
      "L1 validation error: 3.075373888015747\n",
      "Begin epoch 16/50\n"
     ]
    },
    {
     "name": "stderr",
     "output_type": "stream",
     "text": [
      "100%|████████████████████████████████████████████████████████████████████████████████| 150/150 [00:02<00:00, 66.90it/s]\n"
     ]
    },
    {
     "name": "stdout",
     "output_type": "stream",
     "text": [
      "L1 train error: 2.9169728755950928\n",
      "L1 validation error: 3.0781712532043457\n",
      "Begin epoch 17/50\n"
     ]
    },
    {
     "name": "stderr",
     "output_type": "stream",
     "text": [
      "100%|████████████████████████████████████████████████████████████████████████████████| 150/150 [00:02<00:00, 60.08it/s]\n"
     ]
    },
    {
     "name": "stdout",
     "output_type": "stream",
     "text": [
      "L1 train error: 2.918468713760376\n",
      "L1 validation error: 3.075949192047119\n",
      "Begin epoch 18/50\n"
     ]
    },
    {
     "name": "stderr",
     "output_type": "stream",
     "text": [
      "100%|████████████████████████████████████████████████████████████████████████████████| 150/150 [00:02<00:00, 61.23it/s]\n"
     ]
    },
    {
     "name": "stdout",
     "output_type": "stream",
     "text": [
      "L1 train error: 2.9202847480773926\n",
      "L1 validation error: 3.0774428844451904\n",
      "Begin epoch 19/50\n"
     ]
    },
    {
     "name": "stderr",
     "output_type": "stream",
     "text": [
      "100%|████████████████████████████████████████████████████████████████████████████████| 150/150 [00:02<00:00, 60.42it/s]\n"
     ]
    },
    {
     "name": "stdout",
     "output_type": "stream",
     "text": [
      "L1 train error: 2.918642044067383\n",
      "L1 validation error: 3.0726730823516846\n",
      "Begin epoch 20/50\n"
     ]
    },
    {
     "name": "stderr",
     "output_type": "stream",
     "text": [
      "100%|████████████████████████████████████████████████████████████████████████████████| 150/150 [00:02<00:00, 61.34it/s]\n"
     ]
    },
    {
     "name": "stdout",
     "output_type": "stream",
     "text": [
      "L1 train error: 2.9216158390045166\n",
      "L1 validation error: 3.0746781826019287\n",
      "Begin epoch 21/50\n"
     ]
    },
    {
     "name": "stderr",
     "output_type": "stream",
     "text": [
      "100%|████████████████████████████████████████████████████████████████████████████████| 150/150 [00:02<00:00, 67.36it/s]\n"
     ]
    },
    {
     "name": "stdout",
     "output_type": "stream",
     "text": [
      "L1 train error: 2.9176599979400635\n",
      "L1 validation error: 3.076003313064575\n",
      "Begin epoch 22/50\n"
     ]
    },
    {
     "name": "stderr",
     "output_type": "stream",
     "text": [
      "100%|████████████████████████████████████████████████████████████████████████████████| 150/150 [00:02<00:00, 66.39it/s]\n"
     ]
    },
    {
     "name": "stdout",
     "output_type": "stream",
     "text": [
      "L1 train error: 2.91581130027771\n",
      "L1 validation error: 3.074824810028076\n",
      "Begin epoch 23/50\n"
     ]
    },
    {
     "name": "stderr",
     "output_type": "stream",
     "text": [
      "100%|████████████████████████████████████████████████████████████████████████████████| 150/150 [00:02<00:00, 66.74it/s]\n"
     ]
    },
    {
     "name": "stdout",
     "output_type": "stream",
     "text": [
      "L1 train error: 2.9185941219329834\n",
      "L1 validation error: 3.0743558406829834\n",
      "Begin epoch 24/50\n"
     ]
    },
    {
     "name": "stderr",
     "output_type": "stream",
     "text": [
      "100%|████████████████████████████████████████████████████████████████████████████████| 150/150 [00:02<00:00, 68.13it/s]\n"
     ]
    },
    {
     "name": "stdout",
     "output_type": "stream",
     "text": [
      "L1 train error: 2.918835163116455\n",
      "L1 validation error: 3.073913097381592\n",
      "Begin epoch 25/50\n"
     ]
    },
    {
     "name": "stderr",
     "output_type": "stream",
     "text": [
      "100%|████████████████████████████████████████████████████████████████████████████████| 150/150 [00:02<00:00, 67.61it/s]\n"
     ]
    },
    {
     "name": "stdout",
     "output_type": "stream",
     "text": [
      "L1 train error: 2.9181768894195557\n",
      "L1 validation error: 3.0777699947357178\n",
      "Begin epoch 26/50\n"
     ]
    },
    {
     "name": "stderr",
     "output_type": "stream",
     "text": [
      "100%|████████████████████████████████████████████████████████████████████████████████| 150/150 [00:02<00:00, 66.55it/s]\n"
     ]
    },
    {
     "name": "stdout",
     "output_type": "stream",
     "text": [
      "L1 train error: 2.917354106903076\n",
      "L1 validation error: 3.082185983657837\n",
      "Begin epoch 27/50\n"
     ]
    },
    {
     "name": "stderr",
     "output_type": "stream",
     "text": [
      "100%|████████████████████████████████████████████████████████████████████████████████| 150/150 [00:02<00:00, 67.69it/s]\n"
     ]
    },
    {
     "name": "stdout",
     "output_type": "stream",
     "text": [
      "L1 train error: 2.918009042739868\n",
      "L1 validation error: 3.0754337310791016\n",
      "Begin epoch 28/50\n"
     ]
    },
    {
     "name": "stderr",
     "output_type": "stream",
     "text": [
      "100%|████████████████████████████████████████████████████████████████████████████████| 150/150 [00:02<00:00, 68.96it/s]\n"
     ]
    },
    {
     "name": "stdout",
     "output_type": "stream",
     "text": [
      "L1 train error: 2.913614511489868\n",
      "L1 validation error: 3.075929880142212\n",
      "Begin epoch 29/50\n"
     ]
    },
    {
     "name": "stderr",
     "output_type": "stream",
     "text": [
      "100%|████████████████████████████████████████████████████████████████████████████████| 150/150 [00:02<00:00, 69.38it/s]\n"
     ]
    },
    {
     "name": "stdout",
     "output_type": "stream",
     "text": [
      "L1 train error: 2.9187052249908447\n",
      "L1 validation error: 3.0780043601989746\n",
      "Begin epoch 30/50\n"
     ]
    },
    {
     "name": "stderr",
     "output_type": "stream",
     "text": [
      "100%|████████████████████████████████████████████████████████████████████████████████| 150/150 [00:02<00:00, 68.18it/s]\n"
     ]
    },
    {
     "name": "stdout",
     "output_type": "stream",
     "text": [
      "L1 train error: 2.9166574478149414\n",
      "L1 validation error: 3.075904130935669\n",
      "Begin epoch 31/50\n"
     ]
    },
    {
     "name": "stderr",
     "output_type": "stream",
     "text": [
      "100%|████████████████████████████████████████████████████████████████████████████████| 150/150 [00:02<00:00, 66.70it/s]\n"
     ]
    },
    {
     "name": "stdout",
     "output_type": "stream",
     "text": [
      "L1 train error: 2.919917583465576\n",
      "L1 validation error: 3.0749940872192383\n",
      "Begin epoch 32/50\n"
     ]
    },
    {
     "name": "stderr",
     "output_type": "stream",
     "text": [
      "100%|████████████████████████████████████████████████████████████████████████████████| 150/150 [00:02<00:00, 67.44it/s]\n"
     ]
    },
    {
     "name": "stdout",
     "output_type": "stream",
     "text": [
      "L1 train error: 2.9171154499053955\n",
      "L1 validation error: 3.0769753456115723\n",
      "Begin epoch 33/50\n"
     ]
    },
    {
     "name": "stderr",
     "output_type": "stream",
     "text": [
      "100%|████████████████████████████████████████████████████████████████████████████████| 150/150 [00:02<00:00, 67.28it/s]\n"
     ]
    },
    {
     "name": "stdout",
     "output_type": "stream",
     "text": [
      "L1 train error: 2.9176156520843506\n",
      "L1 validation error: 3.075268268585205\n",
      "Begin epoch 34/50\n"
     ]
    },
    {
     "name": "stderr",
     "output_type": "stream",
     "text": [
      "100%|████████████████████████████████████████████████████████████████████████████████| 150/150 [00:02<00:00, 67.17it/s]\n"
     ]
    },
    {
     "name": "stdout",
     "output_type": "stream",
     "text": [
      "L1 train error: 2.916250228881836\n",
      "L1 validation error: 3.0732696056365967\n",
      "Begin epoch 35/50\n"
     ]
    },
    {
     "name": "stderr",
     "output_type": "stream",
     "text": [
      "100%|████████████████████████████████████████████████████████████████████████████████| 150/150 [00:02<00:00, 67.57it/s]\n"
     ]
    },
    {
     "name": "stdout",
     "output_type": "stream",
     "text": [
      "L1 train error: 2.9182682037353516\n",
      "L1 validation error: 3.073117256164551\n",
      "Begin epoch 36/50\n"
     ]
    },
    {
     "name": "stderr",
     "output_type": "stream",
     "text": [
      "100%|████████████████████████████████████████████████████████████████████████████████| 150/150 [00:02<00:00, 67.20it/s]\n"
     ]
    },
    {
     "name": "stdout",
     "output_type": "stream",
     "text": [
      "L1 train error: 2.9173412322998047\n",
      "L1 validation error: 3.078451633453369\n",
      "Begin epoch 37/50\n"
     ]
    },
    {
     "name": "stderr",
     "output_type": "stream",
     "text": [
      "100%|████████████████████████████████████████████████████████████████████████████████| 150/150 [00:02<00:00, 66.46it/s]\n"
     ]
    },
    {
     "name": "stdout",
     "output_type": "stream",
     "text": [
      "L1 train error: 2.9200820922851562\n",
      "L1 validation error: 3.0762228965759277\n",
      "Begin epoch 38/50\n"
     ]
    },
    {
     "name": "stderr",
     "output_type": "stream",
     "text": [
      "100%|████████████████████████████████████████████████████████████████████████████████| 150/150 [00:02<00:00, 65.82it/s]\n"
     ]
    },
    {
     "name": "stdout",
     "output_type": "stream",
     "text": [
      "L1 train error: 2.9186689853668213\n",
      "L1 validation error: 3.0751168727874756\n",
      "Begin epoch 39/50\n"
     ]
    },
    {
     "name": "stderr",
     "output_type": "stream",
     "text": [
      "100%|████████████████████████████████████████████████████████████████████████████████| 150/150 [00:02<00:00, 68.04it/s]\n"
     ]
    },
    {
     "name": "stdout",
     "output_type": "stream",
     "text": [
      "L1 train error: 2.916033983230591\n",
      "L1 validation error: 3.0787086486816406\n",
      "Begin epoch 40/50\n"
     ]
    },
    {
     "name": "stderr",
     "output_type": "stream",
     "text": [
      "100%|████████████████████████████████████████████████████████████████████████████████| 150/150 [00:02<00:00, 67.99it/s]\n"
     ]
    },
    {
     "name": "stdout",
     "output_type": "stream",
     "text": [
      "L1 train error: 2.922478675842285\n",
      "L1 validation error: 3.0769524574279785\n",
      "Begin epoch 41/50\n"
     ]
    },
    {
     "name": "stderr",
     "output_type": "stream",
     "text": [
      "100%|████████████████████████████████████████████████████████████████████████████████| 150/150 [00:02<00:00, 66.99it/s]\n"
     ]
    },
    {
     "name": "stdout",
     "output_type": "stream",
     "text": [
      "L1 train error: 2.9145116806030273\n",
      "L1 validation error: 3.0743589401245117\n",
      "Begin epoch 42/50\n"
     ]
    },
    {
     "name": "stderr",
     "output_type": "stream",
     "text": [
      "100%|████████████████████████████████████████████████████████████████████████████████| 150/150 [00:02<00:00, 67.36it/s]\n"
     ]
    },
    {
     "name": "stdout",
     "output_type": "stream",
     "text": [
      "L1 train error: 2.9172487258911133\n",
      "L1 validation error: 3.0761451721191406\n",
      "Begin epoch 43/50\n"
     ]
    },
    {
     "name": "stderr",
     "output_type": "stream",
     "text": [
      "100%|████████████████████████████████████████████████████████████████████████████████| 150/150 [00:02<00:00, 68.54it/s]\n"
     ]
    },
    {
     "name": "stdout",
     "output_type": "stream",
     "text": [
      "L1 train error: 2.9176554679870605\n",
      "L1 validation error: 3.0756871700286865\n",
      "Begin epoch 44/50\n"
     ]
    },
    {
     "name": "stderr",
     "output_type": "stream",
     "text": [
      "100%|████████████████████████████████████████████████████████████████████████████████| 150/150 [00:02<00:00, 67.08it/s]\n"
     ]
    },
    {
     "name": "stdout",
     "output_type": "stream",
     "text": [
      "L1 train error: 2.9201767444610596\n",
      "L1 validation error: 3.0775644779205322\n",
      "Begin epoch 45/50\n"
     ]
    },
    {
     "name": "stderr",
     "output_type": "stream",
     "text": [
      "100%|████████████████████████████████████████████████████████████████████████████████| 150/150 [00:02<00:00, 67.54it/s]\n"
     ]
    },
    {
     "name": "stdout",
     "output_type": "stream",
     "text": [
      "L1 train error: 2.915456533432007\n",
      "L1 validation error: 3.0762810707092285\n",
      "Begin epoch 46/50\n"
     ]
    },
    {
     "name": "stderr",
     "output_type": "stream",
     "text": [
      "100%|████████████████████████████████████████████████████████████████████████████████| 150/150 [00:02<00:00, 67.29it/s]\n"
     ]
    },
    {
     "name": "stdout",
     "output_type": "stream",
     "text": [
      "L1 train error: 2.919274091720581\n",
      "L1 validation error: 3.0722570419311523\n",
      "Begin epoch 47/50\n"
     ]
    },
    {
     "name": "stderr",
     "output_type": "stream",
     "text": [
      "100%|████████████████████████████████████████████████████████████████████████████████| 150/150 [00:02<00:00, 66.18it/s]\n"
     ]
    },
    {
     "name": "stdout",
     "output_type": "stream",
     "text": [
      "L1 train error: 2.9160444736480713\n",
      "L1 validation error: 3.0743982791900635\n",
      "Begin epoch 48/50\n"
     ]
    },
    {
     "name": "stderr",
     "output_type": "stream",
     "text": [
      "100%|████████████████████████████████████████████████████████████████████████████████| 150/150 [00:02<00:00, 68.35it/s]\n"
     ]
    },
    {
     "name": "stdout",
     "output_type": "stream",
     "text": [
      "L1 train error: 2.920137405395508\n",
      "L1 validation error: 3.079333543777466\n",
      "Begin epoch 49/50\n"
     ]
    },
    {
     "name": "stderr",
     "output_type": "stream",
     "text": [
      "100%|████████████████████████████████████████████████████████████████████████████████| 150/150 [00:02<00:00, 69.22it/s]\n"
     ]
    },
    {
     "name": "stdout",
     "output_type": "stream",
     "text": [
      "L1 train error: 2.914149522781372\n",
      "L1 validation error: 3.0719797611236572\n",
      "Begin epoch 50/50\n"
     ]
    },
    {
     "name": "stderr",
     "output_type": "stream",
     "text": [
      "100%|████████████████████████████████████████████████████████████████████████████████| 150/150 [00:02<00:00, 67.87it/s]\n"
     ]
    },
    {
     "name": "stdout",
     "output_type": "stream",
     "text": [
      "L1 train error: 2.917855739593506\n",
      "L1 validation error: 3.0771565437316895\n"
     ]
    }
   ],
   "source": [
    "def count_parameters(model):\n",
    "    return sum(p.numel() for p in model.parameters() if p.requires_grad)\n",
    "\n",
    "hidden_size = 30\n",
    "n_layers = 5\n",
    "model_3_22 = Model_3_22(hidden_size, n_layers, 1).to(device)\n",
    "print(f'Model has {count_parameters(model_3_2)} parameters')\n",
    "epochs = 50\n",
    "fit_3_22(model_3_22, gpu_cont_train_dl, gpu_cont_valid_dl, epochs)"
   ]
  },
  {
   "cell_type": "code",
   "execution_count": 241,
   "id": "c172c80f",
   "metadata": {},
   "outputs": [
    {
     "data": {
      "image/png": "[encoded data removed]",
      "text/plain": [
       "<Figure size 360x360 with 1 Axes>"
      ]
     },
     "metadata": {
      "needs_background": "light"
     },
     "output_type": "display_data"
    }
   ],
   "source": [
    "test_idx = np.random.randint(150)\n",
    "x=torch.Tensor(simulation_train[test_idx])\n",
    "x=torch.unsqueeze(x, 0)\n",
    "y_pred = model_3_22(x, simulation_continued_train[test_idx].shape[1])\n",
    "\n",
    "new_y_pred = y_pred.to(device='cpu').detach().numpy()\n",
    "    \n",
    "plot_example(simulation_train[test_idx], np.array(new_y_pred))"
   ]
  },
  {
   "cell_type": "code",
   "execution_count": 242,
   "id": "f2489a89",
   "metadata": {},
   "outputs": [
    {
     "data": {
      "image/png": "[encoded data removed]",
      "text/plain": [
       "<Figure size 360x360 with 1 Axes>"
      ]
     },
     "metadata": {
      "needs_background": "light"
     },
     "output_type": "display_data"
    }
   ],
   "source": [
    "plot_example(simulation_train[test_idx], simulation_continued_train[test_idx])"
   ]
  },
  {
   "cell_type": "code",
   "execution_count": null,
   "id": "888f0d9b",
   "metadata": {},
   "outputs": [],
   "source": []
  },
  {
   "cell_type": "code",
   "execution_count": 174,
   "id": "fdbf2800",
   "metadata": {},
   "outputs": [],
   "source": [
    "from tqdm import tqdm\n",
    "\n",
    "train_loss_graph, val_loss_graph = list(), list()\n",
    "\n",
    "def avg_cont_err(model, dl, loss_fn=torch.nn.L1Loss(reduction='sum')):\n",
    "    loss = 0\n",
    "    n_samples = 0\n",
    "    for x, y in dl:\n",
    "        for inx, y_i in enumerate(y[0]):\n",
    "            y_pred = model(x, inx)\n",
    "            y_i = y_i.view(-1)\n",
    "            loss += loss_fn(y_pred, y_i)\n",
    "        n_samples += y.shape[1]\n",
    "    return loss / n_samples\n",
    "\n",
    "\n",
    "def fit_3_2(model, train_dl, valid_dl, n_epochs):\n",
    "    optimizer = torch.optim.AdamW(model.parameters(), lr=1e-2)\n",
    "    loss_func = torch.nn.L1Loss()\n",
    "    loss_func = loss_func.to(device)\n",
    "\n",
    "    for i in range(epochs):\n",
    "        print(f'Begin epoch {i + 1}/{n_epochs}')\n",
    "        for x, y in tqdm(train_dl):\n",
    "            for inx, y_i in enumerate(y[0]):\n",
    "                y_pred = model(x, inx)\n",
    "                y_i = torch.unsqueeze(y_i, 0)\n",
    "                loss = loss_func(y_pred, y_i)\n",
    "                loss.backward()\n",
    "                optimizer.step()\n",
    "                            \n",
    "            optimizer.zero_grad()\n",
    "        \n",
    "        with torch.no_grad():\n",
    "            train_err = avg_cont_err(model, train_dl)\n",
    "            val_err = avg_cont_err(model, valid_dl)\n",
    "            print(f'L1 train error: {train_err}')\n",
    "            print(f'L1 validation error: {val_err}')\n",
    "            train_loss_graph.append(train_err)\n",
    "            val_loss_graph.append(val_err)\n"
   ]
  },
  {
   "cell_type": "code",
   "execution_count": 175,
   "id": "6e988e32",
   "metadata": {},
   "outputs": [
    {
     "name": "stdout",
     "output_type": "stream",
     "text": [
      "Model has 25442 parameters\n",
      "Begin epoch 1/10\n"
     ]
    },
    {
     "name": "stderr",
     "output_type": "stream",
     "text": [
      "100%|████████████████████████████████████████████████████████████████████████████████| 150/150 [00:24<00:00,  6.09it/s]\n",
      "C:\\Users\\Pim\\anaconda3\\envs\\deeplearning\\lib\\site-packages\\torch\\nn\\modules\\loss.py:96: UserWarning: Using a target size (torch.Size([2])) that is different to the input size (torch.Size([1, 2])). This will likely lead to incorrect results due to broadcasting. Please ensure they have the same size.\n",
      "  return F.l1_loss(input, target, reduction=self.reduction)\n"
     ]
    },
    {
     "name": "stdout",
     "output_type": "stream",
     "text": [
      "L1 train error: 3.6840591430664062\n",
      "L1 validation error: 3.7910757064819336\n",
      "Begin epoch 2/10\n"
     ]
    },
    {
     "name": "stderr",
     "output_type": "stream",
     "text": [
      "100%|████████████████████████████████████████████████████████████████████████████████| 150/150 [00:23<00:00,  6.45it/s]\n"
     ]
    },
    {
     "name": "stdout",
     "output_type": "stream",
     "text": [
      "L1 train error: 3.644887685775757\n",
      "L1 validation error: 3.783282995223999\n",
      "Begin epoch 3/10\n"
     ]
    },
    {
     "name": "stderr",
     "output_type": "stream",
     "text": [
      "100%|████████████████████████████████████████████████████████████████████████████████| 150/150 [00:23<00:00,  6.44it/s]\n"
     ]
    },
    {
     "name": "stdout",
     "output_type": "stream",
     "text": [
      "L1 train error: 3.4045379161834717\n",
      "L1 validation error: 3.5461318492889404\n",
      "Begin epoch 4/10\n"
     ]
    },
    {
     "name": "stderr",
     "output_type": "stream",
     "text": [
      "100%|████████████████████████████████████████████████████████████████████████████████| 150/150 [00:23<00:00,  6.46it/s]\n"
     ]
    },
    {
     "name": "stdout",
     "output_type": "stream",
     "text": [
      "L1 train error: 3.36108660697937\n",
      "L1 validation error: 3.496793508529663\n",
      "Begin epoch 5/10\n"
     ]
    },
    {
     "name": "stderr",
     "output_type": "stream",
     "text": [
      "100%|████████████████████████████████████████████████████████████████████████████████| 150/150 [00:23<00:00,  6.44it/s]\n"
     ]
    },
    {
     "name": "stdout",
     "output_type": "stream",
     "text": [
      "L1 train error: 3.2292494773864746\n",
      "L1 validation error: 3.3684799671173096\n",
      "Begin epoch 6/10\n"
     ]
    },
    {
     "name": "stderr",
     "output_type": "stream",
     "text": [
      "100%|████████████████████████████████████████████████████████████████████████████████| 150/150 [00:23<00:00,  6.47it/s]\n"
     ]
    },
    {
     "name": "stdout",
     "output_type": "stream",
     "text": [
      "L1 train error: 3.51680326461792\n",
      "L1 validation error: 3.633303165435791\n",
      "Begin epoch 7/10\n"
     ]
    },
    {
     "name": "stderr",
     "output_type": "stream",
     "text": [
      "100%|████████████████████████████████████████████████████████████████████████████████| 150/150 [00:23<00:00,  6.51it/s]\n"
     ]
    },
    {
     "name": "stdout",
     "output_type": "stream",
     "text": [
      "L1 train error: 4.044950485229492\n",
      "L1 validation error: 4.1640849113464355\n",
      "Begin epoch 8/10\n"
     ]
    },
    {
     "name": "stderr",
     "output_type": "stream",
     "text": [
      "100%|████████████████████████████████████████████████████████████████████████████████| 150/150 [00:22<00:00,  6.54it/s]\n"
     ]
    },
    {
     "name": "stdout",
     "output_type": "stream",
     "text": [
      "L1 train error: 3.5754809379577637\n",
      "L1 validation error: 3.6634109020233154\n",
      "Begin epoch 9/10\n"
     ]
    },
    {
     "name": "stderr",
     "output_type": "stream",
     "text": [
      "100%|████████████████████████████████████████████████████████████████████████████████| 150/150 [00:25<00:00,  5.89it/s]\n"
     ]
    },
    {
     "name": "stdout",
     "output_type": "stream",
     "text": [
      "L1 train error: 3.748877763748169\n",
      "L1 validation error: 3.835726022720337\n",
      "Begin epoch 10/10\n"
     ]
    },
    {
     "name": "stderr",
     "output_type": "stream",
     "text": [
      "100%|████████████████████████████████████████████████████████████████████████████████| 150/150 [00:26<00:00,  5.71it/s]\n"
     ]
    },
    {
     "name": "stdout",
     "output_type": "stream",
     "text": [
      "L1 train error: 3.3493378162384033\n",
      "L1 validation error: 3.5238139629364014\n"
     ]
    }
   ],
   "source": [
    "def count_parameters(model):\n",
    "    return sum(p.numel() for p in model.parameters() if p.requires_grad)\n",
    "\n",
    "hidden_size = 30\n",
    "n_layers = 5\n",
    "model_3_2 = Model_3_2(hidden_size, n_layers, 1).to(device)\n",
    "print(f'Model has {count_parameters(model_3_2)} parameters')\n",
    "epochs = 10\n",
    "fit_3_2(model_3_2, gpu_cont_train_dl, gpu_cont_valid_dl, epochs)"
   ]
  },
  {
   "cell_type": "code",
   "execution_count": 176,
   "id": "c52d4498",
   "metadata": {},
   "outputs": [
    {
     "data": {
      "image/png": "[encoded data removed]",
      "text/plain": [
       "<Figure size 360x360 with 1 Axes>"
      ]
     },
     "metadata": {
      "needs_background": "light"
     },
     "output_type": "display_data"
    }
   ],
   "source": [
    "test_idx = np.random.randint(150)\n",
    "x=torch.Tensor(simulation_train[test_idx])\n",
    "x=torch.unsqueeze(x, 0)\n",
    "y_pred = list()\n",
    "for i in range(len(simulation_continued_train[test_idx])):\n",
    "    y_pred.append(model_3_2(x, i))\n",
    "\n",
    "new_y_pred = list()\n",
    "for y_ii in y_pred:\n",
    "    new_y_pred.append(y_ii[0].to(device='cpu').detach().numpy())\n",
    "    \n",
    "plot_example(simulation_train[test_idx], np.array(new_y_pred))"
   ]
  },
  {
   "cell_type": "code",
   "execution_count": 177,
   "id": "34f46083",
   "metadata": {},
   "outputs": [
    {
     "data": {
      "image/png": "[encoded data removed]",
      "text/plain": [
       "<Figure size 360x360 with 1 Axes>"
      ]
     },
     "metadata": {
      "needs_background": "light"
     },
     "output_type": "display_data"
    }
   ],
   "source": [
    "plot_example(simulation_train[test_idx], simulation_continued_train[test_idx])"
   ]
  },
  {
   "cell_type": "markdown",
   "id": "826fae3f",
   "metadata": {},
   "source": [
    "## Model Training"
   ]
  },
  {
   "cell_type": "code",
   "execution_count": 18,
   "id": "db3fce95",
   "metadata": {},
   "outputs": [],
   "source": [
    "#todo"
   ]
  },
  {
   "cell_type": "code",
   "execution_count": null,
   "id": "41ddb47d",
   "metadata": {},
   "outputs": [],
   "source": []
  },
  {
   "cell_type": "code",
   "execution_count": null,
   "id": "4ee069fc",
   "metadata": {},
   "outputs": [],
   "source": []
  },
  {
   "cell_type": "markdown",
   "id": "c87278a2",
   "metadata": {},
   "source": [
    "## Evaluation"
   ]
  },
  {
   "cell_type": "code",
   "execution_count": 19,
   "id": "2cbb6137",
   "metadata": {},
   "outputs": [],
   "source": [
    "#todo"
   ]
  },
  {
   "cell_type": "code",
   "execution_count": null,
   "id": "2cf6f4b7",
   "metadata": {},
   "outputs": [],
   "source": []
  },
  {
   "cell_type": "code",
   "execution_count": null,
   "id": "736c10d8",
   "metadata": {},
   "outputs": [],
   "source": []
  }
 ],
 "metadata": {
  "interpreter": {
   "hash": "27c164e33ceb3372f7d05cab3554d1b7111f26924d32637c2cc5dd0d753ab5f1"
  },
  "kernelspec": {
   "display_name": "Python 3 (ipykernel)",
   "language": "python",
   "name": "python3"
  },
  "language_info": {
   "codemirror_mode": {
    "name": "ipython",
    "version": 3
   },
   "file_extension": ".py",
   "mimetype": "text/x-python",
   "name": "python",
   "nbconvert_exporter": "python",
   "pygments_lexer": "ipython3",
   "version": "3.9.12"
  }
 },
 "nbformat": 4,
 "nbformat_minor": 5
}

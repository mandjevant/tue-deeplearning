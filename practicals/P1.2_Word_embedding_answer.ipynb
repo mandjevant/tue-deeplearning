{
 "cells": [
  {
   "cell_type": "markdown",
   "metadata": {},
   "source": [
    "<a href=\"https://colab.research.google.com/github/vlamen/2AMM10-2021/blob/main/Practicals/03_wordembedding/P1.2_Word_embedding_answer.ipynb\" target=\"_parent\"><img src=\"https://colab.research.google.com/assets/colab-badge.svg\" alt=\"Open In Colab\"/></a>"
   ]
  },
  {
   "cell_type": "code",
   "execution_count": null,
   "metadata": {},
   "outputs": [],
   "source": [
    "%matplotlib inline"
   ]
  },
  {
   "cell_type": "markdown",
   "metadata": {},
   "source": [
    "# Practical Overview\n",
    "\n",
    " In this Practical you will learn :\n",
    "- Basic concepts of word embeddings.\n",
    "- How to extract word embeddings by N-Gram in a toy example.\n",
    "- How to extract word embeddings by CBoW in a toy example.\n",
    "- How to extract word embeddings by CBoW in `Alice in Wonderland`.\n",
    "- How to perform the analogy task.\n",
    "\n"
   ]
  },
  {
   "cell_type": "markdown",
   "metadata": {
    "id": "xJ4nnAY4jR4R"
   },
   "source": [
    "\n",
    "# Word Embeddings: Encoding Lexical Semantics\n",
    "\n",
    "\n",
    "Word embeddings are dense vectors of real numbers, one per word in your\n",
    "vocabulary. In NLP, it is almost always the case that your features are\n",
    "words! But how should you represent a word in a computer? You could\n",
    "store its ascii character representation, but that only tells you what\n",
    "the word *is*, it doesn't say much about what it *means* (you might be\n",
    "able to derive its part of speech from its affixes, or properties from\n",
    "its capitalization, but not much). Even more, in what sense could you\n",
    "combine these representations? We often want dense outputs from our\n",
    "neural networks, where the inputs are $|V|$ dimensional, where\n",
    "$V$ is our vocabulary, but often the outputs are only a few\n",
    "dimensional (if we are only predicting a handful of labels, for\n",
    "instance). How do we get from a massive dimensional space to a smaller\n",
    "dimensional space?\n",
    "\n",
    "How about instead of ascii representations, we use a one-hot encoding?\n",
    "That is, we represent the word $w$ by\n",
    "$$\n",
    "\\begin{align}\n",
    "\\overbrace{\\left[ 0, 0, \\dots, 1, \\dots, 0, 0 \\right]}^\\text{|V| elements}\n",
    "\\end{align}\n",
    "$$\n",
    "\n",
    "where the 1 is in a location unique to $w$. Any other word will\n",
    "have a 1 in some other location, and a 0 everywhere else.\n",
    "\n",
    "There is an enormous drawback to this representation, besides just how\n",
    "huge it is. It basically treats all words as independent entities with\n",
    "no relation to each other. What we really want is some notion of\n",
    "*similarity* between words. Why? Let's see an example.\n",
    "\n",
    "Suppose we are building a language model. Suppose we have seen the\n",
    "sentences\n",
    "\n",
    "* The mathematician ran to the store.\n",
    "* The physicist ran to the store.\n",
    "* The mathematician solved the open problem.\n",
    "\n",
    "in our training data. Now suppose we get a new sentence never before\n",
    "seen in our training data:\n",
    "\n",
    "* The physicist solved the open problem.\n",
    "\n",
    "Our language model might do OK on this sentence, but wouldn't it be much\n",
    "better if we could use the following two facts:\n",
    "\n",
    "- We have seen  mathematician and physicist in the same role in a sentence. Somehow they\n",
    "  have a semantic relation.\n",
    "* We have seen mathematician in the same role  in this new unseen sentence\n",
    "  as we are now seeing physicist.\n",
    "\n",
    "and then infer that physicist is actually a good fit in the new unseen\n",
    "sentence? This is what we mean by a notion of similarity: we mean\n",
    "*semantic similarity*, not simply having similar orthographic\n",
    "representations. It is a technique to combat the sparsity of linguistic\n",
    "data, by connecting the dots between what we have seen and what we\n",
    "haven't. This example of course relies on a fundamental linguistic\n",
    "assumption: that words appearing in similar contexts are related to each\n",
    "other semantically. This is called the [distributional\n",
    "hypothesis](https://en.wikipedia.org/wiki/Distributional_semantics).\n"
   ]
  },
  {
   "cell_type": "markdown",
   "metadata": {},
   "source": [
    "# Getting Dense Word Embeddings\n",
    "\n",
    "\n",
    "How can we solve this problem? That is, how could we actually encode\n",
    "semantic similarity in words? Maybe we think up some semantic\n",
    "attributes. For example, we see that both mathematicians and physicists\n",
    "can run, so maybe we give these words a high score for the \"is able to\n",
    "run\" semantic attribute. Think of some other attributes, and imagine\n",
    "what you might score some common words on those attributes.\n",
    "\n",
    "If each attribute is a dimension, then we might give each word a vector,\n",
    "like this:\n",
    "\n",
    "$$\n",
    "\\begin{align}\n",
    "q_\\text{mathematician} = \\left[ \\overbrace{2.3}^\\text{can run},\n",
    "   \\overbrace{9.4}^\\text{likes coffee}, \\overbrace{-5.5}^\\text{majored in Physics}, \\dots \\right]\n",
    " \\end{align}\n",
    "$$\n",
    "\n",
    "$$\n",
    "\\begin{align}\n",
    "q_\\text{physicist} = \\left[ \\overbrace{2.5}^\\text{can run},\n",
    "   \\overbrace{9.1}^\\text{likes coffee}, \\overbrace{6.4}^\\text{majored in Physics}, \\dots \\right]\n",
    "\\end{align}\n",
    "$$\n",
    "\n",
    "Then we can get a measure of similarity between these words by doing:\n",
    "\n",
    "$$\n",
    "\\begin{align}\n",
    "\\text{Similarity}(\\text{physicist}, \\text{mathematician}) = q_\\text{physicist} \\cdot q_\\text{mathematician}\n",
    "\\end{align}\n",
    "$$\n",
    "\n",
    "\n",
    "Although it is more common to normalize by the lengths:\n",
    "\n",
    "\\begin{align}\\text{Similarity}(\\text{physicist}, \\text{mathematician}) = \\frac{q_\\text{physicist} \\cdot q_\\text{mathematician}}\n",
    "   {\\| q_\\text{physicist} \\| \\| q_\\text{mathematician} \\|} = \\cos (\\phi)\\end{align}\n",
    "\n",
    "Where $\\phi$ is the angle between the two vectors. That way,\n",
    "extremely similar words (words whose embeddings point in the same\n",
    "direction) will have similarity 1. Extremely dissimilar words should\n",
    "have similarity -1.\n",
    "\n",
    "\n",
    "\n",
    "You can think of the sparse one-hot vectors from the beginning of this\n",
    "section as a special case of these new vectors we have defined, where\n",
    "each word basically has similarity 0, and we gave each word some unique\n",
    "semantic attribute. These new vectors are *dense*, which is to say their\n",
    "entries are (typically) non-zero.\n",
    "\n",
    "But these new vectors are a big pain: you could think of thousands of\n",
    "different semantic attributes that might be relevant to determining\n",
    "similarity, and how on earth would you set the values of the different\n",
    "attributes? Central to the idea of deep learning is that the neural\n",
    "network learns representations of the features, rather than requiring\n",
    "the programmer to design them herself. So why not just let the word\n",
    "embeddings be parameters in our model, and then be updated during\n",
    "training? This is exactly what we will do. We will have some *latent\n",
    "semantic attributes* that the network can, in principle, learn. Note\n",
    "that the word embeddings will probably not be interpretable. That is,\n",
    "although with our hand-crafted vectors above we can see that\n",
    "mathematicians and physicists are similar in that they both like coffee,\n",
    "if we allow a neural network to learn the embeddings and see that both\n",
    "mathematicians and physicists have a large value in the second\n",
    "dimension, it is not clear what that means. They are similar in some\n",
    "latent semantic dimension, but this probably has no interpretation to\n",
    "us.\n",
    "\n",
    "\n",
    "In summary, **word embeddings are a representation of the *semantics* of\n",
    "a word, efficiently encoding semantic information that might be relevant\n",
    "to the task at hand**. You can embed other things too: part of speech\n",
    "tags, parse trees, anything! The idea of feature embeddings is central\n",
    "to the field.\n"
   ]
  },
  {
   "cell_type": "markdown",
   "metadata": {},
   "source": [
    "# Word Embeddings in Pytorch\n",
    "\n",
    "\n",
    "Before we get to a worked example and an exercise, a few quick notes\n",
    "about how to use embeddings in Pytorch and in deep learning programming\n",
    "in general. Similar to how we defined a unique index for each word when\n",
    "making one-hot vectors, we also need to define an index for each word\n",
    "when using embeddings. These will be keys into a lookup table. That is,\n",
    "embeddings are stored as a $|V| \\times D$ matrix, where $D$\n",
    "is the dimensionality of the embeddings, such that the word assigned\n",
    "index $i$ has its embedding stored in the $i$'th row of the\n",
    "matrix. In all of code, the mapping from words to indices is a\n",
    "dictionary named word\\_to\\_ix.\n",
    "\n",
    "The module that allows you to use embeddings is torch.nn.Embedding,\n",
    "which takes two arguments: the vocabulary size, and the dimensionality\n",
    "of the embeddings.\n",
    "\n",
    "To index into this table, you must use torch.LongTensor (since the\n",
    "indices are integers, not floats).\n",
    "\n"
   ]
  },
  {
   "cell_type": "code",
   "execution_count": 2,
   "metadata": {
    "id": "SN-aYyHOjR4S"
   },
   "outputs": [
    {
     "data": {
      "text/plain": [
       "<torch._C.Generator at 0x7f3c980a7770>"
      ]
     },
     "execution_count": 2,
     "metadata": {},
     "output_type": "execute_result"
    }
   ],
   "source": [
    "# Author: Robert Guthrie\n",
    "\n",
    "import torch\n",
    "import torch.nn as nn\n",
    "import torch.nn.functional as F\n",
    "import torch.optim as optim\n",
    "import numpy as np\n",
    "torch.manual_seed(1)"
   ]
  },
  {
   "cell_type": "code",
   "execution_count": 3,
   "metadata": {
    "id": "Ki4s4m9IjR4T"
   },
   "outputs": [
    {
     "name": "stdout",
     "output_type": "stream",
     "text": [
      "tensor([[ 0.6614,  0.2669,  0.0617,  0.6213, -0.4519]],\n",
      "       grad_fn=<EmbeddingBackward>)\n"
     ]
    }
   ],
   "source": [
    "word_to_ix = {\"hello\": 0, \"world\": 1}\n",
    "embeds = nn.Embedding(2, 5)  # 2 words in vocab, 5 dimensional embeddings\n",
    "lookup_tensor = torch.tensor([word_to_ix[\"hello\"]], dtype=torch.long)\n",
    "hello_embed = embeds(lookup_tensor)\n",
    "print(hello_embed)"
   ]
  },
  {
   "cell_type": "markdown",
   "metadata": {
    "id": "uzIyUMPKjR4U"
   },
   "source": [
    "# Example  N-Gram Language Modeling in a Toy example\n",
    "\n",
    "\n",
    "Recall that in an n-gram language model, given a sequence of words\n",
    "$w$, we want to compute\n",
    "\n",
    "\\begin{align}P(w_i | w_{i-1}, w_{i-2}, \\dots, w_{i-n+1} )\\end{align}\n",
    "\n",
    "Where $w_i$ is the ith word of the sequence.\n",
    "\n",
    "In this example, we will compute the loss function on some training\n",
    "examples and update the parameters with backpropagation.\n",
    "\n",
    "\n"
   ]
  },
  {
   "cell_type": "markdown",
   "metadata": {},
   "source": [
    "##  Data Preprocessing\n",
    "\n",
    "Before we can use the data in our model, we should build a list of tuples.  Each tuple is `([ word_i-2, word_i-1 ], target word)`, we also build dictionaries to map from words to indices, i.e. word_to_ix, and map from indices to words, i.e. ix_to_word,"
   ]
  },
  {
   "cell_type": "code",
   "execution_count": 4,
   "metadata": {},
   "outputs": [
    {
     "name": "stdout",
     "output_type": "stream",
     "text": [
      "[(['When', 'forty'], 'winters'), (['forty', 'winters'], 'shall'), (['winters', 'shall'], 'besiege')]\n"
     ]
    }
   ],
   "source": [
    "CONTEXT_SIZE = 2\n",
    "\n",
    "# We will use Shakespeare Sonnet 2\n",
    "test_sentence = \"\"\"When forty winters shall besiege thy brow,\n",
    "And dig deep trenches in thy beauty's field,\n",
    "Thy youth's proud livery so gazed on now,\n",
    "Will be a totter'd weed of small worth held:\n",
    "Then being asked, where all thy beauty lies,\n",
    "Where all the treasure of thy lusty days;\n",
    "To say, within thine own deep sunken eyes,\n",
    "Were an all-eating shame, and thriftless praise.\n",
    "How much more praise deserv'd thy beauty's use,\n",
    "If thou couldst answer 'This fair child of mine\n",
    "Shall sum my count, and make my old excuse,'\n",
    "Proving his beauty by succession thine!\n",
    "This were to be new made when thou art old,\n",
    "And see thy blood warm when thou feel'st it cold.\"\"\".split()\n",
    "# we should tokenize the input, but we will ignore that for now\n",
    "# build a list of tuples.  Each tuple is ([ word_i-2, word_i-1 ], target word)\n",
    "trigrams = [([test_sentence[i], test_sentence[i + 1]], test_sentence[i + 2])\n",
    "            for i in range(len(test_sentence) - 2)]\n",
    "# print the first 3, just so you can see what they look like\n",
    "print(trigrams[:3])\n",
    "\n",
    "\n",
    "vocab = set(test_sentence)\n",
    "word_to_ix = {word: i for i, word in enumerate(vocab)}\n",
    "ix_to_word = {ix:word for ix, word in enumerate(vocab)}\n"
   ]
  },
  {
   "cell_type": "markdown",
   "metadata": {},
   "source": [
    "## Create N-Gram model\n",
    "We create N-Gram language model, and set the word embedding size to be 100 (or other by your preference)."
   ]
  },
  {
   "cell_type": "code",
   "execution_count": 5,
   "metadata": {
    "id": "cAWWomBFjR4V",
    "scrolled": true
   },
   "outputs": [
    {
     "name": "stdout",
     "output_type": "stream",
     "text": [
      "Epoch: 0 \tLoss: 4.6184276395139445\n",
      "Epoch: 1 \tLoss: 4.567574408202045\n",
      "Epoch: 2 \tLoss: 4.517263657223862\n",
      "Epoch: 3 \tLoss: 4.467525921036712\n",
      "Epoch: 4 \tLoss: 4.418319904698735\n",
      "Epoch: 5 \tLoss: 4.369628644622533\n",
      "Epoch: 6 \tLoss: 4.3212929615932225\n",
      "Epoch: 7 \tLoss: 4.273199705950982\n",
      "Epoch: 8 \tLoss: 4.225385874773549\n",
      "Epoch: 9 \tLoss: 4.1778971558123565\n",
      "Epoch: 10 \tLoss: 4.130414842504315\n",
      "Epoch: 11 \tLoss: 4.0828760028940385\n",
      "Epoch: 12 \tLoss: 4.0354243316481595\n",
      "Epoch: 13 \tLoss: 3.9878098859196216\n",
      "Epoch: 14 \tLoss: 3.9402531395971248\n",
      "Epoch: 15 \tLoss: 3.892510144056472\n",
      "Epoch: 16 \tLoss: 3.8444986237888843\n",
      "Epoch: 17 \tLoss: 3.7962334915599993\n",
      "Epoch: 18 \tLoss: 3.7474562784211827\n",
      "Epoch: 19 \tLoss: 3.6983737797863716\n",
      "Epoch: 20 \tLoss: 3.6489360796666777\n",
      "Epoch: 21 \tLoss: 3.5992348236320293\n",
      "Epoch: 22 \tLoss: 3.5489213709282663\n",
      "Epoch: 23 \tLoss: 3.498171847478478\n",
      "Epoch: 24 \tLoss: 3.446993055596816\n",
      "Epoch: 25 \tLoss: 3.3951706685851106\n",
      "Epoch: 26 \tLoss: 3.34307616790839\n",
      "Epoch: 27 \tLoss: 3.2902892796339187\n",
      "Epoch: 28 \tLoss: 3.2372766406135223\n",
      "Epoch: 29 \tLoss: 3.183736775828674\n",
      "Epoch: 30 \tLoss: 3.129893921117867\n",
      "Epoch: 31 \tLoss: 3.0757048873774773\n",
      "Epoch: 32 \tLoss: 3.0210582656142986\n",
      "Epoch: 33 \tLoss: 2.966043102002777\n",
      "Epoch: 34 \tLoss: 2.9107968242822495\n",
      "Epoch: 35 \tLoss: 2.855240916256356\n",
      "Epoch: 36 \tLoss: 2.7992421747308915\n",
      "Epoch: 37 \tLoss: 2.7431951154649785\n",
      "Epoch: 38 \tLoss: 2.686851294958486\n",
      "Epoch: 39 \tLoss: 2.6304037921724066\n",
      "Epoch: 40 \tLoss: 2.573706031373117\n",
      "Epoch: 41 \tLoss: 2.51681224698514\n",
      "Epoch: 42 \tLoss: 2.4598435991633254\n",
      "Epoch: 43 \tLoss: 2.4028150615966424\n",
      "Epoch: 44 \tLoss: 2.3456313559966806\n",
      "Epoch: 45 \tLoss: 2.2886337313504344\n",
      "Epoch: 46 \tLoss: 2.231528605243801\n",
      "Epoch: 47 \tLoss: 2.1745618434078926\n",
      "Epoch: 48 \tLoss: 2.117658712431393\n",
      "Epoch: 49 \tLoss: 2.060930237701509\n",
      "Epoch: 50 \tLoss: 2.0043186942296747\n",
      "Epoch: 51 \tLoss: 1.947998703976648\n",
      "Epoch: 52 \tLoss: 1.8920383879304987\n",
      "Epoch: 53 \tLoss: 1.836368550637127\n",
      "Epoch: 54 \tLoss: 1.7811945120317747\n",
      "Epoch: 55 \tLoss: 1.7264700597893876\n",
      "Epoch: 56 \tLoss: 1.6721993667625747\n",
      "Epoch: 57 \tLoss: 1.618603660733299\n",
      "Epoch: 58 \tLoss: 1.5655296923576203\n",
      "Epoch: 59 \tLoss: 1.5132576687409816\n",
      "Epoch: 60 \tLoss: 1.4618259065710337\n",
      "Epoch: 61 \tLoss: 1.411224261387787\n",
      "Epoch: 62 \tLoss: 1.3615111840509735\n",
      "Epoch: 63 \tLoss: 1.3127791079799687\n",
      "Epoch: 64 \tLoss: 1.2651470298920058\n",
      "Epoch: 65 \tLoss: 1.2184445920639333\n",
      "Epoch: 66 \tLoss: 1.172995441189382\n",
      "Epoch: 67 \tLoss: 1.1285897912704839\n",
      "Epoch: 68 \tLoss: 1.0855617622754214\n",
      "Epoch: 69 \tLoss: 1.0436529729482347\n",
      "Epoch: 70 \tLoss: 1.003159855451204\n",
      "Epoch: 71 \tLoss: 0.9638061185853671\n",
      "Epoch: 72 \tLoss: 0.9257869827931962\n",
      "Epoch: 73 \tLoss: 0.889203477486045\n",
      "Epoch: 74 \tLoss: 0.8538793705206001\n",
      "Epoch: 75 \tLoss: 0.8198669023350277\n",
      "Epoch: 76 \tLoss: 0.7872296216345467\n",
      "Epoch: 77 \tLoss: 0.755805875941188\n",
      "Epoch: 78 \tLoss: 0.7257403756401181\n",
      "Epoch: 79 \tLoss: 0.6969170746418227\n",
      "Epoch: 80 \tLoss: 0.6692997138716478\n",
      "Epoch: 81 \tLoss: 0.6429650665516347\n",
      "Epoch: 82 \tLoss: 0.6177551297355542\n",
      "Epoch: 83 \tLoss: 0.593794472878222\n",
      "Epoch: 84 \tLoss: 0.5708898567981953\n",
      "Epoch: 85 \tLoss: 0.5490800572839458\n",
      "Epoch: 86 \tLoss: 0.5283427661762828\n",
      "Epoch: 87 \tLoss: 0.5086071130910278\n",
      "Epoch: 88 \tLoss: 0.489845240505132\n",
      "Epoch: 89 \tLoss: 0.471973424563102\n",
      "Epoch: 90 \tLoss: 0.45506292054083497\n",
      "Epoch: 91 \tLoss: 0.43893080260769457\n",
      "Epoch: 92 \tLoss: 0.4236709622880526\n",
      "Epoch: 93 \tLoss: 0.4091229104824298\n",
      "Epoch: 94 \tLoss: 0.3953172502198578\n",
      "Epoch: 95 \tLoss: 0.38224357392935626\n",
      "Epoch: 96 \tLoss: 0.36979962048013654\n",
      "Epoch: 97 \tLoss: 0.3579718665079733\n",
      "Epoch: 98 \tLoss: 0.3467585655769943\n",
      "Epoch: 99 \tLoss: 0.33609972801883664\n"
     ]
    }
   ],
   "source": [
    "EMBEDDING_DIM = 100\n",
    "\n",
    "class NGramLanguageModeler(nn.Module):\n",
    "\n",
    "    def __init__(self, vocab_size, embedding_dim, context_size):\n",
    "        super(NGramLanguageModeler, self).__init__()\n",
    "        self.embeddings = nn.Embedding(vocab_size, embedding_dim)\n",
    "        self.linear1 = nn.Linear(context_size * embedding_dim, 128)\n",
    "        self.linear2 = nn.Linear(128, vocab_size)\n",
    "\n",
    "    def forward(self, inputs):\n",
    "        embeds = self.embeddings(inputs).view((1, -1))\n",
    "        out = F.relu(self.linear1(embeds))\n",
    "        out = self.linear2(out)\n",
    "        log_probs = F.log_softmax(out, dim=1)\n",
    "        return log_probs\n",
    "\n",
    "\n",
    "\n",
    "loss_function = nn.NLLLoss()\n",
    "model = NGramLanguageModeler(len(vocab), EMBEDDING_DIM, CONTEXT_SIZE)\n",
    "optimizer = optim.SGD(model.parameters(), lr=0.001)\n",
    "\n",
    "for epoch in range(100):\n",
    "    total_loss = 0\n",
    "    for context, target in trigrams:\n",
    "\n",
    "        # Step 1. Prepare the inputs to be passed to the model (i.e, turn the words\n",
    "        # into integer indices and wrap them in tensors)\n",
    "        context_idxs = torch.tensor([word_to_ix[w] for w in context], dtype=torch.long)\n",
    "\n",
    "        # Step 2. Recall that torch *accumulates* gradients. Before passing in a\n",
    "        # new instance, you need to zero out the gradients from the old\n",
    "        # instance\n",
    "        model.zero_grad()\n",
    "\n",
    "        # Step 3. Run the forward pass, getting log probabilities over next\n",
    "        # words\n",
    "        log_probs = model(context_idxs)\n",
    "\n",
    "        # Step 4. Compute your loss function. (Again, Torch wants the target\n",
    "        # word wrapped in a tensor)\n",
    "        loss = loss_function(log_probs, torch.tensor([word_to_ix[target]], dtype=torch.long))\n",
    "\n",
    "        # Step 5. Do the backward pass and update the gradient\n",
    "        loss.backward()\n",
    "        optimizer.step()\n",
    "\n",
    "        # Get the Python number from a 1-element Tensor by calling tensor.item()\n",
    "        total_loss += loss.item()\n",
    "    average_loss= total_loss/len(trigrams)\n",
    "    print('Epoch:', epoch, '\\tLoss:', average_loss)  # The loss decreased every iteration over the training data!"
   ]
  },
  {
   "cell_type": "markdown",
   "metadata": {},
   "source": [
    "##  Check the results"
   ]
  },
  {
   "cell_type": "markdown",
   "metadata": {},
   "source": [
    "We can print the word embedding value by creating pandas table"
   ]
  },
  {
   "cell_type": "code",
   "execution_count": 6,
   "metadata": {
    "scrolled": true
   },
   "outputs": [
    {
     "data": {
      "text/html": [
       "<div>\n",
       "<style scoped>\n",
       "    .dataframe tbody tr th:only-of-type {\n",
       "        vertical-align: middle;\n",
       "    }\n",
       "\n",
       "    .dataframe tbody tr th {\n",
       "        vertical-align: top;\n",
       "    }\n",
       "\n",
       "    .dataframe thead th {\n",
       "        text-align: right;\n",
       "    }\n",
       "</style>\n",
       "<table border=\"1\" class=\"dataframe\">\n",
       "  <thead>\n",
       "    <tr style=\"text-align: right;\">\n",
       "      <th></th>\n",
       "      <th>0</th>\n",
       "      <th>1</th>\n",
       "      <th>2</th>\n",
       "      <th>3</th>\n",
       "      <th>4</th>\n",
       "      <th>5</th>\n",
       "      <th>6</th>\n",
       "      <th>7</th>\n",
       "      <th>8</th>\n",
       "      <th>9</th>\n",
       "      <th>...</th>\n",
       "      <th>90</th>\n",
       "      <th>91</th>\n",
       "      <th>92</th>\n",
       "      <th>93</th>\n",
       "      <th>94</th>\n",
       "      <th>95</th>\n",
       "      <th>96</th>\n",
       "      <th>97</th>\n",
       "      <th>98</th>\n",
       "      <th>99</th>\n",
       "    </tr>\n",
       "  </thead>\n",
       "  <tbody>\n",
       "    <tr>\n",
       "      <th>gazed</th>\n",
       "      <td>0.869490</td>\n",
       "      <td>0.245539</td>\n",
       "      <td>-0.664585</td>\n",
       "      <td>0.811868</td>\n",
       "      <td>0.438889</td>\n",
       "      <td>1.174906</td>\n",
       "      <td>1.768458</td>\n",
       "      <td>-0.093406</td>\n",
       "      <td>0.060643</td>\n",
       "      <td>-0.618839</td>\n",
       "      <td>...</td>\n",
       "      <td>-1.480624</td>\n",
       "      <td>-1.134290</td>\n",
       "      <td>-0.099493</td>\n",
       "      <td>0.344653</td>\n",
       "      <td>-1.075817</td>\n",
       "      <td>-0.873770</td>\n",
       "      <td>0.205915</td>\n",
       "      <td>0.303491</td>\n",
       "      <td>0.537498</td>\n",
       "      <td>-0.432401</td>\n",
       "    </tr>\n",
       "    <tr>\n",
       "      <th>shame,</th>\n",
       "      <td>0.157423</td>\n",
       "      <td>1.258140</td>\n",
       "      <td>1.330694</td>\n",
       "      <td>-0.494381</td>\n",
       "      <td>-1.982846</td>\n",
       "      <td>1.804175</td>\n",
       "      <td>0.104656</td>\n",
       "      <td>0.339119</td>\n",
       "      <td>-0.645856</td>\n",
       "      <td>-0.284401</td>\n",
       "      <td>...</td>\n",
       "      <td>-1.106077</td>\n",
       "      <td>-0.700539</td>\n",
       "      <td>0.232725</td>\n",
       "      <td>1.915894</td>\n",
       "      <td>1.839472</td>\n",
       "      <td>1.324137</td>\n",
       "      <td>-0.075483</td>\n",
       "      <td>0.344618</td>\n",
       "      <td>-0.656136</td>\n",
       "      <td>1.559849</td>\n",
       "    </tr>\n",
       "    <tr>\n",
       "      <th>being</th>\n",
       "      <td>0.217033</td>\n",
       "      <td>-0.576102</td>\n",
       "      <td>1.457080</td>\n",
       "      <td>1.775364</td>\n",
       "      <td>-2.018225</td>\n",
       "      <td>0.423817</td>\n",
       "      <td>0.571083</td>\n",
       "      <td>-1.797884</td>\n",
       "      <td>1.249953</td>\n",
       "      <td>1.278977</td>\n",
       "      <td>...</td>\n",
       "      <td>0.245853</td>\n",
       "      <td>-0.387649</td>\n",
       "      <td>-0.201335</td>\n",
       "      <td>-0.839659</td>\n",
       "      <td>-1.557926</td>\n",
       "      <td>-0.060790</td>\n",
       "      <td>1.202175</td>\n",
       "      <td>-2.286935</td>\n",
       "      <td>-1.014824</td>\n",
       "      <td>-0.887650</td>\n",
       "    </tr>\n",
       "    <tr>\n",
       "      <th>all</th>\n",
       "      <td>0.147808</td>\n",
       "      <td>0.206768</td>\n",
       "      <td>1.059622</td>\n",
       "      <td>0.127396</td>\n",
       "      <td>1.403624</td>\n",
       "      <td>0.490550</td>\n",
       "      <td>-0.706232</td>\n",
       "      <td>-0.833874</td>\n",
       "      <td>0.098291</td>\n",
       "      <td>0.199081</td>\n",
       "      <td>...</td>\n",
       "      <td>0.349384</td>\n",
       "      <td>-0.551900</td>\n",
       "      <td>-0.959752</td>\n",
       "      <td>0.274831</td>\n",
       "      <td>-0.685070</td>\n",
       "      <td>-0.540304</td>\n",
       "      <td>1.157472</td>\n",
       "      <td>-0.405549</td>\n",
       "      <td>0.980652</td>\n",
       "      <td>1.547734</td>\n",
       "    </tr>\n",
       "    <tr>\n",
       "      <th>And</th>\n",
       "      <td>-0.374356</td>\n",
       "      <td>-2.414187</td>\n",
       "      <td>-1.278474</td>\n",
       "      <td>-0.060508</td>\n",
       "      <td>-1.237975</td>\n",
       "      <td>-1.064121</td>\n",
       "      <td>-0.383513</td>\n",
       "      <td>0.380814</td>\n",
       "      <td>-0.209936</td>\n",
       "      <td>0.698620</td>\n",
       "      <td>...</td>\n",
       "      <td>0.298057</td>\n",
       "      <td>-0.563236</td>\n",
       "      <td>0.727234</td>\n",
       "      <td>-0.549145</td>\n",
       "      <td>-0.804174</td>\n",
       "      <td>0.023799</td>\n",
       "      <td>-0.151979</td>\n",
       "      <td>0.525044</td>\n",
       "      <td>-0.214196</td>\n",
       "      <td>-1.256965</td>\n",
       "    </tr>\n",
       "  </tbody>\n",
       "</table>\n",
       "<p>5 rows × 100 columns</p>\n",
       "</div>"
      ],
      "text/plain": [
       "              0         1         2         3         4         5         6   \\\n",
       "gazed   0.869490  0.245539 -0.664585  0.811868  0.438889  1.174906  1.768458   \n",
       "shame,  0.157423  1.258140  1.330694 -0.494381 -1.982846  1.804175  0.104656   \n",
       "being   0.217033 -0.576102  1.457080  1.775364 -2.018225  0.423817  0.571083   \n",
       "all     0.147808  0.206768  1.059622  0.127396  1.403624  0.490550 -0.706232   \n",
       "And    -0.374356 -2.414187 -1.278474 -0.060508 -1.237975 -1.064121 -0.383513   \n",
       "\n",
       "              7         8         9   ...        90        91        92  \\\n",
       "gazed  -0.093406  0.060643 -0.618839  ... -1.480624 -1.134290 -0.099493   \n",
       "shame,  0.339119 -0.645856 -0.284401  ... -1.106077 -0.700539  0.232725   \n",
       "being  -1.797884  1.249953  1.278977  ...  0.245853 -0.387649 -0.201335   \n",
       "all    -0.833874  0.098291  0.199081  ...  0.349384 -0.551900 -0.959752   \n",
       "And     0.380814 -0.209936  0.698620  ...  0.298057 -0.563236  0.727234   \n",
       "\n",
       "              93        94        95        96        97        98        99  \n",
       "gazed   0.344653 -1.075817 -0.873770  0.205915  0.303491  0.537498 -0.432401  \n",
       "shame,  1.915894  1.839472  1.324137 -0.075483  0.344618 -0.656136  1.559849  \n",
       "being  -0.839659 -1.557926 -0.060790  1.202175 -2.286935 -1.014824 -0.887650  \n",
       "all     0.274831 -0.685070 -0.540304  1.157472 -0.405549  0.980652  1.547734  \n",
       "And    -0.549145 -0.804174  0.023799 -0.151979  0.525044 -0.214196 -1.256965  \n",
       "\n",
       "[5 rows x 100 columns]"
      ]
     },
     "execution_count": 6,
     "metadata": {},
     "output_type": "execute_result"
    }
   ],
   "source": [
    "import pandas as pd\n",
    "embeddings = model.embeddings(torch.Tensor([list(range(0,len(vocab)))]).long())\n",
    "embeddings = embeddings.view(-1,100)\n",
    "pd.DataFrame(embeddings.tolist(), index=list(ix_to_word.values())[0:]).head()"
   ]
  },
  {
   "cell_type": "markdown",
   "metadata": {},
   "source": [
    "We can also plot the TSNE to visualize the similarity"
   ]
  },
  {
   "cell_type": "code",
   "execution_count": 7,
   "metadata": {},
   "outputs": [],
   "source": [
    "labels=[]\n",
    "for i in range(len(ix_to_word)):\n",
    "    labels.append(ix_to_word[i])"
   ]
  },
  {
   "cell_type": "code",
   "execution_count": 8,
   "metadata": {
    "scrolled": true
   },
   "outputs": [
    {
     "data": {
      "image/png": "[encoded data removed]",
      "text/plain": [
       "<Figure size 720x720 with 1 Axes>"
      ]
     },
     "metadata": {
      "needs_background": "light"
     },
     "output_type": "display_data"
    }
   ],
   "source": [
    "from matplotlib import pylab\n",
    "from sklearn.manifold import TSNE\n",
    "\n",
    "tsne = TSNE(n_components=2)\n",
    "two_d_embeddings = tsne.fit_transform(embeddings.detach().numpy())\n",
    "\n",
    "def plot(embeddings, labels):\n",
    "      assert embeddings.shape[0] >= len(labels), 'More labels than embeddings'\n",
    "      pylab.figure(figsize=(10,10))  # in inches\n",
    "      for i, label in enumerate(labels):\n",
    "        x, y = embeddings[i,:]\n",
    "        pylab.scatter(x, y)\n",
    "        pylab.annotate(label, xy=(x, y), xytext=(5, 2), textcoords='offset points',\n",
    "                       ha='right', va='bottom')\n",
    "      pylab.show()\n",
    "\n",
    "\n",
    "plot(two_d_embeddings, labels)"
   ]
  },
  {
   "cell_type": "code",
   "execution_count": 9,
   "metadata": {},
   "outputs": [
    {
     "name": "stdout",
     "output_type": "stream",
     "text": [
      "Raw text: When forty winters shall besiege thy brow, And dig deep trenches in thy beauty's field, Thy youth's proud livery so gazed on now, Will be a totter'd weed of small worth held: Then being asked, where all thy beauty lies, Where all the treasure of thy lusty days; To say, within thine own deep sunken eyes, Were an all-eating shame, and thriftless praise. How much more praise deserv'd thy beauty's use, If thou couldst answer 'This fair child of mine Shall sum my count, and make my old excuse,' Proving his beauty by succession thine! This were to be new made when thou art old, And see thy blood warm when thou feel'st it cold.\n",
      "\n",
      "Context: ['When', 'forty']\n",
      "\n",
      "Prediction: winters\n"
     ]
    }
   ],
   "source": [
    "context = ['When','forty']\n",
    "\n",
    "a = model(torch.tensor([word_to_ix[w] for w in context]))\n",
    "\n",
    "#Print result\n",
    "print(f'Raw text: {\" \".join(test_sentence)}\\n')\n",
    "print(f'Context: {context}\\n')\n",
    "print(f'Prediction: {ix_to_word[torch.argmax(a[0]).item()]}')"
   ]
  },
  {
   "cell_type": "markdown",
   "metadata": {
    "id": "TuCM5LSqjR4V"
   },
   "source": [
    "# Practical. 1: Computing Word Embeddings: Continuous Bag-of-Words in a Toy example\n",
    "\n",
    "~~~~~~~~~~~~~~~~~~~~~~~~~~~~~~~~~~~~~~~~~~~~~~~~~~~~~~~~~~~~\n",
    "\n",
    "The Continuous Bag-of-Words model (CBOW) is frequently used in NLP deep\n",
    "learning. It is a model that tries to predict words given the context of\n",
    "a few words before and a few words after the target word. This is\n",
    "distinct from language modeling, since CBOW is not sequential and does\n",
    "not have to be probabilistic. Typcially, CBOW is used to quickly train\n",
    "word embeddings, and these embeddings are used to initialize the\n",
    "embeddings of some more complicated model. Usually, this is referred to\n",
    "as *pretraining embeddings*. It almost always helps performance a couple\n",
    "of percent.\n",
    "\n",
    "The CBOW model is as follows. Given a target word $w_i$ and an\n",
    "$N$ context window on each side, $w_{i-1}, \\dots, w_{i-N}$\n",
    "and $w_{i+1}, \\dots, w_{i+N}$, referring to all context words\n",
    "collectively as $C$, CBOW tries to minimize\n",
    "\n",
    "\\begin{align}-\\log p(w_i | C) = -\\log \\text{Softmax}(A(\\sum_{w \\in C} q_w) + b)\\end{align}\n",
    "\n",
    "where $q_w$ is the embedding for word $w$.\n",
    "\n",
    "Implement this model in Pytorch by filling in the class below. Some\n",
    "tips:\n",
    "\n",
    "* Think about which parameters you need to define.\n",
    "* Make sure you know what shape each operation expects. Use .view() if you need to\n",
    "  reshape.\n",
    "\n",
    "\n"
   ]
  },
  {
   "cell_type": "markdown",
   "metadata": {},
   "source": [
    "##  Data Preprocessing\n",
    "\n",
    "The CBOW model architecture tries to predict the current target word (the center word) based on the source context words (surrounding words). Considering a simple sentence, `the quick brown fox jumps over the lazy dog`, this can be pairs of (context_window, target_word) where if we consider a context size 2 (2 words to the left, 2 to the right),  we have examples like `([the, quick, fox, jumps], brown)` and so on. Thus the model tries to predict the target_word based on the context_window words.\n",
    "\n",
    "\n",
    "Therefore should build a list of tuples.  Each tuple is `([ word_i-2, word_i-1,word_i+1, word_i+2 ], target word)`, we also build dictionaries to map from words to indices, i.e. word_to_ix, and map from indices to words, i.e. ix_to_word,"
   ]
  },
  {
   "cell_type": "code",
   "execution_count": 10,
   "metadata": {},
   "outputs": [
    {
     "name": "stdout",
     "output_type": "stream",
     "text": [
      "[(['We', 'are', 'to', 'study'], 'about'), (['are', 'about', 'study', 'the'], 'to'), (['about', 'to', 'the', 'idea'], 'study'), (['to', 'study', 'idea', 'of'], 'the'), (['study', 'the', 'of', 'a'], 'idea')]\n"
     ]
    }
   ],
   "source": [
    "import torch\n",
    "import torch.nn as nn\n",
    "\n",
    "\n",
    "CONTEXT_SIZE = 2  # 2 words to the left, 2 to the right\n",
    "EMBEDDING_DIM = 100\n",
    "\n",
    "raw_text = \"\"\"We are about to study the idea of a computational process.\n",
    "Computational processes are abstract beings that inhabit computers.\n",
    "As they evolve, processes manipulate other abstract things called data.\n",
    "The evolution of a process is directed by a pattern of rules\n",
    "called a program. People create programs to direct processes. In effect,\n",
    "we conjure the spirits of the computer with our spells.\"\"\".split()\n",
    "\n",
    "\n",
    "# By deriving a set from `raw_text`, we deduplicate the array\n",
    "vocab = set(raw_text)\n",
    "vocab_size = len(vocab)\n",
    "\n",
    "word_to_ix = {word:ix for ix, word in enumerate(vocab)}\n",
    "ix_to_word = {ix:word for ix, word in enumerate(vocab)}\n",
    "\n",
    "data = []\n",
    "for i in range(2, len(raw_text) - 2):\n",
    "    context = [raw_text[i - 2], raw_text[i - 1],\n",
    "               raw_text[i + 1], raw_text[i + 2]]\n",
    "    target = raw_text[i]\n",
    "    data.append((context, target))\n",
    "    \n",
    "print(data[:5])"
   ]
  },
  {
   "cell_type": "markdown",
   "metadata": {},
   "source": [
    "\n",
    "## Create CBoW Model\n",
    "Following is an image to illustrate the model architecture. We set the word embedding size to be 100 (or other by your preference)."
   ]
  },
  {
   "cell_type": "markdown",
   "metadata": {},
   "source": [
    "![avatar](https://miro.medium.com/max/328/1*bkrBASpteKfCaxZDEEeN6g.png)"
   ]
  },
  {
   "cell_type": "code",
   "execution_count": 11,
   "metadata": {
    "id": "c83HvD2hjR4W",
    "scrolled": true
   },
   "outputs": [
    {
     "name": "stdout",
     "output_type": "stream",
     "text": [
      "Epoch: 0 \tLoss: 4.009723988072626\n",
      "Epoch: 1 \tLoss: 3.8801382286795256\n",
      "Epoch: 2 \tLoss: 3.7550803011861342\n",
      "Epoch: 3 \tLoss: 3.6342484169992906\n",
      "Epoch: 4 \tLoss: 3.5167936826574393\n",
      "Epoch: 5 \tLoss: 3.4022611955116533\n",
      "Epoch: 6 \tLoss: 3.2900622343194894\n",
      "Epoch: 7 \tLoss: 3.180163556131823\n",
      "Epoch: 8 \tLoss: 3.0719314217567444\n",
      "Epoch: 9 \tLoss: 2.965500969311287\n",
      "Epoch: 10 \tLoss: 2.860652907141324\n",
      "Epoch: 11 \tLoss: 2.757028263190697\n",
      "Epoch: 12 \tLoss: 2.654942035675049\n",
      "Epoch: 13 \tLoss: 2.554725912110559\n",
      "Epoch: 14 \tLoss: 2.456152287022821\n",
      "Epoch: 15 \tLoss: 2.3590683197153024\n",
      "Epoch: 16 \tLoss: 2.26406276431577\n",
      "Epoch: 17 \tLoss: 2.170871977148385\n",
      "Epoch: 18 \tLoss: 2.078933401354428\n",
      "Epoch: 19 \tLoss: 1.9890061236661056\n",
      "Epoch: 20 \tLoss: 1.900863262086079\n",
      "Epoch: 21 \tLoss: 1.8144827618681152\n",
      "Epoch: 22 \tLoss: 1.730537939174422\n",
      "Epoch: 23 \tLoss: 1.648800176279298\n",
      "Epoch: 24 \tLoss: 1.5686935463856007\n",
      "Epoch: 25 \tLoss: 1.4915215506635864\n",
      "Epoch: 26 \tLoss: 1.4159018042786369\n",
      "Epoch: 27 \tLoss: 1.3430941490263775\n",
      "Epoch: 28 \tLoss: 1.2728244652008187\n",
      "Epoch: 29 \tLoss: 1.2047462196185672\n",
      "Epoch: 30 \tLoss: 1.1399179768973384\n",
      "Epoch: 31 \tLoss: 1.0779507874414838\n",
      "Epoch: 32 \tLoss: 1.0187125059551205\n",
      "Epoch: 33 \tLoss: 0.9622296446870113\n",
      "Epoch: 34 \tLoss: 0.9087721040022785\n",
      "Epoch: 35 \tLoss: 0.8582306111167217\n",
      "Epoch: 36 \tLoss: 0.8106869780297937\n",
      "Epoch: 37 \tLoss: 0.7657119102519134\n",
      "Epoch: 38 \tLoss: 0.723622672002891\n",
      "Epoch: 39 \tLoss: 0.6841765015289701\n",
      "Epoch: 40 \tLoss: 0.6469837522198414\n",
      "Epoch: 41 \tLoss: 0.6123753148933937\n",
      "Epoch: 42 \tLoss: 0.580035969358066\n",
      "Epoch: 43 \tLoss: 0.5497824690979103\n",
      "Epoch: 44 \tLoss: 0.5216458496348612\n",
      "Epoch: 45 \tLoss: 0.4952905883306059\n",
      "Epoch: 46 \tLoss: 0.47077251238555745\n",
      "Epoch: 47 \tLoss: 0.44795981627599946\n",
      "Epoch: 48 \tLoss: 0.42662265215968265\n",
      "Epoch: 49 \tLoss: 0.4067613537712344\n"
     ]
    }
   ],
   "source": [
    "class CBOW(torch.nn.Module):\n",
    "    def __init__(self, vocab_size, embedding_dim):\n",
    "        super(CBOW, self).__init__()\n",
    "\n",
    "        #out: 1 x embedding_dim\n",
    "        self.embeddings = nn.Embedding(vocab_size, embedding_dim)\n",
    "        self.linear1 = nn.Linear(embedding_dim, 128)\n",
    "        self.activation_function1 = nn.ReLU()\n",
    "        \n",
    "        #out: 1 x vocab_size\n",
    "        self.linear2 = nn.Linear(128, vocab_size)\n",
    "        self.activation_function2 = nn.LogSoftmax(dim = -1)\n",
    "        \n",
    "\n",
    "    def forward(self, inputs):\n",
    "        embeds = sum(self.embeddings(inputs)).view(1,-1)\n",
    "        out = self.linear1(embeds)\n",
    "        out = self.activation_function1(out)\n",
    "        out = self.linear2(out)\n",
    "        out = self.activation_function2(out)\n",
    "        log_probs = F.log_softmax(out, dim=1)\n",
    "        return out\n",
    "\n",
    "\n",
    "# create your model and train.  here are some functions to help you make\n",
    "# the data ready for use by your module\n",
    "\n",
    "def make_context_vector(context, word_to_ix):\n",
    "    idxs = [word_to_ix[w] for w in context]\n",
    "    return torch.tensor(idxs, dtype=torch.long)\n",
    "\n",
    "\n",
    "\n",
    "model = CBOW(vocab_size, EMBEDDING_DIM)\n",
    "loss_function = nn.NLLLoss()\n",
    "optimizer = torch.optim.SGD(model.parameters(), lr=0.001)\n",
    "\n",
    "\n",
    "\n",
    "\n",
    "#TRAINING\n",
    "for epoch in range(50):\n",
    "    total_loss = 0\n",
    "\n",
    "    for context, target in data:\n",
    "        # Step 1. Prepare the inputs to be passed to the model (i.e, turn the words\n",
    "        # into integer indices and wrap them in tensors)\n",
    "        context_vector = make_context_vector(context, word_to_ix)  \n",
    "\n",
    "        # Step 2. Recall that torch *accumulates* gradients. Before passing in a\n",
    "        # new instance, you need to zero out the gradients from the old\n",
    "        # instance\n",
    "        model.zero_grad()\n",
    "\n",
    "        # Step 3. Run the forward pass, getting log probabilities over near\n",
    "        # words\n",
    "        log_probs = model(context_vector)\n",
    "\n",
    "        # Step 4. Compute your loss function. (Again, Torch wants the target\n",
    "        # word wrapped in a tensor)\n",
    "        loss = loss_function(log_probs, torch.tensor([word_to_ix[target]], dtype=torch.long))\n",
    "\n",
    "        # Step 5. Do the backward pass and update the gradient\n",
    "        loss.backward()\n",
    "        optimizer.step()\n",
    "\n",
    "        # Get the Python number from a 1-element Tensor by calling tensor.item()\n",
    "        total_loss += loss.item()\n",
    "    average_loss= total_loss/len(data)\n",
    "    print('Epoch:', epoch, '\\tLoss:', average_loss)  # The loss decreased every iteration over the training data!"
   ]
  },
  {
   "cell_type": "markdown",
   "metadata": {},
   "source": [
    "##  Check the results\n",
    "\n",
    "Then we check the results by making predictions of target work by context"
   ]
  },
  {
   "cell_type": "code",
   "execution_count": 12,
   "metadata": {
    "scrolled": true
   },
   "outputs": [
    {
     "name": "stdout",
     "output_type": "stream",
     "text": [
      "Raw text: We are about to study the idea of a computational process. Computational processes are abstract beings that inhabit computers. As they evolve, processes manipulate other abstract things called data. The evolution of a process is directed by a pattern of rules called a program. People create programs to direct processes. In effect, we conjure the spirits of the computer with our spells.\n",
      "\n",
      "Context: ['People', 'create', 'to', 'direct']\n",
      "\n",
      "Prediction: programs\n"
     ]
    }
   ],
   "source": [
    "context = ['People','create','to', 'direct']\n",
    "context_vector = make_context_vector(context, word_to_ix)\n",
    "a = model(context_vector)\n",
    "\n",
    "#Print result\n",
    "print(f'Raw text: {\" \".join(raw_text)}\\n')\n",
    "print(f'Context: {context}\\n')\n",
    "print(f'Prediction: {ix_to_word[torch.argmax(a[0]).item()]}')"
   ]
  },
  {
   "cell_type": "markdown",
   "metadata": {},
   "source": [
    "# Practical. 2: Computing Word Embeddings in  `Alice in Wonderland` using CBoW"
   ]
  },
  {
   "cell_type": "markdown",
   "metadata": {},
   "source": [
    "Now let's try to build word embedding in a  ‘Alice in Wonderland’ instead of a toy example.  Download the word-label mapping dictionaries and corpus by this [link](https://drive.google.com/drive/folders/1mYM29PbWQ4rS0bgKndFJjZlkbcwMaEpO?usp=sharing), and upload them into your own google drive. After that, mount them to the drive folder so we can use them in colab by:"
   ]
  },
  {
   "cell_type": "markdown",
   "metadata": {},
   "source": [
    "##  Data Preprocessing"
   ]
  },
  {
   "cell_type": "code",
   "execution_count": null,
   "metadata": {},
   "outputs": [],
   "source": [
    "from google.colab import drive\n",
    "!mkdir drive\n",
    "drive.mount('drive')"
   ]
  },
  {
   "cell_type": "markdown",
   "metadata": {},
   "source": [
    "Then we list all the data in your drive to see if we mount successfully."
   ]
  },
  {
   "cell_type": "code",
   "execution_count": null,
   "metadata": {},
   "outputs": [],
   "source": [
    "!ls \"drive/My Drive/\""
   ]
  },
  {
   "cell_type": "code",
   "execution_count": 13,
   "metadata": {},
   "outputs": [],
   "source": [
    "# modify the path according to your own file location\n",
    "import os\n",
    "data_path=os.path.join(\"drive/My Drive/DL2021/Word_embedding_data/\")\n"
   ]
  },
  {
   "cell_type": "code",
   "execution_count": 14,
   "metadata": {},
   "outputs": [],
   "source": [
    "# data_path=os.path.join(\".\")"
   ]
  },
  {
   "cell_type": "markdown",
   "metadata": {},
   "source": [
    "Then we load the data"
   ]
  },
  {
   "cell_type": "code",
   "execution_count": 15,
   "metadata": {},
   "outputs": [],
   "source": [
    "import json\n",
    "with open(os.path.join(data_path,\"alice.json\"),'r') as f:\n",
    "    alice = json.load(f)\n",
    "with open(os.path.join(data_path,\"ix_to_word.json\"),'r') as f:\n",
    "    ix_to_word = json.load(f)\n",
    "with open(os.path.join(data_path,\"word_to_ix.json\"),'r') as f:\n",
    "    word_to_ix = json.load(f)"
   ]
  },
  {
   "cell_type": "markdown",
   "metadata": {},
   "source": [
    "Then we create the context and target pair with the help of keras function, we set the window_size 2 (2 words to the left, 2 to the right)"
   ]
  },
  {
   "cell_type": "code",
   "execution_count": 16,
   "metadata": {},
   "outputs": [
    {
     "name": "stderr",
     "output_type": "stream",
     "text": [
      "Using TensorFlow backend.\n"
     ]
    }
   ],
   "source": [
    "window_size=2\n",
    "vocab_size=len(word_to_ix)\n",
    "\n",
    "from keras.preprocessing import text\n",
    "from keras.preprocessing import sequence\n",
    "\n",
    "corpus = [[word_to_ix[w] for w in text.text_to_word_sequence(doc)] for doc in alice]\n",
    "\n",
    "def generate_context_word_pairs(corpus, window_size, vocab_size):\n",
    "    X = []\n",
    "    Y = []\n",
    "    context_length = window_size*2\n",
    "    for words in corpus:\n",
    "        sentence_length = len(words)\n",
    "        for index, word in enumerate(words):           \n",
    "            start = index - window_size\n",
    "            end = index + window_size + 1\n",
    "            context = [words[i] for i in range(start, end)if 0 <= i < sentence_length and i != index]\n",
    "            x = sequence.pad_sequences([context], maxlen=context_length)[0]\n",
    "            X.append(x)\n",
    "            Y.append([word])\n",
    "\n",
    "    X=torch.tensor(X, dtype=torch.long)\n",
    "    Y=torch.tensor(Y, dtype=torch.long)\n",
    "    return X,Y\n",
    "\n",
    "X,Y = generate_context_word_pairs(corpus, window_size=window_size, vocab_size=vocab_size)"
   ]
  },
  {
   "cell_type": "markdown",
   "metadata": {},
   "source": [
    "\n",
    "##  Create CBoW Model\n",
    "Now we create CBoW model, we could set the word embedding size to be 100 (or other by your preference)."
   ]
  },
  {
   "cell_type": "code",
   "execution_count": 17,
   "metadata": {},
   "outputs": [],
   "source": [
    "class CBOW(torch.nn.Module):\n",
    "\n",
    "    def __init__(self, vocab_size, embedding_dim=100):\n",
    "        super(CBOW, self).__init__()\n",
    "        self.embeddings = nn.Embedding(vocab_size, embedding_dim)\n",
    "        self.linear1 = nn.Linear(embedding_dim, 100)\n",
    "        self.activation_function1 = nn.ReLU()        \n",
    "        self.linear2 = nn.Linear(100, vocab_size)\n",
    "        self.activation_function2 = nn.LogSoftmax(dim = -1)\n",
    "        \n",
    "\n",
    "    def forward(self, inputs):\n",
    "        embeds = sum(self.embeddings(inputs)).view(1,-1)\n",
    "        out = self.linear1(embeds)\n",
    "        out = self.activation_function1(out)\n",
    "        out = self.linear2(out)\n",
    "        out = self.activation_function2(out)\n",
    "        return out\n",
    "    \n",
    "EMBEDDING_DIM=100\n",
    "model = CBOW(vocab_size,EMBEDDING_DIM)"
   ]
  },
  {
   "cell_type": "markdown",
   "metadata": {},
   "source": [
    "Remember to move your model to GPU because now we are training with a lot of corpus."
   ]
  },
  {
   "cell_type": "code",
   "execution_count": 18,
   "metadata": {},
   "outputs": [
    {
     "data": {
      "text/plain": [
       "CBOW(\n",
       "  (embeddings): Embedding(2379, 100)\n",
       "  (linear1): Linear(in_features=100, out_features=100, bias=True)\n",
       "  (activation_function1): ReLU()\n",
       "  (linear2): Linear(in_features=100, out_features=2379, bias=True)\n",
       "  (activation_function2): LogSoftmax()\n",
       ")"
      ]
     },
     "execution_count": 18,
     "metadata": {},
     "output_type": "execute_result"
    }
   ],
   "source": [
    "# Move model to GPU\n",
    "\n",
    "dev = torch.device(\n",
    "    \"cuda\") if torch.cuda.is_available() else torch.device(\"cpu\")\n",
    "\n",
    "model.to(dev)"
   ]
  },
  {
   "cell_type": "markdown",
   "metadata": {},
   "source": [
    "Then we train the model and print the loss. Loss should decrease every iteration over the training data. Play with the epochs numbers here, recommend 200 or above."
   ]
  },
  {
   "cell_type": "code",
   "execution_count": 19,
   "metadata": {},
   "outputs": [
    {
     "name": "stdout",
     "output_type": "stream",
     "text": [
      "Epoch: 0 \tLoss: 7.469905202936662\n"
     ]
    }
   ],
   "source": [
    "#TRAINING\n",
    "\n",
    "loss_function = nn.NLLLoss()\n",
    "optimizer = torch.optim.SGD(model.parameters(), lr=0.001)\n",
    "\n",
    "\n",
    "\n",
    "for epoch in range(0, 200):\n",
    "    total_loss = 0.\n",
    "    i = 0\n",
    "\n",
    "    for context, target in zip(X,Y):\n",
    "        \n",
    "        # Step 1. Recall that torch *accumulates* gradients. Before passing in a\n",
    "        # new instance, you need to zero out the gradients from the old\n",
    "        # instance\n",
    "        model.zero_grad()\n",
    "\n",
    "        # Step 2. Run the forward pass, getting log probabilities.\n",
    "        log_probs = model(context.to(dev))\n",
    "\n",
    "        # Step 3. Compute your loss function. \n",
    "        loss = loss_function(log_probs,target.to(dev))\n",
    "\n",
    "        # Step 5. Do the backward pass and update the gradient\n",
    "        loss.backward()\n",
    "        optimizer.step()\n",
    "\n",
    "\n",
    "        # Get the Python number from a 1-element Tensor by calling tensor.item()\n",
    "        total_loss += loss.item()\n",
    "    average_loss= total_loss/len(X)\n",
    "    print('Epoch:', epoch, '\\tLoss:', average_loss)  # The loss decreased every iteration over the training data!\n",
    "    \n",
    "  "
   ]
  },
  {
   "cell_type": "markdown",
   "metadata": {},
   "source": [
    "# Practical. 3: Analogy Task"
   ]
  },
  {
   "cell_type": "markdown",
   "metadata": {},
   "source": [
    "\n",
    "\n",
    "\n",
    "**Reading material**\n",
    "* [1] Mikolov, Tomas, et al. \"[Efficient Estimation of Word Representations in Vector Space](https://arxiv.org/abs/1301.3781)\" Advances in neural information processing systems. 2013. \n"
   ]
  },
  {
   "cell_type": "markdown",
   "metadata": {},
   "source": [
    "Implement your own function to perform the analogy task (see [1] for concrete examples). Use the same distance metric as in [1]. Your function should be able to answer whether an analogy like: \"a king is to a queen as a man is to a woman\" ($e_{king} - e_{queen} + e_{woman} \\approx e_{man}$) is true. \n",
    "\n",
    "In a perfect scenario, we would like that this analogy ($e_{king} - e_{queen} + e_{woman}$) results in the embedding of the word \"man\". However, it does not always result in exactly the same word embedding. The result of the formula is called the expected or the predicted word embedding. In this context, \"man\" is called the true or the actual word $t$. We want to find the word $p$ in the vocabulary, where the embedding of $p$ ($e_p$) is the closest to the predicted embedding (i.e. result of the formula). Then, we can check if $p$ is the same word as the true word $t$.  \n",
    "\n",
    "You have to answer an analogy function using each embedding for  CBOW model. Show the true word (with distance similarity value between predicted embedding and true word embedding, i.e. `sim1`) , the predicted word (with distance similarity value between predicted embedding and the embedding of the word in the vocabulary that is closest to this predicted embedding, i.e. `sim2`).\n",
    "\n",
    "Since `Alice in wonder land` is a relatively small dataset to training the model for the analogy task,  we may find it is difficult to get the correct answer by searching the nearest word embedding. Therefore, we extend the predicted word to the nearest `nr` number of words and check if the true word is within them. Do not expect the `nr` to be very small, it could be hundreds.\n",
    "\n"
   ]
  },
  {
   "cell_type": "markdown",
   "metadata": {},
   "source": [
    "<b>HINT</b>: to visualize the results of the analogy tasks , you can print them in a table. An example is given below.\n",
    "\n",
    "\n",
    "| Analogy task | True word (sim1)  | Predicted nearaest word (sim2) | Correct? |True word within the top `nr` nearest word?|\n",
    "|:------:|:------:|:------:|:------:|:------:|\n",
    "|  queen is to king as woman is to ?\t | man (sim1) | predictd_word(sim2) | True / False |   True / False|"
   ]
  },
  {
   "cell_type": "code",
   "execution_count": 20,
   "metadata": {},
   "outputs": [],
   "source": [
    "analogy=('queen', 'king', 'woman', 'man')"
   ]
  },
  {
   "cell_type": "markdown",
   "metadata": {},
   "source": [
    "First let us extract the embeddings of all vocabularies for the following task"
   ]
  },
  {
   "cell_type": "code",
   "execution_count": 21,
   "metadata": {},
   "outputs": [],
   "source": [
    "embeddings = model.embeddings(torch.Tensor([list(range(0,vocab_size))]).long().to(dev))\n",
    "embeddings = embeddings.view(-1,100)\n",
    "embeddings = embeddings.cpu().detach().numpy()"
   ]
  },
  {
   "cell_type": "markdown",
   "metadata": {},
   "source": [
    "Then we define a 'get_nearest_words' function to retrive the nearest 'nr' words to a certain word embedding"
   ]
  },
  {
   "cell_type": "code",
   "execution_count": 22,
   "metadata": {},
   "outputs": [],
   "source": [
    "from scipy.spatial.distance import cdist"
   ]
  },
  {
   "cell_type": "code",
   "execution_count": 23,
   "metadata": {},
   "outputs": [],
   "source": [
    "def get_nearest_words(word_embed, ix_to_word,embeddings, nr=10):\n",
    "\n",
    "    distances= cdist(word_embed[np.newaxis, :],embeddings, \"cosine\")[0]\n",
    "    # Sort distances and store the indices of the `nr` lowest distances \n",
    "    top_sorted_indices = distances.argsort()[:nr]\n",
    "\n",
    "    top_words = [ix_to_word[str(i)]    for i in top_sorted_indices]\n",
    "\n",
    "    values = [distances[i] for i in top_sorted_indices]\n",
    "    \n",
    "    return list(zip(top_words, values))"
   ]
  },
  {
   "cell_type": "markdown",
   "metadata": {},
   "source": [
    "Now let's search for the nearest `one` and `nr` words of the predicted word embedding, and print the analogy"
   ]
  },
  {
   "cell_type": "code",
   "execution_count": 24,
   "metadata": {},
   "outputs": [],
   "source": [
    "def print_analogy(analogy, embeddings, ix_to_word,word_to_ix, nr=10):\n",
    "    # Retrieve the words from the analogy we need to compute\n",
    "    word_a, word_b, word_c, word_true = analogy\n",
    "\n",
    "    # Formulate the analogy task\n",
    "    analogy_task = f\"{word_a} is to {word_b} as {word_c} is to ?\"\n",
    "\n",
    "    print(f\"Analogy Task: {analogy_task}\")\n",
    "    print(\"---------------------------------------------------\")\n",
    "\n",
    "    # Obtain embeddings for all the words\n",
    "    embed_true =  embeddings[word_to_ix[word_true]]\n",
    "    embed_a=embeddings[word_to_ix[word_a]]\n",
    "    embed_b=embeddings[word_to_ix[word_b]]\n",
    "    embed_c=embeddings[word_to_ix[word_c]]\n",
    "\n",
    "\n",
    "    # Obtain the predicted embedding based on the analogy function\n",
    "    embed_prediction = embed_b - embed_a + embed_c\n",
    "\n",
    "\n",
    "    # The true word with distance similarity value between predicted embedding and true word embedding,\n",
    "    # also denoted `sim1` in the text above\n",
    "    sim1 = cdist(embed_true[np.newaxis, :],embed_prediction[np.newaxis, :],\"cosine\")[0][0]\n",
    "\n",
    "\n",
    "    # The predicted word with distance similarity value between predicted embedding and the embedding of the word\n",
    "    # in the vocabulary that is closest to this predicted embedding\n",
    "    word_prediction, sim2 = get_nearest_words(embed_prediction, ix_to_word,embeddings)[0]\n",
    "\n",
    "    nearest_words = get_nearest_words(embed_prediction, ix_to_word,embeddings,nr)\n",
    "\n",
    "    # Print whether or not the true word was in the top nr \n",
    "    partially_correct = word_true in [word[0] for word in nearest_words]\n",
    "\n",
    "\n",
    "    # Print all top nr words with their distance\n",
    "    for word in nearest_words:\n",
    "        print(f\"{word[0]} => {word[1]:.4f}\")\n",
    "    print(f\"Predicted: {word_prediction} ({sim2 :.4f}) - True: {word_true} ({sim1:.4f})\")\n",
    "    print(f\"Correct? {word_prediction == word_true} - In the top {nr}? {partially_correct}\")\n",
    "    print(\"---------------------------------------------------\")"
   ]
  },
  {
   "cell_type": "code",
   "execution_count": 26,
   "metadata": {},
   "outputs": [],
   "source": [
    "print_analogy(analogy, embeddings, ix_to_word,word_to_ix, nr=50)"
   ]
  }
 ],
 "metadata": {
  "colab": {
   "include_colab_link": true,
   "name": "P1.2_Word_embedding_answer.ipynb",
   "provenance": []
  },
  "kernelspec": {
   "display_name": "Python 3",
   "language": "python",
   "name": "python3"
  },
  "language_info": {
   "codemirror_mode": {
    "name": "ipython",
    "version": 3
   },
   "file_extension": ".py",
   "mimetype": "text/x-python",
   "name": "python",
   "nbconvert_exporter": "python",
   "pygments_lexer": "ipython3",
   "version": "3.7.4"
  }
 },
 "nbformat": 4,
 "nbformat_minor": 1
}
